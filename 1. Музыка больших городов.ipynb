{
 "cells": [
  {
   "cell_type": "markdown",
   "metadata": {
    "id": "VUC88oWjTJw2"
   },
   "source": [
    "# Исследование поведения пользователей Яндекс.Музыки из Москвы и Санкт-Петербурга.\n",
    "\n",
    "На данных Яндекс.Музыки сравним поведение пользователей двух столиц.\n",
    "\n",
    "**Цель исследования** — проверить три гипотезы:\n",
    "1. Активность пользователей зависит от дня недели. Причём в Москве и Петербурге это проявляется по-разному.\n",
    "2. В понедельник утром в Москве преобладают одни жанры, а в Петербурге — другие. Так же и вечером пятницы преобладают разные жанры — в зависимости от города. \n",
    "3. Москва и Петербург предпочитают разные жанры музыки. В Москве чаще слушают поп-музыку, в Петербурге — русский рэп.\n",
    "\n",
    "**Ход исследования**\n",
    "\n",
    "Данные о поведении пользователей получим из файла `yandex_music_project.csv`. О качестве данных ничего не известно. Поэтому перед проверкой гипотез понадобится обзор данных. \n",
    "\n",
    "Проверим данные на ошибки и оценим их влияние на исследование. Затем, на этапе предобработки исправим самые критичные ошибки данных.\n",
    " \n",
    "Таким образом, исследование пройдёт в три этапа:\n",
    " 1. Обзор данных.\n",
    " 2. Предобработка данных.\n",
    " 3. Проверка гипотез."
   ]
  },
  {
   "cell_type": "markdown",
   "metadata": {
    "id": "Ml1hmfXC_Zcs"
   },
   "source": [
    "## Обзор данных\n",
    "\n",
    "Изучим данные, предоставленные для проекта."
   ]
  },
  {
   "cell_type": "code",
   "execution_count": 1,
   "metadata": {
    "id": "AXN7PHPN_Zcs"
   },
   "outputs": [],
   "source": [
    "import pandas as pd"
   ]
  },
  {
   "cell_type": "code",
   "execution_count": 2,
   "metadata": {
    "id": "fFVu7vqh_Zct"
   },
   "outputs": [],
   "source": [
    "df = pd.read_csv(r'C:\\Users\\ANN\\Downloads/yandex_music_project.csv')    "
   ]
  },
  {
   "cell_type": "code",
   "execution_count": 3,
   "metadata": {
    "id": "oWTVX3gW_Zct"
   },
   "outputs": [
    {
     "data": {
      "text/html": [
       "<div>\n",
       "<style scoped>\n",
       "    .dataframe tbody tr th:only-of-type {\n",
       "        vertical-align: middle;\n",
       "    }\n",
       "\n",
       "    .dataframe tbody tr th {\n",
       "        vertical-align: top;\n",
       "    }\n",
       "\n",
       "    .dataframe thead th {\n",
       "        text-align: right;\n",
       "    }\n",
       "</style>\n",
       "<table border=\"1\" class=\"dataframe\">\n",
       "  <thead>\n",
       "    <tr style=\"text-align: right;\">\n",
       "      <th></th>\n",
       "      <th>userID</th>\n",
       "      <th>Track</th>\n",
       "      <th>artist</th>\n",
       "      <th>genre</th>\n",
       "      <th>City</th>\n",
       "      <th>time</th>\n",
       "      <th>Day</th>\n",
       "    </tr>\n",
       "  </thead>\n",
       "  <tbody>\n",
       "    <tr>\n",
       "      <th>0</th>\n",
       "      <td>FFB692EC</td>\n",
       "      <td>Kamigata To Boots</td>\n",
       "      <td>The Mass Missile</td>\n",
       "      <td>rock</td>\n",
       "      <td>Saint-Petersburg</td>\n",
       "      <td>20:28:33</td>\n",
       "      <td>Wednesday</td>\n",
       "    </tr>\n",
       "    <tr>\n",
       "      <th>1</th>\n",
       "      <td>55204538</td>\n",
       "      <td>Delayed Because of Accident</td>\n",
       "      <td>Andreas Rönnberg</td>\n",
       "      <td>rock</td>\n",
       "      <td>Moscow</td>\n",
       "      <td>14:07:09</td>\n",
       "      <td>Friday</td>\n",
       "    </tr>\n",
       "    <tr>\n",
       "      <th>2</th>\n",
       "      <td>20EC38</td>\n",
       "      <td>Funiculì funiculà</td>\n",
       "      <td>Mario Lanza</td>\n",
       "      <td>pop</td>\n",
       "      <td>Saint-Petersburg</td>\n",
       "      <td>20:58:07</td>\n",
       "      <td>Wednesday</td>\n",
       "    </tr>\n",
       "    <tr>\n",
       "      <th>3</th>\n",
       "      <td>A3DD03C9</td>\n",
       "      <td>Dragons in the Sunset</td>\n",
       "      <td>Fire + Ice</td>\n",
       "      <td>folk</td>\n",
       "      <td>Saint-Petersburg</td>\n",
       "      <td>08:37:09</td>\n",
       "      <td>Monday</td>\n",
       "    </tr>\n",
       "    <tr>\n",
       "      <th>4</th>\n",
       "      <td>E2DC1FAE</td>\n",
       "      <td>Soul People</td>\n",
       "      <td>Space Echo</td>\n",
       "      <td>dance</td>\n",
       "      <td>Moscow</td>\n",
       "      <td>08:34:34</td>\n",
       "      <td>Monday</td>\n",
       "    </tr>\n",
       "    <tr>\n",
       "      <th>5</th>\n",
       "      <td>842029A1</td>\n",
       "      <td>Преданная</td>\n",
       "      <td>IMPERVTOR</td>\n",
       "      <td>rusrap</td>\n",
       "      <td>Saint-Petersburg</td>\n",
       "      <td>13:09:41</td>\n",
       "      <td>Friday</td>\n",
       "    </tr>\n",
       "    <tr>\n",
       "      <th>6</th>\n",
       "      <td>4CB90AA5</td>\n",
       "      <td>True</td>\n",
       "      <td>Roman Messer</td>\n",
       "      <td>dance</td>\n",
       "      <td>Moscow</td>\n",
       "      <td>13:00:07</td>\n",
       "      <td>Wednesday</td>\n",
       "    </tr>\n",
       "    <tr>\n",
       "      <th>7</th>\n",
       "      <td>F03E1C1F</td>\n",
       "      <td>Feeling This Way</td>\n",
       "      <td>Polina Griffith</td>\n",
       "      <td>dance</td>\n",
       "      <td>Moscow</td>\n",
       "      <td>20:47:49</td>\n",
       "      <td>Wednesday</td>\n",
       "    </tr>\n",
       "    <tr>\n",
       "      <th>8</th>\n",
       "      <td>8FA1D3BE</td>\n",
       "      <td>И вновь продолжается бой</td>\n",
       "      <td>NaN</td>\n",
       "      <td>ruspop</td>\n",
       "      <td>Moscow</td>\n",
       "      <td>09:17:40</td>\n",
       "      <td>Friday</td>\n",
       "    </tr>\n",
       "    <tr>\n",
       "      <th>9</th>\n",
       "      <td>E772D5C0</td>\n",
       "      <td>Pessimist</td>\n",
       "      <td>NaN</td>\n",
       "      <td>dance</td>\n",
       "      <td>Saint-Petersburg</td>\n",
       "      <td>21:20:49</td>\n",
       "      <td>Wednesday</td>\n",
       "    </tr>\n",
       "  </tbody>\n",
       "</table>\n",
       "</div>"
      ],
      "text/plain": [
       "     userID                        Track            artist   genre  \\\n",
       "0  FFB692EC            Kamigata To Boots  The Mass Missile    rock   \n",
       "1  55204538  Delayed Because of Accident  Andreas Rönnberg    rock   \n",
       "2    20EC38            Funiculì funiculà       Mario Lanza     pop   \n",
       "3  A3DD03C9        Dragons in the Sunset        Fire + Ice    folk   \n",
       "4  E2DC1FAE                  Soul People        Space Echo   dance   \n",
       "5  842029A1                    Преданная         IMPERVTOR  rusrap   \n",
       "6  4CB90AA5                         True      Roman Messer   dance   \n",
       "7  F03E1C1F             Feeling This Way   Polina Griffith   dance   \n",
       "8  8FA1D3BE     И вновь продолжается бой               NaN  ruspop   \n",
       "9  E772D5C0                    Pessimist               NaN   dance   \n",
       "\n",
       "             City        time        Day  \n",
       "0  Saint-Petersburg  20:28:33  Wednesday  \n",
       "1            Moscow  14:07:09     Friday  \n",
       "2  Saint-Petersburg  20:58:07  Wednesday  \n",
       "3  Saint-Petersburg  08:37:09     Monday  \n",
       "4            Moscow  08:34:34     Monday  \n",
       "5  Saint-Petersburg  13:09:41     Friday  \n",
       "6            Moscow  13:00:07  Wednesday  \n",
       "7            Moscow  20:47:49  Wednesday  \n",
       "8            Moscow  09:17:40     Friday  \n",
       "9  Saint-Petersburg  21:20:49  Wednesday  "
      ]
     },
     "execution_count": 3,
     "metadata": {},
     "output_type": "execute_result"
    }
   ],
   "source": [
    " df.head(10) "
   ]
  },
  {
   "cell_type": "markdown",
   "metadata": {
    "id": "EO73Kwic_Zct"
   },
   "source": [
    "Получим общую информацию о таблице:"
   ]
  },
  {
   "cell_type": "code",
   "execution_count": 4,
   "metadata": {
    "id": "DSf2kIb-_Zct"
   },
   "outputs": [
    {
     "name": "stdout",
     "output_type": "stream",
     "text": [
      "<class 'pandas.core.frame.DataFrame'>\n",
      "RangeIndex: 65079 entries, 0 to 65078\n",
      "Data columns (total 7 columns):\n",
      " #   Column    Non-Null Count  Dtype \n",
      "---  ------    --------------  ----- \n",
      " 0     userID  65079 non-null  object\n",
      " 1   Track     63848 non-null  object\n",
      " 2   artist    57876 non-null  object\n",
      " 3   genre     63881 non-null  object\n",
      " 4     City    65079 non-null  object\n",
      " 5   time      65079 non-null  object\n",
      " 6   Day       65079 non-null  object\n",
      "dtypes: object(7)\n",
      "memory usage: 3.5+ MB\n"
     ]
    }
   ],
   "source": [
    "df.info()   "
   ]
  },
  {
   "cell_type": "markdown",
   "metadata": {
    "id": "TaQ2Iwbr_Zct"
   },
   "source": [
    "Итак, в таблице семь столбцов. Тип данных во всех столбцах — `object`.\n",
    "\n",
    "Согласно документации к данным:\n",
    "* `userID` — идентификатор пользователя;\n",
    "* `Track` — название трека;  \n",
    "* `artist` — имя исполнителя;\n",
    "* `genre` — название жанра;\n",
    "* `City` — город пользователя;\n",
    "* `time` — время начала прослушивания;\n",
    "* `Day` — день недели.\n",
    "\n",
    "В названиях колонок видны три нарушения стиля:\n",
    "1. Строчные буквы сочетаются с прописными.\n",
    "2. Встречаются пробелы.\n",
    "3. Количество значений в столбцах различается, в данных есть пропущенные значения."
   ]
  },
  {
   "cell_type": "markdown",
   "metadata": {
    "id": "MCB6-dXG_Zct"
   },
   "source": [
    "**Выводы**\n",
    "\n",
    "В каждой строке таблицы — данные о прослушанном треке. Часть колонок описывает саму композицию: название, исполнителя и жанр. Остальные данные рассказывают о пользователе: из какого он города, когда он слушал музыку. \n",
    "\n",
    "Предварительно можно утверждать, что, данных достаточно для проверки гипотез. Но встречаются пропуски в данных, а в названиях колонок — расхождения с хорошим стилем.\n",
    "\n",
    "Чтобы двигаться дальше, нужно устранить проблемы в данных."
   ]
  },
  {
   "cell_type": "markdown",
   "metadata": {
    "id": "SjYF6Ub9_Zct"
   },
   "source": [
    "## Предобработка данных\n",
    "Исправим стиль в заголовках столбцов, исключим пропуски. Затем проверим данные на дубликаты."
   ]
  },
  {
   "cell_type": "markdown",
   "metadata": {
    "id": "dIaKXr29_Zct"
   },
   "source": [
    "### Стиль заголовков\n",
    "Выведим названия столбцов:"
   ]
  },
  {
   "cell_type": "code",
   "execution_count": 5,
   "metadata": {
    "id": "oKOTdF_Q_Zct"
   },
   "outputs": [
    {
     "data": {
      "text/plain": [
       "Index(['  userID', 'Track', 'artist', 'genre', '  City  ', 'time', 'Day'], dtype='object')"
      ]
     },
     "execution_count": 5,
     "metadata": {},
     "output_type": "execute_result"
    }
   ],
   "source": [
    "df.columns   "
   ]
  },
  {
   "cell_type": "markdown",
   "metadata": {
    "id": "zj5534cv_Zct"
   },
   "source": [
    "Приведем названия в соответствие с хорошим стилем:\n",
    "* несколько слов в названии запишите в «змеином_регистре»,\n",
    "* все символы сделаем строчными,\n",
    "* устраним пробелы.\n",
    "\n",
    "Для этого переименуем колонки так:\n",
    "* `'  userID'` → `'user_id'`;\n",
    "* `'Track'` → `'track'`;\n",
    "* `'  City  '` → `'city'`;\n",
    "* `'Day'` → `'day'`."
   ]
  },
  {
   "cell_type": "code",
   "execution_count": 6,
   "metadata": {
    "id": "ISlFqs5y_Zct"
   },
   "outputs": [],
   "source": [
    "df = df.rename(columns={'  userID':'user_id', 'Track':'track', '  City  ':'city', 'Day':'day'}) "
   ]
  },
  {
   "cell_type": "markdown",
   "metadata": {
    "id": "1dqbh00J_Zct"
   },
   "source": [
    "Проверим результат. Для этого ещё раз выведем на экран названия столбцов:"
   ]
  },
  {
   "cell_type": "code",
   "execution_count": 7,
   "metadata": {
    "id": "d4NOAmTW_Zct"
   },
   "outputs": [
    {
     "data": {
      "text/plain": [
       "Index(['user_id', 'track', 'artist', 'genre', 'city', 'time', 'day'], dtype='object')"
      ]
     },
     "execution_count": 7,
     "metadata": {},
     "output_type": "execute_result"
    }
   ],
   "source": [
    "df.columns"
   ]
  },
  {
   "cell_type": "markdown",
   "metadata": {
    "id": "5ISfbcfY_Zct"
   },
   "source": [
    "### Пропуски значений\n",
    "Сначала посчитаем, сколько в таблице пропущенных значений."
   ]
  },
  {
   "cell_type": "code",
   "execution_count": 8,
   "metadata": {
    "id": "RskX29qr_Zct"
   },
   "outputs": [
    {
     "data": {
      "text/plain": [
       "user_id       0\n",
       "track      1231\n",
       "artist     7203\n",
       "genre      1198\n",
       "city          0\n",
       "time          0\n",
       "day           0\n",
       "dtype: int64"
      ]
     },
     "execution_count": 8,
     "metadata": {},
     "output_type": "execute_result"
    }
   ],
   "source": [
    "df.isna().sum()        "
   ]
  },
  {
   "cell_type": "markdown",
   "metadata": {
    "id": "qubhgnlO_Zct"
   },
   "source": [
    "Не все пропущенные значения влияют на исследование. Так в `track` и `artist` пропуски не важны для нашей работы. Достаточно заменить их явными обозначениями.\n",
    "\n",
    "Но пропуски в `genre` могут помешать сравнению музыкальных вкусов в Москве и Санкт-Петербурге. На практике было бы правильно установить причину пропусков и восстановить данные. Такой возможности нет в учебном проекте. Придётся:\n",
    "* заполнить и эти пропуски явными обозначениями,\n",
    "* оценить, насколько они повредят расчётам. "
   ]
  },
  {
   "cell_type": "markdown",
   "metadata": {
    "id": "fSv2laPA_Zct"
   },
   "source": [
    "Заменим пропущенные значения в столбцах `track`, `artist` и `genre` на строку `'unknown'`. Для этого создадим список `columns_to_replace`, переберем его элементы циклом `for` и для каждого столбца выполним замену пропущенных значений:"
   ]
  },
  {
   "cell_type": "code",
   "execution_count": 9,
   "metadata": {
    "id": "KplB5qWs_Zct"
   },
   "outputs": [],
   "source": [
    "columns_to_replace = ['track', 'artist', 'genre']\n",
    "\n",
    "for column in columns_to_replace:\n",
    "    df[column] = df[column].fillna('unknown')"
   ]
  },
  {
   "cell_type": "markdown",
   "metadata": {
    "id": "Ilsm-MZo_Zct"
   },
   "source": [
    "Убедимся, что в таблице не осталось пропусков. Для этого ещё раз посчитаем пропущенные значения."
   ]
  },
  {
   "cell_type": "code",
   "execution_count": 10,
   "metadata": {
    "id": "Tq4nYRX4_Zct"
   },
   "outputs": [
    {
     "data": {
      "text/plain": [
       "user_id    0\n",
       "track      0\n",
       "artist     0\n",
       "genre      0\n",
       "city       0\n",
       "time       0\n",
       "day        0\n",
       "dtype: int64"
      ]
     },
     "execution_count": 10,
     "metadata": {},
     "output_type": "execute_result"
    }
   ],
   "source": [
    "df.isna().sum()"
   ]
  },
  {
   "cell_type": "markdown",
   "metadata": {
    "id": "BWKRtBJ3_Zct"
   },
   "source": [
    "### Дубликаты\n",
    "Посчитаем явные дубликаты в таблице:"
   ]
  },
  {
   "cell_type": "code",
   "execution_count": 11,
   "metadata": {
    "id": "36eES_S0_Zct"
   },
   "outputs": [
    {
     "data": {
      "text/plain": [
       "3826"
      ]
     },
     "execution_count": 11,
     "metadata": {},
     "output_type": "execute_result"
    }
   ],
   "source": [
    "df.duplicated().sum() "
   ]
  },
  {
   "cell_type": "markdown",
   "metadata": {
    "id": "Ot25h6XR_Zct"
   },
   "source": [
    "Удалим явные дубликаты."
   ]
  },
  {
   "cell_type": "code",
   "execution_count": 12,
   "metadata": {},
   "outputs": [],
   "source": [
    "df = df.drop_duplicates().reset_index(drop=True)"
   ]
  },
  {
   "cell_type": "markdown",
   "metadata": {
    "id": "Im2YwBEG_Zct"
   },
   "source": [
    "Ещё раз посчитаем явные дубликаты в таблице — убедимся, что полностью от них избавились."
   ]
  },
  {
   "cell_type": "code",
   "execution_count": 13,
   "metadata": {
    "id": "-8PuNWQ0_Zct"
   },
   "outputs": [
    {
     "data": {
      "text/plain": [
       "0"
      ]
     },
     "execution_count": 13,
     "metadata": {},
     "output_type": "execute_result"
    }
   ],
   "source": [
    "df.duplicated().sum() "
   ]
  },
  {
   "cell_type": "markdown",
   "metadata": {
    "id": "QlFBsxAr_Zct"
   },
   "source": [
    "Теперь избавимся от неявных дубликатов в колонке `genre`. Например, название одного и того же жанра может быть записано немного по-разному. Такие ошибки тоже повлияют на результат исследования."
   ]
  },
  {
   "cell_type": "markdown",
   "metadata": {
    "id": "eSjWwsOh_Zct"
   },
   "source": [
    "Выведем на экран список уникальных названий жанров, отсортированный в алфавитном порядке. Для этого:\n",
    "* извлечем нужный столбец датафрейма, \n",
    "* применим к нему метод сортировки,\n",
    "* для отсортированного столбца вызовем метод, который вернёт уникальные значения из столбца."
   ]
  },
  {
   "cell_type": "code",
   "execution_count": 14,
   "metadata": {
    "id": "JIUcqzZN_Zct"
   },
   "outputs": [
    {
     "data": {
      "text/plain": [
       "array(['acid', 'acoustic', 'action', 'adult', 'africa', 'afrikaans',\n",
       "       'alternative', 'alternativepunk', 'ambient', 'americana',\n",
       "       'animated', 'anime', 'arabesk', 'arabic', 'arena',\n",
       "       'argentinetango', 'art', 'audiobook', 'author', 'avantgarde',\n",
       "       'axé', 'baile', 'balkan', 'beats', 'bigroom', 'black', 'bluegrass',\n",
       "       'blues', 'bollywood', 'bossa', 'brazilian', 'breakbeat', 'breaks',\n",
       "       'broadway', 'cantautori', 'cantopop', 'canzone', 'caribbean',\n",
       "       'caucasian', 'celtic', 'chamber', 'chanson', 'children', 'chill',\n",
       "       'chinese', 'choral', 'christian', 'christmas', 'classical',\n",
       "       'classicmetal', 'club', 'colombian', 'comedy', 'conjazz',\n",
       "       'contemporary', 'country', 'cuban', 'dance', 'dancehall',\n",
       "       'dancepop', 'dark', 'death', 'deep', 'deutschrock', 'deutschspr',\n",
       "       'dirty', 'disco', 'dnb', 'documentary', 'downbeat', 'downtempo',\n",
       "       'drum', 'dub', 'dubstep', 'eastern', 'easy', 'electronic',\n",
       "       'electropop', 'emo', 'entehno', 'epicmetal', 'estrada', 'ethnic',\n",
       "       'eurofolk', 'european', 'experimental', 'extrememetal', 'fado',\n",
       "       'fairytail', 'film', 'fitness', 'flamenco', 'folk', 'folklore',\n",
       "       'folkmetal', 'folkrock', 'folktronica', 'forró', 'frankreich',\n",
       "       'französisch', 'french', 'funk', 'future', 'gangsta', 'garage',\n",
       "       'german', 'ghazal', 'gitarre', 'glitch', 'gospel', 'gothic',\n",
       "       'grime', 'grunge', 'gypsy', 'handsup', \"hard'n'heavy\", 'hardcore',\n",
       "       'hardstyle', 'hardtechno', 'hip', 'hip-hop', 'hiphop',\n",
       "       'historisch', 'holiday', 'hop', 'horror', 'house', 'hymn', 'idm',\n",
       "       'independent', 'indian', 'indie', 'indipop', 'industrial',\n",
       "       'inspirational', 'instrumental', 'international', 'irish', 'jam',\n",
       "       'japanese', 'jazz', 'jewish', 'jpop', 'jungle', 'k-pop',\n",
       "       'karadeniz', 'karaoke', 'kayokyoku', 'korean', 'laiko', 'latin',\n",
       "       'latino', 'leftfield', 'local', 'lounge', 'loungeelectronic',\n",
       "       'lovers', 'malaysian', 'mandopop', 'marschmusik', 'meditative',\n",
       "       'mediterranean', 'melodic', 'metal', 'metalcore', 'mexican',\n",
       "       'middle', 'minimal', 'miscellaneous', 'modern', 'mood', 'mpb',\n",
       "       'muslim', 'native', 'neoklassik', 'neue', 'new', 'newage',\n",
       "       'newwave', 'nu', 'nujazz', 'numetal', 'oceania', 'old', 'opera',\n",
       "       'orchestral', 'other', 'piano', 'podcasts', 'pop', 'popdance',\n",
       "       'popelectronic', 'popeurodance', 'poprussian', 'post',\n",
       "       'posthardcore', 'postrock', 'power', 'progmetal', 'progressive',\n",
       "       'psychedelic', 'punjabi', 'punk', 'quebecois', 'ragga', 'ram',\n",
       "       'rancheras', 'rap', 'rave', 'reggae', 'reggaeton', 'regional',\n",
       "       'relax', 'religious', 'retro', 'rhythm', 'rnb', 'rnr', 'rock',\n",
       "       'rockabilly', 'rockalternative', 'rockindie', 'rockother',\n",
       "       'romance', 'roots', 'ruspop', 'rusrap', 'rusrock', 'russian',\n",
       "       'salsa', 'samba', 'scenic', 'schlager', 'self', 'sertanejo',\n",
       "       'shanson', 'shoegazing', 'showtunes', 'singer', 'ska', 'skarock',\n",
       "       'slow', 'smooth', 'soft', 'soul', 'soulful', 'sound', 'soundtrack',\n",
       "       'southern', 'specialty', 'speech', 'spiritual', 'sport',\n",
       "       'stonerrock', 'surf', 'swing', 'synthpop', 'synthrock',\n",
       "       'sängerportrait', 'tango', 'tanzorchester', 'taraftar', 'tatar',\n",
       "       'tech', 'techno', 'teen', 'thrash', 'top', 'traditional',\n",
       "       'tradjazz', 'trance', 'tribal', 'trip', 'triphop', 'tropical',\n",
       "       'türk', 'türkçe', 'ukrrock', 'unknown', 'urban', 'uzbek',\n",
       "       'variété', 'vi', 'videogame', 'vocal', 'western', 'world',\n",
       "       'worldbeat', 'ïîï', 'электроника'], dtype=object)"
      ]
     },
     "execution_count": 14,
     "metadata": {},
     "output_type": "execute_result"
    }
   ],
   "source": [
    "df['genre'].sort_values().unique()"
   ]
  },
  {
   "cell_type": "markdown",
   "metadata": {
    "id": "qej-Qmuo_Zct"
   },
   "source": [
    "В списке есть неявные дубликаты названия `hiphop`. Это могут быть названия с ошибками или альтернативные названия того же жанра. Например:\n",
    "\n",
    "* *hip*,\n",
    "* *hop*,\n",
    "* *hip-hop*.\n",
    "\n",
    "Чтобы очистить от них таблицу, напишем функцию `replace_wrong_genres()` с двумя параметрами: \n",
    "* `wrong_genres` — список дубликатов,\n",
    "* `correct_genre` — строка с правильным значением.\n",
    "\n",
    "Функция должна исправить колонку `genre` в таблице `df`: заменить каждое значение из списка `wrong_genres` на значение из `correct_genre`."
   ]
  },
  {
   "cell_type": "code",
   "execution_count": 15,
   "metadata": {},
   "outputs": [],
   "source": [
    "def replace_wrong_genres(wrong_genres,correct_genre):\n",
    "    for wrong_genre in wrong_genres:\n",
    "        df['genre'] = df['genre'].replace(wrong_genre,correct_genre)\n",
    "        \n",
    "duplicates = 'hip', 'hop', 'hip-hop'\n",
    "correct_name = 'hiphop'"
   ]
  },
  {
   "cell_type": "markdown",
   "metadata": {
    "id": "aDoBJxbA_Zct"
   },
   "source": [
    "Вызовем `replace_wrong_genres()` и передадим ей такие аргументы, чтобы она устранила неявные дубликаты: вместо `hip`, `hop` и `hip-hop` в таблице должно быть значение `hiphop`."
   ]
  },
  {
   "cell_type": "code",
   "execution_count": 16,
   "metadata": {
    "id": "YN5i2hpmSo09"
   },
   "outputs": [],
   "source": [
    "replace_wrong_genres(duplicates, correct_name)"
   ]
  },
  {
   "cell_type": "markdown",
   "metadata": {
    "id": "zQKF16_RG15m"
   },
   "source": [
    "Проверим, что заменили неправильные названия:\n",
    "\n",
    "*   hip\n",
    "*   hop\n",
    "*   hip-hop\n",
    "\n",
    "Выведем отсортированный список уникальных значений столбца `genre`:"
   ]
  },
  {
   "cell_type": "code",
   "execution_count": 17,
   "metadata": {
    "id": "wvixALnFG15m"
   },
   "outputs": [
    {
     "data": {
      "text/plain": [
       "array(['acid', 'acoustic', 'action', 'adult', 'africa', 'afrikaans',\n",
       "       'alternative', 'alternativepunk', 'ambient', 'americana',\n",
       "       'animated', 'anime', 'arabesk', 'arabic', 'arena',\n",
       "       'argentinetango', 'art', 'audiobook', 'author', 'avantgarde',\n",
       "       'axé', 'baile', 'balkan', 'beats', 'bigroom', 'black', 'bluegrass',\n",
       "       'blues', 'bollywood', 'bossa', 'brazilian', 'breakbeat', 'breaks',\n",
       "       'broadway', 'cantautori', 'cantopop', 'canzone', 'caribbean',\n",
       "       'caucasian', 'celtic', 'chamber', 'chanson', 'children', 'chill',\n",
       "       'chinese', 'choral', 'christian', 'christmas', 'classical',\n",
       "       'classicmetal', 'club', 'colombian', 'comedy', 'conjazz',\n",
       "       'contemporary', 'country', 'cuban', 'dance', 'dancehall',\n",
       "       'dancepop', 'dark', 'death', 'deep', 'deutschrock', 'deutschspr',\n",
       "       'dirty', 'disco', 'dnb', 'documentary', 'downbeat', 'downtempo',\n",
       "       'drum', 'dub', 'dubstep', 'eastern', 'easy', 'electronic',\n",
       "       'electropop', 'emo', 'entehno', 'epicmetal', 'estrada', 'ethnic',\n",
       "       'eurofolk', 'european', 'experimental', 'extrememetal', 'fado',\n",
       "       'fairytail', 'film', 'fitness', 'flamenco', 'folk', 'folklore',\n",
       "       'folkmetal', 'folkrock', 'folktronica', 'forró', 'frankreich',\n",
       "       'französisch', 'french', 'funk', 'future', 'gangsta', 'garage',\n",
       "       'german', 'ghazal', 'gitarre', 'glitch', 'gospel', 'gothic',\n",
       "       'grime', 'grunge', 'gypsy', 'handsup', \"hard'n'heavy\", 'hardcore',\n",
       "       'hardstyle', 'hardtechno', 'hiphop', 'historisch', 'holiday',\n",
       "       'horror', 'house', 'hymn', 'idm', 'independent', 'indian', 'indie',\n",
       "       'indipop', 'industrial', 'inspirational', 'instrumental',\n",
       "       'international', 'irish', 'jam', 'japanese', 'jazz', 'jewish',\n",
       "       'jpop', 'jungle', 'k-pop', 'karadeniz', 'karaoke', 'kayokyoku',\n",
       "       'korean', 'laiko', 'latin', 'latino', 'leftfield', 'local',\n",
       "       'lounge', 'loungeelectronic', 'lovers', 'malaysian', 'mandopop',\n",
       "       'marschmusik', 'meditative', 'mediterranean', 'melodic', 'metal',\n",
       "       'metalcore', 'mexican', 'middle', 'minimal', 'miscellaneous',\n",
       "       'modern', 'mood', 'mpb', 'muslim', 'native', 'neoklassik', 'neue',\n",
       "       'new', 'newage', 'newwave', 'nu', 'nujazz', 'numetal', 'oceania',\n",
       "       'old', 'opera', 'orchestral', 'other', 'piano', 'podcasts', 'pop',\n",
       "       'popdance', 'popelectronic', 'popeurodance', 'poprussian', 'post',\n",
       "       'posthardcore', 'postrock', 'power', 'progmetal', 'progressive',\n",
       "       'psychedelic', 'punjabi', 'punk', 'quebecois', 'ragga', 'ram',\n",
       "       'rancheras', 'rap', 'rave', 'reggae', 'reggaeton', 'regional',\n",
       "       'relax', 'religious', 'retro', 'rhythm', 'rnb', 'rnr', 'rock',\n",
       "       'rockabilly', 'rockalternative', 'rockindie', 'rockother',\n",
       "       'romance', 'roots', 'ruspop', 'rusrap', 'rusrock', 'russian',\n",
       "       'salsa', 'samba', 'scenic', 'schlager', 'self', 'sertanejo',\n",
       "       'shanson', 'shoegazing', 'showtunes', 'singer', 'ska', 'skarock',\n",
       "       'slow', 'smooth', 'soft', 'soul', 'soulful', 'sound', 'soundtrack',\n",
       "       'southern', 'specialty', 'speech', 'spiritual', 'sport',\n",
       "       'stonerrock', 'surf', 'swing', 'synthpop', 'synthrock',\n",
       "       'sängerportrait', 'tango', 'tanzorchester', 'taraftar', 'tatar',\n",
       "       'tech', 'techno', 'teen', 'thrash', 'top', 'traditional',\n",
       "       'tradjazz', 'trance', 'tribal', 'trip', 'triphop', 'tropical',\n",
       "       'türk', 'türkçe', 'ukrrock', 'unknown', 'urban', 'uzbek',\n",
       "       'variété', 'vi', 'videogame', 'vocal', 'western', 'world',\n",
       "       'worldbeat', 'ïîï', 'электроника'], dtype=object)"
      ]
     },
     "execution_count": 17,
     "metadata": {},
     "output_type": "execute_result"
    }
   ],
   "source": [
    "df['genre'].sort_values().unique()"
   ]
  },
  {
   "cell_type": "markdown",
   "metadata": {
    "id": "jz6a9-7HQUDd"
   },
   "source": [
    "**Выводы**\n",
    "\n",
    "Предобработка обнаружила три проблемы в данных:\n",
    "\n",
    "- нарушения в стиле заголовков,\n",
    "- пропущенные значения,\n",
    "- дубликаты — явные и неявные.\n",
    "\n",
    "Исправили заголовки, чтобы упростить работу с таблицей. Без дубликатов исследование станет более точным.\n",
    "\n",
    "Пропущенные значения заменили на `'unknown'`. Ещё предстоит увидеть, не повредят ли исследованию пропуски в колонке `genre`.\n",
    "\n",
    "Теперь можно перейти к проверке гипотез. "
   ]
  },
  {
   "cell_type": "markdown",
   "metadata": {
    "id": "WttZHXH0SqKk"
   },
   "source": [
    "## Проверка гипотез"
   ]
  },
  {
   "cell_type": "markdown",
   "metadata": {
    "id": "Im936VVi_Zcu"
   },
   "source": [
    "### Сравнение поведения пользователей двух столиц"
   ]
  },
  {
   "cell_type": "markdown",
   "metadata": {
    "id": "nwt_MuaL_Zcu"
   },
   "source": [
    "Первая гипотеза утверждает, что пользователи по-разному слушают музыку в Москве и Санкт-Петербурге. Проверим это предположение по данным о трёх днях недели — понедельнике, среде и пятнице. Для этого:\n",
    "\n",
    "* Разделим пользователей Москвы и Санкт-Петербурга\n",
    "* Сравним, сколько треков послушала каждая группа пользователей в понедельник, среду и пятницу."
   ]
  },
  {
   "cell_type": "markdown",
   "metadata": {
    "id": "8Dw_YMmT_Zcu"
   },
   "source": [
    "Выполним каждый из расчётов по отдельности. </b></font><br>\n",
    "Оценим активность пользователей в каждом городе. </b></font><br>\n",
    "Сгруппируем данные по городу и посчитаем прослушивания в каждой группе."
   ]
  },
  {
   "cell_type": "code",
   "execution_count": 18,
   "metadata": {
    "id": "0_Qs96oh_Zcu"
   },
   "outputs": [
    {
     "data": {
      "text/plain": [
       "city\n",
       "Moscow              42741\n",
       "Saint-Petersburg    18512\n",
       "Name: city, dtype: int64"
      ]
     },
     "execution_count": 18,
     "metadata": {},
     "output_type": "execute_result"
    }
   ],
   "source": [
    "df.groupby('city')['city'].count()"
   ]
  },
  {
   "cell_type": "markdown",
   "metadata": {
    "id": "dzli3w8o_Zcu"
   },
   "source": [
    "В Москве прослушиваний больше, чем в Петербурге. Из этого не следует, что московские пользователи чаще слушают музыку. Просто самих пользователей в Москве больше.\n",
    "\n",
    "Теперь сгруппируем данные по дню недели и подсчитайте прослушивания в понедельник, среду и пятницу. В данных есть информация о прослушиваниях только за эти дни."
   ]
  },
  {
   "cell_type": "markdown",
   "metadata": {
    "id": "cC2tNrlL_Zcu"
   },
   "source": [
    "В среднем пользователи из двух городов менее активны по средам. Но картина может измениться, если рассмотреть каждый город в отдельности."
   ]
  },
  {
   "cell_type": "code",
   "execution_count": 19,
   "metadata": {
    "id": "uZMKjiJz_Zcu"
   },
   "outputs": [
    {
     "data": {
      "text/plain": [
       "day\n",
       "Friday       21840\n",
       "Monday       21354\n",
       "Wednesday    18059\n",
       "Name: day, dtype: int64"
      ]
     },
     "execution_count": 19,
     "metadata": {},
     "output_type": "execute_result"
    }
   ],
   "source": [
    "df.groupby('day')['day'].count()"
   ]
  },
  {
   "cell_type": "markdown",
   "metadata": {
    "id": "POzs8bGa_Zcu"
   },
   "source": [
    "Создадим функцию `number_tracks()`, которая посчитает прослушивания для заданного дня и города. Ей понадобятся два параметра:\n",
    "* день недели,\n",
    "* название города.\n",
    "\n",
    "В функции сохраните в переменную строки исходной таблицы, у которых значение:\n",
    "  * в колонке `day` равно параметру `day`,\n",
    "  * в колонке `city` равно параметру `city`.\n",
    "\n",
    "Для этого примените последовательную фильтрацию с логической индексацией.\n",
    "Затем посчитаем значения в столбце `user_id` получившейся таблицы. Результат сохраним в новую переменную. Вернёите эту переменную из функции."
   ]
  },
  {
   "cell_type": "code",
   "execution_count": 20,
   "metadata": {
    "id": "Nz3GdQB1_Zcu"
   },
   "outputs": [],
   "source": [
    "def number_tracks(day, city): \n",
    "    \n",
    "    track_list=df[df['day']==day]\n",
    "    track_list=track_list[track_list['city']==city] \n",
    "    track_list_count=track_list['user_id'].count() \n",
    "    \n",
    "    return track_list_count"
   ]
  },
  {
   "cell_type": "markdown",
   "metadata": {
    "id": "ytf7xFrFJQ2r"
   },
   "source": [
    "Вызовем `number_tracks()` шесть раз, меняя значение параметров — так, чтобы получить данные для каждого города в каждый из трёх дней."
   ]
  },
  {
   "cell_type": "code",
   "execution_count": 21,
   "metadata": {
    "id": "rJcRATNQ_Zcu"
   },
   "outputs": [
    {
     "data": {
      "text/plain": [
       "15740"
      ]
     },
     "metadata": {},
     "output_type": "display_data"
    }
   ],
   "source": [
    "display(number_tracks('Monday', 'Moscow'))# количество прослушиваний в Москве по понедельникам"
   ]
  },
  {
   "cell_type": "code",
   "execution_count": 22,
   "metadata": {
    "id": "hq_ncZ5T_Zcu"
   },
   "outputs": [
    {
     "data": {
      "text/plain": [
       "5614"
      ]
     },
     "metadata": {},
     "output_type": "display_data"
    }
   ],
   "source": [
    "display(number_tracks('Monday', 'Saint-Petersburg'))# количество прослушиваний в Санкт-Петербурге по понедельникам"
   ]
  },
  {
   "cell_type": "code",
   "execution_count": 23,
   "metadata": {
    "id": "_NTy2VPU_Zcu"
   },
   "outputs": [
    {
     "data": {
      "text/plain": [
       "11056"
      ]
     },
     "metadata": {},
     "output_type": "display_data"
    }
   ],
   "source": [
    "display(number_tracks('Wednesday', 'Moscow'))# количество прослушиваний в Москве по средам"
   ]
  },
  {
   "cell_type": "code",
   "execution_count": 24,
   "metadata": {
    "id": "j2y3TAwo_Zcu"
   },
   "outputs": [
    {
     "data": {
      "text/plain": [
       "7003"
      ]
     },
     "metadata": {},
     "output_type": "display_data"
    }
   ],
   "source": [
    "display(number_tracks('Wednesday', 'Saint-Petersburg'))# количество прослушиваний в Санкт-Петербурге по средам"
   ]
  },
  {
   "cell_type": "code",
   "execution_count": 25,
   "metadata": {
    "id": "vYDw5u_K_Zcu"
   },
   "outputs": [
    {
     "data": {
      "text/plain": [
       "15945"
      ]
     },
     "metadata": {},
     "output_type": "display_data"
    }
   ],
   "source": [
    "display(number_tracks('Friday', 'Moscow'))# количество прослушиваний в Москве по пятницам"
   ]
  },
  {
   "cell_type": "code",
   "execution_count": 26,
   "metadata": {
    "id": "8_yzFtW3_Zcu"
   },
   "outputs": [
    {
     "data": {
      "text/plain": [
       "5895"
      ]
     },
     "metadata": {},
     "output_type": "display_data"
    }
   ],
   "source": [
    "display(number_tracks('Friday', 'Saint-Petersburg'))# количество прослушиваний в Санкт-Петербурге по пятницам"
   ]
  },
  {
   "cell_type": "markdown",
   "metadata": {
    "id": "7QXffbO-_Zcu"
   },
   "source": [
    "Создадим c помощью конструктора `pd.DataFrame` таблицу, где\n",
    "* названия колонок — `['city', 'monday', 'wednesday', 'friday']`;\n",
    "* данные — результаты, которые получили с помощью `number_tracks`."
   ]
  },
  {
   "cell_type": "code",
   "execution_count": 27,
   "metadata": {
    "id": "APAcLpOr_Zcu"
   },
   "outputs": [
    {
     "data": {
      "text/html": [
       "<div>\n",
       "<style scoped>\n",
       "    .dataframe tbody tr th:only-of-type {\n",
       "        vertical-align: middle;\n",
       "    }\n",
       "\n",
       "    .dataframe tbody tr th {\n",
       "        vertical-align: top;\n",
       "    }\n",
       "\n",
       "    .dataframe thead th {\n",
       "        text-align: right;\n",
       "    }\n",
       "</style>\n",
       "<table border=\"1\" class=\"dataframe\">\n",
       "  <thead>\n",
       "    <tr style=\"text-align: right;\">\n",
       "      <th></th>\n",
       "      <th>city</th>\n",
       "      <th>monday</th>\n",
       "      <th>wednesday</th>\n",
       "      <th>friday</th>\n",
       "    </tr>\n",
       "  </thead>\n",
       "  <tbody>\n",
       "    <tr>\n",
       "      <th>0</th>\n",
       "      <td>Moscow</td>\n",
       "      <td>15740</td>\n",
       "      <td>15945</td>\n",
       "      <td>11056</td>\n",
       "    </tr>\n",
       "    <tr>\n",
       "      <th>1</th>\n",
       "      <td>Saint-Petersburg</td>\n",
       "      <td>5614</td>\n",
       "      <td>7003</td>\n",
       "      <td>5895</td>\n",
       "    </tr>\n",
       "  </tbody>\n",
       "</table>\n",
       "</div>"
      ],
      "text/plain": [
       "               city  monday  wednesday  friday\n",
       "0            Moscow   15740      15945   11056\n",
       "1  Saint-Petersburg    5614       7003    5895"
      ]
     },
     "execution_count": 27,
     "metadata": {},
     "output_type": "execute_result"
    }
   ],
   "source": [
    "columns = ['city', 'monday', 'wednesday', 'friday']\n",
    "data = [\n",
    "    [ 'Moscow', 15740, 15945, 11056],\n",
    "    ['Saint-Petersburg', 5614,7003, 5895]\n",
    "] \n",
    "pd.DataFrame(data=data, columns=columns)"
   ]
  },
  {
   "cell_type": "markdown",
   "metadata": {
    "id": "-EgPIHYu_Zcu"
   },
   "source": [
    "**Выводы**\n",
    "\n",
    "Данные показывают разницу поведения пользователей:\n",
    "\n",
    "- В Москве пик прослушиваний приходится на понедельник и пятницу, а в среду заметен спад.\n",
    "- В Петербурге, наоборот, больше слушают музыку по средам. Активность в понедельник и пятницу здесь почти в равной мере уступает среде.\n",
    "\n",
    "Значит, данные говорят в пользу первой гипотезы."
   ]
  },
  {
   "cell_type": "markdown",
   "metadata": {
    "id": "atZAxtq4_Zcu"
   },
   "source": [
    "### Музыка в начале и в конце недели"
   ]
  },
  {
   "cell_type": "markdown",
   "metadata": {
    "id": "eXrQqXFH_Zcu"
   },
   "source": [
    "Согласно второй гипотезе, утром в понедельник в Москве преобладают одни жанры, а в Петербурге — другие. Так же и вечером пятницы преобладают разные жанры — в зависимости от города."
   ]
  },
  {
   "cell_type": "markdown",
   "metadata": {
    "id": "S8UcW6Hw_Zcu"
   },
   "source": [
    "Сохраним таблицы с данными в две переменные:\n",
    "* по Москве — в `moscow_general`;\n",
    "* по Санкт-Петербургу — в `spb_general`."
   ]
  },
  {
   "cell_type": "code",
   "execution_count": 28,
   "metadata": {
    "id": "qeaFfM_P_Zcu"
   },
   "outputs": [
    {
     "data": {
      "text/html": [
       "<div>\n",
       "<style scoped>\n",
       "    .dataframe tbody tr th:only-of-type {\n",
       "        vertical-align: middle;\n",
       "    }\n",
       "\n",
       "    .dataframe tbody tr th {\n",
       "        vertical-align: top;\n",
       "    }\n",
       "\n",
       "    .dataframe thead th {\n",
       "        text-align: right;\n",
       "    }\n",
       "</style>\n",
       "<table border=\"1\" class=\"dataframe\">\n",
       "  <thead>\n",
       "    <tr style=\"text-align: right;\">\n",
       "      <th></th>\n",
       "      <th>user_id</th>\n",
       "      <th>track</th>\n",
       "      <th>artist</th>\n",
       "      <th>genre</th>\n",
       "      <th>city</th>\n",
       "      <th>time</th>\n",
       "      <th>day</th>\n",
       "    </tr>\n",
       "  </thead>\n",
       "  <tbody>\n",
       "    <tr>\n",
       "      <th>1</th>\n",
       "      <td>55204538</td>\n",
       "      <td>Delayed Because of Accident</td>\n",
       "      <td>Andreas Rönnberg</td>\n",
       "      <td>rock</td>\n",
       "      <td>Moscow</td>\n",
       "      <td>14:07:09</td>\n",
       "      <td>Friday</td>\n",
       "    </tr>\n",
       "    <tr>\n",
       "      <th>4</th>\n",
       "      <td>E2DC1FAE</td>\n",
       "      <td>Soul People</td>\n",
       "      <td>Space Echo</td>\n",
       "      <td>dance</td>\n",
       "      <td>Moscow</td>\n",
       "      <td>08:34:34</td>\n",
       "      <td>Monday</td>\n",
       "    </tr>\n",
       "    <tr>\n",
       "      <th>6</th>\n",
       "      <td>4CB90AA5</td>\n",
       "      <td>True</td>\n",
       "      <td>Roman Messer</td>\n",
       "      <td>dance</td>\n",
       "      <td>Moscow</td>\n",
       "      <td>13:00:07</td>\n",
       "      <td>Wednesday</td>\n",
       "    </tr>\n",
       "    <tr>\n",
       "      <th>7</th>\n",
       "      <td>F03E1C1F</td>\n",
       "      <td>Feeling This Way</td>\n",
       "      <td>Polina Griffith</td>\n",
       "      <td>dance</td>\n",
       "      <td>Moscow</td>\n",
       "      <td>20:47:49</td>\n",
       "      <td>Wednesday</td>\n",
       "    </tr>\n",
       "    <tr>\n",
       "      <th>8</th>\n",
       "      <td>8FA1D3BE</td>\n",
       "      <td>И вновь продолжается бой</td>\n",
       "      <td>unknown</td>\n",
       "      <td>ruspop</td>\n",
       "      <td>Moscow</td>\n",
       "      <td>09:17:40</td>\n",
       "      <td>Friday</td>\n",
       "    </tr>\n",
       "  </tbody>\n",
       "</table>\n",
       "</div>"
      ],
      "text/plain": [
       "    user_id                        track            artist   genre    city  \\\n",
       "1  55204538  Delayed Because of Accident  Andreas Rönnberg    rock  Moscow   \n",
       "4  E2DC1FAE                  Soul People        Space Echo   dance  Moscow   \n",
       "6  4CB90AA5                         True      Roman Messer   dance  Moscow   \n",
       "7  F03E1C1F             Feeling This Way   Polina Griffith   dance  Moscow   \n",
       "8  8FA1D3BE     И вновь продолжается бой           unknown  ruspop  Moscow   \n",
       "\n",
       "       time        day  \n",
       "1  14:07:09     Friday  \n",
       "4  08:34:34     Monday  \n",
       "6  13:00:07  Wednesday  \n",
       "7  20:47:49  Wednesday  \n",
       "8  09:17:40     Friday  "
      ]
     },
     "execution_count": 28,
     "metadata": {},
     "output_type": "execute_result"
    }
   ],
   "source": [
    "moscow_general = df[df['city'] == 'Moscow']\n",
    "moscow_general.head(5)"
   ]
  },
  {
   "cell_type": "code",
   "execution_count": 29,
   "metadata": {
    "id": "ORaVRKto_Zcu"
   },
   "outputs": [
    {
     "data": {
      "text/html": [
       "<div>\n",
       "<style scoped>\n",
       "    .dataframe tbody tr th:only-of-type {\n",
       "        vertical-align: middle;\n",
       "    }\n",
       "\n",
       "    .dataframe tbody tr th {\n",
       "        vertical-align: top;\n",
       "    }\n",
       "\n",
       "    .dataframe thead th {\n",
       "        text-align: right;\n",
       "    }\n",
       "</style>\n",
       "<table border=\"1\" class=\"dataframe\">\n",
       "  <thead>\n",
       "    <tr style=\"text-align: right;\">\n",
       "      <th></th>\n",
       "      <th>user_id</th>\n",
       "      <th>track</th>\n",
       "      <th>artist</th>\n",
       "      <th>genre</th>\n",
       "      <th>city</th>\n",
       "      <th>time</th>\n",
       "      <th>day</th>\n",
       "    </tr>\n",
       "  </thead>\n",
       "  <tbody>\n",
       "    <tr>\n",
       "      <th>0</th>\n",
       "      <td>FFB692EC</td>\n",
       "      <td>Kamigata To Boots</td>\n",
       "      <td>The Mass Missile</td>\n",
       "      <td>rock</td>\n",
       "      <td>Saint-Petersburg</td>\n",
       "      <td>20:28:33</td>\n",
       "      <td>Wednesday</td>\n",
       "    </tr>\n",
       "    <tr>\n",
       "      <th>2</th>\n",
       "      <td>20EC38</td>\n",
       "      <td>Funiculì funiculà</td>\n",
       "      <td>Mario Lanza</td>\n",
       "      <td>pop</td>\n",
       "      <td>Saint-Petersburg</td>\n",
       "      <td>20:58:07</td>\n",
       "      <td>Wednesday</td>\n",
       "    </tr>\n",
       "    <tr>\n",
       "      <th>3</th>\n",
       "      <td>A3DD03C9</td>\n",
       "      <td>Dragons in the Sunset</td>\n",
       "      <td>Fire + Ice</td>\n",
       "      <td>folk</td>\n",
       "      <td>Saint-Petersburg</td>\n",
       "      <td>08:37:09</td>\n",
       "      <td>Monday</td>\n",
       "    </tr>\n",
       "    <tr>\n",
       "      <th>5</th>\n",
       "      <td>842029A1</td>\n",
       "      <td>Преданная</td>\n",
       "      <td>IMPERVTOR</td>\n",
       "      <td>rusrap</td>\n",
       "      <td>Saint-Petersburg</td>\n",
       "      <td>13:09:41</td>\n",
       "      <td>Friday</td>\n",
       "    </tr>\n",
       "    <tr>\n",
       "      <th>9</th>\n",
       "      <td>E772D5C0</td>\n",
       "      <td>Pessimist</td>\n",
       "      <td>unknown</td>\n",
       "      <td>dance</td>\n",
       "      <td>Saint-Petersburg</td>\n",
       "      <td>21:20:49</td>\n",
       "      <td>Wednesday</td>\n",
       "    </tr>\n",
       "  </tbody>\n",
       "</table>\n",
       "</div>"
      ],
      "text/plain": [
       "    user_id                  track            artist   genre  \\\n",
       "0  FFB692EC      Kamigata To Boots  The Mass Missile    rock   \n",
       "2    20EC38      Funiculì funiculà       Mario Lanza     pop   \n",
       "3  A3DD03C9  Dragons in the Sunset        Fire + Ice    folk   \n",
       "5  842029A1              Преданная         IMPERVTOR  rusrap   \n",
       "9  E772D5C0              Pessimist           unknown   dance   \n",
       "\n",
       "               city      time        day  \n",
       "0  Saint-Petersburg  20:28:33  Wednesday  \n",
       "2  Saint-Petersburg  20:58:07  Wednesday  \n",
       "3  Saint-Petersburg  08:37:09     Monday  \n",
       "5  Saint-Petersburg  13:09:41     Friday  \n",
       "9  Saint-Petersburg  21:20:49  Wednesday  "
      ]
     },
     "execution_count": 29,
     "metadata": {},
     "output_type": "execute_result"
    }
   ],
   "source": [
    "spb_general = df[df['city'] == 'Saint-Petersburg']\n",
    "spb_general.head(5)"
   ]
  },
  {
   "cell_type": "markdown",
   "metadata": {
    "id": "MEJV-CX2_Zcu"
   },
   "source": [
    "Напишем функцию `genre_weekday()` с четырьмя параметрами:\n",
    "* таблица (датафрейм) с данными,\n",
    "* день недели,\n",
    "* начальная временная метка в формате 'hh:mm', \n",
    "* последняя временная метка в формате 'hh:mm'.\n",
    "\n",
    "Функция должна вернуть информацию о топ-10 жанров тех треков, которые прослушивали в указанный день, в промежутке между двумя отметками времени."
   ]
  },
  {
   "cell_type": "code",
   "execution_count": 30,
   "metadata": {},
   "outputs": [],
   "source": [
    "def genre_weekday(table, day, time1, time2):   \n",
    "\n",
    "    genre_df = table[table['day'] == day]\n",
    "    genre_df = genre_df[genre_df['time'] > time1]\n",
    "    genre_df = genre_df[genre_df['time'] < time2]\n",
    "\n",
    "    genre_df_count = genre_df.groupby('genre')['genre'].count()\n",
    "\n",
    "    genre_df_sorted = genre_df_count.sort_values(ascending=False)\n",
    "\n",
    "    return genre_df_sorted[:10]"
   ]
  },
  {
   "cell_type": "markdown",
   "metadata": {
    "id": "la2s2_PF_Zcu"
   },
   "source": [
    "Cравним результаты функции `genre_weekday()` для Москвы и Санкт-Петербурга в понедельник утром (с 7:00 до 11:00) и в пятницу вечером (с 17:00 до 23:00):"
   ]
  },
  {
   "cell_type": "code",
   "execution_count": 31,
   "metadata": {
    "id": "yz7itPUQ_Zcu"
   },
   "outputs": [
    {
     "data": {
      "text/plain": [
       "genre\n",
       "pop            781\n",
       "dance          549\n",
       "electronic     480\n",
       "rock           474\n",
       "hiphop         286\n",
       "ruspop         186\n",
       "world          181\n",
       "rusrap         175\n",
       "alternative    164\n",
       "unknown        161\n",
       "Name: genre, dtype: int64"
      ]
     },
     "execution_count": 31,
     "metadata": {},
     "output_type": "execute_result"
    }
   ],
   "source": [
    "genre_weekday(moscow_general, 'Monday', '07:00', '11:00')# вызов функции для утра понедельника в Москве"
   ]
  },
  {
   "cell_type": "code",
   "execution_count": 32,
   "metadata": {
    "id": "kwUcHPdy_Zcu"
   },
   "outputs": [
    {
     "data": {
      "text/plain": [
       "genre\n",
       "pop            218\n",
       "dance          182\n",
       "rock           162\n",
       "electronic     147\n",
       "hiphop          80\n",
       "ruspop          64\n",
       "alternative     58\n",
       "rusrap          55\n",
       "jazz            44\n",
       "classical       40\n",
       "Name: genre, dtype: int64"
      ]
     },
     "execution_count": 32,
     "metadata": {},
     "output_type": "execute_result"
    }
   ],
   "source": [
    "genre_weekday(spb_general, 'Monday', '07:00', '11:00')# вызов функции для утра понедельника в Петербурге"
   ]
  },
  {
   "cell_type": "code",
   "execution_count": 33,
   "metadata": {
    "id": "EzXVRE1o_Zcu"
   },
   "outputs": [
    {
     "data": {
      "text/plain": [
       "genre\n",
       "pop            713\n",
       "rock           517\n",
       "dance          495\n",
       "electronic     482\n",
       "hiphop         273\n",
       "world          208\n",
       "ruspop         170\n",
       "alternative    163\n",
       "classical      163\n",
       "rusrap         142\n",
       "Name: genre, dtype: int64"
      ]
     },
     "execution_count": 33,
     "metadata": {},
     "output_type": "execute_result"
    }
   ],
   "source": [
    "genre_weekday(moscow_general, 'Friday', '17:00', '23:00')# вызов функции для вечера пятницы в Москве"
   ]
  },
  {
   "cell_type": "code",
   "execution_count": 34,
   "metadata": {
    "id": "JZaEKu5v_Zcu"
   },
   "outputs": [
    {
     "data": {
      "text/plain": [
       "genre\n",
       "pop            256\n",
       "electronic     216\n",
       "rock           216\n",
       "dance          210\n",
       "hiphop          97\n",
       "alternative     63\n",
       "jazz            61\n",
       "classical       60\n",
       "rusrap          59\n",
       "world           54\n",
       "Name: genre, dtype: int64"
      ]
     },
     "execution_count": 34,
     "metadata": {},
     "output_type": "execute_result"
    }
   ],
   "source": [
    "genre_weekday(spb_general, 'Friday', '17:00', '23:00')# вызов функции для вечера пятницы в Петербурге"
   ]
  },
  {
   "cell_type": "markdown",
   "metadata": {
    "id": "wrCe4MNX_Zcu"
   },
   "source": [
    "**Выводы**\n",
    "\n",
    "Если сравнить топ-10 жанров в понедельник утром, можно сделать такие выводы:\n",
    "\n",
    "1. В Москве и Петербурге слушают похожую музыку. Единственное отличие — в московский рейтинг вошёл жанр “world”, а в петербургский — джаз и классика.\n",
    "\n",
    "2. В Москве пропущенных значений оказалось так много, что значение `'unknown'` заняло десятое место среди самых популярных жанров. Значит, пропущенные значения занимают существенную долю в данных и угрожают достоверности исследования.\n",
    "\n",
    "Вечер пятницы не меняет эту картину. Некоторые жанры поднимаются немного выше, другие спускаются, но в целом топ-10 остаётся тем же самым.\n",
    "\n",
    "Таким образом, вторая гипотеза подтвердилась лишь частично:\n",
    "* Пользователи слушают похожую музыку в начале недели и в конце.\n",
    "* Разница между Москвой и Петербургом не слишком выражена. В Москве чаще слушают русскую популярную музыку, в Петербурге — джаз.\n",
    "\n",
    "Однако пропуски в данных ставят под сомнение этот результат. В Москве их так много, что рейтинг топ-10 мог бы выглядеть иначе, если бы не утерянные  данные о жанрах."
   ]
  },
  {
   "cell_type": "markdown",
   "metadata": {
    "id": "JolODAqr_Zcu"
   },
   "source": [
    "### Жанровые предпочтения в Москве и Петербурге\n",
    "\n",
    "Гипотеза: Петербург — столица рэпа, музыку этого жанра там слушают чаще, чем в Москве.  А Москва — город контрастов, в котором, тем не менее, преобладает поп-музыка."
   ]
  },
  {
   "cell_type": "markdown",
   "metadata": {
    "id": "DlegSvaT_Zcu"
   },
   "source": [
    "Сгруппируем таблицу `moscow_general` по жанру и посчитаем прослушивания треков каждого жанра методом `count()`. Затем отсортируем результат в порядке убывания и сохраним его в таблице `moscow_genres`."
   ]
  },
  {
   "cell_type": "code",
   "execution_count": 35,
   "metadata": {
    "id": "r19lIPke_Zcu"
   },
   "outputs": [],
   "source": [
    "moscow_genres = moscow_general.groupby('genre')['genre'].count().sort_values(ascending=False)"
   ]
  },
  {
   "cell_type": "markdown",
   "metadata": {
    "id": "6kMuomxTiIr8"
   },
   "source": [
    "Выведем на экран первые десять строк `moscow_genres`:"
   ]
  },
  {
   "cell_type": "code",
   "execution_count": 36,
   "metadata": {
    "id": "WhCSooF8_Zcv"
   },
   "outputs": [
    {
     "data": {
      "text/plain": [
       "genre\n",
       "pop            5892\n",
       "dance          4435\n",
       "rock           3965\n",
       "electronic     3786\n",
       "hiphop         2096\n",
       "classical      1616\n",
       "world          1432\n",
       "alternative    1379\n",
       "ruspop         1372\n",
       "rusrap         1161\n",
       "Name: genre, dtype: int64"
      ]
     },
     "execution_count": 36,
     "metadata": {},
     "output_type": "execute_result"
    }
   ],
   "source": [
    "moscow_genres.head(10)"
   ]
  },
  {
   "cell_type": "markdown",
   "metadata": {
    "id": "cnPG2vnN_Zcv"
   },
   "source": [
    "Теперь повторим то же и для Петербурга.\n",
    "Сгруппируем таблицу `spb_general` по жанру. Посчитаем прослушивания треков каждого жанра. Результат отсортируем в порядке убывания и сохраним в таблице `spb_genres`."
   ]
  },
  {
   "cell_type": "code",
   "execution_count": 37,
   "metadata": {
    "id": "gluLIpE7_Zcv"
   },
   "outputs": [],
   "source": [
    "spb_genres = spb_general.groupby('genre')['genre'].count().sort_values(ascending=False)"
   ]
  },
  {
   "cell_type": "markdown",
   "metadata": {
    "id": "5Doha_ODgyQ8"
   },
   "source": [
    "Выведием на экран первые десять строк `spb_genres`."
   ]
  },
  {
   "cell_type": "code",
   "execution_count": 38,
   "metadata": {
    "id": "uaGJHjVU_Zcv"
   },
   "outputs": [
    {
     "data": {
      "text/plain": [
       "genre\n",
       "pop            2431\n",
       "dance          1932\n",
       "rock           1879\n",
       "electronic     1736\n",
       "hiphop          960\n",
       "alternative     649\n",
       "classical       646\n",
       "rusrap          564\n",
       "ruspop          538\n",
       "world           515\n",
       "Name: genre, dtype: int64"
      ]
     },
     "execution_count": 38,
     "metadata": {},
     "output_type": "execute_result"
    }
   ],
   "source": [
    "spb_genres.head(10)"
   ]
  },
  {
   "cell_type": "markdown",
   "metadata": {
    "id": "nVhnJEm__Zcv"
   },
   "source": [
    "**Выводы**\n",
    "\n",
    "Гипотеза частично подтвердилась:\n",
    "* Поп-музыка — самый популярный жанр в Москве, как и предполагала гипотеза. Более того, в топ-10 жанров встречается близкий жанр — русская популярная музыка.\n",
    "* Вопреки ожиданиям, рэп одинаково популярен в Москве и Петербурге. \n"
   ]
  },
  {
   "cell_type": "markdown",
   "metadata": {
    "id": "ykKQ0N65_Zcv"
   },
   "source": [
    "## Итоги исследования"
   ]
  },
  {
   "cell_type": "markdown",
   "metadata": {
    "id": "tjUwbHb3_Zcv"
   },
   "source": [
    "Мы проверили три гипотезы и установили:\n",
    "\n",
    "1. День недели по-разному влияет на активность пользователей в Москве и Петербурге. \n",
    "\n",
    "Первая гипотеза полностью подтвердилась.\n",
    "\n",
    "2. Музыкальные предпочтения не сильно меняются в течение недели — будь то Москва или Петербург. Небольшие различия заметны в начале недели, по понедельникам:\n",
    "* в Москве слушают музыку жанра “world”,\n",
    "* в Петербурге — джаз и классику.\n",
    "\n",
    "Таким образом, вторая гипотеза подтвердилась лишь отчасти. Этот результат мог оказаться иным, если бы не пропуски в данных.\n",
    "\n",
    "3. Во вкусах пользователей Москвы и Петербурга больше общего чем различий. Вопреки ожиданиям, предпочтения жанров в Петербурге напоминают московские.\n",
    "\n",
    "Третья гипотеза не подтвердилась. Если различия в предпочтениях и существуют, на основной массе пользователей они незаметны.\n"
   ]
  }
 ],
 "metadata": {
  "ExecuteTimeLog": [
   {
    "duration": 53,
    "start_time": "2022-05-10T16:29:20.242Z"
   },
   {
    "duration": 6,
    "start_time": "2022-05-10T16:43:58.236Z"
   },
   {
    "duration": 6,
    "start_time": "2022-05-10T16:43:59.153Z"
   },
   {
    "duration": 7,
    "start_time": "2022-05-10T16:44:00.893Z"
   },
   {
    "duration": 399,
    "start_time": "2022-05-10T16:46:10.352Z"
   },
   {
    "duration": 179,
    "start_time": "2022-05-10T16:46:14.733Z"
   },
   {
    "duration": 19,
    "start_time": "2022-05-10T16:46:19.529Z"
   },
   {
    "duration": 32,
    "start_time": "2022-05-10T16:47:04.344Z"
   },
   {
    "duration": 6,
    "start_time": "2022-05-10T17:13:59.967Z"
   },
   {
    "duration": 13,
    "start_time": "2022-05-10T17:18:26.932Z"
   },
   {
    "duration": 13,
    "start_time": "2022-05-10T17:18:43.710Z"
   },
   {
    "duration": 3,
    "start_time": "2022-05-10T17:19:18.097Z"
   },
   {
    "duration": 4,
    "start_time": "2022-05-10T17:20:39.451Z"
   },
   {
    "duration": 3,
    "start_time": "2022-05-10T17:21:13.596Z"
   },
   {
    "duration": 4,
    "start_time": "2022-05-10T17:21:50.165Z"
   },
   {
    "duration": 17,
    "start_time": "2022-05-10T17:22:05.883Z"
   },
   {
    "duration": 3,
    "start_time": "2022-05-10T17:23:16.807Z"
   },
   {
    "duration": 12,
    "start_time": "2022-05-10T17:23:44.435Z"
   },
   {
    "duration": 5,
    "start_time": "2022-05-10T17:24:13.523Z"
   },
   {
    "duration": 64,
    "start_time": "2022-05-10T17:28:20.202Z"
   },
   {
    "duration": 29,
    "start_time": "2022-05-10T17:29:01.303Z"
   },
   {
    "duration": 37,
    "start_time": "2022-05-10T17:33:53.220Z"
   },
   {
    "duration": 27,
    "start_time": "2022-05-10T17:33:56.573Z"
   },
   {
    "duration": 29,
    "start_time": "2022-05-10T17:34:25.831Z"
   },
   {
    "duration": 75,
    "start_time": "2022-05-10T17:36:00.712Z"
   },
   {
    "duration": 70,
    "start_time": "2022-05-10T17:36:41.273Z"
   },
   {
    "duration": 32,
    "start_time": "2022-05-10T17:38:16.827Z"
   },
   {
    "duration": 8,
    "start_time": "2022-05-10T17:38:36.613Z"
   },
   {
    "duration": 7,
    "start_time": "2022-05-10T17:39:28.092Z"
   },
   {
    "duration": 96,
    "start_time": "2022-05-10T17:40:19.500Z"
   },
   {
    "duration": 72,
    "start_time": "2022-05-10T17:40:27.219Z"
   },
   {
    "duration": 60,
    "start_time": "2022-05-10T17:40:41.292Z"
   },
   {
    "duration": 71,
    "start_time": "2022-05-10T17:41:21.698Z"
   },
   {
    "duration": 71,
    "start_time": "2022-05-10T17:41:26.082Z"
   },
   {
    "duration": 65,
    "start_time": "2022-05-10T17:41:29.198Z"
   },
   {
    "duration": 59,
    "start_time": "2022-05-10T17:45:15.473Z"
   },
   {
    "duration": 60,
    "start_time": "2022-05-10T17:45:51.526Z"
   },
   {
    "duration": 61,
    "start_time": "2022-05-10T17:46:27.479Z"
   },
   {
    "duration": 8,
    "start_time": "2022-05-10T17:46:57.216Z"
   },
   {
    "duration": 5,
    "start_time": "2022-05-10T17:52:48.400Z"
   },
   {
    "duration": 40,
    "start_time": "2022-05-10T17:57:30.351Z"
   },
   {
    "duration": 43,
    "start_time": "2022-05-10T18:07:16.776Z"
   },
   {
    "duration": 43,
    "start_time": "2022-05-10T18:07:23.743Z"
   },
   {
    "duration": 38,
    "start_time": "2022-05-10T18:07:47.289Z"
   },
   {
    "duration": 5,
    "start_time": "2022-05-10T18:11:26.091Z"
   },
   {
    "duration": 7,
    "start_time": "2022-05-10T18:11:56.983Z"
   },
   {
    "duration": 11,
    "start_time": "2022-05-10T18:12:25.138Z"
   },
   {
    "duration": 10,
    "start_time": "2022-05-10T18:14:47.603Z"
   },
   {
    "duration": 8,
    "start_time": "2022-05-10T18:14:49.541Z"
   },
   {
    "duration": 45,
    "start_time": "2022-05-10T18:14:59.040Z"
   },
   {
    "duration": 46,
    "start_time": "2022-05-10T18:15:01.050Z"
   },
   {
    "duration": 47,
    "start_time": "2022-05-10T18:15:03.811Z"
   },
   {
    "duration": 45,
    "start_time": "2022-05-10T18:16:27.228Z"
   },
   {
    "duration": 59,
    "start_time": "2022-05-10T18:18:17.423Z"
   },
   {
    "duration": 50,
    "start_time": "2022-05-10T18:18:36.722Z"
   },
   {
    "duration": 7,
    "start_time": "2022-05-10T18:50:38.836Z"
   },
   {
    "duration": 7,
    "start_time": "2022-05-10T18:51:25.569Z"
   },
   {
    "duration": 8,
    "start_time": "2022-05-10T18:51:28.934Z"
   },
   {
    "duration": 7,
    "start_time": "2022-05-10T18:51:29.872Z"
   },
   {
    "duration": 9,
    "start_time": "2022-05-10T18:52:13.630Z"
   },
   {
    "duration": 9,
    "start_time": "2022-05-10T18:52:14.542Z"
   },
   {
    "duration": 9,
    "start_time": "2022-05-10T18:52:15.083Z"
   },
   {
    "duration": 9,
    "start_time": "2022-05-10T18:52:15.554Z"
   },
   {
    "duration": 7,
    "start_time": "2022-05-10T18:54:05.994Z"
   },
   {
    "duration": 7,
    "start_time": "2022-05-10T18:54:06.467Z"
   },
   {
    "duration": 7,
    "start_time": "2022-05-10T18:54:06.912Z"
   },
   {
    "duration": 7,
    "start_time": "2022-05-10T18:56:08.185Z"
   },
   {
    "duration": 7,
    "start_time": "2022-05-10T18:56:09.166Z"
   },
   {
    "duration": 5,
    "start_time": "2022-05-10T18:57:03.052Z"
   },
   {
    "duration": 8,
    "start_time": "2022-05-10T18:57:06.574Z"
   },
   {
    "duration": 7,
    "start_time": "2022-05-10T18:59:31.649Z"
   },
   {
    "duration": 7,
    "start_time": "2022-05-10T18:59:32.512Z"
   },
   {
    "duration": 8,
    "start_time": "2022-05-10T19:00:45.999Z"
   },
   {
    "duration": 7,
    "start_time": "2022-05-10T19:00:46.699Z"
   },
   {
    "duration": 47,
    "start_time": "2022-05-11T04:24:57.729Z"
   },
   {
    "duration": 6,
    "start_time": "2022-05-11T04:30:57.678Z"
   },
   {
    "duration": 6,
    "start_time": "2022-05-11T04:31:01.145Z"
   },
   {
    "duration": 5,
    "start_time": "2022-05-11T04:34:07.473Z"
   },
   {
    "duration": 6,
    "start_time": "2022-05-11T04:35:23.441Z"
   },
   {
    "duration": 6,
    "start_time": "2022-05-11T04:35:26.986Z"
   },
   {
    "duration": 3,
    "start_time": "2022-05-11T04:35:37.159Z"
   },
   {
    "duration": 3,
    "start_time": "2022-05-11T04:35:43.691Z"
   },
   {
    "duration": 6,
    "start_time": "2022-05-11T04:36:44.694Z"
   },
   {
    "duration": 6,
    "start_time": "2022-05-11T04:42:55.382Z"
   },
   {
    "duration": 6,
    "start_time": "2022-05-11T04:42:56.469Z"
   },
   {
    "duration": 7,
    "start_time": "2022-05-11T04:42:59.083Z"
   },
   {
    "duration": 6,
    "start_time": "2022-05-11T04:45:30.664Z"
   },
   {
    "duration": 6,
    "start_time": "2022-05-11T04:51:38.224Z"
   },
   {
    "duration": 6,
    "start_time": "2022-05-11T04:51:41.330Z"
   },
   {
    "duration": 6,
    "start_time": "2022-05-11T04:52:01.602Z"
   },
   {
    "duration": 7,
    "start_time": "2022-05-11T04:52:02.468Z"
   },
   {
    "duration": 8,
    "start_time": "2022-05-11T05:21:07.893Z"
   },
   {
    "duration": 7,
    "start_time": "2022-05-11T05:31:26.168Z"
   },
   {
    "duration": 7,
    "start_time": "2022-05-11T05:31:32.177Z"
   },
   {
    "duration": 6,
    "start_time": "2022-05-11T05:34:38.854Z"
   },
   {
    "duration": 6,
    "start_time": "2022-05-11T05:37:47.755Z"
   },
   {
    "duration": 7,
    "start_time": "2022-05-11T05:37:49.091Z"
   },
   {
    "duration": 7,
    "start_time": "2022-05-11T05:37:50.401Z"
   },
   {
    "duration": 8,
    "start_time": "2022-05-11T05:37:53.987Z"
   },
   {
    "duration": 6,
    "start_time": "2022-05-11T05:41:41.322Z"
   },
   {
    "duration": 6,
    "start_time": "2022-05-11T05:41:45.313Z"
   },
   {
    "duration": 6,
    "start_time": "2022-05-11T05:41:58.997Z"
   },
   {
    "duration": 433,
    "start_time": "2022-05-11T05:43:30.227Z"
   },
   {
    "duration": 164,
    "start_time": "2022-05-11T05:43:30.662Z"
   },
   {
    "duration": 18,
    "start_time": "2022-05-11T05:43:30.828Z"
   },
   {
    "duration": 31,
    "start_time": "2022-05-11T05:43:30.854Z"
   },
   {
    "duration": 18,
    "start_time": "2022-05-11T05:43:30.886Z"
   },
   {
    "duration": 23,
    "start_time": "2022-05-11T05:43:30.906Z"
   },
   {
    "duration": 33,
    "start_time": "2022-05-11T05:43:30.930Z"
   },
   {
    "duration": 29,
    "start_time": "2022-05-11T05:43:30.965Z"
   },
   {
    "duration": 34,
    "start_time": "2022-05-11T05:43:30.995Z"
   },
   {
    "duration": 37,
    "start_time": "2022-05-11T05:43:31.032Z"
   },
   {
    "duration": 85,
    "start_time": "2022-05-11T05:43:31.070Z"
   },
   {
    "duration": 87,
    "start_time": "2022-05-11T05:43:31.157Z"
   },
   {
    "duration": 72,
    "start_time": "2022-05-11T05:43:31.246Z"
   },
   {
    "duration": 6,
    "start_time": "2022-05-11T05:43:31.319Z"
   },
   {
    "duration": 40,
    "start_time": "2022-05-11T05:43:31.326Z"
   },
   {
    "duration": 9,
    "start_time": "2022-05-11T05:43:31.368Z"
   },
   {
    "duration": 4,
    "start_time": "2022-05-11T05:43:31.379Z"
   },
   {
    "duration": 15,
    "start_time": "2022-05-11T05:43:31.384Z"
   },
   {
    "duration": 2,
    "start_time": "2022-05-11T05:43:31.401Z"
   },
   {
    "duration": 7,
    "start_time": "2022-05-11T05:43:31.404Z"
   },
   {
    "duration": 9,
    "start_time": "2022-05-11T05:43:31.412Z"
   },
   {
    "duration": 5,
    "start_time": "2022-05-11T05:43:31.422Z"
   },
   {
    "duration": 4,
    "start_time": "2022-05-11T05:43:31.429Z"
   },
   {
    "duration": 6,
    "start_time": "2022-05-11T05:43:31.435Z"
   },
   {
    "duration": 2,
    "start_time": "2022-05-11T05:43:31.455Z"
   },
   {
    "duration": 8,
    "start_time": "2022-05-11T05:43:31.458Z"
   },
   {
    "duration": 7,
    "start_time": "2022-05-11T05:43:31.468Z"
   },
   {
    "duration": 6,
    "start_time": "2022-05-11T05:43:31.478Z"
   },
   {
    "duration": 6,
    "start_time": "2022-05-11T05:43:31.485Z"
   },
   {
    "duration": 19,
    "start_time": "2022-05-11T05:43:31.492Z"
   },
   {
    "duration": 12,
    "start_time": "2022-05-11T05:43:31.513Z"
   },
   {
    "duration": 7,
    "start_time": "2022-05-11T05:43:31.527Z"
   },
   {
    "duration": 15,
    "start_time": "2022-05-11T05:43:31.535Z"
   },
   {
    "duration": 6,
    "start_time": "2022-05-11T05:43:31.552Z"
   },
   {
    "duration": 6,
    "start_time": "2022-05-11T05:43:31.560Z"
   },
   {
    "duration": 14,
    "start_time": "2022-05-11T05:43:31.567Z"
   },
   {
    "duration": 6,
    "start_time": "2022-05-11T05:43:31.583Z"
   },
   {
    "duration": 7,
    "start_time": "2022-05-11T05:43:31.591Z"
   },
   {
    "duration": 127,
    "start_time": "2022-05-11T05:49:35.742Z"
   },
   {
    "duration": 6,
    "start_time": "2022-05-11T05:49:43.611Z"
   },
   {
    "duration": 68,
    "start_time": "2022-05-11T05:51:17.388Z"
   },
   {
    "duration": 9,
    "start_time": "2022-05-11T05:52:51.863Z"
   },
   {
    "duration": 11,
    "start_time": "2022-05-11T05:53:15.455Z"
   },
   {
    "duration": 10,
    "start_time": "2022-05-11T05:53:20.070Z"
   },
   {
    "duration": 7,
    "start_time": "2022-05-11T05:53:31.299Z"
   },
   {
    "duration": 7,
    "start_time": "2022-05-11T05:53:32.873Z"
   },
   {
    "duration": 7,
    "start_time": "2022-05-11T05:54:12.051Z"
   },
   {
    "duration": 8,
    "start_time": "2022-05-11T05:55:17.426Z"
   },
   {
    "duration": 8,
    "start_time": "2022-05-11T05:55:26.687Z"
   },
   {
    "duration": 434,
    "start_time": "2022-05-11T05:55:39.423Z"
   },
   {
    "duration": 154,
    "start_time": "2022-05-11T05:55:39.859Z"
   },
   {
    "duration": 18,
    "start_time": "2022-05-11T05:55:40.015Z"
   },
   {
    "duration": 43,
    "start_time": "2022-05-11T05:55:40.035Z"
   },
   {
    "duration": 4,
    "start_time": "2022-05-11T05:55:40.079Z"
   },
   {
    "duration": 16,
    "start_time": "2022-05-11T05:55:40.085Z"
   },
   {
    "duration": 6,
    "start_time": "2022-05-11T05:55:40.103Z"
   },
   {
    "duration": 44,
    "start_time": "2022-05-11T05:55:40.111Z"
   },
   {
    "duration": 29,
    "start_time": "2022-05-11T05:55:40.157Z"
   },
   {
    "duration": 27,
    "start_time": "2022-05-11T05:55:40.188Z"
   },
   {
    "duration": 87,
    "start_time": "2022-05-11T05:55:40.216Z"
   },
   {
    "duration": 88,
    "start_time": "2022-05-11T05:55:40.305Z"
   },
   {
    "duration": 71,
    "start_time": "2022-05-11T05:55:40.395Z"
   },
   {
    "duration": 66,
    "start_time": "2022-05-11T05:55:40.468Z"
   },
   {
    "duration": 0,
    "start_time": "2022-05-11T05:55:40.536Z"
   },
   {
    "duration": 0,
    "start_time": "2022-05-11T05:55:40.538Z"
   },
   {
    "duration": 0,
    "start_time": "2022-05-11T05:55:40.554Z"
   },
   {
    "duration": 0,
    "start_time": "2022-05-11T05:55:40.556Z"
   },
   {
    "duration": 0,
    "start_time": "2022-05-11T05:55:40.557Z"
   },
   {
    "duration": 0,
    "start_time": "2022-05-11T05:55:40.558Z"
   },
   {
    "duration": 0,
    "start_time": "2022-05-11T05:55:40.559Z"
   },
   {
    "duration": 0,
    "start_time": "2022-05-11T05:55:40.559Z"
   },
   {
    "duration": 0,
    "start_time": "2022-05-11T05:55:40.561Z"
   },
   {
    "duration": 0,
    "start_time": "2022-05-11T05:55:40.562Z"
   },
   {
    "duration": 0,
    "start_time": "2022-05-11T05:55:40.563Z"
   },
   {
    "duration": 0,
    "start_time": "2022-05-11T05:55:40.563Z"
   },
   {
    "duration": 0,
    "start_time": "2022-05-11T05:55:40.564Z"
   },
   {
    "duration": 0,
    "start_time": "2022-05-11T05:55:40.565Z"
   },
   {
    "duration": 0,
    "start_time": "2022-05-11T05:55:40.566Z"
   },
   {
    "duration": 0,
    "start_time": "2022-05-11T05:55:40.567Z"
   },
   {
    "duration": 0,
    "start_time": "2022-05-11T05:55:40.568Z"
   },
   {
    "duration": 0,
    "start_time": "2022-05-11T05:55:40.569Z"
   },
   {
    "duration": 0,
    "start_time": "2022-05-11T05:55:40.570Z"
   },
   {
    "duration": 0,
    "start_time": "2022-05-11T05:55:40.571Z"
   },
   {
    "duration": 0,
    "start_time": "2022-05-11T05:55:40.571Z"
   },
   {
    "duration": 0,
    "start_time": "2022-05-11T05:55:40.572Z"
   },
   {
    "duration": 0,
    "start_time": "2022-05-11T05:55:40.573Z"
   },
   {
    "duration": 0,
    "start_time": "2022-05-11T05:55:40.574Z"
   },
   {
    "duration": 9,
    "start_time": "2022-05-11T05:55:58.104Z"
   },
   {
    "duration": 11,
    "start_time": "2022-05-11T05:58:04.591Z"
   },
   {
    "duration": 11,
    "start_time": "2022-05-11T05:59:39.417Z"
   },
   {
    "duration": 7,
    "start_time": "2022-05-11T06:24:54.507Z"
   },
   {
    "duration": 8,
    "start_time": "2022-05-11T07:03:58.177Z"
   },
   {
    "duration": 2,
    "start_time": "2022-05-11T07:03:59.349Z"
   },
   {
    "duration": 2,
    "start_time": "2022-05-11T07:04:00.222Z"
   },
   {
    "duration": 2,
    "start_time": "2022-05-11T07:04:01.043Z"
   },
   {
    "duration": 401,
    "start_time": "2022-05-11T07:04:11.208Z"
   },
   {
    "duration": 163,
    "start_time": "2022-05-11T07:04:11.611Z"
   },
   {
    "duration": 18,
    "start_time": "2022-05-11T07:04:11.776Z"
   },
   {
    "duration": 31,
    "start_time": "2022-05-11T07:04:11.796Z"
   },
   {
    "duration": 4,
    "start_time": "2022-05-11T07:04:11.829Z"
   },
   {
    "duration": 15,
    "start_time": "2022-05-11T07:04:11.854Z"
   },
   {
    "duration": 16,
    "start_time": "2022-05-11T07:04:11.871Z"
   },
   {
    "duration": 31,
    "start_time": "2022-05-11T07:04:11.890Z"
   },
   {
    "duration": 43,
    "start_time": "2022-05-11T07:04:11.924Z"
   },
   {
    "duration": 31,
    "start_time": "2022-05-11T07:04:11.970Z"
   },
   {
    "duration": 104,
    "start_time": "2022-05-11T07:04:12.002Z"
   },
   {
    "duration": 94,
    "start_time": "2022-05-11T07:04:12.108Z"
   },
   {
    "duration": 71,
    "start_time": "2022-05-11T07:04:12.204Z"
   },
   {
    "duration": 66,
    "start_time": "2022-05-11T07:04:12.276Z"
   },
   {
    "duration": 0,
    "start_time": "2022-05-11T07:04:12.355Z"
   },
   {
    "duration": 0,
    "start_time": "2022-05-11T07:04:12.356Z"
   },
   {
    "duration": 0,
    "start_time": "2022-05-11T07:04:12.357Z"
   },
   {
    "duration": 0,
    "start_time": "2022-05-11T07:04:12.358Z"
   },
   {
    "duration": 0,
    "start_time": "2022-05-11T07:04:12.359Z"
   },
   {
    "duration": 0,
    "start_time": "2022-05-11T07:04:12.360Z"
   },
   {
    "duration": 0,
    "start_time": "2022-05-11T07:04:12.361Z"
   },
   {
    "duration": 0,
    "start_time": "2022-05-11T07:04:12.362Z"
   },
   {
    "duration": 0,
    "start_time": "2022-05-11T07:04:12.363Z"
   },
   {
    "duration": 0,
    "start_time": "2022-05-11T07:04:12.364Z"
   },
   {
    "duration": 0,
    "start_time": "2022-05-11T07:04:12.365Z"
   },
   {
    "duration": 0,
    "start_time": "2022-05-11T07:04:12.366Z"
   },
   {
    "duration": 0,
    "start_time": "2022-05-11T07:04:12.367Z"
   },
   {
    "duration": 0,
    "start_time": "2022-05-11T07:04:12.368Z"
   },
   {
    "duration": 0,
    "start_time": "2022-05-11T07:04:12.369Z"
   },
   {
    "duration": 0,
    "start_time": "2022-05-11T07:04:12.370Z"
   },
   {
    "duration": 0,
    "start_time": "2022-05-11T07:04:12.371Z"
   },
   {
    "duration": 0,
    "start_time": "2022-05-11T07:04:12.372Z"
   },
   {
    "duration": 0,
    "start_time": "2022-05-11T07:04:12.373Z"
   },
   {
    "duration": 0,
    "start_time": "2022-05-11T07:04:12.373Z"
   },
   {
    "duration": 0,
    "start_time": "2022-05-11T07:04:12.375Z"
   },
   {
    "duration": 0,
    "start_time": "2022-05-11T07:04:12.376Z"
   },
   {
    "duration": 0,
    "start_time": "2022-05-11T07:04:12.377Z"
   },
   {
    "duration": 0,
    "start_time": "2022-05-11T07:04:12.378Z"
   },
   {
    "duration": 7,
    "start_time": "2022-05-11T07:05:35.419Z"
   },
   {
    "duration": 428,
    "start_time": "2022-05-11T07:06:20.642Z"
   },
   {
    "duration": 166,
    "start_time": "2022-05-11T07:06:21.072Z"
   },
   {
    "duration": 22,
    "start_time": "2022-05-11T07:06:21.239Z"
   },
   {
    "duration": 40,
    "start_time": "2022-05-11T07:06:21.262Z"
   },
   {
    "duration": 20,
    "start_time": "2022-05-11T07:06:21.305Z"
   },
   {
    "duration": 35,
    "start_time": "2022-05-11T07:06:21.327Z"
   },
   {
    "duration": 35,
    "start_time": "2022-05-11T07:06:21.364Z"
   },
   {
    "duration": 50,
    "start_time": "2022-05-11T07:06:21.401Z"
   },
   {
    "duration": 54,
    "start_time": "2022-05-11T07:06:21.453Z"
   },
   {
    "duration": 48,
    "start_time": "2022-05-11T07:06:21.509Z"
   },
   {
    "duration": 89,
    "start_time": "2022-05-11T07:06:21.559Z"
   },
   {
    "duration": 87,
    "start_time": "2022-05-11T07:06:21.650Z"
   },
   {
    "duration": 75,
    "start_time": "2022-05-11T07:06:21.738Z"
   },
   {
    "duration": 77,
    "start_time": "2022-05-11T07:06:21.818Z"
   },
   {
    "duration": 0,
    "start_time": "2022-05-11T07:06:21.896Z"
   },
   {
    "duration": 0,
    "start_time": "2022-05-11T07:06:21.898Z"
   },
   {
    "duration": 0,
    "start_time": "2022-05-11T07:06:21.899Z"
   },
   {
    "duration": 0,
    "start_time": "2022-05-11T07:06:21.900Z"
   },
   {
    "duration": 0,
    "start_time": "2022-05-11T07:06:21.901Z"
   },
   {
    "duration": 0,
    "start_time": "2022-05-11T07:06:21.902Z"
   },
   {
    "duration": 0,
    "start_time": "2022-05-11T07:06:21.903Z"
   },
   {
    "duration": 0,
    "start_time": "2022-05-11T07:06:21.904Z"
   },
   {
    "duration": 0,
    "start_time": "2022-05-11T07:06:21.905Z"
   },
   {
    "duration": 0,
    "start_time": "2022-05-11T07:06:21.906Z"
   },
   {
    "duration": 0,
    "start_time": "2022-05-11T07:06:21.908Z"
   },
   {
    "duration": 0,
    "start_time": "2022-05-11T07:06:21.909Z"
   },
   {
    "duration": 0,
    "start_time": "2022-05-11T07:06:21.910Z"
   },
   {
    "duration": 0,
    "start_time": "2022-05-11T07:06:21.911Z"
   },
   {
    "duration": 0,
    "start_time": "2022-05-11T07:06:21.912Z"
   },
   {
    "duration": 0,
    "start_time": "2022-05-11T07:06:21.913Z"
   },
   {
    "duration": 0,
    "start_time": "2022-05-11T07:06:21.915Z"
   },
   {
    "duration": 0,
    "start_time": "2022-05-11T07:06:21.916Z"
   },
   {
    "duration": 0,
    "start_time": "2022-05-11T07:06:21.917Z"
   },
   {
    "duration": 0,
    "start_time": "2022-05-11T07:06:21.918Z"
   },
   {
    "duration": 0,
    "start_time": "2022-05-11T07:06:21.955Z"
   },
   {
    "duration": 0,
    "start_time": "2022-05-11T07:06:21.957Z"
   },
   {
    "duration": 0,
    "start_time": "2022-05-11T07:06:21.957Z"
   },
   {
    "duration": 0,
    "start_time": "2022-05-11T07:06:21.958Z"
   },
   {
    "duration": 7,
    "start_time": "2022-05-11T07:07:29.019Z"
   },
   {
    "duration": 7,
    "start_time": "2022-05-11T07:08:21.495Z"
   },
   {
    "duration": 7,
    "start_time": "2022-05-11T07:08:24.524Z"
   },
   {
    "duration": 422,
    "start_time": "2022-05-11T07:09:09.449Z"
   },
   {
    "duration": 170,
    "start_time": "2022-05-11T07:09:09.873Z"
   },
   {
    "duration": 18,
    "start_time": "2022-05-11T07:09:10.045Z"
   },
   {
    "duration": 52,
    "start_time": "2022-05-11T07:09:10.065Z"
   },
   {
    "duration": 14,
    "start_time": "2022-05-11T07:09:10.119Z"
   },
   {
    "duration": 27,
    "start_time": "2022-05-11T07:09:10.135Z"
   },
   {
    "duration": 29,
    "start_time": "2022-05-11T07:09:10.164Z"
   },
   {
    "duration": 54,
    "start_time": "2022-05-11T07:09:10.195Z"
   },
   {
    "duration": 42,
    "start_time": "2022-05-11T07:09:10.251Z"
   },
   {
    "duration": 37,
    "start_time": "2022-05-11T07:09:10.296Z"
   },
   {
    "duration": 93,
    "start_time": "2022-05-11T07:09:10.334Z"
   },
   {
    "duration": 96,
    "start_time": "2022-05-11T07:09:10.428Z"
   },
   {
    "duration": 74,
    "start_time": "2022-05-11T07:09:10.526Z"
   },
   {
    "duration": 80,
    "start_time": "2022-05-11T07:09:10.602Z"
   },
   {
    "duration": 0,
    "start_time": "2022-05-11T07:09:10.684Z"
   },
   {
    "duration": 0,
    "start_time": "2022-05-11T07:09:10.685Z"
   },
   {
    "duration": 0,
    "start_time": "2022-05-11T07:09:10.686Z"
   },
   {
    "duration": 0,
    "start_time": "2022-05-11T07:09:10.687Z"
   },
   {
    "duration": 0,
    "start_time": "2022-05-11T07:09:10.688Z"
   },
   {
    "duration": 0,
    "start_time": "2022-05-11T07:09:10.689Z"
   },
   {
    "duration": 0,
    "start_time": "2022-05-11T07:09:10.690Z"
   },
   {
    "duration": 0,
    "start_time": "2022-05-11T07:09:10.690Z"
   },
   {
    "duration": 0,
    "start_time": "2022-05-11T07:09:10.691Z"
   },
   {
    "duration": 0,
    "start_time": "2022-05-11T07:09:10.692Z"
   },
   {
    "duration": 0,
    "start_time": "2022-05-11T07:09:10.693Z"
   },
   {
    "duration": 0,
    "start_time": "2022-05-11T07:09:10.694Z"
   },
   {
    "duration": 0,
    "start_time": "2022-05-11T07:09:10.695Z"
   },
   {
    "duration": 0,
    "start_time": "2022-05-11T07:09:10.696Z"
   },
   {
    "duration": 0,
    "start_time": "2022-05-11T07:09:10.697Z"
   },
   {
    "duration": 0,
    "start_time": "2022-05-11T07:09:10.698Z"
   },
   {
    "duration": 0,
    "start_time": "2022-05-11T07:09:10.699Z"
   },
   {
    "duration": 0,
    "start_time": "2022-05-11T07:09:10.700Z"
   },
   {
    "duration": 0,
    "start_time": "2022-05-11T07:09:10.701Z"
   },
   {
    "duration": 0,
    "start_time": "2022-05-11T07:09:10.702Z"
   },
   {
    "duration": 0,
    "start_time": "2022-05-11T07:09:10.703Z"
   },
   {
    "duration": 0,
    "start_time": "2022-05-11T07:09:10.704Z"
   },
   {
    "duration": 0,
    "start_time": "2022-05-11T07:09:10.705Z"
   },
   {
    "duration": 0,
    "start_time": "2022-05-11T07:09:10.705Z"
   },
   {
    "duration": 140,
    "start_time": "2022-05-11T07:09:56.095Z"
   },
   {
    "duration": 8,
    "start_time": "2022-05-11T07:10:29.085Z"
   },
   {
    "duration": 4,
    "start_time": "2022-05-11T07:10:32.776Z"
   },
   {
    "duration": 14,
    "start_time": "2022-05-11T07:12:05.244Z"
   },
   {
    "duration": 426,
    "start_time": "2022-05-11T07:12:36.049Z"
   },
   {
    "duration": 173,
    "start_time": "2022-05-11T07:12:36.477Z"
   },
   {
    "duration": 18,
    "start_time": "2022-05-11T07:12:36.652Z"
   },
   {
    "duration": 33,
    "start_time": "2022-05-11T07:12:36.672Z"
   },
   {
    "duration": 10,
    "start_time": "2022-05-11T07:12:36.707Z"
   },
   {
    "duration": 23,
    "start_time": "2022-05-11T07:12:36.718Z"
   },
   {
    "duration": 15,
    "start_time": "2022-05-11T07:12:36.742Z"
   },
   {
    "duration": 40,
    "start_time": "2022-05-11T07:12:36.759Z"
   },
   {
    "duration": 38,
    "start_time": "2022-05-11T07:12:36.801Z"
   },
   {
    "duration": 36,
    "start_time": "2022-05-11T07:12:36.842Z"
   },
   {
    "duration": 85,
    "start_time": "2022-05-11T07:12:36.880Z"
   },
   {
    "duration": 96,
    "start_time": "2022-05-11T07:12:36.967Z"
   },
   {
    "duration": 72,
    "start_time": "2022-05-11T07:12:37.065Z"
   },
   {
    "duration": 83,
    "start_time": "2022-05-11T07:12:37.139Z"
   },
   {
    "duration": 0,
    "start_time": "2022-05-11T07:12:37.224Z"
   },
   {
    "duration": 0,
    "start_time": "2022-05-11T07:12:37.224Z"
   },
   {
    "duration": 0,
    "start_time": "2022-05-11T07:12:37.225Z"
   },
   {
    "duration": 0,
    "start_time": "2022-05-11T07:12:37.226Z"
   },
   {
    "duration": 0,
    "start_time": "2022-05-11T07:12:37.227Z"
   },
   {
    "duration": 0,
    "start_time": "2022-05-11T07:12:37.228Z"
   },
   {
    "duration": 0,
    "start_time": "2022-05-11T07:12:37.228Z"
   },
   {
    "duration": 0,
    "start_time": "2022-05-11T07:12:37.230Z"
   },
   {
    "duration": 0,
    "start_time": "2022-05-11T07:12:37.231Z"
   },
   {
    "duration": 0,
    "start_time": "2022-05-11T07:12:37.232Z"
   },
   {
    "duration": 0,
    "start_time": "2022-05-11T07:12:37.233Z"
   },
   {
    "duration": 0,
    "start_time": "2022-05-11T07:12:37.234Z"
   },
   {
    "duration": 1,
    "start_time": "2022-05-11T07:12:37.234Z"
   },
   {
    "duration": 0,
    "start_time": "2022-05-11T07:12:37.235Z"
   },
   {
    "duration": 0,
    "start_time": "2022-05-11T07:12:37.236Z"
   },
   {
    "duration": 0,
    "start_time": "2022-05-11T07:12:37.236Z"
   },
   {
    "duration": 0,
    "start_time": "2022-05-11T07:12:37.237Z"
   },
   {
    "duration": 0,
    "start_time": "2022-05-11T07:12:37.237Z"
   },
   {
    "duration": 0,
    "start_time": "2022-05-11T07:12:37.255Z"
   },
   {
    "duration": 0,
    "start_time": "2022-05-11T07:12:37.257Z"
   },
   {
    "duration": 0,
    "start_time": "2022-05-11T07:12:37.258Z"
   },
   {
    "duration": 1,
    "start_time": "2022-05-11T07:12:37.258Z"
   },
   {
    "duration": 0,
    "start_time": "2022-05-11T07:12:37.259Z"
   },
   {
    "duration": 0,
    "start_time": "2022-05-11T07:12:37.260Z"
   },
   {
    "duration": 7,
    "start_time": "2022-05-11T07:12:53.874Z"
   },
   {
    "duration": 7,
    "start_time": "2022-05-11T07:14:44.908Z"
   },
   {
    "duration": 7,
    "start_time": "2022-05-11T07:14:48.669Z"
   },
   {
    "duration": 3,
    "start_time": "2022-05-11T07:14:51.839Z"
   },
   {
    "duration": 3,
    "start_time": "2022-05-11T07:14:55.500Z"
   },
   {
    "duration": 397,
    "start_time": "2022-05-11T07:15:22.772Z"
   },
   {
    "duration": 159,
    "start_time": "2022-05-11T07:15:23.171Z"
   },
   {
    "duration": 17,
    "start_time": "2022-05-11T07:15:23.331Z"
   },
   {
    "duration": 42,
    "start_time": "2022-05-11T07:15:23.354Z"
   },
   {
    "duration": 28,
    "start_time": "2022-05-11T07:15:23.398Z"
   },
   {
    "duration": 39,
    "start_time": "2022-05-11T07:15:23.428Z"
   },
   {
    "duration": 43,
    "start_time": "2022-05-11T07:15:23.469Z"
   },
   {
    "duration": 45,
    "start_time": "2022-05-11T07:15:23.514Z"
   },
   {
    "duration": 64,
    "start_time": "2022-05-11T07:15:23.561Z"
   },
   {
    "duration": 39,
    "start_time": "2022-05-11T07:15:23.628Z"
   },
   {
    "duration": 104,
    "start_time": "2022-05-11T07:15:23.669Z"
   },
   {
    "duration": 87,
    "start_time": "2022-05-11T07:15:23.775Z"
   },
   {
    "duration": 63,
    "start_time": "2022-05-11T07:15:23.864Z"
   },
   {
    "duration": 76,
    "start_time": "2022-05-11T07:15:23.929Z"
   },
   {
    "duration": 0,
    "start_time": "2022-05-11T07:15:24.007Z"
   },
   {
    "duration": 0,
    "start_time": "2022-05-11T07:15:24.009Z"
   },
   {
    "duration": 0,
    "start_time": "2022-05-11T07:15:24.009Z"
   },
   {
    "duration": 0,
    "start_time": "2022-05-11T07:15:24.011Z"
   },
   {
    "duration": 0,
    "start_time": "2022-05-11T07:15:24.011Z"
   },
   {
    "duration": 0,
    "start_time": "2022-05-11T07:15:24.013Z"
   },
   {
    "duration": 0,
    "start_time": "2022-05-11T07:15:24.014Z"
   },
   {
    "duration": 0,
    "start_time": "2022-05-11T07:15:24.015Z"
   },
   {
    "duration": 0,
    "start_time": "2022-05-11T07:15:24.016Z"
   },
   {
    "duration": 0,
    "start_time": "2022-05-11T07:15:24.017Z"
   },
   {
    "duration": 0,
    "start_time": "2022-05-11T07:15:24.018Z"
   },
   {
    "duration": 0,
    "start_time": "2022-05-11T07:15:24.019Z"
   },
   {
    "duration": 0,
    "start_time": "2022-05-11T07:15:24.020Z"
   },
   {
    "duration": 0,
    "start_time": "2022-05-11T07:15:24.022Z"
   },
   {
    "duration": 0,
    "start_time": "2022-05-11T07:15:24.023Z"
   },
   {
    "duration": 0,
    "start_time": "2022-05-11T07:15:24.024Z"
   },
   {
    "duration": 0,
    "start_time": "2022-05-11T07:15:24.025Z"
   },
   {
    "duration": 1,
    "start_time": "2022-05-11T07:15:24.054Z"
   },
   {
    "duration": 0,
    "start_time": "2022-05-11T07:15:24.055Z"
   },
   {
    "duration": 0,
    "start_time": "2022-05-11T07:15:24.056Z"
   },
   {
    "duration": 0,
    "start_time": "2022-05-11T07:15:24.057Z"
   },
   {
    "duration": 0,
    "start_time": "2022-05-11T07:15:24.059Z"
   },
   {
    "duration": 0,
    "start_time": "2022-05-11T07:15:24.060Z"
   },
   {
    "duration": 0,
    "start_time": "2022-05-11T07:15:24.061Z"
   },
   {
    "duration": 9,
    "start_time": "2022-05-11T07:16:16.083Z"
   },
   {
    "duration": 9,
    "start_time": "2022-05-11T07:19:05.302Z"
   },
   {
    "duration": 390,
    "start_time": "2022-05-11T07:19:46.484Z"
   },
   {
    "duration": 164,
    "start_time": "2022-05-11T07:19:46.876Z"
   },
   {
    "duration": 18,
    "start_time": "2022-05-11T07:19:47.043Z"
   },
   {
    "duration": 31,
    "start_time": "2022-05-11T07:19:47.063Z"
   },
   {
    "duration": 5,
    "start_time": "2022-05-11T07:19:47.096Z"
   },
   {
    "duration": 21,
    "start_time": "2022-05-11T07:19:47.102Z"
   },
   {
    "duration": 6,
    "start_time": "2022-05-11T07:19:47.125Z"
   },
   {
    "duration": 46,
    "start_time": "2022-05-11T07:19:47.133Z"
   },
   {
    "duration": 33,
    "start_time": "2022-05-11T07:19:47.180Z"
   },
   {
    "duration": 44,
    "start_time": "2022-05-11T07:19:47.216Z"
   },
   {
    "duration": 70,
    "start_time": "2022-05-11T07:19:47.261Z"
   },
   {
    "duration": 94,
    "start_time": "2022-05-11T07:19:47.333Z"
   },
   {
    "duration": 75,
    "start_time": "2022-05-11T07:19:47.429Z"
   },
   {
    "duration": 72,
    "start_time": "2022-05-11T07:19:47.505Z"
   },
   {
    "duration": 0,
    "start_time": "2022-05-11T07:19:47.579Z"
   },
   {
    "duration": 0,
    "start_time": "2022-05-11T07:19:47.580Z"
   },
   {
    "duration": 0,
    "start_time": "2022-05-11T07:19:47.581Z"
   },
   {
    "duration": 0,
    "start_time": "2022-05-11T07:19:47.582Z"
   },
   {
    "duration": 0,
    "start_time": "2022-05-11T07:19:47.583Z"
   },
   {
    "duration": 0,
    "start_time": "2022-05-11T07:19:47.584Z"
   },
   {
    "duration": 0,
    "start_time": "2022-05-11T07:19:47.585Z"
   },
   {
    "duration": 0,
    "start_time": "2022-05-11T07:19:47.587Z"
   },
   {
    "duration": 0,
    "start_time": "2022-05-11T07:19:47.588Z"
   },
   {
    "duration": 0,
    "start_time": "2022-05-11T07:19:47.589Z"
   },
   {
    "duration": 0,
    "start_time": "2022-05-11T07:19:47.590Z"
   },
   {
    "duration": 0,
    "start_time": "2022-05-11T07:19:47.592Z"
   },
   {
    "duration": 0,
    "start_time": "2022-05-11T07:19:47.593Z"
   },
   {
    "duration": 0,
    "start_time": "2022-05-11T07:19:47.594Z"
   },
   {
    "duration": 0,
    "start_time": "2022-05-11T07:19:47.595Z"
   },
   {
    "duration": 0,
    "start_time": "2022-05-11T07:19:47.596Z"
   },
   {
    "duration": 0,
    "start_time": "2022-05-11T07:19:47.597Z"
   },
   {
    "duration": 0,
    "start_time": "2022-05-11T07:19:47.598Z"
   },
   {
    "duration": 0,
    "start_time": "2022-05-11T07:19:47.599Z"
   },
   {
    "duration": 0,
    "start_time": "2022-05-11T07:19:47.600Z"
   },
   {
    "duration": 0,
    "start_time": "2022-05-11T07:19:47.601Z"
   },
   {
    "duration": 0,
    "start_time": "2022-05-11T07:19:47.602Z"
   },
   {
    "duration": 0,
    "start_time": "2022-05-11T07:19:47.603Z"
   },
   {
    "duration": 0,
    "start_time": "2022-05-11T07:19:47.604Z"
   },
   {
    "duration": 7,
    "start_time": "2022-05-11T07:20:09.413Z"
   },
   {
    "duration": 398,
    "start_time": "2022-05-11T07:21:14.083Z"
   },
   {
    "duration": 171,
    "start_time": "2022-05-11T07:21:14.483Z"
   },
   {
    "duration": 19,
    "start_time": "2022-05-11T07:21:14.656Z"
   },
   {
    "duration": 33,
    "start_time": "2022-05-11T07:21:14.677Z"
   },
   {
    "duration": 4,
    "start_time": "2022-05-11T07:21:14.712Z"
   },
   {
    "duration": 41,
    "start_time": "2022-05-11T07:21:14.718Z"
   },
   {
    "duration": 5,
    "start_time": "2022-05-11T07:21:14.760Z"
   },
   {
    "duration": 37,
    "start_time": "2022-05-11T07:21:14.766Z"
   },
   {
    "duration": 32,
    "start_time": "2022-05-11T07:21:14.805Z"
   },
   {
    "duration": 44,
    "start_time": "2022-05-11T07:21:14.839Z"
   },
   {
    "duration": 90,
    "start_time": "2022-05-11T07:21:14.885Z"
   },
   {
    "duration": 101,
    "start_time": "2022-05-11T07:21:14.977Z"
   },
   {
    "duration": 75,
    "start_time": "2022-05-11T07:21:15.080Z"
   },
   {
    "duration": 68,
    "start_time": "2022-05-11T07:21:15.157Z"
   },
   {
    "duration": 0,
    "start_time": "2022-05-11T07:21:15.227Z"
   },
   {
    "duration": 0,
    "start_time": "2022-05-11T07:21:15.227Z"
   },
   {
    "duration": 0,
    "start_time": "2022-05-11T07:21:15.228Z"
   },
   {
    "duration": 0,
    "start_time": "2022-05-11T07:21:15.229Z"
   },
   {
    "duration": 0,
    "start_time": "2022-05-11T07:21:15.230Z"
   },
   {
    "duration": 0,
    "start_time": "2022-05-11T07:21:15.231Z"
   },
   {
    "duration": 0,
    "start_time": "2022-05-11T07:21:15.233Z"
   },
   {
    "duration": 0,
    "start_time": "2022-05-11T07:21:15.234Z"
   },
   {
    "duration": 0,
    "start_time": "2022-05-11T07:21:15.255Z"
   },
   {
    "duration": 0,
    "start_time": "2022-05-11T07:21:15.256Z"
   },
   {
    "duration": 0,
    "start_time": "2022-05-11T07:21:15.257Z"
   },
   {
    "duration": 0,
    "start_time": "2022-05-11T07:21:15.258Z"
   },
   {
    "duration": 0,
    "start_time": "2022-05-11T07:21:15.259Z"
   },
   {
    "duration": 0,
    "start_time": "2022-05-11T07:21:15.260Z"
   },
   {
    "duration": 0,
    "start_time": "2022-05-11T07:21:15.261Z"
   },
   {
    "duration": 0,
    "start_time": "2022-05-11T07:21:15.263Z"
   },
   {
    "duration": 0,
    "start_time": "2022-05-11T07:21:15.264Z"
   },
   {
    "duration": 0,
    "start_time": "2022-05-11T07:21:15.265Z"
   },
   {
    "duration": 0,
    "start_time": "2022-05-11T07:21:15.266Z"
   },
   {
    "duration": 0,
    "start_time": "2022-05-11T07:21:15.267Z"
   },
   {
    "duration": 0,
    "start_time": "2022-05-11T07:21:15.268Z"
   },
   {
    "duration": 0,
    "start_time": "2022-05-11T07:21:15.269Z"
   },
   {
    "duration": 0,
    "start_time": "2022-05-11T07:21:15.270Z"
   },
   {
    "duration": 0,
    "start_time": "2022-05-11T07:21:15.271Z"
   },
   {
    "duration": 8,
    "start_time": "2022-05-11T07:21:28.660Z"
   },
   {
    "duration": 5,
    "start_time": "2022-05-11T07:40:11.434Z"
   },
   {
    "duration": 475,
    "start_time": "2022-05-11T07:40:19.621Z"
   },
   {
    "duration": 204,
    "start_time": "2022-05-11T07:40:20.099Z"
   },
   {
    "duration": 19,
    "start_time": "2022-05-11T07:40:20.306Z"
   },
   {
    "duration": 53,
    "start_time": "2022-05-11T07:40:20.327Z"
   },
   {
    "duration": 7,
    "start_time": "2022-05-11T07:40:20.382Z"
   },
   {
    "duration": 23,
    "start_time": "2022-05-11T07:40:20.391Z"
   },
   {
    "duration": 9,
    "start_time": "2022-05-11T07:40:20.417Z"
   },
   {
    "duration": 54,
    "start_time": "2022-05-11T07:40:20.428Z"
   },
   {
    "duration": 38,
    "start_time": "2022-05-11T07:40:20.484Z"
   },
   {
    "duration": 59,
    "start_time": "2022-05-11T07:40:20.525Z"
   },
   {
    "duration": 119,
    "start_time": "2022-05-11T07:40:20.585Z"
   },
   {
    "duration": 101,
    "start_time": "2022-05-11T07:40:20.706Z"
   },
   {
    "duration": 78,
    "start_time": "2022-05-11T07:40:20.809Z"
   },
   {
    "duration": 79,
    "start_time": "2022-05-11T07:40:20.889Z"
   },
   {
    "duration": 0,
    "start_time": "2022-05-11T07:40:20.970Z"
   },
   {
    "duration": 0,
    "start_time": "2022-05-11T07:40:20.972Z"
   },
   {
    "duration": 0,
    "start_time": "2022-05-11T07:40:20.974Z"
   },
   {
    "duration": 0,
    "start_time": "2022-05-11T07:40:20.975Z"
   },
   {
    "duration": 0,
    "start_time": "2022-05-11T07:40:20.977Z"
   },
   {
    "duration": 0,
    "start_time": "2022-05-11T07:40:20.978Z"
   },
   {
    "duration": 0,
    "start_time": "2022-05-11T07:40:20.979Z"
   },
   {
    "duration": 0,
    "start_time": "2022-05-11T07:40:20.981Z"
   },
   {
    "duration": 0,
    "start_time": "2022-05-11T07:40:20.982Z"
   },
   {
    "duration": 0,
    "start_time": "2022-05-11T07:40:20.984Z"
   },
   {
    "duration": 0,
    "start_time": "2022-05-11T07:40:20.987Z"
   },
   {
    "duration": 0,
    "start_time": "2022-05-11T07:40:20.988Z"
   },
   {
    "duration": 1,
    "start_time": "2022-05-11T07:40:20.989Z"
   },
   {
    "duration": 0,
    "start_time": "2022-05-11T07:40:20.991Z"
   },
   {
    "duration": 0,
    "start_time": "2022-05-11T07:40:20.992Z"
   },
   {
    "duration": 0,
    "start_time": "2022-05-11T07:40:20.993Z"
   },
   {
    "duration": 0,
    "start_time": "2022-05-11T07:40:20.995Z"
   },
   {
    "duration": 0,
    "start_time": "2022-05-11T07:40:20.996Z"
   },
   {
    "duration": 0,
    "start_time": "2022-05-11T07:40:20.997Z"
   },
   {
    "duration": 0,
    "start_time": "2022-05-11T07:40:20.998Z"
   },
   {
    "duration": 0,
    "start_time": "2022-05-11T07:40:20.999Z"
   },
   {
    "duration": 0,
    "start_time": "2022-05-11T07:40:21.000Z"
   },
   {
    "duration": 0,
    "start_time": "2022-05-11T07:40:21.001Z"
   },
   {
    "duration": 0,
    "start_time": "2022-05-11T07:40:21.002Z"
   },
   {
    "duration": 7,
    "start_time": "2022-05-11T07:41:11.785Z"
   },
   {
    "duration": 13,
    "start_time": "2022-05-11T07:41:54.804Z"
   },
   {
    "duration": 13,
    "start_time": "2022-05-11T07:41:58.393Z"
   },
   {
    "duration": 5,
    "start_time": "2022-05-11T07:42:43.711Z"
   },
   {
    "duration": 8,
    "start_time": "2022-05-11T07:43:22.769Z"
   },
   {
    "duration": 145,
    "start_time": "2022-05-11T07:44:57.822Z"
   },
   {
    "duration": 6,
    "start_time": "2022-05-11T07:45:34.535Z"
   },
   {
    "duration": 12,
    "start_time": "2022-05-11T07:47:03.032Z"
   },
   {
    "duration": 29,
    "start_time": "2022-05-11T07:47:11.600Z"
   },
   {
    "duration": 11,
    "start_time": "2022-05-11T07:49:16.510Z"
   },
   {
    "duration": 9,
    "start_time": "2022-05-11T07:51:28.858Z"
   },
   {
    "duration": 10,
    "start_time": "2022-05-11T07:51:30.320Z"
   },
   {
    "duration": 11,
    "start_time": "2022-05-11T07:51:31.240Z"
   },
   {
    "duration": 12,
    "start_time": "2022-05-11T07:51:35.700Z"
   },
   {
    "duration": 8,
    "start_time": "2022-05-11T07:51:52.964Z"
   },
   {
    "duration": 10,
    "start_time": "2022-05-11T07:52:05.959Z"
   },
   {
    "duration": 10,
    "start_time": "2022-05-11T07:52:06.881Z"
   },
   {
    "duration": 9,
    "start_time": "2022-05-11T07:53:54.442Z"
   },
   {
    "duration": 9,
    "start_time": "2022-05-11T07:53:55.364Z"
   },
   {
    "duration": 439,
    "start_time": "2022-05-11T07:54:02.725Z"
   },
   {
    "duration": 273,
    "start_time": "2022-05-11T07:54:03.166Z"
   },
   {
    "duration": 25,
    "start_time": "2022-05-11T07:54:03.441Z"
   },
   {
    "duration": 32,
    "start_time": "2022-05-11T07:54:03.469Z"
   },
   {
    "duration": 5,
    "start_time": "2022-05-11T07:54:03.503Z"
   },
   {
    "duration": 16,
    "start_time": "2022-05-11T07:54:03.510Z"
   },
   {
    "duration": 5,
    "start_time": "2022-05-11T07:54:03.556Z"
   },
   {
    "duration": 29,
    "start_time": "2022-05-11T07:54:03.562Z"
   },
   {
    "duration": 32,
    "start_time": "2022-05-11T07:54:03.594Z"
   },
   {
    "duration": 45,
    "start_time": "2022-05-11T07:54:03.629Z"
   },
   {
    "duration": 96,
    "start_time": "2022-05-11T07:54:03.676Z"
   },
   {
    "duration": 105,
    "start_time": "2022-05-11T07:54:03.774Z"
   },
   {
    "duration": 68,
    "start_time": "2022-05-11T07:54:03.881Z"
   },
   {
    "duration": 68,
    "start_time": "2022-05-11T07:54:03.955Z"
   },
   {
    "duration": 0,
    "start_time": "2022-05-11T07:54:04.025Z"
   },
   {
    "duration": 0,
    "start_time": "2022-05-11T07:54:04.026Z"
   },
   {
    "duration": 0,
    "start_time": "2022-05-11T07:54:04.027Z"
   },
   {
    "duration": 0,
    "start_time": "2022-05-11T07:54:04.028Z"
   },
   {
    "duration": 0,
    "start_time": "2022-05-11T07:54:04.029Z"
   },
   {
    "duration": 0,
    "start_time": "2022-05-11T07:54:04.030Z"
   },
   {
    "duration": 0,
    "start_time": "2022-05-11T07:54:04.031Z"
   },
   {
    "duration": 0,
    "start_time": "2022-05-11T07:54:04.032Z"
   },
   {
    "duration": 0,
    "start_time": "2022-05-11T07:54:04.055Z"
   },
   {
    "duration": 0,
    "start_time": "2022-05-11T07:54:04.056Z"
   },
   {
    "duration": 0,
    "start_time": "2022-05-11T07:54:04.057Z"
   },
   {
    "duration": 0,
    "start_time": "2022-05-11T07:54:04.058Z"
   },
   {
    "duration": 1,
    "start_time": "2022-05-11T07:54:04.059Z"
   },
   {
    "duration": 0,
    "start_time": "2022-05-11T07:54:04.060Z"
   },
   {
    "duration": 0,
    "start_time": "2022-05-11T07:54:04.061Z"
   },
   {
    "duration": 0,
    "start_time": "2022-05-11T07:54:04.063Z"
   },
   {
    "duration": 0,
    "start_time": "2022-05-11T07:54:04.064Z"
   },
   {
    "duration": 0,
    "start_time": "2022-05-11T07:54:04.065Z"
   },
   {
    "duration": 0,
    "start_time": "2022-05-11T07:54:04.066Z"
   },
   {
    "duration": 0,
    "start_time": "2022-05-11T07:54:04.067Z"
   },
   {
    "duration": 0,
    "start_time": "2022-05-11T07:54:04.068Z"
   },
   {
    "duration": 0,
    "start_time": "2022-05-11T07:54:04.069Z"
   },
   {
    "duration": 0,
    "start_time": "2022-05-11T07:54:04.070Z"
   },
   {
    "duration": 0,
    "start_time": "2022-05-11T07:54:04.071Z"
   },
   {
    "duration": 9,
    "start_time": "2022-05-11T07:54:19.243Z"
   },
   {
    "duration": 11,
    "start_time": "2022-05-11T07:55:07.178Z"
   },
   {
    "duration": 12,
    "start_time": "2022-05-11T07:55:08.030Z"
   },
   {
    "duration": 11,
    "start_time": "2022-05-11T07:55:10.505Z"
   },
   {
    "duration": 137,
    "start_time": "2022-05-11T07:55:42.234Z"
   },
   {
    "duration": 11,
    "start_time": "2022-05-11T07:55:52.846Z"
   },
   {
    "duration": 10,
    "start_time": "2022-05-11T07:57:54.801Z"
   },
   {
    "duration": 11,
    "start_time": "2022-05-11T07:57:57.682Z"
   },
   {
    "duration": 84,
    "start_time": "2022-05-11T07:58:27.910Z"
   },
   {
    "duration": 78,
    "start_time": "2022-05-11T07:58:33.189Z"
   },
   {
    "duration": 9,
    "start_time": "2022-05-11T07:59:33.987Z"
   },
   {
    "duration": 13,
    "start_time": "2022-05-11T08:03:37.545Z"
   },
   {
    "duration": 12,
    "start_time": "2022-05-11T08:03:42.468Z"
   },
   {
    "duration": 13,
    "start_time": "2022-05-11T08:06:05.412Z"
   },
   {
    "duration": 11,
    "start_time": "2022-05-11T08:07:52.032Z"
   },
   {
    "duration": 64,
    "start_time": "2022-05-11T08:09:46.538Z"
   },
   {
    "duration": 72,
    "start_time": "2022-05-11T08:10:03.122Z"
   },
   {
    "duration": 67,
    "start_time": "2022-05-11T08:10:19.583Z"
   },
   {
    "duration": 68,
    "start_time": "2022-05-11T08:10:59.572Z"
   },
   {
    "duration": 176,
    "start_time": "2022-05-11T08:14:09.805Z"
   },
   {
    "duration": 4,
    "start_time": "2022-05-11T08:14:39.044Z"
   },
   {
    "duration": 4,
    "start_time": "2022-05-11T08:14:41.904Z"
   },
   {
    "duration": 430,
    "start_time": "2022-05-11T08:15:05.081Z"
   },
   {
    "duration": 181,
    "start_time": "2022-05-11T08:15:05.514Z"
   },
   {
    "duration": 24,
    "start_time": "2022-05-11T08:15:05.697Z"
   },
   {
    "duration": 65,
    "start_time": "2022-05-11T08:15:05.724Z"
   },
   {
    "duration": 6,
    "start_time": "2022-05-11T08:15:07.219Z"
   },
   {
    "duration": 15,
    "start_time": "2022-05-11T08:15:07.261Z"
   },
   {
    "duration": 7,
    "start_time": "2022-05-11T08:15:07.278Z"
   },
   {
    "duration": 65,
    "start_time": "2022-05-11T08:15:07.291Z"
   },
   {
    "duration": 36,
    "start_time": "2022-05-11T08:15:07.358Z"
   },
   {
    "duration": 36,
    "start_time": "2022-05-11T08:15:07.397Z"
   },
   {
    "duration": 153,
    "start_time": "2022-05-11T08:15:07.456Z"
   },
   {
    "duration": 190,
    "start_time": "2022-05-11T08:15:07.613Z"
   },
   {
    "duration": 115,
    "start_time": "2022-05-11T08:15:07.806Z"
   },
   {
    "duration": 83,
    "start_time": "2022-05-11T08:15:07.924Z"
   },
   {
    "duration": 5,
    "start_time": "2022-05-11T08:15:08.009Z"
   },
   {
    "duration": 116,
    "start_time": "2022-05-11T08:15:08.016Z"
   },
   {
    "duration": 0,
    "start_time": "2022-05-11T08:15:08.134Z"
   },
   {
    "duration": 1,
    "start_time": "2022-05-11T08:15:08.135Z"
   },
   {
    "duration": 0,
    "start_time": "2022-05-11T08:15:08.136Z"
   },
   {
    "duration": 0,
    "start_time": "2022-05-11T08:15:08.137Z"
   },
   {
    "duration": 0,
    "start_time": "2022-05-11T08:15:08.138Z"
   },
   {
    "duration": 0,
    "start_time": "2022-05-11T08:15:08.139Z"
   },
   {
    "duration": 0,
    "start_time": "2022-05-11T08:15:08.155Z"
   },
   {
    "duration": 0,
    "start_time": "2022-05-11T08:15:08.156Z"
   },
   {
    "duration": 0,
    "start_time": "2022-05-11T08:15:08.157Z"
   },
   {
    "duration": 0,
    "start_time": "2022-05-11T08:15:08.158Z"
   },
   {
    "duration": 0,
    "start_time": "2022-05-11T08:15:08.160Z"
   },
   {
    "duration": 0,
    "start_time": "2022-05-11T08:15:08.161Z"
   },
   {
    "duration": 1,
    "start_time": "2022-05-11T08:15:08.162Z"
   },
   {
    "duration": 0,
    "start_time": "2022-05-11T08:15:08.164Z"
   },
   {
    "duration": 0,
    "start_time": "2022-05-11T08:15:08.165Z"
   },
   {
    "duration": 0,
    "start_time": "2022-05-11T08:15:08.166Z"
   },
   {
    "duration": 0,
    "start_time": "2022-05-11T08:15:08.167Z"
   },
   {
    "duration": 0,
    "start_time": "2022-05-11T08:15:08.169Z"
   },
   {
    "duration": 0,
    "start_time": "2022-05-11T08:15:08.170Z"
   },
   {
    "duration": 0,
    "start_time": "2022-05-11T08:15:08.171Z"
   },
   {
    "duration": 0,
    "start_time": "2022-05-11T08:15:08.172Z"
   },
   {
    "duration": 0,
    "start_time": "2022-05-11T08:15:08.173Z"
   },
   {
    "duration": 10,
    "start_time": "2022-05-11T08:15:31.786Z"
   },
   {
    "duration": 10,
    "start_time": "2022-05-11T08:18:22.860Z"
   },
   {
    "duration": 5,
    "start_time": "2022-05-11T08:18:25.630Z"
   },
   {
    "duration": 11,
    "start_time": "2022-05-11T08:18:32.395Z"
   },
   {
    "duration": 423,
    "start_time": "2022-05-11T08:18:38.570Z"
   },
   {
    "duration": 178,
    "start_time": "2022-05-11T08:18:38.995Z"
   },
   {
    "duration": 22,
    "start_time": "2022-05-11T08:18:39.175Z"
   },
   {
    "duration": 61,
    "start_time": "2022-05-11T08:18:39.200Z"
   },
   {
    "duration": 7,
    "start_time": "2022-05-11T08:18:39.263Z"
   },
   {
    "duration": 18,
    "start_time": "2022-05-11T08:18:39.272Z"
   },
   {
    "duration": 13,
    "start_time": "2022-05-11T08:18:39.292Z"
   },
   {
    "duration": 52,
    "start_time": "2022-05-11T08:18:39.307Z"
   },
   {
    "duration": 45,
    "start_time": "2022-05-11T08:18:39.361Z"
   },
   {
    "duration": 35,
    "start_time": "2022-05-11T08:18:39.410Z"
   },
   {
    "duration": 89,
    "start_time": "2022-05-11T08:18:39.454Z"
   },
   {
    "duration": 106,
    "start_time": "2022-05-11T08:18:39.556Z"
   },
   {
    "duration": 120,
    "start_time": "2022-05-11T08:18:39.664Z"
   },
   {
    "duration": 86,
    "start_time": "2022-05-11T08:18:39.786Z"
   },
   {
    "duration": 5,
    "start_time": "2022-05-11T08:18:39.873Z"
   },
   {
    "duration": 118,
    "start_time": "2022-05-11T08:18:39.880Z"
   },
   {
    "duration": 0,
    "start_time": "2022-05-11T08:18:40.001Z"
   },
   {
    "duration": 0,
    "start_time": "2022-05-11T08:18:40.003Z"
   },
   {
    "duration": 0,
    "start_time": "2022-05-11T08:18:40.005Z"
   },
   {
    "duration": 0,
    "start_time": "2022-05-11T08:18:40.006Z"
   },
   {
    "duration": 0,
    "start_time": "2022-05-11T08:18:40.008Z"
   },
   {
    "duration": 0,
    "start_time": "2022-05-11T08:18:40.010Z"
   },
   {
    "duration": 0,
    "start_time": "2022-05-11T08:18:40.011Z"
   },
   {
    "duration": 0,
    "start_time": "2022-05-11T08:18:40.013Z"
   },
   {
    "duration": 0,
    "start_time": "2022-05-11T08:18:40.014Z"
   },
   {
    "duration": 0,
    "start_time": "2022-05-11T08:18:40.016Z"
   },
   {
    "duration": 0,
    "start_time": "2022-05-11T08:18:40.017Z"
   },
   {
    "duration": 0,
    "start_time": "2022-05-11T08:18:40.019Z"
   },
   {
    "duration": 0,
    "start_time": "2022-05-11T08:18:40.020Z"
   },
   {
    "duration": 0,
    "start_time": "2022-05-11T08:18:40.054Z"
   },
   {
    "duration": 0,
    "start_time": "2022-05-11T08:18:40.056Z"
   },
   {
    "duration": 0,
    "start_time": "2022-05-11T08:18:40.058Z"
   },
   {
    "duration": 0,
    "start_time": "2022-05-11T08:18:40.060Z"
   },
   {
    "duration": 0,
    "start_time": "2022-05-11T08:18:40.061Z"
   },
   {
    "duration": 0,
    "start_time": "2022-05-11T08:18:40.063Z"
   },
   {
    "duration": 0,
    "start_time": "2022-05-11T08:18:40.064Z"
   },
   {
    "duration": 0,
    "start_time": "2022-05-11T08:18:40.065Z"
   },
   {
    "duration": 0,
    "start_time": "2022-05-11T08:18:40.067Z"
   },
   {
    "duration": 6,
    "start_time": "2022-05-11T08:19:06.809Z"
   },
   {
    "duration": 9,
    "start_time": "2022-05-11T08:19:09.615Z"
   },
   {
    "duration": 13,
    "start_time": "2022-05-11T08:22:57.236Z"
   },
   {
    "duration": 13,
    "start_time": "2022-05-11T08:23:00.604Z"
   },
   {
    "duration": 29,
    "start_time": "2022-05-11T08:44:44.218Z"
   },
   {
    "duration": 36,
    "start_time": "2022-05-11T08:44:45.540Z"
   },
   {
    "duration": 28,
    "start_time": "2022-05-11T08:44:48.170Z"
   },
   {
    "duration": 27,
    "start_time": "2022-05-11T08:44:53.930Z"
   },
   {
    "duration": 33,
    "start_time": "2022-05-11T08:44:54.736Z"
   },
   {
    "duration": 8,
    "start_time": "2022-05-11T08:45:09.776Z"
   },
   {
    "duration": 13,
    "start_time": "2022-05-11T08:45:28.373Z"
   },
   {
    "duration": 44,
    "start_time": "2022-05-11T08:47:10.259Z"
   },
   {
    "duration": 46,
    "start_time": "2022-05-11T08:47:42.014Z"
   },
   {
    "duration": 10,
    "start_time": "2022-05-11T08:58:43.790Z"
   },
   {
    "duration": 15,
    "start_time": "2022-05-11T08:59:38.185Z"
   },
   {
    "duration": 11,
    "start_time": "2022-05-11T09:00:58.546Z"
   },
   {
    "duration": 11,
    "start_time": "2022-05-11T09:01:17.916Z"
   },
   {
    "duration": 8,
    "start_time": "2022-05-11T09:03:03.300Z"
   },
   {
    "duration": 10,
    "start_time": "2022-05-11T09:03:44.428Z"
   },
   {
    "duration": 9,
    "start_time": "2022-05-11T09:03:45.754Z"
   },
   {
    "duration": 11,
    "start_time": "2022-05-11T09:04:18.913Z"
   },
   {
    "duration": 11,
    "start_time": "2022-05-11T09:04:19.708Z"
   },
   {
    "duration": 12,
    "start_time": "2022-05-11T09:06:09.695Z"
   },
   {
    "duration": 10,
    "start_time": "2022-05-11T09:09:45.511Z"
   },
   {
    "duration": 447,
    "start_time": "2022-05-11T09:09:56.331Z"
   },
   {
    "duration": 241,
    "start_time": "2022-05-11T09:09:56.781Z"
   },
   {
    "duration": 36,
    "start_time": "2022-05-11T09:09:57.024Z"
   },
   {
    "duration": 51,
    "start_time": "2022-05-11T09:09:57.063Z"
   },
   {
    "duration": 11,
    "start_time": "2022-05-11T09:09:57.116Z"
   },
   {
    "duration": 55,
    "start_time": "2022-05-11T09:09:57.129Z"
   },
   {
    "duration": 37,
    "start_time": "2022-05-11T09:09:57.187Z"
   },
   {
    "duration": 55,
    "start_time": "2022-05-11T09:09:57.227Z"
   },
   {
    "duration": 76,
    "start_time": "2022-05-11T09:09:57.284Z"
   },
   {
    "duration": 82,
    "start_time": "2022-05-11T09:09:57.363Z"
   },
   {
    "duration": 101,
    "start_time": "2022-05-11T09:09:57.448Z"
   },
   {
    "duration": 131,
    "start_time": "2022-05-11T09:09:57.551Z"
   },
   {
    "duration": 97,
    "start_time": "2022-05-11T09:09:57.685Z"
   },
   {
    "duration": 84,
    "start_time": "2022-05-11T09:09:57.786Z"
   },
   {
    "duration": 34,
    "start_time": "2022-05-11T09:09:57.873Z"
   },
   {
    "duration": 36,
    "start_time": "2022-05-11T09:09:57.909Z"
   },
   {
    "duration": 80,
    "start_time": "2022-05-11T09:09:57.948Z"
   },
   {
    "duration": 33,
    "start_time": "2022-05-11T09:09:58.031Z"
   },
   {
    "duration": 19,
    "start_time": "2022-05-11T09:09:58.065Z"
   },
   {
    "duration": 170,
    "start_time": "2022-05-11T09:09:58.086Z"
   },
   {
    "duration": 0,
    "start_time": "2022-05-11T09:09:58.258Z"
   },
   {
    "duration": 0,
    "start_time": "2022-05-11T09:09:58.259Z"
   },
   {
    "duration": 0,
    "start_time": "2022-05-11T09:09:58.260Z"
   },
   {
    "duration": 0,
    "start_time": "2022-05-11T09:09:58.261Z"
   },
   {
    "duration": 0,
    "start_time": "2022-05-11T09:09:58.262Z"
   },
   {
    "duration": 0,
    "start_time": "2022-05-11T09:09:58.263Z"
   },
   {
    "duration": 0,
    "start_time": "2022-05-11T09:09:58.265Z"
   },
   {
    "duration": 0,
    "start_time": "2022-05-11T09:09:58.267Z"
   },
   {
    "duration": 0,
    "start_time": "2022-05-11T09:09:58.268Z"
   },
   {
    "duration": 0,
    "start_time": "2022-05-11T09:09:58.269Z"
   },
   {
    "duration": 0,
    "start_time": "2022-05-11T09:09:58.270Z"
   },
   {
    "duration": 0,
    "start_time": "2022-05-11T09:09:58.271Z"
   },
   {
    "duration": 0,
    "start_time": "2022-05-11T09:09:58.272Z"
   },
   {
    "duration": 0,
    "start_time": "2022-05-11T09:09:58.273Z"
   },
   {
    "duration": 0,
    "start_time": "2022-05-11T09:09:58.274Z"
   },
   {
    "duration": 0,
    "start_time": "2022-05-11T09:09:58.275Z"
   },
   {
    "duration": 0,
    "start_time": "2022-05-11T09:09:58.276Z"
   },
   {
    "duration": 0,
    "start_time": "2022-05-11T09:09:58.277Z"
   },
   {
    "duration": 211,
    "start_time": "2022-05-11T09:10:56.727Z"
   },
   {
    "duration": 141,
    "start_time": "2022-05-11T09:13:13.104Z"
   },
   {
    "duration": 102,
    "start_time": "2022-05-11T09:13:16.400Z"
   },
   {
    "duration": 3,
    "start_time": "2022-05-11T09:13:19.163Z"
   },
   {
    "duration": 168,
    "start_time": "2022-05-11T09:14:41.934Z"
   },
   {
    "duration": 203,
    "start_time": "2022-05-11T09:15:00.891Z"
   },
   {
    "duration": 5,
    "start_time": "2022-05-11T09:15:13.076Z"
   },
   {
    "duration": 24,
    "start_time": "2022-05-11T09:15:15.679Z"
   },
   {
    "duration": 4,
    "start_time": "2022-05-11T09:18:58.910Z"
   },
   {
    "duration": 38,
    "start_time": "2022-05-11T09:19:06.239Z"
   },
   {
    "duration": 25,
    "start_time": "2022-05-11T09:19:06.809Z"
   },
   {
    "duration": 27,
    "start_time": "2022-05-11T09:19:07.381Z"
   },
   {
    "duration": 28,
    "start_time": "2022-05-11T09:19:07.894Z"
   },
   {
    "duration": 29,
    "start_time": "2022-05-11T09:19:08.477Z"
   },
   {
    "duration": 19,
    "start_time": "2022-05-11T09:19:09.680Z"
   },
   {
    "duration": 20,
    "start_time": "2022-05-11T09:23:53.766Z"
   },
   {
    "duration": 22,
    "start_time": "2022-05-11T09:24:07.672Z"
   },
   {
    "duration": 594,
    "start_time": "2022-05-11T09:24:59.465Z"
   },
   {
    "duration": 265,
    "start_time": "2022-05-11T09:25:00.062Z"
   },
   {
    "duration": 38,
    "start_time": "2022-05-11T09:25:00.330Z"
   },
   {
    "duration": 79,
    "start_time": "2022-05-11T09:25:00.372Z"
   },
   {
    "duration": 63,
    "start_time": "2022-05-11T09:25:00.454Z"
   },
   {
    "duration": 30,
    "start_time": "2022-05-11T09:25:00.522Z"
   },
   {
    "duration": 17,
    "start_time": "2022-05-11T09:25:00.554Z"
   },
   {
    "duration": 54,
    "start_time": "2022-05-11T09:25:00.573Z"
   },
   {
    "duration": 54,
    "start_time": "2022-05-11T09:25:00.630Z"
   },
   {
    "duration": 56,
    "start_time": "2022-05-11T09:25:00.687Z"
   },
   {
    "duration": 232,
    "start_time": "2022-05-11T09:25:00.746Z"
   },
   {
    "duration": 105,
    "start_time": "2022-05-11T09:25:00.982Z"
   },
   {
    "duration": 88,
    "start_time": "2022-05-11T09:25:01.089Z"
   },
   {
    "duration": 46,
    "start_time": "2022-05-11T09:25:01.179Z"
   },
   {
    "duration": 54,
    "start_time": "2022-05-11T09:25:01.227Z"
   },
   {
    "duration": 84,
    "start_time": "2022-05-11T09:25:01.284Z"
   },
   {
    "duration": 64,
    "start_time": "2022-05-11T09:25:01.371Z"
   },
   {
    "duration": 14,
    "start_time": "2022-05-11T09:25:01.438Z"
   },
   {
    "duration": 19,
    "start_time": "2022-05-11T09:25:01.455Z"
   },
   {
    "duration": 11,
    "start_time": "2022-05-11T09:25:01.476Z"
   },
   {
    "duration": 66,
    "start_time": "2022-05-11T09:25:01.489Z"
   },
   {
    "duration": 22,
    "start_time": "2022-05-11T09:25:01.558Z"
   },
   {
    "duration": 30,
    "start_time": "2022-05-11T09:25:01.583Z"
   },
   {
    "duration": 43,
    "start_time": "2022-05-11T09:25:01.615Z"
   },
   {
    "duration": 134,
    "start_time": "2022-05-11T09:25:01.661Z"
   },
   {
    "duration": 25,
    "start_time": "2022-05-11T09:25:01.797Z"
   },
   {
    "duration": 93,
    "start_time": "2022-05-11T09:25:01.825Z"
   },
   {
    "duration": 0,
    "start_time": "2022-05-11T09:25:01.921Z"
   },
   {
    "duration": 0,
    "start_time": "2022-05-11T09:25:01.923Z"
   },
   {
    "duration": 0,
    "start_time": "2022-05-11T09:25:01.924Z"
   },
   {
    "duration": 0,
    "start_time": "2022-05-11T09:25:01.925Z"
   },
   {
    "duration": 0,
    "start_time": "2022-05-11T09:25:01.926Z"
   },
   {
    "duration": 0,
    "start_time": "2022-05-11T09:25:01.928Z"
   },
   {
    "duration": 0,
    "start_time": "2022-05-11T09:25:01.929Z"
   },
   {
    "duration": 0,
    "start_time": "2022-05-11T09:25:01.931Z"
   },
   {
    "duration": 0,
    "start_time": "2022-05-11T09:25:01.932Z"
   },
   {
    "duration": 0,
    "start_time": "2022-05-11T09:25:01.933Z"
   },
   {
    "duration": 0,
    "start_time": "2022-05-11T09:25:01.956Z"
   },
   {
    "duration": 19,
    "start_time": "2022-05-11T09:26:27.644Z"
   },
   {
    "duration": 22,
    "start_time": "2022-05-11T09:27:34.503Z"
   },
   {
    "duration": 19,
    "start_time": "2022-05-11T09:28:14.217Z"
   },
   {
    "duration": 11,
    "start_time": "2022-05-11T09:33:51.242Z"
   },
   {
    "duration": 12,
    "start_time": "2022-05-11T09:34:36.384Z"
   },
   {
    "duration": 11,
    "start_time": "2022-05-11T09:34:51.798Z"
   },
   {
    "duration": 23,
    "start_time": "2022-05-11T09:35:22.330Z"
   },
   {
    "duration": 20,
    "start_time": "2022-05-11T09:40:07.653Z"
   },
   {
    "duration": 19,
    "start_time": "2022-05-11T09:43:58.770Z"
   },
   {
    "duration": 15,
    "start_time": "2022-05-11T09:44:39.569Z"
   },
   {
    "duration": 15,
    "start_time": "2022-05-11T09:46:28.556Z"
   },
   {
    "duration": 14,
    "start_time": "2022-05-11T09:48:30.061Z"
   },
   {
    "duration": 2116,
    "start_time": "2022-05-11T10:47:41.600Z"
   },
   {
    "duration": 19,
    "start_time": "2022-05-11T10:49:56.649Z"
   },
   {
    "duration": 21,
    "start_time": "2022-05-11T10:50:10.340Z"
   },
   {
    "duration": 16,
    "start_time": "2022-05-11T10:50:37.577Z"
   },
   {
    "duration": 54,
    "start_time": "2022-05-11T10:55:40.641Z"
   },
   {
    "duration": 146,
    "start_time": "2022-05-11T10:58:07.960Z"
   },
   {
    "duration": 14,
    "start_time": "2022-05-11T11:01:03.014Z"
   },
   {
    "duration": 9,
    "start_time": "2022-05-11T11:01:46.921Z"
   },
   {
    "duration": 8,
    "start_time": "2022-05-11T11:02:12.763Z"
   },
   {
    "duration": 15,
    "start_time": "2022-05-11T11:05:19.955Z"
   },
   {
    "duration": 9,
    "start_time": "2022-05-11T11:22:50.767Z"
   },
   {
    "duration": 4,
    "start_time": "2022-05-11T11:23:31.161Z"
   },
   {
    "duration": 5,
    "start_time": "2022-05-11T11:23:36.609Z"
   },
   {
    "duration": 11,
    "start_time": "2022-05-11T11:23:41.594Z"
   },
   {
    "duration": 9,
    "start_time": "2022-05-11T11:24:38.792Z"
   },
   {
    "duration": 12,
    "start_time": "2022-05-11T11:30:07.570Z"
   },
   {
    "duration": 10,
    "start_time": "2022-05-11T11:30:28.282Z"
   },
   {
    "duration": 2,
    "start_time": "2022-05-11T11:30:30.271Z"
   },
   {
    "duration": 7,
    "start_time": "2022-05-11T11:37:08.936Z"
   },
   {
    "duration": 9,
    "start_time": "2022-05-11T11:37:56.120Z"
   },
   {
    "duration": 8,
    "start_time": "2022-05-11T11:38:02.562Z"
   },
   {
    "duration": 415,
    "start_time": "2022-05-11T11:38:09.677Z"
   },
   {
    "duration": 209,
    "start_time": "2022-05-11T11:38:10.094Z"
   },
   {
    "duration": 20,
    "start_time": "2022-05-11T11:38:10.304Z"
   },
   {
    "duration": 47,
    "start_time": "2022-05-11T11:38:10.326Z"
   },
   {
    "duration": 21,
    "start_time": "2022-05-11T11:38:10.375Z"
   },
   {
    "duration": 33,
    "start_time": "2022-05-11T11:38:10.398Z"
   },
   {
    "duration": 23,
    "start_time": "2022-05-11T11:38:10.433Z"
   },
   {
    "duration": 43,
    "start_time": "2022-05-11T11:38:10.458Z"
   },
   {
    "duration": 47,
    "start_time": "2022-05-11T11:38:10.503Z"
   },
   {
    "duration": 41,
    "start_time": "2022-05-11T11:38:10.553Z"
   },
   {
    "duration": 84,
    "start_time": "2022-05-11T11:38:10.595Z"
   },
   {
    "duration": 94,
    "start_time": "2022-05-11T11:38:10.681Z"
   },
   {
    "duration": 65,
    "start_time": "2022-05-11T11:38:10.777Z"
   },
   {
    "duration": 50,
    "start_time": "2022-05-11T11:38:10.844Z"
   },
   {
    "duration": 26,
    "start_time": "2022-05-11T11:38:10.896Z"
   },
   {
    "duration": 41,
    "start_time": "2022-05-11T11:38:10.924Z"
   },
   {
    "duration": 44,
    "start_time": "2022-05-11T11:38:10.967Z"
   },
   {
    "duration": 13,
    "start_time": "2022-05-11T11:38:11.012Z"
   },
   {
    "duration": 38,
    "start_time": "2022-05-11T11:38:11.027Z"
   },
   {
    "duration": 18,
    "start_time": "2022-05-11T11:38:11.066Z"
   },
   {
    "duration": 37,
    "start_time": "2022-05-11T11:38:11.086Z"
   },
   {
    "duration": 19,
    "start_time": "2022-05-11T11:38:11.124Z"
   },
   {
    "duration": 22,
    "start_time": "2022-05-11T11:38:11.145Z"
   },
   {
    "duration": 21,
    "start_time": "2022-05-11T11:38:11.168Z"
   },
   {
    "duration": 27,
    "start_time": "2022-05-11T11:38:11.191Z"
   },
   {
    "duration": 27,
    "start_time": "2022-05-11T11:38:11.219Z"
   },
   {
    "duration": 13,
    "start_time": "2022-05-11T11:38:11.248Z"
   },
   {
    "duration": 84,
    "start_time": "2022-05-11T11:38:11.264Z"
   },
   {
    "duration": 0,
    "start_time": "2022-05-11T11:38:11.350Z"
   },
   {
    "duration": 0,
    "start_time": "2022-05-11T11:38:11.351Z"
   },
   {
    "duration": 0,
    "start_time": "2022-05-11T11:38:11.354Z"
   },
   {
    "duration": 0,
    "start_time": "2022-05-11T11:38:11.355Z"
   },
   {
    "duration": 0,
    "start_time": "2022-05-11T11:38:11.357Z"
   },
   {
    "duration": 0,
    "start_time": "2022-05-11T11:38:11.358Z"
   },
   {
    "duration": 0,
    "start_time": "2022-05-11T11:38:11.359Z"
   },
   {
    "duration": 0,
    "start_time": "2022-05-11T11:38:11.360Z"
   },
   {
    "duration": 0,
    "start_time": "2022-05-11T11:38:11.361Z"
   },
   {
    "duration": 0,
    "start_time": "2022-05-11T11:38:11.362Z"
   },
   {
    "duration": 9,
    "start_time": "2022-05-11T11:38:24.277Z"
   },
   {
    "duration": 7,
    "start_time": "2022-05-11T11:38:46.283Z"
   },
   {
    "duration": 12,
    "start_time": "2022-05-11T11:52:35.219Z"
   },
   {
    "duration": 14,
    "start_time": "2022-05-11T11:52:41.001Z"
   },
   {
    "duration": 13,
    "start_time": "2022-05-11T11:53:03.807Z"
   },
   {
    "duration": 15,
    "start_time": "2022-05-11T11:53:06.891Z"
   },
   {
    "duration": 14,
    "start_time": "2022-05-11T11:53:09.023Z"
   },
   {
    "duration": 161,
    "start_time": "2022-05-11T12:02:17.937Z"
   },
   {
    "duration": 129,
    "start_time": "2022-05-11T12:04:48.987Z"
   },
   {
    "duration": 134,
    "start_time": "2022-05-11T12:05:45.265Z"
   },
   {
    "duration": 153,
    "start_time": "2022-05-11T12:06:46.048Z"
   },
   {
    "duration": 127,
    "start_time": "2022-05-11T12:07:54.443Z"
   },
   {
    "duration": 132,
    "start_time": "2022-05-11T12:08:27.222Z"
   },
   {
    "duration": 158,
    "start_time": "2022-05-11T12:08:50.637Z"
   },
   {
    "duration": 5,
    "start_time": "2022-05-11T12:09:06.627Z"
   },
   {
    "duration": 5,
    "start_time": "2022-05-11T12:09:19.373Z"
   },
   {
    "duration": 6,
    "start_time": "2022-05-11T12:14:07.873Z"
   },
   {
    "duration": 5,
    "start_time": "2022-05-11T12:16:24.734Z"
   },
   {
    "duration": 5,
    "start_time": "2022-05-11T12:17:35.639Z"
   },
   {
    "duration": 3,
    "start_time": "2022-05-11T12:17:37.212Z"
   },
   {
    "duration": 3,
    "start_time": "2022-05-11T12:17:38.054Z"
   },
   {
    "duration": 426,
    "start_time": "2022-05-11T12:17:45.280Z"
   },
   {
    "duration": 207,
    "start_time": "2022-05-11T12:17:45.708Z"
   },
   {
    "duration": 18,
    "start_time": "2022-05-11T12:17:45.917Z"
   },
   {
    "duration": 44,
    "start_time": "2022-05-11T12:17:45.937Z"
   },
   {
    "duration": 4,
    "start_time": "2022-05-11T12:17:45.983Z"
   },
   {
    "duration": 18,
    "start_time": "2022-05-11T12:17:45.988Z"
   },
   {
    "duration": 9,
    "start_time": "2022-05-11T12:17:46.007Z"
   },
   {
    "duration": 54,
    "start_time": "2022-05-11T12:17:46.018Z"
   },
   {
    "duration": 37,
    "start_time": "2022-05-11T12:17:46.073Z"
   },
   {
    "duration": 43,
    "start_time": "2022-05-11T12:17:46.113Z"
   },
   {
    "duration": 73,
    "start_time": "2022-05-11T12:17:46.157Z"
   },
   {
    "duration": 101,
    "start_time": "2022-05-11T12:17:46.232Z"
   },
   {
    "duration": 82,
    "start_time": "2022-05-11T12:17:46.335Z"
   },
   {
    "duration": 52,
    "start_time": "2022-05-11T12:17:46.419Z"
   },
   {
    "duration": 28,
    "start_time": "2022-05-11T12:17:46.473Z"
   },
   {
    "duration": 26,
    "start_time": "2022-05-11T12:17:46.502Z"
   },
   {
    "duration": 64,
    "start_time": "2022-05-11T12:17:46.530Z"
   },
   {
    "duration": 14,
    "start_time": "2022-05-11T12:17:46.595Z"
   },
   {
    "duration": 13,
    "start_time": "2022-05-11T12:17:46.611Z"
   },
   {
    "duration": 29,
    "start_time": "2022-05-11T12:17:46.626Z"
   },
   {
    "duration": 20,
    "start_time": "2022-05-11T12:17:46.657Z"
   },
   {
    "duration": 22,
    "start_time": "2022-05-11T12:17:46.679Z"
   },
   {
    "duration": 17,
    "start_time": "2022-05-11T12:17:46.703Z"
   },
   {
    "duration": 17,
    "start_time": "2022-05-11T12:17:46.754Z"
   },
   {
    "duration": 18,
    "start_time": "2022-05-11T12:17:46.773Z"
   },
   {
    "duration": 17,
    "start_time": "2022-05-11T12:17:46.793Z"
   },
   {
    "duration": 9,
    "start_time": "2022-05-11T12:17:46.811Z"
   },
   {
    "duration": 13,
    "start_time": "2022-05-11T12:17:46.857Z"
   },
   {
    "duration": 13,
    "start_time": "2022-05-11T12:17:46.872Z"
   },
   {
    "duration": 11,
    "start_time": "2022-05-11T12:17:46.887Z"
   },
   {
    "duration": 10,
    "start_time": "2022-05-11T12:17:46.900Z"
   },
   {
    "duration": 5,
    "start_time": "2022-05-11T12:17:46.912Z"
   },
   {
    "duration": 5,
    "start_time": "2022-05-11T12:17:46.918Z"
   },
   {
    "duration": 33,
    "start_time": "2022-05-11T12:17:46.925Z"
   },
   {
    "duration": 5,
    "start_time": "2022-05-11T12:17:46.960Z"
   },
   {
    "duration": 6,
    "start_time": "2022-05-11T12:17:46.967Z"
   },
   {
    "duration": 19,
    "start_time": "2022-05-11T12:17:46.975Z"
   },
   {
    "duration": 11,
    "start_time": "2022-05-11T12:17:46.996Z"
   },
   {
    "duration": 6,
    "start_time": "2022-05-11T12:17:53.499Z"
   },
   {
    "duration": 23,
    "start_time": "2022-05-11T12:20:29.221Z"
   },
   {
    "duration": 66,
    "start_time": "2022-05-11T12:23:33.824Z"
   },
   {
    "duration": 13,
    "start_time": "2022-05-11T12:24:10.582Z"
   },
   {
    "duration": 7,
    "start_time": "2022-05-11T12:24:14.948Z"
   },
   {
    "duration": 7,
    "start_time": "2022-05-11T12:27:07.741Z"
   },
   {
    "duration": 12,
    "start_time": "2022-05-11T12:28:24.762Z"
   },
   {
    "duration": 4,
    "start_time": "2022-05-11T12:28:26.335Z"
   },
   {
    "duration": 15,
    "start_time": "2022-05-11T12:28:27.699Z"
   },
   {
    "duration": 15,
    "start_time": "2022-05-11T12:28:28.876Z"
   },
   {
    "duration": 14,
    "start_time": "2022-05-11T12:28:30.517Z"
   },
   {
    "duration": 16,
    "start_time": "2022-05-11T12:28:31.917Z"
   },
   {
    "duration": 19,
    "start_time": "2022-05-11T12:33:54.457Z"
   },
   {
    "duration": 6,
    "start_time": "2022-05-11T12:38:02.382Z"
   },
   {
    "duration": 10,
    "start_time": "2022-05-11T12:38:44.414Z"
   },
   {
    "duration": 11,
    "start_time": "2022-05-11T12:39:25.932Z"
   },
   {
    "duration": 11,
    "start_time": "2022-05-11T12:42:00.844Z"
   },
   {
    "duration": 5,
    "start_time": "2022-05-11T12:42:22.975Z"
   },
   {
    "duration": 7,
    "start_time": "2022-05-11T12:43:44.816Z"
   },
   {
    "duration": 7,
    "start_time": "2022-05-11T12:44:04.130Z"
   },
   {
    "duration": 383,
    "start_time": "2022-05-11T12:44:22.395Z"
   },
   {
    "duration": 161,
    "start_time": "2022-05-11T12:44:22.781Z"
   },
   {
    "duration": 22,
    "start_time": "2022-05-11T12:44:22.944Z"
   },
   {
    "duration": 31,
    "start_time": "2022-05-11T12:44:22.968Z"
   },
   {
    "duration": 5,
    "start_time": "2022-05-11T12:44:23.001Z"
   },
   {
    "duration": 17,
    "start_time": "2022-05-11T12:44:23.008Z"
   },
   {
    "duration": 31,
    "start_time": "2022-05-11T12:44:23.027Z"
   },
   {
    "duration": 31,
    "start_time": "2022-05-11T12:44:23.060Z"
   },
   {
    "duration": 30,
    "start_time": "2022-05-11T12:44:23.094Z"
   },
   {
    "duration": 50,
    "start_time": "2022-05-11T12:44:23.128Z"
   },
   {
    "duration": 80,
    "start_time": "2022-05-11T12:44:23.180Z"
   },
   {
    "duration": 98,
    "start_time": "2022-05-11T12:44:23.262Z"
   },
   {
    "duration": 66,
    "start_time": "2022-05-11T12:44:23.363Z"
   },
   {
    "duration": 52,
    "start_time": "2022-05-11T12:44:23.431Z"
   },
   {
    "duration": 27,
    "start_time": "2022-05-11T12:44:23.484Z"
   },
   {
    "duration": 41,
    "start_time": "2022-05-11T12:44:23.513Z"
   },
   {
    "duration": 43,
    "start_time": "2022-05-11T12:44:23.556Z"
   },
   {
    "duration": 12,
    "start_time": "2022-05-11T12:44:23.601Z"
   },
   {
    "duration": 12,
    "start_time": "2022-05-11T12:44:23.614Z"
   },
   {
    "duration": 29,
    "start_time": "2022-05-11T12:44:23.628Z"
   },
   {
    "duration": 26,
    "start_time": "2022-05-11T12:44:23.658Z"
   },
   {
    "duration": 16,
    "start_time": "2022-05-11T12:44:23.686Z"
   },
   {
    "duration": 16,
    "start_time": "2022-05-11T12:44:23.704Z"
   },
   {
    "duration": 41,
    "start_time": "2022-05-11T12:44:23.721Z"
   },
   {
    "duration": 19,
    "start_time": "2022-05-11T12:44:23.765Z"
   },
   {
    "duration": 17,
    "start_time": "2022-05-11T12:44:23.786Z"
   },
   {
    "duration": 15,
    "start_time": "2022-05-11T12:44:23.805Z"
   },
   {
    "duration": 39,
    "start_time": "2022-05-11T12:44:23.825Z"
   },
   {
    "duration": 13,
    "start_time": "2022-05-11T12:44:23.866Z"
   },
   {
    "duration": 14,
    "start_time": "2022-05-11T12:44:23.880Z"
   },
   {
    "duration": 44,
    "start_time": "2022-05-11T12:44:23.895Z"
   },
   {
    "duration": 21,
    "start_time": "2022-05-11T12:44:23.940Z"
   },
   {
    "duration": 23,
    "start_time": "2022-05-11T12:44:23.962Z"
   },
   {
    "duration": 26,
    "start_time": "2022-05-11T12:44:23.986Z"
   },
   {
    "duration": 78,
    "start_time": "2022-05-11T12:44:24.014Z"
   },
   {
    "duration": 0,
    "start_time": "2022-05-11T12:44:24.094Z"
   },
   {
    "duration": 0,
    "start_time": "2022-05-11T12:44:24.095Z"
   },
   {
    "duration": 0,
    "start_time": "2022-05-11T12:44:24.096Z"
   },
   {
    "duration": 7,
    "start_time": "2022-05-11T12:44:34.210Z"
   },
   {
    "duration": 8,
    "start_time": "2022-05-11T12:44:39.561Z"
   },
   {
    "duration": 9,
    "start_time": "2022-05-11T12:45:10.934Z"
   },
   {
    "duration": 6,
    "start_time": "2022-05-11T12:45:15.753Z"
   },
   {
    "duration": 8,
    "start_time": "2022-05-11T12:45:23.442Z"
   },
   {
    "duration": 8,
    "start_time": "2022-05-11T12:45:58.078Z"
   },
   {
    "duration": 8,
    "start_time": "2022-05-11T12:46:50.807Z"
   },
   {
    "duration": 407,
    "start_time": "2022-05-11T12:48:34.269Z"
   },
   {
    "duration": 160,
    "start_time": "2022-05-11T12:48:34.678Z"
   },
   {
    "duration": 24,
    "start_time": "2022-05-11T12:48:34.840Z"
   },
   {
    "duration": 39,
    "start_time": "2022-05-11T12:48:34.866Z"
   },
   {
    "duration": 28,
    "start_time": "2022-05-11T12:48:34.907Z"
   },
   {
    "duration": 40,
    "start_time": "2022-05-11T12:48:34.937Z"
   },
   {
    "duration": 44,
    "start_time": "2022-05-11T12:48:34.978Z"
   },
   {
    "duration": 55,
    "start_time": "2022-05-11T12:48:35.024Z"
   },
   {
    "duration": 47,
    "start_time": "2022-05-11T12:48:35.081Z"
   },
   {
    "duration": 52,
    "start_time": "2022-05-11T12:48:35.131Z"
   },
   {
    "duration": 94,
    "start_time": "2022-05-11T12:48:35.184Z"
   },
   {
    "duration": 96,
    "start_time": "2022-05-11T12:48:35.280Z"
   },
   {
    "duration": 65,
    "start_time": "2022-05-11T12:48:35.378Z"
   },
   {
    "duration": 53,
    "start_time": "2022-05-11T12:48:35.445Z"
   },
   {
    "duration": 27,
    "start_time": "2022-05-11T12:48:35.500Z"
   },
   {
    "duration": 42,
    "start_time": "2022-05-11T12:48:35.529Z"
   },
   {
    "duration": 53,
    "start_time": "2022-05-11T12:48:35.573Z"
   },
   {
    "duration": 11,
    "start_time": "2022-05-11T12:48:35.628Z"
   },
   {
    "duration": 23,
    "start_time": "2022-05-11T12:48:35.641Z"
   },
   {
    "duration": 12,
    "start_time": "2022-05-11T12:48:35.665Z"
   },
   {
    "duration": 36,
    "start_time": "2022-05-11T12:48:35.679Z"
   },
   {
    "duration": 20,
    "start_time": "2022-05-11T12:48:35.716Z"
   },
   {
    "duration": 121,
    "start_time": "2022-05-11T12:48:35.738Z"
   },
   {
    "duration": 17,
    "start_time": "2022-05-11T12:48:35.861Z"
   },
   {
    "duration": 29,
    "start_time": "2022-05-11T12:48:35.880Z"
   },
   {
    "duration": 16,
    "start_time": "2022-05-11T12:48:35.911Z"
   },
   {
    "duration": 29,
    "start_time": "2022-05-11T12:48:35.928Z"
   },
   {
    "duration": 37,
    "start_time": "2022-05-11T12:48:35.961Z"
   },
   {
    "duration": 21,
    "start_time": "2022-05-11T12:48:36.000Z"
   },
   {
    "duration": 15,
    "start_time": "2022-05-11T12:48:36.023Z"
   },
   {
    "duration": 24,
    "start_time": "2022-05-11T12:48:36.040Z"
   },
   {
    "duration": 14,
    "start_time": "2022-05-11T12:48:36.066Z"
   },
   {
    "duration": 17,
    "start_time": "2022-05-11T12:48:36.082Z"
   },
   {
    "duration": 13,
    "start_time": "2022-05-11T12:48:36.101Z"
   },
   {
    "duration": 10,
    "start_time": "2022-05-11T12:48:36.116Z"
   },
   {
    "duration": 6,
    "start_time": "2022-05-11T12:48:36.155Z"
   },
   {
    "duration": 8,
    "start_time": "2022-05-11T12:48:36.163Z"
   },
   {
    "duration": 5,
    "start_time": "2022-05-11T12:48:36.173Z"
   },
   {
    "duration": 44,
    "start_time": "2022-05-11T16:06:14.468Z"
   },
   {
    "duration": 392,
    "start_time": "2022-05-11T16:06:26.965Z"
   },
   {
    "duration": 163,
    "start_time": "2022-05-11T16:06:27.359Z"
   },
   {
    "duration": 16,
    "start_time": "2022-05-11T16:06:27.524Z"
   },
   {
    "duration": 9,
    "start_time": "2022-05-11T16:06:27.541Z"
   },
   {
    "duration": 43,
    "start_time": "2022-05-11T16:06:27.553Z"
   },
   {
    "duration": 3,
    "start_time": "2022-05-11T16:06:27.598Z"
   },
   {
    "duration": 14,
    "start_time": "2022-05-11T16:06:27.603Z"
   },
   {
    "duration": 13,
    "start_time": "2022-05-11T16:06:27.619Z"
   },
   {
    "duration": 25,
    "start_time": "2022-05-11T16:06:27.634Z"
   },
   {
    "duration": 32,
    "start_time": "2022-05-11T16:06:27.661Z"
   },
   {
    "duration": 23,
    "start_time": "2022-05-11T16:06:27.695Z"
   },
   {
    "duration": 86,
    "start_time": "2022-05-11T16:06:27.720Z"
   },
   {
    "duration": 80,
    "start_time": "2022-05-11T16:06:27.808Z"
   },
   {
    "duration": 59,
    "start_time": "2022-05-11T16:06:27.893Z"
   },
   {
    "duration": 47,
    "start_time": "2022-05-11T16:06:27.953Z"
   },
   {
    "duration": 23,
    "start_time": "2022-05-11T16:06:28.001Z"
   },
   {
    "duration": 20,
    "start_time": "2022-05-11T16:06:28.025Z"
   },
   {
    "duration": 57,
    "start_time": "2022-05-11T16:06:28.047Z"
   },
   {
    "duration": 9,
    "start_time": "2022-05-11T16:06:28.106Z"
   },
   {
    "duration": 10,
    "start_time": "2022-05-11T16:06:28.117Z"
   },
   {
    "duration": 3,
    "start_time": "2022-05-11T16:06:28.128Z"
   },
   {
    "duration": 42,
    "start_time": "2022-05-11T16:06:28.133Z"
   },
   {
    "duration": 14,
    "start_time": "2022-05-11T16:06:28.177Z"
   },
   {
    "duration": 13,
    "start_time": "2022-05-11T16:06:28.193Z"
   },
   {
    "duration": 23,
    "start_time": "2022-05-11T16:06:28.207Z"
   },
   {
    "duration": 15,
    "start_time": "2022-05-11T16:06:28.232Z"
   },
   {
    "duration": 15,
    "start_time": "2022-05-11T16:06:28.270Z"
   },
   {
    "duration": 10,
    "start_time": "2022-05-11T16:06:28.287Z"
   },
   {
    "duration": 12,
    "start_time": "2022-05-11T16:06:28.299Z"
   },
   {
    "duration": 9,
    "start_time": "2022-05-11T16:06:28.313Z"
   },
   {
    "duration": 5,
    "start_time": "2022-05-11T16:06:28.324Z"
   },
   {
    "duration": 49,
    "start_time": "2022-05-11T16:06:28.330Z"
   },
   {
    "duration": 13,
    "start_time": "2022-05-11T16:06:28.380Z"
   },
   {
    "duration": 15,
    "start_time": "2022-05-11T16:06:28.395Z"
   },
   {
    "duration": 10,
    "start_time": "2022-05-11T16:06:28.411Z"
   },
   {
    "duration": 7,
    "start_time": "2022-05-11T16:06:28.423Z"
   },
   {
    "duration": 9,
    "start_time": "2022-05-11T16:06:28.431Z"
   },
   {
    "duration": 6,
    "start_time": "2022-05-11T16:06:28.471Z"
   },
   {
    "duration": 7,
    "start_time": "2022-05-11T16:06:28.479Z"
   },
   {
    "duration": 62,
    "start_time": "2022-05-12T14:17:42.902Z"
   },
   {
    "duration": 8,
    "start_time": "2022-05-12T14:21:45.131Z"
   },
   {
    "duration": 9,
    "start_time": "2022-05-12T14:22:35.455Z"
   },
   {
    "duration": 434,
    "start_time": "2022-05-12T14:22:43.709Z"
   },
   {
    "duration": 252,
    "start_time": "2022-05-12T14:22:46.609Z"
   },
   {
    "duration": 19,
    "start_time": "2022-05-12T14:22:49.448Z"
   },
   {
    "duration": 4,
    "start_time": "2022-05-12T14:24:41.219Z"
   },
   {
    "duration": 27,
    "start_time": "2022-05-12T14:25:23.730Z"
   },
   {
    "duration": 39,
    "start_time": "2022-05-12T14:25:28.090Z"
   },
   {
    "duration": 38,
    "start_time": "2022-05-12T14:28:37.376Z"
   },
   {
    "duration": 10,
    "start_time": "2022-05-12T14:28:40.740Z"
   },
   {
    "duration": 89,
    "start_time": "2022-05-12T14:28:57.657Z"
   },
   {
    "duration": 91,
    "start_time": "2022-05-12T14:29:01.068Z"
   },
   {
    "duration": 74,
    "start_time": "2022-05-12T14:29:46.498Z"
   },
   {
    "duration": 76,
    "start_time": "2022-05-12T14:29:52.016Z"
   },
   {
    "duration": 80,
    "start_time": "2022-05-12T14:30:01.691Z"
   },
   {
    "duration": 400,
    "start_time": "2022-05-12T14:30:14.323Z"
   },
   {
    "duration": 166,
    "start_time": "2022-05-12T14:30:14.725Z"
   },
   {
    "duration": 20,
    "start_time": "2022-05-12T14:30:14.893Z"
   },
   {
    "duration": 9,
    "start_time": "2022-05-12T14:30:14.916Z"
   },
   {
    "duration": 32,
    "start_time": "2022-05-12T14:30:14.927Z"
   },
   {
    "duration": 5,
    "start_time": "2022-05-12T14:30:14.988Z"
   },
   {
    "duration": 25,
    "start_time": "2022-05-12T14:30:14.996Z"
   },
   {
    "duration": 18,
    "start_time": "2022-05-12T14:30:15.024Z"
   },
   {
    "duration": 37,
    "start_time": "2022-05-12T14:30:15.044Z"
   },
   {
    "duration": 5,
    "start_time": "2022-05-12T14:30:15.085Z"
   },
   {
    "duration": 78,
    "start_time": "2022-05-12T14:30:15.092Z"
   },
   {
    "duration": 0,
    "start_time": "2022-05-12T14:30:15.174Z"
   },
   {
    "duration": 0,
    "start_time": "2022-05-12T14:30:15.176Z"
   },
   {
    "duration": 0,
    "start_time": "2022-05-12T14:30:15.177Z"
   },
   {
    "duration": 0,
    "start_time": "2022-05-12T14:30:15.179Z"
   },
   {
    "duration": 0,
    "start_time": "2022-05-12T14:30:15.180Z"
   },
   {
    "duration": 0,
    "start_time": "2022-05-12T14:30:15.181Z"
   },
   {
    "duration": 1,
    "start_time": "2022-05-12T14:30:15.188Z"
   },
   {
    "duration": 0,
    "start_time": "2022-05-12T14:30:15.190Z"
   },
   {
    "duration": 0,
    "start_time": "2022-05-12T14:30:15.192Z"
   },
   {
    "duration": 0,
    "start_time": "2022-05-12T14:30:15.193Z"
   },
   {
    "duration": 0,
    "start_time": "2022-05-12T14:30:15.195Z"
   },
   {
    "duration": 0,
    "start_time": "2022-05-12T14:30:15.196Z"
   },
   {
    "duration": 0,
    "start_time": "2022-05-12T14:30:15.197Z"
   },
   {
    "duration": 0,
    "start_time": "2022-05-12T14:30:15.199Z"
   },
   {
    "duration": 0,
    "start_time": "2022-05-12T14:30:15.200Z"
   },
   {
    "duration": 0,
    "start_time": "2022-05-12T14:30:15.201Z"
   },
   {
    "duration": 0,
    "start_time": "2022-05-12T14:30:15.203Z"
   },
   {
    "duration": 0,
    "start_time": "2022-05-12T14:30:15.205Z"
   },
   {
    "duration": 0,
    "start_time": "2022-05-12T14:30:15.206Z"
   },
   {
    "duration": 0,
    "start_time": "2022-05-12T14:30:15.208Z"
   },
   {
    "duration": 0,
    "start_time": "2022-05-12T14:30:15.210Z"
   },
   {
    "duration": 0,
    "start_time": "2022-05-12T14:30:15.211Z"
   },
   {
    "duration": 0,
    "start_time": "2022-05-12T14:30:15.212Z"
   },
   {
    "duration": 0,
    "start_time": "2022-05-12T14:30:15.214Z"
   },
   {
    "duration": 0,
    "start_time": "2022-05-12T14:30:15.217Z"
   },
   {
    "duration": 0,
    "start_time": "2022-05-12T14:30:15.218Z"
   },
   {
    "duration": 0,
    "start_time": "2022-05-12T14:30:15.219Z"
   },
   {
    "duration": 0,
    "start_time": "2022-05-12T14:30:15.221Z"
   },
   {
    "duration": 91,
    "start_time": "2022-05-12T14:30:36.306Z"
   },
   {
    "duration": 42,
    "start_time": "2022-05-12T14:33:34.162Z"
   },
   {
    "duration": 387,
    "start_time": "2022-05-12T14:33:51.227Z"
   },
   {
    "duration": 163,
    "start_time": "2022-05-12T14:33:51.617Z"
   },
   {
    "duration": 18,
    "start_time": "2022-05-12T14:33:51.782Z"
   },
   {
    "duration": 9,
    "start_time": "2022-05-12T14:33:51.803Z"
   },
   {
    "duration": 38,
    "start_time": "2022-05-12T14:33:51.814Z"
   },
   {
    "duration": 4,
    "start_time": "2022-05-12T14:33:51.854Z"
   },
   {
    "duration": 16,
    "start_time": "2022-05-12T14:33:51.889Z"
   },
   {
    "duration": 7,
    "start_time": "2022-05-12T14:33:51.907Z"
   },
   {
    "duration": 30,
    "start_time": "2022-05-12T14:33:51.916Z"
   },
   {
    "duration": 3,
    "start_time": "2022-05-12T14:33:51.949Z"
   },
   {
    "duration": 92,
    "start_time": "2022-05-12T14:33:51.953Z"
   },
   {
    "duration": 0,
    "start_time": "2022-05-12T14:33:52.049Z"
   },
   {
    "duration": 0,
    "start_time": "2022-05-12T14:33:52.050Z"
   },
   {
    "duration": 0,
    "start_time": "2022-05-12T14:33:52.051Z"
   },
   {
    "duration": 0,
    "start_time": "2022-05-12T14:33:52.053Z"
   },
   {
    "duration": 0,
    "start_time": "2022-05-12T14:33:52.055Z"
   },
   {
    "duration": 0,
    "start_time": "2022-05-12T14:33:52.056Z"
   },
   {
    "duration": 0,
    "start_time": "2022-05-12T14:33:52.057Z"
   },
   {
    "duration": 0,
    "start_time": "2022-05-12T14:33:52.058Z"
   },
   {
    "duration": 0,
    "start_time": "2022-05-12T14:33:52.059Z"
   },
   {
    "duration": 0,
    "start_time": "2022-05-12T14:33:52.060Z"
   },
   {
    "duration": 0,
    "start_time": "2022-05-12T14:33:52.061Z"
   },
   {
    "duration": 0,
    "start_time": "2022-05-12T14:33:52.062Z"
   },
   {
    "duration": 0,
    "start_time": "2022-05-12T14:33:52.063Z"
   },
   {
    "duration": 0,
    "start_time": "2022-05-12T14:33:52.089Z"
   },
   {
    "duration": 0,
    "start_time": "2022-05-12T14:33:52.090Z"
   },
   {
    "duration": 0,
    "start_time": "2022-05-12T14:33:52.091Z"
   },
   {
    "duration": 0,
    "start_time": "2022-05-12T14:33:52.092Z"
   },
   {
    "duration": 0,
    "start_time": "2022-05-12T14:33:52.094Z"
   },
   {
    "duration": 0,
    "start_time": "2022-05-12T14:33:52.095Z"
   },
   {
    "duration": 0,
    "start_time": "2022-05-12T14:33:52.097Z"
   },
   {
    "duration": 0,
    "start_time": "2022-05-12T14:33:52.098Z"
   },
   {
    "duration": 0,
    "start_time": "2022-05-12T14:33:52.099Z"
   },
   {
    "duration": 0,
    "start_time": "2022-05-12T14:33:52.100Z"
   },
   {
    "duration": 0,
    "start_time": "2022-05-12T14:33:52.101Z"
   },
   {
    "duration": 0,
    "start_time": "2022-05-12T14:33:52.102Z"
   },
   {
    "duration": 0,
    "start_time": "2022-05-12T14:33:52.103Z"
   },
   {
    "duration": 0,
    "start_time": "2022-05-12T14:33:52.104Z"
   },
   {
    "duration": 0,
    "start_time": "2022-05-12T14:33:52.105Z"
   },
   {
    "duration": 41,
    "start_time": "2022-05-12T14:34:20.481Z"
   },
   {
    "duration": 56,
    "start_time": "2022-05-12T14:35:13.593Z"
   },
   {
    "duration": 40,
    "start_time": "2022-05-12T14:35:23.394Z"
   },
   {
    "duration": 40,
    "start_time": "2022-05-12T14:35:24.539Z"
   },
   {
    "duration": 43,
    "start_time": "2022-05-12T14:35:29.587Z"
   },
   {
    "duration": 8,
    "start_time": "2022-05-12T14:37:48.546Z"
   },
   {
    "duration": 44,
    "start_time": "2022-05-12T14:38:52.845Z"
   },
   {
    "duration": 52,
    "start_time": "2022-05-12T14:44:14.393Z"
   },
   {
    "duration": 10,
    "start_time": "2022-05-12T14:44:24.594Z"
   },
   {
    "duration": 449,
    "start_time": "2022-05-12T14:44:35.390Z"
   },
   {
    "duration": 201,
    "start_time": "2022-05-12T14:44:35.841Z"
   },
   {
    "duration": 19,
    "start_time": "2022-05-12T14:44:36.044Z"
   },
   {
    "duration": 24,
    "start_time": "2022-05-12T14:44:36.067Z"
   },
   {
    "duration": 45,
    "start_time": "2022-05-12T14:44:36.095Z"
   },
   {
    "duration": 5,
    "start_time": "2022-05-12T14:44:36.143Z"
   },
   {
    "duration": 16,
    "start_time": "2022-05-12T14:44:36.150Z"
   },
   {
    "duration": 23,
    "start_time": "2022-05-12T14:44:36.168Z"
   },
   {
    "duration": 66,
    "start_time": "2022-05-12T14:44:36.193Z"
   },
   {
    "duration": 13,
    "start_time": "2022-05-12T14:44:36.262Z"
   },
   {
    "duration": 80,
    "start_time": "2022-05-12T14:44:36.277Z"
   },
   {
    "duration": 0,
    "start_time": "2022-05-12T14:44:36.361Z"
   },
   {
    "duration": 0,
    "start_time": "2022-05-12T14:44:36.363Z"
   },
   {
    "duration": 0,
    "start_time": "2022-05-12T14:44:36.364Z"
   },
   {
    "duration": 0,
    "start_time": "2022-05-12T14:44:36.366Z"
   },
   {
    "duration": 0,
    "start_time": "2022-05-12T14:44:36.367Z"
   },
   {
    "duration": 0,
    "start_time": "2022-05-12T14:44:36.369Z"
   },
   {
    "duration": 0,
    "start_time": "2022-05-12T14:44:36.370Z"
   },
   {
    "duration": 0,
    "start_time": "2022-05-12T14:44:36.387Z"
   },
   {
    "duration": 0,
    "start_time": "2022-05-12T14:44:36.390Z"
   },
   {
    "duration": 0,
    "start_time": "2022-05-12T14:44:36.394Z"
   },
   {
    "duration": 0,
    "start_time": "2022-05-12T14:44:36.397Z"
   },
   {
    "duration": 0,
    "start_time": "2022-05-12T14:44:36.398Z"
   },
   {
    "duration": 0,
    "start_time": "2022-05-12T14:44:36.399Z"
   },
   {
    "duration": 0,
    "start_time": "2022-05-12T14:44:36.400Z"
   },
   {
    "duration": 0,
    "start_time": "2022-05-12T14:44:36.402Z"
   },
   {
    "duration": 0,
    "start_time": "2022-05-12T14:44:36.404Z"
   },
   {
    "duration": 0,
    "start_time": "2022-05-12T14:44:36.405Z"
   },
   {
    "duration": 0,
    "start_time": "2022-05-12T14:44:36.407Z"
   },
   {
    "duration": 0,
    "start_time": "2022-05-12T14:44:36.408Z"
   },
   {
    "duration": 0,
    "start_time": "2022-05-12T14:44:36.410Z"
   },
   {
    "duration": 1,
    "start_time": "2022-05-12T14:44:36.410Z"
   },
   {
    "duration": 0,
    "start_time": "2022-05-12T14:44:36.413Z"
   },
   {
    "duration": 0,
    "start_time": "2022-05-12T14:44:36.414Z"
   },
   {
    "duration": 0,
    "start_time": "2022-05-12T14:44:36.416Z"
   },
   {
    "duration": 0,
    "start_time": "2022-05-12T14:44:36.418Z"
   },
   {
    "duration": 0,
    "start_time": "2022-05-12T14:44:36.419Z"
   },
   {
    "duration": 0,
    "start_time": "2022-05-12T14:44:36.419Z"
   },
   {
    "duration": 0,
    "start_time": "2022-05-12T14:44:36.421Z"
   },
   {
    "duration": 53,
    "start_time": "2022-05-12T14:45:43.175Z"
   },
   {
    "duration": 12,
    "start_time": "2022-05-12T14:46:27.646Z"
   },
   {
    "duration": 11,
    "start_time": "2022-05-12T14:46:31.729Z"
   },
   {
    "duration": 11,
    "start_time": "2022-05-12T14:46:35.144Z"
   },
   {
    "duration": 11,
    "start_time": "2022-05-12T14:47:04.855Z"
   },
   {
    "duration": 453,
    "start_time": "2022-05-12T14:47:14.263Z"
   },
   {
    "duration": 163,
    "start_time": "2022-05-12T14:47:14.718Z"
   },
   {
    "duration": 19,
    "start_time": "2022-05-12T14:47:14.883Z"
   },
   {
    "duration": 13,
    "start_time": "2022-05-12T14:47:14.905Z"
   },
   {
    "duration": 37,
    "start_time": "2022-05-12T14:47:14.919Z"
   },
   {
    "duration": 5,
    "start_time": "2022-05-12T14:47:14.958Z"
   },
   {
    "duration": 13,
    "start_time": "2022-05-12T14:47:14.989Z"
   },
   {
    "duration": 23,
    "start_time": "2022-05-12T14:47:15.004Z"
   },
   {
    "duration": 42,
    "start_time": "2022-05-12T14:47:15.029Z"
   },
   {
    "duration": 3,
    "start_time": "2022-05-12T14:47:15.074Z"
   },
   {
    "duration": 71,
    "start_time": "2022-05-12T14:47:15.079Z"
   },
   {
    "duration": 0,
    "start_time": "2022-05-12T14:47:15.154Z"
   },
   {
    "duration": 0,
    "start_time": "2022-05-12T14:47:15.156Z"
   },
   {
    "duration": 0,
    "start_time": "2022-05-12T14:47:15.158Z"
   },
   {
    "duration": 0,
    "start_time": "2022-05-12T14:47:15.159Z"
   },
   {
    "duration": 0,
    "start_time": "2022-05-12T14:47:15.160Z"
   },
   {
    "duration": 0,
    "start_time": "2022-05-12T14:47:15.162Z"
   },
   {
    "duration": 0,
    "start_time": "2022-05-12T14:47:15.163Z"
   },
   {
    "duration": 0,
    "start_time": "2022-05-12T14:47:15.165Z"
   },
   {
    "duration": 0,
    "start_time": "2022-05-12T14:47:15.166Z"
   },
   {
    "duration": 0,
    "start_time": "2022-05-12T14:47:15.167Z"
   },
   {
    "duration": 0,
    "start_time": "2022-05-12T14:47:15.168Z"
   },
   {
    "duration": 0,
    "start_time": "2022-05-12T14:47:15.189Z"
   },
   {
    "duration": 0,
    "start_time": "2022-05-12T14:47:15.191Z"
   },
   {
    "duration": 0,
    "start_time": "2022-05-12T14:47:15.192Z"
   },
   {
    "duration": 0,
    "start_time": "2022-05-12T14:47:15.194Z"
   },
   {
    "duration": 0,
    "start_time": "2022-05-12T14:47:15.195Z"
   },
   {
    "duration": 0,
    "start_time": "2022-05-12T14:47:15.197Z"
   },
   {
    "duration": 0,
    "start_time": "2022-05-12T14:47:15.198Z"
   },
   {
    "duration": 0,
    "start_time": "2022-05-12T14:47:15.200Z"
   },
   {
    "duration": 0,
    "start_time": "2022-05-12T14:47:15.201Z"
   },
   {
    "duration": 0,
    "start_time": "2022-05-12T14:47:15.203Z"
   },
   {
    "duration": 0,
    "start_time": "2022-05-12T14:47:15.205Z"
   },
   {
    "duration": 0,
    "start_time": "2022-05-12T14:47:15.206Z"
   },
   {
    "duration": 0,
    "start_time": "2022-05-12T14:47:15.208Z"
   },
   {
    "duration": 0,
    "start_time": "2022-05-12T14:47:15.209Z"
   },
   {
    "duration": 0,
    "start_time": "2022-05-12T14:47:15.210Z"
   },
   {
    "duration": 0,
    "start_time": "2022-05-12T14:47:15.212Z"
   },
   {
    "duration": 0,
    "start_time": "2022-05-12T14:47:15.213Z"
   },
   {
    "duration": 12,
    "start_time": "2022-05-12T14:48:01.111Z"
   },
   {
    "duration": 11,
    "start_time": "2022-05-12T14:48:04.270Z"
   },
   {
    "duration": 10,
    "start_time": "2022-05-12T14:48:17.564Z"
   },
   {
    "duration": 13,
    "start_time": "2022-05-12T14:48:23.272Z"
   },
   {
    "duration": 13,
    "start_time": "2022-05-12T14:48:29.127Z"
   },
   {
    "duration": 47,
    "start_time": "2022-05-12T14:48:59.530Z"
   },
   {
    "duration": 7,
    "start_time": "2022-05-12T14:49:08.265Z"
   },
   {
    "duration": 430,
    "start_time": "2022-05-12T14:49:15.576Z"
   },
   {
    "duration": 160,
    "start_time": "2022-05-12T14:49:16.009Z"
   },
   {
    "duration": 20,
    "start_time": "2022-05-12T14:49:16.170Z"
   },
   {
    "duration": 9,
    "start_time": "2022-05-12T14:49:16.192Z"
   },
   {
    "duration": 34,
    "start_time": "2022-05-12T14:49:16.203Z"
   },
   {
    "duration": 4,
    "start_time": "2022-05-12T14:49:16.239Z"
   },
   {
    "duration": 13,
    "start_time": "2022-05-12T14:49:16.245Z"
   },
   {
    "duration": 30,
    "start_time": "2022-05-12T14:49:16.260Z"
   },
   {
    "duration": 29,
    "start_time": "2022-05-12T14:49:16.292Z"
   },
   {
    "duration": 3,
    "start_time": "2022-05-12T14:49:16.324Z"
   },
   {
    "duration": 79,
    "start_time": "2022-05-12T14:49:16.329Z"
   },
   {
    "duration": 0,
    "start_time": "2022-05-12T14:49:16.412Z"
   },
   {
    "duration": 0,
    "start_time": "2022-05-12T14:49:16.414Z"
   },
   {
    "duration": 0,
    "start_time": "2022-05-12T14:49:16.416Z"
   },
   {
    "duration": 0,
    "start_time": "2022-05-12T14:49:16.417Z"
   },
   {
    "duration": 0,
    "start_time": "2022-05-12T14:49:16.419Z"
   },
   {
    "duration": 0,
    "start_time": "2022-05-12T14:49:16.420Z"
   },
   {
    "duration": 0,
    "start_time": "2022-05-12T14:49:16.421Z"
   },
   {
    "duration": 0,
    "start_time": "2022-05-12T14:49:16.423Z"
   },
   {
    "duration": 0,
    "start_time": "2022-05-12T14:49:16.424Z"
   },
   {
    "duration": 0,
    "start_time": "2022-05-12T14:49:16.426Z"
   },
   {
    "duration": 0,
    "start_time": "2022-05-12T14:49:16.427Z"
   },
   {
    "duration": 0,
    "start_time": "2022-05-12T14:49:16.429Z"
   },
   {
    "duration": 0,
    "start_time": "2022-05-12T14:49:16.430Z"
   },
   {
    "duration": 0,
    "start_time": "2022-05-12T14:49:16.432Z"
   },
   {
    "duration": 0,
    "start_time": "2022-05-12T14:49:16.433Z"
   },
   {
    "duration": 0,
    "start_time": "2022-05-12T14:49:16.435Z"
   },
   {
    "duration": 0,
    "start_time": "2022-05-12T14:49:16.436Z"
   },
   {
    "duration": 0,
    "start_time": "2022-05-12T14:49:16.438Z"
   },
   {
    "duration": 0,
    "start_time": "2022-05-12T14:49:16.439Z"
   },
   {
    "duration": 0,
    "start_time": "2022-05-12T14:49:16.441Z"
   },
   {
    "duration": 0,
    "start_time": "2022-05-12T14:49:16.489Z"
   },
   {
    "duration": 0,
    "start_time": "2022-05-12T14:49:16.490Z"
   },
   {
    "duration": 0,
    "start_time": "2022-05-12T14:49:16.492Z"
   },
   {
    "duration": 0,
    "start_time": "2022-05-12T14:49:16.493Z"
   },
   {
    "duration": 0,
    "start_time": "2022-05-12T14:49:16.495Z"
   },
   {
    "duration": 0,
    "start_time": "2022-05-12T14:49:16.496Z"
   },
   {
    "duration": 0,
    "start_time": "2022-05-12T14:49:16.497Z"
   },
   {
    "duration": 0,
    "start_time": "2022-05-12T14:49:16.498Z"
   },
   {
    "duration": 11,
    "start_time": "2022-05-12T14:49:37.397Z"
   },
   {
    "duration": 10,
    "start_time": "2022-05-12T14:50:45.603Z"
   },
   {
    "duration": 11,
    "start_time": "2022-05-12T14:51:29.054Z"
   },
   {
    "duration": 11,
    "start_time": "2022-05-12T14:51:38.908Z"
   },
   {
    "duration": 437,
    "start_time": "2022-05-12T14:51:51.586Z"
   },
   {
    "duration": 176,
    "start_time": "2022-05-12T14:51:52.026Z"
   },
   {
    "duration": 27,
    "start_time": "2022-05-12T14:51:52.204Z"
   },
   {
    "duration": 9,
    "start_time": "2022-05-12T14:51:52.234Z"
   },
   {
    "duration": 52,
    "start_time": "2022-05-12T14:51:52.245Z"
   },
   {
    "duration": 5,
    "start_time": "2022-05-12T14:51:52.299Z"
   },
   {
    "duration": 19,
    "start_time": "2022-05-12T14:51:52.306Z"
   },
   {
    "duration": 20,
    "start_time": "2022-05-12T14:51:52.328Z"
   },
   {
    "duration": 39,
    "start_time": "2022-05-12T14:51:52.350Z"
   },
   {
    "duration": 8,
    "start_time": "2022-05-12T14:51:52.393Z"
   },
   {
    "duration": 93,
    "start_time": "2022-05-12T14:51:52.403Z"
   },
   {
    "duration": 0,
    "start_time": "2022-05-12T14:51:52.501Z"
   },
   {
    "duration": 0,
    "start_time": "2022-05-12T14:51:52.503Z"
   },
   {
    "duration": 0,
    "start_time": "2022-05-12T14:51:52.504Z"
   },
   {
    "duration": 0,
    "start_time": "2022-05-12T14:51:52.506Z"
   },
   {
    "duration": 0,
    "start_time": "2022-05-12T14:51:52.507Z"
   },
   {
    "duration": 0,
    "start_time": "2022-05-12T14:51:52.508Z"
   },
   {
    "duration": 0,
    "start_time": "2022-05-12T14:51:52.510Z"
   },
   {
    "duration": 0,
    "start_time": "2022-05-12T14:51:52.511Z"
   },
   {
    "duration": 0,
    "start_time": "2022-05-12T14:51:52.514Z"
   },
   {
    "duration": 0,
    "start_time": "2022-05-12T14:51:52.515Z"
   },
   {
    "duration": 0,
    "start_time": "2022-05-12T14:51:52.517Z"
   },
   {
    "duration": 1,
    "start_time": "2022-05-12T14:51:52.518Z"
   },
   {
    "duration": 0,
    "start_time": "2022-05-12T14:51:52.520Z"
   },
   {
    "duration": 0,
    "start_time": "2022-05-12T14:51:52.522Z"
   },
   {
    "duration": 0,
    "start_time": "2022-05-12T14:51:52.523Z"
   },
   {
    "duration": 0,
    "start_time": "2022-05-12T14:51:52.525Z"
   },
   {
    "duration": 0,
    "start_time": "2022-05-12T14:51:52.526Z"
   },
   {
    "duration": 0,
    "start_time": "2022-05-12T14:51:52.527Z"
   },
   {
    "duration": 0,
    "start_time": "2022-05-12T14:51:52.528Z"
   },
   {
    "duration": 0,
    "start_time": "2022-05-12T14:51:52.530Z"
   },
   {
    "duration": 0,
    "start_time": "2022-05-12T14:51:52.532Z"
   },
   {
    "duration": 0,
    "start_time": "2022-05-12T14:51:52.533Z"
   },
   {
    "duration": 0,
    "start_time": "2022-05-12T14:51:52.589Z"
   },
   {
    "duration": 0,
    "start_time": "2022-05-12T14:51:52.591Z"
   },
   {
    "duration": 0,
    "start_time": "2022-05-12T14:51:52.593Z"
   },
   {
    "duration": 0,
    "start_time": "2022-05-12T14:51:52.595Z"
   },
   {
    "duration": 0,
    "start_time": "2022-05-12T14:51:52.597Z"
   },
   {
    "duration": 0,
    "start_time": "2022-05-12T14:51:52.599Z"
   },
   {
    "duration": 17,
    "start_time": "2022-05-12T14:52:10.101Z"
   },
   {
    "duration": 13,
    "start_time": "2022-05-12T14:52:16.611Z"
   },
   {
    "duration": 12,
    "start_time": "2022-05-12T14:52:32.399Z"
   },
   {
    "duration": 12,
    "start_time": "2022-05-12T14:57:19.324Z"
   },
   {
    "duration": 3,
    "start_time": "2022-05-12T14:58:43.020Z"
   },
   {
    "duration": 8,
    "start_time": "2022-05-12T15:00:51.995Z"
   },
   {
    "duration": 7,
    "start_time": "2022-05-12T15:00:57.314Z"
   },
   {
    "duration": 410,
    "start_time": "2022-05-12T15:01:41.297Z"
   },
   {
    "duration": 159,
    "start_time": "2022-05-12T15:01:41.709Z"
   },
   {
    "duration": 23,
    "start_time": "2022-05-12T15:01:41.870Z"
   },
   {
    "duration": 10,
    "start_time": "2022-05-12T15:01:41.895Z"
   },
   {
    "duration": 33,
    "start_time": "2022-05-12T15:01:41.906Z"
   },
   {
    "duration": 4,
    "start_time": "2022-05-12T15:01:41.941Z"
   },
   {
    "duration": 12,
    "start_time": "2022-05-12T15:01:41.946Z"
   },
   {
    "duration": 5,
    "start_time": "2022-05-12T15:01:41.988Z"
   },
   {
    "duration": 30,
    "start_time": "2022-05-12T15:01:41.994Z"
   },
   {
    "duration": 8,
    "start_time": "2022-05-12T15:01:42.027Z"
   },
   {
    "duration": 79,
    "start_time": "2022-05-12T15:01:42.036Z"
   },
   {
    "duration": 0,
    "start_time": "2022-05-12T15:01:42.118Z"
   },
   {
    "duration": 0,
    "start_time": "2022-05-12T15:01:42.120Z"
   },
   {
    "duration": 0,
    "start_time": "2022-05-12T15:01:42.122Z"
   },
   {
    "duration": 0,
    "start_time": "2022-05-12T15:01:42.124Z"
   },
   {
    "duration": 0,
    "start_time": "2022-05-12T15:01:42.125Z"
   },
   {
    "duration": 0,
    "start_time": "2022-05-12T15:01:42.127Z"
   },
   {
    "duration": 0,
    "start_time": "2022-05-12T15:01:42.129Z"
   },
   {
    "duration": 0,
    "start_time": "2022-05-12T15:01:42.130Z"
   },
   {
    "duration": 0,
    "start_time": "2022-05-12T15:01:42.132Z"
   },
   {
    "duration": 0,
    "start_time": "2022-05-12T15:01:42.133Z"
   },
   {
    "duration": 0,
    "start_time": "2022-05-12T15:01:42.135Z"
   },
   {
    "duration": 0,
    "start_time": "2022-05-12T15:01:42.136Z"
   },
   {
    "duration": 0,
    "start_time": "2022-05-12T15:01:42.138Z"
   },
   {
    "duration": 0,
    "start_time": "2022-05-12T15:01:42.140Z"
   },
   {
    "duration": 0,
    "start_time": "2022-05-12T15:01:42.141Z"
   },
   {
    "duration": 0,
    "start_time": "2022-05-12T15:01:42.143Z"
   },
   {
    "duration": 0,
    "start_time": "2022-05-12T15:01:42.144Z"
   },
   {
    "duration": 0,
    "start_time": "2022-05-12T15:01:42.189Z"
   },
   {
    "duration": 0,
    "start_time": "2022-05-12T15:01:42.190Z"
   },
   {
    "duration": 0,
    "start_time": "2022-05-12T15:01:42.191Z"
   },
   {
    "duration": 0,
    "start_time": "2022-05-12T15:01:42.192Z"
   },
   {
    "duration": 0,
    "start_time": "2022-05-12T15:01:42.193Z"
   },
   {
    "duration": 0,
    "start_time": "2022-05-12T15:01:42.195Z"
   },
   {
    "duration": 0,
    "start_time": "2022-05-12T15:01:42.196Z"
   },
   {
    "duration": 0,
    "start_time": "2022-05-12T15:01:42.197Z"
   },
   {
    "duration": 0,
    "start_time": "2022-05-12T15:01:42.198Z"
   },
   {
    "duration": 0,
    "start_time": "2022-05-12T15:01:42.200Z"
   },
   {
    "duration": 0,
    "start_time": "2022-05-12T15:01:42.201Z"
   },
   {
    "duration": 7,
    "start_time": "2022-05-12T15:01:48.341Z"
   },
   {
    "duration": 5,
    "start_time": "2022-05-12T15:06:13.622Z"
   },
   {
    "duration": 24,
    "start_time": "2022-05-12T15:29:37.381Z"
   },
   {
    "duration": 15,
    "start_time": "2022-05-12T15:32:45.324Z"
   },
   {
    "duration": 410,
    "start_time": "2022-05-12T15:32:58.921Z"
   },
   {
    "duration": 159,
    "start_time": "2022-05-12T15:32:59.333Z"
   },
   {
    "duration": 18,
    "start_time": "2022-05-12T15:32:59.493Z"
   },
   {
    "duration": 10,
    "start_time": "2022-05-12T15:32:59.514Z"
   },
   {
    "duration": 39,
    "start_time": "2022-05-12T15:32:59.526Z"
   },
   {
    "duration": 23,
    "start_time": "2022-05-12T15:32:59.567Z"
   },
   {
    "duration": 12,
    "start_time": "2022-05-12T15:32:59.592Z"
   },
   {
    "duration": 7,
    "start_time": "2022-05-12T15:32:59.606Z"
   },
   {
    "duration": 28,
    "start_time": "2022-05-12T15:32:59.615Z"
   },
   {
    "duration": 108,
    "start_time": "2022-05-12T15:32:59.647Z"
   },
   {
    "duration": 0,
    "start_time": "2022-05-12T15:32:59.759Z"
   },
   {
    "duration": 0,
    "start_time": "2022-05-12T15:32:59.760Z"
   },
   {
    "duration": 0,
    "start_time": "2022-05-12T15:32:59.761Z"
   },
   {
    "duration": 0,
    "start_time": "2022-05-12T15:32:59.762Z"
   },
   {
    "duration": 0,
    "start_time": "2022-05-12T15:32:59.763Z"
   },
   {
    "duration": 0,
    "start_time": "2022-05-12T15:32:59.764Z"
   },
   {
    "duration": 0,
    "start_time": "2022-05-12T15:32:59.765Z"
   },
   {
    "duration": 0,
    "start_time": "2022-05-12T15:32:59.766Z"
   },
   {
    "duration": 0,
    "start_time": "2022-05-12T15:32:59.767Z"
   },
   {
    "duration": 0,
    "start_time": "2022-05-12T15:32:59.768Z"
   },
   {
    "duration": 0,
    "start_time": "2022-05-12T15:32:59.789Z"
   },
   {
    "duration": 0,
    "start_time": "2022-05-12T15:32:59.790Z"
   },
   {
    "duration": 0,
    "start_time": "2022-05-12T15:32:59.792Z"
   },
   {
    "duration": 0,
    "start_time": "2022-05-12T15:32:59.793Z"
   },
   {
    "duration": 0,
    "start_time": "2022-05-12T15:32:59.793Z"
   },
   {
    "duration": 0,
    "start_time": "2022-05-12T15:32:59.794Z"
   },
   {
    "duration": 0,
    "start_time": "2022-05-12T15:32:59.795Z"
   },
   {
    "duration": 0,
    "start_time": "2022-05-12T15:32:59.797Z"
   },
   {
    "duration": 0,
    "start_time": "2022-05-12T15:32:59.798Z"
   },
   {
    "duration": 0,
    "start_time": "2022-05-12T15:32:59.799Z"
   },
   {
    "duration": 0,
    "start_time": "2022-05-12T15:32:59.800Z"
   },
   {
    "duration": 0,
    "start_time": "2022-05-12T15:32:59.801Z"
   },
   {
    "duration": 0,
    "start_time": "2022-05-12T15:32:59.802Z"
   },
   {
    "duration": 0,
    "start_time": "2022-05-12T15:32:59.803Z"
   },
   {
    "duration": 0,
    "start_time": "2022-05-12T15:32:59.804Z"
   },
   {
    "duration": 0,
    "start_time": "2022-05-12T15:32:59.805Z"
   },
   {
    "duration": 0,
    "start_time": "2022-05-12T15:32:59.806Z"
   },
   {
    "duration": 0,
    "start_time": "2022-05-12T15:32:59.807Z"
   },
   {
    "duration": 0,
    "start_time": "2022-05-12T15:32:59.808Z"
   },
   {
    "duration": 11,
    "start_time": "2022-05-12T15:33:18.747Z"
   },
   {
    "duration": 9,
    "start_time": "2022-05-12T15:35:48.914Z"
   },
   {
    "duration": 50,
    "start_time": "2022-05-12T15:36:01.263Z"
   },
   {
    "duration": 8,
    "start_time": "2022-05-12T15:36:19.499Z"
   },
   {
    "duration": 411,
    "start_time": "2022-05-12T15:36:31.207Z"
   },
   {
    "duration": 166,
    "start_time": "2022-05-12T15:36:31.620Z"
   },
   {
    "duration": 18,
    "start_time": "2022-05-12T15:36:31.788Z"
   },
   {
    "duration": 10,
    "start_time": "2022-05-12T15:36:31.808Z"
   },
   {
    "duration": 45,
    "start_time": "2022-05-12T15:36:31.820Z"
   },
   {
    "duration": 23,
    "start_time": "2022-05-12T15:36:31.868Z"
   },
   {
    "duration": 25,
    "start_time": "2022-05-12T15:36:31.893Z"
   },
   {
    "duration": 16,
    "start_time": "2022-05-12T15:36:31.920Z"
   },
   {
    "duration": 33,
    "start_time": "2022-05-12T15:36:31.938Z"
   },
   {
    "duration": 69,
    "start_time": "2022-05-12T15:36:31.974Z"
   },
   {
    "duration": 0,
    "start_time": "2022-05-12T15:36:32.046Z"
   },
   {
    "duration": 0,
    "start_time": "2022-05-12T15:36:32.048Z"
   },
   {
    "duration": 0,
    "start_time": "2022-05-12T15:36:32.049Z"
   },
   {
    "duration": 0,
    "start_time": "2022-05-12T15:36:32.050Z"
   },
   {
    "duration": 0,
    "start_time": "2022-05-12T15:36:32.051Z"
   },
   {
    "duration": 0,
    "start_time": "2022-05-12T15:36:32.052Z"
   },
   {
    "duration": 0,
    "start_time": "2022-05-12T15:36:32.053Z"
   },
   {
    "duration": 0,
    "start_time": "2022-05-12T15:36:32.054Z"
   },
   {
    "duration": 0,
    "start_time": "2022-05-12T15:36:32.055Z"
   },
   {
    "duration": 0,
    "start_time": "2022-05-12T15:36:32.056Z"
   },
   {
    "duration": 0,
    "start_time": "2022-05-12T15:36:32.057Z"
   },
   {
    "duration": 0,
    "start_time": "2022-05-12T15:36:32.059Z"
   },
   {
    "duration": 0,
    "start_time": "2022-05-12T15:36:32.060Z"
   },
   {
    "duration": 0,
    "start_time": "2022-05-12T15:36:32.061Z"
   },
   {
    "duration": 0,
    "start_time": "2022-05-12T15:36:32.089Z"
   },
   {
    "duration": 0,
    "start_time": "2022-05-12T15:36:32.090Z"
   },
   {
    "duration": 0,
    "start_time": "2022-05-12T15:36:32.091Z"
   },
   {
    "duration": 0,
    "start_time": "2022-05-12T15:36:32.092Z"
   },
   {
    "duration": 0,
    "start_time": "2022-05-12T15:36:32.094Z"
   },
   {
    "duration": 0,
    "start_time": "2022-05-12T15:36:32.095Z"
   },
   {
    "duration": 0,
    "start_time": "2022-05-12T15:36:32.096Z"
   },
   {
    "duration": 0,
    "start_time": "2022-05-12T15:36:32.098Z"
   },
   {
    "duration": 0,
    "start_time": "2022-05-12T15:36:32.099Z"
   },
   {
    "duration": 0,
    "start_time": "2022-05-12T15:36:32.100Z"
   },
   {
    "duration": 0,
    "start_time": "2022-05-12T15:36:32.102Z"
   },
   {
    "duration": 0,
    "start_time": "2022-05-12T15:36:32.103Z"
   },
   {
    "duration": 0,
    "start_time": "2022-05-12T15:36:32.104Z"
   },
   {
    "duration": 0,
    "start_time": "2022-05-12T15:36:32.105Z"
   },
   {
    "duration": 0,
    "start_time": "2022-05-12T15:36:32.106Z"
   },
   {
    "duration": 171,
    "start_time": "2022-05-12T15:37:37.000Z"
   },
   {
    "duration": 13,
    "start_time": "2022-05-12T15:37:39.547Z"
   },
   {
    "duration": 32,
    "start_time": "2022-05-12T15:37:50.397Z"
   },
   {
    "duration": 5,
    "start_time": "2022-05-12T15:37:56.320Z"
   },
   {
    "duration": 13,
    "start_time": "2022-05-12T15:38:01.786Z"
   },
   {
    "duration": 4,
    "start_time": "2022-05-12T15:38:06.968Z"
   },
   {
    "duration": 26,
    "start_time": "2022-05-12T15:38:10.867Z"
   },
   {
    "duration": 8,
    "start_time": "2022-05-12T15:38:13.414Z"
   },
   {
    "duration": 9,
    "start_time": "2022-05-12T15:38:32.170Z"
   },
   {
    "duration": 8,
    "start_time": "2022-05-12T15:40:44.902Z"
   },
   {
    "duration": 18,
    "start_time": "2022-05-12T15:41:30.801Z"
   },
   {
    "duration": 15,
    "start_time": "2022-05-12T15:42:11.921Z"
   },
   {
    "duration": 19,
    "start_time": "2022-05-12T15:42:23.303Z"
   },
   {
    "duration": 441,
    "start_time": "2022-05-12T15:42:37.674Z"
   },
   {
    "duration": 169,
    "start_time": "2022-05-12T15:42:38.117Z"
   },
   {
    "duration": 18,
    "start_time": "2022-05-12T15:42:38.288Z"
   },
   {
    "duration": 9,
    "start_time": "2022-05-12T15:42:38.308Z"
   },
   {
    "duration": 34,
    "start_time": "2022-05-12T15:42:38.319Z"
   },
   {
    "duration": 35,
    "start_time": "2022-05-12T15:42:38.354Z"
   },
   {
    "duration": 12,
    "start_time": "2022-05-12T15:42:38.391Z"
   },
   {
    "duration": 8,
    "start_time": "2022-05-12T15:42:38.405Z"
   },
   {
    "duration": 29,
    "start_time": "2022-05-12T15:42:38.414Z"
   },
   {
    "duration": 50,
    "start_time": "2022-05-12T15:42:38.446Z"
   },
   {
    "duration": 65,
    "start_time": "2022-05-12T15:42:38.497Z"
   },
   {
    "duration": 0,
    "start_time": "2022-05-12T15:42:38.565Z"
   },
   {
    "duration": 0,
    "start_time": "2022-05-12T15:42:38.567Z"
   },
   {
    "duration": 0,
    "start_time": "2022-05-12T15:42:38.568Z"
   },
   {
    "duration": 0,
    "start_time": "2022-05-12T15:42:38.569Z"
   },
   {
    "duration": 0,
    "start_time": "2022-05-12T15:42:38.587Z"
   },
   {
    "duration": 0,
    "start_time": "2022-05-12T15:42:38.589Z"
   },
   {
    "duration": 0,
    "start_time": "2022-05-12T15:42:38.590Z"
   },
   {
    "duration": 0,
    "start_time": "2022-05-12T15:42:38.591Z"
   },
   {
    "duration": 0,
    "start_time": "2022-05-12T15:42:38.593Z"
   },
   {
    "duration": 0,
    "start_time": "2022-05-12T15:42:38.593Z"
   },
   {
    "duration": 0,
    "start_time": "2022-05-12T15:42:38.594Z"
   },
   {
    "duration": 0,
    "start_time": "2022-05-12T15:42:38.595Z"
   },
   {
    "duration": 0,
    "start_time": "2022-05-12T15:42:38.597Z"
   },
   {
    "duration": 0,
    "start_time": "2022-05-12T15:42:38.597Z"
   },
   {
    "duration": 0,
    "start_time": "2022-05-12T15:42:38.598Z"
   },
   {
    "duration": 0,
    "start_time": "2022-05-12T15:42:38.599Z"
   },
   {
    "duration": 0,
    "start_time": "2022-05-12T15:42:38.600Z"
   },
   {
    "duration": 0,
    "start_time": "2022-05-12T15:42:38.601Z"
   },
   {
    "duration": 0,
    "start_time": "2022-05-12T15:42:38.602Z"
   },
   {
    "duration": 0,
    "start_time": "2022-05-12T15:42:38.603Z"
   },
   {
    "duration": 0,
    "start_time": "2022-05-12T15:42:38.604Z"
   },
   {
    "duration": 0,
    "start_time": "2022-05-12T15:42:38.605Z"
   },
   {
    "duration": 0,
    "start_time": "2022-05-12T15:42:38.606Z"
   },
   {
    "duration": 0,
    "start_time": "2022-05-12T15:42:38.607Z"
   },
   {
    "duration": 0,
    "start_time": "2022-05-12T15:42:38.608Z"
   },
   {
    "duration": 0,
    "start_time": "2022-05-12T15:42:38.609Z"
   },
   {
    "duration": 0,
    "start_time": "2022-05-12T15:42:38.610Z"
   },
   {
    "duration": 0,
    "start_time": "2022-05-12T15:42:38.612Z"
   },
   {
    "duration": 23,
    "start_time": "2022-05-12T15:42:50.544Z"
   },
   {
    "duration": 28,
    "start_time": "2022-05-12T15:42:54.226Z"
   },
   {
    "duration": 124,
    "start_time": "2022-05-12T15:43:38.856Z"
   },
   {
    "duration": 23,
    "start_time": "2022-05-12T15:44:16.820Z"
   },
   {
    "duration": 24,
    "start_time": "2022-05-12T15:44:38.528Z"
   },
   {
    "duration": 399,
    "start_time": "2022-05-12T15:44:49.416Z"
   },
   {
    "duration": 179,
    "start_time": "2022-05-12T15:44:49.817Z"
   },
   {
    "duration": 26,
    "start_time": "2022-05-12T15:44:49.998Z"
   },
   {
    "duration": 12,
    "start_time": "2022-05-12T15:44:50.027Z"
   },
   {
    "duration": 58,
    "start_time": "2022-05-12T15:44:50.040Z"
   },
   {
    "duration": 5,
    "start_time": "2022-05-12T15:44:50.100Z"
   },
   {
    "duration": 15,
    "start_time": "2022-05-12T15:44:50.107Z"
   },
   {
    "duration": 8,
    "start_time": "2022-05-12T15:44:50.124Z"
   },
   {
    "duration": 55,
    "start_time": "2022-05-12T15:44:50.134Z"
   },
   {
    "duration": 24,
    "start_time": "2022-05-12T15:44:50.192Z"
   },
   {
    "duration": 87,
    "start_time": "2022-05-12T15:44:50.218Z"
   },
   {
    "duration": 0,
    "start_time": "2022-05-12T15:44:50.308Z"
   },
   {
    "duration": 0,
    "start_time": "2022-05-12T15:44:50.310Z"
   },
   {
    "duration": 0,
    "start_time": "2022-05-12T15:44:50.311Z"
   },
   {
    "duration": 0,
    "start_time": "2022-05-12T15:44:50.312Z"
   },
   {
    "duration": 0,
    "start_time": "2022-05-12T15:44:50.313Z"
   },
   {
    "duration": 0,
    "start_time": "2022-05-12T15:44:50.314Z"
   },
   {
    "duration": 0,
    "start_time": "2022-05-12T15:44:50.315Z"
   },
   {
    "duration": 0,
    "start_time": "2022-05-12T15:44:50.316Z"
   },
   {
    "duration": 0,
    "start_time": "2022-05-12T15:44:50.317Z"
   },
   {
    "duration": 0,
    "start_time": "2022-05-12T15:44:50.318Z"
   },
   {
    "duration": 0,
    "start_time": "2022-05-12T15:44:50.319Z"
   },
   {
    "duration": 0,
    "start_time": "2022-05-12T15:44:50.321Z"
   },
   {
    "duration": 0,
    "start_time": "2022-05-12T15:44:50.322Z"
   },
   {
    "duration": 0,
    "start_time": "2022-05-12T15:44:50.323Z"
   },
   {
    "duration": 0,
    "start_time": "2022-05-12T15:44:50.325Z"
   },
   {
    "duration": 0,
    "start_time": "2022-05-12T15:44:50.326Z"
   },
   {
    "duration": 0,
    "start_time": "2022-05-12T15:44:50.327Z"
   },
   {
    "duration": 0,
    "start_time": "2022-05-12T15:44:50.328Z"
   },
   {
    "duration": 0,
    "start_time": "2022-05-12T15:44:50.329Z"
   },
   {
    "duration": 0,
    "start_time": "2022-05-12T15:44:50.330Z"
   },
   {
    "duration": 0,
    "start_time": "2022-05-12T15:44:50.331Z"
   },
   {
    "duration": 0,
    "start_time": "2022-05-12T15:44:50.332Z"
   },
   {
    "duration": 0,
    "start_time": "2022-05-12T15:44:50.333Z"
   },
   {
    "duration": 0,
    "start_time": "2022-05-12T15:44:50.334Z"
   },
   {
    "duration": 0,
    "start_time": "2022-05-12T15:44:50.335Z"
   },
   {
    "duration": 0,
    "start_time": "2022-05-12T15:44:50.336Z"
   },
   {
    "duration": 0,
    "start_time": "2022-05-12T15:44:50.337Z"
   },
   {
    "duration": 0,
    "start_time": "2022-05-12T15:44:50.338Z"
   },
   {
    "duration": 29,
    "start_time": "2022-05-12T15:45:10.489Z"
   },
   {
    "duration": 24,
    "start_time": "2022-05-12T15:45:41.665Z"
   },
   {
    "duration": 30,
    "start_time": "2022-05-12T15:45:55.912Z"
   },
   {
    "duration": 20,
    "start_time": "2022-05-12T15:45:59.371Z"
   },
   {
    "duration": 53,
    "start_time": "2022-05-12T15:46:14.749Z"
   },
   {
    "duration": 9,
    "start_time": "2022-05-12T15:50:18.688Z"
   },
   {
    "duration": 425,
    "start_time": "2022-05-12T15:50:31.069Z"
   },
   {
    "duration": 156,
    "start_time": "2022-05-12T15:50:34.522Z"
   },
   {
    "duration": 17,
    "start_time": "2022-05-12T15:50:40.138Z"
   },
   {
    "duration": 10,
    "start_time": "2022-05-12T15:50:43.423Z"
   },
   {
    "duration": 32,
    "start_time": "2022-05-12T15:50:45.898Z"
   },
   {
    "duration": 5,
    "start_time": "2022-05-12T15:50:49.864Z"
   },
   {
    "duration": 12,
    "start_time": "2022-05-12T15:50:52.267Z"
   },
   {
    "duration": 5,
    "start_time": "2022-05-12T15:50:53.669Z"
   },
   {
    "duration": 28,
    "start_time": "2022-05-12T15:50:56.463Z"
   },
   {
    "duration": 31,
    "start_time": "2022-05-12T15:50:59.375Z"
   },
   {
    "duration": 8,
    "start_time": "2022-05-12T15:54:06.793Z"
   },
   {
    "duration": 23,
    "start_time": "2022-05-12T15:58:18.103Z"
   },
   {
    "duration": 21,
    "start_time": "2022-05-12T15:58:21.490Z"
   },
   {
    "duration": 59,
    "start_time": "2022-05-12T15:58:33.114Z"
   },
   {
    "duration": 8,
    "start_time": "2022-05-12T15:59:11.777Z"
   },
   {
    "duration": 50,
    "start_time": "2022-05-12T15:59:31.941Z"
   },
   {
    "duration": 49,
    "start_time": "2022-05-12T16:00:12.383Z"
   },
   {
    "duration": 425,
    "start_time": "2022-05-12T16:00:25.257Z"
   },
   {
    "duration": 152,
    "start_time": "2022-05-12T16:00:25.684Z"
   },
   {
    "duration": 16,
    "start_time": "2022-05-12T16:00:25.838Z"
   },
   {
    "duration": 9,
    "start_time": "2022-05-12T16:00:25.856Z"
   },
   {
    "duration": 45,
    "start_time": "2022-05-12T16:00:25.867Z"
   },
   {
    "duration": 4,
    "start_time": "2022-05-12T16:00:25.914Z"
   },
   {
    "duration": 16,
    "start_time": "2022-05-12T16:00:25.919Z"
   },
   {
    "duration": 10,
    "start_time": "2022-05-12T16:00:25.936Z"
   },
   {
    "duration": 43,
    "start_time": "2022-05-12T16:00:25.948Z"
   },
   {
    "duration": 63,
    "start_time": "2022-05-12T16:00:25.993Z"
   },
   {
    "duration": 0,
    "start_time": "2022-05-12T16:00:26.060Z"
   },
   {
    "duration": 0,
    "start_time": "2022-05-12T16:00:26.061Z"
   },
   {
    "duration": 0,
    "start_time": "2022-05-12T16:00:26.062Z"
   },
   {
    "duration": 0,
    "start_time": "2022-05-12T16:00:26.063Z"
   },
   {
    "duration": 0,
    "start_time": "2022-05-12T16:00:26.064Z"
   },
   {
    "duration": 0,
    "start_time": "2022-05-12T16:00:26.088Z"
   },
   {
    "duration": 0,
    "start_time": "2022-05-12T16:00:26.089Z"
   },
   {
    "duration": 0,
    "start_time": "2022-05-12T16:00:26.090Z"
   },
   {
    "duration": 0,
    "start_time": "2022-05-12T16:00:26.091Z"
   },
   {
    "duration": 0,
    "start_time": "2022-05-12T16:00:26.093Z"
   },
   {
    "duration": 0,
    "start_time": "2022-05-12T16:00:26.093Z"
   },
   {
    "duration": 0,
    "start_time": "2022-05-12T16:00:26.094Z"
   },
   {
    "duration": 0,
    "start_time": "2022-05-12T16:00:26.096Z"
   },
   {
    "duration": 0,
    "start_time": "2022-05-12T16:00:26.096Z"
   },
   {
    "duration": 0,
    "start_time": "2022-05-12T16:00:26.097Z"
   },
   {
    "duration": 0,
    "start_time": "2022-05-12T16:00:26.098Z"
   },
   {
    "duration": 0,
    "start_time": "2022-05-12T16:00:26.099Z"
   },
   {
    "duration": 0,
    "start_time": "2022-05-12T16:00:26.100Z"
   },
   {
    "duration": 0,
    "start_time": "2022-05-12T16:00:26.100Z"
   },
   {
    "duration": 0,
    "start_time": "2022-05-12T16:00:26.101Z"
   },
   {
    "duration": 0,
    "start_time": "2022-05-12T16:00:26.102Z"
   },
   {
    "duration": 0,
    "start_time": "2022-05-12T16:00:26.104Z"
   },
   {
    "duration": 0,
    "start_time": "2022-05-12T16:00:26.105Z"
   },
   {
    "duration": 0,
    "start_time": "2022-05-12T16:00:26.106Z"
   },
   {
    "duration": 0,
    "start_time": "2022-05-12T16:00:26.107Z"
   },
   {
    "duration": 0,
    "start_time": "2022-05-12T16:00:26.108Z"
   },
   {
    "duration": 0,
    "start_time": "2022-05-12T16:00:26.109Z"
   },
   {
    "duration": 0,
    "start_time": "2022-05-12T16:00:26.110Z"
   },
   {
    "duration": 0,
    "start_time": "2022-05-12T16:00:26.111Z"
   },
   {
    "duration": 2,
    "start_time": "2022-05-12T16:00:40.822Z"
   },
   {
    "duration": 162,
    "start_time": "2022-05-12T16:00:42.615Z"
   },
   {
    "duration": 11,
    "start_time": "2022-05-12T16:00:44.389Z"
   },
   {
    "duration": 29,
    "start_time": "2022-05-12T16:00:48.445Z"
   },
   {
    "duration": 4,
    "start_time": "2022-05-12T16:00:51.724Z"
   },
   {
    "duration": 9,
    "start_time": "2022-05-12T16:00:55.308Z"
   },
   {
    "duration": 5,
    "start_time": "2022-05-12T16:00:56.932Z"
   },
   {
    "duration": 26,
    "start_time": "2022-05-12T16:01:02.199Z"
   },
   {
    "duration": 9,
    "start_time": "2022-05-12T16:01:07.972Z"
   },
   {
    "duration": 9,
    "start_time": "2022-05-12T16:01:25.307Z"
   },
   {
    "duration": 8,
    "start_time": "2022-05-12T16:02:06.102Z"
   },
   {
    "duration": 441,
    "start_time": "2022-05-12T16:02:33.188Z"
   },
   {
    "duration": 157,
    "start_time": "2022-05-12T16:02:33.631Z"
   },
   {
    "duration": 16,
    "start_time": "2022-05-12T16:02:33.790Z"
   },
   {
    "duration": 9,
    "start_time": "2022-05-12T16:02:33.808Z"
   },
   {
    "duration": 44,
    "start_time": "2022-05-12T16:02:33.819Z"
   },
   {
    "duration": 24,
    "start_time": "2022-05-12T16:02:33.865Z"
   },
   {
    "duration": 17,
    "start_time": "2022-05-12T16:02:33.891Z"
   },
   {
    "duration": 11,
    "start_time": "2022-05-12T16:02:33.909Z"
   },
   {
    "duration": 28,
    "start_time": "2022-05-12T16:02:33.921Z"
   },
   {
    "duration": 76,
    "start_time": "2022-05-12T16:02:33.952Z"
   },
   {
    "duration": 0,
    "start_time": "2022-05-12T16:02:34.031Z"
   },
   {
    "duration": 0,
    "start_time": "2022-05-12T16:02:34.033Z"
   },
   {
    "duration": 0,
    "start_time": "2022-05-12T16:02:34.034Z"
   },
   {
    "duration": 0,
    "start_time": "2022-05-12T16:02:34.035Z"
   },
   {
    "duration": 0,
    "start_time": "2022-05-12T16:02:34.036Z"
   },
   {
    "duration": 0,
    "start_time": "2022-05-12T16:02:34.036Z"
   },
   {
    "duration": 0,
    "start_time": "2022-05-12T16:02:34.037Z"
   },
   {
    "duration": 0,
    "start_time": "2022-05-12T16:02:34.038Z"
   },
   {
    "duration": 0,
    "start_time": "2022-05-12T16:02:34.039Z"
   },
   {
    "duration": 0,
    "start_time": "2022-05-12T16:02:34.040Z"
   },
   {
    "duration": 0,
    "start_time": "2022-05-12T16:02:34.041Z"
   },
   {
    "duration": 0,
    "start_time": "2022-05-12T16:02:34.042Z"
   },
   {
    "duration": 0,
    "start_time": "2022-05-12T16:02:34.043Z"
   },
   {
    "duration": 0,
    "start_time": "2022-05-12T16:02:34.043Z"
   },
   {
    "duration": 0,
    "start_time": "2022-05-12T16:02:34.044Z"
   },
   {
    "duration": 0,
    "start_time": "2022-05-12T16:02:34.046Z"
   },
   {
    "duration": 0,
    "start_time": "2022-05-12T16:02:34.047Z"
   },
   {
    "duration": 0,
    "start_time": "2022-05-12T16:02:34.048Z"
   },
   {
    "duration": 0,
    "start_time": "2022-05-12T16:02:34.049Z"
   },
   {
    "duration": 0,
    "start_time": "2022-05-12T16:02:34.050Z"
   },
   {
    "duration": 0,
    "start_time": "2022-05-12T16:02:34.051Z"
   },
   {
    "duration": 0,
    "start_time": "2022-05-12T16:02:34.088Z"
   },
   {
    "duration": 0,
    "start_time": "2022-05-12T16:02:34.089Z"
   },
   {
    "duration": 0,
    "start_time": "2022-05-12T16:02:34.090Z"
   },
   {
    "duration": 0,
    "start_time": "2022-05-12T16:02:34.091Z"
   },
   {
    "duration": 0,
    "start_time": "2022-05-12T16:02:34.092Z"
   },
   {
    "duration": 0,
    "start_time": "2022-05-12T16:02:34.093Z"
   },
   {
    "duration": 0,
    "start_time": "2022-05-12T16:02:34.094Z"
   },
   {
    "duration": 0,
    "start_time": "2022-05-12T16:02:34.095Z"
   },
   {
    "duration": 3,
    "start_time": "2022-05-12T16:02:38.760Z"
   },
   {
    "duration": 150,
    "start_time": "2022-05-12T16:02:40.545Z"
   },
   {
    "duration": 13,
    "start_time": "2022-05-12T16:02:42.604Z"
   },
   {
    "duration": 42,
    "start_time": "2022-05-12T16:02:49.619Z"
   },
   {
    "duration": 10,
    "start_time": "2022-05-12T16:02:56.898Z"
   },
   {
    "duration": 4,
    "start_time": "2022-05-12T16:02:58.632Z"
   },
   {
    "duration": 9,
    "start_time": "2022-05-12T16:03:16.350Z"
   },
   {
    "duration": 8,
    "start_time": "2022-05-12T16:03:23.537Z"
   },
   {
    "duration": 72,
    "start_time": "2022-05-12T16:03:23.974Z"
   },
   {
    "duration": 8,
    "start_time": "2022-05-12T16:03:35.812Z"
   },
   {
    "duration": 48,
    "start_time": "2022-05-12T16:03:46.035Z"
   },
   {
    "duration": 7,
    "start_time": "2022-05-12T16:04:38.591Z"
   },
   {
    "duration": 446,
    "start_time": "2022-05-12T16:04:53.257Z"
   },
   {
    "duration": 159,
    "start_time": "2022-05-12T16:04:57.008Z"
   },
   {
    "duration": 47,
    "start_time": "2022-05-12T16:05:12.512Z"
   },
   {
    "duration": 69,
    "start_time": "2022-05-12T16:05:19.410Z"
   },
   {
    "duration": 78,
    "start_time": "2022-05-12T16:05:24.004Z"
   },
   {
    "duration": 30,
    "start_time": "2022-05-12T16:05:36.659Z"
   },
   {
    "duration": 10,
    "start_time": "2022-05-12T16:05:43.915Z"
   },
   {
    "duration": 8,
    "start_time": "2022-05-12T16:15:08.837Z"
   },
   {
    "duration": 48,
    "start_time": "2022-05-12T16:15:41.379Z"
   },
   {
    "duration": 33,
    "start_time": "2022-05-12T16:25:13.382Z"
   },
   {
    "duration": 35,
    "start_time": "2022-05-12T16:25:20.175Z"
   },
   {
    "duration": 47,
    "start_time": "2022-05-12T16:36:18.260Z"
   },
   {
    "duration": 406,
    "start_time": "2022-05-12T16:43:48.026Z"
   },
   {
    "duration": 174,
    "start_time": "2022-05-12T16:43:48.435Z"
   },
   {
    "duration": 17,
    "start_time": "2022-05-12T16:43:48.611Z"
   },
   {
    "duration": 10,
    "start_time": "2022-05-12T16:43:48.630Z"
   },
   {
    "duration": 57,
    "start_time": "2022-05-12T16:43:48.642Z"
   },
   {
    "duration": 6,
    "start_time": "2022-05-12T16:43:48.701Z"
   },
   {
    "duration": 18,
    "start_time": "2022-05-12T16:43:48.708Z"
   },
   {
    "duration": 6,
    "start_time": "2022-05-12T16:43:48.728Z"
   },
   {
    "duration": 27,
    "start_time": "2022-05-12T16:43:48.736Z"
   },
   {
    "duration": 81,
    "start_time": "2022-05-12T16:43:48.766Z"
   },
   {
    "duration": 0,
    "start_time": "2022-05-12T16:43:48.851Z"
   },
   {
    "duration": 0,
    "start_time": "2022-05-12T16:43:48.853Z"
   },
   {
    "duration": 0,
    "start_time": "2022-05-12T16:43:48.853Z"
   },
   {
    "duration": 0,
    "start_time": "2022-05-12T16:43:48.854Z"
   },
   {
    "duration": 0,
    "start_time": "2022-05-12T16:43:48.855Z"
   },
   {
    "duration": 0,
    "start_time": "2022-05-12T16:43:48.856Z"
   },
   {
    "duration": 0,
    "start_time": "2022-05-12T16:43:48.857Z"
   },
   {
    "duration": 0,
    "start_time": "2022-05-12T16:43:48.858Z"
   },
   {
    "duration": 0,
    "start_time": "2022-05-12T16:43:48.859Z"
   },
   {
    "duration": 0,
    "start_time": "2022-05-12T16:43:48.860Z"
   },
   {
    "duration": 0,
    "start_time": "2022-05-12T16:43:48.861Z"
   },
   {
    "duration": 0,
    "start_time": "2022-05-12T16:43:48.862Z"
   },
   {
    "duration": 0,
    "start_time": "2022-05-12T16:43:48.888Z"
   },
   {
    "duration": 0,
    "start_time": "2022-05-12T16:43:48.889Z"
   },
   {
    "duration": 0,
    "start_time": "2022-05-12T16:43:48.889Z"
   },
   {
    "duration": 0,
    "start_time": "2022-05-12T16:43:48.890Z"
   },
   {
    "duration": 0,
    "start_time": "2022-05-12T16:43:48.891Z"
   },
   {
    "duration": 0,
    "start_time": "2022-05-12T16:43:48.895Z"
   },
   {
    "duration": 0,
    "start_time": "2022-05-12T16:43:48.896Z"
   },
   {
    "duration": 0,
    "start_time": "2022-05-12T16:43:48.897Z"
   },
   {
    "duration": 0,
    "start_time": "2022-05-12T16:43:48.899Z"
   },
   {
    "duration": 0,
    "start_time": "2022-05-12T16:43:48.902Z"
   },
   {
    "duration": 0,
    "start_time": "2022-05-12T16:43:48.904Z"
   },
   {
    "duration": 0,
    "start_time": "2022-05-12T16:43:48.905Z"
   },
   {
    "duration": 0,
    "start_time": "2022-05-12T16:43:48.907Z"
   },
   {
    "duration": 0,
    "start_time": "2022-05-12T16:43:48.909Z"
   },
   {
    "duration": 0,
    "start_time": "2022-05-12T16:43:48.910Z"
   },
   {
    "duration": 1,
    "start_time": "2022-05-12T16:43:48.912Z"
   },
   {
    "duration": 0,
    "start_time": "2022-05-12T16:43:48.914Z"
   },
   {
    "duration": 148,
    "start_time": "2022-05-12T16:57:46.341Z"
   },
   {
    "duration": 11,
    "start_time": "2022-05-12T17:07:45.626Z"
   },
   {
    "duration": 10,
    "start_time": "2022-05-12T17:07:50.090Z"
   },
   {
    "duration": 10,
    "start_time": "2022-05-12T17:08:17.652Z"
   },
   {
    "duration": 9,
    "start_time": "2022-05-12T17:08:31.533Z"
   },
   {
    "duration": 76,
    "start_time": "2022-05-12T17:09:32.675Z"
   },
   {
    "duration": 102,
    "start_time": "2022-05-12T17:09:55.613Z"
   },
   {
    "duration": 85,
    "start_time": "2022-05-12T17:10:03.031Z"
   },
   {
    "duration": 13,
    "start_time": "2022-05-12T17:11:56.724Z"
   },
   {
    "duration": 11,
    "start_time": "2022-05-12T17:12:10.854Z"
   },
   {
    "duration": 42,
    "start_time": "2022-05-12T17:12:15.225Z"
   },
   {
    "duration": 9,
    "start_time": "2022-05-12T17:12:52.840Z"
   },
   {
    "duration": 11,
    "start_time": "2022-05-12T17:13:13.550Z"
   },
   {
    "duration": 10,
    "start_time": "2022-05-12T17:13:31.076Z"
   },
   {
    "duration": 4,
    "start_time": "2022-05-12T17:15:58.964Z"
   },
   {
    "duration": 6,
    "start_time": "2022-05-12T17:18:41.615Z"
   },
   {
    "duration": 5,
    "start_time": "2022-05-12T17:18:44.554Z"
   },
   {
    "duration": 11,
    "start_time": "2022-05-12T17:22:33.685Z"
   },
   {
    "duration": 8,
    "start_time": "2022-05-12T17:23:07.352Z"
   },
   {
    "duration": 10,
    "start_time": "2022-05-12T17:23:22.200Z"
   },
   {
    "duration": 4,
    "start_time": "2022-05-12T17:23:53.948Z"
   },
   {
    "duration": 9,
    "start_time": "2022-05-12T17:24:09.325Z"
   },
   {
    "duration": 9,
    "start_time": "2022-05-12T17:24:23.735Z"
   },
   {
    "duration": 10,
    "start_time": "2022-05-12T17:24:27.371Z"
   },
   {
    "duration": 65,
    "start_time": "2022-05-12T17:24:33.613Z"
   },
   {
    "duration": 81,
    "start_time": "2022-05-12T17:25:19.049Z"
   },
   {
    "duration": 8,
    "start_time": "2022-05-12T17:26:40.657Z"
   },
   {
    "duration": 4,
    "start_time": "2022-05-12T17:26:46.033Z"
   },
   {
    "duration": 28,
    "start_time": "2022-05-12T17:26:48.424Z"
   },
   {
    "duration": 23,
    "start_time": "2022-05-12T17:26:48.758Z"
   },
   {
    "duration": 26,
    "start_time": "2022-05-12T17:26:49.571Z"
   },
   {
    "duration": 17,
    "start_time": "2022-05-12T17:26:49.805Z"
   },
   {
    "duration": 20,
    "start_time": "2022-05-12T17:26:50.066Z"
   },
   {
    "duration": 5,
    "start_time": "2022-05-12T17:27:48.951Z"
   },
   {
    "duration": 5,
    "start_time": "2022-05-12T17:27:53.184Z"
   },
   {
    "duration": 398,
    "start_time": "2022-05-12T17:27:59.263Z"
   },
   {
    "duration": 164,
    "start_time": "2022-05-12T17:27:59.663Z"
   },
   {
    "duration": 16,
    "start_time": "2022-05-12T17:27:59.829Z"
   },
   {
    "duration": 9,
    "start_time": "2022-05-12T17:27:59.847Z"
   },
   {
    "duration": 50,
    "start_time": "2022-05-12T17:27:59.858Z"
   },
   {
    "duration": 4,
    "start_time": "2022-05-12T17:27:59.910Z"
   },
   {
    "duration": 15,
    "start_time": "2022-05-12T17:27:59.915Z"
   },
   {
    "duration": 8,
    "start_time": "2022-05-12T17:27:59.932Z"
   },
   {
    "duration": 30,
    "start_time": "2022-05-12T17:27:59.941Z"
   },
   {
    "duration": 79,
    "start_time": "2022-05-12T17:27:59.974Z"
   },
   {
    "duration": 0,
    "start_time": "2022-05-12T17:28:00.057Z"
   },
   {
    "duration": 0,
    "start_time": "2022-05-12T17:28:00.058Z"
   },
   {
    "duration": 0,
    "start_time": "2022-05-12T17:28:00.059Z"
   },
   {
    "duration": 0,
    "start_time": "2022-05-12T17:28:00.060Z"
   },
   {
    "duration": 0,
    "start_time": "2022-05-12T17:28:00.061Z"
   },
   {
    "duration": 0,
    "start_time": "2022-05-12T17:28:00.062Z"
   },
   {
    "duration": 0,
    "start_time": "2022-05-12T17:28:00.063Z"
   },
   {
    "duration": 0,
    "start_time": "2022-05-12T17:28:00.064Z"
   },
   {
    "duration": 0,
    "start_time": "2022-05-12T17:28:00.065Z"
   },
   {
    "duration": 0,
    "start_time": "2022-05-12T17:28:00.066Z"
   },
   {
    "duration": 0,
    "start_time": "2022-05-12T17:28:00.095Z"
   },
   {
    "duration": 0,
    "start_time": "2022-05-12T17:28:00.097Z"
   },
   {
    "duration": 0,
    "start_time": "2022-05-12T17:28:00.098Z"
   },
   {
    "duration": 0,
    "start_time": "2022-05-12T17:28:00.099Z"
   },
   {
    "duration": 0,
    "start_time": "2022-05-12T17:28:00.101Z"
   },
   {
    "duration": 0,
    "start_time": "2022-05-12T17:28:00.102Z"
   },
   {
    "duration": 0,
    "start_time": "2022-05-12T17:28:00.103Z"
   },
   {
    "duration": 0,
    "start_time": "2022-05-12T17:28:00.104Z"
   },
   {
    "duration": 0,
    "start_time": "2022-05-12T17:28:00.106Z"
   },
   {
    "duration": 0,
    "start_time": "2022-05-12T17:28:00.107Z"
   },
   {
    "duration": 0,
    "start_time": "2022-05-12T17:28:00.108Z"
   },
   {
    "duration": 0,
    "start_time": "2022-05-12T17:28:00.110Z"
   },
   {
    "duration": 0,
    "start_time": "2022-05-12T17:28:00.111Z"
   },
   {
    "duration": 0,
    "start_time": "2022-05-12T17:28:00.113Z"
   },
   {
    "duration": 0,
    "start_time": "2022-05-12T17:28:00.114Z"
   },
   {
    "duration": 0,
    "start_time": "2022-05-12T17:28:00.116Z"
   },
   {
    "duration": 0,
    "start_time": "2022-05-12T17:28:00.117Z"
   },
   {
    "duration": 0,
    "start_time": "2022-05-12T17:28:00.119Z"
   },
   {
    "duration": 0,
    "start_time": "2022-05-12T17:28:00.120Z"
   },
   {
    "duration": 0,
    "start_time": "2022-05-12T17:28:00.121Z"
   },
   {
    "duration": 0,
    "start_time": "2022-05-12T17:28:00.123Z"
   },
   {
    "duration": 4,
    "start_time": "2022-05-12T17:28:25.799Z"
   },
   {
    "duration": 10,
    "start_time": "2022-05-12T17:28:30.293Z"
   },
   {
    "duration": 3,
    "start_time": "2022-05-12T17:29:31.683Z"
   },
   {
    "duration": 7,
    "start_time": "2022-05-12T17:29:32.609Z"
   },
   {
    "duration": 7,
    "start_time": "2022-05-12T17:29:34.475Z"
   },
   {
    "duration": 7,
    "start_time": "2022-05-12T17:29:34.971Z"
   },
   {
    "duration": 423,
    "start_time": "2022-05-12T17:29:42.318Z"
   },
   {
    "duration": 178,
    "start_time": "2022-05-12T17:29:42.743Z"
   },
   {
    "duration": 19,
    "start_time": "2022-05-12T17:29:42.923Z"
   },
   {
    "duration": 10,
    "start_time": "2022-05-12T17:29:42.944Z"
   },
   {
    "duration": 61,
    "start_time": "2022-05-12T17:29:42.956Z"
   },
   {
    "duration": 7,
    "start_time": "2022-05-12T17:29:43.019Z"
   },
   {
    "duration": 16,
    "start_time": "2022-05-12T17:29:43.027Z"
   },
   {
    "duration": 38,
    "start_time": "2022-05-12T17:29:43.044Z"
   },
   {
    "duration": 44,
    "start_time": "2022-05-12T17:29:43.084Z"
   },
   {
    "duration": 67,
    "start_time": "2022-05-12T17:29:43.131Z"
   },
   {
    "duration": 0,
    "start_time": "2022-05-12T17:29:43.204Z"
   },
   {
    "duration": 0,
    "start_time": "2022-05-12T17:29:43.206Z"
   },
   {
    "duration": 0,
    "start_time": "2022-05-12T17:29:43.208Z"
   },
   {
    "duration": 0,
    "start_time": "2022-05-12T17:29:43.209Z"
   },
   {
    "duration": 0,
    "start_time": "2022-05-12T17:29:43.210Z"
   },
   {
    "duration": 0,
    "start_time": "2022-05-12T17:29:43.211Z"
   },
   {
    "duration": 0,
    "start_time": "2022-05-12T17:29:43.212Z"
   },
   {
    "duration": 0,
    "start_time": "2022-05-12T17:29:43.214Z"
   },
   {
    "duration": 0,
    "start_time": "2022-05-12T17:29:43.215Z"
   },
   {
    "duration": 0,
    "start_time": "2022-05-12T17:29:43.216Z"
   },
   {
    "duration": 0,
    "start_time": "2022-05-12T17:29:43.217Z"
   },
   {
    "duration": 0,
    "start_time": "2022-05-12T17:29:43.218Z"
   },
   {
    "duration": 0,
    "start_time": "2022-05-12T17:29:43.219Z"
   },
   {
    "duration": 0,
    "start_time": "2022-05-12T17:29:43.220Z"
   },
   {
    "duration": 0,
    "start_time": "2022-05-12T17:29:43.221Z"
   },
   {
    "duration": 0,
    "start_time": "2022-05-12T17:29:43.222Z"
   },
   {
    "duration": 0,
    "start_time": "2022-05-12T17:29:43.224Z"
   },
   {
    "duration": 0,
    "start_time": "2022-05-12T17:29:43.224Z"
   },
   {
    "duration": 0,
    "start_time": "2022-05-12T17:29:43.225Z"
   },
   {
    "duration": 0,
    "start_time": "2022-05-12T17:29:43.226Z"
   },
   {
    "duration": 0,
    "start_time": "2022-05-12T17:29:43.227Z"
   },
   {
    "duration": 0,
    "start_time": "2022-05-12T17:29:43.229Z"
   },
   {
    "duration": 0,
    "start_time": "2022-05-12T17:29:43.229Z"
   },
   {
    "duration": 0,
    "start_time": "2022-05-12T17:29:43.231Z"
   },
   {
    "duration": 0,
    "start_time": "2022-05-12T17:29:43.232Z"
   },
   {
    "duration": 0,
    "start_time": "2022-05-12T17:29:43.233Z"
   },
   {
    "duration": 0,
    "start_time": "2022-05-12T17:29:43.233Z"
   },
   {
    "duration": 0,
    "start_time": "2022-05-12T17:29:43.235Z"
   },
   {
    "duration": 0,
    "start_time": "2022-05-12T17:29:43.236Z"
   },
   {
    "duration": 0,
    "start_time": "2022-05-12T17:29:43.237Z"
   },
   {
    "duration": 0,
    "start_time": "2022-05-12T17:29:43.238Z"
   },
   {
    "duration": 11,
    "start_time": "2022-05-12T17:30:15.125Z"
   },
   {
    "duration": 14,
    "start_time": "2022-05-12T17:30:18.657Z"
   },
   {
    "duration": 13,
    "start_time": "2022-05-12T17:30:19.578Z"
   },
   {
    "duration": 4,
    "start_time": "2022-05-12T17:30:29.500Z"
   },
   {
    "duration": 15,
    "start_time": "2022-05-12T17:30:32.323Z"
   },
   {
    "duration": 11,
    "start_time": "2022-05-12T17:30:32.802Z"
   },
   {
    "duration": 3,
    "start_time": "2022-05-12T17:30:33.957Z"
   },
   {
    "duration": 4,
    "start_time": "2022-05-12T17:30:34.424Z"
   },
   {
    "duration": 24,
    "start_time": "2022-05-12T17:30:35.489Z"
   },
   {
    "duration": 13,
    "start_time": "2022-05-12T17:30:36.363Z"
   },
   {
    "duration": 18,
    "start_time": "2022-05-12T17:30:36.748Z"
   },
   {
    "duration": 14,
    "start_time": "2022-05-12T17:30:39.401Z"
   },
   {
    "duration": 9,
    "start_time": "2022-05-12T17:30:40.675Z"
   },
   {
    "duration": 5,
    "start_time": "2022-05-12T17:30:41.183Z"
   },
   {
    "duration": 9,
    "start_time": "2022-05-12T17:30:41.689Z"
   },
   {
    "duration": 4,
    "start_time": "2022-05-12T17:30:42.136Z"
   },
   {
    "duration": 22,
    "start_time": "2022-05-12T17:32:47.349Z"
   },
   {
    "duration": 19,
    "start_time": "2022-05-12T17:32:48.207Z"
   },
   {
    "duration": 3,
    "start_time": "2022-05-12T17:34:14.759Z"
   },
   {
    "duration": 4,
    "start_time": "2022-05-12T17:34:17.677Z"
   },
   {
    "duration": 11,
    "start_time": "2022-05-12T18:27:32.175Z"
   },
   {
    "duration": 17,
    "start_time": "2022-05-12T18:27:56.910Z"
   },
   {
    "duration": 88,
    "start_time": "2022-05-12T18:28:10.245Z"
   },
   {
    "duration": 120,
    "start_time": "2022-05-12T18:28:19.614Z"
   },
   {
    "duration": 79,
    "start_time": "2022-05-12T18:28:34.214Z"
   },
   {
    "duration": 59,
    "start_time": "2022-05-12T18:28:53.686Z"
   },
   {
    "duration": 8,
    "start_time": "2022-05-12T18:29:52.180Z"
   },
   {
    "duration": 11,
    "start_time": "2022-05-12T18:55:32.131Z"
   },
   {
    "duration": 9,
    "start_time": "2022-05-12T18:56:04.027Z"
   },
   {
    "duration": 455,
    "start_time": "2022-05-12T18:56:13.240Z"
   },
   {
    "duration": 187,
    "start_time": "2022-05-12T18:56:13.699Z"
   },
   {
    "duration": 25,
    "start_time": "2022-05-12T18:56:13.896Z"
   },
   {
    "duration": 19,
    "start_time": "2022-05-12T18:56:13.924Z"
   },
   {
    "duration": 34,
    "start_time": "2022-05-12T18:56:13.945Z"
   },
   {
    "duration": 24,
    "start_time": "2022-05-12T18:56:13.981Z"
   },
   {
    "duration": 31,
    "start_time": "2022-05-12T18:56:14.006Z"
   },
   {
    "duration": 9,
    "start_time": "2022-05-12T18:56:14.038Z"
   },
   {
    "duration": 28,
    "start_time": "2022-05-12T18:56:14.049Z"
   },
   {
    "duration": 98,
    "start_time": "2022-05-12T18:56:14.080Z"
   },
   {
    "duration": 0,
    "start_time": "2022-05-12T18:56:14.182Z"
   },
   {
    "duration": 0,
    "start_time": "2022-05-12T18:56:14.183Z"
   },
   {
    "duration": 0,
    "start_time": "2022-05-12T18:56:14.184Z"
   },
   {
    "duration": 0,
    "start_time": "2022-05-12T18:56:14.185Z"
   },
   {
    "duration": 0,
    "start_time": "2022-05-12T18:56:14.186Z"
   },
   {
    "duration": 0,
    "start_time": "2022-05-12T18:56:14.187Z"
   },
   {
    "duration": 0,
    "start_time": "2022-05-12T18:56:14.188Z"
   },
   {
    "duration": 0,
    "start_time": "2022-05-12T18:56:14.189Z"
   },
   {
    "duration": 0,
    "start_time": "2022-05-12T18:56:14.191Z"
   },
   {
    "duration": 0,
    "start_time": "2022-05-12T18:56:14.192Z"
   },
   {
    "duration": 0,
    "start_time": "2022-05-12T18:56:14.194Z"
   },
   {
    "duration": 0,
    "start_time": "2022-05-12T18:56:14.196Z"
   },
   {
    "duration": 0,
    "start_time": "2022-05-12T18:56:14.197Z"
   },
   {
    "duration": 0,
    "start_time": "2022-05-12T18:56:14.198Z"
   },
   {
    "duration": 0,
    "start_time": "2022-05-12T18:56:14.199Z"
   },
   {
    "duration": 0,
    "start_time": "2022-05-12T18:56:14.203Z"
   },
   {
    "duration": 0,
    "start_time": "2022-05-12T18:56:14.204Z"
   },
   {
    "duration": 0,
    "start_time": "2022-05-12T18:56:14.205Z"
   },
   {
    "duration": 0,
    "start_time": "2022-05-12T18:56:14.206Z"
   },
   {
    "duration": 0,
    "start_time": "2022-05-12T18:56:14.207Z"
   },
   {
    "duration": 0,
    "start_time": "2022-05-12T18:56:14.211Z"
   },
   {
    "duration": 0,
    "start_time": "2022-05-12T18:56:14.212Z"
   },
   {
    "duration": 0,
    "start_time": "2022-05-12T18:56:14.214Z"
   },
   {
    "duration": 0,
    "start_time": "2022-05-12T18:56:14.215Z"
   },
   {
    "duration": 0,
    "start_time": "2022-05-12T18:56:14.215Z"
   },
   {
    "duration": 0,
    "start_time": "2022-05-12T18:56:14.218Z"
   },
   {
    "duration": 0,
    "start_time": "2022-05-12T18:56:14.219Z"
   },
   {
    "duration": 1,
    "start_time": "2022-05-12T18:56:14.220Z"
   },
   {
    "duration": 0,
    "start_time": "2022-05-12T18:56:14.222Z"
   },
   {
    "duration": 0,
    "start_time": "2022-05-12T18:56:14.223Z"
   },
   {
    "duration": 0,
    "start_time": "2022-05-12T18:56:14.223Z"
   },
   {
    "duration": 18,
    "start_time": "2022-05-12T18:56:23.924Z"
   },
   {
    "duration": 5,
    "start_time": "2022-05-12T19:00:32.244Z"
   },
   {
    "duration": 4,
    "start_time": "2022-05-12T19:02:53.338Z"
   },
   {
    "duration": 17,
    "start_time": "2022-05-12T19:02:57.376Z"
   },
   {
    "duration": 13,
    "start_time": "2022-05-12T19:03:13.317Z"
   },
   {
    "duration": 475,
    "start_time": "2022-05-12T19:03:23.582Z"
   },
   {
    "duration": 219,
    "start_time": "2022-05-12T19:03:24.058Z"
   },
   {
    "duration": 27,
    "start_time": "2022-05-12T19:03:24.280Z"
   },
   {
    "duration": 45,
    "start_time": "2022-05-12T19:03:24.310Z"
   },
   {
    "duration": 54,
    "start_time": "2022-05-12T19:03:24.357Z"
   },
   {
    "duration": 5,
    "start_time": "2022-05-12T19:03:24.419Z"
   },
   {
    "duration": 35,
    "start_time": "2022-05-12T19:03:24.426Z"
   },
   {
    "duration": 8,
    "start_time": "2022-05-12T19:03:24.463Z"
   },
   {
    "duration": 71,
    "start_time": "2022-05-12T19:03:24.473Z"
   },
   {
    "duration": 84,
    "start_time": "2022-05-12T19:03:24.548Z"
   },
   {
    "duration": 0,
    "start_time": "2022-05-12T19:03:24.636Z"
   },
   {
    "duration": 0,
    "start_time": "2022-05-12T19:03:24.638Z"
   },
   {
    "duration": 0,
    "start_time": "2022-05-12T19:03:24.639Z"
   },
   {
    "duration": 0,
    "start_time": "2022-05-12T19:03:24.640Z"
   },
   {
    "duration": 0,
    "start_time": "2022-05-12T19:03:24.642Z"
   },
   {
    "duration": 0,
    "start_time": "2022-05-12T19:03:24.643Z"
   },
   {
    "duration": 0,
    "start_time": "2022-05-12T19:03:24.644Z"
   },
   {
    "duration": 1,
    "start_time": "2022-05-12T19:03:24.645Z"
   },
   {
    "duration": 0,
    "start_time": "2022-05-12T19:03:24.647Z"
   },
   {
    "duration": 0,
    "start_time": "2022-05-12T19:03:24.648Z"
   },
   {
    "duration": 0,
    "start_time": "2022-05-12T19:03:24.650Z"
   },
   {
    "duration": 0,
    "start_time": "2022-05-12T19:03:24.651Z"
   },
   {
    "duration": 0,
    "start_time": "2022-05-12T19:03:24.652Z"
   },
   {
    "duration": 0,
    "start_time": "2022-05-12T19:03:24.654Z"
   },
   {
    "duration": 0,
    "start_time": "2022-05-12T19:03:24.655Z"
   },
   {
    "duration": 0,
    "start_time": "2022-05-12T19:03:24.656Z"
   },
   {
    "duration": 0,
    "start_time": "2022-05-12T19:03:24.657Z"
   },
   {
    "duration": 0,
    "start_time": "2022-05-12T19:03:24.658Z"
   },
   {
    "duration": 1,
    "start_time": "2022-05-12T19:03:24.658Z"
   },
   {
    "duration": 0,
    "start_time": "2022-05-12T19:03:24.660Z"
   },
   {
    "duration": 0,
    "start_time": "2022-05-12T19:03:24.661Z"
   },
   {
    "duration": 0,
    "start_time": "2022-05-12T19:03:24.688Z"
   },
   {
    "duration": 0,
    "start_time": "2022-05-12T19:03:24.688Z"
   },
   {
    "duration": 0,
    "start_time": "2022-05-12T19:03:24.690Z"
   },
   {
    "duration": 0,
    "start_time": "2022-05-12T19:03:24.691Z"
   },
   {
    "duration": 0,
    "start_time": "2022-05-12T19:03:24.692Z"
   },
   {
    "duration": 0,
    "start_time": "2022-05-12T19:03:24.693Z"
   },
   {
    "duration": 0,
    "start_time": "2022-05-12T19:03:24.693Z"
   },
   {
    "duration": 0,
    "start_time": "2022-05-12T19:03:24.694Z"
   },
   {
    "duration": 0,
    "start_time": "2022-05-12T19:03:24.695Z"
   },
   {
    "duration": 0,
    "start_time": "2022-05-12T19:03:24.697Z"
   },
   {
    "duration": 9,
    "start_time": "2022-05-12T19:03:53.803Z"
   },
   {
    "duration": 75,
    "start_time": "2022-05-12T19:10:42.520Z"
   },
   {
    "duration": 6,
    "start_time": "2022-05-12T19:13:10.808Z"
   },
   {
    "duration": 6,
    "start_time": "2022-05-12T19:13:14.263Z"
   },
   {
    "duration": 536,
    "start_time": "2022-05-12T19:13:20.848Z"
   },
   {
    "duration": 445,
    "start_time": "2022-05-12T19:13:21.387Z"
   },
   {
    "duration": 27,
    "start_time": "2022-05-12T19:13:21.835Z"
   },
   {
    "duration": 14,
    "start_time": "2022-05-12T19:13:21.864Z"
   },
   {
    "duration": 69,
    "start_time": "2022-05-12T19:13:21.881Z"
   },
   {
    "duration": 12,
    "start_time": "2022-05-12T19:13:21.952Z"
   },
   {
    "duration": 37,
    "start_time": "2022-05-12T19:13:21.967Z"
   },
   {
    "duration": 53,
    "start_time": "2022-05-12T19:13:22.007Z"
   },
   {
    "duration": 59,
    "start_time": "2022-05-12T19:13:22.062Z"
   },
   {
    "duration": 130,
    "start_time": "2022-05-12T19:13:22.124Z"
   },
   {
    "duration": 0,
    "start_time": "2022-05-12T19:13:22.259Z"
   },
   {
    "duration": 0,
    "start_time": "2022-05-12T19:13:22.260Z"
   },
   {
    "duration": 0,
    "start_time": "2022-05-12T19:13:22.262Z"
   },
   {
    "duration": 0,
    "start_time": "2022-05-12T19:13:22.263Z"
   },
   {
    "duration": 0,
    "start_time": "2022-05-12T19:13:22.264Z"
   },
   {
    "duration": 0,
    "start_time": "2022-05-12T19:13:22.265Z"
   },
   {
    "duration": 0,
    "start_time": "2022-05-12T19:13:22.267Z"
   },
   {
    "duration": 1,
    "start_time": "2022-05-12T19:13:22.267Z"
   },
   {
    "duration": 0,
    "start_time": "2022-05-12T19:13:22.269Z"
   },
   {
    "duration": 0,
    "start_time": "2022-05-12T19:13:22.270Z"
   },
   {
    "duration": 0,
    "start_time": "2022-05-12T19:13:22.271Z"
   },
   {
    "duration": 0,
    "start_time": "2022-05-12T19:13:22.272Z"
   },
   {
    "duration": 0,
    "start_time": "2022-05-12T19:13:22.274Z"
   },
   {
    "duration": 0,
    "start_time": "2022-05-12T19:13:22.275Z"
   },
   {
    "duration": 0,
    "start_time": "2022-05-12T19:13:22.275Z"
   },
   {
    "duration": 0,
    "start_time": "2022-05-12T19:13:22.276Z"
   },
   {
    "duration": 0,
    "start_time": "2022-05-12T19:13:22.278Z"
   },
   {
    "duration": 0,
    "start_time": "2022-05-12T19:13:22.278Z"
   },
   {
    "duration": 0,
    "start_time": "2022-05-12T19:13:22.279Z"
   },
   {
    "duration": 0,
    "start_time": "2022-05-12T19:13:22.280Z"
   },
   {
    "duration": 0,
    "start_time": "2022-05-12T19:13:22.281Z"
   },
   {
    "duration": 0,
    "start_time": "2022-05-12T19:13:22.282Z"
   },
   {
    "duration": 0,
    "start_time": "2022-05-12T19:13:22.282Z"
   },
   {
    "duration": 0,
    "start_time": "2022-05-12T19:13:22.287Z"
   },
   {
    "duration": 0,
    "start_time": "2022-05-12T19:13:22.290Z"
   },
   {
    "duration": 0,
    "start_time": "2022-05-12T19:13:22.290Z"
   },
   {
    "duration": 0,
    "start_time": "2022-05-12T19:13:22.291Z"
   },
   {
    "duration": 0,
    "start_time": "2022-05-12T19:13:22.294Z"
   },
   {
    "duration": 0,
    "start_time": "2022-05-12T19:13:22.295Z"
   },
   {
    "duration": 0,
    "start_time": "2022-05-12T19:13:22.296Z"
   },
   {
    "duration": 0,
    "start_time": "2022-05-12T19:13:22.296Z"
   },
   {
    "duration": 8,
    "start_time": "2022-05-12T19:14:37.435Z"
   },
   {
    "duration": 5,
    "start_time": "2022-05-12T19:14:50.420Z"
   },
   {
    "duration": 21,
    "start_time": "2022-05-12T19:14:53.231Z"
   },
   {
    "duration": 21,
    "start_time": "2022-05-12T19:14:54.236Z"
   },
   {
    "duration": 24,
    "start_time": "2022-05-12T19:14:54.846Z"
   },
   {
    "duration": 25,
    "start_time": "2022-05-12T19:14:55.271Z"
   },
   {
    "duration": 30,
    "start_time": "2022-05-12T19:14:55.700Z"
   },
   {
    "duration": 6,
    "start_time": "2022-05-12T19:18:53.374Z"
   },
   {
    "duration": 16,
    "start_time": "2022-05-12T19:20:20.957Z"
   },
   {
    "duration": 9,
    "start_time": "2022-05-12T19:20:24.330Z"
   },
   {
    "duration": 15,
    "start_time": "2022-05-12T19:28:08.255Z"
   },
   {
    "duration": 30,
    "start_time": "2022-05-12T19:28:08.981Z"
   },
   {
    "duration": 3,
    "start_time": "2022-05-12T19:28:11.338Z"
   },
   {
    "duration": 4,
    "start_time": "2022-05-12T19:28:12.269Z"
   },
   {
    "duration": 21,
    "start_time": "2022-05-12T19:28:14.967Z"
   },
   {
    "duration": 16,
    "start_time": "2022-05-12T19:28:15.666Z"
   },
   {
    "duration": 24,
    "start_time": "2022-05-12T19:28:16.230Z"
   },
   {
    "duration": 22,
    "start_time": "2022-05-12T19:28:17.014Z"
   },
   {
    "duration": 11,
    "start_time": "2022-05-12T19:30:21.826Z"
   },
   {
    "duration": 3,
    "start_time": "2022-05-12T19:36:37.314Z"
   },
   {
    "duration": 12,
    "start_time": "2022-05-12T19:36:39.971Z"
   },
   {
    "duration": 9,
    "start_time": "2022-05-12T19:36:53.946Z"
   },
   {
    "duration": 4,
    "start_time": "2022-05-12T19:40:53.336Z"
   },
   {
    "duration": 9,
    "start_time": "2022-05-12T19:42:06.445Z"
   },
   {
    "duration": 6,
    "start_time": "2022-05-12T19:42:07.414Z"
   },
   {
    "duration": 8,
    "start_time": "2022-05-12T19:42:09.131Z"
   },
   {
    "duration": 7,
    "start_time": "2022-05-12T19:42:10.318Z"
   },
   {
    "duration": 440,
    "start_time": "2022-05-12T22:14:04.792Z"
   },
   {
    "duration": 164,
    "start_time": "2022-05-12T22:14:05.234Z"
   },
   {
    "duration": 25,
    "start_time": "2022-05-12T22:14:05.400Z"
   },
   {
    "duration": 9,
    "start_time": "2022-05-12T22:14:05.427Z"
   },
   {
    "duration": 33,
    "start_time": "2022-05-12T22:14:05.438Z"
   },
   {
    "duration": 4,
    "start_time": "2022-05-12T22:14:05.473Z"
   },
   {
    "duration": 40,
    "start_time": "2022-05-12T22:14:05.479Z"
   },
   {
    "duration": 6,
    "start_time": "2022-05-12T22:14:05.521Z"
   },
   {
    "duration": 28,
    "start_time": "2022-05-12T22:14:05.528Z"
   },
   {
    "duration": 3,
    "start_time": "2022-05-12T22:14:05.559Z"
   },
   {
    "duration": 93,
    "start_time": "2022-05-12T22:14:05.563Z"
   },
   {
    "duration": 0,
    "start_time": "2022-05-12T22:14:05.658Z"
   },
   {
    "duration": 0,
    "start_time": "2022-05-12T22:14:05.660Z"
   },
   {
    "duration": 0,
    "start_time": "2022-05-12T22:14:05.661Z"
   },
   {
    "duration": 0,
    "start_time": "2022-05-12T22:14:05.662Z"
   },
   {
    "duration": 0,
    "start_time": "2022-05-12T22:14:05.662Z"
   },
   {
    "duration": 0,
    "start_time": "2022-05-12T22:14:05.663Z"
   },
   {
    "duration": 0,
    "start_time": "2022-05-12T22:14:05.664Z"
   },
   {
    "duration": 0,
    "start_time": "2022-05-12T22:14:05.666Z"
   },
   {
    "duration": 0,
    "start_time": "2022-05-12T22:14:05.667Z"
   },
   {
    "duration": 0,
    "start_time": "2022-05-12T22:14:05.668Z"
   },
   {
    "duration": 0,
    "start_time": "2022-05-12T22:14:05.669Z"
   },
   {
    "duration": 0,
    "start_time": "2022-05-12T22:14:05.671Z"
   },
   {
    "duration": 0,
    "start_time": "2022-05-12T22:14:05.672Z"
   },
   {
    "duration": 0,
    "start_time": "2022-05-12T22:14:05.673Z"
   },
   {
    "duration": 0,
    "start_time": "2022-05-12T22:14:05.674Z"
   },
   {
    "duration": 0,
    "start_time": "2022-05-12T22:14:05.711Z"
   },
   {
    "duration": 0,
    "start_time": "2022-05-12T22:14:05.712Z"
   },
   {
    "duration": 0,
    "start_time": "2022-05-12T22:14:05.715Z"
   },
   {
    "duration": 0,
    "start_time": "2022-05-12T22:14:05.717Z"
   },
   {
    "duration": 0,
    "start_time": "2022-05-12T22:14:05.720Z"
   },
   {
    "duration": 0,
    "start_time": "2022-05-12T22:14:05.722Z"
   },
   {
    "duration": 0,
    "start_time": "2022-05-12T22:14:05.723Z"
   },
   {
    "duration": 0,
    "start_time": "2022-05-12T22:14:05.724Z"
   },
   {
    "duration": 0,
    "start_time": "2022-05-12T22:14:05.725Z"
   },
   {
    "duration": 0,
    "start_time": "2022-05-12T22:14:05.726Z"
   },
   {
    "duration": 0,
    "start_time": "2022-05-12T22:14:05.727Z"
   },
   {
    "duration": 0,
    "start_time": "2022-05-12T22:14:05.728Z"
   },
   {
    "duration": 0,
    "start_time": "2022-05-12T22:14:05.729Z"
   },
   {
    "duration": 0,
    "start_time": "2022-05-12T22:14:05.730Z"
   },
   {
    "duration": 0,
    "start_time": "2022-05-12T22:14:05.731Z"
   },
   {
    "duration": 0,
    "start_time": "2022-05-12T22:14:05.732Z"
   },
   {
    "duration": 8,
    "start_time": "2022-05-13T13:47:02.795Z"
   },
   {
    "duration": 4,
    "start_time": "2022-05-13T13:47:06.321Z"
   },
   {
    "duration": 3,
    "start_time": "2022-05-13T13:47:23.123Z"
   },
   {
    "duration": 417,
    "start_time": "2022-05-13T13:47:46.230Z"
   },
   {
    "duration": 197,
    "start_time": "2022-05-13T13:47:46.649Z"
   },
   {
    "duration": 19,
    "start_time": "2022-05-13T13:47:46.848Z"
   },
   {
    "duration": 9,
    "start_time": "2022-05-13T13:47:46.869Z"
   },
   {
    "duration": 32,
    "start_time": "2022-05-13T13:47:46.880Z"
   },
   {
    "duration": 4,
    "start_time": "2022-05-13T13:47:46.913Z"
   },
   {
    "duration": 11,
    "start_time": "2022-05-13T13:47:46.944Z"
   },
   {
    "duration": 10,
    "start_time": "2022-05-13T13:47:46.958Z"
   },
   {
    "duration": 29,
    "start_time": "2022-05-13T13:47:46.970Z"
   },
   {
    "duration": 3,
    "start_time": "2022-05-13T13:47:47.003Z"
   },
   {
    "duration": 8,
    "start_time": "2022-05-13T13:47:47.008Z"
   },
   {
    "duration": 86,
    "start_time": "2022-05-13T13:47:47.018Z"
   },
   {
    "duration": 1,
    "start_time": "2022-05-13T13:47:47.108Z"
   },
   {
    "duration": 1,
    "start_time": "2022-05-13T13:47:47.110Z"
   },
   {
    "duration": 0,
    "start_time": "2022-05-13T13:47:47.112Z"
   },
   {
    "duration": 0,
    "start_time": "2022-05-13T13:47:47.114Z"
   },
   {
    "duration": 0,
    "start_time": "2022-05-13T13:47:47.115Z"
   },
   {
    "duration": 0,
    "start_time": "2022-05-13T13:47:47.116Z"
   },
   {
    "duration": 0,
    "start_time": "2022-05-13T13:47:47.117Z"
   },
   {
    "duration": 0,
    "start_time": "2022-05-13T13:47:47.118Z"
   },
   {
    "duration": 0,
    "start_time": "2022-05-13T13:47:47.119Z"
   },
   {
    "duration": 0,
    "start_time": "2022-05-13T13:47:47.120Z"
   },
   {
    "duration": 0,
    "start_time": "2022-05-13T13:47:47.121Z"
   },
   {
    "duration": 0,
    "start_time": "2022-05-13T13:47:47.144Z"
   },
   {
    "duration": 0,
    "start_time": "2022-05-13T13:47:47.145Z"
   },
   {
    "duration": 0,
    "start_time": "2022-05-13T13:47:47.147Z"
   },
   {
    "duration": 0,
    "start_time": "2022-05-13T13:47:47.148Z"
   },
   {
    "duration": 0,
    "start_time": "2022-05-13T13:47:47.150Z"
   },
   {
    "duration": 0,
    "start_time": "2022-05-13T13:47:47.151Z"
   },
   {
    "duration": 1,
    "start_time": "2022-05-13T13:47:47.152Z"
   },
   {
    "duration": 0,
    "start_time": "2022-05-13T13:47:47.154Z"
   },
   {
    "duration": 0,
    "start_time": "2022-05-13T13:47:47.156Z"
   },
   {
    "duration": 0,
    "start_time": "2022-05-13T13:47:47.157Z"
   },
   {
    "duration": 0,
    "start_time": "2022-05-13T13:47:47.158Z"
   },
   {
    "duration": 0,
    "start_time": "2022-05-13T13:47:47.160Z"
   },
   {
    "duration": 0,
    "start_time": "2022-05-13T13:47:47.161Z"
   },
   {
    "duration": 0,
    "start_time": "2022-05-13T13:47:47.162Z"
   },
   {
    "duration": 0,
    "start_time": "2022-05-13T13:47:47.164Z"
   },
   {
    "duration": 0,
    "start_time": "2022-05-13T13:47:47.165Z"
   },
   {
    "duration": 0,
    "start_time": "2022-05-13T13:47:47.166Z"
   },
   {
    "duration": 0,
    "start_time": "2022-05-13T13:47:47.167Z"
   },
   {
    "duration": 0,
    "start_time": "2022-05-13T13:47:47.168Z"
   },
   {
    "duration": 3,
    "start_time": "2022-05-13T13:47:52.267Z"
   },
   {
    "duration": 3,
    "start_time": "2022-05-13T13:52:07.049Z"
   },
   {
    "duration": 18,
    "start_time": "2022-05-13T13:52:52.845Z"
   },
   {
    "duration": 7,
    "start_time": "2022-05-13T13:53:00.050Z"
   },
   {
    "duration": 391,
    "start_time": "2022-05-13T13:53:10.365Z"
   },
   {
    "duration": 149,
    "start_time": "2022-05-13T13:53:10.758Z"
   },
   {
    "duration": 17,
    "start_time": "2022-05-13T13:53:10.911Z"
   },
   {
    "duration": 20,
    "start_time": "2022-05-13T13:53:10.929Z"
   },
   {
    "duration": 47,
    "start_time": "2022-05-13T13:53:10.950Z"
   },
   {
    "duration": 17,
    "start_time": "2022-05-13T13:53:11.000Z"
   },
   {
    "duration": 24,
    "start_time": "2022-05-13T13:53:11.019Z"
   },
   {
    "duration": 35,
    "start_time": "2022-05-13T13:53:11.044Z"
   },
   {
    "duration": 49,
    "start_time": "2022-05-13T13:53:11.081Z"
   },
   {
    "duration": 21,
    "start_time": "2022-05-13T13:53:11.131Z"
   },
   {
    "duration": 33,
    "start_time": "2022-05-13T13:53:11.154Z"
   },
   {
    "duration": 67,
    "start_time": "2022-05-13T13:53:11.189Z"
   },
   {
    "duration": 0,
    "start_time": "2022-05-13T13:53:11.258Z"
   },
   {
    "duration": 0,
    "start_time": "2022-05-13T13:53:11.259Z"
   },
   {
    "duration": 0,
    "start_time": "2022-05-13T13:53:11.261Z"
   },
   {
    "duration": 0,
    "start_time": "2022-05-13T13:53:11.262Z"
   },
   {
    "duration": 0,
    "start_time": "2022-05-13T13:53:11.263Z"
   },
   {
    "duration": 0,
    "start_time": "2022-05-13T13:53:11.264Z"
   },
   {
    "duration": 0,
    "start_time": "2022-05-13T13:53:11.265Z"
   },
   {
    "duration": 0,
    "start_time": "2022-05-13T13:53:11.266Z"
   },
   {
    "duration": 0,
    "start_time": "2022-05-13T13:53:11.267Z"
   },
   {
    "duration": 0,
    "start_time": "2022-05-13T13:53:11.268Z"
   },
   {
    "duration": 0,
    "start_time": "2022-05-13T13:53:11.269Z"
   },
   {
    "duration": 0,
    "start_time": "2022-05-13T13:53:11.271Z"
   },
   {
    "duration": 0,
    "start_time": "2022-05-13T13:53:11.272Z"
   },
   {
    "duration": 0,
    "start_time": "2022-05-13T13:53:11.273Z"
   },
   {
    "duration": 0,
    "start_time": "2022-05-13T13:53:11.274Z"
   },
   {
    "duration": 0,
    "start_time": "2022-05-13T13:53:11.275Z"
   },
   {
    "duration": 0,
    "start_time": "2022-05-13T13:53:11.276Z"
   },
   {
    "duration": 0,
    "start_time": "2022-05-13T13:53:11.277Z"
   },
   {
    "duration": 0,
    "start_time": "2022-05-13T13:53:11.279Z"
   },
   {
    "duration": 0,
    "start_time": "2022-05-13T13:53:11.280Z"
   },
   {
    "duration": 0,
    "start_time": "2022-05-13T13:53:11.281Z"
   },
   {
    "duration": 0,
    "start_time": "2022-05-13T13:53:11.283Z"
   },
   {
    "duration": 0,
    "start_time": "2022-05-13T13:53:11.284Z"
   },
   {
    "duration": 0,
    "start_time": "2022-05-13T13:53:11.285Z"
   },
   {
    "duration": 0,
    "start_time": "2022-05-13T13:53:11.287Z"
   },
   {
    "duration": 0,
    "start_time": "2022-05-13T13:53:11.288Z"
   },
   {
    "duration": 0,
    "start_time": "2022-05-13T13:53:11.289Z"
   },
   {
    "duration": 0,
    "start_time": "2022-05-13T13:53:11.290Z"
   },
   {
    "duration": 0,
    "start_time": "2022-05-13T13:53:11.292Z"
   },
   {
    "duration": 0,
    "start_time": "2022-05-13T13:53:11.292Z"
   },
   {
    "duration": 20,
    "start_time": "2022-05-13T13:53:56.436Z"
   },
   {
    "duration": 15,
    "start_time": "2022-05-13T13:54:33.326Z"
   },
   {
    "duration": 7,
    "start_time": "2022-05-13T13:54:36.740Z"
   },
   {
    "duration": 379,
    "start_time": "2022-05-13T13:54:44.272Z"
   },
   {
    "duration": 151,
    "start_time": "2022-05-13T13:54:44.653Z"
   },
   {
    "duration": 16,
    "start_time": "2022-05-13T13:54:44.809Z"
   },
   {
    "duration": 17,
    "start_time": "2022-05-13T13:54:44.827Z"
   },
   {
    "duration": 31,
    "start_time": "2022-05-13T13:54:44.846Z"
   },
   {
    "duration": 4,
    "start_time": "2022-05-13T13:54:44.880Z"
   },
   {
    "duration": 15,
    "start_time": "2022-05-13T13:54:44.885Z"
   },
   {
    "duration": 7,
    "start_time": "2022-05-13T13:54:44.901Z"
   },
   {
    "duration": 47,
    "start_time": "2022-05-13T13:54:44.911Z"
   },
   {
    "duration": 3,
    "start_time": "2022-05-13T13:54:44.959Z"
   },
   {
    "duration": 98,
    "start_time": "2022-05-13T13:54:44.963Z"
   },
   {
    "duration": 0,
    "start_time": "2022-05-13T13:54:45.063Z"
   },
   {
    "duration": 0,
    "start_time": "2022-05-13T13:54:45.064Z"
   },
   {
    "duration": 0,
    "start_time": "2022-05-13T13:54:45.065Z"
   },
   {
    "duration": 0,
    "start_time": "2022-05-13T13:54:45.066Z"
   },
   {
    "duration": 0,
    "start_time": "2022-05-13T13:54:45.067Z"
   },
   {
    "duration": 0,
    "start_time": "2022-05-13T13:54:45.068Z"
   },
   {
    "duration": 1,
    "start_time": "2022-05-13T13:54:45.069Z"
   },
   {
    "duration": 0,
    "start_time": "2022-05-13T13:54:45.070Z"
   },
   {
    "duration": 0,
    "start_time": "2022-05-13T13:54:45.072Z"
   },
   {
    "duration": 0,
    "start_time": "2022-05-13T13:54:45.073Z"
   },
   {
    "duration": 0,
    "start_time": "2022-05-13T13:54:45.074Z"
   },
   {
    "duration": 0,
    "start_time": "2022-05-13T13:54:45.075Z"
   },
   {
    "duration": 0,
    "start_time": "2022-05-13T13:54:45.076Z"
   },
   {
    "duration": 0,
    "start_time": "2022-05-13T13:54:45.077Z"
   },
   {
    "duration": 0,
    "start_time": "2022-05-13T13:54:45.078Z"
   },
   {
    "duration": 0,
    "start_time": "2022-05-13T13:54:45.079Z"
   },
   {
    "duration": 0,
    "start_time": "2022-05-13T13:54:45.080Z"
   },
   {
    "duration": 0,
    "start_time": "2022-05-13T13:54:45.081Z"
   },
   {
    "duration": 0,
    "start_time": "2022-05-13T13:54:45.082Z"
   },
   {
    "duration": 0,
    "start_time": "2022-05-13T13:54:45.083Z"
   },
   {
    "duration": 0,
    "start_time": "2022-05-13T13:54:45.084Z"
   },
   {
    "duration": 0,
    "start_time": "2022-05-13T13:54:45.085Z"
   },
   {
    "duration": 0,
    "start_time": "2022-05-13T13:54:45.086Z"
   },
   {
    "duration": 0,
    "start_time": "2022-05-13T13:54:45.087Z"
   },
   {
    "duration": 0,
    "start_time": "2022-05-13T13:54:45.088Z"
   },
   {
    "duration": 0,
    "start_time": "2022-05-13T13:54:45.088Z"
   },
   {
    "duration": 0,
    "start_time": "2022-05-13T13:54:45.089Z"
   },
   {
    "duration": 0,
    "start_time": "2022-05-13T13:54:45.143Z"
   },
   {
    "duration": 0,
    "start_time": "2022-05-13T13:54:45.144Z"
   },
   {
    "duration": 0,
    "start_time": "2022-05-13T13:54:45.145Z"
   },
   {
    "duration": 0,
    "start_time": "2022-05-13T13:54:45.145Z"
   },
   {
    "duration": 15,
    "start_time": "2022-05-13T13:55:13.921Z"
   },
   {
    "duration": 3,
    "start_time": "2022-05-13T13:55:24.341Z"
   },
   {
    "duration": 8,
    "start_time": "2022-05-13T13:55:27.006Z"
   },
   {
    "duration": 14,
    "start_time": "2022-05-13T13:56:04.454Z"
   },
   {
    "duration": 8,
    "start_time": "2022-05-13T13:56:07.041Z"
   },
   {
    "duration": 71,
    "start_time": "2022-05-13T13:56:15.388Z"
   },
   {
    "duration": 434,
    "start_time": "2022-05-13T13:56:24.710Z"
   },
   {
    "duration": 152,
    "start_time": "2022-05-13T13:56:25.146Z"
   },
   {
    "duration": 17,
    "start_time": "2022-05-13T13:56:25.299Z"
   },
   {
    "duration": 32,
    "start_time": "2022-05-13T13:56:25.318Z"
   },
   {
    "duration": 57,
    "start_time": "2022-05-13T13:56:25.352Z"
   },
   {
    "duration": 28,
    "start_time": "2022-05-13T13:56:25.411Z"
   },
   {
    "duration": 27,
    "start_time": "2022-05-13T13:56:25.441Z"
   },
   {
    "duration": 39,
    "start_time": "2022-05-13T13:56:25.469Z"
   },
   {
    "duration": 44,
    "start_time": "2022-05-13T13:56:25.509Z"
   },
   {
    "duration": 38,
    "start_time": "2022-05-13T13:56:25.555Z"
   },
   {
    "duration": 99,
    "start_time": "2022-05-13T13:56:25.595Z"
   },
   {
    "duration": 0,
    "start_time": "2022-05-13T13:56:25.695Z"
   },
   {
    "duration": 0,
    "start_time": "2022-05-13T13:56:25.697Z"
   },
   {
    "duration": 0,
    "start_time": "2022-05-13T13:56:25.698Z"
   },
   {
    "duration": 0,
    "start_time": "2022-05-13T13:56:25.699Z"
   },
   {
    "duration": 0,
    "start_time": "2022-05-13T13:56:25.700Z"
   },
   {
    "duration": 0,
    "start_time": "2022-05-13T13:56:25.701Z"
   },
   {
    "duration": 0,
    "start_time": "2022-05-13T13:56:25.702Z"
   },
   {
    "duration": 0,
    "start_time": "2022-05-13T13:56:25.703Z"
   },
   {
    "duration": 0,
    "start_time": "2022-05-13T13:56:25.704Z"
   },
   {
    "duration": 0,
    "start_time": "2022-05-13T13:56:25.705Z"
   },
   {
    "duration": 0,
    "start_time": "2022-05-13T13:56:25.706Z"
   },
   {
    "duration": 0,
    "start_time": "2022-05-13T13:56:25.707Z"
   },
   {
    "duration": 0,
    "start_time": "2022-05-13T13:56:25.708Z"
   },
   {
    "duration": 0,
    "start_time": "2022-05-13T13:56:25.709Z"
   },
   {
    "duration": 0,
    "start_time": "2022-05-13T13:56:25.710Z"
   },
   {
    "duration": 0,
    "start_time": "2022-05-13T13:56:25.711Z"
   },
   {
    "duration": 0,
    "start_time": "2022-05-13T13:56:25.712Z"
   },
   {
    "duration": 0,
    "start_time": "2022-05-13T13:56:25.713Z"
   },
   {
    "duration": 0,
    "start_time": "2022-05-13T13:56:25.714Z"
   },
   {
    "duration": 0,
    "start_time": "2022-05-13T13:56:25.743Z"
   },
   {
    "duration": 0,
    "start_time": "2022-05-13T13:56:25.744Z"
   },
   {
    "duration": 0,
    "start_time": "2022-05-13T13:56:25.746Z"
   },
   {
    "duration": 0,
    "start_time": "2022-05-13T13:56:25.747Z"
   },
   {
    "duration": 0,
    "start_time": "2022-05-13T13:56:25.748Z"
   },
   {
    "duration": 0,
    "start_time": "2022-05-13T13:56:25.749Z"
   },
   {
    "duration": 0,
    "start_time": "2022-05-13T13:56:25.750Z"
   },
   {
    "duration": 0,
    "start_time": "2022-05-13T13:56:25.751Z"
   },
   {
    "duration": 0,
    "start_time": "2022-05-13T13:56:25.751Z"
   },
   {
    "duration": 0,
    "start_time": "2022-05-13T13:56:25.752Z"
   },
   {
    "duration": 0,
    "start_time": "2022-05-13T13:56:25.753Z"
   },
   {
    "duration": 0,
    "start_time": "2022-05-13T13:56:25.755Z"
   },
   {
    "duration": 16,
    "start_time": "2022-05-13T13:56:34.147Z"
   },
   {
    "duration": 8,
    "start_time": "2022-05-13T13:56:36.995Z"
   },
   {
    "duration": 13,
    "start_time": "2022-05-13T13:57:34.470Z"
   },
   {
    "duration": 8,
    "start_time": "2022-05-13T13:57:37.453Z"
   },
   {
    "duration": 12,
    "start_time": "2022-05-13T13:59:16.089Z"
   },
   {
    "duration": 7,
    "start_time": "2022-05-13T13:59:18.297Z"
   },
   {
    "duration": 12,
    "start_time": "2022-05-13T14:00:21.706Z"
   },
   {
    "duration": 7,
    "start_time": "2022-05-13T14:00:24.090Z"
   },
   {
    "duration": 20,
    "start_time": "2022-05-13T14:13:16.391Z"
   },
   {
    "duration": 9,
    "start_time": "2022-05-13T14:13:22.248Z"
   },
   {
    "duration": 410,
    "start_time": "2022-05-13T14:13:32.556Z"
   },
   {
    "duration": 152,
    "start_time": "2022-05-13T14:13:32.968Z"
   },
   {
    "duration": 23,
    "start_time": "2022-05-13T14:13:33.122Z"
   },
   {
    "duration": 10,
    "start_time": "2022-05-13T14:13:33.146Z"
   },
   {
    "duration": 49,
    "start_time": "2022-05-13T14:13:33.159Z"
   },
   {
    "duration": 5,
    "start_time": "2022-05-13T14:13:33.210Z"
   },
   {
    "duration": 12,
    "start_time": "2022-05-13T14:13:33.217Z"
   },
   {
    "duration": 17,
    "start_time": "2022-05-13T14:13:33.231Z"
   },
   {
    "duration": 35,
    "start_time": "2022-05-13T14:13:33.249Z"
   },
   {
    "duration": 4,
    "start_time": "2022-05-13T14:13:33.285Z"
   },
   {
    "duration": 23,
    "start_time": "2022-05-13T14:13:33.290Z"
   },
   {
    "duration": 75,
    "start_time": "2022-05-13T14:13:33.315Z"
   },
   {
    "duration": 0,
    "start_time": "2022-05-13T14:13:33.393Z"
   },
   {
    "duration": 0,
    "start_time": "2022-05-13T14:13:33.395Z"
   },
   {
    "duration": 0,
    "start_time": "2022-05-13T14:13:33.395Z"
   },
   {
    "duration": 0,
    "start_time": "2022-05-13T14:13:33.396Z"
   },
   {
    "duration": 0,
    "start_time": "2022-05-13T14:13:33.398Z"
   },
   {
    "duration": 0,
    "start_time": "2022-05-13T14:13:33.399Z"
   },
   {
    "duration": 0,
    "start_time": "2022-05-13T14:13:33.400Z"
   },
   {
    "duration": 0,
    "start_time": "2022-05-13T14:13:33.401Z"
   },
   {
    "duration": 0,
    "start_time": "2022-05-13T14:13:33.402Z"
   },
   {
    "duration": 0,
    "start_time": "2022-05-13T14:13:33.402Z"
   },
   {
    "duration": 0,
    "start_time": "2022-05-13T14:13:33.403Z"
   },
   {
    "duration": 0,
    "start_time": "2022-05-13T14:13:33.404Z"
   },
   {
    "duration": 0,
    "start_time": "2022-05-13T14:13:33.405Z"
   },
   {
    "duration": 0,
    "start_time": "2022-05-13T14:13:33.407Z"
   },
   {
    "duration": 0,
    "start_time": "2022-05-13T14:13:33.407Z"
   },
   {
    "duration": 0,
    "start_time": "2022-05-13T14:13:33.409Z"
   },
   {
    "duration": 0,
    "start_time": "2022-05-13T14:13:33.409Z"
   },
   {
    "duration": 0,
    "start_time": "2022-05-13T14:13:33.410Z"
   },
   {
    "duration": 0,
    "start_time": "2022-05-13T14:13:33.412Z"
   },
   {
    "duration": 0,
    "start_time": "2022-05-13T14:13:33.413Z"
   },
   {
    "duration": 0,
    "start_time": "2022-05-13T14:13:33.443Z"
   },
   {
    "duration": 0,
    "start_time": "2022-05-13T14:13:33.445Z"
   },
   {
    "duration": 0,
    "start_time": "2022-05-13T14:13:33.447Z"
   },
   {
    "duration": 0,
    "start_time": "2022-05-13T14:13:33.448Z"
   },
   {
    "duration": 0,
    "start_time": "2022-05-13T14:13:33.449Z"
   },
   {
    "duration": 0,
    "start_time": "2022-05-13T14:13:33.450Z"
   },
   {
    "duration": 0,
    "start_time": "2022-05-13T14:13:33.451Z"
   },
   {
    "duration": 0,
    "start_time": "2022-05-13T14:13:33.451Z"
   },
   {
    "duration": 0,
    "start_time": "2022-05-13T14:13:33.452Z"
   },
   {
    "duration": 0,
    "start_time": "2022-05-13T14:13:33.453Z"
   },
   {
    "duration": 23,
    "start_time": "2022-05-13T14:14:11.254Z"
   },
   {
    "duration": 7,
    "start_time": "2022-05-13T14:14:14.034Z"
   },
   {
    "duration": 15,
    "start_time": "2022-05-13T14:16:17.173Z"
   },
   {
    "duration": 7,
    "start_time": "2022-05-13T14:16:20.174Z"
   },
   {
    "duration": 2,
    "start_time": "2022-05-13T14:19:58.755Z"
   },
   {
    "duration": 162,
    "start_time": "2022-05-13T14:20:01.423Z"
   },
   {
    "duration": 11,
    "start_time": "2022-05-13T14:20:04.142Z"
   },
   {
    "duration": 5,
    "start_time": "2022-05-13T14:20:22.203Z"
   },
   {
    "duration": 10,
    "start_time": "2022-05-13T14:20:30.772Z"
   },
   {
    "duration": 5,
    "start_time": "2022-05-13T14:20:33.472Z"
   },
   {
    "duration": 26,
    "start_time": "2022-05-13T14:20:43.069Z"
   },
   {
    "duration": 45,
    "start_time": "2022-05-13T14:32:02.443Z"
   },
   {
    "duration": 8,
    "start_time": "2022-05-13T14:32:04.856Z"
   },
   {
    "duration": 41,
    "start_time": "2022-05-13T14:33:08.130Z"
   },
   {
    "duration": 7,
    "start_time": "2022-05-13T14:33:10.205Z"
   },
   {
    "duration": 65,
    "start_time": "2022-05-13T14:33:12.276Z"
   },
   {
    "duration": 44,
    "start_time": "2022-05-13T14:35:06.132Z"
   },
   {
    "duration": 28,
    "start_time": "2022-05-13T14:35:56.679Z"
   },
   {
    "duration": 31,
    "start_time": "2022-05-13T14:36:03.675Z"
   },
   {
    "duration": 27,
    "start_time": "2022-05-13T14:36:15.755Z"
   },
   {
    "duration": 61,
    "start_time": "2022-05-13T14:36:44.344Z"
   },
   {
    "duration": 73,
    "start_time": "2022-05-13T14:36:48.112Z"
   },
   {
    "duration": 55,
    "start_time": "2022-05-13T14:36:49.673Z"
   },
   {
    "duration": 39,
    "start_time": "2022-05-13T14:37:11.700Z"
   },
   {
    "duration": 3,
    "start_time": "2022-05-13T14:37:15.263Z"
   },
   {
    "duration": 4,
    "start_time": "2022-05-13T14:37:16.153Z"
   },
   {
    "duration": 11,
    "start_time": "2022-05-13T14:37:19.713Z"
   },
   {
    "duration": 42,
    "start_time": "2022-05-13T14:37:23.182Z"
   },
   {
    "duration": 10,
    "start_time": "2022-05-13T14:37:47.928Z"
   },
   {
    "duration": 10,
    "start_time": "2022-05-13T14:37:50.501Z"
   },
   {
    "duration": 4,
    "start_time": "2022-05-13T14:37:56.899Z"
   },
   {
    "duration": 20,
    "start_time": "2022-05-13T14:37:58.275Z"
   },
   {
    "duration": 18,
    "start_time": "2022-05-13T14:37:58.655Z"
   },
   {
    "duration": 33,
    "start_time": "2022-05-13T14:38:43.246Z"
   },
   {
    "duration": 161,
    "start_time": "2022-05-13T14:44:40.411Z"
   },
   {
    "duration": 166,
    "start_time": "2022-05-13T14:45:07.940Z"
   },
   {
    "duration": 435,
    "start_time": "2022-05-13T14:46:12.842Z"
   },
   {
    "duration": 185,
    "start_time": "2022-05-13T14:46:13.279Z"
   },
   {
    "duration": 19,
    "start_time": "2022-05-13T14:46:13.467Z"
   },
   {
    "duration": 41,
    "start_time": "2022-05-13T14:46:13.488Z"
   },
   {
    "duration": 68,
    "start_time": "2022-05-13T14:46:13.531Z"
   },
   {
    "duration": 4,
    "start_time": "2022-05-13T14:46:13.601Z"
   },
   {
    "duration": 15,
    "start_time": "2022-05-13T14:46:13.607Z"
   },
   {
    "duration": 10,
    "start_time": "2022-05-13T14:46:13.624Z"
   },
   {
    "duration": 41,
    "start_time": "2022-05-13T14:46:13.636Z"
   },
   {
    "duration": 5,
    "start_time": "2022-05-13T14:46:13.680Z"
   },
   {
    "duration": 91,
    "start_time": "2022-05-13T14:46:13.687Z"
   },
   {
    "duration": 0,
    "start_time": "2022-05-13T14:46:13.783Z"
   },
   {
    "duration": 0,
    "start_time": "2022-05-13T14:46:13.785Z"
   },
   {
    "duration": 0,
    "start_time": "2022-05-13T14:46:13.786Z"
   },
   {
    "duration": 0,
    "start_time": "2022-05-13T14:46:13.787Z"
   },
   {
    "duration": 0,
    "start_time": "2022-05-13T14:46:13.789Z"
   },
   {
    "duration": 0,
    "start_time": "2022-05-13T14:46:13.790Z"
   },
   {
    "duration": 0,
    "start_time": "2022-05-13T14:46:13.791Z"
   },
   {
    "duration": 0,
    "start_time": "2022-05-13T14:46:13.793Z"
   },
   {
    "duration": 0,
    "start_time": "2022-05-13T14:46:13.794Z"
   },
   {
    "duration": 0,
    "start_time": "2022-05-13T14:46:13.795Z"
   },
   {
    "duration": 0,
    "start_time": "2022-05-13T14:46:13.797Z"
   },
   {
    "duration": 0,
    "start_time": "2022-05-13T14:46:13.797Z"
   },
   {
    "duration": 0,
    "start_time": "2022-05-13T14:46:13.798Z"
   },
   {
    "duration": 0,
    "start_time": "2022-05-13T14:46:13.799Z"
   },
   {
    "duration": 0,
    "start_time": "2022-05-13T14:46:13.801Z"
   },
   {
    "duration": 0,
    "start_time": "2022-05-13T14:46:13.802Z"
   },
   {
    "duration": 0,
    "start_time": "2022-05-13T14:46:13.803Z"
   },
   {
    "duration": 0,
    "start_time": "2022-05-13T14:46:13.804Z"
   },
   {
    "duration": 0,
    "start_time": "2022-05-13T14:46:13.806Z"
   },
   {
    "duration": 0,
    "start_time": "2022-05-13T14:46:13.807Z"
   },
   {
    "duration": 0,
    "start_time": "2022-05-13T14:46:13.808Z"
   },
   {
    "duration": 0,
    "start_time": "2022-05-13T14:46:13.808Z"
   },
   {
    "duration": 0,
    "start_time": "2022-05-13T14:46:13.809Z"
   },
   {
    "duration": 0,
    "start_time": "2022-05-13T14:46:13.809Z"
   },
   {
    "duration": 0,
    "start_time": "2022-05-13T14:46:13.844Z"
   },
   {
    "duration": 0,
    "start_time": "2022-05-13T14:46:13.845Z"
   },
   {
    "duration": 0,
    "start_time": "2022-05-13T14:46:13.846Z"
   },
   {
    "duration": 0,
    "start_time": "2022-05-13T14:46:13.847Z"
   },
   {
    "duration": 0,
    "start_time": "2022-05-13T14:46:13.848Z"
   },
   {
    "duration": 0,
    "start_time": "2022-05-13T14:46:13.849Z"
   },
   {
    "duration": 0,
    "start_time": "2022-05-13T14:46:13.851Z"
   },
   {
    "duration": 3,
    "start_time": "2022-05-13T14:46:53.456Z"
   },
   {
    "duration": 4,
    "start_time": "2022-05-13T14:47:37.075Z"
   },
   {
    "duration": 4,
    "start_time": "2022-05-13T14:49:22.172Z"
   },
   {
    "duration": 467,
    "start_time": "2022-05-13T14:49:32.119Z"
   },
   {
    "duration": 171,
    "start_time": "2022-05-13T14:49:32.588Z"
   },
   {
    "duration": 18,
    "start_time": "2022-05-13T14:49:32.761Z"
   },
   {
    "duration": 21,
    "start_time": "2022-05-13T14:49:32.781Z"
   },
   {
    "duration": 73,
    "start_time": "2022-05-13T14:49:32.804Z"
   },
   {
    "duration": 18,
    "start_time": "2022-05-13T14:49:32.879Z"
   },
   {
    "duration": 42,
    "start_time": "2022-05-13T14:49:32.899Z"
   },
   {
    "duration": 36,
    "start_time": "2022-05-13T14:49:32.943Z"
   },
   {
    "duration": 59,
    "start_time": "2022-05-13T14:49:32.981Z"
   },
   {
    "duration": 55,
    "start_time": "2022-05-13T14:49:33.043Z"
   },
   {
    "duration": 31,
    "start_time": "2022-05-13T14:49:33.100Z"
   },
   {
    "duration": 102,
    "start_time": "2022-05-13T14:49:33.133Z"
   },
   {
    "duration": 0,
    "start_time": "2022-05-13T14:49:33.239Z"
   },
   {
    "duration": 0,
    "start_time": "2022-05-13T14:49:33.240Z"
   },
   {
    "duration": 0,
    "start_time": "2022-05-13T14:49:33.241Z"
   },
   {
    "duration": 0,
    "start_time": "2022-05-13T14:49:33.242Z"
   },
   {
    "duration": 0,
    "start_time": "2022-05-13T14:49:33.243Z"
   },
   {
    "duration": 0,
    "start_time": "2022-05-13T14:49:33.244Z"
   },
   {
    "duration": 0,
    "start_time": "2022-05-13T14:49:33.245Z"
   },
   {
    "duration": 0,
    "start_time": "2022-05-13T14:49:33.246Z"
   },
   {
    "duration": 0,
    "start_time": "2022-05-13T14:49:33.247Z"
   },
   {
    "duration": 0,
    "start_time": "2022-05-13T14:49:33.248Z"
   },
   {
    "duration": 0,
    "start_time": "2022-05-13T14:49:33.249Z"
   },
   {
    "duration": 0,
    "start_time": "2022-05-13T14:49:33.250Z"
   },
   {
    "duration": 0,
    "start_time": "2022-05-13T14:49:33.251Z"
   },
   {
    "duration": 0,
    "start_time": "2022-05-13T14:49:33.252Z"
   },
   {
    "duration": 0,
    "start_time": "2022-05-13T14:49:33.253Z"
   },
   {
    "duration": 0,
    "start_time": "2022-05-13T14:49:33.254Z"
   },
   {
    "duration": 0,
    "start_time": "2022-05-13T14:49:33.256Z"
   },
   {
    "duration": 0,
    "start_time": "2022-05-13T14:49:33.257Z"
   },
   {
    "duration": 0,
    "start_time": "2022-05-13T14:49:33.258Z"
   },
   {
    "duration": 0,
    "start_time": "2022-05-13T14:49:33.259Z"
   },
   {
    "duration": 0,
    "start_time": "2022-05-13T14:49:33.260Z"
   },
   {
    "duration": 0,
    "start_time": "2022-05-13T14:49:33.261Z"
   },
   {
    "duration": 0,
    "start_time": "2022-05-13T14:49:33.262Z"
   },
   {
    "duration": 0,
    "start_time": "2022-05-13T14:49:33.263Z"
   },
   {
    "duration": 0,
    "start_time": "2022-05-13T14:49:33.264Z"
   },
   {
    "duration": 0,
    "start_time": "2022-05-13T14:49:33.265Z"
   },
   {
    "duration": 0,
    "start_time": "2022-05-13T14:49:33.266Z"
   },
   {
    "duration": 0,
    "start_time": "2022-05-13T14:49:33.267Z"
   },
   {
    "duration": 0,
    "start_time": "2022-05-13T14:49:33.268Z"
   },
   {
    "duration": 0,
    "start_time": "2022-05-13T14:49:33.269Z"
   },
   {
    "duration": 3,
    "start_time": "2022-05-13T14:49:54.265Z"
   },
   {
    "duration": 160,
    "start_time": "2022-05-13T14:51:30.652Z"
   },
   {
    "duration": 400,
    "start_time": "2022-05-13T14:51:38.981Z"
   },
   {
    "duration": 164,
    "start_time": "2022-05-13T14:51:39.383Z"
   },
   {
    "duration": 17,
    "start_time": "2022-05-13T14:51:39.550Z"
   },
   {
    "duration": 34,
    "start_time": "2022-05-13T14:51:39.569Z"
   },
   {
    "duration": 51,
    "start_time": "2022-05-13T14:51:39.605Z"
   },
   {
    "duration": 25,
    "start_time": "2022-05-13T14:51:39.658Z"
   },
   {
    "duration": 33,
    "start_time": "2022-05-13T14:51:39.685Z"
   },
   {
    "duration": 28,
    "start_time": "2022-05-13T14:51:39.720Z"
   },
   {
    "duration": 36,
    "start_time": "2022-05-13T14:51:39.750Z"
   },
   {
    "duration": 13,
    "start_time": "2022-05-13T14:51:39.790Z"
   },
   {
    "duration": 131,
    "start_time": "2022-05-13T14:51:39.805Z"
   },
   {
    "duration": 105,
    "start_time": "2022-05-13T14:51:39.939Z"
   },
   {
    "duration": 0,
    "start_time": "2022-05-13T14:51:40.050Z"
   },
   {
    "duration": 0,
    "start_time": "2022-05-13T14:51:40.051Z"
   },
   {
    "duration": 0,
    "start_time": "2022-05-13T14:51:40.053Z"
   },
   {
    "duration": 0,
    "start_time": "2022-05-13T14:51:40.054Z"
   },
   {
    "duration": 0,
    "start_time": "2022-05-13T14:51:40.055Z"
   },
   {
    "duration": 0,
    "start_time": "2022-05-13T14:51:40.057Z"
   },
   {
    "duration": 0,
    "start_time": "2022-05-13T14:51:40.058Z"
   },
   {
    "duration": 0,
    "start_time": "2022-05-13T14:51:40.059Z"
   },
   {
    "duration": 0,
    "start_time": "2022-05-13T14:51:40.060Z"
   },
   {
    "duration": 0,
    "start_time": "2022-05-13T14:51:40.062Z"
   },
   {
    "duration": 0,
    "start_time": "2022-05-13T14:51:40.063Z"
   },
   {
    "duration": 0,
    "start_time": "2022-05-13T14:51:40.064Z"
   },
   {
    "duration": 0,
    "start_time": "2022-05-13T14:51:40.065Z"
   },
   {
    "duration": 0,
    "start_time": "2022-05-13T14:51:40.067Z"
   },
   {
    "duration": 0,
    "start_time": "2022-05-13T14:51:40.068Z"
   },
   {
    "duration": 0,
    "start_time": "2022-05-13T14:51:40.069Z"
   },
   {
    "duration": 0,
    "start_time": "2022-05-13T14:51:40.070Z"
   },
   {
    "duration": 0,
    "start_time": "2022-05-13T14:51:40.072Z"
   },
   {
    "duration": 0,
    "start_time": "2022-05-13T14:51:40.073Z"
   },
   {
    "duration": 0,
    "start_time": "2022-05-13T14:51:40.074Z"
   },
   {
    "duration": 0,
    "start_time": "2022-05-13T14:51:40.076Z"
   },
   {
    "duration": 0,
    "start_time": "2022-05-13T14:51:40.076Z"
   },
   {
    "duration": 0,
    "start_time": "2022-05-13T14:51:40.078Z"
   },
   {
    "duration": 0,
    "start_time": "2022-05-13T14:51:40.079Z"
   },
   {
    "duration": 0,
    "start_time": "2022-05-13T14:51:40.080Z"
   },
   {
    "duration": 0,
    "start_time": "2022-05-13T14:51:40.081Z"
   },
   {
    "duration": 0,
    "start_time": "2022-05-13T14:51:40.083Z"
   },
   {
    "duration": 0,
    "start_time": "2022-05-13T14:51:40.084Z"
   },
   {
    "duration": 0,
    "start_time": "2022-05-13T14:51:40.085Z"
   },
   {
    "duration": 0,
    "start_time": "2022-05-13T14:51:40.086Z"
   },
   {
    "duration": 79,
    "start_time": "2022-05-13T14:52:03.300Z"
   },
   {
    "duration": 82,
    "start_time": "2022-05-13T14:58:02.738Z"
   },
   {
    "duration": 77,
    "start_time": "2022-05-13T15:03:43.424Z"
   },
   {
    "duration": 8,
    "start_time": "2022-05-13T15:03:52.015Z"
   },
   {
    "duration": 84,
    "start_time": "2022-05-13T15:04:18.819Z"
   },
   {
    "duration": 9,
    "start_time": "2022-05-13T15:04:21.066Z"
   },
   {
    "duration": 125,
    "start_time": "2022-05-13T15:07:14.289Z"
   },
   {
    "duration": 8,
    "start_time": "2022-05-13T15:07:17.075Z"
   },
   {
    "duration": 200,
    "start_time": "2022-05-13T15:07:44.846Z"
   },
   {
    "duration": 442,
    "start_time": "2022-05-13T15:07:55.125Z"
   },
   {
    "duration": 165,
    "start_time": "2022-05-13T15:07:55.569Z"
   },
   {
    "duration": 36,
    "start_time": "2022-05-13T15:07:55.736Z"
   },
   {
    "duration": 27,
    "start_time": "2022-05-13T15:07:55.774Z"
   },
   {
    "duration": 36,
    "start_time": "2022-05-13T15:07:55.803Z"
   },
   {
    "duration": 7,
    "start_time": "2022-05-13T15:07:55.841Z"
   },
   {
    "duration": 33,
    "start_time": "2022-05-13T15:07:55.850Z"
   },
   {
    "duration": 11,
    "start_time": "2022-05-13T15:07:55.884Z"
   },
   {
    "duration": 30,
    "start_time": "2022-05-13T15:07:55.896Z"
   },
   {
    "duration": 110,
    "start_time": "2022-05-13T15:07:55.929Z"
   },
   {
    "duration": 76,
    "start_time": "2022-05-13T15:07:56.041Z"
   },
   {
    "duration": 0,
    "start_time": "2022-05-13T15:07:56.121Z"
   },
   {
    "duration": 0,
    "start_time": "2022-05-13T15:07:56.122Z"
   },
   {
    "duration": 0,
    "start_time": "2022-05-13T15:07:56.123Z"
   },
   {
    "duration": 0,
    "start_time": "2022-05-13T15:07:56.124Z"
   },
   {
    "duration": 0,
    "start_time": "2022-05-13T15:07:56.125Z"
   },
   {
    "duration": 0,
    "start_time": "2022-05-13T15:07:56.126Z"
   },
   {
    "duration": 0,
    "start_time": "2022-05-13T15:07:56.127Z"
   },
   {
    "duration": 0,
    "start_time": "2022-05-13T15:07:56.128Z"
   },
   {
    "duration": 0,
    "start_time": "2022-05-13T15:07:56.129Z"
   },
   {
    "duration": 0,
    "start_time": "2022-05-13T15:07:56.130Z"
   },
   {
    "duration": 0,
    "start_time": "2022-05-13T15:07:56.145Z"
   },
   {
    "duration": 0,
    "start_time": "2022-05-13T15:07:56.146Z"
   },
   {
    "duration": 0,
    "start_time": "2022-05-13T15:07:56.147Z"
   },
   {
    "duration": 0,
    "start_time": "2022-05-13T15:07:56.147Z"
   },
   {
    "duration": 0,
    "start_time": "2022-05-13T15:07:56.148Z"
   },
   {
    "duration": 0,
    "start_time": "2022-05-13T15:07:56.149Z"
   },
   {
    "duration": 0,
    "start_time": "2022-05-13T15:07:56.149Z"
   },
   {
    "duration": 0,
    "start_time": "2022-05-13T15:07:56.150Z"
   },
   {
    "duration": 0,
    "start_time": "2022-05-13T15:07:56.151Z"
   },
   {
    "duration": 0,
    "start_time": "2022-05-13T15:07:56.151Z"
   },
   {
    "duration": 0,
    "start_time": "2022-05-13T15:07:56.152Z"
   },
   {
    "duration": 0,
    "start_time": "2022-05-13T15:07:56.154Z"
   },
   {
    "duration": 0,
    "start_time": "2022-05-13T15:07:56.155Z"
   },
   {
    "duration": 0,
    "start_time": "2022-05-13T15:07:56.155Z"
   },
   {
    "duration": 0,
    "start_time": "2022-05-13T15:07:56.156Z"
   },
   {
    "duration": 0,
    "start_time": "2022-05-13T15:07:56.158Z"
   },
   {
    "duration": 0,
    "start_time": "2022-05-13T15:07:56.160Z"
   },
   {
    "duration": 0,
    "start_time": "2022-05-13T15:07:56.161Z"
   },
   {
    "duration": 1,
    "start_time": "2022-05-13T15:07:56.162Z"
   },
   {
    "duration": 0,
    "start_time": "2022-05-13T15:07:56.164Z"
   },
   {
    "duration": 181,
    "start_time": "2022-05-13T15:13:16.342Z"
   },
   {
    "duration": 9,
    "start_time": "2022-05-13T15:13:19.267Z"
   },
   {
    "duration": 165,
    "start_time": "2022-05-13T15:14:00.160Z"
   },
   {
    "duration": 113,
    "start_time": "2022-05-13T15:14:10.680Z"
   },
   {
    "duration": 430,
    "start_time": "2022-05-13T15:14:25.303Z"
   },
   {
    "duration": 220,
    "start_time": "2022-05-13T15:14:25.735Z"
   },
   {
    "duration": 21,
    "start_time": "2022-05-13T15:14:25.957Z"
   },
   {
    "duration": 17,
    "start_time": "2022-05-13T15:14:25.981Z"
   },
   {
    "duration": 43,
    "start_time": "2022-05-13T15:14:26.000Z"
   },
   {
    "duration": 5,
    "start_time": "2022-05-13T15:14:26.045Z"
   },
   {
    "duration": 39,
    "start_time": "2022-05-13T15:14:26.053Z"
   },
   {
    "duration": 8,
    "start_time": "2022-05-13T15:14:26.094Z"
   },
   {
    "duration": 43,
    "start_time": "2022-05-13T15:14:26.104Z"
   },
   {
    "duration": 162,
    "start_time": "2022-05-13T15:14:26.151Z"
   },
   {
    "duration": 85,
    "start_time": "2022-05-13T15:14:26.316Z"
   },
   {
    "duration": 0,
    "start_time": "2022-05-13T15:14:26.406Z"
   },
   {
    "duration": 0,
    "start_time": "2022-05-13T15:14:26.407Z"
   },
   {
    "duration": 0,
    "start_time": "2022-05-13T15:14:26.409Z"
   },
   {
    "duration": 0,
    "start_time": "2022-05-13T15:14:26.411Z"
   },
   {
    "duration": 0,
    "start_time": "2022-05-13T15:14:26.412Z"
   },
   {
    "duration": 0,
    "start_time": "2022-05-13T15:14:26.413Z"
   },
   {
    "duration": 0,
    "start_time": "2022-05-13T15:14:26.415Z"
   },
   {
    "duration": 0,
    "start_time": "2022-05-13T15:14:26.416Z"
   },
   {
    "duration": 0,
    "start_time": "2022-05-13T15:14:26.418Z"
   },
   {
    "duration": 0,
    "start_time": "2022-05-13T15:14:26.419Z"
   },
   {
    "duration": 0,
    "start_time": "2022-05-13T15:14:26.420Z"
   },
   {
    "duration": 0,
    "start_time": "2022-05-13T15:14:26.421Z"
   },
   {
    "duration": 0,
    "start_time": "2022-05-13T15:14:26.444Z"
   },
   {
    "duration": 0,
    "start_time": "2022-05-13T15:14:26.445Z"
   },
   {
    "duration": 0,
    "start_time": "2022-05-13T15:14:26.446Z"
   },
   {
    "duration": 0,
    "start_time": "2022-05-13T15:14:26.451Z"
   },
   {
    "duration": 0,
    "start_time": "2022-05-13T15:14:26.453Z"
   },
   {
    "duration": 0,
    "start_time": "2022-05-13T15:14:26.454Z"
   },
   {
    "duration": 0,
    "start_time": "2022-05-13T15:14:26.456Z"
   },
   {
    "duration": 0,
    "start_time": "2022-05-13T15:14:26.457Z"
   },
   {
    "duration": 0,
    "start_time": "2022-05-13T15:14:26.459Z"
   },
   {
    "duration": 0,
    "start_time": "2022-05-13T15:14:26.460Z"
   },
   {
    "duration": 0,
    "start_time": "2022-05-13T15:14:26.462Z"
   },
   {
    "duration": 0,
    "start_time": "2022-05-13T15:14:26.463Z"
   },
   {
    "duration": 0,
    "start_time": "2022-05-13T15:14:26.465Z"
   },
   {
    "duration": 0,
    "start_time": "2022-05-13T15:14:26.466Z"
   },
   {
    "duration": 0,
    "start_time": "2022-05-13T15:14:26.468Z"
   },
   {
    "duration": 0,
    "start_time": "2022-05-13T15:14:26.469Z"
   },
   {
    "duration": 0,
    "start_time": "2022-05-13T15:14:26.471Z"
   },
   {
    "duration": 0,
    "start_time": "2022-05-13T15:14:26.472Z"
   },
   {
    "duration": 126,
    "start_time": "2022-05-13T15:14:40.428Z"
   },
   {
    "duration": 9,
    "start_time": "2022-05-13T15:14:43.711Z"
   },
   {
    "duration": 87,
    "start_time": "2022-05-13T15:14:45.099Z"
   },
   {
    "duration": 3,
    "start_time": "2022-05-13T15:15:06.661Z"
   },
   {
    "duration": 172,
    "start_time": "2022-05-13T15:15:08.440Z"
   },
   {
    "duration": 12,
    "start_time": "2022-05-13T15:15:10.106Z"
   },
   {
    "duration": 11,
    "start_time": "2022-05-13T15:15:12.195Z"
   },
   {
    "duration": 34,
    "start_time": "2022-05-13T15:15:13.635Z"
   },
   {
    "duration": 5,
    "start_time": "2022-05-13T15:15:18.667Z"
   },
   {
    "duration": 11,
    "start_time": "2022-05-13T15:15:21.325Z"
   },
   {
    "duration": 5,
    "start_time": "2022-05-13T15:15:22.797Z"
   },
   {
    "duration": 29,
    "start_time": "2022-05-13T15:15:24.975Z"
   },
   {
    "duration": 102,
    "start_time": "2022-05-13T15:15:30.394Z"
   },
   {
    "duration": 8,
    "start_time": "2022-05-13T15:15:38.818Z"
   },
   {
    "duration": 32,
    "start_time": "2022-05-13T15:16:23.915Z"
   },
   {
    "duration": 44,
    "start_time": "2022-05-13T15:16:47.920Z"
   },
   {
    "duration": 30,
    "start_time": "2022-05-13T15:17:15.781Z"
   },
   {
    "duration": 26,
    "start_time": "2022-05-13T15:17:45.750Z"
   },
   {
    "duration": 430,
    "start_time": "2022-05-13T15:17:54.558Z"
   },
   {
    "duration": 189,
    "start_time": "2022-05-13T15:17:54.990Z"
   },
   {
    "duration": 18,
    "start_time": "2022-05-13T15:17:55.181Z"
   },
   {
    "duration": 30,
    "start_time": "2022-05-13T15:17:55.202Z"
   },
   {
    "duration": 50,
    "start_time": "2022-05-13T15:17:55.243Z"
   },
   {
    "duration": 32,
    "start_time": "2022-05-13T15:17:55.294Z"
   },
   {
    "duration": 17,
    "start_time": "2022-05-13T15:17:55.328Z"
   },
   {
    "duration": 30,
    "start_time": "2022-05-13T15:17:55.347Z"
   },
   {
    "duration": 52,
    "start_time": "2022-05-13T15:17:55.379Z"
   },
   {
    "duration": 47,
    "start_time": "2022-05-13T15:17:55.434Z"
   },
   {
    "duration": 119,
    "start_time": "2022-05-13T15:17:55.483Z"
   },
   {
    "duration": 0,
    "start_time": "2022-05-13T15:17:55.607Z"
   },
   {
    "duration": 0,
    "start_time": "2022-05-13T15:17:55.609Z"
   },
   {
    "duration": 0,
    "start_time": "2022-05-13T15:17:55.611Z"
   },
   {
    "duration": 0,
    "start_time": "2022-05-13T15:17:55.612Z"
   },
   {
    "duration": 0,
    "start_time": "2022-05-13T15:17:55.613Z"
   },
   {
    "duration": 0,
    "start_time": "2022-05-13T15:17:55.614Z"
   },
   {
    "duration": 0,
    "start_time": "2022-05-13T15:17:55.616Z"
   },
   {
    "duration": 0,
    "start_time": "2022-05-13T15:17:55.617Z"
   },
   {
    "duration": 0,
    "start_time": "2022-05-13T15:17:55.619Z"
   },
   {
    "duration": 0,
    "start_time": "2022-05-13T15:17:55.620Z"
   },
   {
    "duration": 0,
    "start_time": "2022-05-13T15:17:55.622Z"
   },
   {
    "duration": 0,
    "start_time": "2022-05-13T15:17:55.623Z"
   },
   {
    "duration": 0,
    "start_time": "2022-05-13T15:17:55.625Z"
   },
   {
    "duration": 0,
    "start_time": "2022-05-13T15:17:55.626Z"
   },
   {
    "duration": 0,
    "start_time": "2022-05-13T15:17:55.627Z"
   },
   {
    "duration": 0,
    "start_time": "2022-05-13T15:17:55.628Z"
   },
   {
    "duration": 0,
    "start_time": "2022-05-13T15:17:55.629Z"
   },
   {
    "duration": 0,
    "start_time": "2022-05-13T15:17:55.630Z"
   },
   {
    "duration": 0,
    "start_time": "2022-05-13T15:17:55.632Z"
   },
   {
    "duration": 0,
    "start_time": "2022-05-13T15:17:55.633Z"
   },
   {
    "duration": 0,
    "start_time": "2022-05-13T15:17:55.634Z"
   },
   {
    "duration": 0,
    "start_time": "2022-05-13T15:17:55.642Z"
   },
   {
    "duration": 0,
    "start_time": "2022-05-13T15:17:55.643Z"
   },
   {
    "duration": 0,
    "start_time": "2022-05-13T15:17:55.644Z"
   },
   {
    "duration": 0,
    "start_time": "2022-05-13T15:17:55.645Z"
   },
   {
    "duration": 0,
    "start_time": "2022-05-13T15:17:55.645Z"
   },
   {
    "duration": 0,
    "start_time": "2022-05-13T15:17:55.646Z"
   },
   {
    "duration": 0,
    "start_time": "2022-05-13T15:17:55.646Z"
   },
   {
    "duration": 0,
    "start_time": "2022-05-13T15:17:55.651Z"
   },
   {
    "duration": 0,
    "start_time": "2022-05-13T15:17:55.651Z"
   },
   {
    "duration": 27,
    "start_time": "2022-05-13T15:18:15.546Z"
   },
   {
    "duration": 7,
    "start_time": "2022-05-13T15:18:34.551Z"
   },
   {
    "duration": 14,
    "start_time": "2022-05-13T15:18:51.198Z"
   },
   {
    "duration": 4,
    "start_time": "2022-05-13T15:18:58.747Z"
   },
   {
    "duration": 34,
    "start_time": "2022-05-13T15:19:01.751Z"
   },
   {
    "duration": 21,
    "start_time": "2022-05-13T15:19:16.214Z"
   },
   {
    "duration": 12,
    "start_time": "2022-05-13T15:19:19.544Z"
   },
   {
    "duration": 22,
    "start_time": "2022-05-13T15:33:16.726Z"
   },
   {
    "duration": 418,
    "start_time": "2022-05-13T15:33:28.775Z"
   },
   {
    "duration": 190,
    "start_time": "2022-05-13T15:33:29.195Z"
   },
   {
    "duration": 23,
    "start_time": "2022-05-13T15:33:29.387Z"
   },
   {
    "duration": 12,
    "start_time": "2022-05-13T15:33:29.412Z"
   },
   {
    "duration": 39,
    "start_time": "2022-05-13T15:33:29.446Z"
   },
   {
    "duration": 8,
    "start_time": "2022-05-13T15:33:29.487Z"
   },
   {
    "duration": 16,
    "start_time": "2022-05-13T15:33:29.496Z"
   },
   {
    "duration": 9,
    "start_time": "2022-05-13T15:33:29.514Z"
   },
   {
    "duration": 35,
    "start_time": "2022-05-13T15:33:29.543Z"
   },
   {
    "duration": 27,
    "start_time": "2022-05-13T15:33:29.580Z"
   },
   {
    "duration": 85,
    "start_time": "2022-05-13T15:33:29.609Z"
   },
   {
    "duration": 0,
    "start_time": "2022-05-13T15:33:29.698Z"
   },
   {
    "duration": 0,
    "start_time": "2022-05-13T15:33:29.699Z"
   },
   {
    "duration": 0,
    "start_time": "2022-05-13T15:33:29.701Z"
   },
   {
    "duration": 0,
    "start_time": "2022-05-13T15:33:29.702Z"
   },
   {
    "duration": 0,
    "start_time": "2022-05-13T15:33:29.703Z"
   },
   {
    "duration": 0,
    "start_time": "2022-05-13T15:33:29.704Z"
   },
   {
    "duration": 0,
    "start_time": "2022-05-13T15:33:29.705Z"
   },
   {
    "duration": 0,
    "start_time": "2022-05-13T15:33:29.706Z"
   },
   {
    "duration": 0,
    "start_time": "2022-05-13T15:33:29.708Z"
   },
   {
    "duration": 0,
    "start_time": "2022-05-13T15:33:29.709Z"
   },
   {
    "duration": 0,
    "start_time": "2022-05-13T15:33:29.710Z"
   },
   {
    "duration": 0,
    "start_time": "2022-05-13T15:33:29.711Z"
   },
   {
    "duration": 0,
    "start_time": "2022-05-13T15:33:29.712Z"
   },
   {
    "duration": 0,
    "start_time": "2022-05-13T15:33:29.713Z"
   },
   {
    "duration": 0,
    "start_time": "2022-05-13T15:33:29.743Z"
   },
   {
    "duration": 0,
    "start_time": "2022-05-13T15:33:29.744Z"
   },
   {
    "duration": 0,
    "start_time": "2022-05-13T15:33:29.745Z"
   },
   {
    "duration": 0,
    "start_time": "2022-05-13T15:33:29.748Z"
   },
   {
    "duration": 0,
    "start_time": "2022-05-13T15:33:29.749Z"
   },
   {
    "duration": 0,
    "start_time": "2022-05-13T15:33:29.751Z"
   },
   {
    "duration": 0,
    "start_time": "2022-05-13T15:33:29.752Z"
   },
   {
    "duration": 0,
    "start_time": "2022-05-13T15:33:29.754Z"
   },
   {
    "duration": 0,
    "start_time": "2022-05-13T15:33:29.755Z"
   },
   {
    "duration": 0,
    "start_time": "2022-05-13T15:33:29.757Z"
   },
   {
    "duration": 0,
    "start_time": "2022-05-13T15:33:29.759Z"
   },
   {
    "duration": 0,
    "start_time": "2022-05-13T15:33:29.761Z"
   },
   {
    "duration": 0,
    "start_time": "2022-05-13T15:33:29.762Z"
   },
   {
    "duration": 0,
    "start_time": "2022-05-13T15:33:29.763Z"
   },
   {
    "duration": 0,
    "start_time": "2022-05-13T15:33:29.765Z"
   },
   {
    "duration": 0,
    "start_time": "2022-05-13T15:33:29.766Z"
   },
   {
    "duration": 32,
    "start_time": "2022-05-13T15:33:48.857Z"
   },
   {
    "duration": 26,
    "start_time": "2022-05-13T15:34:23.533Z"
   },
   {
    "duration": 8,
    "start_time": "2022-05-13T15:34:25.773Z"
   },
   {
    "duration": 80,
    "start_time": "2022-05-13T15:34:30.100Z"
   },
   {
    "duration": 94,
    "start_time": "2022-05-13T15:34:31.032Z"
   },
   {
    "duration": 64,
    "start_time": "2022-05-13T15:34:32.071Z"
   },
   {
    "duration": 49,
    "start_time": "2022-05-13T15:34:34.005Z"
   },
   {
    "duration": 3,
    "start_time": "2022-05-13T15:34:36.674Z"
   },
   {
    "duration": 3,
    "start_time": "2022-05-13T15:34:37.375Z"
   },
   {
    "duration": 11,
    "start_time": "2022-05-13T15:34:39.187Z"
   },
   {
    "duration": 52,
    "start_time": "2022-05-13T15:34:39.709Z"
   },
   {
    "duration": 12,
    "start_time": "2022-05-13T15:34:42.455Z"
   },
   {
    "duration": 12,
    "start_time": "2022-05-13T15:34:44.019Z"
   },
   {
    "duration": 4,
    "start_time": "2022-05-13T15:34:45.096Z"
   },
   {
    "duration": 21,
    "start_time": "2022-05-13T15:34:45.883Z"
   },
   {
    "duration": 17,
    "start_time": "2022-05-13T15:34:46.094Z"
   },
   {
    "duration": 18,
    "start_time": "2022-05-13T15:34:46.301Z"
   },
   {
    "duration": 16,
    "start_time": "2022-05-13T15:34:46.514Z"
   },
   {
    "duration": 24,
    "start_time": "2022-05-13T15:34:46.732Z"
   },
   {
    "duration": 20,
    "start_time": "2022-05-13T15:34:46.956Z"
   },
   {
    "duration": 5,
    "start_time": "2022-05-13T15:34:47.937Z"
   },
   {
    "duration": 12,
    "start_time": "2022-05-13T15:34:51.111Z"
   },
   {
    "duration": 11,
    "start_time": "2022-05-13T15:34:51.381Z"
   },
   {
    "duration": 3,
    "start_time": "2022-05-13T15:34:52.257Z"
   },
   {
    "duration": 4,
    "start_time": "2022-05-13T15:34:52.536Z"
   },
   {
    "duration": 22,
    "start_time": "2022-05-13T15:34:54.514Z"
   },
   {
    "duration": 15,
    "start_time": "2022-05-13T15:34:54.722Z"
   },
   {
    "duration": 20,
    "start_time": "2022-05-13T15:34:54.930Z"
   },
   {
    "duration": 14,
    "start_time": "2022-05-13T15:34:55.503Z"
   },
   {
    "duration": 3,
    "start_time": "2022-05-13T15:35:06.622Z"
   },
   {
    "duration": 188,
    "start_time": "2022-05-13T15:35:07.477Z"
   },
   {
    "duration": 14,
    "start_time": "2022-05-13T15:35:08.057Z"
   },
   {
    "duration": 15,
    "start_time": "2022-05-13T15:35:09.139Z"
   },
   {
    "duration": 32,
    "start_time": "2022-05-13T15:35:09.964Z"
   },
   {
    "duration": 5,
    "start_time": "2022-05-13T15:35:14.641Z"
   },
   {
    "duration": 13,
    "start_time": "2022-05-13T15:35:16.549Z"
   },
   {
    "duration": 4,
    "start_time": "2022-05-13T15:35:17.759Z"
   },
   {
    "duration": 32,
    "start_time": "2022-05-13T15:35:19.708Z"
   },
   {
    "duration": 20,
    "start_time": "2022-05-13T15:35:21.470Z"
   },
   {
    "duration": 414,
    "start_time": "2022-05-13T15:36:54.879Z"
   },
   {
    "duration": 173,
    "start_time": "2022-05-13T15:36:55.296Z"
   },
   {
    "duration": 21,
    "start_time": "2022-05-13T15:36:55.471Z"
   },
   {
    "duration": 17,
    "start_time": "2022-05-13T15:36:55.495Z"
   },
   {
    "duration": 56,
    "start_time": "2022-05-13T15:36:55.515Z"
   },
   {
    "duration": 25,
    "start_time": "2022-05-13T15:36:55.573Z"
   },
   {
    "duration": 65,
    "start_time": "2022-05-13T15:36:55.601Z"
   },
   {
    "duration": 66,
    "start_time": "2022-05-13T15:36:55.669Z"
   },
   {
    "duration": 61,
    "start_time": "2022-05-13T15:36:55.737Z"
   },
   {
    "duration": 35,
    "start_time": "2022-05-13T15:36:55.802Z"
   },
   {
    "duration": 98,
    "start_time": "2022-05-13T15:36:55.840Z"
   },
   {
    "duration": 0,
    "start_time": "2022-05-13T15:36:55.942Z"
   },
   {
    "duration": 0,
    "start_time": "2022-05-13T15:36:55.943Z"
   },
   {
    "duration": 0,
    "start_time": "2022-05-13T15:36:55.945Z"
   },
   {
    "duration": 0,
    "start_time": "2022-05-13T15:36:55.946Z"
   },
   {
    "duration": 0,
    "start_time": "2022-05-13T15:36:55.947Z"
   },
   {
    "duration": 0,
    "start_time": "2022-05-13T15:36:55.949Z"
   },
   {
    "duration": 0,
    "start_time": "2022-05-13T15:36:55.950Z"
   },
   {
    "duration": 0,
    "start_time": "2022-05-13T15:36:55.951Z"
   },
   {
    "duration": 0,
    "start_time": "2022-05-13T15:36:55.953Z"
   },
   {
    "duration": 0,
    "start_time": "2022-05-13T15:36:55.954Z"
   },
   {
    "duration": 0,
    "start_time": "2022-05-13T15:36:55.956Z"
   },
   {
    "duration": 0,
    "start_time": "2022-05-13T15:36:55.957Z"
   },
   {
    "duration": 0,
    "start_time": "2022-05-13T15:36:55.958Z"
   },
   {
    "duration": 0,
    "start_time": "2022-05-13T15:36:55.960Z"
   },
   {
    "duration": 0,
    "start_time": "2022-05-13T15:36:55.961Z"
   },
   {
    "duration": 0,
    "start_time": "2022-05-13T15:36:55.963Z"
   },
   {
    "duration": 0,
    "start_time": "2022-05-13T15:36:55.964Z"
   },
   {
    "duration": 0,
    "start_time": "2022-05-13T15:36:55.965Z"
   },
   {
    "duration": 0,
    "start_time": "2022-05-13T15:36:55.967Z"
   },
   {
    "duration": 0,
    "start_time": "2022-05-13T15:36:55.969Z"
   },
   {
    "duration": 0,
    "start_time": "2022-05-13T15:36:55.970Z"
   },
   {
    "duration": 0,
    "start_time": "2022-05-13T15:36:55.971Z"
   },
   {
    "duration": 0,
    "start_time": "2022-05-13T15:36:55.972Z"
   },
   {
    "duration": 0,
    "start_time": "2022-05-13T15:36:55.973Z"
   },
   {
    "duration": 0,
    "start_time": "2022-05-13T15:36:55.974Z"
   },
   {
    "duration": 0,
    "start_time": "2022-05-13T15:36:55.975Z"
   },
   {
    "duration": 0,
    "start_time": "2022-05-13T15:36:55.976Z"
   },
   {
    "duration": 0,
    "start_time": "2022-05-13T15:36:55.977Z"
   },
   {
    "duration": 0,
    "start_time": "2022-05-13T15:36:55.978Z"
   },
   {
    "duration": 0,
    "start_time": "2022-05-13T15:36:55.979Z"
   },
   {
    "duration": 78,
    "start_time": "2022-05-13T15:38:17.751Z"
   },
   {
    "duration": 83,
    "start_time": "2022-05-13T16:24:12.131Z"
   },
   {
    "duration": 12,
    "start_time": "2022-05-13T16:24:15.457Z"
   },
   {
    "duration": 11,
    "start_time": "2022-05-13T16:25:01.165Z"
   },
   {
    "duration": 77,
    "start_time": "2022-05-13T16:25:07.041Z"
   },
   {
    "duration": 26,
    "start_time": "2022-05-13T16:25:38.061Z"
   },
   {
    "duration": 74,
    "start_time": "2022-05-13T16:25:49.330Z"
   },
   {
    "duration": 95,
    "start_time": "2022-05-13T16:25:52.931Z"
   },
   {
    "duration": 62,
    "start_time": "2022-05-13T16:25:55.559Z"
   },
   {
    "duration": 49,
    "start_time": "2022-05-13T16:26:01.728Z"
   },
   {
    "duration": 2,
    "start_time": "2022-05-13T16:26:12.263Z"
   },
   {
    "duration": 4,
    "start_time": "2022-05-13T16:26:13.783Z"
   },
   {
    "duration": 10,
    "start_time": "2022-05-13T16:26:18.885Z"
   },
   {
    "duration": 48,
    "start_time": "2022-05-13T16:26:25.006Z"
   },
   {
    "duration": 11,
    "start_time": "2022-05-13T16:26:51.156Z"
   },
   {
    "duration": 11,
    "start_time": "2022-05-13T16:27:03.971Z"
   },
   {
    "duration": 4,
    "start_time": "2022-05-13T16:27:05.880Z"
   },
   {
    "duration": 18,
    "start_time": "2022-05-13T16:27:06.864Z"
   },
   {
    "duration": 16,
    "start_time": "2022-05-13T16:27:07.074Z"
   },
   {
    "duration": 16,
    "start_time": "2022-05-13T16:27:07.299Z"
   },
   {
    "duration": 16,
    "start_time": "2022-05-13T16:27:07.510Z"
   },
   {
    "duration": 22,
    "start_time": "2022-05-13T16:27:07.735Z"
   },
   {
    "duration": 17,
    "start_time": "2022-05-13T16:27:07.960Z"
   },
   {
    "duration": 6,
    "start_time": "2022-05-13T16:27:08.857Z"
   },
   {
    "duration": 15,
    "start_time": "2022-05-13T16:27:10.375Z"
   },
   {
    "duration": 10,
    "start_time": "2022-05-13T16:27:10.593Z"
   },
   {
    "duration": 3,
    "start_time": "2022-05-13T16:27:11.289Z"
   },
   {
    "duration": 4,
    "start_time": "2022-05-13T16:27:12.608Z"
   },
   {
    "duration": 30,
    "start_time": "2022-05-13T16:27:21.438Z"
   },
   {
    "duration": 14,
    "start_time": "2022-05-13T16:27:22.305Z"
   },
   {
    "duration": 25,
    "start_time": "2022-05-13T16:27:23.474Z"
   },
   {
    "duration": 18,
    "start_time": "2022-05-13T16:27:23.916Z"
   },
   {
    "duration": 9,
    "start_time": "2022-05-13T16:27:26.870Z"
   },
   {
    "duration": 7,
    "start_time": "2022-05-13T16:27:28.322Z"
   },
   {
    "duration": 7,
    "start_time": "2022-05-13T16:27:29.790Z"
   },
   {
    "duration": 80,
    "start_time": "2022-05-13T16:33:54.560Z"
   },
   {
    "duration": 69,
    "start_time": "2022-05-13T16:40:01.264Z"
   },
   {
    "duration": 60,
    "start_time": "2022-05-13T16:40:13.262Z"
   },
   {
    "duration": 3,
    "start_time": "2022-05-13T16:44:15.230Z"
   },
   {
    "duration": 8,
    "start_time": "2022-05-13T16:44:25.102Z"
   },
   {
    "duration": 10,
    "start_time": "2022-05-13T16:45:34.127Z"
   },
   {
    "duration": 384,
    "start_time": "2022-05-13T16:45:50.569Z"
   },
   {
    "duration": 158,
    "start_time": "2022-05-13T16:45:50.955Z"
   },
   {
    "duration": 16,
    "start_time": "2022-05-13T16:45:51.115Z"
   },
   {
    "duration": 16,
    "start_time": "2022-05-13T16:45:51.133Z"
   },
   {
    "duration": 32,
    "start_time": "2022-05-13T16:45:51.150Z"
   },
   {
    "duration": 5,
    "start_time": "2022-05-13T16:45:51.184Z"
   },
   {
    "duration": 12,
    "start_time": "2022-05-13T16:45:51.190Z"
   },
   {
    "duration": 5,
    "start_time": "2022-05-13T16:45:51.204Z"
   },
   {
    "duration": 53,
    "start_time": "2022-05-13T16:45:51.211Z"
   },
   {
    "duration": 41,
    "start_time": "2022-05-13T16:45:51.267Z"
   },
   {
    "duration": 40,
    "start_time": "2022-05-13T16:45:51.309Z"
   },
   {
    "duration": 65,
    "start_time": "2022-05-13T16:45:51.350Z"
   },
   {
    "duration": 99,
    "start_time": "2022-05-13T16:45:51.416Z"
   },
   {
    "duration": 68,
    "start_time": "2022-05-13T16:45:51.517Z"
   },
   {
    "duration": 41,
    "start_time": "2022-05-13T16:45:51.586Z"
   },
   {
    "duration": 14,
    "start_time": "2022-05-13T16:45:51.629Z"
   },
   {
    "duration": 8,
    "start_time": "2022-05-13T16:45:51.645Z"
   },
   {
    "duration": 12,
    "start_time": "2022-05-13T16:45:51.654Z"
   },
   {
    "duration": 42,
    "start_time": "2022-05-13T16:45:51.668Z"
   },
   {
    "duration": 11,
    "start_time": "2022-05-13T16:45:51.711Z"
   },
   {
    "duration": 10,
    "start_time": "2022-05-13T16:45:51.743Z"
   },
   {
    "duration": 3,
    "start_time": "2022-05-13T16:45:51.755Z"
   },
   {
    "duration": 24,
    "start_time": "2022-05-13T16:45:51.760Z"
   },
   {
    "duration": 17,
    "start_time": "2022-05-13T16:45:51.785Z"
   },
   {
    "duration": 40,
    "start_time": "2022-05-13T16:45:51.804Z"
   },
   {
    "duration": 17,
    "start_time": "2022-05-13T16:45:51.845Z"
   },
   {
    "duration": 18,
    "start_time": "2022-05-13T16:45:51.863Z"
   },
   {
    "duration": 15,
    "start_time": "2022-05-13T16:45:51.885Z"
   },
   {
    "duration": 4,
    "start_time": "2022-05-13T16:45:51.902Z"
   },
   {
    "duration": 41,
    "start_time": "2022-05-13T16:45:51.907Z"
   },
   {
    "duration": 10,
    "start_time": "2022-05-13T16:45:51.950Z"
   },
   {
    "duration": 3,
    "start_time": "2022-05-13T16:45:51.961Z"
   },
   {
    "duration": 7,
    "start_time": "2022-05-13T16:45:51.965Z"
   },
   {
    "duration": 20,
    "start_time": "2022-05-13T16:45:51.973Z"
   },
   {
    "duration": 12,
    "start_time": "2022-05-13T16:45:51.995Z"
   },
   {
    "duration": 45,
    "start_time": "2022-05-13T16:45:52.008Z"
   },
   {
    "duration": 11,
    "start_time": "2022-05-13T16:45:52.054Z"
   },
   {
    "duration": 9,
    "start_time": "2022-05-13T16:45:52.066Z"
   },
   {
    "duration": 4,
    "start_time": "2022-05-13T16:45:52.076Z"
   },
   {
    "duration": 7,
    "start_time": "2022-05-13T16:45:52.082Z"
   },
   {
    "duration": 5,
    "start_time": "2022-05-13T16:45:52.090Z"
   },
   {
    "duration": 10,
    "start_time": "2022-05-13T16:45:56.854Z"
   },
   {
    "duration": 12,
    "start_time": "2022-05-13T16:46:14.382Z"
   },
   {
    "duration": 10,
    "start_time": "2022-05-13T16:46:44.631Z"
   },
   {
    "duration": 12,
    "start_time": "2022-05-13T16:47:00.774Z"
   },
   {
    "duration": 3,
    "start_time": "2022-05-13T16:47:18.622Z"
   },
   {
    "duration": 18,
    "start_time": "2022-05-13T16:47:33.455Z"
   },
   {
    "duration": 17,
    "start_time": "2022-05-13T16:47:33.778Z"
   },
   {
    "duration": 18,
    "start_time": "2022-05-13T16:47:34.491Z"
   },
   {
    "duration": 17,
    "start_time": "2022-05-13T16:47:35.052Z"
   },
   {
    "duration": 18,
    "start_time": "2022-05-13T16:47:35.709Z"
   },
   {
    "duration": 16,
    "start_time": "2022-05-13T16:47:39.951Z"
   },
   {
    "duration": 5,
    "start_time": "2022-05-13T16:47:45.532Z"
   },
   {
    "duration": 14,
    "start_time": "2022-05-13T16:48:00.272Z"
   },
   {
    "duration": 11,
    "start_time": "2022-05-13T16:48:00.543Z"
   },
   {
    "duration": 3,
    "start_time": "2022-05-13T16:48:01.303Z"
   },
   {
    "duration": 4,
    "start_time": "2022-05-13T16:48:01.547Z"
   },
   {
    "duration": 23,
    "start_time": "2022-05-13T16:48:02.371Z"
   },
   {
    "duration": 13,
    "start_time": "2022-05-13T16:48:02.665Z"
   },
   {
    "duration": 17,
    "start_time": "2022-05-13T16:48:03.048Z"
   },
   {
    "duration": 12,
    "start_time": "2022-05-13T16:48:03.456Z"
   },
   {
    "duration": 8,
    "start_time": "2022-05-13T16:48:05.281Z"
   },
   {
    "duration": 6,
    "start_time": "2022-05-13T16:48:06.269Z"
   },
   {
    "duration": 6,
    "start_time": "2022-05-13T16:48:07.169Z"
   },
   {
    "duration": 5,
    "start_time": "2022-05-13T16:48:08.586Z"
   },
   {
    "duration": 67,
    "start_time": "2022-05-13T16:57:13.126Z"
   },
   {
    "duration": 107,
    "start_time": "2022-05-13T16:58:24.636Z"
   },
   {
    "duration": 13409,
    "start_time": "2022-05-13T16:58:49.760Z"
   },
   {
    "duration": 129,
    "start_time": "2022-05-13T17:00:09.315Z"
   },
   {
    "duration": 88,
    "start_time": "2022-05-13T17:00:35.440Z"
   },
   {
    "duration": 67,
    "start_time": "2022-05-13T17:00:40.156Z"
   },
   {
    "duration": 67,
    "start_time": "2022-05-13T17:01:47.245Z"
   },
   {
    "duration": 123,
    "start_time": "2022-05-13T17:02:20.457Z"
   },
   {
    "duration": 517,
    "start_time": "2022-05-13T17:02:35.526Z"
   },
   {
    "duration": 238,
    "start_time": "2022-05-13T17:02:36.045Z"
   },
   {
    "duration": 27,
    "start_time": "2022-05-13T17:02:36.286Z"
   },
   {
    "duration": 13,
    "start_time": "2022-05-13T17:02:36.316Z"
   },
   {
    "duration": 55,
    "start_time": "2022-05-13T17:02:36.330Z"
   },
   {
    "duration": 5,
    "start_time": "2022-05-13T17:02:36.386Z"
   },
   {
    "duration": 20,
    "start_time": "2022-05-13T17:02:36.394Z"
   },
   {
    "duration": 34,
    "start_time": "2022-05-13T17:02:36.416Z"
   },
   {
    "duration": 40,
    "start_time": "2022-05-13T17:02:36.451Z"
   },
   {
    "duration": 87,
    "start_time": "2022-05-13T17:02:36.493Z"
   },
   {
    "duration": 26,
    "start_time": "2022-05-13T17:02:36.582Z"
   },
   {
    "duration": 97,
    "start_time": "2022-05-13T17:02:36.610Z"
   },
   {
    "duration": 106,
    "start_time": "2022-05-13T17:02:36.710Z"
   },
   {
    "duration": 82,
    "start_time": "2022-05-13T17:02:36.818Z"
   },
   {
    "duration": 69,
    "start_time": "2022-05-13T17:02:36.902Z"
   },
   {
    "duration": 15,
    "start_time": "2022-05-13T17:02:36.973Z"
   },
   {
    "duration": 19,
    "start_time": "2022-05-13T17:02:36.990Z"
   },
   {
    "duration": 42,
    "start_time": "2022-05-13T17:02:37.012Z"
   },
   {
    "duration": 53,
    "start_time": "2022-05-13T17:02:37.057Z"
   },
   {
    "duration": 13,
    "start_time": "2022-05-13T17:02:37.112Z"
   },
   {
    "duration": 26,
    "start_time": "2022-05-13T17:02:37.127Z"
   },
   {
    "duration": 21,
    "start_time": "2022-05-13T17:02:37.156Z"
   },
   {
    "duration": 47,
    "start_time": "2022-05-13T17:02:37.179Z"
   },
   {
    "duration": 31,
    "start_time": "2022-05-13T17:02:37.229Z"
   },
   {
    "duration": 22,
    "start_time": "2022-05-13T17:02:37.262Z"
   },
   {
    "duration": 16,
    "start_time": "2022-05-13T17:02:37.286Z"
   },
   {
    "duration": 40,
    "start_time": "2022-05-13T17:02:37.304Z"
   },
   {
    "duration": 27,
    "start_time": "2022-05-13T17:02:37.349Z"
   },
   {
    "duration": 6,
    "start_time": "2022-05-13T17:02:37.378Z"
   },
   {
    "duration": 40,
    "start_time": "2022-05-13T17:02:37.387Z"
   },
   {
    "duration": 20,
    "start_time": "2022-05-13T17:02:37.430Z"
   },
   {
    "duration": 14,
    "start_time": "2022-05-13T17:02:37.453Z"
   },
   {
    "duration": 20,
    "start_time": "2022-05-13T17:02:37.470Z"
   },
   {
    "duration": 33,
    "start_time": "2022-05-13T17:02:37.492Z"
   },
   {
    "duration": 18,
    "start_time": "2022-05-13T17:02:37.527Z"
   },
   {
    "duration": 36,
    "start_time": "2022-05-13T17:02:37.553Z"
   },
   {
    "duration": 15,
    "start_time": "2022-05-13T17:02:37.591Z"
   },
   {
    "duration": 12,
    "start_time": "2022-05-13T17:02:37.608Z"
   },
   {
    "duration": 7,
    "start_time": "2022-05-13T17:02:37.621Z"
   },
   {
    "duration": 22,
    "start_time": "2022-05-13T17:02:37.629Z"
   },
   {
    "duration": 21,
    "start_time": "2022-05-13T17:02:37.653Z"
   },
   {
    "duration": 74,
    "start_time": "2022-05-13T17:02:47.618Z"
   },
   {
    "duration": 91,
    "start_time": "2022-05-13T17:02:56.687Z"
   },
   {
    "duration": 74,
    "start_time": "2022-05-13T17:03:01.049Z"
   },
   {
    "duration": 3,
    "start_time": "2022-05-13T17:07:10.296Z"
   },
   {
    "duration": 9,
    "start_time": "2022-05-13T17:07:25.181Z"
   },
   {
    "duration": 59,
    "start_time": "2022-05-13T17:07:36.528Z"
   },
   {
    "duration": 18,
    "start_time": "2022-05-13T17:07:45.146Z"
   },
   {
    "duration": 13,
    "start_time": "2022-05-13T17:07:57.010Z"
   },
   {
    "duration": 3,
    "start_time": "2022-05-13T17:08:37.267Z"
   },
   {
    "duration": 3,
    "start_time": "2022-05-13T17:10:22.038Z"
   },
   {
    "duration": 19,
    "start_time": "2022-05-13T17:10:43.396Z"
   },
   {
    "duration": 4,
    "start_time": "2022-05-13T17:10:53.632Z"
   },
   {
    "duration": 4,
    "start_time": "2022-05-13T17:12:49.490Z"
   },
   {
    "duration": 414,
    "start_time": "2022-05-13T17:13:08.686Z"
   },
   {
    "duration": 188,
    "start_time": "2022-05-13T17:13:09.102Z"
   },
   {
    "duration": 22,
    "start_time": "2022-05-13T17:13:09.292Z"
   },
   {
    "duration": 9,
    "start_time": "2022-05-13T17:13:09.316Z"
   },
   {
    "duration": 63,
    "start_time": "2022-05-13T17:13:09.326Z"
   },
   {
    "duration": 12,
    "start_time": "2022-05-13T17:13:09.391Z"
   },
   {
    "duration": 17,
    "start_time": "2022-05-13T17:13:09.405Z"
   },
   {
    "duration": 8,
    "start_time": "2022-05-13T17:13:09.423Z"
   },
   {
    "duration": 62,
    "start_time": "2022-05-13T17:13:09.433Z"
   },
   {
    "duration": 50,
    "start_time": "2022-05-13T17:13:09.498Z"
   },
   {
    "duration": 41,
    "start_time": "2022-05-13T17:13:09.550Z"
   },
   {
    "duration": 124,
    "start_time": "2022-05-13T17:13:09.593Z"
   },
   {
    "duration": 151,
    "start_time": "2022-05-13T17:13:09.719Z"
   },
   {
    "duration": 122,
    "start_time": "2022-05-13T17:13:09.873Z"
   },
   {
    "duration": 68,
    "start_time": "2022-05-13T17:13:09.998Z"
   },
   {
    "duration": 3,
    "start_time": "2022-05-13T17:13:10.068Z"
   },
   {
    "duration": 14,
    "start_time": "2022-05-13T17:13:10.073Z"
   },
   {
    "duration": 14,
    "start_time": "2022-05-13T17:13:10.088Z"
   },
   {
    "duration": 46,
    "start_time": "2022-05-13T17:13:10.104Z"
   },
   {
    "duration": 21,
    "start_time": "2022-05-13T17:13:10.152Z"
   },
   {
    "duration": 19,
    "start_time": "2022-05-13T17:13:10.175Z"
   },
   {
    "duration": 13,
    "start_time": "2022-05-13T17:13:10.195Z"
   },
   {
    "duration": 30,
    "start_time": "2022-05-13T17:13:10.210Z"
   },
   {
    "duration": 33,
    "start_time": "2022-05-13T17:13:10.243Z"
   },
   {
    "duration": 27,
    "start_time": "2022-05-13T17:13:10.278Z"
   },
   {
    "duration": 19,
    "start_time": "2022-05-13T17:13:10.307Z"
   },
   {
    "duration": 39,
    "start_time": "2022-05-13T17:13:10.328Z"
   },
   {
    "duration": 22,
    "start_time": "2022-05-13T17:13:10.374Z"
   },
   {
    "duration": 4,
    "start_time": "2022-05-13T17:13:10.398Z"
   },
   {
    "duration": 19,
    "start_time": "2022-05-13T17:13:10.404Z"
   },
   {
    "duration": 39,
    "start_time": "2022-05-13T17:13:10.425Z"
   },
   {
    "duration": 27,
    "start_time": "2022-05-13T17:13:10.467Z"
   },
   {
    "duration": 22,
    "start_time": "2022-05-13T17:13:10.496Z"
   },
   {
    "duration": 39,
    "start_time": "2022-05-13T17:13:10.520Z"
   },
   {
    "duration": 26,
    "start_time": "2022-05-13T17:13:10.561Z"
   },
   {
    "duration": 26,
    "start_time": "2022-05-13T17:13:10.589Z"
   },
   {
    "duration": 13,
    "start_time": "2022-05-13T17:13:10.616Z"
   },
   {
    "duration": 18,
    "start_time": "2022-05-13T17:13:10.630Z"
   },
   {
    "duration": 33,
    "start_time": "2022-05-13T17:13:10.651Z"
   },
   {
    "duration": 11,
    "start_time": "2022-05-13T17:13:10.685Z"
   },
   {
    "duration": 5,
    "start_time": "2022-05-13T17:13:10.698Z"
   },
   {
    "duration": 15,
    "start_time": "2022-05-13T17:13:17.057Z"
   },
   {
    "duration": 13,
    "start_time": "2022-05-13T17:13:19.298Z"
   },
   {
    "duration": 5,
    "start_time": "2022-05-13T17:13:21.547Z"
   },
   {
    "duration": 20,
    "start_time": "2022-05-13T17:13:39.193Z"
   },
   {
    "duration": 19,
    "start_time": "2022-05-13T17:13:39.773Z"
   },
   {
    "duration": 18,
    "start_time": "2022-05-13T17:13:49.095Z"
   },
   {
    "duration": 18,
    "start_time": "2022-05-13T17:13:50.016Z"
   },
   {
    "duration": 20,
    "start_time": "2022-05-13T17:13:50.313Z"
   },
   {
    "duration": 16,
    "start_time": "2022-05-13T17:13:51.119Z"
   },
   {
    "duration": 6,
    "start_time": "2022-05-13T17:14:10.760Z"
   },
   {
    "duration": 19,
    "start_time": "2022-05-13T17:14:46.273Z"
   },
   {
    "duration": 12,
    "start_time": "2022-05-13T17:14:47.104Z"
   },
   {
    "duration": 3,
    "start_time": "2022-05-13T17:14:48.229Z"
   },
   {
    "duration": 7,
    "start_time": "2022-05-13T17:14:48.662Z"
   },
   {
    "duration": 15,
    "start_time": "2022-05-13T17:15:07.731Z"
   },
   {
    "duration": 443,
    "start_time": "2022-05-13T17:15:15.689Z"
   },
   {
    "duration": 233,
    "start_time": "2022-05-13T17:15:16.134Z"
   },
   {
    "duration": 25,
    "start_time": "2022-05-13T17:15:16.369Z"
   },
   {
    "duration": 34,
    "start_time": "2022-05-13T17:15:16.397Z"
   },
   {
    "duration": 91,
    "start_time": "2022-05-13T17:15:16.433Z"
   },
   {
    "duration": 9,
    "start_time": "2022-05-13T17:15:16.526Z"
   },
   {
    "duration": 60,
    "start_time": "2022-05-13T17:15:16.537Z"
   },
   {
    "duration": 8,
    "start_time": "2022-05-13T17:15:16.600Z"
   },
   {
    "duration": 76,
    "start_time": "2022-05-13T17:15:16.610Z"
   },
   {
    "duration": 70,
    "start_time": "2022-05-13T17:15:16.689Z"
   },
   {
    "duration": 43,
    "start_time": "2022-05-13T17:15:16.761Z"
   },
   {
    "duration": 115,
    "start_time": "2022-05-13T17:15:16.806Z"
   },
   {
    "duration": 135,
    "start_time": "2022-05-13T17:15:16.923Z"
   },
   {
    "duration": 103,
    "start_time": "2022-05-13T17:15:17.062Z"
   },
   {
    "duration": 81,
    "start_time": "2022-05-13T17:15:17.167Z"
   },
   {
    "duration": 2,
    "start_time": "2022-05-13T17:15:17.252Z"
   },
   {
    "duration": 40,
    "start_time": "2022-05-13T17:15:17.256Z"
   },
   {
    "duration": 38,
    "start_time": "2022-05-13T17:15:17.299Z"
   },
   {
    "duration": 118,
    "start_time": "2022-05-13T17:15:17.340Z"
   },
   {
    "duration": 26,
    "start_time": "2022-05-13T17:15:17.461Z"
   },
   {
    "duration": 18,
    "start_time": "2022-05-13T17:15:17.489Z"
   },
   {
    "duration": 15,
    "start_time": "2022-05-13T17:15:17.509Z"
   },
   {
    "duration": 64,
    "start_time": "2022-05-13T17:15:17.526Z"
   },
   {
    "duration": 34,
    "start_time": "2022-05-13T17:15:17.592Z"
   },
   {
    "duration": 73,
    "start_time": "2022-05-13T17:15:17.628Z"
   },
   {
    "duration": 34,
    "start_time": "2022-05-13T17:15:17.704Z"
   },
   {
    "duration": 29,
    "start_time": "2022-05-13T17:15:17.739Z"
   },
   {
    "duration": 44,
    "start_time": "2022-05-13T17:15:17.773Z"
   },
   {
    "duration": 7,
    "start_time": "2022-05-13T17:15:17.819Z"
   },
   {
    "duration": 75,
    "start_time": "2022-05-13T17:15:17.828Z"
   },
   {
    "duration": 17,
    "start_time": "2022-05-13T17:15:17.905Z"
   },
   {
    "duration": 21,
    "start_time": "2022-05-13T17:15:17.925Z"
   },
   {
    "duration": 55,
    "start_time": "2022-05-13T17:15:17.948Z"
   },
   {
    "duration": 75,
    "start_time": "2022-05-13T17:15:18.005Z"
   },
   {
    "duration": 15,
    "start_time": "2022-05-13T17:15:18.083Z"
   },
   {
    "duration": 34,
    "start_time": "2022-05-13T17:15:18.099Z"
   },
   {
    "duration": 53,
    "start_time": "2022-05-13T17:15:18.135Z"
   },
   {
    "duration": 22,
    "start_time": "2022-05-13T17:15:18.191Z"
   },
   {
    "duration": 36,
    "start_time": "2022-05-13T17:15:18.214Z"
   },
   {
    "duration": 44,
    "start_time": "2022-05-13T17:15:18.252Z"
   },
   {
    "duration": 38,
    "start_time": "2022-05-13T17:15:18.298Z"
   },
   {
    "duration": 4,
    "start_time": "2022-05-13T17:15:41.473Z"
   },
   {
    "duration": 21,
    "start_time": "2022-05-13T17:15:50.995Z"
   },
   {
    "duration": 5,
    "start_time": "2022-05-13T17:17:31.498Z"
   },
   {
    "duration": 5,
    "start_time": "2022-05-13T17:17:46.951Z"
   },
   {
    "duration": 4,
    "start_time": "2022-05-13T17:17:56.891Z"
   },
   {
    "duration": 12,
    "start_time": "2022-05-13T17:18:00.157Z"
   },
   {
    "duration": 5,
    "start_time": "2022-05-13T17:18:09.311Z"
   },
   {
    "duration": 12,
    "start_time": "2022-05-13T17:18:24.142Z"
   },
   {
    "duration": 9,
    "start_time": "2022-05-13T17:19:04.367Z"
   },
   {
    "duration": 13,
    "start_time": "2022-05-13T17:19:18.131Z"
   },
   {
    "duration": 14,
    "start_time": "2022-05-13T17:20:36.500Z"
   },
   {
    "duration": 12,
    "start_time": "2022-05-13T17:20:37.192Z"
   },
   {
    "duration": 44,
    "start_time": "2022-05-13T17:22:35.116Z"
   },
   {
    "duration": 27,
    "start_time": "2022-05-13T17:23:50.140Z"
   },
   {
    "duration": 485,
    "start_time": "2022-05-13T17:31:32.586Z"
   },
   {
    "duration": 215,
    "start_time": "2022-05-13T17:31:33.074Z"
   },
   {
    "duration": 17,
    "start_time": "2022-05-13T17:31:33.291Z"
   },
   {
    "duration": 21,
    "start_time": "2022-05-13T17:31:33.310Z"
   },
   {
    "duration": 57,
    "start_time": "2022-05-13T17:31:33.332Z"
   },
   {
    "duration": 10,
    "start_time": "2022-05-13T17:31:33.391Z"
   },
   {
    "duration": 21,
    "start_time": "2022-05-13T17:31:33.402Z"
   },
   {
    "duration": 14,
    "start_time": "2022-05-13T17:31:33.426Z"
   },
   {
    "duration": 69,
    "start_time": "2022-05-13T17:31:33.442Z"
   },
   {
    "duration": 67,
    "start_time": "2022-05-13T17:31:33.514Z"
   },
   {
    "duration": 27,
    "start_time": "2022-05-13T17:31:33.583Z"
   },
   {
    "duration": 99,
    "start_time": "2022-05-13T17:31:33.612Z"
   },
   {
    "duration": 122,
    "start_time": "2022-05-13T17:31:33.714Z"
   },
   {
    "duration": 84,
    "start_time": "2022-05-13T17:31:33.838Z"
   },
   {
    "duration": 70,
    "start_time": "2022-05-13T17:31:33.924Z"
   },
   {
    "duration": 2,
    "start_time": "2022-05-13T17:31:33.996Z"
   },
   {
    "duration": 7,
    "start_time": "2022-05-13T17:31:34.000Z"
   },
   {
    "duration": 13,
    "start_time": "2022-05-13T17:31:34.008Z"
   },
   {
    "duration": 76,
    "start_time": "2022-05-13T17:31:34.022Z"
   },
   {
    "duration": 12,
    "start_time": "2022-05-13T17:31:34.099Z"
   },
   {
    "duration": 17,
    "start_time": "2022-05-13T17:31:34.113Z"
   },
   {
    "duration": 4,
    "start_time": "2022-05-13T17:31:34.131Z"
   },
   {
    "duration": 52,
    "start_time": "2022-05-13T17:31:34.145Z"
   },
   {
    "duration": 16,
    "start_time": "2022-05-13T17:31:34.199Z"
   },
   {
    "duration": 15,
    "start_time": "2022-05-13T17:31:34.217Z"
   },
   {
    "duration": 21,
    "start_time": "2022-05-13T17:31:34.233Z"
   },
   {
    "duration": 61,
    "start_time": "2022-05-13T17:31:34.256Z"
   },
   {
    "duration": 17,
    "start_time": "2022-05-13T17:31:34.321Z"
   },
   {
    "duration": 13,
    "start_time": "2022-05-13T17:31:34.340Z"
   },
   {
    "duration": 61,
    "start_time": "2022-05-13T17:31:34.354Z"
   },
   {
    "duration": 19,
    "start_time": "2022-05-13T17:31:34.417Z"
   },
   {
    "duration": 2,
    "start_time": "2022-05-13T17:31:34.438Z"
   },
   {
    "duration": 46,
    "start_time": "2022-05-13T17:31:34.444Z"
   },
   {
    "duration": 26,
    "start_time": "2022-05-13T17:31:34.492Z"
   },
   {
    "duration": 13,
    "start_time": "2022-05-13T17:31:34.520Z"
   },
   {
    "duration": 38,
    "start_time": "2022-05-13T17:31:34.535Z"
   },
   {
    "duration": 27,
    "start_time": "2022-05-13T17:31:34.575Z"
   },
   {
    "duration": 9,
    "start_time": "2022-05-13T17:31:34.604Z"
   },
   {
    "duration": 19,
    "start_time": "2022-05-13T17:31:34.615Z"
   },
   {
    "duration": 70,
    "start_time": "2022-05-13T17:31:34.635Z"
   },
   {
    "duration": 13,
    "start_time": "2022-05-13T17:31:34.707Z"
   },
   {
    "duration": 87,
    "start_time": "2022-05-13T19:24:09.536Z"
   },
   {
    "duration": 70,
    "start_time": "2022-05-13T19:24:19.638Z"
   },
   {
    "duration": 110,
    "start_time": "2022-05-13T19:24:41.887Z"
   },
   {
    "duration": 122,
    "start_time": "2022-05-13T19:24:44.379Z"
   },
   {
    "duration": 446,
    "start_time": "2022-05-13T19:25:35.690Z"
   },
   {
    "duration": 169,
    "start_time": "2022-05-13T19:25:36.138Z"
   },
   {
    "duration": 17,
    "start_time": "2022-05-13T19:25:36.309Z"
   },
   {
    "duration": 23,
    "start_time": "2022-05-13T19:25:36.328Z"
   },
   {
    "duration": 63,
    "start_time": "2022-05-13T19:25:36.353Z"
   },
   {
    "duration": 7,
    "start_time": "2022-05-13T19:25:36.418Z"
   },
   {
    "duration": 24,
    "start_time": "2022-05-13T19:25:36.427Z"
   },
   {
    "duration": 14,
    "start_time": "2022-05-13T19:25:36.454Z"
   },
   {
    "duration": 47,
    "start_time": "2022-05-13T19:25:36.470Z"
   },
   {
    "duration": 51,
    "start_time": "2022-05-13T19:25:36.520Z"
   },
   {
    "duration": 37,
    "start_time": "2022-05-13T19:25:36.573Z"
   },
   {
    "duration": 127,
    "start_time": "2022-05-13T19:25:36.612Z"
   },
   {
    "duration": 89,
    "start_time": "2022-05-13T19:25:36.741Z"
   },
   {
    "duration": 0,
    "start_time": "2022-05-13T19:25:36.843Z"
   },
   {
    "duration": 0,
    "start_time": "2022-05-13T19:25:36.845Z"
   },
   {
    "duration": 0,
    "start_time": "2022-05-13T19:25:36.846Z"
   },
   {
    "duration": 0,
    "start_time": "2022-05-13T19:25:36.848Z"
   },
   {
    "duration": 0,
    "start_time": "2022-05-13T19:25:36.849Z"
   },
   {
    "duration": 0,
    "start_time": "2022-05-13T19:25:36.850Z"
   },
   {
    "duration": 0,
    "start_time": "2022-05-13T19:25:36.852Z"
   },
   {
    "duration": 0,
    "start_time": "2022-05-13T19:25:36.853Z"
   },
   {
    "duration": 0,
    "start_time": "2022-05-13T19:25:36.855Z"
   },
   {
    "duration": 0,
    "start_time": "2022-05-13T19:25:36.856Z"
   },
   {
    "duration": 0,
    "start_time": "2022-05-13T19:25:36.857Z"
   },
   {
    "duration": 0,
    "start_time": "2022-05-13T19:25:36.859Z"
   },
   {
    "duration": 0,
    "start_time": "2022-05-13T19:25:36.860Z"
   },
   {
    "duration": 0,
    "start_time": "2022-05-13T19:25:36.861Z"
   },
   {
    "duration": 0,
    "start_time": "2022-05-13T19:25:36.863Z"
   },
   {
    "duration": 0,
    "start_time": "2022-05-13T19:25:36.864Z"
   },
   {
    "duration": 0,
    "start_time": "2022-05-13T19:25:36.865Z"
   },
   {
    "duration": 0,
    "start_time": "2022-05-13T19:25:36.866Z"
   },
   {
    "duration": 0,
    "start_time": "2022-05-13T19:25:36.867Z"
   },
   {
    "duration": 0,
    "start_time": "2022-05-13T19:25:36.868Z"
   },
   {
    "duration": 0,
    "start_time": "2022-05-13T19:25:36.870Z"
   },
   {
    "duration": 0,
    "start_time": "2022-05-13T19:25:36.871Z"
   },
   {
    "duration": 0,
    "start_time": "2022-05-13T19:25:36.872Z"
   },
   {
    "duration": 0,
    "start_time": "2022-05-13T19:25:36.873Z"
   },
   {
    "duration": 0,
    "start_time": "2022-05-13T19:25:36.873Z"
   },
   {
    "duration": 0,
    "start_time": "2022-05-13T19:25:36.874Z"
   },
   {
    "duration": 0,
    "start_time": "2022-05-13T19:25:36.875Z"
   },
   {
    "duration": 0,
    "start_time": "2022-05-13T19:25:36.875Z"
   },
   {
    "duration": 101,
    "start_time": "2022-05-13T19:26:21.231Z"
   },
   {
    "duration": 11,
    "start_time": "2022-05-13T19:26:25.162Z"
   },
   {
    "duration": 7,
    "start_time": "2022-05-13T19:26:27.901Z"
   },
   {
    "duration": 111,
    "start_time": "2022-05-13T19:30:10.547Z"
   },
   {
    "duration": 121,
    "start_time": "2022-05-13T19:30:13.680Z"
   },
   {
    "duration": 10,
    "start_time": "2022-05-13T19:30:15.251Z"
   },
   {
    "duration": 104,
    "start_time": "2022-05-13T19:31:57.502Z"
   },
   {
    "duration": 112,
    "start_time": "2022-05-13T19:32:31.236Z"
   },
   {
    "duration": 90,
    "start_time": "2022-05-13T19:32:35.196Z"
   },
   {
    "duration": 127,
    "start_time": "2022-05-13T19:32:36.877Z"
   },
   {
    "duration": 86,
    "start_time": "2022-05-13T19:33:23.656Z"
   },
   {
    "duration": 83,
    "start_time": "2022-05-13T19:33:25.395Z"
   },
   {
    "duration": 97,
    "start_time": "2022-05-13T19:34:12.669Z"
   },
   {
    "duration": 81,
    "start_time": "2022-05-13T19:34:15.108Z"
   },
   {
    "duration": 57,
    "start_time": "2022-05-13T19:37:19.416Z"
   },
   {
    "duration": 3,
    "start_time": "2022-05-13T19:38:22.418Z"
   },
   {
    "duration": 35,
    "start_time": "2022-05-13T19:38:30.342Z"
   },
   {
    "duration": 49,
    "start_time": "2022-05-13T19:38:42.103Z"
   },
   {
    "duration": 27,
    "start_time": "2022-05-13T19:39:11.861Z"
   },
   {
    "duration": 12,
    "start_time": "2022-05-13T19:39:21.893Z"
   },
   {
    "duration": 4,
    "start_time": "2022-05-13T19:39:54.102Z"
   },
   {
    "duration": 32,
    "start_time": "2022-05-13T19:39:56.139Z"
   },
   {
    "duration": 22,
    "start_time": "2022-05-13T19:39:56.968Z"
   },
   {
    "duration": 14,
    "start_time": "2022-05-13T19:39:57.521Z"
   },
   {
    "duration": 15,
    "start_time": "2022-05-13T19:39:58.007Z"
   },
   {
    "duration": 21,
    "start_time": "2022-05-13T19:39:58.474Z"
   },
   {
    "duration": 29,
    "start_time": "2022-05-13T19:40:14.349Z"
   },
   {
    "duration": 21,
    "start_time": "2022-05-13T19:40:42.403Z"
   },
   {
    "duration": 25,
    "start_time": "2022-05-13T19:40:44.421Z"
   },
   {
    "duration": 4,
    "start_time": "2022-05-13T19:41:15.277Z"
   },
   {
    "duration": 4,
    "start_time": "2022-05-13T19:41:16.325Z"
   },
   {
    "duration": 19,
    "start_time": "2022-05-13T19:41:20.395Z"
   },
   {
    "duration": 12,
    "start_time": "2022-05-13T19:41:21.686Z"
   },
   {
    "duration": 16,
    "start_time": "2022-05-13T19:41:23.096Z"
   },
   {
    "duration": 14,
    "start_time": "2022-05-13T19:41:24.131Z"
   },
   {
    "duration": 9,
    "start_time": "2022-05-13T19:41:33.996Z"
   },
   {
    "duration": 6,
    "start_time": "2022-05-13T19:41:35.083Z"
   },
   {
    "duration": 7,
    "start_time": "2022-05-13T19:41:36.634Z"
   },
   {
    "duration": 6,
    "start_time": "2022-05-13T19:41:37.981Z"
   },
   {
    "duration": 91,
    "start_time": "2022-05-14T11:09:34.221Z"
   },
   {
    "duration": 7,
    "start_time": "2022-05-14T11:09:35.841Z"
   },
   {
    "duration": 9,
    "start_time": "2022-05-14T11:09:54.419Z"
   },
   {
    "duration": 467,
    "start_time": "2022-05-14T11:10:12.000Z"
   },
   {
    "duration": 202,
    "start_time": "2022-05-14T11:10:14.280Z"
   },
   {
    "duration": 29,
    "start_time": "2022-05-14T11:10:16.577Z"
   },
   {
    "duration": 14,
    "start_time": "2022-05-14T11:10:19.739Z"
   },
   {
    "duration": 46,
    "start_time": "2022-05-14T11:10:21.251Z"
   },
   {
    "duration": 5,
    "start_time": "2022-05-14T11:10:27.380Z"
   },
   {
    "duration": 14,
    "start_time": "2022-05-14T11:10:29.564Z"
   },
   {
    "duration": 5,
    "start_time": "2022-05-14T11:10:31.287Z"
   },
   {
    "duration": 37,
    "start_time": "2022-05-14T11:10:36.016Z"
   },
   {
    "duration": 63,
    "start_time": "2022-05-14T11:10:39.328Z"
   },
   {
    "duration": 33,
    "start_time": "2022-05-14T11:10:44.202Z"
   },
   {
    "duration": 102,
    "start_time": "2022-05-14T11:10:46.697Z"
   },
   {
    "duration": 149,
    "start_time": "2022-05-14T11:10:54.431Z"
   },
   {
    "duration": 97,
    "start_time": "2022-05-14T11:10:57.964Z"
   },
   {
    "duration": 82,
    "start_time": "2022-05-14T11:11:00.923Z"
   },
   {
    "duration": 3,
    "start_time": "2022-05-14T11:14:25.022Z"
   },
   {
    "duration": 6,
    "start_time": "2022-05-14T11:14:25.516Z"
   },
   {
    "duration": 17,
    "start_time": "2022-05-14T11:14:28.916Z"
   },
   {
    "duration": 86,
    "start_time": "2022-05-14T11:14:33.198Z"
   },
   {
    "duration": 16,
    "start_time": "2022-05-14T11:14:56.765Z"
   },
   {
    "duration": 17,
    "start_time": "2022-05-14T11:14:58.977Z"
   },
   {
    "duration": 4,
    "start_time": "2022-05-14T11:15:06.084Z"
   },
   {
    "duration": 22,
    "start_time": "2022-05-14T11:15:17.625Z"
   },
   {
    "duration": 26,
    "start_time": "2022-05-14T11:15:18.447Z"
   },
   {
    "duration": 20,
    "start_time": "2022-05-14T11:15:18.804Z"
   },
   {
    "duration": 19,
    "start_time": "2022-05-14T11:15:19.331Z"
   },
   {
    "duration": 23,
    "start_time": "2022-05-14T11:15:19.818Z"
   },
   {
    "duration": 20,
    "start_time": "2022-05-14T11:15:25.695Z"
   },
   {
    "duration": 13,
    "start_time": "2022-05-14T11:15:48.892Z"
   },
   {
    "duration": 5,
    "start_time": "2022-05-14T11:28:09.339Z"
   },
   {
    "duration": 108,
    "start_time": "2022-05-14T11:31:13.410Z"
   },
   {
    "duration": 5,
    "start_time": "2022-05-14T11:33:20.602Z"
   },
   {
    "duration": 14,
    "start_time": "2022-05-14T13:07:26.552Z"
   },
   {
    "duration": 102,
    "start_time": "2022-05-14T13:21:49.380Z"
   },
   {
    "duration": 34,
    "start_time": "2022-05-14T13:29:34.465Z"
   },
   {
    "duration": 37,
    "start_time": "2022-05-14T13:30:14.112Z"
   },
   {
    "duration": 33,
    "start_time": "2022-05-14T13:30:15.009Z"
   },
   {
    "duration": 34,
    "start_time": "2022-05-14T13:30:32.477Z"
   },
   {
    "duration": 33,
    "start_time": "2022-05-14T13:30:36.339Z"
   },
   {
    "duration": 33,
    "start_time": "2022-05-14T13:31:21.470Z"
   },
   {
    "duration": 32,
    "start_time": "2022-05-14T13:31:23.224Z"
   },
   {
    "duration": 35,
    "start_time": "2022-05-14T13:31:23.946Z"
   },
   {
    "duration": 49,
    "start_time": "2022-05-14T13:31:24.798Z"
   },
   {
    "duration": 15,
    "start_time": "2022-05-14T13:31:27.425Z"
   },
   {
    "duration": 13,
    "start_time": "2022-05-14T13:31:31.993Z"
   },
   {
    "duration": 32,
    "start_time": "2022-05-14T13:32:10.737Z"
   },
   {
    "duration": 26,
    "start_time": "2022-05-14T13:32:12.121Z"
   },
   {
    "duration": 4,
    "start_time": "2022-05-14T13:32:16.937Z"
   },
   {
    "duration": 5,
    "start_time": "2022-05-14T13:32:22.143Z"
   },
   {
    "duration": 27,
    "start_time": "2022-05-14T13:32:25.905Z"
   },
   {
    "duration": 18,
    "start_time": "2022-05-14T13:32:27.298Z"
   },
   {
    "duration": 23,
    "start_time": "2022-05-14T13:32:28.231Z"
   },
   {
    "duration": 18,
    "start_time": "2022-05-14T13:32:28.869Z"
   },
   {
    "duration": 14,
    "start_time": "2022-05-14T13:32:39.291Z"
   },
   {
    "duration": 7,
    "start_time": "2022-05-14T13:32:42.354Z"
   },
   {
    "duration": 9,
    "start_time": "2022-05-14T13:32:45.176Z"
   },
   {
    "duration": 7,
    "start_time": "2022-05-14T13:32:46.179Z"
   },
   {
    "duration": 97,
    "start_time": "2022-05-14T13:33:36.976Z"
   },
   {
    "duration": 88,
    "start_time": "2022-05-14T13:35:21.798Z"
   },
   {
    "duration": 384,
    "start_time": "2022-05-14T18:45:37.588Z"
   },
   {
    "duration": 178,
    "start_time": "2022-05-14T18:45:37.974Z"
   },
   {
    "duration": 18,
    "start_time": "2022-05-14T18:45:38.154Z"
   },
   {
    "duration": 10,
    "start_time": "2022-05-14T18:45:38.174Z"
   },
   {
    "duration": 52,
    "start_time": "2022-05-14T18:45:38.185Z"
   },
   {
    "duration": 4,
    "start_time": "2022-05-14T18:45:38.239Z"
   },
   {
    "duration": 14,
    "start_time": "2022-05-14T18:45:38.245Z"
   },
   {
    "duration": 8,
    "start_time": "2022-05-14T18:45:38.261Z"
   },
   {
    "duration": 27,
    "start_time": "2022-05-14T18:45:38.271Z"
   },
   {
    "duration": 66,
    "start_time": "2022-05-14T18:45:38.301Z"
   },
   {
    "duration": 27,
    "start_time": "2022-05-14T18:45:38.368Z"
   },
   {
    "duration": 98,
    "start_time": "2022-05-14T18:45:38.397Z"
   },
   {
    "duration": 93,
    "start_time": "2022-05-14T18:45:38.497Z"
   },
   {
    "duration": 76,
    "start_time": "2022-05-14T18:45:38.592Z"
   },
   {
    "duration": 42,
    "start_time": "2022-05-14T18:45:38.670Z"
   },
   {
    "duration": 19,
    "start_time": "2022-05-14T18:45:38.714Z"
   },
   {
    "duration": 7,
    "start_time": "2022-05-14T18:45:38.735Z"
   },
   {
    "duration": 12,
    "start_time": "2022-05-14T18:45:38.744Z"
   },
   {
    "duration": 53,
    "start_time": "2022-05-14T18:45:38.758Z"
   },
   {
    "duration": 26,
    "start_time": "2022-05-14T18:45:38.813Z"
   },
   {
    "duration": 14,
    "start_time": "2022-05-14T18:45:38.841Z"
   },
   {
    "duration": 4,
    "start_time": "2022-05-14T18:45:38.857Z"
   },
   {
    "duration": 27,
    "start_time": "2022-05-14T18:45:38.863Z"
   },
   {
    "duration": 44,
    "start_time": "2022-05-14T18:45:38.891Z"
   },
   {
    "duration": 16,
    "start_time": "2022-05-14T18:45:38.937Z"
   },
   {
    "duration": 15,
    "start_time": "2022-05-14T18:45:38.955Z"
   },
   {
    "duration": 18,
    "start_time": "2022-05-14T18:45:38.972Z"
   },
   {
    "duration": 45,
    "start_time": "2022-05-14T18:45:38.994Z"
   },
   {
    "duration": 10,
    "start_time": "2022-05-14T18:45:39.041Z"
   },
   {
    "duration": 27,
    "start_time": "2022-05-14T18:45:39.052Z"
   },
   {
    "duration": 21,
    "start_time": "2022-05-14T18:45:39.081Z"
   },
   {
    "duration": 29,
    "start_time": "2022-05-14T18:45:39.105Z"
   },
   {
    "duration": 11,
    "start_time": "2022-05-14T18:45:39.136Z"
   },
   {
    "duration": 27,
    "start_time": "2022-05-14T18:45:39.148Z"
   },
   {
    "duration": 14,
    "start_time": "2022-05-14T18:45:39.177Z"
   },
   {
    "duration": 17,
    "start_time": "2022-05-14T18:45:39.192Z"
   },
   {
    "duration": 13,
    "start_time": "2022-05-14T18:45:39.233Z"
   },
   {
    "duration": 9,
    "start_time": "2022-05-14T18:45:39.248Z"
   },
   {
    "duration": 7,
    "start_time": "2022-05-14T18:45:39.259Z"
   },
   {
    "duration": 9,
    "start_time": "2022-05-14T18:45:39.268Z"
   },
   {
    "duration": 7,
    "start_time": "2022-05-14T18:45:39.278Z"
   },
   {
    "duration": 50,
    "start_time": "2022-05-14T20:31:34.875Z"
   },
   {
    "duration": 6,
    "start_time": "2022-05-14T20:33:31.636Z"
   },
   {
    "duration": 6,
    "start_time": "2022-05-14T20:33:35.510Z"
   },
   {
    "duration": 431,
    "start_time": "2022-05-14T20:33:57.328Z"
   },
   {
    "duration": 163,
    "start_time": "2022-05-14T20:33:57.761Z"
   },
   {
    "duration": 19,
    "start_time": "2022-05-14T20:33:57.926Z"
   },
   {
    "duration": 9,
    "start_time": "2022-05-14T20:33:57.947Z"
   },
   {
    "duration": 34,
    "start_time": "2022-05-14T20:33:57.958Z"
   },
   {
    "duration": 4,
    "start_time": "2022-05-14T20:33:57.994Z"
   },
   {
    "duration": 39,
    "start_time": "2022-05-14T20:33:57.999Z"
   },
   {
    "duration": 10,
    "start_time": "2022-05-14T20:33:58.040Z"
   },
   {
    "duration": 29,
    "start_time": "2022-05-14T20:33:58.051Z"
   },
   {
    "duration": 62,
    "start_time": "2022-05-14T20:33:58.084Z"
   },
   {
    "duration": 28,
    "start_time": "2022-05-14T20:33:58.148Z"
   },
   {
    "duration": 90,
    "start_time": "2022-05-14T20:33:58.178Z"
   },
   {
    "duration": 87,
    "start_time": "2022-05-14T20:33:58.269Z"
   },
   {
    "duration": 63,
    "start_time": "2022-05-14T20:33:58.358Z"
   },
   {
    "duration": 43,
    "start_time": "2022-05-14T20:33:58.433Z"
   },
   {
    "duration": 2,
    "start_time": "2022-05-14T20:33:58.478Z"
   },
   {
    "duration": 7,
    "start_time": "2022-05-14T20:33:58.482Z"
   },
   {
    "duration": 11,
    "start_time": "2022-05-14T20:33:58.491Z"
   },
   {
    "duration": 63,
    "start_time": "2022-05-14T20:33:58.504Z"
   },
   {
    "duration": 12,
    "start_time": "2022-05-14T20:33:58.568Z"
   },
   {
    "duration": 12,
    "start_time": "2022-05-14T20:33:58.582Z"
   },
   {
    "duration": 3,
    "start_time": "2022-05-14T20:33:58.596Z"
   },
   {
    "duration": 45,
    "start_time": "2022-05-14T20:33:58.601Z"
   },
   {
    "duration": 16,
    "start_time": "2022-05-14T20:33:58.648Z"
   },
   {
    "duration": 17,
    "start_time": "2022-05-14T20:33:58.665Z"
   },
   {
    "duration": 15,
    "start_time": "2022-05-14T20:33:58.684Z"
   },
   {
    "duration": 47,
    "start_time": "2022-05-14T20:33:58.701Z"
   },
   {
    "duration": 16,
    "start_time": "2022-05-14T20:33:58.752Z"
   },
   {
    "duration": 10,
    "start_time": "2022-05-14T20:33:58.769Z"
   },
   {
    "duration": 54,
    "start_time": "2022-05-14T20:33:58.782Z"
   },
   {
    "duration": 21,
    "start_time": "2022-05-14T20:33:58.838Z"
   },
   {
    "duration": 4,
    "start_time": "2022-05-14T20:33:58.861Z"
   },
   {
    "duration": 7,
    "start_time": "2022-05-14T20:33:58.867Z"
   },
   {
    "duration": 22,
    "start_time": "2022-05-14T20:33:58.876Z"
   },
   {
    "duration": 44,
    "start_time": "2022-05-14T20:33:58.900Z"
   },
   {
    "duration": 18,
    "start_time": "2022-05-14T20:33:58.946Z"
   },
   {
    "duration": 13,
    "start_time": "2022-05-14T20:33:58.966Z"
   },
   {
    "duration": 10,
    "start_time": "2022-05-14T20:33:58.981Z"
   },
   {
    "duration": 43,
    "start_time": "2022-05-14T20:33:58.993Z"
   },
   {
    "duration": 9,
    "start_time": "2022-05-14T20:33:59.038Z"
   },
   {
    "duration": 6,
    "start_time": "2022-05-14T20:33:59.048Z"
   },
   {
    "duration": 48,
    "start_time": "2022-05-14T20:35:06.513Z"
   },
   {
    "duration": 90,
    "start_time": "2022-05-14T20:36:57.889Z"
   },
   {
    "duration": 67,
    "start_time": "2022-05-14T20:37:14.992Z"
   },
   {
    "duration": 64,
    "start_time": "2022-05-14T20:37:42.569Z"
   },
   {
    "duration": 45,
    "start_time": "2022-05-14T20:37:48.197Z"
   },
   {
    "duration": 3,
    "start_time": "2022-05-14T20:38:01.986Z"
   },
   {
    "duration": 4,
    "start_time": "2022-05-14T20:38:02.584Z"
   },
   {
    "duration": 4,
    "start_time": "2022-05-14T20:38:26.514Z"
   },
   {
    "duration": 158,
    "start_time": "2022-05-14T20:38:38.404Z"
   },
   {
    "duration": 4,
    "start_time": "2022-05-14T20:38:50.281Z"
   },
   {
    "duration": 16,
    "start_time": "2022-05-14T20:38:57.555Z"
   },
   {
    "duration": 44,
    "start_time": "2022-05-14T20:38:59.380Z"
   },
   {
    "duration": 13,
    "start_time": "2022-05-14T20:39:19.988Z"
   },
   {
    "duration": 12,
    "start_time": "2022-05-14T20:39:29.704Z"
   },
   {
    "duration": 12,
    "start_time": "2022-05-14T20:39:37.606Z"
   },
   {
    "duration": 17,
    "start_time": "2022-05-14T20:39:47.372Z"
   },
   {
    "duration": 3,
    "start_time": "2022-05-14T20:39:53.558Z"
   },
   {
    "duration": 17,
    "start_time": "2022-05-14T20:39:57.047Z"
   },
   {
    "duration": 16,
    "start_time": "2022-05-14T20:39:57.486Z"
   },
   {
    "duration": 15,
    "start_time": "2022-05-14T20:39:57.828Z"
   },
   {
    "duration": 15,
    "start_time": "2022-05-14T20:39:58.173Z"
   },
   {
    "duration": 19,
    "start_time": "2022-05-14T20:39:58.866Z"
   },
   {
    "duration": 17,
    "start_time": "2022-05-14T20:40:00.398Z"
   },
   {
    "duration": 9,
    "start_time": "2022-05-14T20:40:04.338Z"
   },
   {
    "duration": 23,
    "start_time": "2022-05-14T20:40:09.037Z"
   },
   {
    "duration": 78,
    "start_time": "2022-05-14T20:40:25.635Z"
   },
   {
    "duration": 23,
    "start_time": "2022-05-14T20:40:38.500Z"
   },
   {
    "duration": 19,
    "start_time": "2022-05-14T20:40:52.782Z"
   },
   {
    "duration": 3,
    "start_time": "2022-05-14T20:40:56.888Z"
   },
   {
    "duration": 3,
    "start_time": "2022-05-14T20:41:04.066Z"
   },
   {
    "duration": 21,
    "start_time": "2022-05-14T20:41:09.716Z"
   },
   {
    "duration": 13,
    "start_time": "2022-05-14T20:41:11.290Z"
   },
   {
    "duration": 18,
    "start_time": "2022-05-14T20:41:12.071Z"
   },
   {
    "duration": 12,
    "start_time": "2022-05-14T20:41:12.711Z"
   },
   {
    "duration": 9,
    "start_time": "2022-05-14T20:41:16.467Z"
   },
   {
    "duration": 5,
    "start_time": "2022-05-14T20:41:21.243Z"
   },
   {
    "duration": 7,
    "start_time": "2022-05-14T20:41:23.635Z"
   },
   {
    "duration": 6,
    "start_time": "2022-05-14T20:41:27.735Z"
   },
   {
    "duration": 2,
    "start_time": "2022-05-14T20:44:20.829Z"
   },
   {
    "duration": 168,
    "start_time": "2022-05-14T20:44:26.889Z"
   },
   {
    "duration": 12,
    "start_time": "2022-05-14T20:44:36.772Z"
   },
   {
    "duration": 10,
    "start_time": "2022-05-14T20:44:46.090Z"
   },
   {
    "duration": 31,
    "start_time": "2022-05-14T20:44:58.464Z"
   },
   {
    "duration": 4,
    "start_time": "2022-05-14T20:45:37.155Z"
   },
   {
    "duration": 12,
    "start_time": "2022-05-14T20:45:45.224Z"
   },
   {
    "duration": 4,
    "start_time": "2022-05-14T20:45:48.355Z"
   },
   {
    "duration": 27,
    "start_time": "2022-05-14T20:45:51.599Z"
   },
   {
    "duration": 43,
    "start_time": "2022-05-14T20:45:59.336Z"
   },
   {
    "duration": 26,
    "start_time": "2022-05-14T20:46:15.842Z"
   },
   {
    "duration": 67,
    "start_time": "2022-05-14T20:46:17.177Z"
   },
   {
    "duration": 84,
    "start_time": "2022-05-14T20:46:23.101Z"
   },
   {
    "duration": 91,
    "start_time": "2022-05-14T20:46:35.004Z"
   },
   {
    "duration": 67,
    "start_time": "2022-05-14T20:47:02.486Z"
   },
   {
    "duration": 45,
    "start_time": "2022-05-14T20:49:30.692Z"
   },
   {
    "duration": 3,
    "start_time": "2022-05-14T20:49:40.400Z"
   },
   {
    "duration": 4,
    "start_time": "2022-05-14T20:49:40.948Z"
   },
   {
    "duration": 14,
    "start_time": "2022-05-14T20:49:43.873Z"
   },
   {
    "duration": 89,
    "start_time": "2022-05-14T20:52:43.332Z"
   },
   {
    "duration": 62,
    "start_time": "2022-05-14T20:52:47.478Z"
   },
   {
    "duration": 44,
    "start_time": "2022-05-14T20:52:55.792Z"
   },
   {
    "duration": 2,
    "start_time": "2022-05-14T20:53:09.321Z"
   },
   {
    "duration": 3,
    "start_time": "2022-05-14T20:53:14.387Z"
   },
   {
    "duration": 14,
    "start_time": "2022-05-14T20:53:28.302Z"
   },
   {
    "duration": 43,
    "start_time": "2022-05-14T20:53:44.398Z"
   },
   {
    "duration": 13,
    "start_time": "2022-05-14T20:53:59.586Z"
   },
   {
    "duration": 15,
    "start_time": "2022-05-14T20:54:02.133Z"
   },
   {
    "duration": 4,
    "start_time": "2022-05-14T20:54:04.894Z"
   },
   {
    "duration": 17,
    "start_time": "2022-05-14T20:54:06.072Z"
   },
   {
    "duration": 16,
    "start_time": "2022-05-14T20:54:06.327Z"
   },
   {
    "duration": 17,
    "start_time": "2022-05-14T20:54:06.652Z"
   },
   {
    "duration": 16,
    "start_time": "2022-05-14T20:54:06.926Z"
   },
   {
    "duration": 19,
    "start_time": "2022-05-14T20:54:07.220Z"
   },
   {
    "duration": 16,
    "start_time": "2022-05-14T20:54:07.493Z"
   },
   {
    "duration": 9,
    "start_time": "2022-05-14T20:54:08.275Z"
   },
   {
    "duration": 23,
    "start_time": "2022-05-14T20:54:09.991Z"
   },
   {
    "duration": 20,
    "start_time": "2022-05-14T20:54:10.499Z"
   },
   {
    "duration": 3,
    "start_time": "2022-05-14T20:54:13.357Z"
   },
   {
    "duration": 4,
    "start_time": "2022-05-14T20:54:13.954Z"
   },
   {
    "duration": 23,
    "start_time": "2022-05-14T20:54:16.629Z"
   },
   {
    "duration": 15,
    "start_time": "2022-05-14T20:54:17.194Z"
   },
   {
    "duration": 19,
    "start_time": "2022-05-14T20:54:18.010Z"
   },
   {
    "duration": 13,
    "start_time": "2022-05-14T20:54:18.364Z"
   },
   {
    "duration": 11,
    "start_time": "2022-05-14T20:54:19.734Z"
   },
   {
    "duration": 5,
    "start_time": "2022-05-14T20:54:20.346Z"
   },
   {
    "duration": 7,
    "start_time": "2022-05-14T20:54:20.972Z"
   },
   {
    "duration": 5,
    "start_time": "2022-05-14T20:54:21.728Z"
   },
   {
    "duration": 86,
    "start_time": "2022-05-14T20:57:55.128Z"
   },
   {
    "duration": 64,
    "start_time": "2022-05-14T20:58:09.585Z"
   },
   {
    "duration": 441,
    "start_time": "2022-05-14T20:58:54.429Z"
   },
   {
    "duration": 169,
    "start_time": "2022-05-14T20:58:54.871Z"
   },
   {
    "duration": 17,
    "start_time": "2022-05-14T20:58:55.042Z"
   },
   {
    "duration": 17,
    "start_time": "2022-05-14T20:58:55.061Z"
   },
   {
    "duration": 43,
    "start_time": "2022-05-14T20:58:55.081Z"
   },
   {
    "duration": 11,
    "start_time": "2022-05-14T20:58:55.126Z"
   },
   {
    "duration": 13,
    "start_time": "2022-05-14T20:58:55.138Z"
   },
   {
    "duration": 8,
    "start_time": "2022-05-14T20:58:55.153Z"
   },
   {
    "duration": 30,
    "start_time": "2022-05-14T20:58:55.163Z"
   },
   {
    "duration": 68,
    "start_time": "2022-05-14T20:58:55.195Z"
   },
   {
    "duration": 28,
    "start_time": "2022-05-14T20:58:55.264Z"
   },
   {
    "duration": 89,
    "start_time": "2022-05-14T20:58:55.293Z"
   },
   {
    "duration": 90,
    "start_time": "2022-05-14T20:58:55.383Z"
   },
   {
    "duration": 74,
    "start_time": "2022-05-14T20:58:55.476Z"
   },
   {
    "duration": 45,
    "start_time": "2022-05-14T20:58:55.552Z"
   },
   {
    "duration": 3,
    "start_time": "2022-05-14T20:58:55.598Z"
   },
   {
    "duration": 9,
    "start_time": "2022-05-14T20:58:55.602Z"
   },
   {
    "duration": 85,
    "start_time": "2022-05-14T20:58:55.612Z"
   },
   {
    "duration": 0,
    "start_time": "2022-05-14T20:58:55.699Z"
   },
   {
    "duration": 0,
    "start_time": "2022-05-14T20:58:55.700Z"
   },
   {
    "duration": 0,
    "start_time": "2022-05-14T20:58:55.701Z"
   },
   {
    "duration": 0,
    "start_time": "2022-05-14T20:58:55.702Z"
   },
   {
    "duration": 0,
    "start_time": "2022-05-14T20:58:55.703Z"
   },
   {
    "duration": 0,
    "start_time": "2022-05-14T20:58:55.704Z"
   },
   {
    "duration": 0,
    "start_time": "2022-05-14T20:58:55.705Z"
   },
   {
    "duration": 0,
    "start_time": "2022-05-14T20:58:55.706Z"
   },
   {
    "duration": 0,
    "start_time": "2022-05-14T20:58:55.708Z"
   },
   {
    "duration": 0,
    "start_time": "2022-05-14T20:58:55.709Z"
   },
   {
    "duration": 0,
    "start_time": "2022-05-14T20:58:55.710Z"
   },
   {
    "duration": 0,
    "start_time": "2022-05-14T20:58:55.711Z"
   },
   {
    "duration": 0,
    "start_time": "2022-05-14T20:58:55.712Z"
   },
   {
    "duration": 0,
    "start_time": "2022-05-14T20:58:55.734Z"
   },
   {
    "duration": 0,
    "start_time": "2022-05-14T20:58:55.735Z"
   },
   {
    "duration": 0,
    "start_time": "2022-05-14T20:58:55.736Z"
   },
   {
    "duration": 0,
    "start_time": "2022-05-14T20:58:55.737Z"
   },
   {
    "duration": 0,
    "start_time": "2022-05-14T20:58:55.738Z"
   },
   {
    "duration": 0,
    "start_time": "2022-05-14T20:58:55.739Z"
   },
   {
    "duration": 0,
    "start_time": "2022-05-14T20:58:55.740Z"
   },
   {
    "duration": 0,
    "start_time": "2022-05-14T20:58:55.741Z"
   },
   {
    "duration": 0,
    "start_time": "2022-05-14T20:58:55.742Z"
   },
   {
    "duration": 0,
    "start_time": "2022-05-14T20:58:55.743Z"
   },
   {
    "duration": 64,
    "start_time": "2022-05-14T20:59:06.051Z"
   },
   {
    "duration": 89,
    "start_time": "2022-05-14T20:59:14.007Z"
   },
   {
    "duration": 64,
    "start_time": "2022-05-14T20:59:21.637Z"
   },
   {
    "duration": 47,
    "start_time": "2022-05-14T20:59:25.792Z"
   },
   {
    "duration": 3,
    "start_time": "2022-05-14T20:59:31.770Z"
   },
   {
    "duration": 3,
    "start_time": "2022-05-14T20:59:34.227Z"
   },
   {
    "duration": 4,
    "start_time": "2022-05-14T20:59:58.636Z"
   },
   {
    "duration": 10,
    "start_time": "2022-05-14T21:00:04.193Z"
   },
   {
    "duration": 9,
    "start_time": "2022-05-14T21:00:09.303Z"
   },
   {
    "duration": 44,
    "start_time": "2022-05-14T21:00:16.415Z"
   },
   {
    "duration": 12,
    "start_time": "2022-05-14T21:00:38.952Z"
   },
   {
    "duration": 13,
    "start_time": "2022-05-14T21:00:45.159Z"
   },
   {
    "duration": 3,
    "start_time": "2022-05-14T21:00:55.378Z"
   },
   {
    "duration": 3,
    "start_time": "2022-05-14T21:01:16.628Z"
   },
   {
    "duration": 9,
    "start_time": "2022-05-14T21:01:21.285Z"
   },
   {
    "duration": 9,
    "start_time": "2022-05-14T21:01:21.578Z"
   },
   {
    "duration": 9,
    "start_time": "2022-05-14T21:01:22.603Z"
   },
   {
    "duration": 10,
    "start_time": "2022-05-14T21:01:23.273Z"
   },
   {
    "duration": 421,
    "start_time": "2022-05-14T21:01:31.864Z"
   },
   {
    "duration": 179,
    "start_time": "2022-05-14T21:01:32.287Z"
   },
   {
    "duration": 20,
    "start_time": "2022-05-14T21:01:32.468Z"
   },
   {
    "duration": 10,
    "start_time": "2022-05-14T21:01:32.490Z"
   },
   {
    "duration": 57,
    "start_time": "2022-05-14T21:01:32.502Z"
   },
   {
    "duration": 4,
    "start_time": "2022-05-14T21:01:32.561Z"
   },
   {
    "duration": 20,
    "start_time": "2022-05-14T21:01:32.568Z"
   },
   {
    "duration": 8,
    "start_time": "2022-05-14T21:01:32.590Z"
   },
   {
    "duration": 48,
    "start_time": "2022-05-14T21:01:32.600Z"
   },
   {
    "duration": 46,
    "start_time": "2022-05-14T21:01:32.653Z"
   },
   {
    "duration": 58,
    "start_time": "2022-05-14T21:01:32.701Z"
   },
   {
    "duration": 85,
    "start_time": "2022-05-14T21:01:32.761Z"
   },
   {
    "duration": 100,
    "start_time": "2022-05-14T21:01:32.848Z"
   },
   {
    "duration": 67,
    "start_time": "2022-05-14T21:01:32.950Z"
   },
   {
    "duration": 67,
    "start_time": "2022-05-14T21:01:33.018Z"
   },
   {
    "duration": 2,
    "start_time": "2022-05-14T21:01:33.087Z"
   },
   {
    "duration": 7,
    "start_time": "2022-05-14T21:01:33.091Z"
   },
   {
    "duration": 15,
    "start_time": "2022-05-14T21:01:33.100Z"
   },
   {
    "duration": 65,
    "start_time": "2022-05-14T21:01:33.117Z"
   },
   {
    "duration": 13,
    "start_time": "2022-05-14T21:01:33.183Z"
   },
   {
    "duration": 13,
    "start_time": "2022-05-14T21:01:33.198Z"
   },
   {
    "duration": 11,
    "start_time": "2022-05-14T21:01:33.234Z"
   },
   {
    "duration": 71,
    "start_time": "2022-05-14T21:01:33.247Z"
   },
   {
    "duration": 0,
    "start_time": "2022-05-14T21:01:33.320Z"
   },
   {
    "duration": 0,
    "start_time": "2022-05-14T21:01:33.322Z"
   },
   {
    "duration": 0,
    "start_time": "2022-05-14T21:01:33.323Z"
   },
   {
    "duration": 0,
    "start_time": "2022-05-14T21:01:33.324Z"
   },
   {
    "duration": 0,
    "start_time": "2022-05-14T21:01:33.335Z"
   },
   {
    "duration": 0,
    "start_time": "2022-05-14T21:01:33.337Z"
   },
   {
    "duration": 0,
    "start_time": "2022-05-14T21:01:33.338Z"
   },
   {
    "duration": 0,
    "start_time": "2022-05-14T21:01:33.339Z"
   },
   {
    "duration": 0,
    "start_time": "2022-05-14T21:01:33.341Z"
   },
   {
    "duration": 0,
    "start_time": "2022-05-14T21:01:33.342Z"
   },
   {
    "duration": 0,
    "start_time": "2022-05-14T21:01:33.344Z"
   },
   {
    "duration": 0,
    "start_time": "2022-05-14T21:01:33.345Z"
   },
   {
    "duration": 0,
    "start_time": "2022-05-14T21:01:33.346Z"
   },
   {
    "duration": 0,
    "start_time": "2022-05-14T21:01:33.348Z"
   },
   {
    "duration": 0,
    "start_time": "2022-05-14T21:01:33.349Z"
   },
   {
    "duration": 0,
    "start_time": "2022-05-14T21:01:33.350Z"
   },
   {
    "duration": 0,
    "start_time": "2022-05-14T21:01:33.352Z"
   },
   {
    "duration": 0,
    "start_time": "2022-05-14T21:01:33.353Z"
   },
   {
    "duration": 66,
    "start_time": "2022-05-14T21:01:40.646Z"
   },
   {
    "duration": 99,
    "start_time": "2022-05-14T21:01:43.310Z"
   },
   {
    "duration": 100,
    "start_time": "2022-05-14T21:01:50.405Z"
   },
   {
    "duration": 52,
    "start_time": "2022-05-14T21:01:53.533Z"
   },
   {
    "duration": 2,
    "start_time": "2022-05-14T21:02:08.354Z"
   },
   {
    "duration": 3,
    "start_time": "2022-05-14T21:02:10.416Z"
   },
   {
    "duration": 10,
    "start_time": "2022-05-14T21:02:22.716Z"
   },
   {
    "duration": 53,
    "start_time": "2022-05-14T21:02:26.706Z"
   },
   {
    "duration": 12,
    "start_time": "2022-05-14T21:02:46.701Z"
   },
   {
    "duration": 14,
    "start_time": "2022-05-14T21:02:53.097Z"
   },
   {
    "duration": 4,
    "start_time": "2022-05-14T21:03:10.451Z"
   },
   {
    "duration": 19,
    "start_time": "2022-05-14T21:03:13.456Z"
   },
   {
    "duration": 18,
    "start_time": "2022-05-14T21:03:14.322Z"
   },
   {
    "duration": 22,
    "start_time": "2022-05-14T21:03:14.734Z"
   },
   {
    "duration": 18,
    "start_time": "2022-05-14T21:03:15.149Z"
   },
   {
    "duration": 21,
    "start_time": "2022-05-14T21:03:15.586Z"
   },
   {
    "duration": 18,
    "start_time": "2022-05-14T21:03:16.601Z"
   },
   {
    "duration": 9,
    "start_time": "2022-05-14T21:03:18.802Z"
   },
   {
    "duration": 26,
    "start_time": "2022-05-14T21:03:32.437Z"
   },
   {
    "duration": 21,
    "start_time": "2022-05-14T21:03:38.746Z"
   },
   {
    "duration": 3,
    "start_time": "2022-05-14T21:03:47.585Z"
   },
   {
    "duration": 4,
    "start_time": "2022-05-14T21:03:56.355Z"
   },
   {
    "duration": 22,
    "start_time": "2022-05-14T21:04:20.454Z"
   },
   {
    "duration": 14,
    "start_time": "2022-05-14T21:04:21.582Z"
   },
   {
    "duration": 18,
    "start_time": "2022-05-14T21:04:23.063Z"
   },
   {
    "duration": 13,
    "start_time": "2022-05-14T21:04:23.754Z"
   },
   {
    "duration": 9,
    "start_time": "2022-05-14T21:04:26.870Z"
   },
   {
    "duration": 5,
    "start_time": "2022-05-14T21:04:29.414Z"
   },
   {
    "duration": 8,
    "start_time": "2022-05-14T21:04:30.865Z"
   },
   {
    "duration": 5,
    "start_time": "2022-05-14T21:04:35.484Z"
   },
   {
    "duration": 51,
    "start_time": "2022-05-15T09:13:58.571Z"
   },
   {
    "duration": 8,
    "start_time": "2022-05-15T09:14:13.519Z"
   },
   {
    "duration": 406,
    "start_time": "2022-05-15T09:14:30.469Z"
   },
   {
    "duration": 189,
    "start_time": "2022-05-15T09:14:30.877Z"
   },
   {
    "duration": 19,
    "start_time": "2022-05-15T09:14:31.067Z"
   },
   {
    "duration": 24,
    "start_time": "2022-05-15T09:14:31.088Z"
   },
   {
    "duration": 49,
    "start_time": "2022-05-15T09:14:31.114Z"
   },
   {
    "duration": 11,
    "start_time": "2022-05-15T09:14:31.164Z"
   },
   {
    "duration": 19,
    "start_time": "2022-05-15T09:14:31.176Z"
   },
   {
    "duration": 9,
    "start_time": "2022-05-15T09:14:31.197Z"
   },
   {
    "duration": 42,
    "start_time": "2022-05-15T09:14:31.207Z"
   },
   {
    "duration": 41,
    "start_time": "2022-05-15T09:14:31.252Z"
   },
   {
    "duration": 52,
    "start_time": "2022-05-15T09:14:31.295Z"
   },
   {
    "duration": 76,
    "start_time": "2022-05-15T09:14:31.349Z"
   },
   {
    "duration": 84,
    "start_time": "2022-05-15T09:14:31.429Z"
   },
   {
    "duration": 68,
    "start_time": "2022-05-15T09:14:31.526Z"
   },
   {
    "duration": 65,
    "start_time": "2022-05-15T09:14:31.596Z"
   },
   {
    "duration": 2,
    "start_time": "2022-05-15T09:14:31.663Z"
   },
   {
    "duration": 8,
    "start_time": "2022-05-15T09:14:31.667Z"
   },
   {
    "duration": 10,
    "start_time": "2022-05-15T09:14:31.677Z"
   },
   {
    "duration": 72,
    "start_time": "2022-05-15T09:14:31.689Z"
   },
   {
    "duration": 15,
    "start_time": "2022-05-15T09:14:31.763Z"
   },
   {
    "duration": 14,
    "start_time": "2022-05-15T09:14:31.780Z"
   },
   {
    "duration": 5,
    "start_time": "2022-05-15T09:14:31.795Z"
   },
   {
    "duration": 47,
    "start_time": "2022-05-15T09:14:31.802Z"
   },
   {
    "duration": 17,
    "start_time": "2022-05-15T09:14:31.850Z"
   },
   {
    "duration": 16,
    "start_time": "2022-05-15T09:14:31.869Z"
   },
   {
    "duration": 51,
    "start_time": "2022-05-15T09:14:31.886Z"
   },
   {
    "duration": 20,
    "start_time": "2022-05-15T09:14:31.941Z"
   },
   {
    "duration": 17,
    "start_time": "2022-05-15T09:14:31.966Z"
   },
   {
    "duration": 9,
    "start_time": "2022-05-15T09:14:31.984Z"
   },
   {
    "duration": 53,
    "start_time": "2022-05-15T09:14:31.994Z"
   },
   {
    "duration": 20,
    "start_time": "2022-05-15T09:14:32.049Z"
   },
   {
    "duration": 5,
    "start_time": "2022-05-15T09:14:32.071Z"
   },
   {
    "duration": 11,
    "start_time": "2022-05-15T09:14:32.078Z"
   },
   {
    "duration": 50,
    "start_time": "2022-05-15T09:14:32.091Z"
   },
   {
    "duration": 14,
    "start_time": "2022-05-15T09:14:32.143Z"
   },
   {
    "duration": 21,
    "start_time": "2022-05-15T09:14:32.159Z"
   },
   {
    "duration": 15,
    "start_time": "2022-05-15T09:14:32.182Z"
   },
   {
    "duration": 28,
    "start_time": "2022-05-15T09:14:32.199Z"
   },
   {
    "duration": 9,
    "start_time": "2022-05-15T09:14:32.231Z"
   },
   {
    "duration": 14,
    "start_time": "2022-05-15T09:14:32.243Z"
   },
   {
    "duration": 7,
    "start_time": "2022-05-15T09:14:32.258Z"
   },
   {
    "duration": 4,
    "start_time": "2022-05-15T09:14:36.610Z"
   },
   {
    "duration": 5,
    "start_time": "2022-05-15T09:14:46.755Z"
   },
   {
    "duration": 3,
    "start_time": "2022-05-15T09:14:53.039Z"
   },
   {
    "duration": 185,
    "start_time": "2022-05-15T09:14:54.547Z"
   },
   {
    "duration": 17,
    "start_time": "2022-05-15T09:14:57.317Z"
   },
   {
    "duration": 10,
    "start_time": "2022-05-15T09:15:02.289Z"
   },
   {
    "duration": 38,
    "start_time": "2022-05-15T09:15:09.910Z"
   },
   {
    "duration": 5,
    "start_time": "2022-05-15T09:15:15.881Z"
   },
   {
    "duration": 11,
    "start_time": "2022-05-15T09:15:20.015Z"
   },
   {
    "duration": 4,
    "start_time": "2022-05-15T09:15:22.661Z"
   },
   {
    "duration": 26,
    "start_time": "2022-05-15T09:15:24.946Z"
   },
   {
    "duration": 41,
    "start_time": "2022-05-15T09:15:29.755Z"
   },
   {
    "duration": 26,
    "start_time": "2022-05-15T09:15:36.074Z"
   },
   {
    "duration": 71,
    "start_time": "2022-05-15T09:15:38.327Z"
   },
   {
    "duration": 84,
    "start_time": "2022-05-15T09:15:41.087Z"
   },
   {
    "duration": 64,
    "start_time": "2022-05-15T09:15:48.553Z"
   },
   {
    "duration": 51,
    "start_time": "2022-05-15T09:15:56.111Z"
   },
   {
    "duration": 2,
    "start_time": "2022-05-15T09:16:00.980Z"
   },
   {
    "duration": 3,
    "start_time": "2022-05-15T09:16:01.580Z"
   },
   {
    "duration": 11,
    "start_time": "2022-05-15T09:16:06.264Z"
   },
   {
    "duration": 44,
    "start_time": "2022-05-15T09:16:08.648Z"
   },
   {
    "duration": 17,
    "start_time": "2022-05-15T09:16:21.246Z"
   },
   {
    "duration": 13,
    "start_time": "2022-05-15T09:16:25.871Z"
   },
   {
    "duration": 4,
    "start_time": "2022-05-15T09:16:30.975Z"
   },
   {
    "duration": 19,
    "start_time": "2022-05-15T09:16:33.288Z"
   },
   {
    "duration": 16,
    "start_time": "2022-05-15T09:16:33.551Z"
   },
   {
    "duration": 17,
    "start_time": "2022-05-15T09:16:34.182Z"
   },
   {
    "duration": 19,
    "start_time": "2022-05-15T09:16:34.526Z"
   },
   {
    "duration": 20,
    "start_time": "2022-05-15T09:16:34.830Z"
   },
   {
    "duration": 17,
    "start_time": "2022-05-15T09:16:35.186Z"
   },
   {
    "duration": 8,
    "start_time": "2022-05-15T09:16:38.299Z"
   },
   {
    "duration": 23,
    "start_time": "2022-05-15T09:17:18.181Z"
   },
   {
    "duration": 22,
    "start_time": "2022-05-15T09:17:26.296Z"
   },
   {
    "duration": 4,
    "start_time": "2022-05-15T09:17:29.512Z"
   },
   {
    "duration": 5,
    "start_time": "2022-05-15T09:17:30.395Z"
   },
   {
    "duration": 22,
    "start_time": "2022-05-15T09:17:34.728Z"
   },
   {
    "duration": 12,
    "start_time": "2022-05-15T09:17:35.468Z"
   },
   {
    "duration": 19,
    "start_time": "2022-05-15T09:17:36.077Z"
   },
   {
    "duration": 14,
    "start_time": "2022-05-15T09:17:36.583Z"
   },
   {
    "duration": 14,
    "start_time": "2022-05-15T09:17:41.898Z"
   },
   {
    "duration": 5,
    "start_time": "2022-05-15T09:17:48.300Z"
   },
   {
    "duration": 7,
    "start_time": "2022-05-15T09:17:49.973Z"
   },
   {
    "duration": 6,
    "start_time": "2022-05-15T09:17:50.664Z"
   },
   {
    "duration": 72,
    "start_time": "2022-05-15T09:20:07.364Z"
   },
   {
    "duration": 62,
    "start_time": "2022-05-15T09:20:10.875Z"
   },
   {
    "duration": 72,
    "start_time": "2022-05-15T09:20:12.969Z"
   },
   {
    "duration": 73,
    "start_time": "2022-05-15T09:20:20.648Z"
   },
   {
    "duration": 42,
    "start_time": "2022-05-15T09:20:32.614Z"
   },
   {
    "duration": 456,
    "start_time": "2022-05-15T09:21:16.083Z"
   },
   {
    "duration": 173,
    "start_time": "2022-05-15T09:21:16.541Z"
   },
   {
    "duration": 20,
    "start_time": "2022-05-15T09:21:16.716Z"
   },
   {
    "duration": 10,
    "start_time": "2022-05-15T09:21:16.738Z"
   },
   {
    "duration": 35,
    "start_time": "2022-05-15T09:21:16.750Z"
   },
   {
    "duration": 4,
    "start_time": "2022-05-15T09:21:16.787Z"
   },
   {
    "duration": 11,
    "start_time": "2022-05-15T09:21:16.823Z"
   },
   {
    "duration": 8,
    "start_time": "2022-05-15T09:21:16.836Z"
   },
   {
    "duration": 29,
    "start_time": "2022-05-15T09:21:16.845Z"
   },
   {
    "duration": 59,
    "start_time": "2022-05-15T09:21:16.877Z"
   },
   {
    "duration": 26,
    "start_time": "2022-05-15T09:21:16.938Z"
   },
   {
    "duration": 90,
    "start_time": "2022-05-15T09:21:16.966Z"
   },
   {
    "duration": 97,
    "start_time": "2022-05-15T09:21:17.058Z"
   },
   {
    "duration": 75,
    "start_time": "2022-05-15T09:21:17.156Z"
   },
   {
    "duration": 41,
    "start_time": "2022-05-15T09:21:17.233Z"
   },
   {
    "duration": 3,
    "start_time": "2022-05-15T09:21:17.275Z"
   },
   {
    "duration": 6,
    "start_time": "2022-05-15T09:21:17.280Z"
   },
   {
    "duration": 35,
    "start_time": "2022-05-15T09:21:17.288Z"
   },
   {
    "duration": 42,
    "start_time": "2022-05-15T09:21:17.324Z"
   },
   {
    "duration": 12,
    "start_time": "2022-05-15T09:21:17.368Z"
   },
   {
    "duration": 12,
    "start_time": "2022-05-15T09:21:17.381Z"
   },
   {
    "duration": 28,
    "start_time": "2022-05-15T09:21:17.395Z"
   },
   {
    "duration": 20,
    "start_time": "2022-05-15T09:21:17.425Z"
   },
   {
    "duration": 16,
    "start_time": "2022-05-15T09:21:17.447Z"
   },
   {
    "duration": 17,
    "start_time": "2022-05-15T09:21:17.465Z"
   },
   {
    "duration": 49,
    "start_time": "2022-05-15T09:21:17.483Z"
   },
   {
    "duration": 18,
    "start_time": "2022-05-15T09:21:17.534Z"
   },
   {
    "duration": 17,
    "start_time": "2022-05-15T09:21:17.555Z"
   },
   {
    "duration": 9,
    "start_time": "2022-05-15T09:21:17.574Z"
   },
   {
    "duration": 54,
    "start_time": "2022-05-15T09:21:17.585Z"
   },
   {
    "duration": 21,
    "start_time": "2022-05-15T09:21:17.641Z"
   },
   {
    "duration": 4,
    "start_time": "2022-05-15T09:21:17.664Z"
   },
   {
    "duration": 7,
    "start_time": "2022-05-15T09:21:17.670Z"
   },
   {
    "duration": 53,
    "start_time": "2022-05-15T09:21:17.679Z"
   },
   {
    "duration": 15,
    "start_time": "2022-05-15T09:21:17.734Z"
   },
   {
    "duration": 19,
    "start_time": "2022-05-15T09:21:17.751Z"
   },
   {
    "duration": 14,
    "start_time": "2022-05-15T09:21:17.772Z"
   },
   {
    "duration": 40,
    "start_time": "2022-05-15T09:21:17.788Z"
   },
   {
    "duration": 5,
    "start_time": "2022-05-15T09:21:17.830Z"
   },
   {
    "duration": 8,
    "start_time": "2022-05-15T09:21:17.837Z"
   },
   {
    "duration": 6,
    "start_time": "2022-05-15T09:21:17.847Z"
   },
   {
    "duration": 64,
    "start_time": "2022-05-15T09:21:26.450Z"
   },
   {
    "duration": 79,
    "start_time": "2022-05-15T09:21:29.704Z"
   },
   {
    "duration": 64,
    "start_time": "2022-05-15T09:21:31.104Z"
   },
   {
    "duration": 75,
    "start_time": "2022-05-15T09:21:42.723Z"
   },
   {
    "duration": 63,
    "start_time": "2022-05-15T09:21:46.328Z"
   },
   {
    "duration": 24,
    "start_time": "2022-05-15T09:21:52.102Z"
   },
   {
    "duration": 57,
    "start_time": "2022-05-15T09:21:53.520Z"
   },
   {
    "duration": 80,
    "start_time": "2022-05-15T09:21:54.777Z"
   },
   {
    "duration": 61,
    "start_time": "2022-05-15T09:21:58.615Z"
   },
   {
    "duration": 2,
    "start_time": "2022-05-15T09:22:16.143Z"
   },
   {
    "duration": 193,
    "start_time": "2022-05-15T09:22:17.391Z"
   },
   {
    "duration": 12,
    "start_time": "2022-05-15T09:22:19.096Z"
   },
   {
    "duration": 10,
    "start_time": "2022-05-15T09:22:33.659Z"
   },
   {
    "duration": 31,
    "start_time": "2022-05-15T09:22:35.597Z"
   },
   {
    "duration": 4,
    "start_time": "2022-05-15T09:22:40.741Z"
   },
   {
    "duration": 6,
    "start_time": "2022-05-15T09:22:43.674Z"
   },
   {
    "duration": 5,
    "start_time": "2022-05-15T09:22:45.622Z"
   },
   {
    "duration": 35,
    "start_time": "2022-05-15T09:22:49.316Z"
   },
   {
    "duration": 42,
    "start_time": "2022-05-15T09:22:51.913Z"
   },
   {
    "duration": 25,
    "start_time": "2022-05-15T09:23:00.899Z"
   },
   {
    "duration": 63,
    "start_time": "2022-05-15T09:23:02.090Z"
   },
   {
    "duration": 82,
    "start_time": "2022-05-15T09:23:13.280Z"
   },
   {
    "duration": 64,
    "start_time": "2022-05-15T09:23:39.979Z"
   },
   {
    "duration": 66,
    "start_time": "2022-05-15T09:25:33.083Z"
   },
   {
    "duration": 67,
    "start_time": "2022-05-15T09:25:36.029Z"
   },
   {
    "duration": 544,
    "start_time": "2022-05-15T09:26:11.284Z"
   },
   {
    "duration": 242,
    "start_time": "2022-05-15T09:26:11.831Z"
   },
   {
    "duration": 28,
    "start_time": "2022-05-15T09:26:12.076Z"
   },
   {
    "duration": 23,
    "start_time": "2022-05-15T09:26:12.107Z"
   },
   {
    "duration": 44,
    "start_time": "2022-05-15T09:26:12.132Z"
   },
   {
    "duration": 10,
    "start_time": "2022-05-15T09:26:12.178Z"
   },
   {
    "duration": 19,
    "start_time": "2022-05-15T09:26:12.190Z"
   },
   {
    "duration": 21,
    "start_time": "2022-05-15T09:26:12.211Z"
   },
   {
    "duration": 60,
    "start_time": "2022-05-15T09:26:12.234Z"
   },
   {
    "duration": 82,
    "start_time": "2022-05-15T09:26:12.300Z"
   },
   {
    "duration": 53,
    "start_time": "2022-05-15T09:26:12.384Z"
   },
   {
    "duration": 136,
    "start_time": "2022-05-15T09:26:12.439Z"
   },
   {
    "duration": 146,
    "start_time": "2022-05-15T09:26:12.577Z"
   },
   {
    "duration": 99,
    "start_time": "2022-05-15T09:26:12.725Z"
   },
   {
    "duration": 73,
    "start_time": "2022-05-15T09:26:12.827Z"
   },
   {
    "duration": 3,
    "start_time": "2022-05-15T09:26:12.903Z"
   },
   {
    "duration": 4,
    "start_time": "2022-05-15T09:26:12.923Z"
   },
   {
    "duration": 19,
    "start_time": "2022-05-15T09:26:12.929Z"
   },
   {
    "duration": 86,
    "start_time": "2022-05-15T09:26:12.950Z"
   },
   {
    "duration": 18,
    "start_time": "2022-05-15T09:26:13.038Z"
   },
   {
    "duration": 17,
    "start_time": "2022-05-15T09:26:13.059Z"
   },
   {
    "duration": 4,
    "start_time": "2022-05-15T09:26:13.079Z"
   },
   {
    "duration": 55,
    "start_time": "2022-05-15T09:26:13.085Z"
   },
   {
    "duration": 24,
    "start_time": "2022-05-15T09:26:13.142Z"
   },
   {
    "duration": 22,
    "start_time": "2022-05-15T09:26:13.168Z"
   },
   {
    "duration": 35,
    "start_time": "2022-05-15T09:26:13.192Z"
   },
   {
    "duration": 20,
    "start_time": "2022-05-15T09:26:13.228Z"
   },
   {
    "duration": 19,
    "start_time": "2022-05-15T09:26:13.251Z"
   },
   {
    "duration": 17,
    "start_time": "2022-05-15T09:26:13.272Z"
   },
   {
    "duration": 63,
    "start_time": "2022-05-15T09:26:13.292Z"
   },
   {
    "duration": 31,
    "start_time": "2022-05-15T09:26:13.357Z"
   },
   {
    "duration": 4,
    "start_time": "2022-05-15T09:26:13.390Z"
   },
   {
    "duration": 27,
    "start_time": "2022-05-15T09:26:13.396Z"
   },
   {
    "duration": 33,
    "start_time": "2022-05-15T09:26:13.424Z"
   },
   {
    "duration": 15,
    "start_time": "2022-05-15T09:26:13.459Z"
   },
   {
    "duration": 26,
    "start_time": "2022-05-15T09:26:13.475Z"
   },
   {
    "duration": 23,
    "start_time": "2022-05-15T09:26:13.503Z"
   },
   {
    "duration": 11,
    "start_time": "2022-05-15T09:26:13.528Z"
   },
   {
    "duration": 15,
    "start_time": "2022-05-15T09:26:13.541Z"
   },
   {
    "duration": 29,
    "start_time": "2022-05-15T09:26:13.558Z"
   },
   {
    "duration": 22,
    "start_time": "2022-05-15T09:26:13.589Z"
   },
   {
    "duration": 82,
    "start_time": "2022-05-15T09:26:18.944Z"
   },
   {
    "duration": 65,
    "start_time": "2022-05-15T09:26:21.711Z"
   },
   {
    "duration": 79,
    "start_time": "2022-05-15T09:27:25.801Z"
   },
   {
    "duration": 3,
    "start_time": "2022-05-15T09:27:26.526Z"
   },
   {
    "duration": 63,
    "start_time": "2022-05-15T09:27:28.592Z"
   },
   {
    "duration": 73,
    "start_time": "2022-05-15T09:27:30.465Z"
   },
   {
    "duration": 3,
    "start_time": "2022-05-15T09:27:31.023Z"
   },
   {
    "duration": 65,
    "start_time": "2022-05-15T09:27:32.606Z"
   },
   {
    "duration": 2,
    "start_time": "2022-05-15T09:27:44.509Z"
   },
   {
    "duration": 174,
    "start_time": "2022-05-15T09:27:45.374Z"
   },
   {
    "duration": 14,
    "start_time": "2022-05-15T09:27:46.024Z"
   },
   {
    "duration": 10,
    "start_time": "2022-05-15T09:27:50.154Z"
   },
   {
    "duration": 40,
    "start_time": "2022-05-15T09:27:51.584Z"
   },
   {
    "duration": 4,
    "start_time": "2022-05-15T09:27:55.959Z"
   },
   {
    "duration": 7,
    "start_time": "2022-05-15T09:27:57.552Z"
   },
   {
    "duration": 4,
    "start_time": "2022-05-15T09:27:59.065Z"
   },
   {
    "duration": 26,
    "start_time": "2022-05-15T09:28:02.394Z"
   },
   {
    "duration": 43,
    "start_time": "2022-05-15T09:28:05.053Z"
   },
   {
    "duration": 27,
    "start_time": "2022-05-15T09:28:13.060Z"
   },
   {
    "duration": 73,
    "start_time": "2022-05-15T09:28:14.898Z"
   },
   {
    "duration": 80,
    "start_time": "2022-05-15T09:28:19.826Z"
   },
   {
    "duration": 3,
    "start_time": "2022-05-15T09:28:21.325Z"
   },
   {
    "duration": 68,
    "start_time": "2022-05-15T09:28:37.245Z"
   },
   {
    "duration": 2,
    "start_time": "2022-05-15T09:28:37.677Z"
   },
   {
    "duration": 63,
    "start_time": "2022-05-15T09:28:38.992Z"
   },
   {
    "duration": 44,
    "start_time": "2022-05-15T09:28:53.024Z"
   },
   {
    "duration": 2,
    "start_time": "2022-05-15T09:28:57.543Z"
   },
   {
    "duration": 4,
    "start_time": "2022-05-15T09:28:57.827Z"
   },
   {
    "duration": 10,
    "start_time": "2022-05-15T09:29:01.194Z"
   },
   {
    "duration": 41,
    "start_time": "2022-05-15T09:29:01.786Z"
   },
   {
    "duration": 12,
    "start_time": "2022-05-15T09:29:07.682Z"
   },
   {
    "duration": 13,
    "start_time": "2022-05-15T09:29:09.488Z"
   },
   {
    "duration": 3,
    "start_time": "2022-05-15T09:29:10.911Z"
   },
   {
    "duration": 22,
    "start_time": "2022-05-15T09:29:12.224Z"
   },
   {
    "duration": 16,
    "start_time": "2022-05-15T09:29:12.899Z"
   },
   {
    "duration": 21,
    "start_time": "2022-05-15T09:29:13.214Z"
   },
   {
    "duration": 16,
    "start_time": "2022-05-15T09:29:13.551Z"
   },
   {
    "duration": 25,
    "start_time": "2022-05-15T09:29:13.822Z"
   },
   {
    "duration": 16,
    "start_time": "2022-05-15T09:29:14.087Z"
   },
   {
    "duration": 9,
    "start_time": "2022-05-15T09:29:14.838Z"
   },
   {
    "duration": 34,
    "start_time": "2022-05-15T09:29:17.628Z"
   },
   {
    "duration": 38,
    "start_time": "2022-05-15T09:29:18.790Z"
   },
   {
    "duration": 3,
    "start_time": "2022-05-15T09:29:26.738Z"
   },
   {
    "duration": 4,
    "start_time": "2022-05-15T09:29:32.284Z"
   },
   {
    "duration": 20,
    "start_time": "2022-05-15T09:29:41.934Z"
   },
   {
    "duration": 15,
    "start_time": "2022-05-15T09:29:47.708Z"
   },
   {
    "duration": 19,
    "start_time": "2022-05-15T09:29:48.581Z"
   },
   {
    "duration": 13,
    "start_time": "2022-05-15T09:29:49.059Z"
   },
   {
    "duration": 9,
    "start_time": "2022-05-15T09:29:55.005Z"
   },
   {
    "duration": 6,
    "start_time": "2022-05-15T09:29:59.297Z"
   },
   {
    "duration": 6,
    "start_time": "2022-05-15T09:30:00.962Z"
   },
   {
    "duration": 6,
    "start_time": "2022-05-15T09:30:02.129Z"
   },
   {
    "duration": 515,
    "start_time": "2022-05-15T19:28:03.465Z"
   },
   {
    "duration": 226,
    "start_time": "2022-05-15T19:28:03.983Z"
   },
   {
    "duration": 32,
    "start_time": "2022-05-15T19:28:04.211Z"
   },
   {
    "duration": 14,
    "start_time": "2022-05-15T19:28:04.246Z"
   },
   {
    "duration": 70,
    "start_time": "2022-05-15T19:28:04.262Z"
   },
   {
    "duration": 5,
    "start_time": "2022-05-15T19:28:04.335Z"
   },
   {
    "duration": 21,
    "start_time": "2022-05-15T19:28:04.342Z"
   },
   {
    "duration": 13,
    "start_time": "2022-05-15T19:28:04.366Z"
   },
   {
    "duration": 58,
    "start_time": "2022-05-15T19:28:04.381Z"
   },
   {
    "duration": 71,
    "start_time": "2022-05-15T19:28:04.443Z"
   },
   {
    "duration": 40,
    "start_time": "2022-05-15T19:28:04.516Z"
   },
   {
    "duration": 126,
    "start_time": "2022-05-15T19:28:04.558Z"
   },
   {
    "duration": 138,
    "start_time": "2022-05-15T19:28:04.686Z"
   },
   {
    "duration": 3,
    "start_time": "2022-05-15T19:28:04.826Z"
   },
   {
    "duration": 116,
    "start_time": "2022-05-15T19:28:04.831Z"
   },
   {
    "duration": 56,
    "start_time": "2022-05-15T19:28:04.949Z"
   },
   {
    "duration": 18,
    "start_time": "2022-05-15T19:28:05.007Z"
   },
   {
    "duration": 15,
    "start_time": "2022-05-15T19:28:05.027Z"
   },
   {
    "duration": 18,
    "start_time": "2022-05-15T19:28:05.044Z"
   },
   {
    "duration": 71,
    "start_time": "2022-05-15T19:28:05.065Z"
   },
   {
    "duration": 16,
    "start_time": "2022-05-15T19:28:05.138Z"
   },
   {
    "duration": 16,
    "start_time": "2022-05-15T19:28:05.156Z"
   },
   {
    "duration": 5,
    "start_time": "2022-05-15T19:28:05.174Z"
   },
   {
    "duration": 61,
    "start_time": "2022-05-15T19:28:05.181Z"
   },
   {
    "duration": 22,
    "start_time": "2022-05-15T19:28:05.244Z"
   },
   {
    "duration": 22,
    "start_time": "2022-05-15T19:28:05.268Z"
   },
   {
    "duration": 48,
    "start_time": "2022-05-15T19:28:05.292Z"
   },
   {
    "duration": 24,
    "start_time": "2022-05-15T19:28:05.346Z"
   },
   {
    "duration": 26,
    "start_time": "2022-05-15T19:28:05.373Z"
   },
   {
    "duration": 12,
    "start_time": "2022-05-15T19:28:05.425Z"
   },
   {
    "duration": 47,
    "start_time": "2022-05-15T19:28:05.440Z"
   },
   {
    "duration": 45,
    "start_time": "2022-05-15T19:28:05.490Z"
   },
   {
    "duration": 4,
    "start_time": "2022-05-15T19:28:05.537Z"
   },
   {
    "duration": 24,
    "start_time": "2022-05-15T19:28:05.543Z"
   },
   {
    "duration": 42,
    "start_time": "2022-05-15T19:28:05.569Z"
   },
   {
    "duration": 18,
    "start_time": "2022-05-15T19:28:05.613Z"
   },
   {
    "duration": 47,
    "start_time": "2022-05-15T19:28:05.633Z"
   },
   {
    "duration": 18,
    "start_time": "2022-05-15T19:28:05.683Z"
   },
   {
    "duration": 25,
    "start_time": "2022-05-15T19:28:05.703Z"
   },
   {
    "duration": 10,
    "start_time": "2022-05-15T19:28:05.730Z"
   },
   {
    "duration": 37,
    "start_time": "2022-05-15T19:28:05.742Z"
   },
   {
    "duration": 19,
    "start_time": "2022-05-15T19:28:05.781Z"
   },
   {
    "duration": 69,
    "start_time": "2022-05-25T12:53:13.019Z"
   },
   {
    "duration": 672,
    "start_time": "2022-05-25T12:53:35.247Z"
   },
   {
    "duration": 260,
    "start_time": "2022-05-25T12:53:35.921Z"
   },
   {
    "duration": 19,
    "start_time": "2022-05-25T12:53:36.581Z"
   },
   {
    "duration": 10,
    "start_time": "2022-05-25T12:53:37.431Z"
   },
   {
    "duration": 39,
    "start_time": "2022-05-25T12:53:37.854Z"
   },
   {
    "duration": 3,
    "start_time": "2022-05-25T12:53:39.652Z"
   },
   {
    "duration": 11,
    "start_time": "2022-05-25T12:53:40.421Z"
   },
   {
    "duration": 4,
    "start_time": "2022-05-25T12:53:41.060Z"
   },
   {
    "duration": 24,
    "start_time": "2022-05-25T12:53:42.178Z"
   },
   {
    "duration": 44,
    "start_time": "2022-05-25T12:53:43.430Z"
   },
   {
    "duration": 35,
    "start_time": "2022-05-25T12:53:45.363Z"
   },
   {
    "duration": 74,
    "start_time": "2022-05-25T12:53:46.153Z"
   },
   {
    "duration": 85,
    "start_time": "2022-05-25T12:53:47.103Z"
   },
   {
    "duration": 2,
    "start_time": "2022-05-25T12:53:47.353Z"
   },
   {
    "duration": 104,
    "start_time": "2022-05-25T12:53:49.086Z"
   },
   {
    "duration": 45,
    "start_time": "2022-05-25T12:53:50.082Z"
   },
   {
    "duration": 45,
    "start_time": "2022-10-27T11:46:56.913Z"
   },
   {
    "duration": 388,
    "start_time": "2022-10-27T11:47:06.734Z"
   },
   {
    "duration": 213,
    "start_time": "2022-10-27T11:47:07.124Z"
   },
   {
    "duration": 16,
    "start_time": "2022-10-27T11:47:07.339Z"
   },
   {
    "duration": 21,
    "start_time": "2022-10-27T11:47:07.356Z"
   },
   {
    "duration": 56,
    "start_time": "2022-10-27T11:47:07.380Z"
   },
   {
    "duration": 19,
    "start_time": "2022-10-27T11:47:07.438Z"
   },
   {
    "duration": 52,
    "start_time": "2022-10-27T11:47:07.458Z"
   },
   {
    "duration": 10,
    "start_time": "2022-10-27T11:47:07.512Z"
   },
   {
    "duration": 42,
    "start_time": "2022-10-27T11:47:07.525Z"
   },
   {
    "duration": 63,
    "start_time": "2022-10-27T11:47:07.569Z"
   },
   {
    "duration": 22,
    "start_time": "2022-10-27T11:47:07.634Z"
   },
   {
    "duration": 84,
    "start_time": "2022-10-27T11:47:07.657Z"
   },
   {
    "duration": 67,
    "start_time": "2022-10-27T11:47:07.742Z"
   },
   {
    "duration": 10,
    "start_time": "2022-10-27T11:47:07.813Z"
   },
   {
    "duration": 62,
    "start_time": "2022-10-27T11:47:07.824Z"
   },
   {
    "duration": 38,
    "start_time": "2022-10-27T11:47:07.888Z"
   },
   {
    "duration": 5,
    "start_time": "2022-10-27T11:47:07.927Z"
   },
   {
    "duration": 36,
    "start_time": "2022-10-27T11:47:07.934Z"
   },
   {
    "duration": 43,
    "start_time": "2022-10-27T11:47:07.972Z"
   },
   {
    "duration": 67,
    "start_time": "2022-10-27T11:47:08.017Z"
   },
   {
    "duration": 11,
    "start_time": "2022-10-27T11:47:08.086Z"
   },
   {
    "duration": 45,
    "start_time": "2022-10-27T11:47:08.099Z"
   },
   {
    "duration": 13,
    "start_time": "2022-10-27T11:47:08.146Z"
   },
   {
    "duration": 47,
    "start_time": "2022-10-27T11:47:08.161Z"
   },
   {
    "duration": 38,
    "start_time": "2022-10-27T11:47:08.210Z"
   },
   {
    "duration": 19,
    "start_time": "2022-10-27T11:47:08.252Z"
   },
   {
    "duration": 30,
    "start_time": "2022-10-27T11:47:08.272Z"
   },
   {
    "duration": 20,
    "start_time": "2022-10-27T11:47:08.304Z"
   },
   {
    "duration": 15,
    "start_time": "2022-10-27T11:47:08.325Z"
   },
   {
    "duration": 21,
    "start_time": "2022-10-27T11:47:08.341Z"
   },
   {
    "duration": 32,
    "start_time": "2022-10-27T11:47:08.364Z"
   },
   {
    "duration": 24,
    "start_time": "2022-10-27T11:47:08.398Z"
   },
   {
    "duration": 16,
    "start_time": "2022-10-27T11:47:08.424Z"
   },
   {
    "duration": 36,
    "start_time": "2022-10-27T11:47:08.441Z"
   },
   {
    "duration": 32,
    "start_time": "2022-10-27T11:47:08.479Z"
   },
   {
    "duration": 15,
    "start_time": "2022-10-27T11:47:08.513Z"
   },
   {
    "duration": 25,
    "start_time": "2022-10-27T11:47:08.530Z"
   },
   {
    "duration": 32,
    "start_time": "2022-10-27T11:47:08.557Z"
   },
   {
    "duration": 35,
    "start_time": "2022-10-27T11:47:08.591Z"
   },
   {
    "duration": 22,
    "start_time": "2022-10-27T11:47:08.628Z"
   },
   {
    "duration": 41,
    "start_time": "2022-10-27T11:47:08.652Z"
   },
   {
    "duration": 38,
    "start_time": "2022-10-27T11:47:08.694Z"
   }
  ],
  "colab": {
   "collapsed_sections": [
    "E0vqbgi9ay0H",
    "VUC88oWjTJw2"
   ],
   "name": "yandex_music_project.ipynb",
   "provenance": []
  },
  "kernelspec": {
   "display_name": "Python 3 (ipykernel)",
   "language": "python",
   "name": "python3"
  },
  "language_info": {
   "codemirror_mode": {
    "name": "ipython",
    "version": 3
   },
   "file_extension": ".py",
   "mimetype": "text/x-python",
   "name": "python",
   "nbconvert_exporter": "python",
   "pygments_lexer": "ipython3",
   "version": "3.11.4"
  },
  "toc": {
   "base_numbering": 1,
   "nav_menu": {},
   "number_sections": true,
   "sideBar": true,
   "skip_h1_title": true,
   "title_cell": "Table of Contents",
   "title_sidebar": "Contents",
   "toc_cell": false,
   "toc_position": {
    "height": "calc(100% - 180px)",
    "left": "10px",
    "top": "150px",
    "width": "212.672px"
   },
   "toc_section_display": true,
   "toc_window_display": true
  }
 },
 "nbformat": 4,
 "nbformat_minor": 1
}
