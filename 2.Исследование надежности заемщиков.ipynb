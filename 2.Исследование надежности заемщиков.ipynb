{
 "cells": [
  {
   "cell_type": "markdown",
   "id": "cf3105dd",
   "metadata": {},
   "source": [
    "# Исследование надежности заемщиков.\n",
    "\n",
    "**Цель исследования** — проверить гипотезу о влиянии семейного положения и количества детей клиента на факт погашения кредита в срок."
   ]
  },
  {
   "cell_type": "markdown",
   "id": "8339a665",
   "metadata": {},
   "source": [
    "## Обзор данных"
   ]
  },
  {
   "cell_type": "markdown",
   "id": "02810fcb",
   "metadata": {},
   "source": [
    "Выведем на экран первые 10 строк таблицы."
   ]
  },
  {
   "cell_type": "code",
   "execution_count": 1,
   "id": "b9f59f03",
   "metadata": {},
   "outputs": [],
   "source": [
    "import numpy as np\n",
    "import pandas as pd"
   ]
  },
  {
   "cell_type": "code",
   "execution_count": 2,
   "id": "3d87bf2f",
   "metadata": {},
   "outputs": [
    {
     "data": {
      "text/html": [
       "<div>\n",
       "<style scoped>\n",
       "    .dataframe tbody tr th:only-of-type {\n",
       "        vertical-align: middle;\n",
       "    }\n",
       "\n",
       "    .dataframe tbody tr th {\n",
       "        vertical-align: top;\n",
       "    }\n",
       "\n",
       "    .dataframe thead th {\n",
       "        text-align: right;\n",
       "    }\n",
       "</style>\n",
       "<table border=\"1\" class=\"dataframe\">\n",
       "  <thead>\n",
       "    <tr style=\"text-align: right;\">\n",
       "      <th></th>\n",
       "      <th>children</th>\n",
       "      <th>days_employed</th>\n",
       "      <th>dob_years</th>\n",
       "      <th>education</th>\n",
       "      <th>education_id</th>\n",
       "      <th>family_status</th>\n",
       "      <th>family_status_id</th>\n",
       "      <th>gender</th>\n",
       "      <th>income_type</th>\n",
       "      <th>debt</th>\n",
       "      <th>total_income</th>\n",
       "      <th>purpose</th>\n",
       "    </tr>\n",
       "  </thead>\n",
       "  <tbody>\n",
       "    <tr>\n",
       "      <th>0</th>\n",
       "      <td>1</td>\n",
       "      <td>-8437.673028</td>\n",
       "      <td>42</td>\n",
       "      <td>высшее</td>\n",
       "      <td>0</td>\n",
       "      <td>женат / замужем</td>\n",
       "      <td>0</td>\n",
       "      <td>F</td>\n",
       "      <td>сотрудник</td>\n",
       "      <td>0</td>\n",
       "      <td>253875.639453</td>\n",
       "      <td>покупка жилья</td>\n",
       "    </tr>\n",
       "    <tr>\n",
       "      <th>1</th>\n",
       "      <td>1</td>\n",
       "      <td>-4024.803754</td>\n",
       "      <td>36</td>\n",
       "      <td>среднее</td>\n",
       "      <td>1</td>\n",
       "      <td>женат / замужем</td>\n",
       "      <td>0</td>\n",
       "      <td>F</td>\n",
       "      <td>сотрудник</td>\n",
       "      <td>0</td>\n",
       "      <td>112080.014102</td>\n",
       "      <td>приобретение автомобиля</td>\n",
       "    </tr>\n",
       "    <tr>\n",
       "      <th>2</th>\n",
       "      <td>0</td>\n",
       "      <td>-5623.422610</td>\n",
       "      <td>33</td>\n",
       "      <td>Среднее</td>\n",
       "      <td>1</td>\n",
       "      <td>женат / замужем</td>\n",
       "      <td>0</td>\n",
       "      <td>M</td>\n",
       "      <td>сотрудник</td>\n",
       "      <td>0</td>\n",
       "      <td>145885.952297</td>\n",
       "      <td>покупка жилья</td>\n",
       "    </tr>\n",
       "    <tr>\n",
       "      <th>3</th>\n",
       "      <td>3</td>\n",
       "      <td>-4124.747207</td>\n",
       "      <td>32</td>\n",
       "      <td>среднее</td>\n",
       "      <td>1</td>\n",
       "      <td>женат / замужем</td>\n",
       "      <td>0</td>\n",
       "      <td>M</td>\n",
       "      <td>сотрудник</td>\n",
       "      <td>0</td>\n",
       "      <td>267628.550329</td>\n",
       "      <td>дополнительное образование</td>\n",
       "    </tr>\n",
       "    <tr>\n",
       "      <th>4</th>\n",
       "      <td>0</td>\n",
       "      <td>340266.072047</td>\n",
       "      <td>53</td>\n",
       "      <td>среднее</td>\n",
       "      <td>1</td>\n",
       "      <td>гражданский брак</td>\n",
       "      <td>1</td>\n",
       "      <td>F</td>\n",
       "      <td>пенсионер</td>\n",
       "      <td>0</td>\n",
       "      <td>158616.077870</td>\n",
       "      <td>сыграть свадьбу</td>\n",
       "    </tr>\n",
       "  </tbody>\n",
       "</table>\n",
       "</div>"
      ],
      "text/plain": [
       "   children  days_employed  dob_years education  education_id  \\\n",
       "0         1   -8437.673028         42    высшее             0   \n",
       "1         1   -4024.803754         36   среднее             1   \n",
       "2         0   -5623.422610         33   Среднее             1   \n",
       "3         3   -4124.747207         32   среднее             1   \n",
       "4         0  340266.072047         53   среднее             1   \n",
       "\n",
       "      family_status  family_status_id gender income_type  debt   total_income  \\\n",
       "0   женат / замужем                 0      F   сотрудник     0  253875.639453   \n",
       "1   женат / замужем                 0      F   сотрудник     0  112080.014102   \n",
       "2   женат / замужем                 0      M   сотрудник     0  145885.952297   \n",
       "3   женат / замужем                 0      M   сотрудник     0  267628.550329   \n",
       "4  гражданский брак                 1      F   пенсионер     0  158616.077870   \n",
       "\n",
       "                      purpose  \n",
       "0               покупка жилья  \n",
       "1     приобретение автомобиля  \n",
       "2               покупка жилья  \n",
       "3  дополнительное образование  \n",
       "4             сыграть свадьбу  "
      ]
     },
     "execution_count": 2,
     "metadata": {},
     "output_type": "execute_result"
    }
   ],
   "source": [
    "df = pd.read_csv(r'C:\\Users\\ANN\\Downloads/dataset.csv')    \n",
    "df.head(5)"
   ]
  },
  {
   "cell_type": "code",
   "execution_count": 3,
   "id": "4e1793f8",
   "metadata": {
    "scrolled": true
   },
   "outputs": [
    {
     "name": "stdout",
     "output_type": "stream",
     "text": [
      "<class 'pandas.core.frame.DataFrame'>\n",
      "RangeIndex: 21525 entries, 0 to 21524\n",
      "Data columns (total 12 columns):\n",
      " #   Column            Non-Null Count  Dtype  \n",
      "---  ------            --------------  -----  \n",
      " 0   children          21525 non-null  int64  \n",
      " 1   days_employed     19351 non-null  float64\n",
      " 2   dob_years         21525 non-null  int64  \n",
      " 3   education         21525 non-null  object \n",
      " 4   education_id      21525 non-null  int64  \n",
      " 5   family_status     21525 non-null  object \n",
      " 6   family_status_id  21525 non-null  int64  \n",
      " 7   gender            21525 non-null  object \n",
      " 8   income_type       21525 non-null  object \n",
      " 9   debt              21525 non-null  int64  \n",
      " 10  total_income      19351 non-null  float64\n",
      " 11  purpose           21525 non-null  object \n",
      "dtypes: float64(2), int64(5), object(5)\n",
      "memory usage: 2.0+ MB\n"
     ]
    }
   ],
   "source": [
    "df.info()"
   ]
  },
  {
   "cell_type": "markdown",
   "id": "302f98a3",
   "metadata": {},
   "source": [
    "С помощью метода info() получили информацию о названиях колонок, количестве строк. </b></font><br>В таблице 12 столбцов, тип данных - int, float и object. </b></font><br>Количество значений в столбцах различается. Значит, в данных есть пропущенные значения.</b></font><br>В столбце days_employed есть значения со значением минус, возможно, эта аномалия связана с некорректной выгрузкой данных.\n",
    "</b></font><br></b></font><br> Согласно документации к данным: </b></font><br>\n",
    "\n",
    "* `children` — количество детей в семье;\n",
    "* `days_employed` — общий трудовой стаж в днях;\n",
    "* `dob_years` — возраст клиента в годах;\n",
    "* `education` — уровень образования клиента;\n",
    "* `education_id` — идентификатор уровня образования;\n",
    "* `family_status` — семейное положение;\n",
    "* `family_status_id` — идентификатор семейного положения;\n",
    "* `gender` — пол клиента;\n",
    "* `income_type` — тип занятости;\n",
    "* `debt` — имел ли задолженность по возврату кредитов;\n",
    "* `total_income` — ежемесячный доход;\n",
    "* `purpose` — цель получения кредита."
   ]
  },
  {
   "cell_type": "markdown",
   "id": "09a63076",
   "metadata": {},
   "source": [
    "### Заполнение пропусков"
   ]
  },
  {
   "cell_type": "code",
   "execution_count": 4,
   "id": "9ebe6a07",
   "metadata": {},
   "outputs": [
    {
     "data": {
      "text/plain": [
       "children               0\n",
       "days_employed       2174\n",
       "dob_years              0\n",
       "education              0\n",
       "education_id           0\n",
       "family_status          0\n",
       "family_status_id       0\n",
       "gender                 0\n",
       "income_type            0\n",
       "debt                   0\n",
       "total_income        2174\n",
       "purpose                0\n",
       "dtype: int64"
      ]
     },
     "execution_count": 4,
     "metadata": {},
     "output_type": "execute_result"
    }
   ],
   "source": [
    "df.isna().sum()    "
   ]
  },
  {
   "cell_type": "markdown",
   "id": "05fb7cc5",
   "metadata": {},
   "source": [
    "С мощью методов isna() и sum() обнаружили, что в колонках total_income - пропущенных значений - 2174 ;</b></font><br>\n",
    "в колонке days_employed - пропущенных значений - 2174.</b></font><br> \n",
    "Предположим, что пропуски в данных колонках связаны с намеренным нежеланием заемщиков предоставлять эту информацию.\n"
   ]
  },
  {
   "cell_type": "markdown",
   "id": "e5da0d79",
   "metadata": {},
   "source": [
    "Для определения долей пропусков можем использовать следующий способ:"
   ]
  },
  {
   "cell_type": "code",
   "execution_count": 5,
   "id": "9c917f80",
   "metadata": {
    "scrolled": true
   },
   "outputs": [
    {
     "name": "stdout",
     "output_type": "stream",
     "text": [
      "children - 0%\n",
      "days_employed - 10%\n",
      "dob_years - 0%\n",
      "education - 0%\n",
      "education_id - 0%\n",
      "family_status - 0%\n",
      "family_status_id - 0%\n",
      "gender - 0%\n",
      "income_type - 0%\n",
      "debt - 0%\n",
      "total_income - 10%\n",
      "purpose - 0%\n"
     ]
    }
   ],
   "source": [
    "for col in df.columns:\n",
    "    pct_missing = np.mean(df[col].isna())\n",
    "    print('{} - {}%'.format(col, round(pct_missing*100)))"
   ]
  },
  {
   "cell_type": "markdown",
   "id": "a2381ad0",
   "metadata": {},
   "source": [
    "Пропущенные значения в столбце days_employed составлют 10%, в total_income - 10%."
   ]
  },
  {
   "cell_type": "markdown",
   "id": "3aaebce0",
   "metadata": {},
   "source": [
    "Заполним пропуски в столбце total_income медианным значением, которое будет \"серединным\" между наибольшим и наименьшим значениями. Строки с пропусками не удаляем, потому что они составляют существенную часть от общего числа. Проверим результат."
   ]
  },
  {
   "cell_type": "code",
   "execution_count": 6,
   "id": "b62076d6",
   "metadata": {},
   "outputs": [
    {
     "data": {
      "text/plain": [
       "0        253875.639453\n",
       "1        112080.014102\n",
       "2        145885.952297\n",
       "3        267628.550329\n",
       "4        158616.077870\n",
       "             ...      \n",
       "21520    224791.862382\n",
       "21521    155999.806512\n",
       "21522     89672.561153\n",
       "21523    244093.050500\n",
       "21524     82047.418899\n",
       "Name: total_income, Length: 21525, dtype: float64"
      ]
     },
     "execution_count": 6,
     "metadata": {},
     "output_type": "execute_result"
    }
   ],
   "source": [
    "df['total_income'] = df['total_income'].fillna(df.groupby('income_type')['total_income'].transform(\"median\"))\n",
    "df['total_income']"
   ]
  },
  {
   "cell_type": "markdown",
   "id": "16d7bc25",
   "metadata": {},
   "source": [
    "### Проверка данных на аномалии и исправления."
   ]
  },
  {
   "cell_type": "markdown",
   "id": "195ffb56",
   "metadata": {},
   "source": [
    "Проверим есть ли в столбце children отрицательные значения, если да, то изменим на положительные. Проверим результат."
   ]
  },
  {
   "cell_type": "code",
   "execution_count": 7,
   "id": "63cddbcb",
   "metadata": {},
   "outputs": [
    {
     "data": {
      "text/plain": [
       "array([-1,  0,  1,  2,  3,  4,  5, 20], dtype=int64)"
      ]
     },
     "execution_count": 7,
     "metadata": {},
     "output_type": "execute_result"
    }
   ],
   "source": [
    "df['children'].sort_values().unique()"
   ]
  },
  {
   "cell_type": "markdown",
   "id": "17a365d4",
   "metadata": {},
   "source": [
    "Поменяем отрицательное значение на положительное:"
   ]
  },
  {
   "cell_type": "code",
   "execution_count": 8,
   "id": "09893859",
   "metadata": {},
   "outputs": [],
   "source": [
    "df['children'] = df['children'].abs()"
   ]
  },
  {
   "cell_type": "markdown",
   "id": "9a6fa08c",
   "metadata": {},
   "source": [
    "В столбце есть аномалия - клиенты с 20ю детьми. Предположим, что данные были заполнены некорректно, правильное занчение должно быть 2. Изменим значение и проверим результат"
   ]
  },
  {
   "cell_type": "code",
   "execution_count": 9,
   "id": "a400c8c0",
   "metadata": {},
   "outputs": [
    {
     "data": {
      "text/plain": [
       "array([0, 1, 2, 3, 4, 5], dtype=int64)"
      ]
     },
     "execution_count": 9,
     "metadata": {},
     "output_type": "execute_result"
    }
   ],
   "source": [
    "df.loc[df['children'] == 20, 'children'] = 2\n",
    "df['children'].sort_values().unique()"
   ]
  },
  {
   "cell_type": "markdown",
   "id": "be0d6b14",
   "metadata": {},
   "source": [
    "С помощью конструкции try...except... проверим, есть ли пропуски в столбце days_employed. Если пропуски есть, результатом проверки будет - ошибка."
   ]
  },
  {
   "cell_type": "code",
   "execution_count": 10,
   "id": "553eddf7",
   "metadata": {},
   "outputs": [
    {
     "name": "stdout",
     "output_type": "stream",
     "text": [
      "ошибка\n"
     ]
    }
   ],
   "source": [
    "try:\n",
    "    df[df['days_employed'].isna].index\n",
    "except:\n",
    "    print('ошибка')"
   ]
  },
  {
   "cell_type": "markdown",
   "id": "e31339d3",
   "metadata": {},
   "source": [
    "В столбце days_employed есть значения со знаком минус, изменим эти значения на положительные."
   ]
  },
  {
   "cell_type": "code",
   "execution_count": 11,
   "id": "1bc107c0",
   "metadata": {},
   "outputs": [
    {
     "data": {
      "text/plain": [
       "0          8437.673028\n",
       "1          4024.803754\n",
       "2          5623.422610\n",
       "3          4124.747207\n",
       "4        340266.072047\n",
       "             ...      \n",
       "21520      4529.316663\n",
       "21521    343937.404131\n",
       "21522      2113.346888\n",
       "21523      3112.481705\n",
       "21524      1984.507589\n",
       "Name: days_employed, Length: 21525, dtype: float64"
      ]
     },
     "execution_count": 11,
     "metadata": {},
     "output_type": "execute_result"
    }
   ],
   "source": [
    "df['days_employed'] = df['days_employed'].abs()\n",
    "df['days_employed']"
   ]
  },
  {
   "cell_type": "markdown",
   "id": "7155fc1c",
   "metadata": {},
   "source": [
    "Заполним пропуски в столбце total_income медианным значением, которое будет \"серединным\" между наибольшим и наименьшим значениями. Проверим результат."
   ]
  },
  {
   "cell_type": "code",
   "execution_count": 12,
   "id": "3faae0a3",
   "metadata": {},
   "outputs": [
    {
     "data": {
      "text/plain": [
       "0          8437.673028\n",
       "1          4024.803754\n",
       "2          5623.422610\n",
       "3          4124.747207\n",
       "4        340266.072047\n",
       "             ...      \n",
       "21520      4529.316663\n",
       "21521    343937.404131\n",
       "21522      2113.346888\n",
       "21523      3112.481705\n",
       "21524      1984.507589\n",
       "Name: days_employed, Length: 21525, dtype: float64"
      ]
     },
     "execution_count": 12,
     "metadata": {},
     "output_type": "execute_result"
    }
   ],
   "source": [
    "df_median = df['days_employed'].median()\n",
    "df['days_employed'].fillna(value=df_median)"
   ]
  },
  {
   "cell_type": "markdown",
   "id": "c3b9ecf1",
   "metadata": {},
   "source": [
    "### Изменение типов данных."
   ]
  },
  {
   "cell_type": "markdown",
   "id": "8aefab38",
   "metadata": {},
   "source": [
    "Изменим вещественный тип данных в столбце total_income на целочисленный c помощью метода astype(), потому что в дальнейшем нам будет проще совершать вычисления с целым числом. Проверим результат."
   ]
  },
  {
   "cell_type": "code",
   "execution_count": 13,
   "id": "0ff01bf5",
   "metadata": {},
   "outputs": [
    {
     "data": {
      "text/plain": [
       "0        253875\n",
       "1        112080\n",
       "2        145885\n",
       "3        267628\n",
       "4        158616\n",
       "          ...  \n",
       "21520    224791\n",
       "21521    155999\n",
       "21522     89672\n",
       "21523    244093\n",
       "21524     82047\n",
       "Name: total_income, Length: 21525, dtype: int32"
      ]
     },
     "execution_count": 13,
     "metadata": {},
     "output_type": "execute_result"
    }
   ],
   "source": [
    "df['total_income'] = df['total_income'].astype('int')\n",
    "df['total_income']"
   ]
  },
  {
   "cell_type": "markdown",
   "id": "480d2e8a",
   "metadata": {},
   "source": [
    "### Удаление дубликатов."
   ]
  },
  {
   "cell_type": "markdown",
   "id": "e79764e3",
   "metadata": {},
   "source": [
    "Посчитаем количество явных дубликатов с помощью методов duplicated() и sum(), удалим явные дубликаты и проверим результат."
   ]
  },
  {
   "cell_type": "code",
   "execution_count": 14,
   "id": "1716febe",
   "metadata": {},
   "outputs": [
    {
     "data": {
      "text/plain": [
       "54"
      ]
     },
     "execution_count": 14,
     "metadata": {},
     "output_type": "execute_result"
    }
   ],
   "source": [
    "df.duplicated().sum()"
   ]
  },
  {
   "cell_type": "code",
   "execution_count": 15,
   "id": "fc29db52",
   "metadata": {},
   "outputs": [],
   "source": [
    "df = df.drop_duplicates().reset_index(drop=True)"
   ]
  },
  {
   "cell_type": "code",
   "execution_count": 16,
   "id": "ce96ca67",
   "metadata": {},
   "outputs": [
    {
     "data": {
      "text/plain": [
       "0"
      ]
     },
     "execution_count": 16,
     "metadata": {},
     "output_type": "execute_result"
    }
   ],
   "source": [
    "df.duplicated().sum()"
   ]
  },
  {
   "cell_type": "markdown",
   "id": "eaa4494d",
   "metadata": {},
   "source": [
    "В столбце education education можно встретить написание с заглавной буквы, строчные символы, крупный шрифт. Сделаем все символы в толбце строчными с помощью метода str.lower() и проверим результат. "
   ]
  },
  {
   "cell_type": "code",
   "execution_count": 17,
   "id": "d02d7e90",
   "metadata": {},
   "outputs": [
    {
     "data": {
      "text/plain": [
       "0         высшее\n",
       "1        среднее\n",
       "2        Среднее\n",
       "3        среднее\n",
       "4        среднее\n",
       "          ...   \n",
       "21466    среднее\n",
       "21467    среднее\n",
       "21468    среднее\n",
       "21469    среднее\n",
       "21470    среднее\n",
       "Name: education, Length: 21471, dtype: object"
      ]
     },
     "execution_count": 17,
     "metadata": {},
     "output_type": "execute_result"
    }
   ],
   "source": [
    "df['education'].value_counts()\n",
    "df['education']"
   ]
  },
  {
   "cell_type": "code",
   "execution_count": 18,
   "id": "d79faa06",
   "metadata": {},
   "outputs": [
    {
     "data": {
      "text/plain": [
       "0     высшее\n",
       "1    среднее\n",
       "2    среднее\n",
       "3    среднее\n",
       "4    среднее\n",
       "Name: education, dtype: object"
      ]
     },
     "execution_count": 18,
     "metadata": {},
     "output_type": "execute_result"
    }
   ],
   "source": [
    "df['education'] = df['education'].str.lower()\n",
    "df['education'].head(5)"
   ]
  },
  {
   "cell_type": "markdown",
   "id": "e62ec995",
   "metadata": {},
   "source": [
    "В столбце purpose имеются неявные дубликаты. Причина их появления - человеческий фактор: заемщики заполняли данные вручную, формулировки целей могут отличатся. Выведем на экран список уникальных значений в столбце."
   ]
  },
  {
   "cell_type": "code",
   "execution_count": 19,
   "id": "2defd843",
   "metadata": {},
   "outputs": [
    {
     "data": {
      "text/plain": [
       "array(['автомобили', 'автомобиль', 'высшее образование',\n",
       "       'дополнительное образование', 'жилье',\n",
       "       'заняться высшим образованием', 'заняться образованием',\n",
       "       'на покупку автомобиля', 'на покупку подержанного автомобиля',\n",
       "       'на покупку своего автомобиля', 'на проведение свадьбы',\n",
       "       'недвижимость', 'образование', 'операции с жильем',\n",
       "       'операции с коммерческой недвижимостью',\n",
       "       'операции с недвижимостью', 'операции со своей недвижимостью',\n",
       "       'покупка жилой недвижимости', 'покупка жилья',\n",
       "       'покупка жилья для сдачи', 'покупка жилья для семьи',\n",
       "       'покупка коммерческой недвижимости', 'покупка недвижимости',\n",
       "       'покупка своего жилья', 'получение высшего образования',\n",
       "       'получение дополнительного образования', 'получение образования',\n",
       "       'приобретение автомобиля', 'профильное образование',\n",
       "       'ремонт жилью', 'свадьба', 'свой автомобиль',\n",
       "       'сделка с автомобилем', 'сделка с подержанным автомобилем',\n",
       "       'строительство жилой недвижимости', 'строительство недвижимости',\n",
       "       'строительство собственной недвижимости', 'сыграть свадьбу'],\n",
       "      dtype=object)"
      ]
     },
     "execution_count": 19,
     "metadata": {},
     "output_type": "execute_result"
    }
   ],
   "source": [
    "df['purpose'].sort_values().unique()"
   ]
  },
  {
   "cell_type": "markdown",
   "id": "daca3f76",
   "metadata": {},
   "source": [
    "Чтобы очистить от неявных дубликатов столбец, напишем функцию `replace_wrong_purposes()`."
   ]
  },
  {
   "cell_type": "code",
   "execution_count": 20,
   "id": "1cc32a1b",
   "metadata": {},
   "outputs": [],
   "source": [
    "def replace_wrong_purposes(purpose):            \n",
    "    if  'авто' in purpose:\n",
    "        return 'операции с автомобилем'\n",
    "    elif 'недвиж' in purpose or 'жиль' in purpose:\n",
    "        return 'операции с недвижимостью'\n",
    "    elif 'свадьб' in purpose:\n",
    "        return 'проведение свадьбы'\n",
    "    elif 'образо' in purpose:\n",
    "        return 'получение образования'\n",
    "    \n",
    "df['purpose']=df['purpose'].apply(replace_wrong_purposes)"
   ]
  },
  {
   "cell_type": "markdown",
   "id": "ded0ea07",
   "metadata": {},
   "source": [
    "Выведем на экран уникальные значения столбца purpose."
   ]
  },
  {
   "cell_type": "code",
   "execution_count": 21,
   "id": "0992571c",
   "metadata": {},
   "outputs": [
    {
     "data": {
      "text/plain": [
       "array(['операции с автомобилем', 'операции с недвижимостью',\n",
       "       'получение образования', 'проведение свадьбы'], dtype=object)"
      ]
     },
     "execution_count": 21,
     "metadata": {},
     "output_type": "execute_result"
    }
   ],
   "source": [
    "df['purpose'].sort_values().unique()"
   ]
  },
  {
   "cell_type": "markdown",
   "id": "a6abcfe9",
   "metadata": {},
   "source": [
    "**Выводы**\n",
    "\n",
    "Предобработка обнаружила следующие проблемы в данных:\n",
    "\n",
    "- пропущенные значения,\n",
    "- аномалии в данных,\n",
    "- некорретные типы данных,\n",
    "- дубликаты — явные и неявные.\n",
    "\n",
    "Пропущенные значения заменили на медианные значения, устранили аномалии, изменили тип данных, удалили явные дубликаты и сократили количество неявных дубликатов.\n"
   ]
  },
  {
   "cell_type": "markdown",
   "id": "2125c54d",
   "metadata": {},
   "source": [
    "### Формирование дополнительных датафреймов словарей, декомпозиция исходного датафрейма."
   ]
  },
  {
   "cell_type": "markdown",
   "id": "27093020",
   "metadata": {},
   "source": [
    "Создадим словари для оптимизации данных, в которых:\n",
    "каждому уникальному значению из столбца education будет соответствовать уникальное значение education_id;\n",
    "каждому уникальному значению из столбца df_family_status - family_status_id."
   ]
  },
  {
   "cell_type": "code",
   "execution_count": 22,
   "id": "12a6f196",
   "metadata": {},
   "outputs": [
    {
     "data": {
      "text/html": [
       "<div>\n",
       "<style scoped>\n",
       "    .dataframe tbody tr th:only-of-type {\n",
       "        vertical-align: middle;\n",
       "    }\n",
       "\n",
       "    .dataframe tbody tr th {\n",
       "        vertical-align: top;\n",
       "    }\n",
       "\n",
       "    .dataframe thead th {\n",
       "        text-align: right;\n",
       "    }\n",
       "</style>\n",
       "<table border=\"1\" class=\"dataframe\">\n",
       "  <thead>\n",
       "    <tr style=\"text-align: right;\">\n",
       "      <th></th>\n",
       "      <th>education_id</th>\n",
       "      <th>education</th>\n",
       "    </tr>\n",
       "  </thead>\n",
       "  <tbody>\n",
       "    <tr>\n",
       "      <th>0</th>\n",
       "      <td>0</td>\n",
       "      <td>высшее</td>\n",
       "    </tr>\n",
       "    <tr>\n",
       "      <th>1</th>\n",
       "      <td>1</td>\n",
       "      <td>среднее</td>\n",
       "    </tr>\n",
       "    <tr>\n",
       "      <th>2</th>\n",
       "      <td>1</td>\n",
       "      <td>среднее</td>\n",
       "    </tr>\n",
       "    <tr>\n",
       "      <th>3</th>\n",
       "      <td>1</td>\n",
       "      <td>среднее</td>\n",
       "    </tr>\n",
       "    <tr>\n",
       "      <th>4</th>\n",
       "      <td>1</td>\n",
       "      <td>среднее</td>\n",
       "    </tr>\n",
       "    <tr>\n",
       "      <th>5</th>\n",
       "      <td>0</td>\n",
       "      <td>высшее</td>\n",
       "    </tr>\n",
       "    <tr>\n",
       "      <th>6</th>\n",
       "      <td>0</td>\n",
       "      <td>высшее</td>\n",
       "    </tr>\n",
       "    <tr>\n",
       "      <th>7</th>\n",
       "      <td>1</td>\n",
       "      <td>среднее</td>\n",
       "    </tr>\n",
       "    <tr>\n",
       "      <th>8</th>\n",
       "      <td>0</td>\n",
       "      <td>высшее</td>\n",
       "    </tr>\n",
       "    <tr>\n",
       "      <th>9</th>\n",
       "      <td>1</td>\n",
       "      <td>среднее</td>\n",
       "    </tr>\n",
       "  </tbody>\n",
       "</table>\n",
       "</div>"
      ],
      "text/plain": [
       "   education_id education\n",
       "0             0    высшее\n",
       "1             1   среднее\n",
       "2             1   среднее\n",
       "3             1   среднее\n",
       "4             1   среднее\n",
       "5             0    высшее\n",
       "6             0    высшее\n",
       "7             1   среднее\n",
       "8             0    высшее\n",
       "9             1   среднее"
      ]
     },
     "execution_count": 22,
     "metadata": {},
     "output_type": "execute_result"
    }
   ],
   "source": [
    "df_education = df[['education_id','education']]\n",
    "df_education.head(10)"
   ]
  },
  {
   "cell_type": "code",
   "execution_count": 23,
   "id": "46aab873",
   "metadata": {},
   "outputs": [
    {
     "data": {
      "text/html": [
       "<div>\n",
       "<style scoped>\n",
       "    .dataframe tbody tr th:only-of-type {\n",
       "        vertical-align: middle;\n",
       "    }\n",
       "\n",
       "    .dataframe tbody tr th {\n",
       "        vertical-align: top;\n",
       "    }\n",
       "\n",
       "    .dataframe thead th {\n",
       "        text-align: right;\n",
       "    }\n",
       "</style>\n",
       "<table border=\"1\" class=\"dataframe\">\n",
       "  <thead>\n",
       "    <tr style=\"text-align: right;\">\n",
       "      <th></th>\n",
       "      <th>family_status_id</th>\n",
       "      <th>family_status</th>\n",
       "    </tr>\n",
       "  </thead>\n",
       "  <tbody>\n",
       "    <tr>\n",
       "      <th>0</th>\n",
       "      <td>0</td>\n",
       "      <td>женат / замужем</td>\n",
       "    </tr>\n",
       "    <tr>\n",
       "      <th>1</th>\n",
       "      <td>0</td>\n",
       "      <td>женат / замужем</td>\n",
       "    </tr>\n",
       "    <tr>\n",
       "      <th>2</th>\n",
       "      <td>0</td>\n",
       "      <td>женат / замужем</td>\n",
       "    </tr>\n",
       "    <tr>\n",
       "      <th>3</th>\n",
       "      <td>0</td>\n",
       "      <td>женат / замужем</td>\n",
       "    </tr>\n",
       "    <tr>\n",
       "      <th>4</th>\n",
       "      <td>1</td>\n",
       "      <td>гражданский брак</td>\n",
       "    </tr>\n",
       "    <tr>\n",
       "      <th>5</th>\n",
       "      <td>1</td>\n",
       "      <td>гражданский брак</td>\n",
       "    </tr>\n",
       "    <tr>\n",
       "      <th>6</th>\n",
       "      <td>0</td>\n",
       "      <td>женат / замужем</td>\n",
       "    </tr>\n",
       "    <tr>\n",
       "      <th>7</th>\n",
       "      <td>0</td>\n",
       "      <td>женат / замужем</td>\n",
       "    </tr>\n",
       "    <tr>\n",
       "      <th>8</th>\n",
       "      <td>1</td>\n",
       "      <td>гражданский брак</td>\n",
       "    </tr>\n",
       "    <tr>\n",
       "      <th>9</th>\n",
       "      <td>0</td>\n",
       "      <td>женат / замужем</td>\n",
       "    </tr>\n",
       "  </tbody>\n",
       "</table>\n",
       "</div>"
      ],
      "text/plain": [
       "   family_status_id     family_status\n",
       "0                 0   женат / замужем\n",
       "1                 0   женат / замужем\n",
       "2                 0   женат / замужем\n",
       "3                 0   женат / замужем\n",
       "4                 1  гражданский брак\n",
       "5                 1  гражданский брак\n",
       "6                 0   женат / замужем\n",
       "7                 0   женат / замужем\n",
       "8                 1  гражданский брак\n",
       "9                 0   женат / замужем"
      ]
     },
     "execution_count": 23,
     "metadata": {},
     "output_type": "execute_result"
    }
   ],
   "source": [
    "df_family_status = df[['family_status_id','family_status']]\n",
    "df_family_status.head(10)"
   ]
  },
  {
   "cell_type": "markdown",
   "id": "01dcaf09",
   "metadata": {},
   "source": [
    "Удалим из датафрейма столбцы education и family_status."
   ]
  },
  {
   "cell_type": "code",
   "execution_count": 24,
   "id": "eb49f4ed",
   "metadata": {},
   "outputs": [
    {
     "name": "stdout",
     "output_type": "stream",
     "text": [
      "<class 'pandas.core.frame.DataFrame'>\n",
      "RangeIndex: 21471 entries, 0 to 21470\n",
      "Data columns (total 10 columns):\n",
      " #   Column            Non-Null Count  Dtype  \n",
      "---  ------            --------------  -----  \n",
      " 0   children          21471 non-null  int64  \n",
      " 1   days_employed     19351 non-null  float64\n",
      " 2   dob_years         21471 non-null  int64  \n",
      " 3   education_id      21471 non-null  int64  \n",
      " 4   family_status_id  21471 non-null  int64  \n",
      " 5   gender            21471 non-null  object \n",
      " 6   income_type       21471 non-null  object \n",
      " 7   debt              21471 non-null  int64  \n",
      " 8   total_income      21471 non-null  int32  \n",
      " 9   purpose           21471 non-null  object \n",
      "dtypes: float64(1), int32(1), int64(5), object(3)\n",
      "memory usage: 1.6+ MB\n"
     ]
    }
   ],
   "source": [
    "df = df.drop(columns=['education','family_status'])\n",
    "df.info()"
   ]
  },
  {
   "cell_type": "markdown",
   "id": "c82e9c99",
   "metadata": {},
   "source": [
    "### Категоризация дохода."
   ]
  },
  {
   "cell_type": "markdown",
   "id": "70a92f8b",
   "metadata": {},
   "source": [
    "Чтобы отфильтровать столбец total_income, создадим  функцию total_income_category. Деление данных на категории упростит работу с таблицей, обращаться можно будет не к значению, а к названию категории."
   ]
  },
  {
   "cell_type": "code",
   "execution_count": 25,
   "id": "819d0d1e",
   "metadata": {},
   "outputs": [
    {
     "data": {
      "text/plain": [
       "C    16032\n",
       "B     5042\n",
       "D      350\n",
       "A       25\n",
       "E       22\n",
       "Name: total_income_category, dtype: int64"
      ]
     },
     "execution_count": 25,
     "metadata": {},
     "output_type": "execute_result"
    }
   ],
   "source": [
    "def total_income_category(total_income):\n",
    "    if total_income <= 30000:\n",
    "        return 'E'\n",
    "    if total_income <= 50000:\n",
    "        return 'D'\n",
    "    if total_income <= 200000:\n",
    "        return 'C'\n",
    "    if total_income <= 1000000:\n",
    "        return 'B'\n",
    "    return 'A'\n",
    "\n",
    "\n",
    "\n",
    "df['total_income_category']=df['total_income'].apply(total_income_category)\n",
    "df['total_income_category'].value_counts()"
   ]
  },
  {
   "cell_type": "markdown",
   "id": "40964d1e",
   "metadata": {},
   "source": [
    "### Категоризация целей кредита."
   ]
  },
  {
   "cell_type": "markdown",
   "id": "1380eeac",
   "metadata": {},
   "source": [
    "Создадим столбец purpose_category с категориями целей кредита обращаться можно будет не к значению, а к названию категории."
   ]
  },
  {
   "cell_type": "code",
   "execution_count": 26,
   "id": "baa7b4ac",
   "metadata": {},
   "outputs": [
    {
     "data": {
      "text/plain": [
       "операции с недвижимостью    10814\n",
       "операции с автомобилем       4308\n",
       "получение образования        4014\n",
       "проведение свадьбы           2335\n",
       "Name: purpose_category, dtype: int64"
      ]
     },
     "execution_count": 26,
     "metadata": {},
     "output_type": "execute_result"
    }
   ],
   "source": [
    "def purpose_category(purpose):\n",
    "    if 'автомоб' in  purpose:\n",
    "        return 'операции с автомобилем'\n",
    "    if 'образов' in  purpose:\n",
    "        return 'получение образования'\n",
    "    if 'недвиж' in purpose or 'жилье' in  purpose:\n",
    "        return 'операции с недвижимостью'\n",
    "    if 'свадьб' in  purpose:\n",
    "        return 'проведение свадьбы'\n",
    "    if 'ремонт'in  purpose:\n",
    "        return 'ремонт жилья'\n",
    "  \n",
    "df['purpose_category']=df['purpose'].apply(purpose_category)\n",
    "df['purpose_category'].value_counts()"
   ]
  },
  {
   "cell_type": "markdown",
   "id": "b9ac71d7",
   "metadata": {},
   "source": [
    "### Ответы на вопросы."
   ]
  },
  {
   "cell_type": "markdown",
   "id": "1f59f8a8",
   "metadata": {},
   "source": [
    "##### Вопрос 1: Есть ли зависимость между количеством детей и возвратом кредита в срок?"
   ]
  },
  {
   "cell_type": "markdown",
   "id": "af9689d4",
   "metadata": {},
   "source": [
    "\n",
    "Среди заемщиков с количеством детей - четыре, существует вероятность не выплаты кредита в срок.\n",
    "Среди заемщиков с пятью детьми должников нет."
   ]
  },
  {
   "cell_type": "code",
   "execution_count": 27,
   "id": "51283c48",
   "metadata": {},
   "outputs": [
    {
     "data": {
      "text/html": [
       "<div>\n",
       "<style scoped>\n",
       "    .dataframe tbody tr th:only-of-type {\n",
       "        vertical-align: middle;\n",
       "    }\n",
       "\n",
       "    .dataframe tbody tr th {\n",
       "        vertical-align: top;\n",
       "    }\n",
       "\n",
       "    .dataframe thead tr th {\n",
       "        text-align: left;\n",
       "    }\n",
       "\n",
       "    .dataframe thead tr:last-of-type th {\n",
       "        text-align: right;\n",
       "    }\n",
       "</style>\n",
       "<table border=\"1\" class=\"dataframe\">\n",
       "  <thead>\n",
       "    <tr>\n",
       "      <th></th>\n",
       "      <th>mean</th>\n",
       "      <th>count</th>\n",
       "    </tr>\n",
       "    <tr>\n",
       "      <th></th>\n",
       "      <th>debt</th>\n",
       "      <th>debt</th>\n",
       "    </tr>\n",
       "    <tr>\n",
       "      <th>children</th>\n",
       "      <th></th>\n",
       "      <th></th>\n",
       "    </tr>\n",
       "  </thead>\n",
       "  <tbody>\n",
       "    <tr>\n",
       "      <th>0</th>\n",
       "      <td>0.075353</td>\n",
       "      <td>14107</td>\n",
       "    </tr>\n",
       "    <tr>\n",
       "      <th>1</th>\n",
       "      <td>0.091639</td>\n",
       "      <td>4856</td>\n",
       "    </tr>\n",
       "    <tr>\n",
       "      <th>2</th>\n",
       "      <td>0.094925</td>\n",
       "      <td>2128</td>\n",
       "    </tr>\n",
       "    <tr>\n",
       "      <th>3</th>\n",
       "      <td>0.081818</td>\n",
       "      <td>330</td>\n",
       "    </tr>\n",
       "    <tr>\n",
       "      <th>4</th>\n",
       "      <td>0.097561</td>\n",
       "      <td>41</td>\n",
       "    </tr>\n",
       "    <tr>\n",
       "      <th>5</th>\n",
       "      <td>0.000000</td>\n",
       "      <td>9</td>\n",
       "    </tr>\n",
       "  </tbody>\n",
       "</table>\n",
       "</div>"
      ],
      "text/plain": [
       "              mean  count\n",
       "              debt   debt\n",
       "children                 \n",
       "0         0.075353  14107\n",
       "1         0.091639   4856\n",
       "2         0.094925   2128\n",
       "3         0.081818    330\n",
       "4         0.097561     41\n",
       "5         0.000000      9"
      ]
     },
     "execution_count": 27,
     "metadata": {},
     "output_type": "execute_result"
    }
   ],
   "source": [
    "df.pivot_table(index='children', values='debt', aggfunc=['mean', 'count'])"
   ]
  },
  {
   "cell_type": "markdown",
   "id": "f2ae64ce",
   "metadata": {},
   "source": [
    "Среди заемщиков, статус которых - в гражданском браке и не женат/не замужем существует вероятность не выплаты кредита в срок."
   ]
  },
  {
   "cell_type": "code",
   "execution_count": 28,
   "id": "83ca5a0f",
   "metadata": {},
   "outputs": [
    {
     "data": {
      "text/html": [
       "<div>\n",
       "<style scoped>\n",
       "    .dataframe tbody tr th:only-of-type {\n",
       "        vertical-align: middle;\n",
       "    }\n",
       "\n",
       "    .dataframe tbody tr th {\n",
       "        vertical-align: top;\n",
       "    }\n",
       "\n",
       "    .dataframe thead tr th {\n",
       "        text-align: left;\n",
       "    }\n",
       "\n",
       "    .dataframe thead tr:last-of-type th {\n",
       "        text-align: right;\n",
       "    }\n",
       "</style>\n",
       "<table border=\"1\" class=\"dataframe\">\n",
       "  <thead>\n",
       "    <tr>\n",
       "      <th></th>\n",
       "      <th>mean</th>\n",
       "      <th>count</th>\n",
       "    </tr>\n",
       "    <tr>\n",
       "      <th></th>\n",
       "      <th>debt</th>\n",
       "      <th>debt</th>\n",
       "    </tr>\n",
       "    <tr>\n",
       "      <th>family_status_id</th>\n",
       "      <th></th>\n",
       "      <th></th>\n",
       "    </tr>\n",
       "  </thead>\n",
       "  <tbody>\n",
       "    <tr>\n",
       "      <th>0</th>\n",
       "      <td>0.075421</td>\n",
       "      <td>12344</td>\n",
       "    </tr>\n",
       "    <tr>\n",
       "      <th>1</th>\n",
       "      <td>0.093202</td>\n",
       "      <td>4163</td>\n",
       "    </tr>\n",
       "    <tr>\n",
       "      <th>2</th>\n",
       "      <td>0.065693</td>\n",
       "      <td>959</td>\n",
       "    </tr>\n",
       "    <tr>\n",
       "      <th>3</th>\n",
       "      <td>0.071130</td>\n",
       "      <td>1195</td>\n",
       "    </tr>\n",
       "    <tr>\n",
       "      <th>4</th>\n",
       "      <td>0.097509</td>\n",
       "      <td>2810</td>\n",
       "    </tr>\n",
       "  </tbody>\n",
       "</table>\n",
       "</div>"
      ],
      "text/plain": [
       "                      mean  count\n",
       "                      debt   debt\n",
       "family_status_id                 \n",
       "0                 0.075421  12344\n",
       "1                 0.093202   4163\n",
       "2                 0.065693    959\n",
       "3                 0.071130   1195\n",
       "4                 0.097509   2810"
      ]
     },
     "execution_count": 28,
     "metadata": {},
     "output_type": "execute_result"
    }
   ],
   "source": [
    "df.pivot_table(index='family_status_id', values='debt', aggfunc=['mean', 'count'])"
   ]
  },
  {
   "cell_type": "markdown",
   "id": "2211f433",
   "metadata": {},
   "source": [
    "Среди заемщиков, ежемесячный доход, которых не превышает 30 000, существует вероятность не выплаты кредита в срок.\n"
   ]
  },
  {
   "cell_type": "code",
   "execution_count": 29,
   "id": "7fa16bd4",
   "metadata": {},
   "outputs": [
    {
     "data": {
      "text/html": [
       "<div>\n",
       "<style scoped>\n",
       "    .dataframe tbody tr th:only-of-type {\n",
       "        vertical-align: middle;\n",
       "    }\n",
       "\n",
       "    .dataframe tbody tr th {\n",
       "        vertical-align: top;\n",
       "    }\n",
       "\n",
       "    .dataframe thead tr th {\n",
       "        text-align: left;\n",
       "    }\n",
       "\n",
       "    .dataframe thead tr:last-of-type th {\n",
       "        text-align: right;\n",
       "    }\n",
       "</style>\n",
       "<table border=\"1\" class=\"dataframe\">\n",
       "  <thead>\n",
       "    <tr>\n",
       "      <th></th>\n",
       "      <th>mean</th>\n",
       "      <th>count</th>\n",
       "    </tr>\n",
       "    <tr>\n",
       "      <th></th>\n",
       "      <th>debt</th>\n",
       "      <th>debt</th>\n",
       "    </tr>\n",
       "    <tr>\n",
       "      <th>total_income_category</th>\n",
       "      <th></th>\n",
       "      <th></th>\n",
       "    </tr>\n",
       "  </thead>\n",
       "  <tbody>\n",
       "    <tr>\n",
       "      <th>A</th>\n",
       "      <td>0.080000</td>\n",
       "      <td>25</td>\n",
       "    </tr>\n",
       "    <tr>\n",
       "      <th>B</th>\n",
       "      <td>0.070607</td>\n",
       "      <td>5042</td>\n",
       "    </tr>\n",
       "    <tr>\n",
       "      <th>C</th>\n",
       "      <td>0.084830</td>\n",
       "      <td>16032</td>\n",
       "    </tr>\n",
       "    <tr>\n",
       "      <th>D</th>\n",
       "      <td>0.060000</td>\n",
       "      <td>350</td>\n",
       "    </tr>\n",
       "    <tr>\n",
       "      <th>E</th>\n",
       "      <td>0.090909</td>\n",
       "      <td>22</td>\n",
       "    </tr>\n",
       "  </tbody>\n",
       "</table>\n",
       "</div>"
      ],
      "text/plain": [
       "                           mean  count\n",
       "                           debt   debt\n",
       "total_income_category                 \n",
       "A                      0.080000     25\n",
       "B                      0.070607   5042\n",
       "C                      0.084830  16032\n",
       "D                      0.060000    350\n",
       "E                      0.090909     22"
      ]
     },
     "execution_count": 29,
     "metadata": {},
     "output_type": "execute_result"
    }
   ],
   "source": [
    "df.pivot_table(index='total_income_category', values='debt', aggfunc=['mean', 'count'])"
   ]
  },
  {
   "cell_type": "markdown",
   "id": "01257928",
   "metadata": {
    "scrolled": true
   },
   "source": [
    "Среди заемщиков, цель получения кредита которых - операции с автомобилем и получение образования, существует вероятность не выплаты кредита в срок."
   ]
  },
  {
   "cell_type": "code",
   "execution_count": 30,
   "id": "046490e4",
   "metadata": {},
   "outputs": [
    {
     "data": {
      "text/html": [
       "<div>\n",
       "<style scoped>\n",
       "    .dataframe tbody tr th:only-of-type {\n",
       "        vertical-align: middle;\n",
       "    }\n",
       "\n",
       "    .dataframe tbody tr th {\n",
       "        vertical-align: top;\n",
       "    }\n",
       "\n",
       "    .dataframe thead tr th {\n",
       "        text-align: left;\n",
       "    }\n",
       "\n",
       "    .dataframe thead tr:last-of-type th {\n",
       "        text-align: right;\n",
       "    }\n",
       "</style>\n",
       "<table border=\"1\" class=\"dataframe\">\n",
       "  <thead>\n",
       "    <tr>\n",
       "      <th></th>\n",
       "      <th>mean</th>\n",
       "      <th>count</th>\n",
       "    </tr>\n",
       "    <tr>\n",
       "      <th></th>\n",
       "      <th>debt</th>\n",
       "      <th>debt</th>\n",
       "    </tr>\n",
       "    <tr>\n",
       "      <th>purpose_category</th>\n",
       "      <th></th>\n",
       "      <th></th>\n",
       "    </tr>\n",
       "  </thead>\n",
       "  <tbody>\n",
       "    <tr>\n",
       "      <th>операции с автомобилем</th>\n",
       "      <td>0.093547</td>\n",
       "      <td>4308</td>\n",
       "    </tr>\n",
       "    <tr>\n",
       "      <th>операции с недвижимостью</th>\n",
       "      <td>0.072314</td>\n",
       "      <td>10814</td>\n",
       "    </tr>\n",
       "    <tr>\n",
       "      <th>получение образования</th>\n",
       "      <td>0.092177</td>\n",
       "      <td>4014</td>\n",
       "    </tr>\n",
       "    <tr>\n",
       "      <th>проведение свадьбы</th>\n",
       "      <td>0.079657</td>\n",
       "      <td>2335</td>\n",
       "    </tr>\n",
       "  </tbody>\n",
       "</table>\n",
       "</div>"
      ],
      "text/plain": [
       "                              mean  count\n",
       "                              debt   debt\n",
       "purpose_category                         \n",
       "операции с автомобилем    0.093547   4308\n",
       "операции с недвижимостью  0.072314  10814\n",
       "получение образования     0.092177   4014\n",
       "проведение свадьбы        0.079657   2335"
      ]
     },
     "execution_count": 30,
     "metadata": {},
     "output_type": "execute_result"
    }
   ],
   "source": [
    "df.pivot_table(index='purpose_category', values='debt', aggfunc=['mean', 'count'])"
   ]
  },
  {
   "cell_type": "markdown",
   "id": "3ecc3ae4",
   "metadata": {},
   "source": [
    "##### Вывод 1:"
   ]
  },
  {
   "cell_type": "markdown",
   "id": "e92d3d41",
   "metadata": {},
   "source": [
    "Гипотеза,о том что семейное положение и количество детей клиента банка частично подтвердилась:\n",
    "\n",
    "cреди заемщиков с количеством детей - четыре, существует вероятность не выплаты кредита в срок.\n",
    "среди заемщиков, статус которых - в гражданском браке и не женат/не замужем существует вероятность не выплаты кредита в срок. "
   ]
  },
  {
   "cell_type": "markdown",
   "id": "122aac38",
   "metadata": {},
   "source": [
    "## Общий вывод:"
   ]
  },
  {
   "cell_type": "markdown",
   "id": "b0c787e7",
   "metadata": {},
   "source": [
    "Гипотеза,о том что семейное положение и количество детей клиента банка частично подтвердилась:\n",
    "\n",
    "cреди заемщиков с количеством детей (41 клиент из общего количества - 21 525 человек) четыре, существует вероятность не выплаты кредита в срок, но среди заемщиков с пятью детьми должников нет (клиентов с пятью детьми 9 из 21 525 человек);\n",
    "\n",
    "среди заемщиков, статус которых - в гражданском браке и не женат/не замужем(4 163 и 2810 клиентов), существует вероятность не выплаты кредита в срок, среди заемщиков статус которых(959 клиентов) - вдовец/вдова эта вероятность минимальна.\n",
    "\n",
    "Также мы проверили влияет ли ежемесячный доход и цель получения кредита на погашение кредиты в срок:\n",
    "\n",
    " среди заемщиков, ежемесячный доход которых составляет от 0 до 30 тыс.(22 клиента) существует вероятность не выплаты кредита в срок, среди заемщиков, ежемесячный доход которых составляет от 31 тыс. до 50 тыс.(350 клиентов), эта вероятность минимальна;\n",
    "\n",
    " среди заемщиков, цель получения кредита которых - получение образования (4014 клиентов) и операции с автомобилем (4308 клиентов) существует вероятность не выплаты кредита в срок.\n"
   ]
  }
 ],
 "metadata": {
  "ExecuteTimeLog": [
   {
    "duration": 943,
    "start_time": "2022-05-23T04:53:03.160Z"
   },
   {
    "duration": 130,
    "start_time": "2022-05-23T04:56:01.165Z"
   },
   {
    "duration": 84,
    "start_time": "2022-05-23T04:56:10.686Z"
   },
   {
    "duration": 24,
    "start_time": "2022-05-23T05:03:50.665Z"
   },
   {
    "duration": 7,
    "start_time": "2022-05-23T05:15:34.297Z"
   },
   {
    "duration": 67,
    "start_time": "2022-05-23T05:24:46.655Z"
   },
   {
    "duration": 82,
    "start_time": "2022-05-23T05:25:28.375Z"
   },
   {
    "duration": 69,
    "start_time": "2022-05-23T05:26:08.424Z"
   },
   {
    "duration": 10,
    "start_time": "2022-05-23T06:25:40.060Z"
   },
   {
    "duration": 9,
    "start_time": "2022-05-23T06:26:26.668Z"
   },
   {
    "duration": 5,
    "start_time": "2022-05-23T06:27:14.667Z"
   },
   {
    "duration": 5,
    "start_time": "2022-05-23T06:28:32.821Z"
   },
   {
    "duration": 4,
    "start_time": "2022-05-23T06:33:16.727Z"
   },
   {
    "duration": 7,
    "start_time": "2022-05-23T06:33:29.860Z"
   },
   {
    "duration": 3,
    "start_time": "2022-05-23T06:33:42.536Z"
   },
   {
    "duration": 6,
    "start_time": "2022-05-23T06:33:44.060Z"
   },
   {
    "duration": 4,
    "start_time": "2022-05-23T06:33:56.686Z"
   },
   {
    "duration": 5,
    "start_time": "2022-05-23T06:34:06.651Z"
   },
   {
    "duration": 5,
    "start_time": "2022-05-23T06:34:09.322Z"
   },
   {
    "duration": 4,
    "start_time": "2022-05-23T06:34:20.909Z"
   },
   {
    "duration": 5,
    "start_time": "2022-05-23T06:34:47.506Z"
   },
   {
    "duration": 67,
    "start_time": "2022-05-23T06:37:51.458Z"
   },
   {
    "duration": 7,
    "start_time": "2022-05-23T08:45:05.429Z"
   },
   {
    "duration": 78,
    "start_time": "2022-05-23T08:51:16.216Z"
   },
   {
    "duration": 4,
    "start_time": "2022-05-23T08:52:56.032Z"
   },
   {
    "duration": 4,
    "start_time": "2022-05-23T08:53:06.978Z"
   },
   {
    "duration": 4,
    "start_time": "2022-05-23T08:53:27.659Z"
   },
   {
    "duration": 5,
    "start_time": "2022-05-23T08:55:54.664Z"
   },
   {
    "duration": 18,
    "start_time": "2022-05-23T08:59:55.929Z"
   },
   {
    "duration": 18,
    "start_time": "2022-05-23T09:00:30.774Z"
   },
   {
    "duration": 30,
    "start_time": "2022-05-23T10:30:57.536Z"
   },
   {
    "duration": 23,
    "start_time": "2022-05-23T10:31:05.381Z"
   },
   {
    "duration": 16,
    "start_time": "2022-05-23T10:32:03.215Z"
   },
   {
    "duration": 9,
    "start_time": "2022-05-23T10:32:24.935Z"
   },
   {
    "duration": 10,
    "start_time": "2022-05-23T10:32:42.899Z"
   },
   {
    "duration": 7,
    "start_time": "2022-05-23T10:33:39.769Z"
   },
   {
    "duration": 6,
    "start_time": "2022-05-23T10:34:17.117Z"
   },
   {
    "duration": 6,
    "start_time": "2022-05-23T10:34:28.366Z"
   },
   {
    "duration": 19,
    "start_time": "2022-05-23T10:50:01.296Z"
   },
   {
    "duration": 18,
    "start_time": "2022-05-23T10:50:14.730Z"
   },
   {
    "duration": 17,
    "start_time": "2022-05-23T10:55:31.606Z"
   },
   {
    "duration": 3,
    "start_time": "2022-05-23T10:55:48.174Z"
   },
   {
    "duration": 5,
    "start_time": "2022-05-23T10:55:56.233Z"
   },
   {
    "duration": 4,
    "start_time": "2022-05-23T10:56:46.781Z"
   },
   {
    "duration": 4,
    "start_time": "2022-05-23T10:56:49.535Z"
   },
   {
    "duration": 4,
    "start_time": "2022-05-23T10:56:55.862Z"
   },
   {
    "duration": 5,
    "start_time": "2022-05-23T10:56:57.260Z"
   },
   {
    "duration": 5,
    "start_time": "2022-05-23T10:57:21.455Z"
   },
   {
    "duration": 4,
    "start_time": "2022-05-23T11:43:47.148Z"
   },
   {
    "duration": 7,
    "start_time": "2022-05-23T11:44:00.829Z"
   },
   {
    "duration": 6,
    "start_time": "2022-05-23T11:44:42.996Z"
   },
   {
    "duration": 5,
    "start_time": "2022-05-23T11:44:51.468Z"
   },
   {
    "duration": 5,
    "start_time": "2022-05-23T11:44:59.359Z"
   },
   {
    "duration": 5,
    "start_time": "2022-05-23T11:45:00.057Z"
   },
   {
    "duration": 78,
    "start_time": "2022-05-23T12:08:12.009Z"
   },
   {
    "duration": 14,
    "start_time": "2022-05-23T12:45:20.578Z"
   },
   {
    "duration": 15,
    "start_time": "2022-05-23T12:46:55.182Z"
   },
   {
    "duration": 13,
    "start_time": "2022-05-23T12:47:13.054Z"
   },
   {
    "duration": 34,
    "start_time": "2022-05-23T13:17:26.696Z"
   },
   {
    "duration": 5,
    "start_time": "2022-05-23T13:17:39.780Z"
   },
   {
    "duration": 5,
    "start_time": "2022-05-23T13:18:48.738Z"
   },
   {
    "duration": 5,
    "start_time": "2022-05-23T13:20:42.745Z"
   },
   {
    "duration": 5,
    "start_time": "2022-05-23T13:20:59.661Z"
   },
   {
    "duration": 26,
    "start_time": "2022-05-23T13:23:02.406Z"
   },
   {
    "duration": 175,
    "start_time": "2022-05-23T13:25:07.546Z"
   },
   {
    "duration": 11,
    "start_time": "2022-05-23T13:29:39.424Z"
   },
   {
    "duration": 12,
    "start_time": "2022-05-23T13:30:38.397Z"
   },
   {
    "duration": 6,
    "start_time": "2022-05-23T13:36:39.415Z"
   },
   {
    "duration": 4,
    "start_time": "2022-05-23T13:36:50.004Z"
   },
   {
    "duration": 3,
    "start_time": "2022-05-23T13:36:55.564Z"
   },
   {
    "duration": 5,
    "start_time": "2022-05-23T13:37:56.544Z"
   },
   {
    "duration": 5,
    "start_time": "2022-05-23T13:38:20.431Z"
   },
   {
    "duration": 4,
    "start_time": "2022-05-23T16:22:59.166Z"
   },
   {
    "duration": 7,
    "start_time": "2022-05-23T16:23:26.764Z"
   },
   {
    "duration": 64,
    "start_time": "2022-05-24T05:10:00.827Z"
   },
   {
    "duration": 7,
    "start_time": "2022-05-24T05:10:14.571Z"
   },
   {
    "duration": 749,
    "start_time": "2022-05-24T05:10:43.333Z"
   },
   {
    "duration": 17,
    "start_time": "2022-05-24T05:10:44.195Z"
   },
   {
    "duration": 6,
    "start_time": "2022-05-24T05:10:44.557Z"
   },
   {
    "duration": 6,
    "start_time": "2022-05-24T05:10:45.165Z"
   },
   {
    "duration": 6,
    "start_time": "2022-05-24T05:10:46.759Z"
   },
   {
    "duration": 10,
    "start_time": "2022-05-24T05:10:47.681Z"
   },
   {
    "duration": 6,
    "start_time": "2022-05-24T05:10:49.956Z"
   },
   {
    "duration": 10,
    "start_time": "2022-05-24T12:01:23.351Z"
   },
   {
    "duration": 41,
    "start_time": "2022-05-24T13:08:15.455Z"
   },
   {
    "duration": 12,
    "start_time": "2022-05-24T13:10:03.922Z"
   },
   {
    "duration": 556,
    "start_time": "2022-05-24T13:10:33.199Z"
   },
   {
    "duration": 17,
    "start_time": "2022-05-24T13:10:33.757Z"
   },
   {
    "duration": 25,
    "start_time": "2022-05-24T13:10:33.784Z"
   },
   {
    "duration": 36,
    "start_time": "2022-05-24T13:10:33.812Z"
   },
   {
    "duration": 44,
    "start_time": "2022-05-24T13:10:33.850Z"
   },
   {
    "duration": 37,
    "start_time": "2022-05-24T13:10:33.896Z"
   },
   {
    "duration": 31,
    "start_time": "2022-05-24T13:10:33.934Z"
   },
   {
    "duration": 24,
    "start_time": "2022-05-24T13:10:33.966Z"
   },
   {
    "duration": 100,
    "start_time": "2022-05-24T13:10:33.992Z"
   },
   {
    "duration": 12,
    "start_time": "2022-05-24T13:10:40.039Z"
   },
   {
    "duration": 15,
    "start_time": "2022-05-24T13:11:36.300Z"
   },
   {
    "duration": 20,
    "start_time": "2022-05-24T13:12:02.699Z"
   },
   {
    "duration": 24,
    "start_time": "2022-05-24T13:13:16.309Z"
   },
   {
    "duration": 7,
    "start_time": "2022-05-24T13:13:22.989Z"
   },
   {
    "duration": 12,
    "start_time": "2022-05-24T13:13:29.147Z"
   },
   {
    "duration": 14,
    "start_time": "2022-05-24T13:13:37.765Z"
   },
   {
    "duration": 15,
    "start_time": "2022-05-24T13:14:09.431Z"
   },
   {
    "duration": 6,
    "start_time": "2022-05-24T13:14:10.122Z"
   },
   {
    "duration": 7,
    "start_time": "2022-05-24T13:14:10.903Z"
   },
   {
    "duration": 4,
    "start_time": "2022-05-24T13:14:13.127Z"
   },
   {
    "duration": 5,
    "start_time": "2022-05-24T13:14:14.204Z"
   },
   {
    "duration": 7,
    "start_time": "2022-05-24T13:14:18.030Z"
   },
   {
    "duration": 6,
    "start_time": "2022-05-24T13:14:18.670Z"
   },
   {
    "duration": 17,
    "start_time": "2022-05-24T13:14:31.166Z"
   },
   {
    "duration": 556,
    "start_time": "2022-05-24T13:14:55.930Z"
   },
   {
    "duration": 22,
    "start_time": "2022-05-24T13:14:56.488Z"
   },
   {
    "duration": 8,
    "start_time": "2022-05-24T13:14:56.512Z"
   },
   {
    "duration": 11,
    "start_time": "2022-05-24T13:14:56.523Z"
   },
   {
    "duration": 5,
    "start_time": "2022-05-24T13:14:56.536Z"
   },
   {
    "duration": 48,
    "start_time": "2022-05-24T13:14:56.543Z"
   },
   {
    "duration": 10,
    "start_time": "2022-05-24T13:14:56.593Z"
   },
   {
    "duration": 12,
    "start_time": "2022-05-24T13:14:56.605Z"
   },
   {
    "duration": 20,
    "start_time": "2022-05-24T13:14:56.620Z"
   },
   {
    "duration": 82,
    "start_time": "2022-05-24T13:17:02.089Z"
   },
   {
    "duration": 10,
    "start_time": "2022-05-24T13:24:54.400Z"
   },
   {
    "duration": 10,
    "start_time": "2022-05-24T13:26:36.915Z"
   },
   {
    "duration": 9,
    "start_time": "2022-05-24T13:26:46.165Z"
   },
   {
    "duration": 10,
    "start_time": "2022-05-24T13:26:47.167Z"
   },
   {
    "duration": 11,
    "start_time": "2022-05-24T13:31:08.886Z"
   },
   {
    "duration": 11,
    "start_time": "2022-05-24T13:40:49.739Z"
   },
   {
    "duration": 11,
    "start_time": "2022-05-24T13:40:59.526Z"
   },
   {
    "duration": 580,
    "start_time": "2022-05-24T13:41:14.745Z"
   },
   {
    "duration": 17,
    "start_time": "2022-05-24T13:41:15.327Z"
   },
   {
    "duration": 13,
    "start_time": "2022-05-24T13:41:15.345Z"
   },
   {
    "duration": 32,
    "start_time": "2022-05-24T13:41:15.360Z"
   },
   {
    "duration": 8,
    "start_time": "2022-05-24T13:41:15.393Z"
   },
   {
    "duration": 100,
    "start_time": "2022-05-24T13:41:15.402Z"
   },
   {
    "duration": 0,
    "start_time": "2022-05-24T13:41:15.504Z"
   },
   {
    "duration": 0,
    "start_time": "2022-05-24T13:41:15.505Z"
   },
   {
    "duration": 0,
    "start_time": "2022-05-24T13:41:15.506Z"
   },
   {
    "duration": 9,
    "start_time": "2022-05-24T13:43:25.669Z"
   },
   {
    "duration": 86,
    "start_time": "2022-05-24T13:43:40.090Z"
   },
   {
    "duration": 15,
    "start_time": "2022-05-24T13:43:44.826Z"
   },
   {
    "duration": 6,
    "start_time": "2022-05-24T13:43:45.587Z"
   },
   {
    "duration": 6,
    "start_time": "2022-05-24T13:43:48.602Z"
   },
   {
    "duration": 5,
    "start_time": "2022-05-24T13:43:50.588Z"
   },
   {
    "duration": 9,
    "start_time": "2022-05-24T13:43:52.583Z"
   },
   {
    "duration": 9,
    "start_time": "2022-05-24T13:44:20.061Z"
   },
   {
    "duration": 10,
    "start_time": "2022-05-24T13:45:03.826Z"
   },
   {
    "duration": 10,
    "start_time": "2022-05-24T13:45:10.340Z"
   },
   {
    "duration": 10,
    "start_time": "2022-05-24T13:46:29.218Z"
   },
   {
    "duration": 17,
    "start_time": "2022-05-24T13:47:24.746Z"
   },
   {
    "duration": 11,
    "start_time": "2022-05-24T13:47:46.545Z"
   },
   {
    "duration": 10,
    "start_time": "2022-05-24T13:48:51.746Z"
   },
   {
    "duration": 14,
    "start_time": "2022-05-24T14:09:27.921Z"
   },
   {
    "duration": 76,
    "start_time": "2022-05-24T14:09:58.090Z"
   },
   {
    "duration": 11,
    "start_time": "2022-05-24T14:10:10.353Z"
   },
   {
    "duration": 10,
    "start_time": "2022-05-24T14:10:10.525Z"
   },
   {
    "duration": 10,
    "start_time": "2022-05-24T14:10:15.349Z"
   },
   {
    "duration": 503,
    "start_time": "2022-05-24T14:10:25.926Z"
   },
   {
    "duration": 17,
    "start_time": "2022-05-24T14:10:26.431Z"
   },
   {
    "duration": 5,
    "start_time": "2022-05-24T14:10:26.450Z"
   },
   {
    "duration": 28,
    "start_time": "2022-05-24T14:10:26.458Z"
   },
   {
    "duration": 16,
    "start_time": "2022-05-24T14:10:26.487Z"
   },
   {
    "duration": 0,
    "start_time": "2022-05-24T14:10:26.505Z"
   },
   {
    "duration": 0,
    "start_time": "2022-05-24T14:10:26.507Z"
   },
   {
    "duration": 0,
    "start_time": "2022-05-24T14:10:26.509Z"
   },
   {
    "duration": 80,
    "start_time": "2022-05-24T14:10:33.561Z"
   },
   {
    "duration": 15,
    "start_time": "2022-05-24T14:10:36.014Z"
   },
   {
    "duration": 5,
    "start_time": "2022-05-24T14:10:36.816Z"
   },
   {
    "duration": 7,
    "start_time": "2022-05-24T14:10:37.485Z"
   },
   {
    "duration": 4,
    "start_time": "2022-05-24T14:10:41.697Z"
   },
   {
    "duration": 7,
    "start_time": "2022-05-24T14:12:04.688Z"
   },
   {
    "duration": 14,
    "start_time": "2022-05-24T14:13:14.606Z"
   },
   {
    "duration": 80,
    "start_time": "2022-05-24T14:13:30.864Z"
   },
   {
    "duration": 10,
    "start_time": "2022-05-24T14:13:43.301Z"
   },
   {
    "duration": 19,
    "start_time": "2022-05-24T14:14:07.320Z"
   },
   {
    "duration": 6,
    "start_time": "2022-05-24T14:14:46.110Z"
   },
   {
    "duration": 18,
    "start_time": "2022-05-24T14:14:47.144Z"
   },
   {
    "duration": 6,
    "start_time": "2022-05-24T14:15:21.233Z"
   },
   {
    "duration": 4,
    "start_time": "2022-05-24T14:17:56.914Z"
   },
   {
    "duration": 6,
    "start_time": "2022-05-24T14:18:05.385Z"
   },
   {
    "duration": 7,
    "start_time": "2022-05-24T14:18:28.053Z"
   },
   {
    "duration": 17,
    "start_time": "2022-05-24T14:18:34.784Z"
   },
   {
    "duration": 352,
    "start_time": "2022-05-24T14:20:15.190Z"
   },
   {
    "duration": 6,
    "start_time": "2022-05-24T14:20:50.835Z"
   },
   {
    "duration": 86,
    "start_time": "2022-05-24T17:37:56.459Z"
   },
   {
    "duration": 8,
    "start_time": "2022-05-24T17:38:50.420Z"
   },
   {
    "duration": 8,
    "start_time": "2022-05-24T17:39:55.631Z"
   },
   {
    "duration": 39,
    "start_time": "2022-05-24T17:40:36.478Z"
   },
   {
    "duration": 7,
    "start_time": "2022-05-24T17:40:57.519Z"
   },
   {
    "duration": 7,
    "start_time": "2022-05-24T17:41:58.790Z"
   },
   {
    "duration": 7,
    "start_time": "2022-05-24T17:42:38.560Z"
   },
   {
    "duration": 6,
    "start_time": "2022-05-24T17:43:07.358Z"
   },
   {
    "duration": 6,
    "start_time": "2022-05-24T17:43:58.814Z"
   },
   {
    "duration": 4,
    "start_time": "2022-05-24T17:45:34.952Z"
   },
   {
    "duration": 4,
    "start_time": "2022-05-24T17:47:07.351Z"
   },
   {
    "duration": 6,
    "start_time": "2022-05-24T17:50:47.267Z"
   },
   {
    "duration": 6,
    "start_time": "2022-05-24T17:50:59.860Z"
   },
   {
    "duration": 8,
    "start_time": "2022-05-24T17:51:20.586Z"
   },
   {
    "duration": 8,
    "start_time": "2022-05-24T17:51:51.748Z"
   },
   {
    "duration": 8,
    "start_time": "2022-05-24T17:53:36.506Z"
   },
   {
    "duration": 14,
    "start_time": "2022-05-24T17:54:26.464Z"
   },
   {
    "duration": 16,
    "start_time": "2022-05-24T17:54:31.871Z"
   },
   {
    "duration": 9,
    "start_time": "2022-05-24T17:55:20.777Z"
   },
   {
    "duration": 7,
    "start_time": "2022-05-24T17:55:38.699Z"
   },
   {
    "duration": 50,
    "start_time": "2022-05-24T17:56:20.710Z"
   },
   {
    "duration": 14,
    "start_time": "2022-05-24T17:56:27.021Z"
   },
   {
    "duration": 7,
    "start_time": "2022-05-24T17:56:58.565Z"
   },
   {
    "duration": 5,
    "start_time": "2022-05-24T18:00:45.390Z"
   },
   {
    "duration": 27,
    "start_time": "2022-05-24T18:12:12.365Z"
   },
   {
    "duration": 92,
    "start_time": "2022-05-25T08:09:30.603Z"
   },
   {
    "duration": 7,
    "start_time": "2022-05-25T08:09:35.862Z"
   },
   {
    "duration": 8,
    "start_time": "2022-05-25T08:09:36.828Z"
   },
   {
    "duration": 8,
    "start_time": "2022-05-25T08:09:37.608Z"
   },
   {
    "duration": 10,
    "start_time": "2022-05-25T08:09:42.722Z"
   },
   {
    "duration": 822,
    "start_time": "2022-05-25T08:09:57.471Z"
   },
   {
    "duration": 19,
    "start_time": "2022-05-25T08:09:59.471Z"
   },
   {
    "duration": 6,
    "start_time": "2022-05-25T08:10:05.534Z"
   },
   {
    "duration": 6,
    "start_time": "2022-05-25T08:10:06.991Z"
   },
   {
    "duration": 19,
    "start_time": "2022-05-25T08:10:09.397Z"
   },
   {
    "duration": 7,
    "start_time": "2022-05-25T08:10:15.877Z"
   },
   {
    "duration": 8,
    "start_time": "2022-05-25T08:10:22.706Z"
   },
   {
    "duration": 6,
    "start_time": "2022-05-25T08:10:29.171Z"
   },
   {
    "duration": 8,
    "start_time": "2022-05-25T08:10:33.775Z"
   },
   {
    "duration": 15,
    "start_time": "2022-05-25T08:10:37.347Z"
   },
   {
    "duration": 7,
    "start_time": "2022-05-25T08:10:38.611Z"
   },
   {
    "duration": 5,
    "start_time": "2022-05-25T08:10:43.295Z"
   },
   {
    "duration": 20,
    "start_time": "2022-05-25T08:11:49.604Z"
   },
   {
    "duration": 5,
    "start_time": "2022-05-25T08:11:50.311Z"
   },
   {
    "duration": 5,
    "start_time": "2022-05-25T08:11:52.896Z"
   },
   {
    "duration": 21,
    "start_time": "2022-05-25T08:13:01.614Z"
   },
   {
    "duration": 26,
    "start_time": "2022-05-25T08:13:26.655Z"
   },
   {
    "duration": 21,
    "start_time": "2022-05-25T08:13:44.275Z"
   },
   {
    "duration": 22,
    "start_time": "2022-05-25T08:15:56.098Z"
   },
   {
    "duration": 126,
    "start_time": "2022-05-25T08:23:21.919Z"
   },
   {
    "duration": 18,
    "start_time": "2022-05-25T08:23:42.330Z"
   },
   {
    "duration": 10,
    "start_time": "2022-05-25T08:24:04.250Z"
   },
   {
    "duration": 28,
    "start_time": "2022-05-25T08:24:05.014Z"
   },
   {
    "duration": 14,
    "start_time": "2022-05-25T08:24:36.313Z"
   },
   {
    "duration": 13,
    "start_time": "2022-05-25T08:24:52.420Z"
   },
   {
    "duration": 19,
    "start_time": "2022-05-25T08:24:53.102Z"
   },
   {
    "duration": 14,
    "start_time": "2022-05-25T08:26:46.826Z"
   },
   {
    "duration": 17,
    "start_time": "2022-05-25T08:26:47.572Z"
   },
   {
    "duration": 14,
    "start_time": "2022-05-25T08:35:38.042Z"
   },
   {
    "duration": 27,
    "start_time": "2022-05-25T08:35:39.167Z"
   },
   {
    "duration": 14,
    "start_time": "2022-05-25T08:35:55.742Z"
   },
   {
    "duration": 28,
    "start_time": "2022-05-25T08:35:56.361Z"
   },
   {
    "duration": 21,
    "start_time": "2022-05-25T08:36:38.905Z"
   },
   {
    "duration": 30,
    "start_time": "2022-05-25T08:36:39.787Z"
   },
   {
    "duration": 22,
    "start_time": "2022-05-25T08:38:31.174Z"
   },
   {
    "duration": 21,
    "start_time": "2022-05-25T08:38:32.028Z"
   },
   {
    "duration": 23,
    "start_time": "2022-05-25T08:38:57.910Z"
   },
   {
    "duration": 29,
    "start_time": "2022-05-25T08:39:10.703Z"
   },
   {
    "duration": 18,
    "start_time": "2022-05-25T08:39:11.669Z"
   },
   {
    "duration": 21,
    "start_time": "2022-05-25T08:39:35.698Z"
   },
   {
    "duration": 19,
    "start_time": "2022-05-25T08:39:36.268Z"
   },
   {
    "duration": 18,
    "start_time": "2022-05-25T08:39:36.794Z"
   },
   {
    "duration": 19,
    "start_time": "2022-05-25T08:39:45.216Z"
   },
   {
    "duration": 19,
    "start_time": "2022-05-25T08:40:01.713Z"
   },
   {
    "duration": 7,
    "start_time": "2022-05-25T08:40:02.389Z"
   },
   {
    "duration": 8,
    "start_time": "2022-05-25T08:40:02.686Z"
   },
   {
    "duration": 6,
    "start_time": "2022-05-25T08:40:03.301Z"
   },
   {
    "duration": 7,
    "start_time": "2022-05-25T08:40:04.141Z"
   },
   {
    "duration": 13,
    "start_time": "2022-05-25T08:40:04.471Z"
   },
   {
    "duration": 20,
    "start_time": "2022-05-25T08:40:04.857Z"
   },
   {
    "duration": 18,
    "start_time": "2022-05-25T08:40:05.311Z"
   },
   {
    "duration": 20,
    "start_time": "2022-05-25T08:40:06.152Z"
   },
   {
    "duration": 20,
    "start_time": "2022-05-25T08:40:07.290Z"
   },
   {
    "duration": 27,
    "start_time": "2022-05-25T08:40:27.061Z"
   },
   {
    "duration": 92,
    "start_time": "2022-05-25T08:40:39.991Z"
   },
   {
    "duration": 17,
    "start_time": "2022-05-25T08:40:41.187Z"
   },
   {
    "duration": 6,
    "start_time": "2022-05-25T08:40:41.888Z"
   },
   {
    "duration": 6,
    "start_time": "2022-05-25T08:40:43.004Z"
   },
   {
    "duration": 18,
    "start_time": "2022-05-25T08:40:45.367Z"
   },
   {
    "duration": 6,
    "start_time": "2022-05-25T08:40:48.799Z"
   },
   {
    "duration": 7,
    "start_time": "2022-05-25T08:40:49.641Z"
   },
   {
    "duration": 6,
    "start_time": "2022-05-25T08:40:54.164Z"
   },
   {
    "duration": 8,
    "start_time": "2022-05-25T08:40:56.590Z"
   },
   {
    "duration": 14,
    "start_time": "2022-05-25T08:40:57.859Z"
   },
   {
    "duration": 24,
    "start_time": "2022-05-25T08:41:00.925Z"
   },
   {
    "duration": 23,
    "start_time": "2022-05-25T08:41:02.203Z"
   },
   {
    "duration": 18,
    "start_time": "2022-05-25T08:41:04.274Z"
   },
   {
    "duration": 28,
    "start_time": "2022-05-25T08:41:09.097Z"
   },
   {
    "duration": 20,
    "start_time": "2022-05-25T08:41:37.557Z"
   },
   {
    "duration": 19,
    "start_time": "2022-05-25T08:41:40.224Z"
   },
   {
    "duration": 24,
    "start_time": "2022-05-25T08:42:01.418Z"
   },
   {
    "duration": 18,
    "start_time": "2022-05-25T08:42:02.046Z"
   },
   {
    "duration": 41,
    "start_time": "2022-05-25T08:45:43.117Z"
   },
   {
    "duration": 18,
    "start_time": "2022-05-25T08:45:43.815Z"
   },
   {
    "duration": 66,
    "start_time": "2022-05-25T08:50:02.018Z"
   },
   {
    "duration": 19,
    "start_time": "2022-05-25T08:50:03.465Z"
   },
   {
    "duration": 34,
    "start_time": "2022-05-25T08:50:33.412Z"
   },
   {
    "duration": 20,
    "start_time": "2022-05-25T08:50:34.188Z"
   },
   {
    "duration": 33,
    "start_time": "2022-05-25T08:51:14.047Z"
   },
   {
    "duration": 20,
    "start_time": "2022-05-25T08:51:15.343Z"
   },
   {
    "duration": 33,
    "start_time": "2022-05-25T08:51:51.954Z"
   },
   {
    "duration": 17,
    "start_time": "2022-05-25T08:51:52.754Z"
   },
   {
    "duration": 37,
    "start_time": "2022-05-25T08:53:28.446Z"
   },
   {
    "duration": 18,
    "start_time": "2022-05-25T08:53:29.318Z"
   },
   {
    "duration": 7,
    "start_time": "2022-05-25T11:58:54.586Z"
   },
   {
    "duration": 7,
    "start_time": "2022-05-25T12:00:05.841Z"
   },
   {
    "duration": 6,
    "start_time": "2022-05-25T12:01:27.692Z"
   },
   {
    "duration": 11,
    "start_time": "2022-05-25T12:02:30.055Z"
   },
   {
    "duration": 16,
    "start_time": "2022-05-25T12:02:33.353Z"
   },
   {
    "duration": 10,
    "start_time": "2022-05-25T12:02:44.554Z"
   },
   {
    "duration": 4,
    "start_time": "2022-05-25T12:02:45.325Z"
   },
   {
    "duration": 4,
    "start_time": "2022-05-25T12:02:46.053Z"
   },
   {
    "duration": 5,
    "start_time": "2022-05-25T12:02:46.940Z"
   },
   {
    "duration": 12,
    "start_time": "2022-05-25T12:02:47.294Z"
   },
   {
    "duration": 18,
    "start_time": "2022-05-25T12:02:47.560Z"
   },
   {
    "duration": 11,
    "start_time": "2022-05-25T12:02:48.521Z"
   },
   {
    "duration": 520,
    "start_time": "2022-05-25T12:02:56.678Z"
   },
   {
    "duration": 22,
    "start_time": "2022-05-25T12:02:57.200Z"
   },
   {
    "duration": 5,
    "start_time": "2022-05-25T12:02:57.224Z"
   },
   {
    "duration": 9,
    "start_time": "2022-05-25T12:02:57.232Z"
   },
   {
    "duration": 27,
    "start_time": "2022-05-25T12:02:57.266Z"
   },
   {
    "duration": 7,
    "start_time": "2022-05-25T12:02:57.296Z"
   },
   {
    "duration": 10,
    "start_time": "2022-05-25T12:02:57.305Z"
   },
   {
    "duration": 8,
    "start_time": "2022-05-25T12:02:57.317Z"
   },
   {
    "duration": 42,
    "start_time": "2022-05-25T12:02:57.326Z"
   },
   {
    "duration": 19,
    "start_time": "2022-05-25T12:02:57.371Z"
   },
   {
    "duration": 38,
    "start_time": "2022-05-25T12:02:57.392Z"
   },
   {
    "duration": 33,
    "start_time": "2022-05-25T12:02:57.432Z"
   },
   {
    "duration": 18,
    "start_time": "2022-05-25T12:02:57.467Z"
   },
   {
    "duration": 21,
    "start_time": "2022-05-25T12:02:57.487Z"
   },
   {
    "duration": 70,
    "start_time": "2022-05-25T12:02:57.510Z"
   },
   {
    "duration": 18,
    "start_time": "2022-05-25T12:02:57.581Z"
   },
   {
    "duration": 91,
    "start_time": "2022-05-25T12:02:57.601Z"
   },
   {
    "duration": 0,
    "start_time": "2022-05-25T12:02:57.694Z"
   },
   {
    "duration": 88,
    "start_time": "2022-05-25T12:03:02.405Z"
   },
   {
    "duration": 17,
    "start_time": "2022-05-25T12:03:04.226Z"
   },
   {
    "duration": 6,
    "start_time": "2022-05-25T12:03:04.857Z"
   },
   {
    "duration": 6,
    "start_time": "2022-05-25T12:03:05.719Z"
   },
   {
    "duration": 18,
    "start_time": "2022-05-25T12:03:09.432Z"
   },
   {
    "duration": 5,
    "start_time": "2022-05-25T12:03:10.967Z"
   },
   {
    "duration": 8,
    "start_time": "2022-05-25T12:03:11.608Z"
   },
   {
    "duration": 5,
    "start_time": "2022-05-25T12:03:14.204Z"
   },
   {
    "duration": 7,
    "start_time": "2022-05-25T12:03:17.875Z"
   },
   {
    "duration": 20,
    "start_time": "2022-05-25T12:03:18.404Z"
   },
   {
    "duration": 29,
    "start_time": "2022-05-25T12:03:21.723Z"
   },
   {
    "duration": 20,
    "start_time": "2022-05-25T12:03:25.921Z"
   },
   {
    "duration": 18,
    "start_time": "2022-05-25T12:03:26.837Z"
   },
   {
    "duration": 22,
    "start_time": "2022-05-25T12:03:27.565Z"
   },
   {
    "duration": 6,
    "start_time": "2022-05-25T12:04:09.842Z"
   },
   {
    "duration": 5,
    "start_time": "2022-05-25T12:04:23.130Z"
   },
   {
    "duration": 4,
    "start_time": "2022-05-25T12:04:23.790Z"
   },
   {
    "duration": 4,
    "start_time": "2022-05-25T12:04:24.395Z"
   },
   {
    "duration": 10,
    "start_time": "2022-05-25T12:04:24.853Z"
   },
   {
    "duration": 14,
    "start_time": "2022-05-25T12:04:25.577Z"
   },
   {
    "duration": 9,
    "start_time": "2022-05-25T12:04:26.687Z"
   },
   {
    "duration": 14,
    "start_time": "2022-05-25T12:04:28.311Z"
   },
   {
    "duration": 18,
    "start_time": "2022-05-25T12:04:28.987Z"
   },
   {
    "duration": 20,
    "start_time": "2022-05-25T12:04:44.162Z"
   },
   {
    "duration": 15,
    "start_time": "2022-05-25T12:04:45.369Z"
   },
   {
    "duration": 10,
    "start_time": "2022-05-25T12:05:37.878Z"
   },
   {
    "duration": 10,
    "start_time": "2022-05-25T12:06:01.238Z"
   },
   {
    "duration": 10,
    "start_time": "2022-05-25T12:06:05.019Z"
   },
   {
    "duration": 4,
    "start_time": "2022-05-25T12:06:07.635Z"
   },
   {
    "duration": 9,
    "start_time": "2022-05-25T12:06:40.691Z"
   },
   {
    "duration": 5,
    "start_time": "2022-05-25T12:06:41.805Z"
   },
   {
    "duration": 514,
    "start_time": "2022-05-25T12:06:51.003Z"
   },
   {
    "duration": 16,
    "start_time": "2022-05-25T12:06:51.519Z"
   },
   {
    "duration": 5,
    "start_time": "2022-05-25T12:06:51.537Z"
   },
   {
    "duration": 25,
    "start_time": "2022-05-25T12:06:51.543Z"
   },
   {
    "duration": 21,
    "start_time": "2022-05-25T12:06:51.570Z"
   },
   {
    "duration": 6,
    "start_time": "2022-05-25T12:06:51.593Z"
   },
   {
    "duration": 9,
    "start_time": "2022-05-25T12:06:51.600Z"
   },
   {
    "duration": 5,
    "start_time": "2022-05-25T12:06:51.610Z"
   },
   {
    "duration": 7,
    "start_time": "2022-05-25T12:06:51.616Z"
   },
   {
    "duration": 24,
    "start_time": "2022-05-25T12:06:51.664Z"
   },
   {
    "duration": 19,
    "start_time": "2022-05-25T12:06:51.690Z"
   },
   {
    "duration": 20,
    "start_time": "2022-05-25T12:06:51.710Z"
   },
   {
    "duration": 56,
    "start_time": "2022-05-25T12:06:51.731Z"
   },
   {
    "duration": 17,
    "start_time": "2022-05-25T12:06:51.789Z"
   },
   {
    "duration": 69,
    "start_time": "2022-05-25T12:06:51.808Z"
   },
   {
    "duration": 17,
    "start_time": "2022-05-25T12:06:51.880Z"
   },
   {
    "duration": 7,
    "start_time": "2022-05-25T12:06:51.899Z"
   },
   {
    "duration": 7,
    "start_time": "2022-05-25T12:06:51.908Z"
   },
   {
    "duration": 84,
    "start_time": "2022-05-25T12:06:59.678Z"
   },
   {
    "duration": 15,
    "start_time": "2022-05-25T12:07:01.581Z"
   },
   {
    "duration": 5,
    "start_time": "2022-05-25T12:07:02.383Z"
   },
   {
    "duration": 6,
    "start_time": "2022-05-25T12:07:03.307Z"
   },
   {
    "duration": 15,
    "start_time": "2022-05-25T12:07:04.921Z"
   },
   {
    "duration": 5,
    "start_time": "2022-05-25T12:07:06.414Z"
   },
   {
    "duration": 7,
    "start_time": "2022-05-25T12:07:07.825Z"
   },
   {
    "duration": 6,
    "start_time": "2022-05-25T12:07:10.016Z"
   },
   {
    "duration": 7,
    "start_time": "2022-05-25T12:07:12.411Z"
   },
   {
    "duration": 16,
    "start_time": "2022-05-25T12:07:14.947Z"
   },
   {
    "duration": 21,
    "start_time": "2022-05-25T12:07:21.576Z"
   },
   {
    "duration": 12,
    "start_time": "2022-05-25T12:07:37.240Z"
   },
   {
    "duration": 75,
    "start_time": "2022-05-25T12:07:41.783Z"
   },
   {
    "duration": 9,
    "start_time": "2022-05-25T12:07:49.277Z"
   },
   {
    "duration": 557,
    "start_time": "2022-05-25T12:07:57.352Z"
   },
   {
    "duration": 16,
    "start_time": "2022-05-25T12:07:57.912Z"
   },
   {
    "duration": 5,
    "start_time": "2022-05-25T12:07:57.930Z"
   },
   {
    "duration": 33,
    "start_time": "2022-05-25T12:07:57.937Z"
   },
   {
    "duration": 19,
    "start_time": "2022-05-25T12:07:57.973Z"
   },
   {
    "duration": 5,
    "start_time": "2022-05-25T12:07:57.993Z"
   },
   {
    "duration": 8,
    "start_time": "2022-05-25T12:07:57.999Z"
   },
   {
    "duration": 5,
    "start_time": "2022-05-25T12:07:58.008Z"
   },
   {
    "duration": 7,
    "start_time": "2022-05-25T12:07:58.015Z"
   },
   {
    "duration": 20,
    "start_time": "2022-05-25T12:07:58.064Z"
   },
   {
    "duration": 10,
    "start_time": "2022-05-25T12:07:58.086Z"
   },
   {
    "duration": 13,
    "start_time": "2022-05-25T12:07:58.098Z"
   },
   {
    "duration": 6,
    "start_time": "2022-05-25T12:07:58.113Z"
   },
   {
    "duration": 104,
    "start_time": "2022-05-25T12:07:58.121Z"
   },
   {
    "duration": 0,
    "start_time": "2022-05-25T12:07:58.226Z"
   },
   {
    "duration": 0,
    "start_time": "2022-05-25T12:07:58.227Z"
   },
   {
    "duration": 0,
    "start_time": "2022-05-25T12:07:58.228Z"
   },
   {
    "duration": 0,
    "start_time": "2022-05-25T12:07:58.229Z"
   },
   {
    "duration": 4,
    "start_time": "2022-05-25T12:31:02.546Z"
   },
   {
    "duration": 3,
    "start_time": "2022-05-25T12:31:04.030Z"
   },
   {
    "duration": 5,
    "start_time": "2022-05-25T12:31:04.742Z"
   },
   {
    "duration": 11,
    "start_time": "2022-05-25T12:31:05.677Z"
   },
   {
    "duration": 13,
    "start_time": "2022-05-25T12:31:15.897Z"
   },
   {
    "duration": 16,
    "start_time": "2022-05-25T12:31:16.440Z"
   },
   {
    "duration": 97,
    "start_time": "2022-05-25T12:31:20.664Z"
   },
   {
    "duration": 25,
    "start_time": "2022-05-25T12:31:22.450Z"
   },
   {
    "duration": 7,
    "start_time": "2022-05-25T12:31:24.110Z"
   },
   {
    "duration": 6,
    "start_time": "2022-05-25T12:31:25.113Z"
   },
   {
    "duration": 17,
    "start_time": "2022-05-25T12:31:30.079Z"
   },
   {
    "duration": 6,
    "start_time": "2022-05-25T12:31:32.298Z"
   },
   {
    "duration": 7,
    "start_time": "2022-05-25T12:31:33.859Z"
   },
   {
    "duration": 5,
    "start_time": "2022-05-25T12:31:37.030Z"
   },
   {
    "duration": 7,
    "start_time": "2022-05-25T12:31:39.343Z"
   },
   {
    "duration": 12,
    "start_time": "2022-05-25T12:31:40.041Z"
   },
   {
    "duration": 7,
    "start_time": "2022-05-25T12:31:40.884Z"
   },
   {
    "duration": 4,
    "start_time": "2022-05-25T12:31:41.989Z"
   },
   {
    "duration": 6,
    "start_time": "2022-05-25T12:31:43.462Z"
   },
   {
    "duration": 10,
    "start_time": "2022-05-25T12:31:45.882Z"
   },
   {
    "duration": 16,
    "start_time": "2022-05-25T12:31:48.441Z"
   },
   {
    "duration": 514,
    "start_time": "2022-05-25T12:32:09.508Z"
   },
   {
    "duration": 17,
    "start_time": "2022-05-25T12:32:10.024Z"
   },
   {
    "duration": 25,
    "start_time": "2022-05-25T12:32:10.043Z"
   },
   {
    "duration": 21,
    "start_time": "2022-05-25T12:32:10.071Z"
   },
   {
    "duration": 18,
    "start_time": "2022-05-25T12:32:10.094Z"
   },
   {
    "duration": 5,
    "start_time": "2022-05-25T12:32:10.113Z"
   },
   {
    "duration": 14,
    "start_time": "2022-05-25T12:32:10.120Z"
   },
   {
    "duration": 30,
    "start_time": "2022-05-25T12:32:10.136Z"
   },
   {
    "duration": 12,
    "start_time": "2022-05-25T12:32:10.168Z"
   },
   {
    "duration": 19,
    "start_time": "2022-05-25T12:32:10.183Z"
   },
   {
    "duration": 9,
    "start_time": "2022-05-25T12:32:10.204Z"
   },
   {
    "duration": 7,
    "start_time": "2022-05-25T12:32:10.215Z"
   },
   {
    "duration": 6,
    "start_time": "2022-05-25T12:32:10.224Z"
   },
   {
    "duration": 146,
    "start_time": "2022-05-25T12:32:10.232Z"
   },
   {
    "duration": 0,
    "start_time": "2022-05-25T12:32:10.381Z"
   },
   {
    "duration": 0,
    "start_time": "2022-05-25T12:32:10.382Z"
   },
   {
    "duration": 0,
    "start_time": "2022-05-25T12:32:10.383Z"
   },
   {
    "duration": 0,
    "start_time": "2022-05-25T12:32:10.384Z"
   },
   {
    "duration": 91,
    "start_time": "2022-05-25T12:47:30.336Z"
   },
   {
    "duration": 14,
    "start_time": "2022-05-25T12:47:31.583Z"
   },
   {
    "duration": 6,
    "start_time": "2022-05-25T12:47:32.079Z"
   },
   {
    "duration": 6,
    "start_time": "2022-05-25T12:47:32.651Z"
   },
   {
    "duration": 16,
    "start_time": "2022-05-25T12:47:33.519Z"
   },
   {
    "duration": 9,
    "start_time": "2022-05-25T12:47:34.577Z"
   },
   {
    "duration": 6,
    "start_time": "2022-05-25T12:47:35.010Z"
   },
   {
    "duration": 6,
    "start_time": "2022-05-25T12:47:36.679Z"
   },
   {
    "duration": 7,
    "start_time": "2022-05-25T12:47:37.912Z"
   },
   {
    "duration": 14,
    "start_time": "2022-05-25T12:47:38.521Z"
   },
   {
    "duration": 8,
    "start_time": "2022-05-25T12:47:39.377Z"
   },
   {
    "duration": 6,
    "start_time": "2022-05-25T12:47:40.459Z"
   },
   {
    "duration": 4,
    "start_time": "2022-05-25T12:47:40.979Z"
   },
   {
    "duration": 10,
    "start_time": "2022-05-25T12:47:43.363Z"
   },
   {
    "duration": 10,
    "start_time": "2022-05-25T12:48:13.235Z"
   },
   {
    "duration": 9,
    "start_time": "2022-05-25T12:51:41.092Z"
   },
   {
    "duration": 17,
    "start_time": "2022-05-25T12:51:46.829Z"
   },
   {
    "duration": 94,
    "start_time": "2022-05-25T12:54:01.035Z"
   },
   {
    "duration": 15,
    "start_time": "2022-05-25T12:54:01.639Z"
   },
   {
    "duration": 8,
    "start_time": "2022-05-25T12:54:01.864Z"
   },
   {
    "duration": 6,
    "start_time": "2022-05-25T12:54:02.065Z"
   },
   {
    "duration": 27,
    "start_time": "2022-05-25T12:54:02.463Z"
   },
   {
    "duration": 8,
    "start_time": "2022-05-25T12:54:03.114Z"
   },
   {
    "duration": 7,
    "start_time": "2022-05-25T12:54:03.509Z"
   },
   {
    "duration": 6,
    "start_time": "2022-05-25T12:54:04.613Z"
   },
   {
    "duration": 7,
    "start_time": "2022-05-25T12:54:05.811Z"
   },
   {
    "duration": 14,
    "start_time": "2022-05-25T12:54:06.361Z"
   },
   {
    "duration": 6,
    "start_time": "2022-05-25T12:54:07.611Z"
   },
   {
    "duration": 7,
    "start_time": "2022-05-25T12:54:08.044Z"
   },
   {
    "duration": 5,
    "start_time": "2022-05-25T12:54:08.490Z"
   },
   {
    "duration": 12,
    "start_time": "2022-05-25T12:54:09.487Z"
   },
   {
    "duration": 27,
    "start_time": "2022-05-25T12:54:11.151Z"
   },
   {
    "duration": 11,
    "start_time": "2022-05-25T12:54:11.911Z"
   },
   {
    "duration": 12,
    "start_time": "2022-05-25T12:54:26.494Z"
   },
   {
    "duration": 612,
    "start_time": "2022-05-25T12:54:33.345Z"
   },
   {
    "duration": 25,
    "start_time": "2022-05-25T12:54:33.959Z"
   },
   {
    "duration": 15,
    "start_time": "2022-05-25T12:54:33.987Z"
   },
   {
    "duration": 12,
    "start_time": "2022-05-25T12:54:34.005Z"
   },
   {
    "duration": 19,
    "start_time": "2022-05-25T12:54:34.018Z"
   },
   {
    "duration": 27,
    "start_time": "2022-05-25T12:54:34.039Z"
   },
   {
    "duration": 8,
    "start_time": "2022-05-25T12:54:34.068Z"
   },
   {
    "duration": 18,
    "start_time": "2022-05-25T12:54:34.078Z"
   },
   {
    "duration": 9,
    "start_time": "2022-05-25T12:54:34.097Z"
   },
   {
    "duration": 12,
    "start_time": "2022-05-25T12:54:34.109Z"
   },
   {
    "duration": 47,
    "start_time": "2022-05-25T12:54:34.123Z"
   },
   {
    "duration": 24,
    "start_time": "2022-05-25T12:54:34.172Z"
   },
   {
    "duration": 8,
    "start_time": "2022-05-25T12:54:34.197Z"
   },
   {
    "duration": 99,
    "start_time": "2022-05-25T12:54:34.206Z"
   },
   {
    "duration": 0,
    "start_time": "2022-05-25T12:54:34.307Z"
   },
   {
    "duration": 0,
    "start_time": "2022-05-25T12:54:34.309Z"
   },
   {
    "duration": 0,
    "start_time": "2022-05-25T12:54:34.310Z"
   },
   {
    "duration": 0,
    "start_time": "2022-05-25T12:54:34.311Z"
   },
   {
    "duration": 95,
    "start_time": "2022-05-25T12:54:39.595Z"
   },
   {
    "duration": 15,
    "start_time": "2022-05-25T12:54:40.811Z"
   },
   {
    "duration": 7,
    "start_time": "2022-05-25T12:54:41.227Z"
   },
   {
    "duration": 7,
    "start_time": "2022-05-25T12:54:41.746Z"
   },
   {
    "duration": 16,
    "start_time": "2022-05-25T12:54:42.394Z"
   },
   {
    "duration": 7,
    "start_time": "2022-05-25T12:54:43.082Z"
   },
   {
    "duration": 11,
    "start_time": "2022-05-25T12:54:43.560Z"
   },
   {
    "duration": 7,
    "start_time": "2022-05-25T12:54:44.798Z"
   },
   {
    "duration": 7,
    "start_time": "2022-05-25T12:54:45.844Z"
   },
   {
    "duration": 13,
    "start_time": "2022-05-25T12:54:46.449Z"
   },
   {
    "duration": 6,
    "start_time": "2022-05-25T12:54:48.229Z"
   },
   {
    "duration": 5,
    "start_time": "2022-05-25T12:54:48.715Z"
   },
   {
    "duration": 6,
    "start_time": "2022-05-25T12:54:49.213Z"
   },
   {
    "duration": 14,
    "start_time": "2022-05-25T12:54:50.547Z"
   },
   {
    "duration": 30,
    "start_time": "2022-05-25T12:54:52.351Z"
   },
   {
    "duration": 12,
    "start_time": "2022-05-25T12:54:55.845Z"
   },
   {
    "duration": 22,
    "start_time": "2022-05-25T12:54:57.838Z"
   },
   {
    "duration": 16,
    "start_time": "2022-05-25T12:54:58.989Z"
   },
   {
    "duration": 92,
    "start_time": "2022-05-25T13:07:27.186Z"
   },
   {
    "duration": 18,
    "start_time": "2022-05-25T13:07:30.919Z"
   },
   {
    "duration": 6,
    "start_time": "2022-05-25T13:07:31.549Z"
   },
   {
    "duration": 5,
    "start_time": "2022-05-25T13:07:32.282Z"
   },
   {
    "duration": 18,
    "start_time": "2022-05-25T13:07:33.097Z"
   },
   {
    "duration": 7,
    "start_time": "2022-05-25T13:07:34.566Z"
   },
   {
    "duration": 7,
    "start_time": "2022-05-25T13:07:35.130Z"
   },
   {
    "duration": 6,
    "start_time": "2022-05-25T13:07:36.804Z"
   },
   {
    "duration": 9,
    "start_time": "2022-05-25T13:07:38.081Z"
   },
   {
    "duration": 13,
    "start_time": "2022-05-25T13:07:38.620Z"
   },
   {
    "duration": 9,
    "start_time": "2022-05-25T13:07:40.091Z"
   },
   {
    "duration": 7,
    "start_time": "2022-05-25T13:07:41.294Z"
   },
   {
    "duration": 5,
    "start_time": "2022-05-25T13:07:42.030Z"
   },
   {
    "duration": 10,
    "start_time": "2022-05-25T13:07:43.796Z"
   },
   {
    "duration": 9,
    "start_time": "2022-05-25T13:08:13.540Z"
   },
   {
    "duration": 19,
    "start_time": "2022-05-25T13:08:14.616Z"
   },
   {
    "duration": 9,
    "start_time": "2022-05-25T13:08:15.252Z"
   },
   {
    "duration": 92,
    "start_time": "2022-05-25T14:04:11.835Z"
   },
   {
    "duration": 15,
    "start_time": "2022-05-25T14:04:13.307Z"
   },
   {
    "duration": 6,
    "start_time": "2022-05-25T14:04:13.895Z"
   },
   {
    "duration": 6,
    "start_time": "2022-05-25T14:04:14.581Z"
   },
   {
    "duration": 17,
    "start_time": "2022-05-25T14:04:16.120Z"
   },
   {
    "duration": 5,
    "start_time": "2022-05-25T14:04:17.762Z"
   },
   {
    "duration": 6,
    "start_time": "2022-05-25T14:04:18.203Z"
   },
   {
    "duration": 5,
    "start_time": "2022-05-25T14:04:20.193Z"
   },
   {
    "duration": 9,
    "start_time": "2022-05-25T14:04:21.461Z"
   },
   {
    "duration": 10,
    "start_time": "2022-05-25T14:04:22.530Z"
   },
   {
    "duration": 7,
    "start_time": "2022-05-25T14:04:23.699Z"
   },
   {
    "duration": 5,
    "start_time": "2022-05-25T14:04:24.643Z"
   },
   {
    "duration": 5,
    "start_time": "2022-05-25T14:04:25.040Z"
   },
   {
    "duration": 10,
    "start_time": "2022-05-25T14:04:26.198Z"
   },
   {
    "duration": 10,
    "start_time": "2022-05-25T14:07:16.780Z"
   },
   {
    "duration": 569,
    "start_time": "2022-05-25T14:07:32.943Z"
   },
   {
    "duration": 17,
    "start_time": "2022-05-25T14:07:33.513Z"
   },
   {
    "duration": 6,
    "start_time": "2022-05-25T14:07:33.532Z"
   },
   {
    "duration": 35,
    "start_time": "2022-05-25T14:07:33.541Z"
   },
   {
    "duration": 18,
    "start_time": "2022-05-25T14:07:33.579Z"
   },
   {
    "duration": 5,
    "start_time": "2022-05-25T14:07:33.600Z"
   },
   {
    "duration": 8,
    "start_time": "2022-05-25T14:07:33.607Z"
   },
   {
    "duration": 9,
    "start_time": "2022-05-25T14:07:33.617Z"
   },
   {
    "duration": 38,
    "start_time": "2022-05-25T14:07:33.628Z"
   },
   {
    "duration": 33,
    "start_time": "2022-05-25T14:07:33.669Z"
   },
   {
    "duration": 11,
    "start_time": "2022-05-25T14:07:33.704Z"
   },
   {
    "duration": 12,
    "start_time": "2022-05-25T14:07:33.717Z"
   },
   {
    "duration": 8,
    "start_time": "2022-05-25T14:07:33.731Z"
   },
   {
    "duration": 88,
    "start_time": "2022-05-25T14:07:33.740Z"
   },
   {
    "duration": 0,
    "start_time": "2022-05-25T14:07:33.830Z"
   },
   {
    "duration": 0,
    "start_time": "2022-05-25T14:07:33.831Z"
   },
   {
    "duration": 0,
    "start_time": "2022-05-25T14:07:33.832Z"
   },
   {
    "duration": 0,
    "start_time": "2022-05-25T14:07:33.833Z"
   },
   {
    "duration": 85,
    "start_time": "2022-05-25T14:07:37.778Z"
   },
   {
    "duration": 15,
    "start_time": "2022-05-25T14:07:38.483Z"
   },
   {
    "duration": 6,
    "start_time": "2022-05-25T14:07:38.697Z"
   },
   {
    "duration": 6,
    "start_time": "2022-05-25T14:07:39.345Z"
   },
   {
    "duration": 17,
    "start_time": "2022-05-25T14:07:40.688Z"
   },
   {
    "duration": 6,
    "start_time": "2022-05-25T14:07:42.577Z"
   },
   {
    "duration": 7,
    "start_time": "2022-05-25T14:07:44.112Z"
   },
   {
    "duration": 6,
    "start_time": "2022-05-25T14:07:45.886Z"
   },
   {
    "duration": 11,
    "start_time": "2022-05-25T14:07:48.806Z"
   },
   {
    "duration": 12,
    "start_time": "2022-05-25T14:07:51.177Z"
   },
   {
    "duration": 6,
    "start_time": "2022-05-25T14:07:52.978Z"
   },
   {
    "duration": 5,
    "start_time": "2022-05-25T14:07:54.322Z"
   },
   {
    "duration": 5,
    "start_time": "2022-05-25T14:07:55.083Z"
   },
   {
    "duration": 10,
    "start_time": "2022-05-25T14:07:56.476Z"
   },
   {
    "duration": 11,
    "start_time": "2022-05-25T14:08:47.482Z"
   },
   {
    "duration": 4,
    "start_time": "2022-05-25T14:08:52.327Z"
   },
   {
    "duration": 556,
    "start_time": "2022-05-25T14:11:05.150Z"
   },
   {
    "duration": 15,
    "start_time": "2022-05-25T14:11:05.708Z"
   },
   {
    "duration": 12,
    "start_time": "2022-05-25T14:11:05.724Z"
   },
   {
    "duration": 23,
    "start_time": "2022-05-25T14:11:05.738Z"
   },
   {
    "duration": 46,
    "start_time": "2022-05-25T14:11:05.765Z"
   },
   {
    "duration": 10,
    "start_time": "2022-05-25T14:11:05.813Z"
   },
   {
    "duration": 27,
    "start_time": "2022-05-25T14:11:05.824Z"
   },
   {
    "duration": 28,
    "start_time": "2022-05-25T14:11:05.853Z"
   },
   {
    "duration": 35,
    "start_time": "2022-05-25T14:11:05.882Z"
   },
   {
    "duration": 24,
    "start_time": "2022-05-25T14:11:05.919Z"
   },
   {
    "duration": 56,
    "start_time": "2022-05-25T14:11:05.945Z"
   },
   {
    "duration": 20,
    "start_time": "2022-05-25T14:11:06.002Z"
   },
   {
    "duration": 21,
    "start_time": "2022-05-25T14:11:06.024Z"
   },
   {
    "duration": 36,
    "start_time": "2022-05-25T14:11:06.047Z"
   },
   {
    "duration": 45,
    "start_time": "2022-05-25T14:11:06.084Z"
   },
   {
    "duration": 16,
    "start_time": "2022-05-25T14:11:06.131Z"
   },
   {
    "duration": 24,
    "start_time": "2022-05-25T14:11:06.148Z"
   },
   {
    "duration": 30,
    "start_time": "2022-05-25T14:11:06.174Z"
   },
   {
    "duration": 89,
    "start_time": "2022-05-25T14:11:42.006Z"
   },
   {
    "duration": 14,
    "start_time": "2022-05-25T14:11:48.894Z"
   },
   {
    "duration": 6,
    "start_time": "2022-05-25T14:11:50.142Z"
   },
   {
    "duration": 7,
    "start_time": "2022-05-25T14:11:51.423Z"
   },
   {
    "duration": 18,
    "start_time": "2022-05-25T14:12:02.979Z"
   },
   {
    "duration": 6,
    "start_time": "2022-05-25T14:12:09.598Z"
   },
   {
    "duration": 7,
    "start_time": "2022-05-25T14:12:16.636Z"
   },
   {
    "duration": 6,
    "start_time": "2022-05-25T14:12:19.917Z"
   },
   {
    "duration": 7,
    "start_time": "2022-05-25T14:12:22.852Z"
   },
   {
    "duration": 16,
    "start_time": "2022-05-25T14:12:24.238Z"
   },
   {
    "duration": 14,
    "start_time": "2022-05-25T14:12:39.690Z"
   },
   {
    "duration": 18,
    "start_time": "2022-05-25T14:12:45.491Z"
   },
   {
    "duration": 20,
    "start_time": "2022-05-25T14:12:46.481Z"
   },
   {
    "duration": 18,
    "start_time": "2022-05-25T14:12:47.525Z"
   },
   {
    "duration": 20,
    "start_time": "2022-05-25T14:12:49.246Z"
   },
   {
    "duration": 48,
    "start_time": "2022-05-25T14:12:59.035Z"
   },
   {
    "duration": 21,
    "start_time": "2022-05-25T14:12:59.809Z"
   },
   {
    "duration": 8,
    "start_time": "2022-05-25T14:13:06.860Z"
   },
   {
    "duration": 10,
    "start_time": "2022-05-25T14:13:07.869Z"
   },
   {
    "duration": 33,
    "start_time": "2022-05-25T14:13:46.509Z"
   },
   {
    "duration": 16,
    "start_time": "2022-05-25T14:13:47.185Z"
   },
   {
    "duration": 9,
    "start_time": "2022-05-25T14:13:50.565Z"
   },
   {
    "duration": 5,
    "start_time": "2022-05-25T14:13:53.778Z"
   },
   {
    "duration": 85,
    "start_time": "2022-05-25T14:43:46.412Z"
   },
   {
    "duration": 117,
    "start_time": "2022-05-25T14:44:04.962Z"
   },
   {
    "duration": 25,
    "start_time": "2022-05-25T14:44:26.207Z"
   },
   {
    "duration": 56,
    "start_time": "2022-05-25T14:44:48.233Z"
   },
   {
    "duration": 6,
    "start_time": "2022-05-25T14:46:25.954Z"
   },
   {
    "duration": 6,
    "start_time": "2022-05-25T14:46:26.805Z"
   },
   {
    "duration": 52,
    "start_time": "2022-05-25T14:46:27.433Z"
   },
   {
    "duration": 10,
    "start_time": "2022-05-25T14:46:36.251Z"
   },
   {
    "duration": 50,
    "start_time": "2022-05-25T14:47:12.670Z"
   },
   {
    "duration": 44,
    "start_time": "2022-05-25T14:47:58.543Z"
   },
   {
    "duration": 25,
    "start_time": "2022-05-25T14:48:22.978Z"
   },
   {
    "duration": 15,
    "start_time": "2022-05-25T14:48:47.664Z"
   },
   {
    "duration": 17,
    "start_time": "2022-05-25T14:48:59.680Z"
   },
   {
    "duration": 20,
    "start_time": "2022-05-25T14:49:13.291Z"
   },
   {
    "duration": 7,
    "start_time": "2022-05-25T14:49:58.135Z"
   },
   {
    "duration": 22,
    "start_time": "2022-05-25T14:49:59.098Z"
   },
   {
    "duration": 7,
    "start_time": "2022-05-25T14:50:52.390Z"
   },
   {
    "duration": 7,
    "start_time": "2022-05-25T14:51:55.650Z"
   },
   {
    "duration": 15,
    "start_time": "2022-05-25T14:52:13.523Z"
   },
   {
    "duration": 100,
    "start_time": "2022-05-25T15:11:46.854Z"
   },
   {
    "duration": 23,
    "start_time": "2022-05-25T15:11:53.026Z"
   },
   {
    "duration": 29,
    "start_time": "2022-05-25T15:12:18.986Z"
   },
   {
    "duration": 12,
    "start_time": "2022-05-25T15:12:36.452Z"
   },
   {
    "duration": 513,
    "start_time": "2022-05-25T15:12:46.034Z"
   },
   {
    "duration": 19,
    "start_time": "2022-05-25T15:12:46.549Z"
   },
   {
    "duration": 23,
    "start_time": "2022-05-25T15:12:46.570Z"
   },
   {
    "duration": 11,
    "start_time": "2022-05-25T15:12:46.595Z"
   },
   {
    "duration": 20,
    "start_time": "2022-05-25T15:12:46.608Z"
   },
   {
    "duration": 5,
    "start_time": "2022-05-25T15:12:46.630Z"
   },
   {
    "duration": 8,
    "start_time": "2022-05-25T15:12:46.636Z"
   },
   {
    "duration": 28,
    "start_time": "2022-05-25T15:12:46.646Z"
   },
   {
    "duration": 17,
    "start_time": "2022-05-25T15:12:46.676Z"
   },
   {
    "duration": 13,
    "start_time": "2022-05-25T15:12:46.696Z"
   },
   {
    "duration": 20,
    "start_time": "2022-05-25T15:12:46.711Z"
   },
   {
    "duration": 56,
    "start_time": "2022-05-25T15:12:46.732Z"
   },
   {
    "duration": 27,
    "start_time": "2022-05-25T15:12:46.790Z"
   },
   {
    "duration": 47,
    "start_time": "2022-05-25T15:12:46.818Z"
   },
   {
    "duration": 58,
    "start_time": "2022-05-25T15:12:46.867Z"
   },
   {
    "duration": 16,
    "start_time": "2022-05-25T15:12:46.927Z"
   },
   {
    "duration": 21,
    "start_time": "2022-05-25T15:12:46.966Z"
   },
   {
    "duration": 9,
    "start_time": "2022-05-25T15:12:46.989Z"
   },
   {
    "duration": 21,
    "start_time": "2022-05-25T15:12:47.000Z"
   },
   {
    "duration": 5,
    "start_time": "2022-05-25T15:12:47.022Z"
   },
   {
    "duration": 4,
    "start_time": "2022-05-25T15:13:00.391Z"
   },
   {
    "duration": 32,
    "start_time": "2022-05-25T15:13:07.502Z"
   },
   {
    "duration": 15,
    "start_time": "2022-05-25T15:13:08.046Z"
   },
   {
    "duration": 94,
    "start_time": "2022-05-25T15:13:09.204Z"
   },
   {
    "duration": 10,
    "start_time": "2022-05-25T15:13:09.596Z"
   },
   {
    "duration": 14,
    "start_time": "2022-05-25T15:13:10.887Z"
   },
   {
    "duration": 4,
    "start_time": "2022-05-25T15:13:12.319Z"
   },
   {
    "duration": 98,
    "start_time": "2022-05-25T15:13:25.520Z"
   },
   {
    "duration": 18,
    "start_time": "2022-05-25T15:13:25.940Z"
   },
   {
    "duration": 7,
    "start_time": "2022-05-25T15:13:26.163Z"
   },
   {
    "duration": 7,
    "start_time": "2022-05-25T15:13:26.381Z"
   },
   {
    "duration": 18,
    "start_time": "2022-05-25T15:13:26.828Z"
   },
   {
    "duration": 5,
    "start_time": "2022-05-25T15:13:27.252Z"
   },
   {
    "duration": 9,
    "start_time": "2022-05-25T15:13:27.465Z"
   },
   {
    "duration": 6,
    "start_time": "2022-05-25T15:13:27.877Z"
   },
   {
    "duration": 7,
    "start_time": "2022-05-25T15:13:28.311Z"
   },
   {
    "duration": 14,
    "start_time": "2022-05-25T15:13:28.521Z"
   },
   {
    "duration": 20,
    "start_time": "2022-05-25T15:13:28.713Z"
   },
   {
    "duration": 30,
    "start_time": "2022-05-25T15:13:28.949Z"
   },
   {
    "duration": 19,
    "start_time": "2022-05-25T15:13:29.185Z"
   },
   {
    "duration": 27,
    "start_time": "2022-05-25T15:13:29.631Z"
   },
   {
    "duration": 52,
    "start_time": "2022-05-25T15:13:30.184Z"
   },
   {
    "duration": 23,
    "start_time": "2022-05-25T15:13:30.555Z"
   },
   {
    "duration": 7,
    "start_time": "2022-05-25T15:13:31.535Z"
   },
   {
    "duration": 6,
    "start_time": "2022-05-25T15:13:33.403Z"
   },
   {
    "duration": 16,
    "start_time": "2022-05-25T15:13:34.478Z"
   },
   {
    "duration": 6,
    "start_time": "2022-05-25T15:13:36.259Z"
   },
   {
    "duration": 64,
    "start_time": "2022-05-25T15:14:24.561Z"
   },
   {
    "duration": 11,
    "start_time": "2022-05-25T15:14:29.454Z"
   },
   {
    "duration": 29,
    "start_time": "2022-05-25T15:14:31.807Z"
   },
   {
    "duration": 42,
    "start_time": "2022-05-25T15:15:28.640Z"
   },
   {
    "duration": 58,
    "start_time": "2022-05-25T15:16:04.904Z"
   },
   {
    "duration": 3,
    "start_time": "2022-05-25T15:16:43.436Z"
   },
   {
    "duration": 12,
    "start_time": "2022-05-25T15:16:58.929Z"
   },
   {
    "duration": 11,
    "start_time": "2022-05-25T15:17:00.008Z"
   },
   {
    "duration": 5,
    "start_time": "2022-05-25T15:17:21.796Z"
   },
   {
    "duration": 4,
    "start_time": "2022-05-25T15:17:46.502Z"
   },
   {
    "duration": 4,
    "start_time": "2022-05-25T15:19:17.888Z"
   },
   {
    "duration": 5,
    "start_time": "2022-05-25T15:19:30.536Z"
   },
   {
    "duration": 3,
    "start_time": "2022-05-25T15:21:17.924Z"
   },
   {
    "duration": 13,
    "start_time": "2022-05-25T15:25:50.626Z"
   },
   {
    "duration": 11,
    "start_time": "2022-05-25T15:26:13.548Z"
   },
   {
    "duration": 12,
    "start_time": "2022-05-25T15:27:45.950Z"
   },
   {
    "duration": 12,
    "start_time": "2022-05-25T15:32:41.646Z"
   },
   {
    "duration": 89,
    "start_time": "2022-05-25T15:33:05.013Z"
   },
   {
    "duration": 14,
    "start_time": "2022-05-25T15:33:06.287Z"
   },
   {
    "duration": 5,
    "start_time": "2022-05-25T15:33:06.806Z"
   },
   {
    "duration": 5,
    "start_time": "2022-05-25T15:33:07.352Z"
   },
   {
    "duration": 16,
    "start_time": "2022-05-25T15:33:08.275Z"
   },
   {
    "duration": 6,
    "start_time": "2022-05-25T15:33:09.564Z"
   },
   {
    "duration": 5,
    "start_time": "2022-05-25T15:33:09.970Z"
   },
   {
    "duration": 6,
    "start_time": "2022-05-25T15:33:11.244Z"
   },
   {
    "duration": 7,
    "start_time": "2022-05-25T15:33:12.496Z"
   },
   {
    "duration": 13,
    "start_time": "2022-05-25T15:33:13.086Z"
   },
   {
    "duration": 31,
    "start_time": "2022-05-25T15:33:13.909Z"
   },
   {
    "duration": 21,
    "start_time": "2022-05-25T15:33:14.417Z"
   },
   {
    "duration": 19,
    "start_time": "2022-05-25T15:33:14.842Z"
   },
   {
    "duration": 19,
    "start_time": "2022-05-25T15:33:15.207Z"
   },
   {
    "duration": 41,
    "start_time": "2022-05-25T15:33:15.867Z"
   },
   {
    "duration": 18,
    "start_time": "2022-05-25T15:33:16.546Z"
   },
   {
    "duration": 7,
    "start_time": "2022-05-25T15:33:18.023Z"
   },
   {
    "duration": 6,
    "start_time": "2022-05-25T15:33:18.844Z"
   },
   {
    "duration": 16,
    "start_time": "2022-05-25T15:33:19.555Z"
   },
   {
    "duration": 13,
    "start_time": "2022-05-25T15:33:22.182Z"
   },
   {
    "duration": 33,
    "start_time": "2022-05-25T15:37:38.431Z"
   },
   {
    "duration": 19,
    "start_time": "2022-05-25T15:37:39.323Z"
   },
   {
    "duration": 10,
    "start_time": "2022-05-25T15:38:48.021Z"
   },
   {
    "duration": 11,
    "start_time": "2022-05-25T15:38:50.064Z"
   },
   {
    "duration": 520,
    "start_time": "2022-05-25T15:39:04.860Z"
   },
   {
    "duration": 16,
    "start_time": "2022-05-25T15:39:05.382Z"
   },
   {
    "duration": 6,
    "start_time": "2022-05-25T15:39:05.399Z"
   },
   {
    "duration": 6,
    "start_time": "2022-05-25T15:39:05.408Z"
   },
   {
    "duration": 16,
    "start_time": "2022-05-25T15:39:05.416Z"
   },
   {
    "duration": 35,
    "start_time": "2022-05-25T15:39:05.434Z"
   },
   {
    "duration": 7,
    "start_time": "2022-05-25T15:39:05.471Z"
   },
   {
    "duration": 6,
    "start_time": "2022-05-25T15:39:05.480Z"
   },
   {
    "duration": 12,
    "start_time": "2022-05-25T15:39:05.488Z"
   },
   {
    "duration": 62,
    "start_time": "2022-05-25T15:39:05.503Z"
   },
   {
    "duration": 28,
    "start_time": "2022-05-25T15:39:05.567Z"
   },
   {
    "duration": 18,
    "start_time": "2022-05-25T15:39:05.597Z"
   },
   {
    "duration": 15,
    "start_time": "2022-05-25T15:39:05.617Z"
   },
   {
    "duration": 17,
    "start_time": "2022-05-25T15:39:05.665Z"
   },
   {
    "duration": 37,
    "start_time": "2022-05-25T15:39:05.683Z"
   },
   {
    "duration": 43,
    "start_time": "2022-05-25T15:39:05.722Z"
   },
   {
    "duration": 7,
    "start_time": "2022-05-25T15:39:05.767Z"
   },
   {
    "duration": 11,
    "start_time": "2022-05-25T15:39:05.775Z"
   },
   {
    "duration": 16,
    "start_time": "2022-05-25T15:39:05.788Z"
   },
   {
    "duration": 12,
    "start_time": "2022-05-25T15:39:05.806Z"
   },
   {
    "duration": 28,
    "start_time": "2022-05-25T15:49:02.353Z"
   },
   {
    "duration": 17,
    "start_time": "2022-05-25T15:49:03.063Z"
   },
   {
    "duration": 45,
    "start_time": "2022-05-25T15:49:13.008Z"
   },
   {
    "duration": 19,
    "start_time": "2022-05-25T15:49:13.611Z"
   },
   {
    "duration": 19,
    "start_time": "2022-05-25T15:49:28.576Z"
   },
   {
    "duration": 34,
    "start_time": "2022-05-25T15:49:29.181Z"
   },
   {
    "duration": 17,
    "start_time": "2022-05-25T15:49:29.874Z"
   },
   {
    "duration": 84,
    "start_time": "2022-05-25T15:49:31.521Z"
   },
   {
    "duration": 551,
    "start_time": "2022-05-25T15:49:48.712Z"
   },
   {
    "duration": 17,
    "start_time": "2022-05-25T15:49:49.265Z"
   },
   {
    "duration": 6,
    "start_time": "2022-05-25T15:49:49.284Z"
   },
   {
    "duration": 6,
    "start_time": "2022-05-25T15:49:49.293Z"
   },
   {
    "duration": 23,
    "start_time": "2022-05-25T15:49:49.300Z"
   },
   {
    "duration": 5,
    "start_time": "2022-05-25T15:49:49.364Z"
   },
   {
    "duration": 8,
    "start_time": "2022-05-25T15:49:49.371Z"
   },
   {
    "duration": 5,
    "start_time": "2022-05-25T15:49:49.380Z"
   },
   {
    "duration": 8,
    "start_time": "2022-05-25T15:49:49.386Z"
   },
   {
    "duration": 14,
    "start_time": "2022-05-25T15:49:49.396Z"
   },
   {
    "duration": 54,
    "start_time": "2022-05-25T15:49:49.411Z"
   },
   {
    "duration": 20,
    "start_time": "2022-05-25T15:49:49.467Z"
   },
   {
    "duration": 16,
    "start_time": "2022-05-25T15:49:49.488Z"
   },
   {
    "duration": 15,
    "start_time": "2022-05-25T15:49:49.505Z"
   },
   {
    "duration": 67,
    "start_time": "2022-05-25T15:49:49.522Z"
   },
   {
    "duration": 16,
    "start_time": "2022-05-25T15:49:49.591Z"
   },
   {
    "duration": 6,
    "start_time": "2022-05-25T15:49:49.608Z"
   },
   {
    "duration": 8,
    "start_time": "2022-05-25T15:49:49.615Z"
   },
   {
    "duration": 45,
    "start_time": "2022-05-25T15:49:49.624Z"
   },
   {
    "duration": 13,
    "start_time": "2022-05-25T15:49:49.670Z"
   },
   {
    "duration": 30,
    "start_time": "2022-05-25T15:50:42.107Z"
   },
   {
    "duration": 17,
    "start_time": "2022-05-25T15:50:42.895Z"
   },
   {
    "duration": 30,
    "start_time": "2022-05-25T15:51:06.827Z"
   },
   {
    "duration": 20,
    "start_time": "2022-05-25T15:51:07.447Z"
   },
   {
    "duration": 19,
    "start_time": "2022-05-25T15:51:10.016Z"
   },
   {
    "duration": 30,
    "start_time": "2022-05-25T15:51:10.779Z"
   },
   {
    "duration": 17,
    "start_time": "2022-05-25T15:51:11.378Z"
   },
   {
    "duration": 543,
    "start_time": "2022-05-25T15:51:24.849Z"
   },
   {
    "duration": 16,
    "start_time": "2022-05-25T15:51:25.394Z"
   },
   {
    "duration": 7,
    "start_time": "2022-05-25T15:51:25.412Z"
   },
   {
    "duration": 6,
    "start_time": "2022-05-25T15:51:25.422Z"
   },
   {
    "duration": 55,
    "start_time": "2022-05-25T15:51:25.429Z"
   },
   {
    "duration": 6,
    "start_time": "2022-05-25T15:51:25.486Z"
   },
   {
    "duration": 9,
    "start_time": "2022-05-25T15:51:25.493Z"
   },
   {
    "duration": 8,
    "start_time": "2022-05-25T15:51:25.504Z"
   },
   {
    "duration": 10,
    "start_time": "2022-05-25T15:51:25.513Z"
   },
   {
    "duration": 45,
    "start_time": "2022-05-25T15:51:25.526Z"
   },
   {
    "duration": 26,
    "start_time": "2022-05-25T15:51:25.573Z"
   },
   {
    "duration": 20,
    "start_time": "2022-05-25T15:51:25.601Z"
   },
   {
    "duration": 43,
    "start_time": "2022-05-25T15:51:25.622Z"
   },
   {
    "duration": 16,
    "start_time": "2022-05-25T15:51:25.667Z"
   },
   {
    "duration": 35,
    "start_time": "2022-05-25T15:51:25.685Z"
   },
   {
    "duration": 44,
    "start_time": "2022-05-25T15:51:25.721Z"
   },
   {
    "duration": 7,
    "start_time": "2022-05-25T15:51:25.767Z"
   },
   {
    "duration": 9,
    "start_time": "2022-05-25T15:51:25.775Z"
   },
   {
    "duration": 15,
    "start_time": "2022-05-25T15:51:25.786Z"
   },
   {
    "duration": 11,
    "start_time": "2022-05-25T15:51:25.803Z"
   },
   {
    "duration": 33,
    "start_time": "2022-05-25T15:53:00.887Z"
   },
   {
    "duration": 17,
    "start_time": "2022-05-25T15:53:01.461Z"
   },
   {
    "duration": 34,
    "start_time": "2022-05-25T15:53:54.709Z"
   },
   {
    "duration": 15,
    "start_time": "2022-05-25T15:53:55.474Z"
   },
   {
    "duration": 35,
    "start_time": "2022-05-25T15:54:36.233Z"
   },
   {
    "duration": 16,
    "start_time": "2022-05-25T15:54:36.754Z"
   },
   {
    "duration": 50,
    "start_time": "2022-05-25T16:02:17.363Z"
   },
   {
    "duration": 155,
    "start_time": "2022-05-25T16:02:28.618Z"
   },
   {
    "duration": 11,
    "start_time": "2022-05-25T16:02:43.021Z"
   },
   {
    "duration": 11,
    "start_time": "2022-05-25T16:04:05.413Z"
   },
   {
    "duration": 16,
    "start_time": "2022-05-25T16:04:34.710Z"
   },
   {
    "duration": 11,
    "start_time": "2022-05-25T16:04:58.011Z"
   },
   {
    "duration": 12,
    "start_time": "2022-05-25T16:05:36.211Z"
   },
   {
    "duration": 11,
    "start_time": "2022-05-25T16:14:05.854Z"
   },
   {
    "duration": 13,
    "start_time": "2022-05-25T16:20:21.025Z"
   },
   {
    "duration": 28,
    "start_time": "2022-05-25T16:23:52.240Z"
   },
   {
    "duration": 13,
    "start_time": "2022-05-25T16:25:14.076Z"
   },
   {
    "duration": 9,
    "start_time": "2022-05-25T16:27:41.745Z"
   },
   {
    "duration": 14,
    "start_time": "2022-05-25T16:29:34.279Z"
   },
   {
    "duration": 9,
    "start_time": "2022-05-25T16:29:34.862Z"
   },
   {
    "duration": 494,
    "start_time": "2022-05-25T16:30:04.722Z"
   },
   {
    "duration": 16,
    "start_time": "2022-05-25T16:30:05.218Z"
   },
   {
    "duration": 5,
    "start_time": "2022-05-25T16:30:05.235Z"
   },
   {
    "duration": 25,
    "start_time": "2022-05-25T16:30:05.242Z"
   },
   {
    "duration": 19,
    "start_time": "2022-05-25T16:30:05.269Z"
   },
   {
    "duration": 5,
    "start_time": "2022-05-25T16:30:05.289Z"
   },
   {
    "duration": 9,
    "start_time": "2022-05-25T16:30:05.296Z"
   },
   {
    "duration": 5,
    "start_time": "2022-05-25T16:30:05.306Z"
   },
   {
    "duration": 10,
    "start_time": "2022-05-25T16:30:05.313Z"
   },
   {
    "duration": 13,
    "start_time": "2022-05-25T16:30:05.365Z"
   },
   {
    "duration": 22,
    "start_time": "2022-05-25T16:30:05.379Z"
   },
   {
    "duration": 21,
    "start_time": "2022-05-25T16:30:05.402Z"
   },
   {
    "duration": 52,
    "start_time": "2022-05-25T16:30:05.425Z"
   },
   {
    "duration": 17,
    "start_time": "2022-05-25T16:30:05.479Z"
   },
   {
    "duration": 38,
    "start_time": "2022-05-25T16:30:05.497Z"
   },
   {
    "duration": 38,
    "start_time": "2022-05-25T16:30:05.537Z"
   },
   {
    "duration": 6,
    "start_time": "2022-05-25T16:30:05.577Z"
   },
   {
    "duration": 23,
    "start_time": "2022-05-25T16:30:05.584Z"
   },
   {
    "duration": 19,
    "start_time": "2022-05-25T16:30:05.609Z"
   },
   {
    "duration": 17,
    "start_time": "2022-05-25T16:30:05.630Z"
   },
   {
    "duration": 14,
    "start_time": "2022-05-25T16:30:05.664Z"
   },
   {
    "duration": 86,
    "start_time": "2022-05-25T16:30:58.705Z"
   },
   {
    "duration": 16,
    "start_time": "2022-05-25T16:31:05.080Z"
   },
   {
    "duration": 5,
    "start_time": "2022-05-25T16:31:06.501Z"
   },
   {
    "duration": 6,
    "start_time": "2022-05-25T16:31:11.057Z"
   },
   {
    "duration": 17,
    "start_time": "2022-05-25T16:31:20.099Z"
   },
   {
    "duration": 6,
    "start_time": "2022-05-25T16:31:26.337Z"
   },
   {
    "duration": 5,
    "start_time": "2022-05-25T16:31:33.652Z"
   },
   {
    "duration": 6,
    "start_time": "2022-05-25T16:31:35.651Z"
   },
   {
    "duration": 6,
    "start_time": "2022-05-25T16:31:37.893Z"
   },
   {
    "duration": 12,
    "start_time": "2022-05-25T16:31:38.462Z"
   },
   {
    "duration": 19,
    "start_time": "2022-05-25T16:31:39.181Z"
   },
   {
    "duration": 21,
    "start_time": "2022-05-25T16:31:42.286Z"
   },
   {
    "duration": 17,
    "start_time": "2022-05-25T16:31:42.845Z"
   },
   {
    "duration": 16,
    "start_time": "2022-05-25T16:31:43.890Z"
   },
   {
    "duration": 37,
    "start_time": "2022-05-25T16:31:44.808Z"
   },
   {
    "duration": 18,
    "start_time": "2022-05-25T16:32:00.071Z"
   },
   {
    "duration": 6,
    "start_time": "2022-05-25T16:32:09.620Z"
   },
   {
    "duration": 6,
    "start_time": "2022-05-25T16:32:11.619Z"
   },
   {
    "duration": 15,
    "start_time": "2022-05-25T16:32:16.449Z"
   },
   {
    "duration": 12,
    "start_time": "2022-05-25T16:32:22.035Z"
   },
   {
    "duration": 13,
    "start_time": "2022-05-25T16:32:23.661Z"
   },
   {
    "duration": 14,
    "start_time": "2022-05-25T16:32:44.305Z"
   },
   {
    "duration": 77,
    "start_time": "2022-05-25T16:59:22.760Z"
   },
   {
    "duration": 84,
    "start_time": "2022-05-25T17:10:22.441Z"
   },
   {
    "duration": 91,
    "start_time": "2022-05-25T17:10:47.943Z"
   },
   {
    "duration": 89,
    "start_time": "2022-05-25T17:11:09.605Z"
   },
   {
    "duration": 86,
    "start_time": "2022-05-25T17:11:16.598Z"
   },
   {
    "duration": 38,
    "start_time": "2022-05-25T17:23:11.998Z"
   },
   {
    "duration": 33,
    "start_time": "2022-05-25T17:33:26.004Z"
   },
   {
    "duration": 41,
    "start_time": "2022-05-25T17:48:24.514Z"
   },
   {
    "duration": 51,
    "start_time": "2022-05-25T17:48:32.533Z"
   },
   {
    "duration": 35,
    "start_time": "2022-05-25T17:48:46.012Z"
   },
   {
    "duration": 39,
    "start_time": "2022-05-25T17:49:10.611Z"
   },
   {
    "duration": 29,
    "start_time": "2022-05-25T17:49:16.534Z"
   },
   {
    "duration": 6,
    "start_time": "2022-05-25T17:49:20.865Z"
   },
   {
    "duration": 29,
    "start_time": "2022-05-25T17:49:22.308Z"
   },
   {
    "duration": 17,
    "start_time": "2022-05-25T17:49:26.047Z"
   },
   {
    "duration": 6,
    "start_time": "2022-05-25T17:49:29.918Z"
   },
   {
    "duration": 6,
    "start_time": "2022-05-25T17:49:30.464Z"
   },
   {
    "duration": 49,
    "start_time": "2022-05-25T17:49:31.516Z"
   },
   {
    "duration": 38,
    "start_time": "2022-05-25T17:50:06.945Z"
   },
   {
    "duration": 43,
    "start_time": "2022-05-25T18:05:25.772Z"
   },
   {
    "duration": 43,
    "start_time": "2022-05-28T09:29:02.334Z"
   },
   {
    "duration": 34,
    "start_time": "2022-05-28T09:36:21.993Z"
   },
   {
    "duration": 723,
    "start_time": "2022-05-28T09:36:31.731Z"
   },
   {
    "duration": 31,
    "start_time": "2022-05-28T09:38:55.048Z"
   },
   {
    "duration": 7,
    "start_time": "2022-05-28T10:08:40.165Z"
   },
   {
    "duration": 7,
    "start_time": "2022-05-28T10:08:40.932Z"
   },
   {
    "duration": 11,
    "start_time": "2022-05-28T10:10:34.376Z"
   },
   {
    "duration": 16,
    "start_time": "2022-05-28T10:15:41.272Z"
   },
   {
    "duration": 15,
    "start_time": "2022-05-28T10:15:53.019Z"
   },
   {
    "duration": 152,
    "start_time": "2022-05-28T10:26:55.519Z"
   },
   {
    "duration": 22,
    "start_time": "2022-05-28T10:27:21.857Z"
   },
   {
    "duration": 17,
    "start_time": "2022-05-28T10:28:17.663Z"
   },
   {
    "duration": 13,
    "start_time": "2022-05-28T10:29:32.435Z"
   },
   {
    "duration": 17,
    "start_time": "2022-05-28T10:30:38.605Z"
   },
   {
    "duration": 18,
    "start_time": "2022-05-28T10:30:53.635Z"
   },
   {
    "duration": 522,
    "start_time": "2022-05-28T10:31:34.023Z"
   },
   {
    "duration": 16,
    "start_time": "2022-05-28T10:31:34.546Z"
   },
   {
    "duration": 9,
    "start_time": "2022-05-28T10:31:34.563Z"
   },
   {
    "duration": 25,
    "start_time": "2022-05-28T10:31:34.574Z"
   },
   {
    "duration": 24,
    "start_time": "2022-05-28T10:31:34.601Z"
   },
   {
    "duration": 9,
    "start_time": "2022-05-28T10:31:34.627Z"
   },
   {
    "duration": 6,
    "start_time": "2022-05-28T10:31:34.638Z"
   },
   {
    "duration": 7,
    "start_time": "2022-05-28T10:31:34.645Z"
   },
   {
    "duration": 10,
    "start_time": "2022-05-28T10:31:34.653Z"
   },
   {
    "duration": 81,
    "start_time": "2022-05-28T10:31:34.667Z"
   },
   {
    "duration": 23,
    "start_time": "2022-05-28T10:31:34.750Z"
   },
   {
    "duration": 25,
    "start_time": "2022-05-28T10:31:34.775Z"
   },
   {
    "duration": 23,
    "start_time": "2022-05-28T10:31:34.803Z"
   },
   {
    "duration": 35,
    "start_time": "2022-05-28T10:31:34.827Z"
   },
   {
    "duration": 49,
    "start_time": "2022-05-28T10:31:34.864Z"
   },
   {
    "duration": 27,
    "start_time": "2022-05-28T10:31:34.915Z"
   },
   {
    "duration": 7,
    "start_time": "2022-05-28T10:31:34.945Z"
   },
   {
    "duration": 10,
    "start_time": "2022-05-28T10:31:34.954Z"
   },
   {
    "duration": 42,
    "start_time": "2022-05-28T10:31:34.966Z"
   },
   {
    "duration": 49,
    "start_time": "2022-05-28T10:31:35.009Z"
   },
   {
    "duration": 17,
    "start_time": "2022-05-28T10:31:35.059Z"
   },
   {
    "duration": 13,
    "start_time": "2022-05-28T10:31:35.078Z"
   },
   {
    "duration": 15,
    "start_time": "2022-05-28T10:32:34.221Z"
   },
   {
    "duration": 18,
    "start_time": "2022-05-28T10:32:56.019Z"
   },
   {
    "duration": 10,
    "start_time": "2022-05-28T10:33:04.829Z"
   },
   {
    "duration": 21,
    "start_time": "2022-05-28T10:33:07.635Z"
   },
   {
    "duration": 15,
    "start_time": "2022-05-28T10:33:10.563Z"
   },
   {
    "duration": 522,
    "start_time": "2022-05-28T10:33:22.235Z"
   },
   {
    "duration": 27,
    "start_time": "2022-05-28T10:33:22.760Z"
   },
   {
    "duration": 24,
    "start_time": "2022-05-28T10:33:22.789Z"
   },
   {
    "duration": 38,
    "start_time": "2022-05-28T10:33:22.817Z"
   },
   {
    "duration": 23,
    "start_time": "2022-05-28T10:33:22.856Z"
   },
   {
    "duration": 6,
    "start_time": "2022-05-28T10:33:22.881Z"
   },
   {
    "duration": 54,
    "start_time": "2022-05-28T10:33:22.888Z"
   },
   {
    "duration": 7,
    "start_time": "2022-05-28T10:33:22.944Z"
   },
   {
    "duration": 14,
    "start_time": "2022-05-28T10:33:22.952Z"
   },
   {
    "duration": 14,
    "start_time": "2022-05-28T10:33:22.970Z"
   },
   {
    "duration": 32,
    "start_time": "2022-05-28T10:33:22.986Z"
   },
   {
    "duration": 29,
    "start_time": "2022-05-28T10:33:23.019Z"
   },
   {
    "duration": 17,
    "start_time": "2022-05-28T10:33:23.049Z"
   },
   {
    "duration": 16,
    "start_time": "2022-05-28T10:33:23.067Z"
   },
   {
    "duration": 63,
    "start_time": "2022-05-28T10:33:23.085Z"
   },
   {
    "duration": 15,
    "start_time": "2022-05-28T10:33:23.150Z"
   },
   {
    "duration": 12,
    "start_time": "2022-05-28T10:33:23.166Z"
   },
   {
    "duration": 20,
    "start_time": "2022-05-28T10:33:23.198Z"
   },
   {
    "duration": 24,
    "start_time": "2022-05-28T10:33:23.221Z"
   },
   {
    "duration": 12,
    "start_time": "2022-05-28T10:33:23.247Z"
   },
   {
    "duration": 15,
    "start_time": "2022-05-28T10:33:23.260Z"
   },
   {
    "duration": 23,
    "start_time": "2022-05-28T10:33:23.278Z"
   },
   {
    "duration": 92,
    "start_time": "2022-05-28T10:33:28.011Z"
   },
   {
    "duration": 18,
    "start_time": "2022-05-28T10:33:29.022Z"
   },
   {
    "duration": 13,
    "start_time": "2022-05-28T10:33:32.471Z"
   },
   {
    "duration": 19,
    "start_time": "2022-05-28T10:33:34.893Z"
   },
   {
    "duration": 416,
    "start_time": "2022-05-28T10:35:33.550Z"
   },
   {
    "duration": 18,
    "start_time": "2022-05-28T10:35:34.315Z"
   },
   {
    "duration": 18,
    "start_time": "2022-05-28T10:35:44.563Z"
   },
   {
    "duration": 28,
    "start_time": "2022-05-28T10:36:39.688Z"
   },
   {
    "duration": 7,
    "start_time": "2022-05-28T10:59:01.971Z"
   },
   {
    "duration": 6,
    "start_time": "2022-05-28T10:59:03.461Z"
   },
   {
    "duration": 47,
    "start_time": "2022-05-28T10:59:34.938Z"
   },
   {
    "duration": 101,
    "start_time": "2022-05-28T11:07:37.327Z"
   },
   {
    "duration": 19,
    "start_time": "2022-05-28T11:07:47.537Z"
   },
   {
    "duration": 7,
    "start_time": "2022-05-28T11:07:54.113Z"
   },
   {
    "duration": 7,
    "start_time": "2022-05-28T11:07:55.223Z"
   },
   {
    "duration": 14,
    "start_time": "2022-05-28T11:07:56.713Z"
   },
   {
    "duration": 523,
    "start_time": "2022-05-28T11:08:13.916Z"
   },
   {
    "duration": 22,
    "start_time": "2022-05-28T11:08:14.441Z"
   },
   {
    "duration": 31,
    "start_time": "2022-05-28T11:08:14.465Z"
   },
   {
    "duration": 24,
    "start_time": "2022-05-28T11:08:14.498Z"
   },
   {
    "duration": 23,
    "start_time": "2022-05-28T11:08:14.525Z"
   },
   {
    "duration": 8,
    "start_time": "2022-05-28T11:08:14.550Z"
   },
   {
    "duration": 10,
    "start_time": "2022-05-28T11:08:14.560Z"
   },
   {
    "duration": 10,
    "start_time": "2022-05-28T11:08:14.598Z"
   },
   {
    "duration": 15,
    "start_time": "2022-05-28T11:08:14.611Z"
   },
   {
    "duration": 15,
    "start_time": "2022-05-28T11:08:14.627Z"
   },
   {
    "duration": 19,
    "start_time": "2022-05-28T11:08:14.644Z"
   },
   {
    "duration": 46,
    "start_time": "2022-05-28T11:08:14.665Z"
   },
   {
    "duration": 26,
    "start_time": "2022-05-28T11:08:14.715Z"
   },
   {
    "duration": 20,
    "start_time": "2022-05-28T11:08:14.745Z"
   },
   {
    "duration": 57,
    "start_time": "2022-05-28T11:08:14.767Z"
   },
   {
    "duration": 15,
    "start_time": "2022-05-28T11:08:14.826Z"
   },
   {
    "duration": 7,
    "start_time": "2022-05-28T11:08:14.843Z"
   },
   {
    "duration": 9,
    "start_time": "2022-05-28T11:08:14.852Z"
   },
   {
    "duration": 48,
    "start_time": "2022-05-28T11:08:14.863Z"
   },
   {
    "duration": 15,
    "start_time": "2022-05-28T11:08:14.916Z"
   },
   {
    "duration": 14,
    "start_time": "2022-05-28T11:08:14.933Z"
   },
   {
    "duration": 19,
    "start_time": "2022-05-28T11:08:14.949Z"
   },
   {
    "duration": 7,
    "start_time": "2022-05-28T11:10:29.985Z"
   },
   {
    "duration": 6,
    "start_time": "2022-05-28T11:10:45.974Z"
   },
   {
    "duration": 7,
    "start_time": "2022-05-28T11:11:32.243Z"
   },
   {
    "duration": 9,
    "start_time": "2022-05-28T11:11:34.521Z"
   },
   {
    "duration": 27,
    "start_time": "2022-05-28T11:13:05.476Z"
   },
   {
    "duration": 23,
    "start_time": "2022-05-28T11:13:06.121Z"
   },
   {
    "duration": 16,
    "start_time": "2022-05-28T11:13:06.924Z"
   },
   {
    "duration": 23,
    "start_time": "2022-05-28T11:13:17.191Z"
   },
   {
    "duration": 24,
    "start_time": "2022-05-28T11:13:17.863Z"
   },
   {
    "duration": 18,
    "start_time": "2022-05-28T11:13:18.375Z"
   },
   {
    "duration": 28,
    "start_time": "2022-05-28T11:13:24.913Z"
   },
   {
    "duration": 6,
    "start_time": "2022-05-28T11:13:37.138Z"
   },
   {
    "duration": 16,
    "start_time": "2022-05-28T11:13:38.224Z"
   },
   {
    "duration": 23,
    "start_time": "2022-05-28T11:13:38.881Z"
   },
   {
    "duration": 512,
    "start_time": "2022-05-28T11:13:46.685Z"
   },
   {
    "duration": 26,
    "start_time": "2022-05-28T11:13:47.199Z"
   },
   {
    "duration": 11,
    "start_time": "2022-05-28T11:13:47.226Z"
   },
   {
    "duration": 15,
    "start_time": "2022-05-28T11:13:47.239Z"
   },
   {
    "duration": 15,
    "start_time": "2022-05-28T11:13:47.256Z"
   },
   {
    "duration": 40,
    "start_time": "2022-05-28T11:13:47.273Z"
   },
   {
    "duration": 13,
    "start_time": "2022-05-28T11:13:47.314Z"
   },
   {
    "duration": 23,
    "start_time": "2022-05-28T11:13:47.329Z"
   },
   {
    "duration": 31,
    "start_time": "2022-05-28T11:13:47.354Z"
   },
   {
    "duration": 25,
    "start_time": "2022-05-28T11:13:47.389Z"
   },
   {
    "duration": 29,
    "start_time": "2022-05-28T11:13:47.420Z"
   },
   {
    "duration": 9,
    "start_time": "2022-05-28T11:13:47.450Z"
   },
   {
    "duration": 14,
    "start_time": "2022-05-28T11:13:47.461Z"
   },
   {
    "duration": 46,
    "start_time": "2022-05-28T11:13:47.477Z"
   },
   {
    "duration": 55,
    "start_time": "2022-05-28T11:13:47.526Z"
   },
   {
    "duration": 30,
    "start_time": "2022-05-28T11:13:47.583Z"
   },
   {
    "duration": 31,
    "start_time": "2022-05-28T11:13:47.614Z"
   },
   {
    "duration": 15,
    "start_time": "2022-05-28T11:13:47.647Z"
   },
   {
    "duration": 23,
    "start_time": "2022-05-28T11:13:47.665Z"
   },
   {
    "duration": 23,
    "start_time": "2022-05-28T11:13:47.690Z"
   },
   {
    "duration": 51,
    "start_time": "2022-05-28T11:13:47.717Z"
   },
   {
    "duration": 13,
    "start_time": "2022-05-28T11:13:47.769Z"
   },
   {
    "duration": 16,
    "start_time": "2022-05-28T11:16:26.329Z"
   },
   {
    "duration": 25,
    "start_time": "2022-05-28T11:16:27.826Z"
   },
   {
    "duration": 31,
    "start_time": "2022-05-28T11:16:28.481Z"
   },
   {
    "duration": 10,
    "start_time": "2022-05-28T11:18:07.199Z"
   },
   {
    "duration": 573,
    "start_time": "2022-05-28T11:18:12.953Z"
   },
   {
    "duration": 0,
    "start_time": "2022-05-28T11:18:13.528Z"
   },
   {
    "duration": 19,
    "start_time": "2022-05-28T11:18:14.236Z"
   },
   {
    "duration": 596,
    "start_time": "2022-05-28T11:19:21.447Z"
   },
   {
    "duration": 545,
    "start_time": "2022-05-28T11:19:24.646Z"
   },
   {
    "duration": 4,
    "start_time": "2022-05-28T11:19:25.442Z"
   },
   {
    "duration": 511,
    "start_time": "2022-05-28T11:19:42.737Z"
   },
   {
    "duration": 17,
    "start_time": "2022-05-28T11:19:43.250Z"
   },
   {
    "duration": 18,
    "start_time": "2022-05-28T11:19:43.269Z"
   },
   {
    "duration": 54,
    "start_time": "2022-05-28T11:19:43.290Z"
   },
   {
    "duration": 17,
    "start_time": "2022-05-28T11:19:43.346Z"
   },
   {
    "duration": 7,
    "start_time": "2022-05-28T11:19:43.364Z"
   },
   {
    "duration": 11,
    "start_time": "2022-05-28T11:19:43.373Z"
   },
   {
    "duration": 45,
    "start_time": "2022-05-28T11:19:43.385Z"
   },
   {
    "duration": 28,
    "start_time": "2022-05-28T11:19:43.433Z"
   },
   {
    "duration": 19,
    "start_time": "2022-05-28T11:19:43.463Z"
   },
   {
    "duration": 33,
    "start_time": "2022-05-28T11:19:43.484Z"
   },
   {
    "duration": 21,
    "start_time": "2022-05-28T11:19:43.518Z"
   },
   {
    "duration": 12,
    "start_time": "2022-05-28T11:19:43.541Z"
   },
   {
    "duration": 0,
    "start_time": "2022-05-28T11:19:43.555Z"
   },
   {
    "duration": 0,
    "start_time": "2022-05-28T11:19:43.558Z"
   },
   {
    "duration": 0,
    "start_time": "2022-05-28T11:19:43.559Z"
   },
   {
    "duration": 0,
    "start_time": "2022-05-28T11:19:43.560Z"
   },
   {
    "duration": 0,
    "start_time": "2022-05-28T11:19:43.561Z"
   },
   {
    "duration": 0,
    "start_time": "2022-05-28T11:19:43.562Z"
   },
   {
    "duration": 0,
    "start_time": "2022-05-28T11:19:43.563Z"
   },
   {
    "duration": 0,
    "start_time": "2022-05-28T11:19:43.564Z"
   },
   {
    "duration": 0,
    "start_time": "2022-05-28T11:19:43.565Z"
   },
   {
    "duration": 12,
    "start_time": "2022-05-28T11:20:32.550Z"
   },
   {
    "duration": 4,
    "start_time": "2022-05-28T11:20:35.330Z"
   },
   {
    "duration": 17,
    "start_time": "2022-05-28T11:20:36.140Z"
   },
   {
    "duration": 15,
    "start_time": "2022-05-28T11:20:42.518Z"
   },
   {
    "duration": 34,
    "start_time": "2022-05-28T11:24:14.744Z"
   },
   {
    "duration": 36,
    "start_time": "2022-05-28T11:28:05.129Z"
   },
   {
    "duration": 40,
    "start_time": "2022-05-28T11:28:32.614Z"
   },
   {
    "duration": 29,
    "start_time": "2022-05-28T11:28:33.086Z"
   },
   {
    "duration": 37,
    "start_time": "2022-05-28T11:30:36.384Z"
   },
   {
    "duration": 7,
    "start_time": "2022-05-28T11:48:28.813Z"
   },
   {
    "duration": 5,
    "start_time": "2022-05-28T11:51:37.029Z"
   },
   {
    "duration": 34,
    "start_time": "2022-05-28T12:05:17.485Z"
   },
   {
    "duration": 24,
    "start_time": "2022-05-28T12:05:21.344Z"
   },
   {
    "duration": 18,
    "start_time": "2022-05-28T12:05:48.041Z"
   },
   {
    "duration": 21,
    "start_time": "2022-05-28T12:05:54.241Z"
   },
   {
    "duration": 20,
    "start_time": "2022-05-28T12:06:22.684Z"
   },
   {
    "duration": 23,
    "start_time": "2022-05-28T12:06:38.366Z"
   },
   {
    "duration": 543,
    "start_time": "2022-05-28T12:06:58.579Z"
   },
   {
    "duration": 19,
    "start_time": "2022-05-28T12:06:59.131Z"
   },
   {
    "duration": 10,
    "start_time": "2022-05-28T12:06:59.152Z"
   },
   {
    "duration": 15,
    "start_time": "2022-05-28T12:06:59.164Z"
   },
   {
    "duration": 42,
    "start_time": "2022-05-28T12:06:59.182Z"
   },
   {
    "duration": 12,
    "start_time": "2022-05-28T12:06:59.226Z"
   },
   {
    "duration": 8,
    "start_time": "2022-05-28T12:06:59.240Z"
   },
   {
    "duration": 7,
    "start_time": "2022-05-28T12:06:59.250Z"
   },
   {
    "duration": 11,
    "start_time": "2022-05-28T12:06:59.258Z"
   },
   {
    "duration": 43,
    "start_time": "2022-05-28T12:06:59.270Z"
   },
   {
    "duration": 27,
    "start_time": "2022-05-28T12:06:59.321Z"
   },
   {
    "duration": 21,
    "start_time": "2022-05-28T12:06:59.350Z"
   },
   {
    "duration": 19,
    "start_time": "2022-05-28T12:06:59.373Z"
   },
   {
    "duration": 14,
    "start_time": "2022-05-28T12:06:59.395Z"
   },
   {
    "duration": 43,
    "start_time": "2022-05-28T12:06:59.411Z"
   },
   {
    "duration": 19,
    "start_time": "2022-05-28T12:06:59.455Z"
   },
   {
    "duration": 56,
    "start_time": "2022-05-28T12:06:59.477Z"
   },
   {
    "duration": 18,
    "start_time": "2022-05-28T12:06:59.535Z"
   },
   {
    "duration": 8,
    "start_time": "2022-05-28T12:06:59.555Z"
   },
   {
    "duration": 12,
    "start_time": "2022-05-28T12:06:59.564Z"
   },
   {
    "duration": 49,
    "start_time": "2022-05-28T12:06:59.595Z"
   },
   {
    "duration": 12,
    "start_time": "2022-05-28T12:06:59.646Z"
   },
   {
    "duration": 15,
    "start_time": "2022-05-28T12:06:59.660Z"
   },
   {
    "duration": 15,
    "start_time": "2022-05-28T12:06:59.677Z"
   },
   {
    "duration": 30,
    "start_time": "2022-05-28T12:07:29.750Z"
   },
   {
    "duration": 25,
    "start_time": "2022-05-28T12:08:08.575Z"
   },
   {
    "duration": 20,
    "start_time": "2022-05-28T12:09:11.422Z"
   },
   {
    "duration": 15,
    "start_time": "2022-05-28T12:17:52.842Z"
   },
   {
    "duration": 38,
    "start_time": "2022-05-28T12:49:46.000Z"
   },
   {
    "duration": 88,
    "start_time": "2022-05-28T12:54:50.254Z"
   },
   {
    "duration": 14,
    "start_time": "2022-05-28T12:55:01.039Z"
   },
   {
    "duration": 15,
    "start_time": "2022-05-28T12:55:03.713Z"
   },
   {
    "duration": 10,
    "start_time": "2022-05-28T12:55:04.660Z"
   },
   {
    "duration": 594,
    "start_time": "2022-05-28T12:55:12.622Z"
   },
   {
    "duration": 19,
    "start_time": "2022-05-28T12:55:13.218Z"
   },
   {
    "duration": 14,
    "start_time": "2022-05-28T12:55:13.239Z"
   },
   {
    "duration": 41,
    "start_time": "2022-05-28T12:55:13.257Z"
   },
   {
    "duration": 17,
    "start_time": "2022-05-28T12:55:13.300Z"
   },
   {
    "duration": 4,
    "start_time": "2022-05-28T12:55:13.319Z"
   },
   {
    "duration": 10,
    "start_time": "2022-05-28T12:55:13.325Z"
   },
   {
    "duration": 16,
    "start_time": "2022-05-28T12:55:13.337Z"
   },
   {
    "duration": 9,
    "start_time": "2022-05-28T12:55:13.355Z"
   },
   {
    "duration": 27,
    "start_time": "2022-05-28T12:55:13.396Z"
   },
   {
    "duration": 25,
    "start_time": "2022-05-28T12:55:13.425Z"
   },
   {
    "duration": 44,
    "start_time": "2022-05-28T12:55:13.452Z"
   },
   {
    "duration": 7,
    "start_time": "2022-05-28T12:55:13.497Z"
   },
   {
    "duration": 18,
    "start_time": "2022-05-28T12:55:13.505Z"
   },
   {
    "duration": 30,
    "start_time": "2022-05-28T12:55:13.525Z"
   },
   {
    "duration": 78,
    "start_time": "2022-05-28T12:55:13.557Z"
   },
   {
    "duration": 26,
    "start_time": "2022-05-28T12:55:13.636Z"
   },
   {
    "duration": 12,
    "start_time": "2022-05-28T12:55:13.664Z"
   },
   {
    "duration": 23,
    "start_time": "2022-05-28T12:55:13.678Z"
   },
   {
    "duration": 19,
    "start_time": "2022-05-28T12:55:13.703Z"
   },
   {
    "duration": 22,
    "start_time": "2022-05-28T12:55:13.724Z"
   },
   {
    "duration": 48,
    "start_time": "2022-05-28T12:55:13.748Z"
   },
   {
    "duration": 19,
    "start_time": "2022-05-28T12:55:13.798Z"
   },
   {
    "duration": 13,
    "start_time": "2022-05-28T12:56:32.392Z"
   },
   {
    "duration": 18,
    "start_time": "2022-05-28T12:56:37.518Z"
   },
   {
    "duration": 13,
    "start_time": "2022-05-28T12:56:40.736Z"
   },
   {
    "duration": 7,
    "start_time": "2022-05-28T12:57:34.497Z"
   },
   {
    "duration": 32,
    "start_time": "2022-05-28T13:05:17.844Z"
   },
   {
    "duration": 5,
    "start_time": "2022-05-28T13:34:05.448Z"
   },
   {
    "duration": 40,
    "start_time": "2022-05-28T13:34:10.226Z"
   },
   {
    "duration": 19,
    "start_time": "2022-05-28T13:34:24.467Z"
   },
   {
    "duration": 21,
    "start_time": "2022-05-28T13:46:28.093Z"
   },
   {
    "duration": 6,
    "start_time": "2022-05-28T13:47:14.049Z"
   },
   {
    "duration": 18,
    "start_time": "2022-05-28T13:47:42.585Z"
   },
   {
    "duration": 7,
    "start_time": "2022-05-28T13:48:50.508Z"
   },
   {
    "duration": 6,
    "start_time": "2022-05-28T13:49:22.233Z"
   },
   {
    "duration": 705,
    "start_time": "2022-05-28T13:49:46.727Z"
   },
   {
    "duration": 27,
    "start_time": "2022-05-28T13:49:47.435Z"
   },
   {
    "duration": 16,
    "start_time": "2022-05-28T13:49:47.465Z"
   },
   {
    "duration": 83,
    "start_time": "2022-05-28T13:49:47.484Z"
   },
   {
    "duration": 22,
    "start_time": "2022-05-28T13:49:47.571Z"
   },
   {
    "duration": 52,
    "start_time": "2022-05-28T13:49:47.600Z"
   },
   {
    "duration": 20,
    "start_time": "2022-05-28T13:49:47.654Z"
   },
   {
    "duration": 32,
    "start_time": "2022-05-28T13:49:47.676Z"
   },
   {
    "duration": 44,
    "start_time": "2022-05-28T13:49:47.710Z"
   },
   {
    "duration": 8,
    "start_time": "2022-05-28T13:49:47.756Z"
   },
   {
    "duration": 41,
    "start_time": "2022-05-28T13:49:47.766Z"
   },
   {
    "duration": 28,
    "start_time": "2022-05-28T13:49:47.809Z"
   },
   {
    "duration": 35,
    "start_time": "2022-05-28T13:49:47.840Z"
   },
   {
    "duration": 8,
    "start_time": "2022-05-28T13:49:47.878Z"
   },
   {
    "duration": 32,
    "start_time": "2022-05-28T13:49:47.898Z"
   },
   {
    "duration": 24,
    "start_time": "2022-05-28T13:49:47.932Z"
   },
   {
    "duration": 66,
    "start_time": "2022-05-28T13:49:47.958Z"
   },
   {
    "duration": 25,
    "start_time": "2022-05-28T13:49:48.026Z"
   },
   {
    "duration": 9,
    "start_time": "2022-05-28T13:49:48.052Z"
   },
   {
    "duration": 38,
    "start_time": "2022-05-28T13:49:48.063Z"
   },
   {
    "duration": 30,
    "start_time": "2022-05-28T13:49:48.107Z"
   },
   {
    "duration": 19,
    "start_time": "2022-05-28T13:49:48.140Z"
   },
   {
    "duration": 13,
    "start_time": "2022-05-28T13:49:48.161Z"
   },
   {
    "duration": 30,
    "start_time": "2022-05-28T13:49:48.176Z"
   },
   {
    "duration": 39,
    "start_time": "2022-05-28T13:49:48.207Z"
   },
   {
    "duration": 19,
    "start_time": "2022-05-28T13:50:25.667Z"
   },
   {
    "duration": 4,
    "start_time": "2022-05-28T13:50:26.839Z"
   },
   {
    "duration": 6,
    "start_time": "2022-05-28T13:50:48.543Z"
   },
   {
    "duration": 6,
    "start_time": "2022-05-28T13:51:39.346Z"
   },
   {
    "duration": 654,
    "start_time": "2022-05-28T13:51:48.274Z"
   },
   {
    "duration": 30,
    "start_time": "2022-05-28T13:51:48.931Z"
   },
   {
    "duration": 17,
    "start_time": "2022-05-28T13:51:48.963Z"
   },
   {
    "duration": 27,
    "start_time": "2022-05-28T13:51:48.982Z"
   },
   {
    "duration": 62,
    "start_time": "2022-05-28T13:51:49.012Z"
   },
   {
    "duration": 5,
    "start_time": "2022-05-28T13:51:49.077Z"
   },
   {
    "duration": 11,
    "start_time": "2022-05-28T13:51:49.085Z"
   },
   {
    "duration": 61,
    "start_time": "2022-05-28T13:51:49.102Z"
   },
   {
    "duration": 12,
    "start_time": "2022-05-28T13:51:49.165Z"
   },
   {
    "duration": 13,
    "start_time": "2022-05-28T13:51:49.179Z"
   },
   {
    "duration": 76,
    "start_time": "2022-05-28T13:51:49.194Z"
   },
   {
    "duration": 32,
    "start_time": "2022-05-28T13:51:49.273Z"
   },
   {
    "duration": 29,
    "start_time": "2022-05-28T13:51:49.312Z"
   },
   {
    "duration": 14,
    "start_time": "2022-05-28T13:51:49.345Z"
   },
   {
    "duration": 23,
    "start_time": "2022-05-28T13:51:49.363Z"
   },
   {
    "duration": 32,
    "start_time": "2022-05-28T13:51:49.394Z"
   },
   {
    "duration": 61,
    "start_time": "2022-05-28T13:51:49.428Z"
   },
   {
    "duration": 46,
    "start_time": "2022-05-28T13:51:49.491Z"
   },
   {
    "duration": 12,
    "start_time": "2022-05-28T13:51:49.541Z"
   },
   {
    "duration": 27,
    "start_time": "2022-05-28T13:51:49.555Z"
   },
   {
    "duration": 38,
    "start_time": "2022-05-28T13:51:49.586Z"
   },
   {
    "duration": 26,
    "start_time": "2022-05-28T13:51:49.627Z"
   },
   {
    "duration": 25,
    "start_time": "2022-05-28T13:51:49.656Z"
   },
   {
    "duration": 68,
    "start_time": "2022-05-28T13:51:49.683Z"
   },
   {
    "duration": 31,
    "start_time": "2022-05-28T13:51:49.755Z"
   },
   {
    "duration": 5,
    "start_time": "2022-05-28T13:51:58.568Z"
   },
   {
    "duration": 6,
    "start_time": "2022-05-28T13:51:59.456Z"
   },
   {
    "duration": 9,
    "start_time": "2022-05-28T13:52:33.065Z"
   },
   {
    "duration": 104,
    "start_time": "2022-05-28T13:53:08.146Z"
   },
   {
    "duration": 14,
    "start_time": "2022-05-28T13:53:13.980Z"
   },
   {
    "duration": 4,
    "start_time": "2022-05-28T13:53:17.796Z"
   },
   {
    "duration": 13,
    "start_time": "2022-05-28T13:53:18.629Z"
   },
   {
    "duration": 23,
    "start_time": "2022-05-28T13:53:45.072Z"
   },
   {
    "duration": 14,
    "start_time": "2022-05-28T13:54:29.693Z"
   },
   {
    "duration": 4,
    "start_time": "2022-05-28T13:55:03.055Z"
   },
   {
    "duration": 4,
    "start_time": "2022-05-28T13:55:06.514Z"
   },
   {
    "duration": 9,
    "start_time": "2022-05-28T13:55:10.226Z"
   },
   {
    "duration": 9,
    "start_time": "2022-05-28T13:55:10.995Z"
   },
   {
    "duration": 575,
    "start_time": "2022-05-28T13:55:22.318Z"
   },
   {
    "duration": 23,
    "start_time": "2022-05-28T13:55:22.901Z"
   },
   {
    "duration": 12,
    "start_time": "2022-05-28T13:55:22.926Z"
   },
   {
    "duration": 14,
    "start_time": "2022-05-28T13:55:22.940Z"
   },
   {
    "duration": 44,
    "start_time": "2022-05-28T13:55:22.956Z"
   },
   {
    "duration": 10,
    "start_time": "2022-05-28T13:55:23.001Z"
   },
   {
    "duration": 16,
    "start_time": "2022-05-28T13:55:23.014Z"
   },
   {
    "duration": 27,
    "start_time": "2022-05-28T13:55:23.033Z"
   },
   {
    "duration": 35,
    "start_time": "2022-05-28T13:55:23.062Z"
   },
   {
    "duration": 35,
    "start_time": "2022-05-28T13:55:23.099Z"
   },
   {
    "duration": 29,
    "start_time": "2022-05-28T13:55:23.136Z"
   },
   {
    "duration": 23,
    "start_time": "2022-05-28T13:55:23.167Z"
   },
   {
    "duration": 29,
    "start_time": "2022-05-28T13:55:23.192Z"
   },
   {
    "duration": 20,
    "start_time": "2022-05-28T13:55:23.224Z"
   },
   {
    "duration": 21,
    "start_time": "2022-05-28T13:55:23.246Z"
   },
   {
    "duration": 48,
    "start_time": "2022-05-28T13:55:23.269Z"
   },
   {
    "duration": 67,
    "start_time": "2022-05-28T13:55:23.319Z"
   },
   {
    "duration": 34,
    "start_time": "2022-05-28T13:55:23.388Z"
   },
   {
    "duration": 23,
    "start_time": "2022-05-28T13:55:23.424Z"
   },
   {
    "duration": 11,
    "start_time": "2022-05-28T13:55:23.449Z"
   },
   {
    "duration": 43,
    "start_time": "2022-05-28T13:55:23.462Z"
   },
   {
    "duration": 32,
    "start_time": "2022-05-28T13:55:23.512Z"
   },
   {
    "duration": 27,
    "start_time": "2022-05-28T13:55:23.547Z"
   },
   {
    "duration": 43,
    "start_time": "2022-05-28T13:55:23.576Z"
   },
   {
    "duration": 27,
    "start_time": "2022-05-28T13:55:23.621Z"
   },
   {
    "duration": 4,
    "start_time": "2022-05-28T13:55:36.386Z"
   },
   {
    "duration": 5,
    "start_time": "2022-05-28T13:55:59.428Z"
   },
   {
    "duration": 10,
    "start_time": "2022-05-28T13:56:59.520Z"
   },
   {
    "duration": 112,
    "start_time": "2022-05-28T13:57:10.629Z"
   },
   {
    "duration": 18,
    "start_time": "2022-05-28T13:57:10.747Z"
   },
   {
    "duration": 14,
    "start_time": "2022-05-28T13:57:10.771Z"
   },
   {
    "duration": 64,
    "start_time": "2022-05-28T13:57:10.787Z"
   },
   {
    "duration": 18,
    "start_time": "2022-05-28T13:57:10.853Z"
   },
   {
    "duration": 94,
    "start_time": "2022-05-28T13:58:44.554Z"
   },
   {
    "duration": 37,
    "start_time": "2022-05-28T13:58:52.301Z"
   },
   {
    "duration": 6,
    "start_time": "2022-05-28T13:59:35.127Z"
   },
   {
    "duration": 8,
    "start_time": "2022-05-28T13:59:36.547Z"
   },
   {
    "duration": 590,
    "start_time": "2022-05-28T14:00:26.029Z"
   },
   {
    "duration": 19,
    "start_time": "2022-05-28T14:00:26.621Z"
   },
   {
    "duration": 12,
    "start_time": "2022-05-28T14:00:26.642Z"
   },
   {
    "duration": 40,
    "start_time": "2022-05-28T14:00:26.656Z"
   },
   {
    "duration": 30,
    "start_time": "2022-05-28T14:00:26.699Z"
   },
   {
    "duration": 21,
    "start_time": "2022-05-28T14:00:26.731Z"
   },
   {
    "duration": 9,
    "start_time": "2022-05-28T14:00:26.754Z"
   },
   {
    "duration": 6,
    "start_time": "2022-05-28T14:00:26.766Z"
   },
   {
    "duration": 24,
    "start_time": "2022-05-28T14:00:26.774Z"
   },
   {
    "duration": 33,
    "start_time": "2022-05-28T14:00:26.800Z"
   },
   {
    "duration": 10,
    "start_time": "2022-05-28T14:00:26.835Z"
   },
   {
    "duration": 26,
    "start_time": "2022-05-28T14:00:26.847Z"
   },
   {
    "duration": 40,
    "start_time": "2022-05-28T14:00:26.876Z"
   },
   {
    "duration": 28,
    "start_time": "2022-05-28T14:00:26.920Z"
   },
   {
    "duration": 8,
    "start_time": "2022-05-28T14:00:26.950Z"
   },
   {
    "duration": 39,
    "start_time": "2022-05-28T14:00:26.960Z"
   },
   {
    "duration": 26,
    "start_time": "2022-05-28T14:00:27.001Z"
   },
   {
    "duration": 90,
    "start_time": "2022-05-28T14:00:27.029Z"
   },
   {
    "duration": 23,
    "start_time": "2022-05-28T14:00:27.122Z"
   },
   {
    "duration": 7,
    "start_time": "2022-05-28T14:00:27.147Z"
   },
   {
    "duration": 22,
    "start_time": "2022-05-28T14:00:27.156Z"
   },
   {
    "duration": 72,
    "start_time": "2022-05-28T14:00:27.181Z"
   },
   {
    "duration": 18,
    "start_time": "2022-05-28T14:00:27.256Z"
   },
   {
    "duration": 31,
    "start_time": "2022-05-28T14:00:27.276Z"
   },
   {
    "duration": 49,
    "start_time": "2022-05-28T14:00:27.312Z"
   },
   {
    "duration": 50,
    "start_time": "2022-05-28T14:00:27.364Z"
   },
   {
    "duration": 16,
    "start_time": "2022-05-28T14:01:07.873Z"
   },
   {
    "duration": 19,
    "start_time": "2022-05-28T14:02:21.467Z"
   },
   {
    "duration": 8,
    "start_time": "2022-05-28T14:02:35.550Z"
   },
   {
    "duration": 13,
    "start_time": "2022-05-28T14:04:24.874Z"
   },
   {
    "duration": 110,
    "start_time": "2022-05-28T14:06:59.982Z"
   },
   {
    "duration": 9,
    "start_time": "2022-05-28T14:07:09.673Z"
   },
   {
    "duration": 14,
    "start_time": "2022-05-28T14:07:14.078Z"
   },
   {
    "duration": 10,
    "start_time": "2022-05-28T14:07:14.860Z"
   },
   {
    "duration": 14,
    "start_time": "2022-05-28T14:08:06.523Z"
   },
   {
    "duration": 11,
    "start_time": "2022-05-28T14:10:25.648Z"
   },
   {
    "duration": 16,
    "start_time": "2022-05-28T14:10:44.091Z"
   },
   {
    "duration": 14,
    "start_time": "2022-05-28T14:16:50.983Z"
   },
   {
    "duration": 23,
    "start_time": "2022-05-28T14:17:07.485Z"
   },
   {
    "duration": 36,
    "start_time": "2022-05-28T14:18:22.522Z"
   },
   {
    "duration": 16,
    "start_time": "2022-05-28T14:19:56.619Z"
   },
   {
    "duration": 26,
    "start_time": "2022-05-28T14:20:17.713Z"
   },
   {
    "duration": 56,
    "start_time": "2022-05-28T14:27:10.588Z"
   },
   {
    "duration": 28,
    "start_time": "2022-05-28T14:27:22.669Z"
   },
   {
    "duration": 37,
    "start_time": "2022-05-28T14:28:39.474Z"
   },
   {
    "duration": 30,
    "start_time": "2022-05-28T14:28:53.626Z"
   },
   {
    "duration": 14,
    "start_time": "2022-05-28T14:29:17.821Z"
   },
   {
    "duration": 11,
    "start_time": "2022-05-28T14:52:37.912Z"
   },
   {
    "duration": 9,
    "start_time": "2022-05-28T14:52:54.590Z"
   },
   {
    "duration": 15,
    "start_time": "2022-05-28T14:53:01.261Z"
   },
   {
    "duration": 17,
    "start_time": "2022-05-28T14:55:59.242Z"
   },
   {
    "duration": 15,
    "start_time": "2022-05-28T14:56:28.551Z"
   },
   {
    "duration": 32,
    "start_time": "2022-05-28T14:58:54.652Z"
   },
   {
    "duration": 30,
    "start_time": "2022-05-28T15:02:30.371Z"
   },
   {
    "duration": 13,
    "start_time": "2022-05-28T15:03:25.757Z"
   },
   {
    "duration": 21,
    "start_time": "2022-05-28T15:13:42.783Z"
   },
   {
    "duration": 15,
    "start_time": "2022-05-28T15:16:20.468Z"
   },
   {
    "duration": 18,
    "start_time": "2022-05-28T15:21:42.840Z"
   },
   {
    "duration": 18,
    "start_time": "2022-05-28T15:21:54.332Z"
   },
   {
    "duration": 15,
    "start_time": "2022-05-28T15:32:12.177Z"
   },
   {
    "duration": 19,
    "start_time": "2022-05-28T15:32:29.682Z"
   },
   {
    "duration": 11,
    "start_time": "2022-05-28T15:33:02.377Z"
   },
   {
    "duration": 14,
    "start_time": "2022-05-28T15:33:49.995Z"
   },
   {
    "duration": 14,
    "start_time": "2022-05-28T15:34:01.327Z"
   },
   {
    "duration": 12,
    "start_time": "2022-05-28T15:34:25.857Z"
   },
   {
    "duration": 98,
    "start_time": "2022-05-28T15:34:52.039Z"
   },
   {
    "duration": 16,
    "start_time": "2022-05-28T15:38:20.311Z"
   },
   {
    "duration": 13,
    "start_time": "2022-05-28T15:38:44.977Z"
   },
   {
    "duration": 17,
    "start_time": "2022-05-28T15:41:54.288Z"
   },
   {
    "duration": 11,
    "start_time": "2022-05-28T15:42:22.836Z"
   },
   {
    "duration": 16,
    "start_time": "2022-05-28T15:45:59.075Z"
   },
   {
    "duration": 443,
    "start_time": "2022-05-28T15:46:16.920Z"
   },
   {
    "duration": 12,
    "start_time": "2022-05-28T15:46:27.778Z"
   },
   {
    "duration": 13,
    "start_time": "2022-05-28T15:46:47.288Z"
   },
   {
    "duration": 15,
    "start_time": "2022-05-28T15:47:12.665Z"
   },
   {
    "duration": 17,
    "start_time": "2022-05-28T15:47:18.377Z"
   },
   {
    "duration": 20,
    "start_time": "2022-05-28T15:47:46.962Z"
   },
   {
    "duration": 14,
    "start_time": "2022-05-28T15:48:17.623Z"
   },
   {
    "duration": 505,
    "start_time": "2022-05-28T15:49:16.670Z"
   },
   {
    "duration": 572,
    "start_time": "2022-05-28T15:49:41.772Z"
   },
   {
    "duration": 432,
    "start_time": "2022-05-28T15:50:24.088Z"
   },
   {
    "duration": 571,
    "start_time": "2022-05-28T15:50:33.730Z"
   },
   {
    "duration": 24,
    "start_time": "2022-05-28T15:51:21.375Z"
   },
   {
    "duration": 27,
    "start_time": "2022-05-28T15:52:33.309Z"
   },
   {
    "duration": 19,
    "start_time": "2022-05-28T15:52:36.793Z"
   },
   {
    "duration": 20,
    "start_time": "2022-05-28T15:52:49.613Z"
   },
   {
    "duration": 17,
    "start_time": "2022-05-28T15:57:49.387Z"
   },
   {
    "duration": 17,
    "start_time": "2022-05-28T16:01:57.380Z"
   },
   {
    "duration": 16,
    "start_time": "2022-05-28T16:01:58.605Z"
   },
   {
    "duration": 611,
    "start_time": "2022-05-28T16:02:05.070Z"
   },
   {
    "duration": 23,
    "start_time": "2022-05-28T16:02:05.684Z"
   },
   {
    "duration": 14,
    "start_time": "2022-05-28T16:02:05.709Z"
   },
   {
    "duration": 21,
    "start_time": "2022-05-28T16:02:05.725Z"
   },
   {
    "duration": 47,
    "start_time": "2022-05-28T16:02:05.748Z"
   },
   {
    "duration": 7,
    "start_time": "2022-05-28T16:02:05.797Z"
   },
   {
    "duration": 8,
    "start_time": "2022-05-28T16:02:05.806Z"
   },
   {
    "duration": 4,
    "start_time": "2022-05-28T16:02:05.816Z"
   },
   {
    "duration": 9,
    "start_time": "2022-05-28T16:02:05.823Z"
   },
   {
    "duration": 9,
    "start_time": "2022-05-28T16:02:05.834Z"
   },
   {
    "duration": 10,
    "start_time": "2022-05-28T16:02:05.845Z"
   },
   {
    "duration": 21,
    "start_time": "2022-05-28T16:02:05.894Z"
   },
   {
    "duration": 33,
    "start_time": "2022-05-28T16:02:05.917Z"
   },
   {
    "duration": 52,
    "start_time": "2022-05-28T16:02:05.954Z"
   },
   {
    "duration": 10,
    "start_time": "2022-05-28T16:02:06.008Z"
   },
   {
    "duration": 17,
    "start_time": "2022-05-28T16:02:06.020Z"
   },
   {
    "duration": 22,
    "start_time": "2022-05-28T16:02:06.039Z"
   },
   {
    "duration": 71,
    "start_time": "2022-05-28T16:02:06.062Z"
   },
   {
    "duration": 19,
    "start_time": "2022-05-28T16:02:06.135Z"
   },
   {
    "duration": 9,
    "start_time": "2022-05-28T16:02:06.156Z"
   },
   {
    "duration": 32,
    "start_time": "2022-05-28T16:02:06.167Z"
   },
   {
    "duration": 20,
    "start_time": "2022-05-28T16:02:06.201Z"
   },
   {
    "duration": 20,
    "start_time": "2022-05-28T16:02:06.223Z"
   },
   {
    "duration": 131,
    "start_time": "2022-05-28T16:02:06.245Z"
   },
   {
    "duration": 0,
    "start_time": "2022-05-28T16:02:06.378Z"
   },
   {
    "duration": 0,
    "start_time": "2022-05-28T16:02:06.380Z"
   },
   {
    "duration": 0,
    "start_time": "2022-05-28T16:02:06.382Z"
   },
   {
    "duration": 0,
    "start_time": "2022-05-28T16:02:06.394Z"
   },
   {
    "duration": 15,
    "start_time": "2022-05-28T16:02:23.279Z"
   },
   {
    "duration": 19,
    "start_time": "2022-05-28T16:02:32.934Z"
   },
   {
    "duration": 17,
    "start_time": "2022-05-28T16:02:33.671Z"
   },
   {
    "duration": 12,
    "start_time": "2022-05-28T16:02:43.777Z"
   },
   {
    "duration": 16,
    "start_time": "2022-05-28T16:02:44.387Z"
   },
   {
    "duration": 23,
    "start_time": "2022-05-28T16:02:45.179Z"
   },
   {
    "duration": 11,
    "start_time": "2022-05-28T16:03:12.154Z"
   },
   {
    "duration": 13,
    "start_time": "2022-05-28T16:03:29.391Z"
   },
   {
    "duration": 13,
    "start_time": "2022-05-28T16:03:40.514Z"
   },
   {
    "duration": 8,
    "start_time": "2022-05-28T16:04:02.790Z"
   },
   {
    "duration": 19,
    "start_time": "2022-05-28T16:04:18.915Z"
   },
   {
    "duration": 21,
    "start_time": "2022-05-28T16:04:28.020Z"
   },
   {
    "duration": 14,
    "start_time": "2022-05-28T16:05:18.589Z"
   },
   {
    "duration": 22,
    "start_time": "2022-05-28T16:05:37.507Z"
   },
   {
    "duration": 30,
    "start_time": "2022-05-28T16:06:00.589Z"
   },
   {
    "duration": 18,
    "start_time": "2022-05-28T16:06:38.171Z"
   },
   {
    "duration": 16,
    "start_time": "2022-05-28T16:07:38.572Z"
   },
   {
    "duration": 19,
    "start_time": "2022-05-28T16:08:35.166Z"
   },
   {
    "duration": 21,
    "start_time": "2022-05-28T16:08:49.059Z"
   },
   {
    "duration": 16,
    "start_time": "2022-05-28T16:09:11.697Z"
   },
   {
    "duration": 17,
    "start_time": "2022-05-28T16:10:18.146Z"
   },
   {
    "duration": 43,
    "start_time": "2022-05-28T16:12:36.209Z"
   },
   {
    "duration": 19,
    "start_time": "2022-05-28T16:13:09.804Z"
   },
   {
    "duration": 17,
    "start_time": "2022-05-28T16:13:32.611Z"
   },
   {
    "duration": 41,
    "start_time": "2022-05-28T16:17:53.678Z"
   },
   {
    "duration": 42,
    "start_time": "2022-05-28T16:18:08.499Z"
   },
   {
    "duration": 45,
    "start_time": "2022-05-28T16:18:48.344Z"
   },
   {
    "duration": 18,
    "start_time": "2022-05-28T16:27:24.481Z"
   },
   {
    "duration": 18,
    "start_time": "2022-05-28T16:59:42.978Z"
   },
   {
    "duration": 18,
    "start_time": "2022-05-28T17:00:08.169Z"
   },
   {
    "duration": 13,
    "start_time": "2022-05-28T17:10:11.975Z"
   },
   {
    "duration": 9,
    "start_time": "2022-05-28T17:10:34.937Z"
   },
   {
    "duration": 8,
    "start_time": "2022-05-28T17:10:40.342Z"
   },
   {
    "duration": 631,
    "start_time": "2022-05-28T17:10:58.920Z"
   },
   {
    "duration": 17,
    "start_time": "2022-05-28T17:10:59.553Z"
   },
   {
    "duration": 13,
    "start_time": "2022-05-28T17:10:59.572Z"
   },
   {
    "duration": 26,
    "start_time": "2022-05-28T17:10:59.587Z"
   },
   {
    "duration": 21,
    "start_time": "2022-05-28T17:10:59.616Z"
   },
   {
    "duration": 6,
    "start_time": "2022-05-28T17:10:59.639Z"
   },
   {
    "duration": 7,
    "start_time": "2022-05-28T17:10:59.647Z"
   },
   {
    "duration": 3,
    "start_time": "2022-05-28T17:10:59.656Z"
   },
   {
    "duration": 36,
    "start_time": "2022-05-28T17:10:59.661Z"
   },
   {
    "duration": 21,
    "start_time": "2022-05-28T17:10:59.699Z"
   },
   {
    "duration": 7,
    "start_time": "2022-05-28T17:10:59.722Z"
   },
   {
    "duration": 18,
    "start_time": "2022-05-28T17:10:59.731Z"
   },
   {
    "duration": 20,
    "start_time": "2022-05-28T17:10:59.751Z"
   },
   {
    "duration": 46,
    "start_time": "2022-05-28T17:10:59.774Z"
   },
   {
    "duration": 9,
    "start_time": "2022-05-28T17:10:59.822Z"
   },
   {
    "duration": 18,
    "start_time": "2022-05-28T17:10:59.833Z"
   },
   {
    "duration": 50,
    "start_time": "2022-05-28T17:10:59.853Z"
   },
   {
    "duration": 47,
    "start_time": "2022-05-28T17:10:59.905Z"
   },
   {
    "duration": 16,
    "start_time": "2022-05-28T17:10:59.954Z"
   },
   {
    "duration": 29,
    "start_time": "2022-05-28T17:10:59.972Z"
   },
   {
    "duration": 25,
    "start_time": "2022-05-28T17:11:00.003Z"
   },
   {
    "duration": 20,
    "start_time": "2022-05-28T17:11:00.030Z"
   },
   {
    "duration": 19,
    "start_time": "2022-05-28T17:11:00.052Z"
   },
   {
    "duration": 24,
    "start_time": "2022-05-28T17:11:00.073Z"
   },
   {
    "duration": 23,
    "start_time": "2022-05-28T17:11:00.099Z"
   },
   {
    "duration": 14,
    "start_time": "2022-05-28T17:11:00.123Z"
   },
   {
    "duration": 110,
    "start_time": "2022-05-28T17:11:00.138Z"
   },
   {
    "duration": 0,
    "start_time": "2022-05-28T17:11:00.251Z"
   },
   {
    "duration": 14,
    "start_time": "2022-05-28T17:11:40.551Z"
   },
   {
    "duration": 23,
    "start_time": "2022-05-28T17:14:56.234Z"
   },
   {
    "duration": 14,
    "start_time": "2022-05-28T17:18:49.063Z"
   },
   {
    "duration": 25,
    "start_time": "2022-05-28T17:19:06.060Z"
   },
   {
    "duration": 18,
    "start_time": "2022-05-28T17:19:25.880Z"
   },
   {
    "duration": 12,
    "start_time": "2022-05-28T17:22:49.837Z"
   },
   {
    "duration": 20,
    "start_time": "2022-05-28T17:23:10.243Z"
   },
   {
    "duration": 26,
    "start_time": "2022-05-28T17:23:38.892Z"
   },
   {
    "duration": 12,
    "start_time": "2022-05-28T17:23:59.879Z"
   },
   {
    "duration": 12,
    "start_time": "2022-05-28T17:24:22.834Z"
   },
   {
    "duration": 17,
    "start_time": "2022-05-28T17:24:32.688Z"
   },
   {
    "duration": 12,
    "start_time": "2022-05-28T17:25:29.757Z"
   },
   {
    "duration": 16,
    "start_time": "2022-05-28T17:26:33.438Z"
   },
   {
    "duration": 13,
    "start_time": "2022-05-28T17:26:42.241Z"
   },
   {
    "duration": 11,
    "start_time": "2022-05-28T17:26:43.842Z"
   },
   {
    "duration": 13,
    "start_time": "2022-05-28T17:34:11.311Z"
   },
   {
    "duration": 21,
    "start_time": "2022-05-28T17:46:15.845Z"
   },
   {
    "duration": 12,
    "start_time": "2022-05-28T17:46:59.107Z"
   },
   {
    "duration": 23,
    "start_time": "2022-05-28T17:47:01.603Z"
   },
   {
    "duration": 24,
    "start_time": "2022-05-28T17:47:45.201Z"
   },
   {
    "duration": 10,
    "start_time": "2022-05-28T17:47:54.386Z"
   },
   {
    "duration": 25,
    "start_time": "2022-05-28T17:47:54.903Z"
   },
   {
    "duration": 15,
    "start_time": "2022-05-28T17:48:19.619Z"
   },
   {
    "duration": 18,
    "start_time": "2022-05-28T17:48:25.359Z"
   },
   {
    "duration": 21,
    "start_time": "2022-05-28T17:48:38.173Z"
   },
   {
    "duration": 19,
    "start_time": "2022-05-28T17:48:39.291Z"
   },
   {
    "duration": 21,
    "start_time": "2022-05-28T17:49:12.290Z"
   },
   {
    "duration": 40,
    "start_time": "2022-05-28T17:49:37.369Z"
   },
   {
    "duration": 19,
    "start_time": "2022-05-28T17:53:00.418Z"
   },
   {
    "duration": 15,
    "start_time": "2022-05-28T17:54:07.138Z"
   },
   {
    "duration": 19,
    "start_time": "2022-05-28T17:55:07.380Z"
   },
   {
    "duration": 21,
    "start_time": "2022-05-28T17:55:24.048Z"
   },
   {
    "duration": 15,
    "start_time": "2022-05-28T18:00:43.446Z"
   },
   {
    "duration": 22,
    "start_time": "2022-05-28T18:00:52.986Z"
   },
   {
    "duration": 698,
    "start_time": "2022-05-28T18:01:00.870Z"
   },
   {
    "duration": 32,
    "start_time": "2022-05-28T18:01:01.571Z"
   },
   {
    "duration": 14,
    "start_time": "2022-05-28T18:01:01.605Z"
   },
   {
    "duration": 23,
    "start_time": "2022-05-28T18:01:01.621Z"
   },
   {
    "duration": 50,
    "start_time": "2022-05-28T18:01:01.648Z"
   },
   {
    "duration": 8,
    "start_time": "2022-05-28T18:01:01.700Z"
   },
   {
    "duration": 21,
    "start_time": "2022-05-28T18:01:01.711Z"
   },
   {
    "duration": 25,
    "start_time": "2022-05-28T18:01:01.734Z"
   },
   {
    "duration": 22,
    "start_time": "2022-05-28T18:01:01.762Z"
   },
   {
    "duration": 26,
    "start_time": "2022-05-28T18:01:01.787Z"
   },
   {
    "duration": 48,
    "start_time": "2022-05-28T18:01:01.817Z"
   },
   {
    "duration": 37,
    "start_time": "2022-05-28T18:01:01.867Z"
   },
   {
    "duration": 52,
    "start_time": "2022-05-28T18:01:01.906Z"
   },
   {
    "duration": 32,
    "start_time": "2022-05-28T18:01:01.966Z"
   },
   {
    "duration": 10,
    "start_time": "2022-05-28T18:01:02.001Z"
   },
   {
    "duration": 59,
    "start_time": "2022-05-28T18:01:02.015Z"
   },
   {
    "duration": 52,
    "start_time": "2022-05-28T18:01:02.076Z"
   },
   {
    "duration": 68,
    "start_time": "2022-05-28T18:01:02.132Z"
   },
   {
    "duration": 30,
    "start_time": "2022-05-28T18:01:02.205Z"
   },
   {
    "duration": 33,
    "start_time": "2022-05-28T18:01:02.238Z"
   },
   {
    "duration": 37,
    "start_time": "2022-05-28T18:01:02.274Z"
   },
   {
    "duration": 32,
    "start_time": "2022-05-28T18:01:02.314Z"
   },
   {
    "duration": 35,
    "start_time": "2022-05-28T18:01:02.349Z"
   },
   {
    "duration": 35,
    "start_time": "2022-05-28T18:01:02.386Z"
   },
   {
    "duration": 40,
    "start_time": "2022-05-28T18:01:02.423Z"
   },
   {
    "duration": 26,
    "start_time": "2022-05-28T18:01:02.465Z"
   },
   {
    "duration": 23,
    "start_time": "2022-05-28T18:01:02.494Z"
   },
   {
    "duration": 23,
    "start_time": "2022-05-28T18:01:02.520Z"
   },
   {
    "duration": 19,
    "start_time": "2022-05-28T18:01:41.703Z"
   },
   {
    "duration": 43,
    "start_time": "2022-05-28T18:01:48.683Z"
   },
   {
    "duration": 27,
    "start_time": "2022-05-28T18:03:58.160Z"
   },
   {
    "duration": 23,
    "start_time": "2022-05-28T18:04:11.433Z"
   },
   {
    "duration": 23,
    "start_time": "2022-05-28T18:05:01.140Z"
   },
   {
    "duration": 26,
    "start_time": "2022-05-28T18:05:57.411Z"
   },
   {
    "duration": 21,
    "start_time": "2022-05-28T18:10:50.255Z"
   },
   {
    "duration": 24,
    "start_time": "2022-05-28T18:11:04.207Z"
   },
   {
    "duration": 21,
    "start_time": "2022-05-28T18:15:49.660Z"
   },
   {
    "duration": 23,
    "start_time": "2022-05-28T18:15:55.009Z"
   },
   {
    "duration": 36,
    "start_time": "2022-05-28T18:19:04.550Z"
   },
   {
    "duration": 23,
    "start_time": "2022-05-28T18:19:10.102Z"
   },
   {
    "duration": 19,
    "start_time": "2022-05-28T18:19:23.289Z"
   },
   {
    "duration": 16,
    "start_time": "2022-05-28T18:23:32.925Z"
   },
   {
    "duration": 160,
    "start_time": "2022-05-28T18:40:09.666Z"
   },
   {
    "duration": 29,
    "start_time": "2022-05-28T18:41:04.329Z"
   },
   {
    "duration": 15,
    "start_time": "2022-05-28T18:41:12.626Z"
   },
   {
    "duration": 18,
    "start_time": "2022-05-28T18:43:23.318Z"
   },
   {
    "duration": 4,
    "start_time": "2022-05-28T18:44:10.118Z"
   },
   {
    "duration": 15,
    "start_time": "2022-05-28T18:44:23.042Z"
   },
   {
    "duration": 74,
    "start_time": "2022-05-28T18:45:40.004Z"
   },
   {
    "duration": 28,
    "start_time": "2022-05-28T18:45:48.349Z"
   },
   {
    "duration": 20,
    "start_time": "2022-05-28T18:47:07.337Z"
   },
   {
    "duration": 45,
    "start_time": "2022-05-28T18:47:08.181Z"
   },
   {
    "duration": 26,
    "start_time": "2022-05-28T18:47:22.147Z"
   },
   {
    "duration": 25,
    "start_time": "2022-05-28T18:47:52.931Z"
   },
   {
    "duration": 26,
    "start_time": "2022-05-28T18:47:57.116Z"
   },
   {
    "duration": 37,
    "start_time": "2022-05-28T18:47:57.665Z"
   },
   {
    "duration": 25,
    "start_time": "2022-05-28T18:48:19.729Z"
   },
   {
    "duration": 37,
    "start_time": "2022-05-28T18:50:43.975Z"
   },
   {
    "duration": 27,
    "start_time": "2022-05-28T18:50:45.081Z"
   },
   {
    "duration": 36,
    "start_time": "2022-05-28T18:50:45.641Z"
   },
   {
    "duration": 46,
    "start_time": "2022-05-28T18:50:46.063Z"
   },
   {
    "duration": 38,
    "start_time": "2022-05-28T19:14:15.234Z"
   },
   {
    "duration": 37,
    "start_time": "2022-05-28T19:14:56.818Z"
   },
   {
    "duration": 23,
    "start_time": "2022-05-28T19:15:03.312Z"
   },
   {
    "duration": 21,
    "start_time": "2022-05-28T19:15:09.130Z"
   },
   {
    "duration": 41,
    "start_time": "2022-05-28T19:24:00.040Z"
   },
   {
    "duration": 30,
    "start_time": "2022-05-28T19:27:05.043Z"
   },
   {
    "duration": 37,
    "start_time": "2022-05-28T19:29:38.921Z"
   },
   {
    "duration": 30,
    "start_time": "2022-05-28T19:29:41.919Z"
   },
   {
    "duration": 36,
    "start_time": "2022-05-28T19:29:43.997Z"
   },
   {
    "duration": 30,
    "start_time": "2022-05-28T19:29:44.625Z"
   },
   {
    "duration": 649,
    "start_time": "2022-05-28T19:44:29.683Z"
   },
   {
    "duration": 25,
    "start_time": "2022-05-28T19:44:30.334Z"
   },
   {
    "duration": 38,
    "start_time": "2022-05-28T19:44:30.361Z"
   },
   {
    "duration": 22,
    "start_time": "2022-05-28T19:44:30.402Z"
   },
   {
    "duration": 18,
    "start_time": "2022-05-28T19:44:30.427Z"
   },
   {
    "duration": 8,
    "start_time": "2022-05-28T19:44:30.447Z"
   },
   {
    "duration": 7,
    "start_time": "2022-05-28T19:44:30.457Z"
   },
   {
    "duration": 4,
    "start_time": "2022-05-28T19:44:30.496Z"
   },
   {
    "duration": 10,
    "start_time": "2022-05-28T19:44:30.502Z"
   },
   {
    "duration": 13,
    "start_time": "2022-05-28T19:44:30.515Z"
   },
   {
    "duration": 34,
    "start_time": "2022-05-28T19:44:30.530Z"
   },
   {
    "duration": 36,
    "start_time": "2022-05-28T19:44:30.566Z"
   },
   {
    "duration": 23,
    "start_time": "2022-05-28T19:44:30.604Z"
   },
   {
    "duration": 18,
    "start_time": "2022-05-28T19:44:30.629Z"
   },
   {
    "duration": 7,
    "start_time": "2022-05-28T19:44:30.649Z"
   },
   {
    "duration": 49,
    "start_time": "2022-05-28T19:44:30.658Z"
   },
   {
    "duration": 43,
    "start_time": "2022-05-28T19:44:30.709Z"
   },
   {
    "duration": 59,
    "start_time": "2022-05-28T19:44:30.756Z"
   },
   {
    "duration": 18,
    "start_time": "2022-05-28T19:44:30.817Z"
   },
   {
    "duration": 9,
    "start_time": "2022-05-28T19:44:30.838Z"
   },
   {
    "duration": 12,
    "start_time": "2022-05-28T19:44:30.849Z"
   },
   {
    "duration": 40,
    "start_time": "2022-05-28T19:44:30.863Z"
   },
   {
    "duration": 13,
    "start_time": "2022-05-28T19:44:30.906Z"
   },
   {
    "duration": 19,
    "start_time": "2022-05-28T19:44:30.921Z"
   },
   {
    "duration": 39,
    "start_time": "2022-05-28T19:44:30.942Z"
   },
   {
    "duration": 33,
    "start_time": "2022-05-28T19:44:30.983Z"
   },
   {
    "duration": 20,
    "start_time": "2022-05-28T19:44:31.018Z"
   },
   {
    "duration": 63,
    "start_time": "2022-05-28T19:44:31.042Z"
   },
   {
    "duration": 8,
    "start_time": "2022-05-28T19:44:59.965Z"
   },
   {
    "duration": 9,
    "start_time": "2022-05-28T19:45:00.697Z"
   },
   {
    "duration": 7,
    "start_time": "2022-05-28T19:45:14.347Z"
   },
   {
    "duration": 10,
    "start_time": "2022-05-28T19:45:14.910Z"
   },
   {
    "duration": 5,
    "start_time": "2022-05-28T19:45:16.776Z"
   },
   {
    "duration": 85,
    "start_time": "2022-05-28T19:53:29.631Z"
   },
   {
    "duration": 21,
    "start_time": "2022-05-28T19:53:31.228Z"
   },
   {
    "duration": 11,
    "start_time": "2022-05-28T19:53:36.566Z"
   },
   {
    "duration": 18,
    "start_time": "2022-05-28T19:53:39.906Z"
   },
   {
    "duration": 16,
    "start_time": "2022-05-28T19:53:45.140Z"
   },
   {
    "duration": 8,
    "start_time": "2022-05-28T19:53:48.102Z"
   },
   {
    "duration": 10,
    "start_time": "2022-05-28T19:53:51.477Z"
   },
   {
    "duration": 4,
    "start_time": "2022-05-28T19:53:54.392Z"
   },
   {
    "duration": 20,
    "start_time": "2022-05-28T19:57:03.753Z"
   },
   {
    "duration": 18,
    "start_time": "2022-05-28T19:57:21.573Z"
   },
   {
    "duration": 9,
    "start_time": "2022-05-28T19:58:01.951Z"
   },
   {
    "duration": 7,
    "start_time": "2022-05-28T19:58:02.125Z"
   },
   {
    "duration": 4,
    "start_time": "2022-05-28T19:58:02.529Z"
   },
   {
    "duration": 8,
    "start_time": "2022-05-28T19:58:02.948Z"
   },
   {
    "duration": 7,
    "start_time": "2022-05-28T19:58:03.393Z"
   },
   {
    "duration": 8,
    "start_time": "2022-05-28T19:58:04.060Z"
   },
   {
    "duration": 26,
    "start_time": "2022-05-28T19:58:04.757Z"
   },
   {
    "duration": 26,
    "start_time": "2022-05-28T19:58:05.026Z"
   },
   {
    "duration": 21,
    "start_time": "2022-05-28T19:58:05.272Z"
   },
   {
    "duration": 7,
    "start_time": "2022-05-28T19:58:05.708Z"
   },
   {
    "duration": 18,
    "start_time": "2022-05-28T19:58:05.946Z"
   },
   {
    "duration": 17,
    "start_time": "2022-05-28T19:58:06.449Z"
   },
   {
    "duration": 52,
    "start_time": "2022-05-28T19:58:07.025Z"
   },
   {
    "duration": 17,
    "start_time": "2022-05-28T19:58:07.819Z"
   },
   {
    "duration": 7,
    "start_time": "2022-05-28T19:58:10.297Z"
   },
   {
    "duration": 10,
    "start_time": "2022-05-28T19:58:11.187Z"
   },
   {
    "duration": 17,
    "start_time": "2022-05-28T19:58:11.792Z"
   },
   {
    "duration": 14,
    "start_time": "2022-05-28T19:58:12.429Z"
   },
   {
    "duration": 13,
    "start_time": "2022-05-28T19:58:13.619Z"
   },
   {
    "duration": 26,
    "start_time": "2022-05-28T19:58:13.915Z"
   },
   {
    "duration": 21,
    "start_time": "2022-05-28T19:58:14.991Z"
   },
   {
    "duration": 22,
    "start_time": "2022-05-28T19:58:15.505Z"
   },
   {
    "duration": 31,
    "start_time": "2022-05-28T19:58:15.749Z"
   },
   {
    "duration": 18,
    "start_time": "2022-05-28T19:58:15.979Z"
   },
   {
    "duration": 19,
    "start_time": "2022-05-28T19:58:18.572Z"
   },
   {
    "duration": 23,
    "start_time": "2022-05-29T07:02:10.703Z"
   },
   {
    "duration": 50,
    "start_time": "2022-05-29T07:03:53.357Z"
   },
   {
    "duration": 6,
    "start_time": "2022-05-29T07:04:12.500Z"
   },
   {
    "duration": 6,
    "start_time": "2022-05-29T07:04:46.396Z"
   },
   {
    "duration": 1113,
    "start_time": "2022-05-29T07:05:18.619Z"
   },
   {
    "duration": 16,
    "start_time": "2022-05-29T07:05:19.734Z"
   },
   {
    "duration": 10,
    "start_time": "2022-05-29T07:05:19.752Z"
   },
   {
    "duration": 23,
    "start_time": "2022-05-29T07:05:19.764Z"
   },
   {
    "duration": 7,
    "start_time": "2022-05-29T07:05:19.788Z"
   },
   {
    "duration": 32,
    "start_time": "2022-05-29T07:05:19.796Z"
   },
   {
    "duration": 7,
    "start_time": "2022-05-29T07:05:19.829Z"
   },
   {
    "duration": 4,
    "start_time": "2022-05-29T07:05:19.838Z"
   },
   {
    "duration": 11,
    "start_time": "2022-05-29T07:05:19.843Z"
   },
   {
    "duration": 6,
    "start_time": "2022-05-29T07:05:19.856Z"
   },
   {
    "duration": 6,
    "start_time": "2022-05-29T07:05:19.864Z"
   },
   {
    "duration": 18,
    "start_time": "2022-05-29T07:05:19.872Z"
   },
   {
    "duration": 55,
    "start_time": "2022-05-29T07:05:19.891Z"
   },
   {
    "duration": 18,
    "start_time": "2022-05-29T07:05:19.947Z"
   },
   {
    "duration": 7,
    "start_time": "2022-05-29T07:05:19.967Z"
   },
   {
    "duration": 14,
    "start_time": "2022-05-29T07:05:19.976Z"
   },
   {
    "duration": 49,
    "start_time": "2022-05-29T07:05:19.992Z"
   },
   {
    "duration": 36,
    "start_time": "2022-05-29T07:05:20.042Z"
   },
   {
    "duration": 15,
    "start_time": "2022-05-29T07:05:20.080Z"
   },
   {
    "duration": 7,
    "start_time": "2022-05-29T07:05:20.096Z"
   },
   {
    "duration": 6,
    "start_time": "2022-05-29T07:05:20.127Z"
   },
   {
    "duration": 14,
    "start_time": "2022-05-29T07:05:20.134Z"
   },
   {
    "duration": 11,
    "start_time": "2022-05-29T07:05:20.149Z"
   },
   {
    "duration": 15,
    "start_time": "2022-05-29T07:05:20.162Z"
   },
   {
    "duration": 54,
    "start_time": "2022-05-29T07:05:20.178Z"
   },
   {
    "duration": 17,
    "start_time": "2022-05-29T07:05:20.234Z"
   },
   {
    "duration": 17,
    "start_time": "2022-05-29T07:05:20.252Z"
   },
   {
    "duration": 19,
    "start_time": "2022-05-29T07:05:20.271Z"
   },
   {
    "duration": 37,
    "start_time": "2022-05-29T07:05:20.291Z"
   },
   {
    "duration": 80,
    "start_time": "2022-05-29T07:05:24.053Z"
   },
   {
    "duration": 17,
    "start_time": "2022-05-29T07:05:24.471Z"
   },
   {
    "duration": 11,
    "start_time": "2022-05-29T07:05:26.350Z"
   },
   {
    "duration": 15,
    "start_time": "2022-05-29T07:05:28.265Z"
   },
   {
    "duration": 6,
    "start_time": "2022-05-29T07:05:30.630Z"
   },
   {
    "duration": 5,
    "start_time": "2022-05-29T07:05:43.070Z"
   },
   {
    "duration": 17,
    "start_time": "2022-05-29T07:05:46.781Z"
   },
   {
    "duration": 5,
    "start_time": "2022-05-29T07:05:48.887Z"
   },
   {
    "duration": 6,
    "start_time": "2022-05-29T07:05:53.519Z"
   },
   {
    "duration": 5,
    "start_time": "2022-05-29T07:06:08.261Z"
   },
   {
    "duration": 6,
    "start_time": "2022-05-29T07:06:09.045Z"
   },
   {
    "duration": 4,
    "start_time": "2022-05-29T07:06:14.390Z"
   },
   {
    "duration": 6,
    "start_time": "2022-05-29T07:06:25.765Z"
   },
   {
    "duration": 6,
    "start_time": "2022-05-29T07:07:03.668Z"
   },
   {
    "duration": 6,
    "start_time": "2022-05-29T07:08:06.773Z"
   },
   {
    "duration": 3,
    "start_time": "2022-05-29T07:09:41.982Z"
   },
   {
    "duration": 4,
    "start_time": "2022-05-29T07:09:45.129Z"
   },
   {
    "duration": 7,
    "start_time": "2022-05-29T07:09:51.377Z"
   },
   {
    "duration": 15,
    "start_time": "2022-05-29T07:10:16.411Z"
   },
   {
    "duration": 18,
    "start_time": "2022-05-29T07:10:16.923Z"
   },
   {
    "duration": 15,
    "start_time": "2022-05-29T07:10:17.456Z"
   },
   {
    "duration": 6,
    "start_time": "2022-05-29T07:10:27.858Z"
   },
   {
    "duration": 12,
    "start_time": "2022-05-29T07:10:28.499Z"
   },
   {
    "duration": 15,
    "start_time": "2022-05-29T07:10:36.366Z"
   },
   {
    "duration": 37,
    "start_time": "2022-05-29T07:10:45.725Z"
   },
   {
    "duration": 15,
    "start_time": "2022-05-29T07:10:48.227Z"
   },
   {
    "duration": 15,
    "start_time": "2022-05-29T07:23:18.494Z"
   },
   {
    "duration": 13,
    "start_time": "2022-05-29T07:23:28.459Z"
   },
   {
    "duration": 468,
    "start_time": "2022-05-29T07:23:34.053Z"
   },
   {
    "duration": 14,
    "start_time": "2022-05-29T07:23:34.523Z"
   },
   {
    "duration": 8,
    "start_time": "2022-05-29T07:23:34.538Z"
   },
   {
    "duration": 11,
    "start_time": "2022-05-29T07:23:34.548Z"
   },
   {
    "duration": 5,
    "start_time": "2022-05-29T07:23:34.561Z"
   },
   {
    "duration": 6,
    "start_time": "2022-05-29T07:23:34.567Z"
   },
   {
    "duration": 8,
    "start_time": "2022-05-29T07:23:34.574Z"
   },
   {
    "duration": 9,
    "start_time": "2022-05-29T07:23:34.583Z"
   },
   {
    "duration": 34,
    "start_time": "2022-05-29T07:23:34.594Z"
   },
   {
    "duration": 7,
    "start_time": "2022-05-29T07:23:34.631Z"
   },
   {
    "duration": 10,
    "start_time": "2022-05-29T07:23:34.640Z"
   },
   {
    "duration": 16,
    "start_time": "2022-05-29T07:23:34.652Z"
   },
   {
    "duration": 17,
    "start_time": "2022-05-29T07:23:34.670Z"
   },
   {
    "duration": 46,
    "start_time": "2022-05-29T07:23:34.688Z"
   },
   {
    "duration": 6,
    "start_time": "2022-05-29T07:23:34.735Z"
   },
   {
    "duration": 17,
    "start_time": "2022-05-29T07:23:34.742Z"
   },
   {
    "duration": 18,
    "start_time": "2022-05-29T07:23:34.761Z"
   },
   {
    "duration": 45,
    "start_time": "2022-05-29T07:23:34.781Z"
   },
   {
    "duration": 14,
    "start_time": "2022-05-29T07:23:34.828Z"
   },
   {
    "duration": 7,
    "start_time": "2022-05-29T07:23:34.844Z"
   },
   {
    "duration": 7,
    "start_time": "2022-05-29T07:23:34.853Z"
   },
   {
    "duration": 16,
    "start_time": "2022-05-29T07:23:34.862Z"
   },
   {
    "duration": 11,
    "start_time": "2022-05-29T07:23:34.880Z"
   },
   {
    "duration": 39,
    "start_time": "2022-05-29T07:23:34.893Z"
   },
   {
    "duration": 23,
    "start_time": "2022-05-29T07:23:34.934Z"
   },
   {
    "duration": 18,
    "start_time": "2022-05-29T07:23:34.959Z"
   },
   {
    "duration": 17,
    "start_time": "2022-05-29T07:23:34.978Z"
   },
   {
    "duration": 21,
    "start_time": "2022-05-29T07:23:35.029Z"
   },
   {
    "duration": 11,
    "start_time": "2022-05-29T07:23:35.052Z"
   },
   {
    "duration": 15,
    "start_time": "2022-05-29T07:23:43.116Z"
   },
   {
    "duration": 15,
    "start_time": "2022-05-29T07:23:43.353Z"
   },
   {
    "duration": 16,
    "start_time": "2022-05-29T07:23:43.508Z"
   },
   {
    "duration": 83,
    "start_time": "2022-05-29T07:23:44.091Z"
   },
   {
    "duration": 19,
    "start_time": "2022-05-29T07:23:44.275Z"
   },
   {
    "duration": 15,
    "start_time": "2022-05-29T07:23:45.556Z"
   },
   {
    "duration": 32,
    "start_time": "2022-05-29T07:23:50.190Z"
   },
   {
    "duration": 17,
    "start_time": "2022-05-29T07:23:52.975Z"
   },
   {
    "duration": 6,
    "start_time": "2022-05-29T07:24:15.628Z"
   },
   {
    "duration": 16,
    "start_time": "2022-05-29T07:24:17.929Z"
   },
   {
    "duration": 16,
    "start_time": "2022-05-29T07:24:21.889Z"
   },
   {
    "duration": 17,
    "start_time": "2022-05-29T07:24:22.536Z"
   },
   {
    "duration": 18,
    "start_time": "2022-05-29T07:24:24.301Z"
   },
   {
    "duration": 19,
    "start_time": "2022-05-29T07:24:24.968Z"
   },
   {
    "duration": 15,
    "start_time": "2022-05-29T07:24:26.336Z"
   },
   {
    "duration": 31,
    "start_time": "2022-05-29T07:24:27.366Z"
   },
   {
    "duration": 14,
    "start_time": "2022-05-29T07:24:28.557Z"
   },
   {
    "duration": 500,
    "start_time": "2022-05-29T07:24:33.954Z"
   },
   {
    "duration": 15,
    "start_time": "2022-05-29T07:24:34.455Z"
   },
   {
    "duration": 9,
    "start_time": "2022-05-29T07:24:34.471Z"
   },
   {
    "duration": 19,
    "start_time": "2022-05-29T07:24:34.482Z"
   },
   {
    "duration": 8,
    "start_time": "2022-05-29T07:24:34.504Z"
   },
   {
    "duration": 5,
    "start_time": "2022-05-29T07:24:34.526Z"
   },
   {
    "duration": 7,
    "start_time": "2022-05-29T07:24:34.532Z"
   },
   {
    "duration": 4,
    "start_time": "2022-05-29T07:24:34.540Z"
   },
   {
    "duration": 8,
    "start_time": "2022-05-29T07:24:34.546Z"
   },
   {
    "duration": 6,
    "start_time": "2022-05-29T07:24:34.555Z"
   },
   {
    "duration": 19,
    "start_time": "2022-05-29T07:24:34.562Z"
   },
   {
    "duration": 20,
    "start_time": "2022-05-29T07:24:34.583Z"
   },
   {
    "duration": 38,
    "start_time": "2022-05-29T07:24:34.605Z"
   },
   {
    "duration": 15,
    "start_time": "2022-05-29T07:24:34.647Z"
   },
   {
    "duration": 6,
    "start_time": "2022-05-29T07:24:34.663Z"
   },
   {
    "duration": 16,
    "start_time": "2022-05-29T07:24:34.671Z"
   },
   {
    "duration": 40,
    "start_time": "2022-05-29T07:24:34.688Z"
   },
   {
    "duration": 35,
    "start_time": "2022-05-29T07:24:34.730Z"
   },
   {
    "duration": 14,
    "start_time": "2022-05-29T07:24:34.766Z"
   },
   {
    "duration": 5,
    "start_time": "2022-05-29T07:24:34.782Z"
   },
   {
    "duration": 7,
    "start_time": "2022-05-29T07:24:34.788Z"
   },
   {
    "duration": 40,
    "start_time": "2022-05-29T07:24:34.796Z"
   },
   {
    "duration": 11,
    "start_time": "2022-05-29T07:24:34.838Z"
   },
   {
    "duration": 14,
    "start_time": "2022-05-29T07:24:34.851Z"
   },
   {
    "duration": 23,
    "start_time": "2022-05-29T07:24:34.867Z"
   },
   {
    "duration": 36,
    "start_time": "2022-05-29T07:24:34.891Z"
   },
   {
    "duration": 18,
    "start_time": "2022-05-29T07:24:34.929Z"
   },
   {
    "duration": 19,
    "start_time": "2022-05-29T07:24:34.949Z"
   },
   {
    "duration": 10,
    "start_time": "2022-05-29T07:24:34.970Z"
   },
   {
    "duration": 77,
    "start_time": "2022-05-29T07:24:39.256Z"
   },
   {
    "duration": 16,
    "start_time": "2022-05-29T07:24:39.558Z"
   },
   {
    "duration": 9,
    "start_time": "2022-05-29T07:24:41.764Z"
   },
   {
    "duration": 12,
    "start_time": "2022-05-29T07:24:43.429Z"
   },
   {
    "duration": 6,
    "start_time": "2022-05-29T07:24:45.086Z"
   },
   {
    "duration": 5,
    "start_time": "2022-05-29T07:24:46.658Z"
   },
   {
    "duration": 7,
    "start_time": "2022-05-29T07:24:46.955Z"
   },
   {
    "duration": 3,
    "start_time": "2022-05-29T07:24:48.063Z"
   },
   {
    "duration": 7,
    "start_time": "2022-05-29T07:24:49.857Z"
   },
   {
    "duration": 7,
    "start_time": "2022-05-29T07:24:56.497Z"
   },
   {
    "duration": 5,
    "start_time": "2022-05-29T07:24:58.541Z"
   },
   {
    "duration": 17,
    "start_time": "2022-05-29T07:25:00.513Z"
   },
   {
    "duration": 17,
    "start_time": "2022-05-29T07:25:01.086Z"
   },
   {
    "duration": 21,
    "start_time": "2022-05-29T07:25:01.558Z"
   },
   {
    "duration": 6,
    "start_time": "2022-05-29T07:25:02.760Z"
   },
   {
    "duration": 15,
    "start_time": "2022-05-29T07:25:03.312Z"
   },
   {
    "duration": 16,
    "start_time": "2022-05-29T07:25:05.559Z"
   },
   {
    "duration": 39,
    "start_time": "2022-05-29T07:25:08.019Z"
   },
   {
    "duration": 18,
    "start_time": "2022-05-29T07:25:11.565Z"
   },
   {
    "duration": 6,
    "start_time": "2022-05-29T07:25:21.629Z"
   },
   {
    "duration": 7,
    "start_time": "2022-05-29T07:25:22.525Z"
   },
   {
    "duration": 16,
    "start_time": "2022-05-29T07:25:28.789Z"
   },
   {
    "duration": 12,
    "start_time": "2022-05-29T07:25:36.978Z"
   },
   {
    "duration": 18,
    "start_time": "2022-05-29T07:25:42.706Z"
   },
   {
    "duration": 23,
    "start_time": "2022-05-29T07:25:43.457Z"
   },
   {
    "duration": 7,
    "start_time": "2022-05-29T07:39:33.966Z"
   },
   {
    "duration": 5,
    "start_time": "2022-05-29T07:39:46.983Z"
   },
   {
    "duration": 7,
    "start_time": "2022-05-29T07:39:47.662Z"
   },
   {
    "duration": 15,
    "start_time": "2022-05-29T07:44:15.917Z"
   },
   {
    "duration": 5,
    "start_time": "2022-05-29T07:44:20.457Z"
   },
   {
    "duration": 16,
    "start_time": "2022-05-29T07:44:20.909Z"
   },
   {
    "duration": 6,
    "start_time": "2022-05-29T07:44:31.856Z"
   },
   {
    "duration": 11,
    "start_time": "2022-05-29T07:44:34.242Z"
   },
   {
    "duration": 492,
    "start_time": "2022-05-29T07:44:49.683Z"
   },
   {
    "duration": 14,
    "start_time": "2022-05-29T07:44:50.176Z"
   },
   {
    "duration": 13,
    "start_time": "2022-05-29T07:44:50.192Z"
   },
   {
    "duration": 33,
    "start_time": "2022-05-29T07:44:50.207Z"
   },
   {
    "duration": 7,
    "start_time": "2022-05-29T07:44:50.243Z"
   },
   {
    "duration": 31,
    "start_time": "2022-05-29T07:44:50.252Z"
   },
   {
    "duration": 22,
    "start_time": "2022-05-29T07:44:50.285Z"
   },
   {
    "duration": 15,
    "start_time": "2022-05-29T07:44:50.309Z"
   },
   {
    "duration": 31,
    "start_time": "2022-05-29T07:44:50.326Z"
   },
   {
    "duration": 16,
    "start_time": "2022-05-29T07:44:50.358Z"
   },
   {
    "duration": 7,
    "start_time": "2022-05-29T07:44:50.375Z"
   },
   {
    "duration": 33,
    "start_time": "2022-05-29T07:44:50.384Z"
   },
   {
    "duration": 20,
    "start_time": "2022-05-29T07:44:50.419Z"
   },
   {
    "duration": 16,
    "start_time": "2022-05-29T07:44:50.441Z"
   },
   {
    "duration": 23,
    "start_time": "2022-05-29T07:44:50.458Z"
   },
   {
    "duration": 26,
    "start_time": "2022-05-29T07:44:50.482Z"
   },
   {
    "duration": 32,
    "start_time": "2022-05-29T07:44:50.510Z"
   },
   {
    "duration": 40,
    "start_time": "2022-05-29T07:44:50.544Z"
   },
   {
    "duration": 14,
    "start_time": "2022-05-29T07:44:50.585Z"
   },
   {
    "duration": 17,
    "start_time": "2022-05-29T07:44:50.600Z"
   },
   {
    "duration": 37,
    "start_time": "2022-05-29T07:44:50.618Z"
   },
   {
    "duration": 34,
    "start_time": "2022-05-29T07:44:50.657Z"
   },
   {
    "duration": 16,
    "start_time": "2022-05-29T07:44:50.693Z"
   },
   {
    "duration": 30,
    "start_time": "2022-05-29T07:44:50.711Z"
   },
   {
    "duration": 35,
    "start_time": "2022-05-29T07:44:50.743Z"
   },
   {
    "duration": 20,
    "start_time": "2022-05-29T07:44:50.780Z"
   },
   {
    "duration": 29,
    "start_time": "2022-05-29T07:44:50.802Z"
   },
   {
    "duration": 25,
    "start_time": "2022-05-29T07:44:50.833Z"
   },
   {
    "duration": 12,
    "start_time": "2022-05-29T07:44:50.859Z"
   },
   {
    "duration": 11,
    "start_time": "2022-05-29T07:45:04.503Z"
   },
   {
    "duration": 6,
    "start_time": "2022-05-29T07:47:07.828Z"
   },
   {
    "duration": 11,
    "start_time": "2022-05-29T07:47:08.571Z"
   },
   {
    "duration": 4,
    "start_time": "2022-05-29T07:47:12.319Z"
   },
   {
    "duration": 514,
    "start_time": "2022-05-29T07:47:22.188Z"
   },
   {
    "duration": 16,
    "start_time": "2022-05-29T07:47:22.704Z"
   },
   {
    "duration": 20,
    "start_time": "2022-05-29T07:47:22.721Z"
   },
   {
    "duration": 18,
    "start_time": "2022-05-29T07:47:22.743Z"
   },
   {
    "duration": 12,
    "start_time": "2022-05-29T07:47:22.762Z"
   },
   {
    "duration": 5,
    "start_time": "2022-05-29T07:47:22.775Z"
   },
   {
    "duration": 19,
    "start_time": "2022-05-29T07:47:22.782Z"
   },
   {
    "duration": 22,
    "start_time": "2022-05-29T07:47:22.804Z"
   },
   {
    "duration": 14,
    "start_time": "2022-05-29T07:47:22.829Z"
   },
   {
    "duration": 8,
    "start_time": "2022-05-29T07:47:22.846Z"
   },
   {
    "duration": 6,
    "start_time": "2022-05-29T07:47:22.855Z"
   },
   {
    "duration": 22,
    "start_time": "2022-05-29T07:47:22.862Z"
   },
   {
    "duration": 18,
    "start_time": "2022-05-29T07:47:22.886Z"
   },
   {
    "duration": 35,
    "start_time": "2022-05-29T07:47:22.905Z"
   },
   {
    "duration": 14,
    "start_time": "2022-05-29T07:47:22.941Z"
   },
   {
    "duration": 19,
    "start_time": "2022-05-29T07:47:22.956Z"
   },
   {
    "duration": 16,
    "start_time": "2022-05-29T07:47:22.976Z"
   },
   {
    "duration": 65,
    "start_time": "2022-05-29T07:47:22.994Z"
   },
   {
    "duration": 15,
    "start_time": "2022-05-29T07:47:23.061Z"
   },
   {
    "duration": 5,
    "start_time": "2022-05-29T07:47:23.078Z"
   },
   {
    "duration": 9,
    "start_time": "2022-05-29T07:47:23.085Z"
   },
   {
    "duration": 53,
    "start_time": "2022-05-29T07:47:23.096Z"
   },
   {
    "duration": 11,
    "start_time": "2022-05-29T07:47:23.150Z"
   },
   {
    "duration": 16,
    "start_time": "2022-05-29T07:47:23.162Z"
   },
   {
    "duration": 25,
    "start_time": "2022-05-29T07:47:23.179Z"
   },
   {
    "duration": 23,
    "start_time": "2022-05-29T07:47:23.226Z"
   },
   {
    "duration": 21,
    "start_time": "2022-05-29T07:47:23.250Z"
   },
   {
    "duration": 21,
    "start_time": "2022-05-29T07:47:23.274Z"
   },
   {
    "duration": 30,
    "start_time": "2022-05-29T07:47:23.297Z"
   },
   {
    "duration": 27,
    "start_time": "2022-05-29T07:58:50.622Z"
   },
   {
    "duration": 2,
    "start_time": "2022-05-29T08:02:38.564Z"
   },
   {
    "duration": 519,
    "start_time": "2022-05-29T08:02:53.995Z"
   },
   {
    "duration": 17,
    "start_time": "2022-05-29T08:02:54.516Z"
   },
   {
    "duration": 12,
    "start_time": "2022-05-29T08:02:54.542Z"
   },
   {
    "duration": 14,
    "start_time": "2022-05-29T08:02:54.556Z"
   },
   {
    "duration": 6,
    "start_time": "2022-05-29T08:02:54.572Z"
   },
   {
    "duration": 3,
    "start_time": "2022-05-29T08:02:54.579Z"
   },
   {
    "duration": 5,
    "start_time": "2022-05-29T08:02:54.583Z"
   },
   {
    "duration": 8,
    "start_time": "2022-05-29T08:02:54.589Z"
   },
   {
    "duration": 8,
    "start_time": "2022-05-29T08:02:54.598Z"
   },
   {
    "duration": 10,
    "start_time": "2022-05-29T08:02:54.628Z"
   },
   {
    "duration": 11,
    "start_time": "2022-05-29T08:02:54.639Z"
   },
   {
    "duration": 22,
    "start_time": "2022-05-29T08:02:54.652Z"
   },
   {
    "duration": 26,
    "start_time": "2022-05-29T08:02:54.676Z"
   },
   {
    "duration": 36,
    "start_time": "2022-05-29T08:02:54.704Z"
   },
   {
    "duration": 6,
    "start_time": "2022-05-29T08:02:54.744Z"
   },
   {
    "duration": 15,
    "start_time": "2022-05-29T08:02:54.752Z"
   },
   {
    "duration": 17,
    "start_time": "2022-05-29T08:02:54.769Z"
   },
   {
    "duration": 66,
    "start_time": "2022-05-29T08:02:54.788Z"
   },
   {
    "duration": 16,
    "start_time": "2022-05-29T08:02:54.856Z"
   },
   {
    "duration": 7,
    "start_time": "2022-05-29T08:02:54.873Z"
   },
   {
    "duration": 6,
    "start_time": "2022-05-29T08:02:54.881Z"
   },
   {
    "duration": 39,
    "start_time": "2022-05-29T08:02:54.889Z"
   },
   {
    "duration": 17,
    "start_time": "2022-05-29T08:02:54.933Z"
   },
   {
    "duration": 24,
    "start_time": "2022-05-29T08:02:54.951Z"
   },
   {
    "duration": 28,
    "start_time": "2022-05-29T08:02:54.977Z"
   },
   {
    "duration": 24,
    "start_time": "2022-05-29T08:02:55.007Z"
   },
   {
    "duration": 21,
    "start_time": "2022-05-29T08:02:55.038Z"
   },
   {
    "duration": 20,
    "start_time": "2022-05-29T08:02:55.061Z"
   },
   {
    "duration": 12,
    "start_time": "2022-05-29T08:02:55.082Z"
   },
   {
    "duration": 79,
    "start_time": "2022-05-29T08:04:03.911Z"
   },
   {
    "duration": 8,
    "start_time": "2022-05-29T08:04:19.758Z"
   },
   {
    "duration": 9,
    "start_time": "2022-05-29T08:04:48.816Z"
   },
   {
    "duration": 6,
    "start_time": "2022-05-29T08:05:09.393Z"
   },
   {
    "duration": 530,
    "start_time": "2022-05-29T08:05:22.166Z"
   },
   {
    "duration": 17,
    "start_time": "2022-05-29T08:05:22.698Z"
   },
   {
    "duration": 22,
    "start_time": "2022-05-29T08:05:22.726Z"
   },
   {
    "duration": 20,
    "start_time": "2022-05-29T08:05:22.750Z"
   },
   {
    "duration": 7,
    "start_time": "2022-05-29T08:05:22.773Z"
   },
   {
    "duration": 7,
    "start_time": "2022-05-29T08:05:22.781Z"
   },
   {
    "duration": 8,
    "start_time": "2022-05-29T08:05:22.790Z"
   },
   {
    "duration": 29,
    "start_time": "2022-05-29T08:05:22.800Z"
   },
   {
    "duration": 13,
    "start_time": "2022-05-29T08:05:22.833Z"
   },
   {
    "duration": 14,
    "start_time": "2022-05-29T08:05:22.852Z"
   },
   {
    "duration": 8,
    "start_time": "2022-05-29T08:05:22.867Z"
   },
   {
    "duration": 19,
    "start_time": "2022-05-29T08:05:22.877Z"
   },
   {
    "duration": 20,
    "start_time": "2022-05-29T08:05:22.897Z"
   },
   {
    "duration": 24,
    "start_time": "2022-05-29T08:05:22.929Z"
   },
   {
    "duration": 7,
    "start_time": "2022-05-29T08:05:22.955Z"
   },
   {
    "duration": 26,
    "start_time": "2022-05-29T08:05:22.964Z"
   },
   {
    "duration": 59,
    "start_time": "2022-05-29T08:05:22.992Z"
   },
   {
    "duration": 39,
    "start_time": "2022-05-29T08:05:23.054Z"
   },
   {
    "duration": 16,
    "start_time": "2022-05-29T08:05:23.095Z"
   },
   {
    "duration": 22,
    "start_time": "2022-05-29T08:05:23.112Z"
   },
   {
    "duration": 20,
    "start_time": "2022-05-29T08:05:23.135Z"
   },
   {
    "duration": 13,
    "start_time": "2022-05-29T08:05:23.157Z"
   },
   {
    "duration": 17,
    "start_time": "2022-05-29T08:05:23.172Z"
   },
   {
    "duration": 13,
    "start_time": "2022-05-29T08:05:23.192Z"
   },
   {
    "duration": 24,
    "start_time": "2022-05-29T08:05:23.207Z"
   },
   {
    "duration": 68,
    "start_time": "2022-05-29T08:05:23.233Z"
   },
   {
    "duration": 19,
    "start_time": "2022-05-29T08:05:23.303Z"
   },
   {
    "duration": 47,
    "start_time": "2022-05-29T08:05:23.324Z"
   },
   {
    "duration": 63,
    "start_time": "2022-05-29T08:05:23.373Z"
   },
   {
    "duration": 17,
    "start_time": "2022-05-29T08:05:23.438Z"
   },
   {
    "duration": 6,
    "start_time": "2022-05-29T08:06:27.906Z"
   },
   {
    "duration": 4,
    "start_time": "2022-05-29T08:06:41.776Z"
   },
   {
    "duration": 6,
    "start_time": "2022-05-29T08:06:49.514Z"
   },
   {
    "duration": 20,
    "start_time": "2022-05-29T08:18:20.286Z"
   },
   {
    "duration": 15,
    "start_time": "2022-05-29T08:40:02.412Z"
   },
   {
    "duration": 24,
    "start_time": "2022-05-29T08:40:24.747Z"
   },
   {
    "duration": 12,
    "start_time": "2022-05-29T08:40:32.191Z"
   },
   {
    "duration": 22,
    "start_time": "2022-05-29T08:40:34.243Z"
   },
   {
    "duration": 526,
    "start_time": "2022-05-29T08:40:47.730Z"
   },
   {
    "duration": 17,
    "start_time": "2022-05-29T08:40:48.257Z"
   },
   {
    "duration": 10,
    "start_time": "2022-05-29T08:40:48.275Z"
   },
   {
    "duration": 18,
    "start_time": "2022-05-29T08:40:48.288Z"
   },
   {
    "duration": 8,
    "start_time": "2022-05-29T08:40:48.327Z"
   },
   {
    "duration": 7,
    "start_time": "2022-05-29T08:40:48.336Z"
   },
   {
    "duration": 27,
    "start_time": "2022-05-29T08:40:48.344Z"
   },
   {
    "duration": 3,
    "start_time": "2022-05-29T08:40:48.373Z"
   },
   {
    "duration": 13,
    "start_time": "2022-05-29T08:40:48.378Z"
   },
   {
    "duration": 38,
    "start_time": "2022-05-29T08:40:48.394Z"
   },
   {
    "duration": 8,
    "start_time": "2022-05-29T08:40:48.434Z"
   },
   {
    "duration": 32,
    "start_time": "2022-05-29T08:40:48.444Z"
   },
   {
    "duration": 52,
    "start_time": "2022-05-29T08:40:48.478Z"
   },
   {
    "duration": 29,
    "start_time": "2022-05-29T08:40:48.532Z"
   },
   {
    "duration": 8,
    "start_time": "2022-05-29T08:40:48.564Z"
   },
   {
    "duration": 29,
    "start_time": "2022-05-29T08:40:48.574Z"
   },
   {
    "duration": 41,
    "start_time": "2022-05-29T08:40:48.605Z"
   },
   {
    "duration": 39,
    "start_time": "2022-05-29T08:40:48.649Z"
   },
   {
    "duration": 39,
    "start_time": "2022-05-29T08:40:48.690Z"
   },
   {
    "duration": 6,
    "start_time": "2022-05-29T08:40:48.731Z"
   },
   {
    "duration": 7,
    "start_time": "2022-05-29T08:40:48.739Z"
   },
   {
    "duration": 19,
    "start_time": "2022-05-29T08:40:48.748Z"
   },
   {
    "duration": 12,
    "start_time": "2022-05-29T08:40:48.768Z"
   },
   {
    "duration": 49,
    "start_time": "2022-05-29T08:40:48.782Z"
   },
   {
    "duration": 101,
    "start_time": "2022-05-29T08:40:48.832Z"
   },
   {
    "duration": 0,
    "start_time": "2022-05-29T08:40:48.936Z"
   },
   {
    "duration": 0,
    "start_time": "2022-05-29T08:40:48.937Z"
   },
   {
    "duration": 0,
    "start_time": "2022-05-29T08:40:48.939Z"
   },
   {
    "duration": 21,
    "start_time": "2022-05-29T08:40:54.893Z"
   },
   {
    "duration": 33,
    "start_time": "2022-05-29T08:40:56.443Z"
   },
   {
    "duration": 84,
    "start_time": "2022-05-29T08:41:27.819Z"
   },
   {
    "duration": 14,
    "start_time": "2022-05-29T08:41:28.934Z"
   },
   {
    "duration": 12,
    "start_time": "2022-05-29T08:41:31.456Z"
   },
   {
    "duration": 14,
    "start_time": "2022-05-29T08:41:34.412Z"
   },
   {
    "duration": 6,
    "start_time": "2022-05-29T08:41:37.753Z"
   },
   {
    "duration": 4,
    "start_time": "2022-05-29T08:41:40.732Z"
   },
   {
    "duration": 22,
    "start_time": "2022-05-29T08:41:41.896Z"
   },
   {
    "duration": 20,
    "start_time": "2022-05-29T08:42:08.893Z"
   },
   {
    "duration": 21,
    "start_time": "2022-05-29T08:42:40.495Z"
   },
   {
    "duration": 79,
    "start_time": "2022-05-29T08:43:42.810Z"
   },
   {
    "duration": 20,
    "start_time": "2022-05-29T08:43:53.442Z"
   },
   {
    "duration": 9,
    "start_time": "2022-05-29T08:45:42.740Z"
   },
   {
    "duration": 6,
    "start_time": "2022-05-29T08:45:50.380Z"
   },
   {
    "duration": 13,
    "start_time": "2022-05-29T08:45:52.768Z"
   },
   {
    "duration": 4,
    "start_time": "2022-05-29T08:45:53.523Z"
   },
   {
    "duration": 20,
    "start_time": "2022-05-29T08:46:00.214Z"
   },
   {
    "duration": 12,
    "start_time": "2022-05-29T08:54:24.250Z"
   },
   {
    "duration": 5,
    "start_time": "2022-05-29T08:54:25.037Z"
   },
   {
    "duration": 30,
    "start_time": "2022-05-29T08:54:26.448Z"
   },
   {
    "duration": 523,
    "start_time": "2022-05-29T08:54:33.316Z"
   },
   {
    "duration": 22,
    "start_time": "2022-05-29T08:54:33.842Z"
   },
   {
    "duration": 14,
    "start_time": "2022-05-29T08:54:33.870Z"
   },
   {
    "duration": 37,
    "start_time": "2022-05-29T08:54:33.885Z"
   },
   {
    "duration": 15,
    "start_time": "2022-05-29T08:54:33.923Z"
   },
   {
    "duration": 12,
    "start_time": "2022-05-29T08:54:33.940Z"
   },
   {
    "duration": 24,
    "start_time": "2022-05-29T08:54:33.954Z"
   },
   {
    "duration": 47,
    "start_time": "2022-05-29T08:54:33.979Z"
   },
   {
    "duration": 3,
    "start_time": "2022-05-29T08:54:34.029Z"
   },
   {
    "duration": 32,
    "start_time": "2022-05-29T08:54:34.034Z"
   },
   {
    "duration": 27,
    "start_time": "2022-05-29T08:54:34.067Z"
   },
   {
    "duration": 30,
    "start_time": "2022-05-29T08:54:34.096Z"
   },
   {
    "duration": 38,
    "start_time": "2022-05-29T08:54:34.128Z"
   },
   {
    "duration": 44,
    "start_time": "2022-05-29T08:54:34.168Z"
   },
   {
    "duration": 22,
    "start_time": "2022-05-29T08:54:34.213Z"
   },
   {
    "duration": 14,
    "start_time": "2022-05-29T08:54:34.237Z"
   },
   {
    "duration": 26,
    "start_time": "2022-05-29T08:54:34.252Z"
   },
   {
    "duration": 32,
    "start_time": "2022-05-29T08:54:34.280Z"
   },
   {
    "duration": 56,
    "start_time": "2022-05-29T08:54:34.314Z"
   },
   {
    "duration": 15,
    "start_time": "2022-05-29T08:54:34.372Z"
   },
   {
    "duration": 6,
    "start_time": "2022-05-29T08:54:34.389Z"
   },
   {
    "duration": 13,
    "start_time": "2022-05-29T08:54:34.397Z"
   },
   {
    "duration": 33,
    "start_time": "2022-05-29T08:54:34.412Z"
   },
   {
    "duration": 19,
    "start_time": "2022-05-29T08:54:34.447Z"
   },
   {
    "duration": 18,
    "start_time": "2022-05-29T08:54:34.468Z"
   },
   {
    "duration": 95,
    "start_time": "2022-05-29T08:54:34.487Z"
   },
   {
    "duration": 0,
    "start_time": "2022-05-29T08:54:34.584Z"
   },
   {
    "duration": 0,
    "start_time": "2022-05-29T08:54:34.585Z"
   },
   {
    "duration": 1,
    "start_time": "2022-05-29T08:54:34.586Z"
   },
   {
    "duration": 8,
    "start_time": "2022-05-29T08:56:51.042Z"
   },
   {
    "duration": 7,
    "start_time": "2022-05-29T08:57:04.059Z"
   },
   {
    "duration": 539,
    "start_time": "2022-05-29T08:57:12.835Z"
   },
   {
    "duration": 15,
    "start_time": "2022-05-29T08:57:13.376Z"
   },
   {
    "duration": 17,
    "start_time": "2022-05-29T08:57:13.393Z"
   },
   {
    "duration": 22,
    "start_time": "2022-05-29T08:57:13.412Z"
   },
   {
    "duration": 10,
    "start_time": "2022-05-29T08:57:13.435Z"
   },
   {
    "duration": 9,
    "start_time": "2022-05-29T08:57:13.447Z"
   },
   {
    "duration": 16,
    "start_time": "2022-05-29T08:57:13.458Z"
   },
   {
    "duration": 93,
    "start_time": "2022-05-29T08:57:13.476Z"
   },
   {
    "duration": 0,
    "start_time": "2022-05-29T08:57:13.570Z"
   },
   {
    "duration": 0,
    "start_time": "2022-05-29T08:57:13.572Z"
   },
   {
    "duration": 0,
    "start_time": "2022-05-29T08:57:13.573Z"
   },
   {
    "duration": 0,
    "start_time": "2022-05-29T08:57:13.574Z"
   },
   {
    "duration": 0,
    "start_time": "2022-05-29T08:57:13.575Z"
   },
   {
    "duration": 0,
    "start_time": "2022-05-29T08:57:13.576Z"
   },
   {
    "duration": 0,
    "start_time": "2022-05-29T08:57:13.577Z"
   },
   {
    "duration": 0,
    "start_time": "2022-05-29T08:57:13.579Z"
   },
   {
    "duration": 0,
    "start_time": "2022-05-29T08:57:13.580Z"
   },
   {
    "duration": 0,
    "start_time": "2022-05-29T08:57:13.580Z"
   },
   {
    "duration": 0,
    "start_time": "2022-05-29T08:57:13.582Z"
   },
   {
    "duration": 0,
    "start_time": "2022-05-29T08:57:13.583Z"
   },
   {
    "duration": 0,
    "start_time": "2022-05-29T08:57:13.584Z"
   },
   {
    "duration": 0,
    "start_time": "2022-05-29T08:57:13.585Z"
   },
   {
    "duration": 0,
    "start_time": "2022-05-29T08:57:13.586Z"
   },
   {
    "duration": 0,
    "start_time": "2022-05-29T08:57:13.587Z"
   },
   {
    "duration": 0,
    "start_time": "2022-05-29T08:57:13.588Z"
   },
   {
    "duration": 0,
    "start_time": "2022-05-29T08:57:13.589Z"
   },
   {
    "duration": 0,
    "start_time": "2022-05-29T08:57:13.590Z"
   },
   {
    "duration": 0,
    "start_time": "2022-05-29T08:57:13.591Z"
   },
   {
    "duration": 0,
    "start_time": "2022-05-29T08:57:13.592Z"
   },
   {
    "duration": 9,
    "start_time": "2022-05-29T08:57:25.876Z"
   },
   {
    "duration": 41,
    "start_time": "2022-05-29T08:58:36.292Z"
   },
   {
    "duration": 3,
    "start_time": "2022-05-29T08:58:50.584Z"
   },
   {
    "duration": 106,
    "start_time": "2022-05-29T09:00:03.173Z"
   },
   {
    "duration": 550,
    "start_time": "2022-05-29T09:00:50.923Z"
   },
   {
    "duration": 23,
    "start_time": "2022-05-29T09:00:51.475Z"
   },
   {
    "duration": 29,
    "start_time": "2022-05-29T09:00:51.500Z"
   },
   {
    "duration": 18,
    "start_time": "2022-05-29T09:00:51.532Z"
   },
   {
    "duration": 16,
    "start_time": "2022-05-29T09:00:51.553Z"
   },
   {
    "duration": 11,
    "start_time": "2022-05-29T09:00:51.573Z"
   },
   {
    "duration": 14,
    "start_time": "2022-05-29T09:00:51.587Z"
   },
   {
    "duration": 25,
    "start_time": "2022-05-29T09:00:51.603Z"
   },
   {
    "duration": 11,
    "start_time": "2022-05-29T09:00:51.629Z"
   },
   {
    "duration": 9,
    "start_time": "2022-05-29T09:00:51.642Z"
   },
   {
    "duration": 7,
    "start_time": "2022-05-29T09:00:51.652Z"
   },
   {
    "duration": 6,
    "start_time": "2022-05-29T09:00:51.661Z"
   },
   {
    "duration": 20,
    "start_time": "2022-05-29T09:00:51.669Z"
   },
   {
    "duration": 56,
    "start_time": "2022-05-29T09:00:51.691Z"
   },
   {
    "duration": 18,
    "start_time": "2022-05-29T09:00:51.750Z"
   },
   {
    "duration": 7,
    "start_time": "2022-05-29T09:00:51.770Z"
   },
   {
    "duration": 16,
    "start_time": "2022-05-29T09:00:51.780Z"
   },
   {
    "duration": 18,
    "start_time": "2022-05-29T09:00:51.826Z"
   },
   {
    "duration": 40,
    "start_time": "2022-05-29T09:00:51.846Z"
   },
   {
    "duration": 39,
    "start_time": "2022-05-29T09:00:51.888Z"
   },
   {
    "duration": 8,
    "start_time": "2022-05-29T09:00:51.928Z"
   },
   {
    "duration": 8,
    "start_time": "2022-05-29T09:00:51.937Z"
   },
   {
    "duration": 19,
    "start_time": "2022-05-29T09:00:51.946Z"
   },
   {
    "duration": 16,
    "start_time": "2022-05-29T09:00:51.967Z"
   },
   {
    "duration": 25,
    "start_time": "2022-05-29T09:00:51.986Z"
   },
   {
    "duration": 23,
    "start_time": "2022-05-29T09:00:52.027Z"
   },
   {
    "duration": 19,
    "start_time": "2022-05-29T09:00:52.052Z"
   },
   {
    "duration": 22,
    "start_time": "2022-05-29T09:00:52.075Z"
   },
   {
    "duration": 50,
    "start_time": "2022-05-29T09:00:52.099Z"
   },
   {
    "duration": 23,
    "start_time": "2022-05-29T09:05:39.761Z"
   },
   {
    "duration": 36,
    "start_time": "2022-05-29T09:06:19.892Z"
   },
   {
    "duration": 34,
    "start_time": "2022-05-29T09:06:21.927Z"
   },
   {
    "duration": 488,
    "start_time": "2022-05-29T09:55:08.570Z"
   },
   {
    "duration": 17,
    "start_time": "2022-05-29T09:55:09.060Z"
   },
   {
    "duration": 14,
    "start_time": "2022-05-29T09:55:09.078Z"
   },
   {
    "duration": 39,
    "start_time": "2022-05-29T09:55:09.094Z"
   },
   {
    "duration": 8,
    "start_time": "2022-05-29T09:55:09.136Z"
   },
   {
    "duration": 8,
    "start_time": "2022-05-29T09:55:09.146Z"
   },
   {
    "duration": 3,
    "start_time": "2022-05-29T09:55:09.156Z"
   },
   {
    "duration": 9,
    "start_time": "2022-05-29T09:55:09.160Z"
   },
   {
    "duration": 6,
    "start_time": "2022-05-29T09:55:09.171Z"
   },
   {
    "duration": 10,
    "start_time": "2022-05-29T09:55:09.178Z"
   },
   {
    "duration": 41,
    "start_time": "2022-05-29T09:55:09.190Z"
   },
   {
    "duration": 6,
    "start_time": "2022-05-29T09:55:09.233Z"
   },
   {
    "duration": 22,
    "start_time": "2022-05-29T09:55:09.241Z"
   },
   {
    "duration": 18,
    "start_time": "2022-05-29T09:55:09.266Z"
   },
   {
    "duration": 51,
    "start_time": "2022-05-29T09:55:09.286Z"
   },
   {
    "duration": 6,
    "start_time": "2022-05-29T09:55:09.339Z"
   },
   {
    "duration": 16,
    "start_time": "2022-05-29T09:55:09.346Z"
   },
   {
    "duration": 16,
    "start_time": "2022-05-29T09:55:09.364Z"
   },
   {
    "duration": 83,
    "start_time": "2022-05-29T09:55:09.382Z"
   },
   {
    "duration": 22,
    "start_time": "2022-05-29T09:55:09.467Z"
   },
   {
    "duration": 17,
    "start_time": "2022-05-29T09:55:09.491Z"
   },
   {
    "duration": 16,
    "start_time": "2022-05-29T09:55:09.510Z"
   },
   {
    "duration": 18,
    "start_time": "2022-05-29T09:55:09.528Z"
   },
   {
    "duration": 19,
    "start_time": "2022-05-29T09:55:09.552Z"
   },
   {
    "duration": 19,
    "start_time": "2022-05-29T09:55:09.572Z"
   },
   {
    "duration": 43,
    "start_time": "2022-05-29T09:55:09.592Z"
   },
   {
    "duration": 20,
    "start_time": "2022-05-29T09:55:09.637Z"
   },
   {
    "duration": 25,
    "start_time": "2022-05-29T09:55:09.658Z"
   },
   {
    "duration": 46,
    "start_time": "2022-05-29T09:55:09.685Z"
   },
   {
    "duration": 25,
    "start_time": "2022-05-29T09:58:57.073Z"
   },
   {
    "duration": 53,
    "start_time": "2022-05-29T09:58:58.618Z"
   },
   {
    "duration": 24,
    "start_time": "2022-05-29T09:59:03.201Z"
   },
   {
    "duration": 74,
    "start_time": "2022-05-29T09:59:32.938Z"
   },
   {
    "duration": 14,
    "start_time": "2022-05-29T09:59:34.744Z"
   },
   {
    "duration": 857,
    "start_time": "2022-05-29T10:29:07.428Z"
   },
   {
    "duration": 16,
    "start_time": "2022-05-29T10:29:08.287Z"
   },
   {
    "duration": 9,
    "start_time": "2022-05-29T10:29:08.304Z"
   },
   {
    "duration": 22,
    "start_time": "2022-05-29T10:29:08.315Z"
   },
   {
    "duration": 39,
    "start_time": "2022-05-29T10:29:08.339Z"
   },
   {
    "duration": 16,
    "start_time": "2022-05-29T10:29:08.380Z"
   },
   {
    "duration": 7,
    "start_time": "2022-05-29T10:29:08.398Z"
   },
   {
    "duration": 15,
    "start_time": "2022-05-29T10:29:08.406Z"
   },
   {
    "duration": 3,
    "start_time": "2022-05-29T10:29:08.423Z"
   },
   {
    "duration": 7,
    "start_time": "2022-05-29T10:29:08.430Z"
   },
   {
    "duration": 8,
    "start_time": "2022-05-29T10:29:08.438Z"
   },
   {
    "duration": 18,
    "start_time": "2022-05-29T10:29:08.455Z"
   },
   {
    "duration": 22,
    "start_time": "2022-05-29T10:29:08.481Z"
   },
   {
    "duration": 20,
    "start_time": "2022-05-29T10:29:08.505Z"
   },
   {
    "duration": 16,
    "start_time": "2022-05-29T10:29:08.526Z"
   },
   {
    "duration": 6,
    "start_time": "2022-05-29T10:29:08.544Z"
   },
   {
    "duration": 42,
    "start_time": "2022-05-29T10:29:08.561Z"
   },
   {
    "duration": 18,
    "start_time": "2022-05-29T10:29:08.605Z"
   },
   {
    "duration": 48,
    "start_time": "2022-05-29T10:29:08.625Z"
   },
   {
    "duration": 16,
    "start_time": "2022-05-29T10:29:08.675Z"
   },
   {
    "duration": 19,
    "start_time": "2022-05-29T10:29:08.694Z"
   },
   {
    "duration": 70,
    "start_time": "2022-05-29T10:29:08.714Z"
   },
   {
    "duration": 24,
    "start_time": "2022-05-29T10:29:08.786Z"
   },
   {
    "duration": 14,
    "start_time": "2022-05-29T10:29:08.811Z"
   },
   {
    "duration": 14,
    "start_time": "2022-05-29T10:29:08.827Z"
   },
   {
    "duration": 48,
    "start_time": "2022-05-29T10:29:08.844Z"
   },
   {
    "duration": 24,
    "start_time": "2022-05-29T10:29:08.894Z"
   },
   {
    "duration": 19,
    "start_time": "2022-05-29T10:29:08.921Z"
   },
   {
    "duration": 42,
    "start_time": "2022-05-29T10:29:08.942Z"
   },
   {
    "duration": 10,
    "start_time": "2022-05-29T10:31:21.289Z"
   },
   {
    "duration": 11,
    "start_time": "2022-05-29T10:31:24.203Z"
   },
   {
    "duration": 83,
    "start_time": "2022-05-29T11:02:12.811Z"
   },
   {
    "duration": 14,
    "start_time": "2022-05-29T11:02:14.663Z"
   },
   {
    "duration": 10,
    "start_time": "2022-05-29T11:02:17.533Z"
   },
   {
    "duration": 20,
    "start_time": "2022-05-29T11:02:24.879Z"
   },
   {
    "duration": 38,
    "start_time": "2022-05-29T11:05:25.090Z"
   },
   {
    "duration": 24,
    "start_time": "2022-05-29T11:05:31.599Z"
   },
   {
    "duration": 49,
    "start_time": "2022-05-29T11:06:33.938Z"
   },
   {
    "duration": 78,
    "start_time": "2022-05-29T11:10:47.274Z"
   },
   {
    "duration": 7,
    "start_time": "2022-05-29T11:12:03.123Z"
   },
   {
    "duration": 8,
    "start_time": "2022-05-29T11:12:28.319Z"
   },
   {
    "duration": 38,
    "start_time": "2022-05-29T11:15:07.814Z"
   },
   {
    "duration": 18,
    "start_time": "2022-05-29T11:17:33.875Z"
   },
   {
    "duration": 20,
    "start_time": "2022-05-29T11:20:41.327Z"
   },
   {
    "duration": 3,
    "start_time": "2022-05-29T11:21:36.712Z"
   },
   {
    "duration": 15,
    "start_time": "2022-05-29T11:21:43.796Z"
   },
   {
    "duration": 14,
    "start_time": "2022-05-29T11:22:35.567Z"
   },
   {
    "duration": 11,
    "start_time": "2022-05-29T11:24:26.336Z"
   },
   {
    "duration": 207,
    "start_time": "2022-05-29T11:25:30.563Z"
   },
   {
    "duration": 103,
    "start_time": "2022-05-29T11:27:12.322Z"
   },
   {
    "duration": 143,
    "start_time": "2022-05-29T11:27:24.328Z"
   },
   {
    "duration": 106,
    "start_time": "2022-05-29T11:28:37.498Z"
   },
   {
    "duration": 122,
    "start_time": "2022-05-29T11:34:04.303Z"
   },
   {
    "duration": 109,
    "start_time": "2022-05-29T11:35:43.681Z"
   },
   {
    "duration": 127,
    "start_time": "2022-05-29T11:37:19.923Z"
   },
   {
    "duration": 115,
    "start_time": "2022-05-29T11:37:30.285Z"
   },
   {
    "duration": 510,
    "start_time": "2022-05-29T11:42:55.237Z"
   },
   {
    "duration": 15,
    "start_time": "2022-05-29T11:42:55.749Z"
   },
   {
    "duration": 10,
    "start_time": "2022-05-29T11:42:55.765Z"
   },
   {
    "duration": 13,
    "start_time": "2022-05-29T11:42:55.777Z"
   },
   {
    "duration": 34,
    "start_time": "2022-05-29T11:42:55.792Z"
   },
   {
    "duration": 6,
    "start_time": "2022-05-29T11:42:55.828Z"
   },
   {
    "duration": 9,
    "start_time": "2022-05-29T11:42:55.835Z"
   },
   {
    "duration": 11,
    "start_time": "2022-05-29T11:42:55.846Z"
   },
   {
    "duration": 6,
    "start_time": "2022-05-29T11:42:55.859Z"
   },
   {
    "duration": 7,
    "start_time": "2022-05-29T11:42:55.868Z"
   },
   {
    "duration": 7,
    "start_time": "2022-05-29T11:42:55.877Z"
   },
   {
    "duration": 5,
    "start_time": "2022-05-29T11:42:55.886Z"
   },
   {
    "duration": 44,
    "start_time": "2022-05-29T11:42:55.893Z"
   },
   {
    "duration": 26,
    "start_time": "2022-05-29T11:42:55.939Z"
   },
   {
    "duration": 16,
    "start_time": "2022-05-29T11:42:55.968Z"
   },
   {
    "duration": 6,
    "start_time": "2022-05-29T11:42:55.986Z"
   },
   {
    "duration": 38,
    "start_time": "2022-05-29T11:42:55.993Z"
   },
   {
    "duration": 16,
    "start_time": "2022-05-29T11:42:56.033Z"
   },
   {
    "duration": 9,
    "start_time": "2022-05-29T11:42:56.051Z"
   },
   {
    "duration": 20,
    "start_time": "2022-05-29T11:42:56.062Z"
   },
   {
    "duration": 6,
    "start_time": "2022-05-29T11:42:56.084Z"
   },
   {
    "duration": 7,
    "start_time": "2022-05-29T11:42:56.091Z"
   },
   {
    "duration": 37,
    "start_time": "2022-05-29T11:42:56.099Z"
   },
   {
    "duration": 11,
    "start_time": "2022-05-29T11:42:56.138Z"
   },
   {
    "duration": 12,
    "start_time": "2022-05-29T11:42:56.150Z"
   },
   {
    "duration": 27,
    "start_time": "2022-05-29T11:42:56.164Z"
   },
   {
    "duration": 36,
    "start_time": "2022-05-29T11:42:56.192Z"
   },
   {
    "duration": 19,
    "start_time": "2022-05-29T11:42:56.231Z"
   },
   {
    "duration": 22,
    "start_time": "2022-05-29T11:42:56.251Z"
   },
   {
    "duration": 29,
    "start_time": "2022-05-29T11:44:50.871Z"
   },
   {
    "duration": 16,
    "start_time": "2022-05-29T11:48:32.122Z"
   },
   {
    "duration": 532,
    "start_time": "2022-05-29T11:55:23.306Z"
   },
   {
    "duration": 14,
    "start_time": "2022-05-29T11:55:23.840Z"
   },
   {
    "duration": 9,
    "start_time": "2022-05-29T11:55:23.856Z"
   },
   {
    "duration": 14,
    "start_time": "2022-05-29T11:55:23.866Z"
   },
   {
    "duration": 8,
    "start_time": "2022-05-29T11:55:23.882Z"
   },
   {
    "duration": 38,
    "start_time": "2022-05-29T11:55:23.891Z"
   },
   {
    "duration": 3,
    "start_time": "2022-05-29T11:55:23.930Z"
   },
   {
    "duration": 11,
    "start_time": "2022-05-29T11:55:23.935Z"
   },
   {
    "duration": 4,
    "start_time": "2022-05-29T11:55:23.947Z"
   },
   {
    "duration": 12,
    "start_time": "2022-05-29T11:55:23.952Z"
   },
   {
    "duration": 22,
    "start_time": "2022-05-29T11:55:23.965Z"
   },
   {
    "duration": 9,
    "start_time": "2022-05-29T11:55:23.989Z"
   },
   {
    "duration": 36,
    "start_time": "2022-05-29T11:55:24.000Z"
   },
   {
    "duration": 18,
    "start_time": "2022-05-29T11:55:24.038Z"
   },
   {
    "duration": 19,
    "start_time": "2022-05-29T11:55:24.058Z"
   },
   {
    "duration": 6,
    "start_time": "2022-05-29T11:55:24.079Z"
   },
   {
    "duration": 45,
    "start_time": "2022-05-29T11:55:24.087Z"
   },
   {
    "duration": 17,
    "start_time": "2022-05-29T11:55:24.134Z"
   },
   {
    "duration": 8,
    "start_time": "2022-05-29T11:55:24.153Z"
   },
   {
    "duration": 16,
    "start_time": "2022-05-29T11:55:24.162Z"
   },
   {
    "duration": 5,
    "start_time": "2022-05-29T11:55:24.180Z"
   },
   {
    "duration": 41,
    "start_time": "2022-05-29T11:55:24.187Z"
   },
   {
    "duration": 17,
    "start_time": "2022-05-29T11:55:24.229Z"
   },
   {
    "duration": 11,
    "start_time": "2022-05-29T11:55:24.248Z"
   },
   {
    "duration": 14,
    "start_time": "2022-05-29T11:55:24.260Z"
   },
   {
    "duration": 54,
    "start_time": "2022-05-29T11:55:24.275Z"
   },
   {
    "duration": 19,
    "start_time": "2022-05-29T11:55:24.330Z"
   },
   {
    "duration": 20,
    "start_time": "2022-05-29T11:55:24.351Z"
   },
   {
    "duration": 21,
    "start_time": "2022-05-29T11:55:24.372Z"
   },
   {
    "duration": 520,
    "start_time": "2022-05-29T11:57:15.530Z"
   },
   {
    "duration": 14,
    "start_time": "2022-05-29T11:57:16.052Z"
   },
   {
    "duration": 9,
    "start_time": "2022-05-29T11:57:16.068Z"
   },
   {
    "duration": 14,
    "start_time": "2022-05-29T11:57:16.078Z"
   },
   {
    "duration": 34,
    "start_time": "2022-05-29T11:57:16.093Z"
   },
   {
    "duration": 5,
    "start_time": "2022-05-29T11:57:16.129Z"
   },
   {
    "duration": 4,
    "start_time": "2022-05-29T11:57:16.135Z"
   },
   {
    "duration": 12,
    "start_time": "2022-05-29T11:57:16.141Z"
   },
   {
    "duration": 4,
    "start_time": "2022-05-29T11:57:16.154Z"
   },
   {
    "duration": 9,
    "start_time": "2022-05-29T11:57:16.160Z"
   },
   {
    "duration": 9,
    "start_time": "2022-05-29T11:57:16.171Z"
   },
   {
    "duration": 7,
    "start_time": "2022-05-29T11:57:16.182Z"
   },
   {
    "duration": 26,
    "start_time": "2022-05-29T11:57:16.227Z"
   },
   {
    "duration": 26,
    "start_time": "2022-05-29T11:57:16.257Z"
   },
   {
    "duration": 18,
    "start_time": "2022-05-29T11:57:16.285Z"
   },
   {
    "duration": 6,
    "start_time": "2022-05-29T11:57:16.326Z"
   },
   {
    "duration": 24,
    "start_time": "2022-05-29T11:57:16.334Z"
   },
   {
    "duration": 17,
    "start_time": "2022-05-29T11:57:16.360Z"
   },
   {
    "duration": 9,
    "start_time": "2022-05-29T11:57:16.379Z"
   },
   {
    "duration": 38,
    "start_time": "2022-05-29T11:57:16.389Z"
   },
   {
    "duration": 6,
    "start_time": "2022-05-29T11:57:16.428Z"
   },
   {
    "duration": 7,
    "start_time": "2022-05-29T11:57:16.435Z"
   },
   {
    "duration": 17,
    "start_time": "2022-05-29T11:57:16.444Z"
   },
   {
    "duration": 11,
    "start_time": "2022-05-29T11:57:16.462Z"
   },
   {
    "duration": 15,
    "start_time": "2022-05-29T11:57:16.475Z"
   },
   {
    "duration": 49,
    "start_time": "2022-05-29T11:57:16.492Z"
   },
   {
    "duration": 17,
    "start_time": "2022-05-29T11:57:16.543Z"
   },
   {
    "duration": 19,
    "start_time": "2022-05-29T11:57:16.561Z"
   },
   {
    "duration": 45,
    "start_time": "2022-05-29T11:57:16.582Z"
   },
   {
    "duration": 48,
    "start_time": "2022-07-03T07:40:10.512Z"
   },
   {
    "duration": 547,
    "start_time": "2022-07-03T07:40:15.412Z"
   },
   {
    "duration": 15,
    "start_time": "2022-07-03T07:40:15.961Z"
   },
   {
    "duration": 13,
    "start_time": "2022-07-03T07:40:16.304Z"
   },
   {
    "duration": 14,
    "start_time": "2022-07-03T07:40:17.019Z"
   },
   {
    "duration": 10,
    "start_time": "2022-07-03T07:40:18.472Z"
   },
   {
    "duration": 6,
    "start_time": "2022-07-03T07:40:19.680Z"
   },
   {
    "duration": 4,
    "start_time": "2022-07-03T07:40:20.100Z"
   },
   {
    "duration": 9,
    "start_time": "2022-07-03T07:40:20.504Z"
   },
   {
    "duration": 3,
    "start_time": "2022-07-03T07:40:21.116Z"
   },
   {
    "duration": 9,
    "start_time": "2022-07-03T07:40:21.564Z"
   },
   {
    "duration": 8,
    "start_time": "2022-07-03T07:40:22.200Z"
   },
   {
    "duration": 6,
    "start_time": "2022-07-03T07:40:23.320Z"
   },
   {
    "duration": 19,
    "start_time": "2022-07-03T07:40:24.176Z"
   },
   {
    "duration": 25,
    "start_time": "2022-07-03T07:40:24.444Z"
   },
   {
    "duration": 18,
    "start_time": "2022-07-03T07:40:24.772Z"
   },
   {
    "duration": 7,
    "start_time": "2022-07-03T07:40:25.232Z"
   },
   {
    "duration": 15,
    "start_time": "2022-07-03T07:40:25.468Z"
   },
   {
    "duration": 17,
    "start_time": "2022-07-03T07:40:26.340Z"
   },
   {
    "duration": 10,
    "start_time": "2022-07-03T07:40:27.680Z"
   },
   {
    "duration": 19,
    "start_time": "2022-07-03T07:40:31.192Z"
   }
  ],
  "kernelspec": {
   "display_name": "Python 3 (ipykernel)",
   "language": "python",
   "name": "python3"
  },
  "language_info": {
   "codemirror_mode": {
    "name": "ipython",
    "version": 3
   },
   "file_extension": ".py",
   "mimetype": "text/x-python",
   "name": "python",
   "nbconvert_exporter": "python",
   "pygments_lexer": "ipython3",
   "version": "3.11.4"
  },
  "toc": {
   "base_numbering": 1,
   "nav_menu": {
    "height": "293px",
    "width": "392px"
   },
   "number_sections": true,
   "sideBar": true,
   "skip_h1_title": true,
   "title_cell": "Table of Contents",
   "title_sidebar": "Contents",
   "toc_cell": false,
   "toc_position": {
    "height": "calc(100% - 180px)",
    "left": "10px",
    "top": "150px",
    "width": "284.391px"
   },
   "toc_section_display": true,
   "toc_window_display": true
  }
 },
 "nbformat": 4,
 "nbformat_minor": 5
}
