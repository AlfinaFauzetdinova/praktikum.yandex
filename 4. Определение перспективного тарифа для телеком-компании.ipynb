{
 "cells": [
  {
   "cell_type": "markdown",
   "metadata": {},
   "source": [
    "# Определение перспективного тарифа для телеком-компании"
   ]
  },
  {
   "cell_type": "markdown",
   "metadata": {},
   "source": [
    "Цель проекта - определить какой тарифный план - \"Смарт\" или \"Ультра\" - приносит больше прибыли.</b></font><br>\n",
    "\n",
    "В данном исследовании проверим гипотезы:\n",
    "\n",
    "*   H0:Средняя выручка по трифам \"Смарт\" и \"Ультра\" равны.</b></font><br>\n",
    "    H1: Средние значения выручки  \"Смарт\" и \"Ультра\" не равны.\n",
    "    \n",
    "    \n",
    "*   H0: средняя выручка от пользователей из Москвы и других регионов равны.</b></font><br>\n",
    "    H1: средняя выручка от пользователей из Москвы не равна выручке от пользователе из других регионов."
   ]
  },
  {
   "cell_type": "markdown",
   "metadata": {},
   "source": [
    "## Изучение данных из файла"
   ]
  },
  {
   "cell_type": "code",
   "execution_count": 1,
   "metadata": {},
   "outputs": [],
   "source": [
    "from scipy import stats as st\n",
    "import numpy as np\n",
    "import matplotlib.pyplot as plt\n",
    "import math\n",
    "import pandas as pd\n",
    "from functools import reduce"
   ]
  },
  {
   "cell_type": "code",
   "execution_count": 2,
   "metadata": {},
   "outputs": [],
   "source": [
    "users = pd.read_csv(r'C:\\Users\\ANN\\Downloads/users.csv')    \n",
    "calls = pd.read_csv(r'C:\\Users\\ANN\\Downloads/calls.csv')    \n",
    "internet = pd.read_csv(r'C:\\Users\\ANN\\Downloads/internet.csv', index_col=0)    \n",
    "messages = pd.read_csv(r'C:\\Users\\ANN\\Downloads/messages.csv')    \n",
    "tariffs = pd.read_csv(r'C:\\Users\\ANN\\Downloads/tariffs.csv')"
   ]
  },
  {
   "cell_type": "markdown",
   "metadata": {},
   "source": [
    "Выведем на экран датафрей users.\n",
    "С помощью метода info() получим информацию о названиях колонок, количестве строк. </b></font><br>В таблице - 8 столбцов, тип данных - int и object. </b></font><br> В столбце churn_date есть пропущенные значения - это занчит, что тариф ещё действовал на момент выгрузки данных."
   ]
  },
  {
   "cell_type": "code",
   "execution_count": 3,
   "metadata": {},
   "outputs": [
    {
     "data": {
      "text/html": [
       "<div>\n",
       "<style scoped>\n",
       "    .dataframe tbody tr th:only-of-type {\n",
       "        vertical-align: middle;\n",
       "    }\n",
       "\n",
       "    .dataframe tbody tr th {\n",
       "        vertical-align: top;\n",
       "    }\n",
       "\n",
       "    .dataframe thead th {\n",
       "        text-align: right;\n",
       "    }\n",
       "</style>\n",
       "<table border=\"1\" class=\"dataframe\">\n",
       "  <thead>\n",
       "    <tr style=\"text-align: right;\">\n",
       "      <th></th>\n",
       "      <th>user_id</th>\n",
       "      <th>age</th>\n",
       "      <th>churn_date</th>\n",
       "      <th>city</th>\n",
       "      <th>first_name</th>\n",
       "      <th>last_name</th>\n",
       "      <th>reg_date</th>\n",
       "      <th>tariff</th>\n",
       "    </tr>\n",
       "  </thead>\n",
       "  <tbody>\n",
       "    <tr>\n",
       "      <th>0</th>\n",
       "      <td>1000</td>\n",
       "      <td>52</td>\n",
       "      <td>NaN</td>\n",
       "      <td>Краснодар</td>\n",
       "      <td>Рафаил</td>\n",
       "      <td>Верещагин</td>\n",
       "      <td>2018-05-25</td>\n",
       "      <td>ultra</td>\n",
       "    </tr>\n",
       "    <tr>\n",
       "      <th>1</th>\n",
       "      <td>1001</td>\n",
       "      <td>41</td>\n",
       "      <td>NaN</td>\n",
       "      <td>Москва</td>\n",
       "      <td>Иван</td>\n",
       "      <td>Ежов</td>\n",
       "      <td>2018-11-01</td>\n",
       "      <td>smart</td>\n",
       "    </tr>\n",
       "    <tr>\n",
       "      <th>2</th>\n",
       "      <td>1002</td>\n",
       "      <td>59</td>\n",
       "      <td>NaN</td>\n",
       "      <td>Стерлитамак</td>\n",
       "      <td>Евгений</td>\n",
       "      <td>Абрамович</td>\n",
       "      <td>2018-06-17</td>\n",
       "      <td>smart</td>\n",
       "    </tr>\n",
       "    <tr>\n",
       "      <th>3</th>\n",
       "      <td>1003</td>\n",
       "      <td>23</td>\n",
       "      <td>NaN</td>\n",
       "      <td>Москва</td>\n",
       "      <td>Белла</td>\n",
       "      <td>Белякова</td>\n",
       "      <td>2018-08-17</td>\n",
       "      <td>ultra</td>\n",
       "    </tr>\n",
       "    <tr>\n",
       "      <th>4</th>\n",
       "      <td>1004</td>\n",
       "      <td>68</td>\n",
       "      <td>NaN</td>\n",
       "      <td>Новокузнецк</td>\n",
       "      <td>Татьяна</td>\n",
       "      <td>Авдеенко</td>\n",
       "      <td>2018-05-14</td>\n",
       "      <td>ultra</td>\n",
       "    </tr>\n",
       "  </tbody>\n",
       "</table>\n",
       "</div>"
      ],
      "text/plain": [
       "   user_id  age churn_date         city first_name  last_name    reg_date  \\\n",
       "0     1000   52        NaN    Краснодар     Рафаил  Верещагин  2018-05-25   \n",
       "1     1001   41        NaN       Москва       Иван       Ежов  2018-11-01   \n",
       "2     1002   59        NaN  Стерлитамак    Евгений  Абрамович  2018-06-17   \n",
       "3     1003   23        NaN       Москва      Белла   Белякова  2018-08-17   \n",
       "4     1004   68        NaN  Новокузнецк    Татьяна   Авдеенко  2018-05-14   \n",
       "\n",
       "  tariff  \n",
       "0  ultra  \n",
       "1  smart  \n",
       "2  smart  \n",
       "3  ultra  \n",
       "4  ultra  "
      ]
     },
     "execution_count": 3,
     "metadata": {},
     "output_type": "execute_result"
    }
   ],
   "source": [
    "users.head(5)         "
   ]
  },
  {
   "cell_type": "code",
   "execution_count": 4,
   "metadata": {},
   "outputs": [
    {
     "name": "stdout",
     "output_type": "stream",
     "text": [
      "<class 'pandas.core.frame.DataFrame'>\n",
      "RangeIndex: 500 entries, 0 to 499\n",
      "Data columns (total 8 columns):\n",
      " #   Column      Non-Null Count  Dtype \n",
      "---  ------      --------------  ----- \n",
      " 0   user_id     500 non-null    int64 \n",
      " 1   age         500 non-null    int64 \n",
      " 2   churn_date  38 non-null     object\n",
      " 3   city        500 non-null    object\n",
      " 4   first_name  500 non-null    object\n",
      " 5   last_name   500 non-null    object\n",
      " 6   reg_date    500 non-null    object\n",
      " 7   tariff      500 non-null    object\n",
      "dtypes: int64(2), object(6)\n",
      "memory usage: 31.4+ KB\n"
     ]
    }
   ],
   "source": [
    "users.info()"
   ]
  },
  {
   "cell_type": "markdown",
   "metadata": {},
   "source": [
    "Согласно документации к данным: </b></font><br>\n",
    "\n",
    "* user_id — уникальный идентификатор пользователя\n",
    "* first_name — имя пользователя\n",
    "* last_name — фамилия пользователя\n",
    "* age — возраст пользователя (годы)\n",
    "* reg_date — дата подключения тарифа (день, месяц, год)\n",
    "* churn_date — дата прекращения пользования тарифом (если значение пропущено, то тариф ещё действовал на момент выгрузки данных)\n",
    "* city — город проживания пользователя\n",
    "* tariff — название тарифного плана"
   ]
  },
  {
   "cell_type": "markdown",
   "metadata": {},
   "source": [
    "Выведем на экран датафрей calls.</b></font><br> \n",
    "С помощью метода info() получим информацию о названиях колонок, количестве строк. </b></font><br>В таблице - 4 столбца, тип данных - float, int и object. Пропущенных значений нет."
   ]
  },
  {
   "cell_type": "code",
   "execution_count": 5,
   "metadata": {},
   "outputs": [
    {
     "data": {
      "text/html": [
       "<div>\n",
       "<style scoped>\n",
       "    .dataframe tbody tr th:only-of-type {\n",
       "        vertical-align: middle;\n",
       "    }\n",
       "\n",
       "    .dataframe tbody tr th {\n",
       "        vertical-align: top;\n",
       "    }\n",
       "\n",
       "    .dataframe thead th {\n",
       "        text-align: right;\n",
       "    }\n",
       "</style>\n",
       "<table border=\"1\" class=\"dataframe\">\n",
       "  <thead>\n",
       "    <tr style=\"text-align: right;\">\n",
       "      <th></th>\n",
       "      <th>id</th>\n",
       "      <th>call_date</th>\n",
       "      <th>duration</th>\n",
       "      <th>user_id</th>\n",
       "    </tr>\n",
       "  </thead>\n",
       "  <tbody>\n",
       "    <tr>\n",
       "      <th>0</th>\n",
       "      <td>1000_0</td>\n",
       "      <td>2018-07-25</td>\n",
       "      <td>0.00</td>\n",
       "      <td>1000</td>\n",
       "    </tr>\n",
       "    <tr>\n",
       "      <th>1</th>\n",
       "      <td>1000_1</td>\n",
       "      <td>2018-08-17</td>\n",
       "      <td>0.00</td>\n",
       "      <td>1000</td>\n",
       "    </tr>\n",
       "    <tr>\n",
       "      <th>2</th>\n",
       "      <td>1000_2</td>\n",
       "      <td>2018-06-11</td>\n",
       "      <td>2.85</td>\n",
       "      <td>1000</td>\n",
       "    </tr>\n",
       "    <tr>\n",
       "      <th>3</th>\n",
       "      <td>1000_3</td>\n",
       "      <td>2018-09-21</td>\n",
       "      <td>13.80</td>\n",
       "      <td>1000</td>\n",
       "    </tr>\n",
       "    <tr>\n",
       "      <th>4</th>\n",
       "      <td>1000_4</td>\n",
       "      <td>2018-12-15</td>\n",
       "      <td>5.18</td>\n",
       "      <td>1000</td>\n",
       "    </tr>\n",
       "  </tbody>\n",
       "</table>\n",
       "</div>"
      ],
      "text/plain": [
       "       id   call_date  duration  user_id\n",
       "0  1000_0  2018-07-25      0.00     1000\n",
       "1  1000_1  2018-08-17      0.00     1000\n",
       "2  1000_2  2018-06-11      2.85     1000\n",
       "3  1000_3  2018-09-21     13.80     1000\n",
       "4  1000_4  2018-12-15      5.18     1000"
      ]
     },
     "execution_count": 5,
     "metadata": {},
     "output_type": "execute_result"
    }
   ],
   "source": [
    "calls.head(5)"
   ]
  },
  {
   "cell_type": "code",
   "execution_count": 6,
   "metadata": {},
   "outputs": [
    {
     "name": "stdout",
     "output_type": "stream",
     "text": [
      "<class 'pandas.core.frame.DataFrame'>\n",
      "RangeIndex: 202607 entries, 0 to 202606\n",
      "Data columns (total 4 columns):\n",
      " #   Column     Non-Null Count   Dtype  \n",
      "---  ------     --------------   -----  \n",
      " 0   id         202607 non-null  object \n",
      " 1   call_date  202607 non-null  object \n",
      " 2   duration   202607 non-null  float64\n",
      " 3   user_id    202607 non-null  int64  \n",
      "dtypes: float64(1), int64(1), object(2)\n",
      "memory usage: 6.2+ MB\n"
     ]
    }
   ],
   "source": [
    "calls.info()"
   ]
  },
  {
   "cell_type": "markdown",
   "metadata": {},
   "source": [
    "Согласно документации к данным: </b></font><br>\n",
    "\n",
    "* id — уникальный номер звонка\n",
    "* call_date — дата звонка\n",
    "* duration — длительность звонка в минутах\n",
    "* user_id — идентификатор пользователя, сделавшего звонок"
   ]
  },
  {
   "cell_type": "markdown",
   "metadata": {},
   "source": [
    "Выведем на экран датафрей internet.</b></font><br> \n",
    "С помощью метода info() получим информацию о названиях колонок, количестве строк. </b></font><br>В таблице - 5 столбцов, тип данных - float, int и object. Пропущенных значений нет. Столбец Unnamed: дублирует нумерацию строк, на этапе предобработки можем исключить его из датафрейма."
   ]
  },
  {
   "cell_type": "code",
   "execution_count": 7,
   "metadata": {},
   "outputs": [
    {
     "data": {
      "text/html": [
       "<div>\n",
       "<style scoped>\n",
       "    .dataframe tbody tr th:only-of-type {\n",
       "        vertical-align: middle;\n",
       "    }\n",
       "\n",
       "    .dataframe tbody tr th {\n",
       "        vertical-align: top;\n",
       "    }\n",
       "\n",
       "    .dataframe thead th {\n",
       "        text-align: right;\n",
       "    }\n",
       "</style>\n",
       "<table border=\"1\" class=\"dataframe\">\n",
       "  <thead>\n",
       "    <tr style=\"text-align: right;\">\n",
       "      <th></th>\n",
       "      <th>id</th>\n",
       "      <th>mb_used</th>\n",
       "      <th>session_date</th>\n",
       "      <th>user_id</th>\n",
       "    </tr>\n",
       "  </thead>\n",
       "  <tbody>\n",
       "    <tr>\n",
       "      <th>0</th>\n",
       "      <td>1000_0</td>\n",
       "      <td>112.95</td>\n",
       "      <td>2018-11-25</td>\n",
       "      <td>1000</td>\n",
       "    </tr>\n",
       "    <tr>\n",
       "      <th>1</th>\n",
       "      <td>1000_1</td>\n",
       "      <td>1052.81</td>\n",
       "      <td>2018-09-07</td>\n",
       "      <td>1000</td>\n",
       "    </tr>\n",
       "    <tr>\n",
       "      <th>2</th>\n",
       "      <td>1000_2</td>\n",
       "      <td>1197.26</td>\n",
       "      <td>2018-06-25</td>\n",
       "      <td>1000</td>\n",
       "    </tr>\n",
       "    <tr>\n",
       "      <th>3</th>\n",
       "      <td>1000_3</td>\n",
       "      <td>550.27</td>\n",
       "      <td>2018-08-22</td>\n",
       "      <td>1000</td>\n",
       "    </tr>\n",
       "    <tr>\n",
       "      <th>4</th>\n",
       "      <td>1000_4</td>\n",
       "      <td>302.56</td>\n",
       "      <td>2018-09-24</td>\n",
       "      <td>1000</td>\n",
       "    </tr>\n",
       "  </tbody>\n",
       "</table>\n",
       "</div>"
      ],
      "text/plain": [
       "       id  mb_used session_date  user_id\n",
       "0  1000_0   112.95   2018-11-25     1000\n",
       "1  1000_1  1052.81   2018-09-07     1000\n",
       "2  1000_2  1197.26   2018-06-25     1000\n",
       "3  1000_3   550.27   2018-08-22     1000\n",
       "4  1000_4   302.56   2018-09-24     1000"
      ]
     },
     "execution_count": 7,
     "metadata": {},
     "output_type": "execute_result"
    }
   ],
   "source": [
    "internet.head(5)"
   ]
  },
  {
   "cell_type": "code",
   "execution_count": 8,
   "metadata": {},
   "outputs": [
    {
     "name": "stdout",
     "output_type": "stream",
     "text": [
      "<class 'pandas.core.frame.DataFrame'>\n",
      "Int64Index: 149396 entries, 0 to 149395\n",
      "Data columns (total 4 columns):\n",
      " #   Column        Non-Null Count   Dtype  \n",
      "---  ------        --------------   -----  \n",
      " 0   id            149396 non-null  object \n",
      " 1   mb_used       149396 non-null  float64\n",
      " 2   session_date  149396 non-null  object \n",
      " 3   user_id       149396 non-null  int64  \n",
      "dtypes: float64(1), int64(1), object(2)\n",
      "memory usage: 5.7+ MB\n"
     ]
    }
   ],
   "source": [
    "internet.info()"
   ]
  },
  {
   "cell_type": "markdown",
   "metadata": {},
   "source": [
    "Согласно документации к данным: </b></font><br>\n",
    "* id — уникальный номер сессии\n",
    "* mb_used — объём потраченного за сессию интернет-трафика (в мегабайтах)\n",
    "* session_date — дата интернет-сессии\n",
    "* user_id — идентификатор пользователя"
   ]
  },
  {
   "cell_type": "markdown",
   "metadata": {},
   "source": [
    "Выведем на экран датафрей messages.</b></font><br> \n",
    "С помощью метода info() получим информацию о названиях колонок, количестве строк. </b></font><br>В таблице - 3 столбца, тип данных - int и object. Пропущенных значений нет. "
   ]
  },
  {
   "cell_type": "code",
   "execution_count": 9,
   "metadata": {},
   "outputs": [
    {
     "data": {
      "text/html": [
       "<div>\n",
       "<style scoped>\n",
       "    .dataframe tbody tr th:only-of-type {\n",
       "        vertical-align: middle;\n",
       "    }\n",
       "\n",
       "    .dataframe tbody tr th {\n",
       "        vertical-align: top;\n",
       "    }\n",
       "\n",
       "    .dataframe thead th {\n",
       "        text-align: right;\n",
       "    }\n",
       "</style>\n",
       "<table border=\"1\" class=\"dataframe\">\n",
       "  <thead>\n",
       "    <tr style=\"text-align: right;\">\n",
       "      <th></th>\n",
       "      <th>id</th>\n",
       "      <th>message_date</th>\n",
       "      <th>user_id</th>\n",
       "    </tr>\n",
       "  </thead>\n",
       "  <tbody>\n",
       "    <tr>\n",
       "      <th>0</th>\n",
       "      <td>1000_0</td>\n",
       "      <td>2018-06-27</td>\n",
       "      <td>1000</td>\n",
       "    </tr>\n",
       "    <tr>\n",
       "      <th>1</th>\n",
       "      <td>1000_1</td>\n",
       "      <td>2018-10-08</td>\n",
       "      <td>1000</td>\n",
       "    </tr>\n",
       "    <tr>\n",
       "      <th>2</th>\n",
       "      <td>1000_2</td>\n",
       "      <td>2018-08-04</td>\n",
       "      <td>1000</td>\n",
       "    </tr>\n",
       "    <tr>\n",
       "      <th>3</th>\n",
       "      <td>1000_3</td>\n",
       "      <td>2018-06-16</td>\n",
       "      <td>1000</td>\n",
       "    </tr>\n",
       "    <tr>\n",
       "      <th>4</th>\n",
       "      <td>1000_4</td>\n",
       "      <td>2018-12-05</td>\n",
       "      <td>1000</td>\n",
       "    </tr>\n",
       "  </tbody>\n",
       "</table>\n",
       "</div>"
      ],
      "text/plain": [
       "       id message_date  user_id\n",
       "0  1000_0   2018-06-27     1000\n",
       "1  1000_1   2018-10-08     1000\n",
       "2  1000_2   2018-08-04     1000\n",
       "3  1000_3   2018-06-16     1000\n",
       "4  1000_4   2018-12-05     1000"
      ]
     },
     "execution_count": 9,
     "metadata": {},
     "output_type": "execute_result"
    }
   ],
   "source": [
    "messages.head(5)"
   ]
  },
  {
   "cell_type": "code",
   "execution_count": 10,
   "metadata": {},
   "outputs": [
    {
     "name": "stdout",
     "output_type": "stream",
     "text": [
      "<class 'pandas.core.frame.DataFrame'>\n",
      "RangeIndex: 123036 entries, 0 to 123035\n",
      "Data columns (total 3 columns):\n",
      " #   Column        Non-Null Count   Dtype \n",
      "---  ------        --------------   ----- \n",
      " 0   id            123036 non-null  object\n",
      " 1   message_date  123036 non-null  object\n",
      " 2   user_id       123036 non-null  int64 \n",
      "dtypes: int64(1), object(2)\n",
      "memory usage: 2.8+ MB\n"
     ]
    }
   ],
   "source": [
    "messages.info()"
   ]
  },
  {
   "cell_type": "markdown",
   "metadata": {},
   "source": [
    "Согласно документации к данным: </b></font><br>\n",
    "* id — уникальный номер сообщения\n",
    "* message_date — дата сообщения\n",
    "* user_id — идентификатор пользователя, отправившего сообщение"
   ]
  },
  {
   "cell_type": "markdown",
   "metadata": {},
   "source": [
    "Выведем на экран датафрей tariffs.</b></font><br> \n",
    "С помощью метода info() получим информацию о названиях колонок, количестве строк. "
   ]
  },
  {
   "cell_type": "code",
   "execution_count": 11,
   "metadata": {},
   "outputs": [
    {
     "data": {
      "text/html": [
       "<div>\n",
       "<style scoped>\n",
       "    .dataframe tbody tr th:only-of-type {\n",
       "        vertical-align: middle;\n",
       "    }\n",
       "\n",
       "    .dataframe tbody tr th {\n",
       "        vertical-align: top;\n",
       "    }\n",
       "\n",
       "    .dataframe thead th {\n",
       "        text-align: right;\n",
       "    }\n",
       "</style>\n",
       "<table border=\"1\" class=\"dataframe\">\n",
       "  <thead>\n",
       "    <tr style=\"text-align: right;\">\n",
       "      <th></th>\n",
       "      <th>messages_included</th>\n",
       "      <th>mb_per_month_included</th>\n",
       "      <th>minutes_included</th>\n",
       "      <th>rub_monthly_fee</th>\n",
       "      <th>rub_per_gb</th>\n",
       "      <th>rub_per_message</th>\n",
       "      <th>rub_per_minute</th>\n",
       "      <th>tariff_name</th>\n",
       "    </tr>\n",
       "  </thead>\n",
       "  <tbody>\n",
       "    <tr>\n",
       "      <th>0</th>\n",
       "      <td>50</td>\n",
       "      <td>15360</td>\n",
       "      <td>500</td>\n",
       "      <td>550</td>\n",
       "      <td>200</td>\n",
       "      <td>3</td>\n",
       "      <td>3</td>\n",
       "      <td>smart</td>\n",
       "    </tr>\n",
       "    <tr>\n",
       "      <th>1</th>\n",
       "      <td>1000</td>\n",
       "      <td>30720</td>\n",
       "      <td>3000</td>\n",
       "      <td>1950</td>\n",
       "      <td>150</td>\n",
       "      <td>1</td>\n",
       "      <td>1</td>\n",
       "      <td>ultra</td>\n",
       "    </tr>\n",
       "  </tbody>\n",
       "</table>\n",
       "</div>"
      ],
      "text/plain": [
       "   messages_included  mb_per_month_included  minutes_included  \\\n",
       "0                 50                  15360               500   \n",
       "1               1000                  30720              3000   \n",
       "\n",
       "   rub_monthly_fee  rub_per_gb  rub_per_message  rub_per_minute tariff_name  \n",
       "0              550         200                3               3       smart  \n",
       "1             1950         150                1               1       ultra  "
      ]
     },
     "execution_count": 11,
     "metadata": {},
     "output_type": "execute_result"
    }
   ],
   "source": [
    "tariffs"
   ]
  },
  {
   "cell_type": "code",
   "execution_count": 12,
   "metadata": {},
   "outputs": [
    {
     "name": "stdout",
     "output_type": "stream",
     "text": [
      "<class 'pandas.core.frame.DataFrame'>\n",
      "RangeIndex: 2 entries, 0 to 1\n",
      "Data columns (total 8 columns):\n",
      " #   Column                 Non-Null Count  Dtype \n",
      "---  ------                 --------------  ----- \n",
      " 0   messages_included      2 non-null      int64 \n",
      " 1   mb_per_month_included  2 non-null      int64 \n",
      " 2   minutes_included       2 non-null      int64 \n",
      " 3   rub_monthly_fee        2 non-null      int64 \n",
      " 4   rub_per_gb             2 non-null      int64 \n",
      " 5   rub_per_message        2 non-null      int64 \n",
      " 6   rub_per_minute         2 non-null      int64 \n",
      " 7   tariff_name            2 non-null      object\n",
      "dtypes: int64(7), object(1)\n",
      "memory usage: 260.0+ bytes\n"
     ]
    }
   ],
   "source": [
    "tariffs.info()"
   ]
  },
  {
   "cell_type": "markdown",
   "metadata": {},
   "source": [
    "* tariff_name — название тарифа\n",
    "* rub_monthly_fee — ежемесячная абонентская плата в рублях\n",
    "* minutes_included — количество минут разговора в месяц, включённых в абонентскую плату\n",
    "* messages_included — количество сообщений в месяц, включённых в абонентскую плату\n",
    "* mb_per_month_included — объём интернет-трафика, включённого в абонентскую плату (в мегабайтах)\n",
    "* rub_per_minute — стоимость минуты разговора сверх тарифного пакета (например, если в тарифе 100 минут разговора в месяц, то  со 101 минуты будет взиматься плата)\n",
    "* rub_per_message — стоимость отправки сообщения сверх тарифного пакета\n",
    "* rub_per_gb — стоимость дополнительного гигабайта интернет-трафика сверх тарифного пакета (1 гигабайт = 1024 мегабайта)"
   ]
  },
  {
   "cell_type": "markdown",
   "metadata": {},
   "source": [
    "### Вывод"
   ]
  },
  {
   "cell_type": "markdown",
   "metadata": {},
   "source": [
    "В датафреймах нет пропущенных значений. На этапе предобработки поменяем типы данных для дальнейшей работы."
   ]
  },
  {
   "cell_type": "markdown",
   "metadata": {},
   "source": [
    "## Предобработка данных"
   ]
  },
  {
   "cell_type": "markdown",
   "metadata": {},
   "source": [
    "С помощью функции pd.to_datetime изменим тип данных в столбце churn_date на datetime."
   ]
  },
  {
   "cell_type": "code",
   "execution_count": 13,
   "metadata": {},
   "outputs": [
    {
     "data": {
      "text/plain": [
       "0            NaT\n",
       "1            NaT\n",
       "2            NaT\n",
       "3            NaT\n",
       "4            NaT\n",
       "         ...    \n",
       "495          NaT\n",
       "496          NaT\n",
       "497          NaT\n",
       "498   2018-10-25\n",
       "499          NaT\n",
       "Name: churn_date, Length: 500, dtype: datetime64[ns]"
      ]
     },
     "execution_count": 13,
     "metadata": {},
     "output_type": "execute_result"
    }
   ],
   "source": [
    "users['churn_date'] = pd.to_datetime(users['churn_date'])  \n",
    "users['churn_date']"
   ]
  },
  {
   "cell_type": "markdown",
   "metadata": {},
   "source": [
    "С помощью функции pd.to_datetime изменим тип данных в столбце reg_date на datetime."
   ]
  },
  {
   "cell_type": "code",
   "execution_count": 14,
   "metadata": {},
   "outputs": [
    {
     "data": {
      "text/plain": [
       "0     2018-05-25\n",
       "1     2018-11-01\n",
       "2     2018-06-17\n",
       "3     2018-08-17\n",
       "4     2018-05-14\n",
       "         ...    \n",
       "495   2018-08-28\n",
       "496   2018-01-27\n",
       "497   2018-10-09\n",
       "498   2018-07-19\n",
       "499   2018-09-27\n",
       "Name: reg_date, Length: 500, dtype: datetime64[ns]"
      ]
     },
     "execution_count": 14,
     "metadata": {},
     "output_type": "execute_result"
    }
   ],
   "source": [
    "users['reg_date'] = pd.to_datetime(users['reg_date'])\n",
    "users['reg_date']"
   ]
  },
  {
   "cell_type": "markdown",
   "metadata": {},
   "source": [
    "С помощью функции pd.to_datetime изменим тип данных в столбце calls на datetime."
   ]
  },
  {
   "cell_type": "code",
   "execution_count": 15,
   "metadata": {},
   "outputs": [
    {
     "data": {
      "text/plain": [
       "0          7\n",
       "1          8\n",
       "2          6\n",
       "3          9\n",
       "4         12\n",
       "          ..\n",
       "202602    12\n",
       "202603    10\n",
       "202604    11\n",
       "202605    10\n",
       "202606    12\n",
       "Name: call_month, Length: 202607, dtype: int64"
      ]
     },
     "execution_count": 15,
     "metadata": {},
     "output_type": "execute_result"
    }
   ],
   "source": [
    "calls['call_date'] = pd.to_datetime(calls['call_date'])\n",
    "calls['call_month'] = calls['call_date'].dt.month\n",
    "calls['call_month']"
   ]
  },
  {
   "cell_type": "markdown",
   "metadata": {},
   "source": [
    "С помощью функции pd.to_datetime изменим тип данных в столбце session_date на datetime и изменим формат даты, вместо числа, месяца и года укажем номер месяца (1 -январь, 12-декабрь)."
   ]
  },
  {
   "cell_type": "code",
   "execution_count": 16,
   "metadata": {},
   "outputs": [
    {
     "data": {
      "text/plain": [
       "0         11\n",
       "1          9\n",
       "2          6\n",
       "3          8\n",
       "4          9\n",
       "          ..\n",
       "149391    10\n",
       "149392    12\n",
       "149393    10\n",
       "149394    11\n",
       "149395    10\n",
       "Name: session_month, Length: 149396, dtype: int64"
      ]
     },
     "execution_count": 16,
     "metadata": {},
     "output_type": "execute_result"
    }
   ],
   "source": [
    "internet['session_date'] = pd.to_datetime(internet['session_date'])  \n",
    "internet['session_month'] = internet['session_date'].dt.month\n",
    "internet['session_month']"
   ]
  },
  {
   "cell_type": "markdown",
   "metadata": {},
   "source": [
    "С помощью функции pd.to_datetime изменим тип данных в столбце message_date на datetime и изменим формат даты, вместо числа, месяца и года укажем номер месяца (1 -январь, 12-декабрь)."
   ]
  },
  {
   "cell_type": "code",
   "execution_count": 17,
   "metadata": {},
   "outputs": [
    {
     "data": {
      "text/plain": [
       "0          6\n",
       "1         10\n",
       "2          8\n",
       "3          6\n",
       "4         12\n",
       "          ..\n",
       "123031    12\n",
       "123032     9\n",
       "123033     9\n",
       "123034    11\n",
       "123035    11\n",
       "Name: message_month, Length: 123036, dtype: int64"
      ]
     },
     "execution_count": 17,
     "metadata": {},
     "output_type": "execute_result"
    }
   ],
   "source": [
    "messages['message_date'] = pd.to_datetime(messages['message_date'])  \n",
    "messages['message_month'] = messages['message_date'].dt.month\n",
    "messages['message_month']"
   ]
  },
  {
   "cell_type": "markdown",
   "metadata": {},
   "source": [
    "Данны вывели через internet = pd.read_csv('/datasets/internet.csv',  index_col=0). Проверим результат."
   ]
  },
  {
   "cell_type": "code",
   "execution_count": 18,
   "metadata": {},
   "outputs": [
    {
     "data": {
      "text/html": [
       "<div>\n",
       "<style scoped>\n",
       "    .dataframe tbody tr th:only-of-type {\n",
       "        vertical-align: middle;\n",
       "    }\n",
       "\n",
       "    .dataframe tbody tr th {\n",
       "        vertical-align: top;\n",
       "    }\n",
       "\n",
       "    .dataframe thead th {\n",
       "        text-align: right;\n",
       "    }\n",
       "</style>\n",
       "<table border=\"1\" class=\"dataframe\">\n",
       "  <thead>\n",
       "    <tr style=\"text-align: right;\">\n",
       "      <th></th>\n",
       "      <th>id</th>\n",
       "      <th>mb_used</th>\n",
       "      <th>session_date</th>\n",
       "      <th>user_id</th>\n",
       "      <th>session_month</th>\n",
       "    </tr>\n",
       "  </thead>\n",
       "  <tbody>\n",
       "    <tr>\n",
       "      <th>0</th>\n",
       "      <td>1000_0</td>\n",
       "      <td>112.95</td>\n",
       "      <td>2018-11-25</td>\n",
       "      <td>1000</td>\n",
       "      <td>11</td>\n",
       "    </tr>\n",
       "    <tr>\n",
       "      <th>1</th>\n",
       "      <td>1000_1</td>\n",
       "      <td>1052.81</td>\n",
       "      <td>2018-09-07</td>\n",
       "      <td>1000</td>\n",
       "      <td>9</td>\n",
       "    </tr>\n",
       "  </tbody>\n",
       "</table>\n",
       "</div>"
      ],
      "text/plain": [
       "       id  mb_used session_date  user_id  session_month\n",
       "0  1000_0   112.95   2018-11-25     1000             11\n",
       "1  1000_1  1052.81   2018-09-07     1000              9"
      ]
     },
     "execution_count": 18,
     "metadata": {},
     "output_type": "execute_result"
    }
   ],
   "source": [
    "internet.head(2)"
   ]
  },
  {
   "cell_type": "markdown",
   "metadata": {},
   "source": [
    "Создадим столбец gb_per_month_included, переведем мегабайты в гигабайты. 1Гб = 1024 Мб. Проверим результат."
   ]
  },
  {
   "cell_type": "code",
   "execution_count": 19,
   "metadata": {},
   "outputs": [
    {
     "data": {
      "text/plain": [
       "0    15.0\n",
       "1    30.0\n",
       "Name: gb_per_month_included, dtype: float64"
      ]
     },
     "execution_count": 19,
     "metadata": {},
     "output_type": "execute_result"
    }
   ],
   "source": [
    "tariffs['gb_per_month_included'] = tariffs['mb_per_month_included'] / 1024\n",
    "tariffs['gb_per_month_included']"
   ]
  },
  {
   "cell_type": "markdown",
   "metadata": {},
   "source": [
    "Округлим значения в столбце calls. Проверим результат."
   ]
  },
  {
   "cell_type": "code",
   "execution_count": 20,
   "metadata": {},
   "outputs": [
    {
     "data": {
      "text/plain": [
       "0          0.0\n",
       "1          0.0\n",
       "2          3.0\n",
       "3         14.0\n",
       "4          6.0\n",
       "          ... \n",
       "202602     1.0\n",
       "202603    19.0\n",
       "202604    11.0\n",
       "202605     5.0\n",
       "202606    20.0\n",
       "Name: duration, Length: 202607, dtype: float64"
      ]
     },
     "execution_count": 20,
     "metadata": {},
     "output_type": "execute_result"
    }
   ],
   "source": [
    "calls['duration'] = np.ceil(calls['duration'])\n",
    "calls['duration']"
   ]
  },
  {
   "cell_type": "markdown",
   "metadata": {},
   "source": [
    "Посчитаем для каждого пользователя количество отправленных сообщений по месяцам. Проверим результат."
   ]
  },
  {
   "cell_type": "code",
   "execution_count": 21,
   "metadata": {},
   "outputs": [
    {
     "name": "stdout",
     "output_type": "stream",
     "text": [
      "<class 'pandas.core.frame.DataFrame'>\n",
      "RangeIndex: 2717 entries, 0 to 2716\n",
      "Data columns (total 3 columns):\n",
      " #   Column            Non-Null Count  Dtype\n",
      "---  ------            --------------  -----\n",
      " 0   user_id           2717 non-null   int64\n",
      " 1   month             2717 non-null   int64\n",
      " 2   message_quontity  2717 non-null   int64\n",
      "dtypes: int64(3)\n",
      "memory usage: 63.8 KB\n"
     ]
    }
   ],
   "source": [
    "messages_pivot = messages.pivot_table(index=['user_id', 'message_month'],\n",
    "    values = 'id', aggfunc='count').reset_index()\n",
    "messages_pivot.columns=['user_id', 'month', 'message_quontity']\n",
    "messages_pivot.info()"
   ]
  },
  {
   "cell_type": "markdown",
   "metadata": {},
   "source": [
    "Посчитаем для каждого пользователя посчитаем длительностьи количество звонков месяцам (столбец calls_quontity и calls_duration). Проверим результат."
   ]
  },
  {
   "cell_type": "code",
   "execution_count": 22,
   "metadata": {},
   "outputs": [
    {
     "name": "stdout",
     "output_type": "stream",
     "text": [
      "<class 'pandas.core.frame.DataFrame'>\n",
      "RangeIndex: 3174 entries, 0 to 3173\n",
      "Data columns (total 4 columns):\n",
      " #   Column          Non-Null Count  Dtype  \n",
      "---  ------          --------------  -----  \n",
      " 0   user_id         3174 non-null   int64  \n",
      " 1   month           3174 non-null   int64  \n",
      " 2   calls_quontity  3174 non-null   int64  \n",
      " 3   duration        3174 non-null   float64\n",
      "dtypes: float64(1), int64(3)\n",
      "memory usage: 99.3 KB\n"
     ]
    }
   ],
   "source": [
    "calls_pivot = calls.pivot_table (index = ('user_id', 'call_month'),\n",
    "                                 values = 'duration',\n",
    "                                 aggfunc = ('count', 'sum')).reset_index()\n",
    "calls_pivot.columns=['user_id', 'month', 'calls_quontity', 'duration']\n",
    "calls_pivot.info()"
   ]
  },
  {
   "cell_type": "markdown",
   "metadata": {},
   "source": [
    "Посчитаем для каждого пользователя объем израсходованного интернет-трафика по месяцам (столбец gb_used). Проверим результат."
   ]
  },
  {
   "cell_type": "code",
   "execution_count": 23,
   "metadata": {
    "scrolled": true
   },
   "outputs": [
    {
     "name": "stdout",
     "output_type": "stream",
     "text": [
      "<class 'pandas.core.frame.DataFrame'>\n",
      "RangeIndex: 3203 entries, 0 to 3202\n",
      "Data columns (total 3 columns):\n",
      " #   Column   Non-Null Count  Dtype  \n",
      "---  ------   --------------  -----  \n",
      " 0   user_id  3203 non-null   int64  \n",
      " 1   month    3203 non-null   int64  \n",
      " 2   gb_used  3203 non-null   float64\n",
      "dtypes: float64(1), int64(2)\n",
      "memory usage: 75.2 KB\n"
     ]
    }
   ],
   "source": [
    "internet_pivot = internet.pivot_table(index=['user_id', 'session_month'],\n",
    "    values = 'mb_used', aggfunc='sum').reset_index()\n",
    "internet_pivot.columns=['user_id', 'month', 'gb_used']\n",
    "internet_pivot.info()"
   ]
  },
  {
   "cell_type": "markdown",
   "metadata": {},
   "source": [
    "Округлим мегабайты до гигибайт."
   ]
  },
  {
   "cell_type": "code",
   "execution_count": 24,
   "metadata": {},
   "outputs": [
    {
     "data": {
      "text/html": [
       "<div>\n",
       "<style scoped>\n",
       "    .dataframe tbody tr th:only-of-type {\n",
       "        vertical-align: middle;\n",
       "    }\n",
       "\n",
       "    .dataframe tbody tr th {\n",
       "        vertical-align: top;\n",
       "    }\n",
       "\n",
       "    .dataframe thead th {\n",
       "        text-align: right;\n",
       "    }\n",
       "</style>\n",
       "<table border=\"1\" class=\"dataframe\">\n",
       "  <thead>\n",
       "    <tr style=\"text-align: right;\">\n",
       "      <th></th>\n",
       "      <th>user_id</th>\n",
       "      <th>month</th>\n",
       "      <th>gb_used</th>\n",
       "    </tr>\n",
       "  </thead>\n",
       "  <tbody>\n",
       "    <tr>\n",
       "      <th>0</th>\n",
       "      <td>1000</td>\n",
       "      <td>5</td>\n",
       "      <td>1.0</td>\n",
       "    </tr>\n",
       "    <tr>\n",
       "      <th>1</th>\n",
       "      <td>1000</td>\n",
       "      <td>6</td>\n",
       "      <td>2.0</td>\n",
       "    </tr>\n",
       "    <tr>\n",
       "      <th>2</th>\n",
       "      <td>1000</td>\n",
       "      <td>7</td>\n",
       "      <td>2.0</td>\n",
       "    </tr>\n",
       "    <tr>\n",
       "      <th>3</th>\n",
       "      <td>1000</td>\n",
       "      <td>8</td>\n",
       "      <td>1.0</td>\n",
       "    </tr>\n",
       "    <tr>\n",
       "      <th>4</th>\n",
       "      <td>1000</td>\n",
       "      <td>9</td>\n",
       "      <td>1.0</td>\n",
       "    </tr>\n",
       "  </tbody>\n",
       "</table>\n",
       "</div>"
      ],
      "text/plain": [
       "   user_id  month  gb_used\n",
       "0     1000      5      1.0\n",
       "1     1000      6      2.0\n",
       "2     1000      7      2.0\n",
       "3     1000      8      1.0\n",
       "4     1000      9      1.0"
      ]
     },
     "execution_count": 24,
     "metadata": {},
     "output_type": "execute_result"
    }
   ],
   "source": [
    "internet_pivot['gb_used'] = internet['mb_used'] / 1024\n",
    "internet_pivot['gb_used'] = internet_pivot['gb_used'].apply(np.ceil)\n",
    "internet_pivot.head(5)"
   ]
  },
  {
   "cell_type": "markdown",
   "metadata": {},
   "source": [
    "Соединим датафреймы users, messages_pivot, calls_pivot и internet_pivot в один датафрейм - final_data с помощью метода merge(), удалим лишние столбцы с номерами месяцев. Проверим результат."
   ]
  },
  {
   "cell_type": "code",
   "execution_count": 25,
   "metadata": {},
   "outputs": [
    {
     "data": {
      "text/html": [
       "<div>\n",
       "<style scoped>\n",
       "    .dataframe tbody tr th:only-of-type {\n",
       "        vertical-align: middle;\n",
       "    }\n",
       "\n",
       "    .dataframe tbody tr th {\n",
       "        vertical-align: top;\n",
       "    }\n",
       "\n",
       "    .dataframe thead th {\n",
       "        text-align: right;\n",
       "    }\n",
       "</style>\n",
       "<table border=\"1\" class=\"dataframe\">\n",
       "  <thead>\n",
       "    <tr style=\"text-align: right;\">\n",
       "      <th></th>\n",
       "      <th>user_id</th>\n",
       "      <th>age</th>\n",
       "      <th>churn_date</th>\n",
       "      <th>city</th>\n",
       "      <th>first_name</th>\n",
       "      <th>last_name</th>\n",
       "      <th>reg_date</th>\n",
       "      <th>tariff</th>\n",
       "      <th>month</th>\n",
       "      <th>message_quontity</th>\n",
       "      <th>calls_quontity</th>\n",
       "      <th>duration</th>\n",
       "      <th>gb_used</th>\n",
       "    </tr>\n",
       "  </thead>\n",
       "  <tbody>\n",
       "    <tr>\n",
       "      <th>0</th>\n",
       "      <td>1000</td>\n",
       "      <td>52.0</td>\n",
       "      <td>NaT</td>\n",
       "      <td>Краснодар</td>\n",
       "      <td>Рафаил</td>\n",
       "      <td>Верещагин</td>\n",
       "      <td>2018-05-25</td>\n",
       "      <td>ultra</td>\n",
       "      <td>5.0</td>\n",
       "      <td>22.0</td>\n",
       "      <td>22.0</td>\n",
       "      <td>159.0</td>\n",
       "      <td>1.0</td>\n",
       "    </tr>\n",
       "    <tr>\n",
       "      <th>1</th>\n",
       "      <td>1000</td>\n",
       "      <td>52.0</td>\n",
       "      <td>NaT</td>\n",
       "      <td>Краснодар</td>\n",
       "      <td>Рафаил</td>\n",
       "      <td>Верещагин</td>\n",
       "      <td>2018-05-25</td>\n",
       "      <td>ultra</td>\n",
       "      <td>6.0</td>\n",
       "      <td>60.0</td>\n",
       "      <td>43.0</td>\n",
       "      <td>172.0</td>\n",
       "      <td>2.0</td>\n",
       "    </tr>\n",
       "    <tr>\n",
       "      <th>2</th>\n",
       "      <td>1000</td>\n",
       "      <td>52.0</td>\n",
       "      <td>NaT</td>\n",
       "      <td>Краснодар</td>\n",
       "      <td>Рафаил</td>\n",
       "      <td>Верещагин</td>\n",
       "      <td>2018-05-25</td>\n",
       "      <td>ultra</td>\n",
       "      <td>7.0</td>\n",
       "      <td>75.0</td>\n",
       "      <td>47.0</td>\n",
       "      <td>340.0</td>\n",
       "      <td>2.0</td>\n",
       "    </tr>\n",
       "    <tr>\n",
       "      <th>3</th>\n",
       "      <td>1000</td>\n",
       "      <td>52.0</td>\n",
       "      <td>NaT</td>\n",
       "      <td>Краснодар</td>\n",
       "      <td>Рафаил</td>\n",
       "      <td>Верещагин</td>\n",
       "      <td>2018-05-25</td>\n",
       "      <td>ultra</td>\n",
       "      <td>8.0</td>\n",
       "      <td>81.0</td>\n",
       "      <td>52.0</td>\n",
       "      <td>408.0</td>\n",
       "      <td>1.0</td>\n",
       "    </tr>\n",
       "    <tr>\n",
       "      <th>4</th>\n",
       "      <td>1000</td>\n",
       "      <td>52.0</td>\n",
       "      <td>NaT</td>\n",
       "      <td>Краснодар</td>\n",
       "      <td>Рафаил</td>\n",
       "      <td>Верещагин</td>\n",
       "      <td>2018-05-25</td>\n",
       "      <td>ultra</td>\n",
       "      <td>9.0</td>\n",
       "      <td>57.0</td>\n",
       "      <td>58.0</td>\n",
       "      <td>466.0</td>\n",
       "      <td>1.0</td>\n",
       "    </tr>\n",
       "    <tr>\n",
       "      <th>...</th>\n",
       "      <td>...</td>\n",
       "      <td>...</td>\n",
       "      <td>...</td>\n",
       "      <td>...</td>\n",
       "      <td>...</td>\n",
       "      <td>...</td>\n",
       "      <td>...</td>\n",
       "      <td>...</td>\n",
       "      <td>...</td>\n",
       "      <td>...</td>\n",
       "      <td>...</td>\n",
       "      <td>...</td>\n",
       "      <td>...</td>\n",
       "    </tr>\n",
       "    <tr>\n",
       "      <th>3283</th>\n",
       "      <td>1494</td>\n",
       "      <td>NaN</td>\n",
       "      <td>NaT</td>\n",
       "      <td>NaN</td>\n",
       "      <td>NaN</td>\n",
       "      <td>NaN</td>\n",
       "      <td>NaT</td>\n",
       "      <td>NaN</td>\n",
       "      <td>9.0</td>\n",
       "      <td>NaN</td>\n",
       "      <td>66.0</td>\n",
       "      <td>501.0</td>\n",
       "      <td>1.0</td>\n",
       "    </tr>\n",
       "    <tr>\n",
       "      <th>3284</th>\n",
       "      <td>1494</td>\n",
       "      <td>NaN</td>\n",
       "      <td>NaT</td>\n",
       "      <td>NaN</td>\n",
       "      <td>NaN</td>\n",
       "      <td>NaN</td>\n",
       "      <td>NaT</td>\n",
       "      <td>NaN</td>\n",
       "      <td>10.0</td>\n",
       "      <td>NaN</td>\n",
       "      <td>52.0</td>\n",
       "      <td>354.0</td>\n",
       "      <td>0.0</td>\n",
       "    </tr>\n",
       "    <tr>\n",
       "      <th>3285</th>\n",
       "      <td>1494</td>\n",
       "      <td>NaN</td>\n",
       "      <td>NaT</td>\n",
       "      <td>NaN</td>\n",
       "      <td>NaN</td>\n",
       "      <td>NaN</td>\n",
       "      <td>NaT</td>\n",
       "      <td>NaN</td>\n",
       "      <td>11.0</td>\n",
       "      <td>NaN</td>\n",
       "      <td>63.0</td>\n",
       "      <td>411.0</td>\n",
       "      <td>1.0</td>\n",
       "    </tr>\n",
       "    <tr>\n",
       "      <th>3286</th>\n",
       "      <td>1494</td>\n",
       "      <td>NaN</td>\n",
       "      <td>NaT</td>\n",
       "      <td>NaN</td>\n",
       "      <td>NaN</td>\n",
       "      <td>NaN</td>\n",
       "      <td>NaT</td>\n",
       "      <td>NaN</td>\n",
       "      <td>12.0</td>\n",
       "      <td>NaN</td>\n",
       "      <td>62.0</td>\n",
       "      <td>418.0</td>\n",
       "      <td>1.0</td>\n",
       "    </tr>\n",
       "    <tr>\n",
       "      <th>3287</th>\n",
       "      <td>1476</td>\n",
       "      <td>NaN</td>\n",
       "      <td>NaT</td>\n",
       "      <td>NaN</td>\n",
       "      <td>NaN</td>\n",
       "      <td>NaN</td>\n",
       "      <td>NaT</td>\n",
       "      <td>NaN</td>\n",
       "      <td>4.0</td>\n",
       "      <td>NaN</td>\n",
       "      <td>NaN</td>\n",
       "      <td>NaN</td>\n",
       "      <td>1.0</td>\n",
       "    </tr>\n",
       "  </tbody>\n",
       "</table>\n",
       "<p>3288 rows × 13 columns</p>\n",
       "</div>"
      ],
      "text/plain": [
       "      user_id   age churn_date       city first_name  last_name   reg_date  \\\n",
       "0        1000  52.0        NaT  Краснодар     Рафаил  Верещагин 2018-05-25   \n",
       "1        1000  52.0        NaT  Краснодар     Рафаил  Верещагин 2018-05-25   \n",
       "2        1000  52.0        NaT  Краснодар     Рафаил  Верещагин 2018-05-25   \n",
       "3        1000  52.0        NaT  Краснодар     Рафаил  Верещагин 2018-05-25   \n",
       "4        1000  52.0        NaT  Краснодар     Рафаил  Верещагин 2018-05-25   \n",
       "...       ...   ...        ...        ...        ...        ...        ...   \n",
       "3283     1494   NaN        NaT        NaN        NaN        NaN        NaT   \n",
       "3284     1494   NaN        NaT        NaN        NaN        NaN        NaT   \n",
       "3285     1494   NaN        NaT        NaN        NaN        NaN        NaT   \n",
       "3286     1494   NaN        NaT        NaN        NaN        NaN        NaT   \n",
       "3287     1476   NaN        NaT        NaN        NaN        NaN        NaT   \n",
       "\n",
       "     tariff  month  message_quontity  calls_quontity  duration  gb_used  \n",
       "0     ultra    5.0              22.0            22.0     159.0      1.0  \n",
       "1     ultra    6.0              60.0            43.0     172.0      2.0  \n",
       "2     ultra    7.0              75.0            47.0     340.0      2.0  \n",
       "3     ultra    8.0              81.0            52.0     408.0      1.0  \n",
       "4     ultra    9.0              57.0            58.0     466.0      1.0  \n",
       "...     ...    ...               ...             ...       ...      ...  \n",
       "3283    NaN    9.0               NaN            66.0     501.0      1.0  \n",
       "3284    NaN   10.0               NaN            52.0     354.0      0.0  \n",
       "3285    NaN   11.0               NaN            63.0     411.0      1.0  \n",
       "3286    NaN   12.0               NaN            62.0     418.0      1.0  \n",
       "3287    NaN    4.0               NaN             NaN       NaN      1.0  \n",
       "\n",
       "[3288 rows x 13 columns]"
      ]
     },
     "execution_count": 25,
     "metadata": {},
     "output_type": "execute_result"
    }
   ],
   "source": [
    "merge_data = pd.merge(users, messages_pivot, on=['user_id'], how='outer')\n",
    "data_frames = [merge_data, calls_pivot, internet_pivot]\n",
    "final_data = reduce(lambda  left,right: pd.merge(left,right,on=['user_id', 'month'],\n",
    "                                            how='outer'), data_frames)\n",
    "final_data "
   ]
  },
  {
   "cell_type": "markdown",
   "metadata": {},
   "source": [
    "С помощью метода info() проверим данный о таблице. Значения в столбцах различются, значит в данных есть пропуски."
   ]
  },
  {
   "cell_type": "code",
   "execution_count": 26,
   "metadata": {},
   "outputs": [
    {
     "name": "stdout",
     "output_type": "stream",
     "text": [
      "<class 'pandas.core.frame.DataFrame'>\n",
      "Int64Index: 3288 entries, 0 to 3287\n",
      "Data columns (total 13 columns):\n",
      " #   Column            Non-Null Count  Dtype         \n",
      "---  ------            --------------  -----         \n",
      " 0   user_id           3288 non-null   int64         \n",
      " 1   age               2791 non-null   float64       \n",
      " 2   churn_date        149 non-null    datetime64[ns]\n",
      " 3   city              2791 non-null   object        \n",
      " 4   first_name        2791 non-null   object        \n",
      " 5   last_name         2791 non-null   object        \n",
      " 6   reg_date          2791 non-null   datetime64[ns]\n",
      " 7   tariff            2791 non-null   object        \n",
      " 8   month             3214 non-null   float64       \n",
      " 9   message_quontity  2717 non-null   float64       \n",
      " 10  calls_quontity    3174 non-null   float64       \n",
      " 11  duration          3174 non-null   float64       \n",
      " 12  gb_used           3203 non-null   float64       \n",
      "dtypes: datetime64[ns](2), float64(6), int64(1), object(4)\n",
      "memory usage: 359.6+ KB\n"
     ]
    }
   ],
   "source": [
    "final_data.info()"
   ]
  },
  {
   "cell_type": "markdown",
   "metadata": {},
   "source": [
    "С помощью методов isna() и sum() проверим количество пропусков.</b></font><br> Возможно есть пользователи, которые подключили тарифный план, но не воспользовались услугами или пользовались интернетом, но не делали звонков."
   ]
  },
  {
   "cell_type": "code",
   "execution_count": 27,
   "metadata": {
    "scrolled": true
   },
   "outputs": [
    {
     "data": {
      "text/plain": [
       "user_id                0\n",
       "age                  497\n",
       "churn_date          3139\n",
       "city                 497\n",
       "first_name           497\n",
       "last_name            497\n",
       "reg_date             497\n",
       "tariff               497\n",
       "month                 74\n",
       "message_quontity     571\n",
       "calls_quontity       114\n",
       "duration             114\n",
       "gb_used               85\n",
       "dtype: int64"
      ]
     },
     "execution_count": 27,
     "metadata": {},
     "output_type": "execute_result"
    }
   ],
   "source": [
    "final_data.isna().sum()"
   ]
  },
  {
   "cell_type": "markdown",
   "metadata": {},
   "source": [
    "С помощью метода len() и unique() проверим получилось ли перенести все данные из таблицы users. </b></font><br> Число пользователей не изменилось."
   ]
  },
  {
   "cell_type": "code",
   "execution_count": 28,
   "metadata": {},
   "outputs": [
    {
     "data": {
      "text/plain": [
       "500"
      ]
     },
     "execution_count": 28,
     "metadata": {},
     "output_type": "execute_result"
    }
   ],
   "source": [
    "len(final_data['user_id'].unique())"
   ]
  },
  {
   "cell_type": "markdown",
   "metadata": {},
   "source": [
    "С помощью функции count_overrun посчитаем прибыли по каждому месяцу. Если перерасхода по пакету услуг не было, то будет засчитана абонентская плата (если был, то абонентская плата + перерасход). </b></font><br>Проверим результат, выведем столбец revenue на экран."
   ]
  },
  {
   "cell_type": "code",
   "execution_count": 29,
   "metadata": {},
   "outputs": [
    {
     "data": {
      "text/html": [
       "<div>\n",
       "<style scoped>\n",
       "    .dataframe tbody tr th:only-of-type {\n",
       "        vertical-align: middle;\n",
       "    }\n",
       "\n",
       "    .dataframe tbody tr th {\n",
       "        vertical-align: top;\n",
       "    }\n",
       "\n",
       "    .dataframe thead th {\n",
       "        text-align: right;\n",
       "    }\n",
       "</style>\n",
       "<table border=\"1\" class=\"dataframe\">\n",
       "  <thead>\n",
       "    <tr style=\"text-align: right;\">\n",
       "      <th></th>\n",
       "      <th>messages_included</th>\n",
       "      <th>mb_per_month_included</th>\n",
       "      <th>minutes_included</th>\n",
       "      <th>rub_monthly_fee</th>\n",
       "      <th>rub_per_gb</th>\n",
       "      <th>rub_per_message</th>\n",
       "      <th>rub_per_minute</th>\n",
       "      <th>tariff_name</th>\n",
       "      <th>gb_per_month_included</th>\n",
       "    </tr>\n",
       "  </thead>\n",
       "  <tbody>\n",
       "    <tr>\n",
       "      <th>0</th>\n",
       "      <td>50</td>\n",
       "      <td>15360</td>\n",
       "      <td>500</td>\n",
       "      <td>550</td>\n",
       "      <td>200</td>\n",
       "      <td>3</td>\n",
       "      <td>3</td>\n",
       "      <td>smart</td>\n",
       "      <td>15.0</td>\n",
       "    </tr>\n",
       "    <tr>\n",
       "      <th>1</th>\n",
       "      <td>1000</td>\n",
       "      <td>30720</td>\n",
       "      <td>3000</td>\n",
       "      <td>1950</td>\n",
       "      <td>150</td>\n",
       "      <td>1</td>\n",
       "      <td>1</td>\n",
       "      <td>ultra</td>\n",
       "      <td>30.0</td>\n",
       "    </tr>\n",
       "  </tbody>\n",
       "</table>\n",
       "</div>"
      ],
      "text/plain": [
       "   messages_included  mb_per_month_included  minutes_included  \\\n",
       "0                 50                  15360               500   \n",
       "1               1000                  30720              3000   \n",
       "\n",
       "   rub_monthly_fee  rub_per_gb  rub_per_message  rub_per_minute tariff_name  \\\n",
       "0              550         200                3               3       smart   \n",
       "1             1950         150                1               1       ultra   \n",
       "\n",
       "   gb_per_month_included  \n",
       "0                   15.0  \n",
       "1                   30.0  "
      ]
     },
     "execution_count": 29,
     "metadata": {},
     "output_type": "execute_result"
    }
   ],
   "source": [
    "tariffs"
   ]
  },
  {
   "cell_type": "code",
   "execution_count": 30,
   "metadata": {},
   "outputs": [
    {
     "data": {
      "text/plain": [
       "0       1950.0\n",
       "1       1950.0\n",
       "2       1950.0\n",
       "3       1950.0\n",
       "4       1950.0\n",
       "         ...  \n",
       "3283       NaN\n",
       "3284       NaN\n",
       "3285       NaN\n",
       "3286       NaN\n",
       "3287       NaN\n",
       "Name: revenue, Length: 3288, dtype: float64"
      ]
     },
     "execution_count": 30,
     "metadata": {},
     "output_type": "execute_result"
    }
   ],
   "source": [
    "def count_overrun(row):\n",
    "    messages_overrun = 0\n",
    "    minutes_overrun = 0\n",
    "    gb_overrun = 0\n",
    "    smart_monthly_pay = 550\n",
    "    ultra_monthly_pay = 1950\n",
    "    \n",
    "    if row['tariff'] == 'ultra':\n",
    "        if (row['message_quontity'] - 1000)>0:     \n",
    "            messages_overrun = (row['message_id'] - 1000)*1\n",
    "        else:\n",
    "            messages_overrun = 0\n",
    "        if (row['duration']-3000)>0:     \n",
    "            minutes_overrun = (row['message_quontity'] - 3000)*1\n",
    "        else:\n",
    "            minutes_overrun = 0    \n",
    "        if (row['gb_used']-30)>0: \n",
    "            gb_overrun = (row['gb_used'] - 30)*150\n",
    "        else:\n",
    "            gb_overrun = 0    \n",
    "        return ultra_monthly_pay + messages_overrun + minutes_overrun + gb_overrun\n",
    "    \n",
    "    if (row['tariff'] == 'smart'):\n",
    "        if (row['message_quontity'] - 50)>0:     \n",
    "            messages_overrun = (row['message_quontity'] - 50)*3\n",
    "        else:\n",
    "            messages_overrun = 0\n",
    "        if (row['duration']-500)>0:     \n",
    "            minutes_overrun = (row['duration'] - 500)*3\n",
    "        else:\n",
    "            minutes_overrun = 0    \n",
    "        if (row['gb_used']-15)>0: \n",
    "            gb_overrun = (row['gb_used'] - 15)*200\n",
    "        else:\n",
    "            gb_overrun = 0                         \n",
    "        return smart_monthly_pay + messages_overrun + minutes_overrun + gb_overrun  \n",
    "\n",
    "final_data['revenue'] = final_data.apply(count_overrun, axis=1)\n",
    "final_data['revenue']"
   ]
  },
  {
   "cell_type": "markdown",
   "metadata": {},
   "source": [
    "Выведем последние десять строк датафрейма  final_data на экран."
   ]
  },
  {
   "cell_type": "code",
   "execution_count": 31,
   "metadata": {},
   "outputs": [
    {
     "data": {
      "text/html": [
       "<div>\n",
       "<style scoped>\n",
       "    .dataframe tbody tr th:only-of-type {\n",
       "        vertical-align: middle;\n",
       "    }\n",
       "\n",
       "    .dataframe tbody tr th {\n",
       "        vertical-align: top;\n",
       "    }\n",
       "\n",
       "    .dataframe thead th {\n",
       "        text-align: right;\n",
       "    }\n",
       "</style>\n",
       "<table border=\"1\" class=\"dataframe\">\n",
       "  <thead>\n",
       "    <tr style=\"text-align: right;\">\n",
       "      <th></th>\n",
       "      <th>user_id</th>\n",
       "      <th>age</th>\n",
       "      <th>churn_date</th>\n",
       "      <th>city</th>\n",
       "      <th>first_name</th>\n",
       "      <th>last_name</th>\n",
       "      <th>reg_date</th>\n",
       "      <th>tariff</th>\n",
       "      <th>month</th>\n",
       "      <th>message_quontity</th>\n",
       "      <th>calls_quontity</th>\n",
       "      <th>duration</th>\n",
       "      <th>gb_used</th>\n",
       "      <th>revenue</th>\n",
       "    </tr>\n",
       "  </thead>\n",
       "  <tbody>\n",
       "    <tr>\n",
       "      <th>3278</th>\n",
       "      <td>1479</td>\n",
       "      <td>NaN</td>\n",
       "      <td>NaT</td>\n",
       "      <td>NaN</td>\n",
       "      <td>NaN</td>\n",
       "      <td>NaN</td>\n",
       "      <td>NaT</td>\n",
       "      <td>NaN</td>\n",
       "      <td>9.0</td>\n",
       "      <td>NaN</td>\n",
       "      <td>98.0</td>\n",
       "      <td>799.0</td>\n",
       "      <td>0.0</td>\n",
       "      <td>NaN</td>\n",
       "    </tr>\n",
       "    <tr>\n",
       "      <th>3279</th>\n",
       "      <td>1479</td>\n",
       "      <td>NaN</td>\n",
       "      <td>NaT</td>\n",
       "      <td>NaN</td>\n",
       "      <td>NaN</td>\n",
       "      <td>NaN</td>\n",
       "      <td>NaT</td>\n",
       "      <td>NaN</td>\n",
       "      <td>10.0</td>\n",
       "      <td>NaN</td>\n",
       "      <td>83.0</td>\n",
       "      <td>640.0</td>\n",
       "      <td>1.0</td>\n",
       "      <td>NaN</td>\n",
       "    </tr>\n",
       "    <tr>\n",
       "      <th>3280</th>\n",
       "      <td>1479</td>\n",
       "      <td>NaN</td>\n",
       "      <td>NaT</td>\n",
       "      <td>NaN</td>\n",
       "      <td>NaN</td>\n",
       "      <td>NaN</td>\n",
       "      <td>NaT</td>\n",
       "      <td>NaN</td>\n",
       "      <td>11.0</td>\n",
       "      <td>NaN</td>\n",
       "      <td>79.0</td>\n",
       "      <td>465.0</td>\n",
       "      <td>1.0</td>\n",
       "      <td>NaN</td>\n",
       "    </tr>\n",
       "    <tr>\n",
       "      <th>3281</th>\n",
       "      <td>1479</td>\n",
       "      <td>NaN</td>\n",
       "      <td>NaT</td>\n",
       "      <td>NaN</td>\n",
       "      <td>NaN</td>\n",
       "      <td>NaN</td>\n",
       "      <td>NaT</td>\n",
       "      <td>NaN</td>\n",
       "      <td>12.0</td>\n",
       "      <td>NaN</td>\n",
       "      <td>81.0</td>\n",
       "      <td>576.0</td>\n",
       "      <td>1.0</td>\n",
       "      <td>NaN</td>\n",
       "    </tr>\n",
       "    <tr>\n",
       "      <th>3282</th>\n",
       "      <td>1494</td>\n",
       "      <td>NaN</td>\n",
       "      <td>NaT</td>\n",
       "      <td>NaN</td>\n",
       "      <td>NaN</td>\n",
       "      <td>NaN</td>\n",
       "      <td>NaT</td>\n",
       "      <td>NaN</td>\n",
       "      <td>8.0</td>\n",
       "      <td>NaN</td>\n",
       "      <td>32.0</td>\n",
       "      <td>262.0</td>\n",
       "      <td>1.0</td>\n",
       "      <td>NaN</td>\n",
       "    </tr>\n",
       "    <tr>\n",
       "      <th>3283</th>\n",
       "      <td>1494</td>\n",
       "      <td>NaN</td>\n",
       "      <td>NaT</td>\n",
       "      <td>NaN</td>\n",
       "      <td>NaN</td>\n",
       "      <td>NaN</td>\n",
       "      <td>NaT</td>\n",
       "      <td>NaN</td>\n",
       "      <td>9.0</td>\n",
       "      <td>NaN</td>\n",
       "      <td>66.0</td>\n",
       "      <td>501.0</td>\n",
       "      <td>1.0</td>\n",
       "      <td>NaN</td>\n",
       "    </tr>\n",
       "    <tr>\n",
       "      <th>3284</th>\n",
       "      <td>1494</td>\n",
       "      <td>NaN</td>\n",
       "      <td>NaT</td>\n",
       "      <td>NaN</td>\n",
       "      <td>NaN</td>\n",
       "      <td>NaN</td>\n",
       "      <td>NaT</td>\n",
       "      <td>NaN</td>\n",
       "      <td>10.0</td>\n",
       "      <td>NaN</td>\n",
       "      <td>52.0</td>\n",
       "      <td>354.0</td>\n",
       "      <td>0.0</td>\n",
       "      <td>NaN</td>\n",
       "    </tr>\n",
       "    <tr>\n",
       "      <th>3285</th>\n",
       "      <td>1494</td>\n",
       "      <td>NaN</td>\n",
       "      <td>NaT</td>\n",
       "      <td>NaN</td>\n",
       "      <td>NaN</td>\n",
       "      <td>NaN</td>\n",
       "      <td>NaT</td>\n",
       "      <td>NaN</td>\n",
       "      <td>11.0</td>\n",
       "      <td>NaN</td>\n",
       "      <td>63.0</td>\n",
       "      <td>411.0</td>\n",
       "      <td>1.0</td>\n",
       "      <td>NaN</td>\n",
       "    </tr>\n",
       "    <tr>\n",
       "      <th>3286</th>\n",
       "      <td>1494</td>\n",
       "      <td>NaN</td>\n",
       "      <td>NaT</td>\n",
       "      <td>NaN</td>\n",
       "      <td>NaN</td>\n",
       "      <td>NaN</td>\n",
       "      <td>NaT</td>\n",
       "      <td>NaN</td>\n",
       "      <td>12.0</td>\n",
       "      <td>NaN</td>\n",
       "      <td>62.0</td>\n",
       "      <td>418.0</td>\n",
       "      <td>1.0</td>\n",
       "      <td>NaN</td>\n",
       "    </tr>\n",
       "    <tr>\n",
       "      <th>3287</th>\n",
       "      <td>1476</td>\n",
       "      <td>NaN</td>\n",
       "      <td>NaT</td>\n",
       "      <td>NaN</td>\n",
       "      <td>NaN</td>\n",
       "      <td>NaN</td>\n",
       "      <td>NaT</td>\n",
       "      <td>NaN</td>\n",
       "      <td>4.0</td>\n",
       "      <td>NaN</td>\n",
       "      <td>NaN</td>\n",
       "      <td>NaN</td>\n",
       "      <td>1.0</td>\n",
       "      <td>NaN</td>\n",
       "    </tr>\n",
       "  </tbody>\n",
       "</table>\n",
       "</div>"
      ],
      "text/plain": [
       "      user_id  age churn_date city first_name last_name reg_date tariff  \\\n",
       "3278     1479  NaN        NaT  NaN        NaN       NaN      NaT    NaN   \n",
       "3279     1479  NaN        NaT  NaN        NaN       NaN      NaT    NaN   \n",
       "3280     1479  NaN        NaT  NaN        NaN       NaN      NaT    NaN   \n",
       "3281     1479  NaN        NaT  NaN        NaN       NaN      NaT    NaN   \n",
       "3282     1494  NaN        NaT  NaN        NaN       NaN      NaT    NaN   \n",
       "3283     1494  NaN        NaT  NaN        NaN       NaN      NaT    NaN   \n",
       "3284     1494  NaN        NaT  NaN        NaN       NaN      NaT    NaN   \n",
       "3285     1494  NaN        NaT  NaN        NaN       NaN      NaT    NaN   \n",
       "3286     1494  NaN        NaT  NaN        NaN       NaN      NaT    NaN   \n",
       "3287     1476  NaN        NaT  NaN        NaN       NaN      NaT    NaN   \n",
       "\n",
       "      month  message_quontity  calls_quontity  duration  gb_used  revenue  \n",
       "3278    9.0               NaN            98.0     799.0      0.0      NaN  \n",
       "3279   10.0               NaN            83.0     640.0      1.0      NaN  \n",
       "3280   11.0               NaN            79.0     465.0      1.0      NaN  \n",
       "3281   12.0               NaN            81.0     576.0      1.0      NaN  \n",
       "3282    8.0               NaN            32.0     262.0      1.0      NaN  \n",
       "3283    9.0               NaN            66.0     501.0      1.0      NaN  \n",
       "3284   10.0               NaN            52.0     354.0      0.0      NaN  \n",
       "3285   11.0               NaN            63.0     411.0      1.0      NaN  \n",
       "3286   12.0               NaN            62.0     418.0      1.0      NaN  \n",
       "3287    4.0               NaN             NaN       NaN      1.0      NaN  "
      ]
     },
     "execution_count": 31,
     "metadata": {},
     "output_type": "execute_result"
    }
   ],
   "source": [
    " final_data.tail(10)"
   ]
  },
  {
   "cell_type": "markdown",
   "metadata": {},
   "source": [
    "## Aнализ данных"
   ]
  },
  {
   "cell_type": "markdown",
   "metadata": {},
   "source": [
    "Создадим таблицу с данными по пользователям, которые подключены к тарифу \"Ультра\". Выведем ее на экран."
   ]
  },
  {
   "cell_type": "code",
   "execution_count": 32,
   "metadata": {},
   "outputs": [
    {
     "data": {
      "text/html": [
       "<div>\n",
       "<style scoped>\n",
       "    .dataframe tbody tr th:only-of-type {\n",
       "        vertical-align: middle;\n",
       "    }\n",
       "\n",
       "    .dataframe tbody tr th {\n",
       "        vertical-align: top;\n",
       "    }\n",
       "\n",
       "    .dataframe thead th {\n",
       "        text-align: right;\n",
       "    }\n",
       "</style>\n",
       "<table border=\"1\" class=\"dataframe\">\n",
       "  <thead>\n",
       "    <tr style=\"text-align: right;\">\n",
       "      <th></th>\n",
       "      <th>user_id</th>\n",
       "      <th>age</th>\n",
       "      <th>churn_date</th>\n",
       "      <th>city</th>\n",
       "      <th>first_name</th>\n",
       "      <th>last_name</th>\n",
       "      <th>reg_date</th>\n",
       "      <th>tariff</th>\n",
       "      <th>month</th>\n",
       "      <th>message_quontity</th>\n",
       "      <th>calls_quontity</th>\n",
       "      <th>duration</th>\n",
       "      <th>gb_used</th>\n",
       "      <th>revenue</th>\n",
       "    </tr>\n",
       "  </thead>\n",
       "  <tbody>\n",
       "    <tr>\n",
       "      <th>0</th>\n",
       "      <td>1000</td>\n",
       "      <td>52.0</td>\n",
       "      <td>NaT</td>\n",
       "      <td>Краснодар</td>\n",
       "      <td>Рафаил</td>\n",
       "      <td>Верещагин</td>\n",
       "      <td>2018-05-25</td>\n",
       "      <td>ultra</td>\n",
       "      <td>5.0</td>\n",
       "      <td>22.0</td>\n",
       "      <td>22.0</td>\n",
       "      <td>159.0</td>\n",
       "      <td>1.0</td>\n",
       "      <td>1950.0</td>\n",
       "    </tr>\n",
       "    <tr>\n",
       "      <th>1</th>\n",
       "      <td>1000</td>\n",
       "      <td>52.0</td>\n",
       "      <td>NaT</td>\n",
       "      <td>Краснодар</td>\n",
       "      <td>Рафаил</td>\n",
       "      <td>Верещагин</td>\n",
       "      <td>2018-05-25</td>\n",
       "      <td>ultra</td>\n",
       "      <td>6.0</td>\n",
       "      <td>60.0</td>\n",
       "      <td>43.0</td>\n",
       "      <td>172.0</td>\n",
       "      <td>2.0</td>\n",
       "      <td>1950.0</td>\n",
       "    </tr>\n",
       "    <tr>\n",
       "      <th>2</th>\n",
       "      <td>1000</td>\n",
       "      <td>52.0</td>\n",
       "      <td>NaT</td>\n",
       "      <td>Краснодар</td>\n",
       "      <td>Рафаил</td>\n",
       "      <td>Верещагин</td>\n",
       "      <td>2018-05-25</td>\n",
       "      <td>ultra</td>\n",
       "      <td>7.0</td>\n",
       "      <td>75.0</td>\n",
       "      <td>47.0</td>\n",
       "      <td>340.0</td>\n",
       "      <td>2.0</td>\n",
       "      <td>1950.0</td>\n",
       "    </tr>\n",
       "    <tr>\n",
       "      <th>3</th>\n",
       "      <td>1000</td>\n",
       "      <td>52.0</td>\n",
       "      <td>NaT</td>\n",
       "      <td>Краснодар</td>\n",
       "      <td>Рафаил</td>\n",
       "      <td>Верещагин</td>\n",
       "      <td>2018-05-25</td>\n",
       "      <td>ultra</td>\n",
       "      <td>8.0</td>\n",
       "      <td>81.0</td>\n",
       "      <td>52.0</td>\n",
       "      <td>408.0</td>\n",
       "      <td>1.0</td>\n",
       "      <td>1950.0</td>\n",
       "    </tr>\n",
       "    <tr>\n",
       "      <th>4</th>\n",
       "      <td>1000</td>\n",
       "      <td>52.0</td>\n",
       "      <td>NaT</td>\n",
       "      <td>Краснодар</td>\n",
       "      <td>Рафаил</td>\n",
       "      <td>Верещагин</td>\n",
       "      <td>2018-05-25</td>\n",
       "      <td>ultra</td>\n",
       "      <td>9.0</td>\n",
       "      <td>57.0</td>\n",
       "      <td>58.0</td>\n",
       "      <td>466.0</td>\n",
       "      <td>1.0</td>\n",
       "      <td>1950.0</td>\n",
       "    </tr>\n",
       "    <tr>\n",
       "      <th>5</th>\n",
       "      <td>1000</td>\n",
       "      <td>52.0</td>\n",
       "      <td>NaT</td>\n",
       "      <td>Краснодар</td>\n",
       "      <td>Рафаил</td>\n",
       "      <td>Верещагин</td>\n",
       "      <td>2018-05-25</td>\n",
       "      <td>ultra</td>\n",
       "      <td>10.0</td>\n",
       "      <td>73.0</td>\n",
       "      <td>57.0</td>\n",
       "      <td>350.0</td>\n",
       "      <td>1.0</td>\n",
       "      <td>1950.0</td>\n",
       "    </tr>\n",
       "    <tr>\n",
       "      <th>6</th>\n",
       "      <td>1000</td>\n",
       "      <td>52.0</td>\n",
       "      <td>NaT</td>\n",
       "      <td>Краснодар</td>\n",
       "      <td>Рафаил</td>\n",
       "      <td>Верещагин</td>\n",
       "      <td>2018-05-25</td>\n",
       "      <td>ultra</td>\n",
       "      <td>11.0</td>\n",
       "      <td>58.0</td>\n",
       "      <td>43.0</td>\n",
       "      <td>338.0</td>\n",
       "      <td>1.0</td>\n",
       "      <td>1950.0</td>\n",
       "    </tr>\n",
       "    <tr>\n",
       "      <th>7</th>\n",
       "      <td>1000</td>\n",
       "      <td>52.0</td>\n",
       "      <td>NaT</td>\n",
       "      <td>Краснодар</td>\n",
       "      <td>Рафаил</td>\n",
       "      <td>Верещагин</td>\n",
       "      <td>2018-05-25</td>\n",
       "      <td>ultra</td>\n",
       "      <td>12.0</td>\n",
       "      <td>70.0</td>\n",
       "      <td>46.0</td>\n",
       "      <td>333.0</td>\n",
       "      <td>1.0</td>\n",
       "      <td>1950.0</td>\n",
       "    </tr>\n",
       "    <tr>\n",
       "      <th>16</th>\n",
       "      <td>1003</td>\n",
       "      <td>23.0</td>\n",
       "      <td>NaT</td>\n",
       "      <td>Москва</td>\n",
       "      <td>Белла</td>\n",
       "      <td>Белякова</td>\n",
       "      <td>2018-08-17</td>\n",
       "      <td>ultra</td>\n",
       "      <td>8.0</td>\n",
       "      <td>37.0</td>\n",
       "      <td>55.0</td>\n",
       "      <td>380.0</td>\n",
       "      <td>1.0</td>\n",
       "      <td>1950.0</td>\n",
       "    </tr>\n",
       "    <tr>\n",
       "      <th>17</th>\n",
       "      <td>1003</td>\n",
       "      <td>23.0</td>\n",
       "      <td>NaT</td>\n",
       "      <td>Москва</td>\n",
       "      <td>Белла</td>\n",
       "      <td>Белякова</td>\n",
       "      <td>2018-08-17</td>\n",
       "      <td>ultra</td>\n",
       "      <td>9.0</td>\n",
       "      <td>91.0</td>\n",
       "      <td>134.0</td>\n",
       "      <td>961.0</td>\n",
       "      <td>1.0</td>\n",
       "      <td>1950.0</td>\n",
       "    </tr>\n",
       "  </tbody>\n",
       "</table>\n",
       "</div>"
      ],
      "text/plain": [
       "    user_id   age churn_date       city first_name  last_name   reg_date  \\\n",
       "0      1000  52.0        NaT  Краснодар     Рафаил  Верещагин 2018-05-25   \n",
       "1      1000  52.0        NaT  Краснодар     Рафаил  Верещагин 2018-05-25   \n",
       "2      1000  52.0        NaT  Краснодар     Рафаил  Верещагин 2018-05-25   \n",
       "3      1000  52.0        NaT  Краснодар     Рафаил  Верещагин 2018-05-25   \n",
       "4      1000  52.0        NaT  Краснодар     Рафаил  Верещагин 2018-05-25   \n",
       "5      1000  52.0        NaT  Краснодар     Рафаил  Верещагин 2018-05-25   \n",
       "6      1000  52.0        NaT  Краснодар     Рафаил  Верещагин 2018-05-25   \n",
       "7      1000  52.0        NaT  Краснодар     Рафаил  Верещагин 2018-05-25   \n",
       "16     1003  23.0        NaT     Москва      Белла   Белякова 2018-08-17   \n",
       "17     1003  23.0        NaT     Москва      Белла   Белякова 2018-08-17   \n",
       "\n",
       "   tariff  month  message_quontity  calls_quontity  duration  gb_used  revenue  \n",
       "0   ultra    5.0              22.0            22.0     159.0      1.0   1950.0  \n",
       "1   ultra    6.0              60.0            43.0     172.0      2.0   1950.0  \n",
       "2   ultra    7.0              75.0            47.0     340.0      2.0   1950.0  \n",
       "3   ultra    8.0              81.0            52.0     408.0      1.0   1950.0  \n",
       "4   ultra    9.0              57.0            58.0     466.0      1.0   1950.0  \n",
       "5   ultra   10.0              73.0            57.0     350.0      1.0   1950.0  \n",
       "6   ultra   11.0              58.0            43.0     338.0      1.0   1950.0  \n",
       "7   ultra   12.0              70.0            46.0     333.0      1.0   1950.0  \n",
       "16  ultra    8.0              37.0            55.0     380.0      1.0   1950.0  \n",
       "17  ultra    9.0              91.0           134.0     961.0      1.0   1950.0  "
      ]
     },
     "execution_count": 32,
     "metadata": {},
     "output_type": "execute_result"
    }
   ],
   "source": [
    "final_data_ultra = final_data[final_data['tariff'] == 'ultra']\n",
    "final_data_ultra.head(10)"
   ]
  },
  {
   "cell_type": "markdown",
   "metadata": {},
   "source": [
    "С помощью метода plot() построим гистограмму и проверим, как распределяются значения в столбеце message_quontity.\n",
    "С помощью describe() получим статистику по данному столбцу. </b></font><br>\n",
    "В среднем пользователи отправляют около 57 сообщений в месяц, стандартное отклоненение составляет 42.</b></font><br>\n",
    "Среднее значение не превышает количество сообщений в тарифе - 1000 смс."
   ]
  },
  {
   "cell_type": "code",
   "execution_count": 33,
   "metadata": {},
   "outputs": [
    {
     "data": {
      "text/plain": [
       "count    795.000000\n",
       "mean      61.161006\n",
       "std       45.931026\n",
       "min        1.000000\n",
       "25%       24.000000\n",
       "50%       51.000000\n",
       "75%       87.500000\n",
       "max      224.000000\n",
       "Name: message_quontity, dtype: float64"
      ]
     },
     "execution_count": 33,
     "metadata": {},
     "output_type": "execute_result"
    },
    {
     "data": {
      "image/png": "[encoded data removed]",
      "text/plain": [
       "<Figure size 900x400 with 1 Axes>"
      ]
     },
     "metadata": {},
     "output_type": "display_data"
    }
   ],
   "source": [
    "final_data_ultra.plot(y = 'message_quontity', kind = 'hist', bins = 60, grid=True, figsize = (9,4), range = (0,250))\n",
    "final_data_ultra['message_quontity'].describe()"
   ]
  },
  {
   "cell_type": "markdown",
   "metadata": {},
   "source": [
    "Можем проверить, правильно ли посчитали стандартное отколонение 45. Посчитаем дисперсию с помощью метода var().</b></font><br> Дисперсия составила 1817, квадратный корень из дисперсии - это стандартное отклонение составит 42. Стандартное отклонение посчитано верно."
   ]
  },
  {
   "cell_type": "code",
   "execution_count": 34,
   "metadata": {},
   "outputs": [
    {
     "data": {
      "text/plain": [
       "2107.005523515688"
      ]
     },
     "execution_count": 34,
     "metadata": {},
     "output_type": "execute_result"
    }
   ],
   "source": [
    "np.var(final_data_ultra['message_quontity'])"
   ]
  },
  {
   "cell_type": "code",
   "execution_count": 35,
   "metadata": {},
   "outputs": [
    {
     "data": {
      "text/html": [
       "<div>\n",
       "<style scoped>\n",
       "    .dataframe tbody tr th:only-of-type {\n",
       "        vertical-align: middle;\n",
       "    }\n",
       "\n",
       "    .dataframe tbody tr th {\n",
       "        vertical-align: top;\n",
       "    }\n",
       "\n",
       "    .dataframe thead tr th {\n",
       "        text-align: left;\n",
       "    }\n",
       "\n",
       "    .dataframe thead tr:last-of-type th {\n",
       "        text-align: right;\n",
       "    }\n",
       "</style>\n",
       "<table border=\"1\" class=\"dataframe\">\n",
       "  <thead>\n",
       "    <tr>\n",
       "      <th></th>\n",
       "      <th>mean</th>\n",
       "      <th>var</th>\n",
       "      <th>std</th>\n",
       "      <th>median</th>\n",
       "    </tr>\n",
       "    <tr>\n",
       "      <th></th>\n",
       "      <th>message_quontity</th>\n",
       "      <th>message_quontity</th>\n",
       "      <th>message_quontity</th>\n",
       "      <th>message_quontity</th>\n",
       "    </tr>\n",
       "    <tr>\n",
       "      <th>tariff</th>\n",
       "      <th></th>\n",
       "      <th></th>\n",
       "      <th></th>\n",
       "      <th></th>\n",
       "    </tr>\n",
       "  </thead>\n",
       "  <tbody>\n",
       "    <tr>\n",
       "      <th>ultra</th>\n",
       "      <td>61.161006</td>\n",
       "      <td>2109.659183</td>\n",
       "      <td>45.931026</td>\n",
       "      <td>51.0</td>\n",
       "    </tr>\n",
       "  </tbody>\n",
       "</table>\n",
       "</div>"
      ],
      "text/plain": [
       "                   mean              var              std           median\n",
       "       message_quontity message_quontity message_quontity message_quontity\n",
       "tariff                                                                    \n",
       "ultra         61.161006      2109.659183        45.931026             51.0"
      ]
     },
     "execution_count": 35,
     "metadata": {},
     "output_type": "execute_result"
    }
   ],
   "source": [
    "final_data_ultra.pivot_table(index= 'tariff', values= 'message_quontity', aggfunc= ['mean', 'var','std', 'median'])"
   ]
  },
  {
   "cell_type": "markdown",
   "metadata": {},
   "source": [
    "С помощью метода plot() построим гистограмму и проверим, как распределяются значения в столбеце calls_duration.\n",
    "С помощью describe() получим статистику по данному столбцу.  </b></font><br>\n",
    "В среднем длительность звонков пользователей составляет 568 минут, стандартное отклоненение составляет 298. </b></font><br>\n",
    "Среднее значение не превышает количество минут в тарифе - 3000 мин."
   ]
  },
  {
   "cell_type": "code",
   "execution_count": 36,
   "metadata": {},
   "outputs": [
    {
     "data": {
      "text/plain": [
       "count     762.000000\n",
       "mean      552.460630\n",
       "std       312.274277\n",
       "min         0.000000\n",
       "25%       320.500000\n",
       "50%       533.000000\n",
       "75%       758.500000\n",
       "max      1673.000000\n",
       "Name: duration, dtype: float64"
      ]
     },
     "execution_count": 36,
     "metadata": {},
     "output_type": "execute_result"
    },
    {
     "data": {
      "image/png": "[encoded data removed]",
      "text/plain": [
       "<Figure size 900x400 with 1 Axes>"
      ]
     },
     "metadata": {},
     "output_type": "display_data"
    }
   ],
   "source": [
    "final_data_ultra.plot(y = 'duration', kind = 'hist', bins = 40, grid=True, figsize = (9,4), range = (0,1700))\n",
    "final_data_ultra['duration'].describe()"
   ]
  },
  {
   "cell_type": "markdown",
   "metadata": {},
   "source": [
    "С помощью метода plot() построим гистограмму и проверим, как распределяются значения в столбеце gb_used.\n",
    "С помощью describe() получим статистику по данному столбцу.  </b></font><br>\n",
    "В среднем пользователи используют 0,8 Гб в месяц, стандартное отклоненение составляет 0,3 Гб. </b></font><br>\n",
    "Среднее значение не превышает количество минут в тарифе - 150 Гб."
   ]
  },
  {
   "cell_type": "code",
   "execution_count": 37,
   "metadata": {},
   "outputs": [
    {
     "data": {
      "text/plain": [
       "count    785.000000\n",
       "mean       0.857325\n",
       "std        0.381358\n",
       "min        0.000000\n",
       "25%        1.000000\n",
       "50%        1.000000\n",
       "75%        1.000000\n",
       "max        2.000000\n",
       "Name: gb_used, dtype: float64"
      ]
     },
     "execution_count": 37,
     "metadata": {},
     "output_type": "execute_result"
    },
    {
     "data": {
      "image/png": "[encoded data removed]",
      "text/plain": [
       "<Figure size 900x400 with 1 Axes>"
      ]
     },
     "metadata": {},
     "output_type": "display_data"
    }
   ],
   "source": [
    "final_data_ultra.plot(y = 'gb_used', kind = 'hist', bins = 20, grid=True, figsize = (9,4), range = (0,3))\n",
    "final_data_ultra['gb_used'].describe()"
   ]
  },
  {
   "cell_type": "markdown",
   "metadata": {},
   "source": [
    "Создадим таблицу с данными по пользователям, которые подключены к тарифу \"Смарт\". Выведем ее на экран."
   ]
  },
  {
   "cell_type": "code",
   "execution_count": 38,
   "metadata": {},
   "outputs": [
    {
     "data": {
      "text/html": [
       "<div>\n",
       "<style scoped>\n",
       "    .dataframe tbody tr th:only-of-type {\n",
       "        vertical-align: middle;\n",
       "    }\n",
       "\n",
       "    .dataframe tbody tr th {\n",
       "        vertical-align: top;\n",
       "    }\n",
       "\n",
       "    .dataframe thead th {\n",
       "        text-align: right;\n",
       "    }\n",
       "</style>\n",
       "<table border=\"1\" class=\"dataframe\">\n",
       "  <thead>\n",
       "    <tr style=\"text-align: right;\">\n",
       "      <th></th>\n",
       "      <th>user_id</th>\n",
       "      <th>age</th>\n",
       "      <th>churn_date</th>\n",
       "      <th>city</th>\n",
       "      <th>first_name</th>\n",
       "      <th>last_name</th>\n",
       "      <th>reg_date</th>\n",
       "      <th>tariff</th>\n",
       "      <th>month</th>\n",
       "      <th>message_quontity</th>\n",
       "      <th>calls_quontity</th>\n",
       "      <th>duration</th>\n",
       "      <th>gb_used</th>\n",
       "      <th>revenue</th>\n",
       "    </tr>\n",
       "  </thead>\n",
       "  <tbody>\n",
       "    <tr>\n",
       "      <th>8</th>\n",
       "      <td>1001</td>\n",
       "      <td>41.0</td>\n",
       "      <td>NaT</td>\n",
       "      <td>Москва</td>\n",
       "      <td>Иван</td>\n",
       "      <td>Ежов</td>\n",
       "      <td>2018-11-01</td>\n",
       "      <td>smart</td>\n",
       "      <td>NaN</td>\n",
       "      <td>NaN</td>\n",
       "      <td>NaN</td>\n",
       "      <td>NaN</td>\n",
       "      <td>NaN</td>\n",
       "      <td>550.0</td>\n",
       "    </tr>\n",
       "    <tr>\n",
       "      <th>9</th>\n",
       "      <td>1002</td>\n",
       "      <td>59.0</td>\n",
       "      <td>NaT</td>\n",
       "      <td>Стерлитамак</td>\n",
       "      <td>Евгений</td>\n",
       "      <td>Абрамович</td>\n",
       "      <td>2018-06-17</td>\n",
       "      <td>smart</td>\n",
       "      <td>6.0</td>\n",
       "      <td>4.0</td>\n",
       "      <td>15.0</td>\n",
       "      <td>117.0</td>\n",
       "      <td>1.0</td>\n",
       "      <td>550.0</td>\n",
       "    </tr>\n",
       "    <tr>\n",
       "      <th>10</th>\n",
       "      <td>1002</td>\n",
       "      <td>59.0</td>\n",
       "      <td>NaT</td>\n",
       "      <td>Стерлитамак</td>\n",
       "      <td>Евгений</td>\n",
       "      <td>Абрамович</td>\n",
       "      <td>2018-06-17</td>\n",
       "      <td>smart</td>\n",
       "      <td>7.0</td>\n",
       "      <td>11.0</td>\n",
       "      <td>26.0</td>\n",
       "      <td>214.0</td>\n",
       "      <td>0.0</td>\n",
       "      <td>550.0</td>\n",
       "    </tr>\n",
       "    <tr>\n",
       "      <th>11</th>\n",
       "      <td>1002</td>\n",
       "      <td>59.0</td>\n",
       "      <td>NaT</td>\n",
       "      <td>Стерлитамак</td>\n",
       "      <td>Евгений</td>\n",
       "      <td>Абрамович</td>\n",
       "      <td>2018-06-17</td>\n",
       "      <td>smart</td>\n",
       "      <td>8.0</td>\n",
       "      <td>13.0</td>\n",
       "      <td>42.0</td>\n",
       "      <td>289.0</td>\n",
       "      <td>1.0</td>\n",
       "      <td>550.0</td>\n",
       "    </tr>\n",
       "    <tr>\n",
       "      <th>12</th>\n",
       "      <td>1002</td>\n",
       "      <td>59.0</td>\n",
       "      <td>NaT</td>\n",
       "      <td>Стерлитамак</td>\n",
       "      <td>Евгений</td>\n",
       "      <td>Абрамович</td>\n",
       "      <td>2018-06-17</td>\n",
       "      <td>smart</td>\n",
       "      <td>9.0</td>\n",
       "      <td>4.0</td>\n",
       "      <td>36.0</td>\n",
       "      <td>206.0</td>\n",
       "      <td>1.0</td>\n",
       "      <td>550.0</td>\n",
       "    </tr>\n",
       "    <tr>\n",
       "      <th>13</th>\n",
       "      <td>1002</td>\n",
       "      <td>59.0</td>\n",
       "      <td>NaT</td>\n",
       "      <td>Стерлитамак</td>\n",
       "      <td>Евгений</td>\n",
       "      <td>Абрамович</td>\n",
       "      <td>2018-06-17</td>\n",
       "      <td>smart</td>\n",
       "      <td>10.0</td>\n",
       "      <td>10.0</td>\n",
       "      <td>33.0</td>\n",
       "      <td>212.0</td>\n",
       "      <td>1.0</td>\n",
       "      <td>550.0</td>\n",
       "    </tr>\n",
       "    <tr>\n",
       "      <th>14</th>\n",
       "      <td>1002</td>\n",
       "      <td>59.0</td>\n",
       "      <td>NaT</td>\n",
       "      <td>Стерлитамак</td>\n",
       "      <td>Евгений</td>\n",
       "      <td>Абрамович</td>\n",
       "      <td>2018-06-17</td>\n",
       "      <td>smart</td>\n",
       "      <td>11.0</td>\n",
       "      <td>16.0</td>\n",
       "      <td>32.0</td>\n",
       "      <td>243.0</td>\n",
       "      <td>1.0</td>\n",
       "      <td>550.0</td>\n",
       "    </tr>\n",
       "    <tr>\n",
       "      <th>15</th>\n",
       "      <td>1002</td>\n",
       "      <td>59.0</td>\n",
       "      <td>NaT</td>\n",
       "      <td>Стерлитамак</td>\n",
       "      <td>Евгений</td>\n",
       "      <td>Абрамович</td>\n",
       "      <td>2018-06-17</td>\n",
       "      <td>smart</td>\n",
       "      <td>12.0</td>\n",
       "      <td>12.0</td>\n",
       "      <td>33.0</td>\n",
       "      <td>236.0</td>\n",
       "      <td>1.0</td>\n",
       "      <td>550.0</td>\n",
       "    </tr>\n",
       "    <tr>\n",
       "      <th>29</th>\n",
       "      <td>1005</td>\n",
       "      <td>67.0</td>\n",
       "      <td>NaT</td>\n",
       "      <td>Набережные Челны</td>\n",
       "      <td>Афанасий</td>\n",
       "      <td>Горлов</td>\n",
       "      <td>2018-01-25</td>\n",
       "      <td>smart</td>\n",
       "      <td>1.0</td>\n",
       "      <td>7.0</td>\n",
       "      <td>15.0</td>\n",
       "      <td>95.0</td>\n",
       "      <td>1.0</td>\n",
       "      <td>550.0</td>\n",
       "    </tr>\n",
       "    <tr>\n",
       "      <th>30</th>\n",
       "      <td>1005</td>\n",
       "      <td>67.0</td>\n",
       "      <td>NaT</td>\n",
       "      <td>Набережные Челны</td>\n",
       "      <td>Афанасий</td>\n",
       "      <td>Горлов</td>\n",
       "      <td>2018-01-25</td>\n",
       "      <td>smart</td>\n",
       "      <td>2.0</td>\n",
       "      <td>38.0</td>\n",
       "      <td>69.0</td>\n",
       "      <td>456.0</td>\n",
       "      <td>1.0</td>\n",
       "      <td>550.0</td>\n",
       "    </tr>\n",
       "  </tbody>\n",
       "</table>\n",
       "</div>"
      ],
      "text/plain": [
       "    user_id   age churn_date              city first_name  last_name  \\\n",
       "8      1001  41.0        NaT            Москва       Иван       Ежов   \n",
       "9      1002  59.0        NaT       Стерлитамак    Евгений  Абрамович   \n",
       "10     1002  59.0        NaT       Стерлитамак    Евгений  Абрамович   \n",
       "11     1002  59.0        NaT       Стерлитамак    Евгений  Абрамович   \n",
       "12     1002  59.0        NaT       Стерлитамак    Евгений  Абрамович   \n",
       "13     1002  59.0        NaT       Стерлитамак    Евгений  Абрамович   \n",
       "14     1002  59.0        NaT       Стерлитамак    Евгений  Абрамович   \n",
       "15     1002  59.0        NaT       Стерлитамак    Евгений  Абрамович   \n",
       "29     1005  67.0        NaT  Набережные Челны   Афанасий     Горлов   \n",
       "30     1005  67.0        NaT  Набережные Челны   Афанасий     Горлов   \n",
       "\n",
       "     reg_date tariff  month  message_quontity  calls_quontity  duration  \\\n",
       "8  2018-11-01  smart    NaN               NaN             NaN       NaN   \n",
       "9  2018-06-17  smart    6.0               4.0            15.0     117.0   \n",
       "10 2018-06-17  smart    7.0              11.0            26.0     214.0   \n",
       "11 2018-06-17  smart    8.0              13.0            42.0     289.0   \n",
       "12 2018-06-17  smart    9.0               4.0            36.0     206.0   \n",
       "13 2018-06-17  smart   10.0              10.0            33.0     212.0   \n",
       "14 2018-06-17  smart   11.0              16.0            32.0     243.0   \n",
       "15 2018-06-17  smart   12.0              12.0            33.0     236.0   \n",
       "29 2018-01-25  smart    1.0               7.0            15.0      95.0   \n",
       "30 2018-01-25  smart    2.0              38.0            69.0     456.0   \n",
       "\n",
       "    gb_used  revenue  \n",
       "8       NaN    550.0  \n",
       "9       1.0    550.0  \n",
       "10      0.0    550.0  \n",
       "11      1.0    550.0  \n",
       "12      1.0    550.0  \n",
       "13      1.0    550.0  \n",
       "14      1.0    550.0  \n",
       "15      1.0    550.0  \n",
       "29      1.0    550.0  \n",
       "30      1.0    550.0  "
      ]
     },
     "execution_count": 38,
     "metadata": {},
     "output_type": "execute_result"
    }
   ],
   "source": [
    "final_data_smart = final_data[final_data['tariff'] == 'smart']\n",
    "final_data_smart.head(10)"
   ]
  },
  {
   "cell_type": "markdown",
   "metadata": {},
   "source": [
    "С помощью метода plot() построим гистограмму и проверим, как распределяются значения в столбеце message_quontity. С помощью describe() получим статистику по данному столбцу. </b></font><br>\n",
    "В среднем пользователи отправляют около 39 сообщений в месяц, стандартное отклоненение составляет 25. </b></font><br>\n",
    "Среднее значение не превышает количество сообщений в тарифе - 50 смс."
   ]
  },
  {
   "cell_type": "code",
   "execution_count": 39,
   "metadata": {},
   "outputs": [
    {
     "data": {
      "text/plain": [
       "count    1922.000000\n",
       "mean       38.716441\n",
       "std        26.787949\n",
       "min         1.000000\n",
       "25%        17.000000\n",
       "50%        34.000000\n",
       "75%        55.000000\n",
       "max       143.000000\n",
       "Name: message_quontity, dtype: float64"
      ]
     },
     "execution_count": 39,
     "metadata": {},
     "output_type": "execute_result"
    },
    {
     "data": {
      "image/png": "[encoded data removed]",
      "text/plain": [
       "<Figure size 900x400 with 1 Axes>"
      ]
     },
     "metadata": {},
     "output_type": "display_data"
    }
   ],
   "source": [
    "final_data_smart.plot(y = 'message_quontity', kind = 'hist', bins = 60, grid=True, figsize = (9,4), range = (0,150))\n",
    "final_data_smart['message_quontity'].describe()"
   ]
  },
  {
   "cell_type": "markdown",
   "metadata": {},
   "source": [
    "С помощью метода plot() построим гистограмму и проверим, как распределяются значения в столбеце calls_duration.\n",
    "С помощью describe() получим статистику по данному столбцу.  </b></font><br>\n",
    "В среднем длительность звонков пользователей составляет 417 минут, стандартное отклоненение составляет 183. </b></font><br>\n",
    "Среднее значение не превышает количество минут в тарифе - 500 мин."
   ]
  },
  {
   "cell_type": "code",
   "execution_count": 40,
   "metadata": {},
   "outputs": [
    {
     "data": {
      "text/plain": [
       "count    1916.000000\n",
       "mean      420.841336\n",
       "std       187.855127\n",
       "min         0.000000\n",
       "25%       287.000000\n",
       "50%       427.000000\n",
       "75%       547.000000\n",
       "max      1435.000000\n",
       "Name: duration, dtype: float64"
      ]
     },
     "execution_count": 40,
     "metadata": {},
     "output_type": "execute_result"
    },
    {
     "data": {
      "image/png": "[encoded data removed]",
      "text/plain": [
       "<Figure size 900x400 with 1 Axes>"
      ]
     },
     "metadata": {},
     "output_type": "display_data"
    }
   ],
   "source": [
    "final_data_smart.plot(y = 'duration', kind = 'hist', bins = 60, grid=True, figsize = (9,4), range = (0,1500))\n",
    "final_data_smart['duration'].describe()"
   ]
  },
  {
   "cell_type": "markdown",
   "metadata": {},
   "source": [
    "С помощью метода plot() построим гистограмму и проверим, как распределяются значения в столбеце gb_used.\n",
    "С помощью describe() получим статистику по данному столбцу.  </b></font><br>\n",
    "В среднем пользователи используют 0,8 Гб в месяц, стандартное отклоненение составляет 0,3 Гб. </b></font><br>\n",
    "Среднее значение превышает количество минут в тарифе - 15 Гб."
   ]
  },
  {
   "cell_type": "code",
   "execution_count": 41,
   "metadata": {
    "scrolled": false
   },
   "outputs": [
    {
     "data": {
      "text/plain": [
       "count    1921.000000\n",
       "mean        0.864133\n",
       "std         0.377449\n",
       "min         0.000000\n",
       "25%         1.000000\n",
       "50%         1.000000\n",
       "75%         1.000000\n",
       "max         2.000000\n",
       "Name: gb_used, dtype: float64"
      ]
     },
     "execution_count": 41,
     "metadata": {},
     "output_type": "execute_result"
    },
    {
     "data": {
      "image/png": "[encoded data removed]",
      "text/plain": [
       "<Figure size 900x400 with 1 Axes>"
      ]
     },
     "metadata": {},
     "output_type": "display_data"
    }
   ],
   "source": [
    "final_data_smart.plot(y = 'gb_used', kind = 'hist', bins = 10, grid=True, figsize = (9,4), range = (0,2))\n",
    "final_data_smart['gb_used'].describe()"
   ]
  },
  {
   "cell_type": "markdown",
   "metadata": {},
   "source": [
    "### Вывод"
   ]
  },
  {
   "cell_type": "markdown",
   "metadata": {},
   "source": [
    "Пользователи тарифов \"Смарт\" и \"Ультра\" в среднем не превышают лимит в пакетах услуг. "
   ]
  },
  {
   "cell_type": "markdown",
   "metadata": {},
   "source": [
    "## Проверка гипотез"
   ]
  },
  {
   "cell_type": "markdown",
   "metadata": {},
   "source": [
    "Проверим следующие гипотезы:\n",
    "    \n",
    "    H0: Средняя выручка по тарифам \"Смарт\" и \"Ультра\" равны.\n",
    "    H1: Средние значения выручки  \"Смарт\" и \"Ультра\" не равны."
   ]
  },
  {
   "cell_type": "code",
   "execution_count": 42,
   "metadata": {},
   "outputs": [],
   "source": [
    "smart_revenue = final_data[final_data['tariff'] == 'smart']\n",
    "ultra_revenue = final_data[final_data['tariff'] != 'ultra']"
   ]
  },
  {
   "cell_type": "code",
   "execution_count": 43,
   "metadata": {},
   "outputs": [
    {
     "name": "stdout",
     "output_type": "stream",
     "text": [
      "p-значение: 1.0\n",
      "Не получилось отвергнуть нулевую гипотезу\n"
     ]
    }
   ],
   "source": [
    "alpha = .05\n",
    "\n",
    "results = st.ttest_ind(\n",
    "    smart_revenue['revenue'], \n",
    "    ultra_revenue['revenue'], nan_policy='omit')\n",
    "\n",
    "print('p-значение:', results.pvalue)\n",
    "\n",
    "if results.pvalue < alpha:\n",
    "    print(\"Отвергаем нулевую гипотезу\")\n",
    "else:\n",
    "    print(\"Не получилось отвергнуть нулевую гипотезу\") "
   ]
  },
  {
   "cell_type": "markdown",
   "metadata": {},
   "source": [
    "Проверка показала, что выручки по тарифам \"Смарт\" и \"Ультра\" равны."
   ]
  },
  {
   "cell_type": "markdown",
   "metadata": {},
   "source": [
    "Проверим следующие гипотезы:\n",
    "\n",
    "    H0: средняя выручка от пользователей из Москвы и других регионов равны.\n",
    "    H1: средняя выручка от пользователей из Москвы не равна выручке от пользователе из других регионов."
   ]
  },
  {
   "cell_type": "code",
   "execution_count": 44,
   "metadata": {},
   "outputs": [],
   "source": [
    "users_moscow = final_data[final_data['city'] == 'Москва']\n",
    "users_regions = final_data[final_data['city'] != 'Москва']"
   ]
  },
  {
   "cell_type": "code",
   "execution_count": 45,
   "metadata": {},
   "outputs": [
    {
     "name": "stdout",
     "output_type": "stream",
     "text": [
      "p-значение: 1.8842970411330044e-06\n",
      "Отвергаем нулевую гипотезу\n"
     ]
    }
   ],
   "source": [
    "alpha = .05\n",
    "\n",
    "results = st.ttest_ind(\n",
    "    users_moscow['revenue'], \n",
    "    users_regions['revenue'], nan_policy='omit')\n",
    "\n",
    "print('p-значение:', results.pvalue)\n",
    "\n",
    "if results.pvalue < alpha:\n",
    "    print(\"Отвергаем нулевую гипотезу\")\n",
    "else:\n",
    "    print(\"Не получилось отвергнуть нулевую гипотезу\") "
   ]
  },
  {
   "cell_type": "markdown",
   "metadata": {},
   "source": [
    "Проверка гипотез показала, что средняя выручка от пользователей из Москвы отличается от средней выручки от пользователей из регионов."
   ]
  },
  {
   "cell_type": "markdown",
   "metadata": {},
   "source": [
    "## Общий вывод:"
   ]
  },
  {
   "cell_type": "markdown",
   "metadata": {},
   "source": [
    "Мы провели исследование двух тарифных планов \"Смарт\" и \"Ультра\". </font><br>\n",
    "Выяснили, что пользователи тарифов в среднем не превышают лимиты по пакетам услуг.  </font><br>\n",
    "Проверили гипотезы и выяснили, что средяя выручка по тарифу \"Ультра\" равна выручке по тарифу \"Смарт\", средняя выручка от пользователей Москвы не равна выручке от пользователей из других регионов."
   ]
  }
 ],
 "metadata": {
  "ExecuteTimeLog": [
   {
    "duration": 2107,
    "start_time": "2022-06-29T05:50:18.926Z"
   },
   {
    "duration": 408,
    "start_time": "2022-06-29T05:50:46.698Z"
   },
   {
    "duration": 356,
    "start_time": "2022-06-29T05:51:10.119Z"
   },
   {
    "duration": 385,
    "start_time": "2022-06-29T05:51:28.907Z"
   },
   {
    "duration": 365,
    "start_time": "2022-06-29T05:51:44.168Z"
   },
   {
    "duration": 361,
    "start_time": "2022-06-29T05:54:34.639Z"
   },
   {
    "duration": 362,
    "start_time": "2022-06-29T05:54:54.639Z"
   },
   {
    "duration": 362,
    "start_time": "2022-06-29T05:59:44.548Z"
   },
   {
    "duration": 352,
    "start_time": "2022-06-29T06:00:11.522Z"
   },
   {
    "duration": 8,
    "start_time": "2022-06-29T06:00:37.974Z"
   },
   {
    "duration": 8,
    "start_time": "2022-06-29T06:00:53.974Z"
   },
   {
    "duration": 7,
    "start_time": "2022-06-29T06:01:27.757Z"
   },
   {
    "duration": 7,
    "start_time": "2022-06-29T06:01:31.262Z"
   },
   {
    "duration": 8,
    "start_time": "2022-06-29T06:01:32.708Z"
   },
   {
    "duration": 18,
    "start_time": "2022-06-29T06:11:53.912Z"
   },
   {
    "duration": 11,
    "start_time": "2022-06-29T06:12:32.208Z"
   },
   {
    "duration": 20,
    "start_time": "2022-06-29T06:12:58.785Z"
   },
   {
    "duration": 25,
    "start_time": "2022-06-29T06:13:08.784Z"
   },
   {
    "duration": 9,
    "start_time": "2022-06-29T06:13:11.860Z"
   },
   {
    "duration": 365,
    "start_time": "2022-06-29T06:13:18.408Z"
   },
   {
    "duration": 10,
    "start_time": "2022-06-29T06:13:18.774Z"
   },
   {
    "duration": 8,
    "start_time": "2022-06-29T06:13:18.847Z"
   },
   {
    "duration": 20,
    "start_time": "2022-06-29T06:13:19.037Z"
   },
   {
    "duration": 9,
    "start_time": "2022-06-29T06:13:19.237Z"
   },
   {
    "duration": 19,
    "start_time": "2022-06-29T06:13:19.440Z"
   },
   {
    "duration": 8,
    "start_time": "2022-06-29T06:13:19.644Z"
   },
   {
    "duration": 26,
    "start_time": "2022-06-29T06:13:19.845Z"
   },
   {
    "duration": 8,
    "start_time": "2022-06-29T06:14:08.482Z"
   },
   {
    "duration": 8,
    "start_time": "2022-06-29T06:14:30.066Z"
   },
   {
    "duration": 23,
    "start_time": "2022-06-29T06:14:33.516Z"
   },
   {
    "duration": 19,
    "start_time": "2022-06-29T06:14:44.182Z"
   },
   {
    "duration": 1259,
    "start_time": "2022-06-29T09:55:02.189Z"
   },
   {
    "duration": 1771,
    "start_time": "2022-06-29T16:26:36.675Z"
   },
   {
    "duration": 15,
    "start_time": "2022-06-29T16:26:41.012Z"
   },
   {
    "duration": 9,
    "start_time": "2022-06-29T16:26:42.572Z"
   },
   {
    "duration": 8,
    "start_time": "2022-06-29T16:30:32.126Z"
   },
   {
    "duration": 27,
    "start_time": "2022-06-29T16:30:32.591Z"
   },
   {
    "duration": 400,
    "start_time": "2022-06-29T16:32:27.846Z"
   },
   {
    "duration": 12,
    "start_time": "2022-06-29T16:32:32.529Z"
   },
   {
    "duration": 17,
    "start_time": "2022-06-29T16:32:52.223Z"
   },
   {
    "duration": 10,
    "start_time": "2022-06-29T16:32:53.865Z"
   },
   {
    "duration": 43,
    "start_time": "2022-06-29T16:32:54.667Z"
   },
   {
    "duration": 12,
    "start_time": "2022-06-29T16:32:58.178Z"
   },
   {
    "duration": 25,
    "start_time": "2022-06-29T16:33:00.055Z"
   },
   {
    "duration": 9,
    "start_time": "2022-06-29T16:33:47.607Z"
   },
   {
    "duration": 22,
    "start_time": "2022-06-29T16:33:48.093Z"
   },
   {
    "duration": 11,
    "start_time": "2022-06-29T16:34:17.556Z"
   },
   {
    "duration": 22,
    "start_time": "2022-06-29T16:34:18.093Z"
   },
   {
    "duration": 415,
    "start_time": "2022-06-29T16:36:07.642Z"
   },
   {
    "duration": 14,
    "start_time": "2022-06-29T16:36:58.502Z"
   },
   {
    "duration": 12,
    "start_time": "2022-06-29T16:36:58.987Z"
   },
   {
    "duration": 4,
    "start_time": "2022-06-29T16:38:44.514Z"
   },
   {
    "duration": 6,
    "start_time": "2022-06-29T17:02:53.200Z"
   },
   {
    "duration": 10,
    "start_time": "2022-06-29T17:03:05.002Z"
   },
   {
    "duration": 39,
    "start_time": "2022-06-29T17:04:35.143Z"
   },
   {
    "duration": 29,
    "start_time": "2022-06-29T17:08:28.916Z"
   },
   {
    "duration": 18,
    "start_time": "2022-06-29T17:10:17.402Z"
   },
   {
    "duration": 22,
    "start_time": "2022-06-29T17:11:22.195Z"
   },
   {
    "duration": 15,
    "start_time": "2022-06-29T17:11:30.786Z"
   },
   {
    "duration": 9,
    "start_time": "2022-06-29T17:13:36.466Z"
   },
   {
    "duration": 11,
    "start_time": "2022-06-29T17:13:55.779Z"
   },
   {
    "duration": 29,
    "start_time": "2022-06-29T17:13:56.346Z"
   },
   {
    "duration": 28,
    "start_time": "2022-06-29T17:13:56.920Z"
   },
   {
    "duration": 79,
    "start_time": "2022-06-29T17:13:57.651Z"
   },
   {
    "duration": 16,
    "start_time": "2022-06-29T17:27:04.778Z"
   },
   {
    "duration": 12,
    "start_time": "2022-06-29T17:27:45.004Z"
   },
   {
    "duration": 20,
    "start_time": "2022-06-29T17:31:27.295Z"
   },
   {
    "duration": 18,
    "start_time": "2022-06-29T17:31:45.205Z"
   },
   {
    "duration": 15,
    "start_time": "2022-06-29T17:32:00.589Z"
   },
   {
    "duration": 8,
    "start_time": "2022-06-29T17:34:19.190Z"
   },
   {
    "duration": 7,
    "start_time": "2022-06-29T17:34:33.594Z"
   },
   {
    "duration": 5,
    "start_time": "2022-06-29T17:40:25.811Z"
   },
   {
    "duration": 10,
    "start_time": "2022-06-29T17:40:35.265Z"
   },
   {
    "duration": 5,
    "start_time": "2022-06-29T17:40:39.711Z"
   },
   {
    "duration": 75,
    "start_time": "2022-06-29T17:40:50.632Z"
   },
   {
    "duration": 1241,
    "start_time": "2022-06-29T17:40:56.610Z"
   },
   {
    "duration": 18,
    "start_time": "2022-06-29T17:40:57.854Z"
   },
   {
    "duration": 17,
    "start_time": "2022-06-29T17:40:57.875Z"
   },
   {
    "duration": 12,
    "start_time": "2022-06-29T17:40:57.894Z"
   },
   {
    "duration": 46,
    "start_time": "2022-06-29T17:40:57.907Z"
   },
   {
    "duration": 9,
    "start_time": "2022-06-29T17:40:57.985Z"
   },
   {
    "duration": 23,
    "start_time": "2022-06-29T17:40:58.211Z"
   },
   {
    "duration": 10,
    "start_time": "2022-06-29T17:40:58.636Z"
   },
   {
    "duration": 21,
    "start_time": "2022-06-29T17:40:58.881Z"
   },
   {
    "duration": 11,
    "start_time": "2022-06-29T17:40:59.276Z"
   },
   {
    "duration": 13,
    "start_time": "2022-06-29T17:40:59.479Z"
   },
   {
    "duration": 9,
    "start_time": "2022-06-29T17:41:00.798Z"
   },
   {
    "duration": 8,
    "start_time": "2022-06-29T17:41:01.021Z"
   },
   {
    "duration": 44,
    "start_time": "2022-06-29T17:41:01.255Z"
   },
   {
    "duration": 35,
    "start_time": "2022-06-29T17:41:01.479Z"
   },
   {
    "duration": 23,
    "start_time": "2022-06-29T17:41:01.702Z"
   },
   {
    "duration": 17,
    "start_time": "2022-06-29T17:41:01.946Z"
   },
   {
    "duration": 7,
    "start_time": "2022-06-29T17:41:02.229Z"
   },
   {
    "duration": 7,
    "start_time": "2022-06-29T17:41:02.565Z"
   },
   {
    "duration": 6,
    "start_time": "2022-06-29T17:41:02.848Z"
   },
   {
    "duration": 10,
    "start_time": "2022-06-29T17:49:53.307Z"
   },
   {
    "duration": 46,
    "start_time": "2022-06-29T17:50:12.497Z"
   },
   {
    "duration": 8,
    "start_time": "2022-06-29T17:50:28.998Z"
   },
   {
    "duration": 7,
    "start_time": "2022-06-29T17:53:45.318Z"
   },
   {
    "duration": 9,
    "start_time": "2022-06-29T17:53:48.497Z"
   },
   {
    "duration": 7,
    "start_time": "2022-06-29T17:54:27.737Z"
   },
   {
    "duration": 8,
    "start_time": "2022-06-29T17:54:28.405Z"
   },
   {
    "duration": 9,
    "start_time": "2022-06-29T18:02:27.860Z"
   },
   {
    "duration": 6,
    "start_time": "2022-06-29T18:06:20.501Z"
   },
   {
    "duration": 2589,
    "start_time": "2022-07-01T14:42:43.536Z"
   },
   {
    "duration": 20,
    "start_time": "2022-07-01T14:42:46.128Z"
   },
   {
    "duration": 17,
    "start_time": "2022-07-01T14:42:46.150Z"
   },
   {
    "duration": 12,
    "start_time": "2022-07-01T14:42:46.169Z"
   },
   {
    "duration": 25,
    "start_time": "2022-07-01T14:42:46.183Z"
   },
   {
    "duration": 10,
    "start_time": "2022-07-01T14:42:48.536Z"
   },
   {
    "duration": 21,
    "start_time": "2022-07-01T14:42:48.727Z"
   },
   {
    "duration": 8,
    "start_time": "2022-07-01T14:42:49.112Z"
   },
   {
    "duration": 29,
    "start_time": "2022-07-01T14:42:49.292Z"
   },
   {
    "duration": 12,
    "start_time": "2022-07-01T14:42:49.659Z"
   },
   {
    "duration": 16,
    "start_time": "2022-07-01T14:42:49.842Z"
   },
   {
    "duration": 10,
    "start_time": "2022-07-01T14:42:51.200Z"
   },
   {
    "duration": 8,
    "start_time": "2022-07-01T14:42:51.403Z"
   },
   {
    "duration": 37,
    "start_time": "2022-07-01T14:42:51.584Z"
   },
   {
    "duration": 28,
    "start_time": "2022-07-01T14:42:51.784Z"
   },
   {
    "duration": 25,
    "start_time": "2022-07-01T14:42:51.970Z"
   },
   {
    "duration": 17,
    "start_time": "2022-07-01T14:42:52.164Z"
   },
   {
    "duration": 7,
    "start_time": "2022-07-01T14:42:52.368Z"
   },
   {
    "duration": 6,
    "start_time": "2022-07-01T14:42:52.796Z"
   },
   {
    "duration": 6,
    "start_time": "2022-07-01T14:42:53.209Z"
   },
   {
    "duration": 78,
    "start_time": "2022-07-01T14:44:00.918Z"
   },
   {
    "duration": 98,
    "start_time": "2022-07-01T14:44:53.936Z"
   },
   {
    "duration": 96,
    "start_time": "2022-07-01T14:45:03.808Z"
   },
   {
    "duration": 89,
    "start_time": "2022-07-01T14:51:48.613Z"
   },
   {
    "duration": 91,
    "start_time": "2022-07-01T14:58:00.235Z"
   },
   {
    "duration": 93,
    "start_time": "2022-07-01T14:58:14.404Z"
   },
   {
    "duration": 11,
    "start_time": "2022-07-01T15:03:34.304Z"
   },
   {
    "duration": 10,
    "start_time": "2022-07-01T15:09:50.791Z"
   },
   {
    "duration": 12,
    "start_time": "2022-07-01T15:10:03.485Z"
   },
   {
    "duration": 178,
    "start_time": "2022-07-01T15:10:29.686Z"
   },
   {
    "duration": 6,
    "start_time": "2022-07-01T15:10:54.171Z"
   },
   {
    "duration": 175,
    "start_time": "2022-07-01T15:10:59.473Z"
   },
   {
    "duration": 179,
    "start_time": "2022-07-01T15:11:10.147Z"
   },
   {
    "duration": 189,
    "start_time": "2022-07-01T15:11:18.516Z"
   },
   {
    "duration": 7,
    "start_time": "2022-07-01T15:14:26.425Z"
   },
   {
    "duration": 59,
    "start_time": "2022-07-01T15:18:48.252Z"
   },
   {
    "duration": 68,
    "start_time": "2022-07-01T15:22:40.610Z"
   },
   {
    "duration": 72,
    "start_time": "2022-07-01T15:22:55.054Z"
   },
   {
    "duration": 55,
    "start_time": "2022-07-01T15:29:31.541Z"
   },
   {
    "duration": 72,
    "start_time": "2022-07-01T15:29:37.336Z"
   },
   {
    "duration": 64,
    "start_time": "2022-07-01T15:31:10.137Z"
   },
   {
    "duration": 5,
    "start_time": "2022-07-01T15:31:46.391Z"
   },
   {
    "duration": 9,
    "start_time": "2022-07-01T15:31:54.212Z"
   },
   {
    "duration": 9,
    "start_time": "2022-07-01T15:32:09.662Z"
   },
   {
    "duration": 47,
    "start_time": "2022-07-01T15:32:20.402Z"
   },
   {
    "duration": 6,
    "start_time": "2022-07-01T15:43:38.158Z"
   },
   {
    "duration": 11,
    "start_time": "2022-07-01T15:43:45.916Z"
   },
   {
    "duration": 9,
    "start_time": "2022-07-01T15:56:11.103Z"
   },
   {
    "duration": 15,
    "start_time": "2022-07-01T15:58:29.182Z"
   },
   {
    "duration": 38,
    "start_time": "2022-07-01T16:18:56.090Z"
   },
   {
    "duration": 37,
    "start_time": "2022-07-01T16:19:07.120Z"
   },
   {
    "duration": 14,
    "start_time": "2022-07-01T16:19:32.102Z"
   },
   {
    "duration": 30,
    "start_time": "2022-07-01T16:20:33.208Z"
   },
   {
    "duration": 39,
    "start_time": "2022-07-01T16:20:53.403Z"
   },
   {
    "duration": 69,
    "start_time": "2022-07-01T16:21:31.732Z"
   },
   {
    "duration": 32,
    "start_time": "2022-07-01T16:21:41.542Z"
   },
   {
    "duration": 14,
    "start_time": "2022-07-01T16:22:14.554Z"
   },
   {
    "duration": 1314,
    "start_time": "2022-07-01T16:23:01.495Z"
   },
   {
    "duration": 19,
    "start_time": "2022-07-01T16:23:20.203Z"
   },
   {
    "duration": 13,
    "start_time": "2022-07-01T16:40:59.300Z"
   },
   {
    "duration": 11,
    "start_time": "2022-07-01T16:42:44.524Z"
   },
   {
    "duration": 9,
    "start_time": "2022-07-01T16:45:08.100Z"
   },
   {
    "duration": 8,
    "start_time": "2022-07-01T16:49:32.420Z"
   },
   {
    "duration": 18,
    "start_time": "2022-07-01T16:50:01.914Z"
   },
   {
    "duration": 330,
    "start_time": "2022-07-01T16:51:47.424Z"
   },
   {
    "duration": 24,
    "start_time": "2022-07-01T16:53:21.827Z"
   },
   {
    "duration": 9,
    "start_time": "2022-07-01T17:01:36.549Z"
   },
   {
    "duration": 6,
    "start_time": "2022-07-01T17:01:54.727Z"
   },
   {
    "duration": 8,
    "start_time": "2022-07-01T17:01:55.266Z"
   },
   {
    "duration": 1112,
    "start_time": "2022-07-01T17:03:15.354Z"
   },
   {
    "duration": 13,
    "start_time": "2022-07-01T17:03:16.468Z"
   },
   {
    "duration": 16,
    "start_time": "2022-07-01T17:03:16.483Z"
   },
   {
    "duration": 12,
    "start_time": "2022-07-01T17:03:16.501Z"
   },
   {
    "duration": 24,
    "start_time": "2022-07-01T17:03:16.515Z"
   },
   {
    "duration": 20,
    "start_time": "2022-07-01T17:03:16.541Z"
   },
   {
    "duration": 23,
    "start_time": "2022-07-01T17:03:16.563Z"
   },
   {
    "duration": 8,
    "start_time": "2022-07-01T17:03:16.588Z"
   },
   {
    "duration": 21,
    "start_time": "2022-07-01T17:03:16.597Z"
   },
   {
    "duration": 8,
    "start_time": "2022-07-01T17:03:16.621Z"
   },
   {
    "duration": 24,
    "start_time": "2022-07-01T17:03:16.630Z"
   },
   {
    "duration": 10,
    "start_time": "2022-07-01T17:03:16.656Z"
   },
   {
    "duration": 19,
    "start_time": "2022-07-01T17:03:16.668Z"
   },
   {
    "duration": 79,
    "start_time": "2022-07-01T17:03:16.689Z"
   },
   {
    "duration": 49,
    "start_time": "2022-07-01T17:03:16.770Z"
   },
   {
    "duration": 60,
    "start_time": "2022-07-01T17:03:16.822Z"
   },
   {
    "duration": 24,
    "start_time": "2022-07-01T17:03:16.885Z"
   },
   {
    "duration": 7,
    "start_time": "2022-07-01T17:03:16.911Z"
   },
   {
    "duration": 77,
    "start_time": "2022-07-01T17:03:16.920Z"
   },
   {
    "duration": 8,
    "start_time": "2022-07-01T17:03:16.999Z"
   },
   {
    "duration": 23,
    "start_time": "2022-07-01T17:03:17.009Z"
   },
   {
    "duration": 21,
    "start_time": "2022-07-01T17:03:17.045Z"
   },
   {
    "duration": 21,
    "start_time": "2022-07-01T17:03:17.068Z"
   },
   {
    "duration": 13,
    "start_time": "2022-07-01T17:03:24.945Z"
   },
   {
    "duration": 10,
    "start_time": "2022-07-01T17:05:52.597Z"
   },
   {
    "duration": 10,
    "start_time": "2022-07-01T17:06:14.066Z"
   },
   {
    "duration": 96,
    "start_time": "2022-07-01T17:13:35.269Z"
   },
   {
    "duration": 295,
    "start_time": "2022-07-01T17:14:42.083Z"
   },
   {
    "duration": 315,
    "start_time": "2022-07-01T17:14:53.813Z"
   },
   {
    "duration": 35,
    "start_time": "2022-07-01T17:15:50.214Z"
   },
   {
    "duration": 24,
    "start_time": "2022-07-01T17:19:01.441Z"
   },
   {
    "duration": 44,
    "start_time": "2022-07-01T17:20:26.584Z"
   },
   {
    "duration": 13,
    "start_time": "2022-07-01T17:22:04.695Z"
   },
   {
    "duration": 44,
    "start_time": "2022-07-01T17:22:05.179Z"
   },
   {
    "duration": 417,
    "start_time": "2022-07-01T17:22:45.211Z"
   },
   {
    "duration": 41,
    "start_time": "2022-07-01T17:23:12.483Z"
   },
   {
    "duration": 1315,
    "start_time": "2022-07-01T17:27:39.923Z"
   },
   {
    "duration": 19,
    "start_time": "2022-07-01T17:27:41.241Z"
   },
   {
    "duration": 37,
    "start_time": "2022-07-01T17:27:41.262Z"
   },
   {
    "duration": 13,
    "start_time": "2022-07-01T17:27:41.302Z"
   },
   {
    "duration": 25,
    "start_time": "2022-07-01T17:27:41.317Z"
   },
   {
    "duration": 13,
    "start_time": "2022-07-01T17:27:41.344Z"
   },
   {
    "duration": 40,
    "start_time": "2022-07-01T17:27:41.359Z"
   },
   {
    "duration": 8,
    "start_time": "2022-07-01T17:27:41.401Z"
   },
   {
    "duration": 22,
    "start_time": "2022-07-01T17:27:41.411Z"
   },
   {
    "duration": 45,
    "start_time": "2022-07-01T17:27:41.435Z"
   },
   {
    "duration": 12,
    "start_time": "2022-07-01T17:27:41.483Z"
   },
   {
    "duration": 10,
    "start_time": "2022-07-01T17:27:41.497Z"
   },
   {
    "duration": 12,
    "start_time": "2022-07-01T17:27:41.509Z"
   },
   {
    "duration": 69,
    "start_time": "2022-07-01T17:27:41.522Z"
   },
   {
    "duration": 64,
    "start_time": "2022-07-01T17:27:41.593Z"
   },
   {
    "duration": 41,
    "start_time": "2022-07-01T17:27:41.663Z"
   },
   {
    "duration": 23,
    "start_time": "2022-07-01T17:27:41.706Z"
   },
   {
    "duration": 34,
    "start_time": "2022-07-01T17:27:41.730Z"
   },
   {
    "duration": 73,
    "start_time": "2022-07-01T17:27:41.766Z"
   },
   {
    "duration": 20,
    "start_time": "2022-07-01T17:27:41.841Z"
   },
   {
    "duration": 21,
    "start_time": "2022-07-01T17:27:41.868Z"
   },
   {
    "duration": 16,
    "start_time": "2022-07-01T17:27:41.891Z"
   },
   {
    "duration": 40,
    "start_time": "2022-07-01T17:27:41.909Z"
   },
   {
    "duration": 26,
    "start_time": "2022-07-01T17:27:41.951Z"
   },
   {
    "duration": 397,
    "start_time": "2022-07-01T17:27:41.979Z"
   },
   {
    "duration": 45,
    "start_time": "2022-07-01T17:27:42.377Z"
   },
   {
    "duration": 38,
    "start_time": "2022-07-01T17:28:50.378Z"
   },
   {
    "duration": 377,
    "start_time": "2022-07-01T17:28:53.593Z"
   },
   {
    "duration": 1163,
    "start_time": "2022-07-01T17:43:39.019Z"
   },
   {
    "duration": 16,
    "start_time": "2022-07-01T17:43:40.184Z"
   },
   {
    "duration": 14,
    "start_time": "2022-07-01T17:43:40.201Z"
   },
   {
    "duration": 12,
    "start_time": "2022-07-01T17:43:40.217Z"
   },
   {
    "duration": 39,
    "start_time": "2022-07-01T17:43:40.231Z"
   },
   {
    "duration": 11,
    "start_time": "2022-07-01T17:43:40.272Z"
   },
   {
    "duration": 27,
    "start_time": "2022-07-01T17:43:40.285Z"
   },
   {
    "duration": 8,
    "start_time": "2022-07-01T17:43:40.313Z"
   },
   {
    "duration": 47,
    "start_time": "2022-07-01T17:43:40.322Z"
   },
   {
    "duration": 17,
    "start_time": "2022-07-01T17:43:40.373Z"
   },
   {
    "duration": 14,
    "start_time": "2022-07-01T17:43:40.392Z"
   },
   {
    "duration": 10,
    "start_time": "2022-07-01T17:43:40.408Z"
   },
   {
    "duration": 25,
    "start_time": "2022-07-01T17:43:40.420Z"
   },
   {
    "duration": 71,
    "start_time": "2022-07-01T17:43:40.452Z"
   },
   {
    "duration": 52,
    "start_time": "2022-07-01T17:43:40.525Z"
   },
   {
    "duration": 37,
    "start_time": "2022-07-01T17:43:40.579Z"
   },
   {
    "duration": 37,
    "start_time": "2022-07-01T17:43:40.617Z"
   },
   {
    "duration": 6,
    "start_time": "2022-07-01T17:43:40.656Z"
   },
   {
    "duration": 54,
    "start_time": "2022-07-01T17:43:40.663Z"
   },
   {
    "duration": 6,
    "start_time": "2022-07-01T17:43:40.718Z"
   },
   {
    "duration": 16,
    "start_time": "2022-07-01T17:43:40.742Z"
   },
   {
    "duration": 30,
    "start_time": "2022-07-01T17:43:40.759Z"
   },
   {
    "duration": 39,
    "start_time": "2022-07-01T17:43:40.791Z"
   },
   {
    "duration": 32,
    "start_time": "2022-07-01T17:43:40.832Z"
   },
   {
    "duration": 57,
    "start_time": "2022-07-01T17:43:40.866Z"
   },
   {
    "duration": 395,
    "start_time": "2022-07-01T17:43:40.925Z"
   },
   {
    "duration": 44,
    "start_time": "2022-07-01T17:49:22.574Z"
   },
   {
    "duration": 371,
    "start_time": "2022-07-01T17:49:23.758Z"
   },
   {
    "duration": 33,
    "start_time": "2022-07-01T17:50:48.116Z"
   },
   {
    "duration": 26,
    "start_time": "2022-07-01T17:51:02.108Z"
   },
   {
    "duration": 456,
    "start_time": "2022-07-01T17:51:07.997Z"
   },
   {
    "duration": 1179,
    "start_time": "2022-07-01T17:51:26.403Z"
   },
   {
    "duration": 15,
    "start_time": "2022-07-01T17:51:27.584Z"
   },
   {
    "duration": 14,
    "start_time": "2022-07-01T17:51:27.600Z"
   },
   {
    "duration": 11,
    "start_time": "2022-07-01T17:51:27.617Z"
   },
   {
    "duration": 34,
    "start_time": "2022-07-01T17:51:27.630Z"
   },
   {
    "duration": 10,
    "start_time": "2022-07-01T17:51:28.165Z"
   },
   {
    "duration": 25,
    "start_time": "2022-07-01T17:51:28.829Z"
   },
   {
    "duration": 8,
    "start_time": "2022-07-01T17:51:29.703Z"
   },
   {
    "duration": 18,
    "start_time": "2022-07-01T17:51:29.996Z"
   },
   {
    "duration": 9,
    "start_time": "2022-07-01T17:51:30.504Z"
   },
   {
    "duration": 14,
    "start_time": "2022-07-01T17:51:30.756Z"
   },
   {
    "duration": 8,
    "start_time": "2022-07-01T17:51:31.830Z"
   },
   {
    "duration": 8,
    "start_time": "2022-07-01T17:51:32.069Z"
   },
   {
    "duration": 58,
    "start_time": "2022-07-01T17:51:32.277Z"
   },
   {
    "duration": 49,
    "start_time": "2022-07-01T17:51:32.501Z"
   },
   {
    "duration": 41,
    "start_time": "2022-07-01T17:51:32.722Z"
   },
   {
    "duration": 23,
    "start_time": "2022-07-01T17:51:32.966Z"
   },
   {
    "duration": 6,
    "start_time": "2022-07-01T17:51:33.178Z"
   },
   {
    "duration": 67,
    "start_time": "2022-07-01T17:51:33.415Z"
   },
   {
    "duration": 7,
    "start_time": "2022-07-01T17:51:33.663Z"
   },
   {
    "duration": 9,
    "start_time": "2022-07-01T17:51:33.891Z"
   },
   {
    "duration": 17,
    "start_time": "2022-07-01T17:51:34.703Z"
   },
   {
    "duration": 38,
    "start_time": "2022-07-01T17:51:35.314Z"
   },
   {
    "duration": 16,
    "start_time": "2022-07-01T17:51:36.263Z"
   },
   {
    "duration": 43,
    "start_time": "2022-07-01T17:51:37.710Z"
   },
   {
    "duration": 399,
    "start_time": "2022-07-01T17:51:38.440Z"
   },
   {
    "duration": 29,
    "start_time": "2022-07-01T17:52:10.993Z"
   },
   {
    "duration": 32,
    "start_time": "2022-07-01T17:52:28.471Z"
   },
   {
    "duration": 386,
    "start_time": "2022-07-01T17:52:42.623Z"
   },
   {
    "duration": 50,
    "start_time": "2022-07-01T17:52:58.558Z"
   },
   {
    "duration": 42,
    "start_time": "2022-07-01T17:53:18.910Z"
   },
   {
    "duration": 15,
    "start_time": "2022-07-01T17:57:49.694Z"
   },
   {
    "duration": 25,
    "start_time": "2022-07-01T17:59:47.858Z"
   },
   {
    "duration": 33,
    "start_time": "2022-07-01T18:00:04.462Z"
   },
   {
    "duration": 129,
    "start_time": "2022-07-01T18:34:47.976Z"
   },
   {
    "duration": 9,
    "start_time": "2022-07-01T18:52:51.490Z"
   },
   {
    "duration": 18,
    "start_time": "2022-07-01T19:00:00.872Z"
   },
   {
    "duration": 21,
    "start_time": "2022-07-01T19:04:07.883Z"
   },
   {
    "duration": 15,
    "start_time": "2022-07-01T19:12:51.673Z"
   },
   {
    "duration": 61,
    "start_time": "2022-07-01T19:13:07.421Z"
   },
   {
    "duration": 31,
    "start_time": "2022-07-01T19:15:40.733Z"
   },
   {
    "duration": 29,
    "start_time": "2022-07-01T19:16:26.099Z"
   },
   {
    "duration": 31,
    "start_time": "2022-07-01T19:22:57.868Z"
   },
   {
    "duration": 1760,
    "start_time": "2022-07-02T12:14:14.515Z"
   },
   {
    "duration": 22,
    "start_time": "2022-07-02T12:14:16.280Z"
   },
   {
    "duration": 17,
    "start_time": "2022-07-02T12:14:16.304Z"
   },
   {
    "duration": 36,
    "start_time": "2022-07-02T12:14:16.327Z"
   },
   {
    "duration": 28,
    "start_time": "2022-07-02T12:14:16.365Z"
   },
   {
    "duration": 9,
    "start_time": "2022-07-02T12:14:16.395Z"
   },
   {
    "duration": 41,
    "start_time": "2022-07-02T12:14:16.406Z"
   },
   {
    "duration": 7,
    "start_time": "2022-07-02T12:14:16.450Z"
   },
   {
    "duration": 24,
    "start_time": "2022-07-02T12:14:16.459Z"
   },
   {
    "duration": 10,
    "start_time": "2022-07-02T12:14:16.485Z"
   },
   {
    "duration": 40,
    "start_time": "2022-07-02T12:14:16.497Z"
   },
   {
    "duration": 20,
    "start_time": "2022-07-02T12:14:16.543Z"
   },
   {
    "duration": 10,
    "start_time": "2022-07-02T12:14:16.565Z"
   },
   {
    "duration": 90,
    "start_time": "2022-07-02T12:14:16.577Z"
   },
   {
    "duration": 64,
    "start_time": "2022-07-02T12:14:16.669Z"
   },
   {
    "duration": 39,
    "start_time": "2022-07-02T12:14:16.739Z"
   },
   {
    "duration": 30,
    "start_time": "2022-07-02T12:14:16.780Z"
   },
   {
    "duration": 20,
    "start_time": "2022-07-02T12:14:16.812Z"
   },
   {
    "duration": 74,
    "start_time": "2022-07-02T12:14:16.833Z"
   },
   {
    "duration": 6,
    "start_time": "2022-07-02T12:14:16.909Z"
   },
   {
    "duration": 26,
    "start_time": "2022-07-02T12:14:16.918Z"
   },
   {
    "duration": 62,
    "start_time": "2022-07-02T12:14:16.946Z"
   },
   {
    "duration": 116,
    "start_time": "2022-07-02T12:14:17.010Z"
   },
   {
    "duration": 0,
    "start_time": "2022-07-02T12:14:17.129Z"
   },
   {
    "duration": 0,
    "start_time": "2022-07-02T12:14:17.130Z"
   },
   {
    "duration": 0,
    "start_time": "2022-07-02T12:14:17.131Z"
   },
   {
    "duration": 38,
    "start_time": "2022-07-02T12:14:33.091Z"
   },
   {
    "duration": 40,
    "start_time": "2022-07-02T12:14:42.151Z"
   },
   {
    "duration": 45,
    "start_time": "2022-07-02T12:14:45.275Z"
   },
   {
    "duration": 35,
    "start_time": "2022-07-02T12:14:45.477Z"
   },
   {
    "duration": 18,
    "start_time": "2022-07-02T12:14:45.672Z"
   },
   {
    "duration": 55,
    "start_time": "2022-07-02T12:15:07.111Z"
   },
   {
    "duration": 41,
    "start_time": "2022-07-02T12:15:09.684Z"
   },
   {
    "duration": 20,
    "start_time": "2022-07-02T12:15:10.276Z"
   },
   {
    "duration": 9,
    "start_time": "2022-07-02T12:19:58.897Z"
   },
   {
    "duration": 11,
    "start_time": "2022-07-02T12:21:17.285Z"
   },
   {
    "duration": 13,
    "start_time": "2022-07-02T12:21:24.705Z"
   },
   {
    "duration": 8,
    "start_time": "2022-07-02T12:26:18.385Z"
   },
   {
    "duration": 453,
    "start_time": "2022-07-02T12:26:34.692Z"
   },
   {
    "duration": 59,
    "start_time": "2022-07-02T12:28:03.686Z"
   },
   {
    "duration": 102,
    "start_time": "2022-07-02T12:29:04.686Z"
   },
   {
    "duration": 64,
    "start_time": "2022-07-02T12:29:17.127Z"
   },
   {
    "duration": 60,
    "start_time": "2022-07-02T12:29:26.680Z"
   },
   {
    "duration": 51,
    "start_time": "2022-07-02T12:29:38.656Z"
   },
   {
    "duration": 67,
    "start_time": "2022-07-02T12:29:54.752Z"
   },
   {
    "duration": 351,
    "start_time": "2022-07-02T12:30:59.138Z"
   },
   {
    "duration": 34,
    "start_time": "2022-07-02T12:35:06.450Z"
   },
   {
    "duration": 26,
    "start_time": "2022-07-02T12:35:07.650Z"
   },
   {
    "duration": 66,
    "start_time": "2022-07-02T12:35:08.748Z"
   },
   {
    "duration": 74,
    "start_time": "2022-07-02T12:35:34.692Z"
   },
   {
    "duration": 85,
    "start_time": "2022-07-02T12:36:19.593Z"
   },
   {
    "duration": 64,
    "start_time": "2022-07-02T12:36:29.390Z"
   },
   {
    "duration": 71,
    "start_time": "2022-07-02T12:36:58.250Z"
   },
   {
    "duration": 70,
    "start_time": "2022-07-02T12:37:06.802Z"
   },
   {
    "duration": 18,
    "start_time": "2022-07-02T12:38:42.582Z"
   },
   {
    "duration": 69,
    "start_time": "2022-07-02T12:39:02.649Z"
   },
   {
    "duration": 25,
    "start_time": "2022-07-02T12:39:11.989Z"
   },
   {
    "duration": 25,
    "start_time": "2022-07-02T12:41:17.021Z"
   },
   {
    "duration": 15,
    "start_time": "2022-07-02T12:42:15.615Z"
   },
   {
    "duration": 13,
    "start_time": "2022-07-02T12:42:53.833Z"
   },
   {
    "duration": 17,
    "start_time": "2022-07-02T12:43:42.137Z"
   },
   {
    "duration": 12,
    "start_time": "2022-07-02T12:44:21.652Z"
   },
   {
    "duration": 31,
    "start_time": "2022-07-02T12:53:50.609Z"
   },
   {
    "duration": 19,
    "start_time": "2022-07-02T13:03:34.923Z"
   },
   {
    "duration": 17,
    "start_time": "2022-07-02T13:04:43.745Z"
   },
   {
    "duration": 21,
    "start_time": "2022-07-02T13:05:58.021Z"
   },
   {
    "duration": 14,
    "start_time": "2022-07-02T13:06:16.780Z"
   },
   {
    "duration": 58,
    "start_time": "2022-07-02T13:07:25.947Z"
   },
   {
    "duration": 81,
    "start_time": "2022-07-02T13:08:03.810Z"
   },
   {
    "duration": 14,
    "start_time": "2022-07-02T13:08:47.687Z"
   },
   {
    "duration": 59,
    "start_time": "2022-07-02T13:08:50.221Z"
   },
   {
    "duration": 64,
    "start_time": "2022-07-02T13:10:43.392Z"
   },
   {
    "duration": 60,
    "start_time": "2022-07-02T13:12:20.226Z"
   },
   {
    "duration": 60,
    "start_time": "2022-07-02T13:13:18.743Z"
   },
   {
    "duration": 20,
    "start_time": "2022-07-02T13:14:00.246Z"
   },
   {
    "duration": 24,
    "start_time": "2022-07-02T13:14:27.425Z"
   },
   {
    "duration": 58,
    "start_time": "2022-07-02T13:14:46.855Z"
   },
   {
    "duration": 24,
    "start_time": "2022-07-02T13:14:47.938Z"
   },
   {
    "duration": 19,
    "start_time": "2022-07-02T13:14:49.402Z"
   },
   {
    "duration": 15,
    "start_time": "2022-07-02T13:14:50.268Z"
   },
   {
    "duration": 1214,
    "start_time": "2022-07-02T13:15:07.154Z"
   },
   {
    "duration": 15,
    "start_time": "2022-07-02T13:15:08.370Z"
   },
   {
    "duration": 14,
    "start_time": "2022-07-02T13:15:08.387Z"
   },
   {
    "duration": 42,
    "start_time": "2022-07-02T13:15:08.402Z"
   },
   {
    "duration": 41,
    "start_time": "2022-07-02T13:15:08.447Z"
   },
   {
    "duration": 8,
    "start_time": "2022-07-02T13:15:08.490Z"
   },
   {
    "duration": 24,
    "start_time": "2022-07-02T13:15:08.500Z"
   },
   {
    "duration": 15,
    "start_time": "2022-07-02T13:15:08.525Z"
   },
   {
    "duration": 44,
    "start_time": "2022-07-02T13:15:08.542Z"
   },
   {
    "duration": 8,
    "start_time": "2022-07-02T13:15:08.588Z"
   },
   {
    "duration": 24,
    "start_time": "2022-07-02T13:15:08.598Z"
   },
   {
    "duration": 40,
    "start_time": "2022-07-02T13:15:08.624Z"
   },
   {
    "duration": 10,
    "start_time": "2022-07-02T13:15:08.666Z"
   },
   {
    "duration": 66,
    "start_time": "2022-07-02T13:15:08.679Z"
   },
   {
    "duration": 55,
    "start_time": "2022-07-02T13:15:08.747Z"
   },
   {
    "duration": 59,
    "start_time": "2022-07-02T13:15:08.803Z"
   },
   {
    "duration": 23,
    "start_time": "2022-07-02T13:15:08.864Z"
   },
   {
    "duration": 6,
    "start_time": "2022-07-02T13:15:08.889Z"
   },
   {
    "duration": 102,
    "start_time": "2022-07-02T13:15:08.897Z"
   },
   {
    "duration": 9,
    "start_time": "2022-07-02T13:15:09.001Z"
   },
   {
    "duration": 54,
    "start_time": "2022-07-02T13:15:09.011Z"
   },
   {
    "duration": 41,
    "start_time": "2022-07-02T13:15:09.067Z"
   },
   {
    "duration": 72,
    "start_time": "2022-07-02T13:15:09.110Z"
   },
   {
    "duration": 55,
    "start_time": "2022-07-02T13:15:09.184Z"
   },
   {
    "duration": 109,
    "start_time": "2022-07-02T13:15:09.241Z"
   },
   {
    "duration": 0,
    "start_time": "2022-07-02T13:15:09.353Z"
   },
   {
    "duration": 19,
    "start_time": "2022-07-02T13:15:19.198Z"
   },
   {
    "duration": 12,
    "start_time": "2022-07-02T13:15:20.028Z"
   },
   {
    "duration": 18,
    "start_time": "2022-07-02T13:17:40.175Z"
   },
   {
    "duration": 10,
    "start_time": "2022-07-02T13:18:01.186Z"
   },
   {
    "duration": 424,
    "start_time": "2022-07-02T13:18:06.343Z"
   },
   {
    "duration": 10,
    "start_time": "2022-07-02T13:18:06.769Z"
   },
   {
    "duration": 15,
    "start_time": "2022-07-02T13:18:06.780Z"
   },
   {
    "duration": 11,
    "start_time": "2022-07-02T13:18:06.797Z"
   },
   {
    "duration": 46,
    "start_time": "2022-07-02T13:18:06.810Z"
   },
   {
    "duration": 10,
    "start_time": "2022-07-02T13:18:06.857Z"
   },
   {
    "duration": 37,
    "start_time": "2022-07-02T13:18:06.870Z"
   },
   {
    "duration": 11,
    "start_time": "2022-07-02T13:18:07.242Z"
   },
   {
    "duration": 24,
    "start_time": "2022-07-02T13:18:07.447Z"
   },
   {
    "duration": 9,
    "start_time": "2022-07-02T13:18:07.847Z"
   },
   {
    "duration": 12,
    "start_time": "2022-07-02T13:18:08.074Z"
   },
   {
    "duration": 9,
    "start_time": "2022-07-02T13:18:09.076Z"
   },
   {
    "duration": 8,
    "start_time": "2022-07-02T13:18:09.287Z"
   },
   {
    "duration": 65,
    "start_time": "2022-07-02T13:18:09.512Z"
   },
   {
    "duration": 53,
    "start_time": "2022-07-02T13:18:09.715Z"
   },
   {
    "duration": 45,
    "start_time": "2022-07-02T13:18:09.940Z"
   },
   {
    "duration": 24,
    "start_time": "2022-07-02T13:18:10.176Z"
   },
   {
    "duration": 7,
    "start_time": "2022-07-02T13:18:10.405Z"
   },
   {
    "duration": 59,
    "start_time": "2022-07-02T13:18:10.609Z"
   },
   {
    "duration": 11,
    "start_time": "2022-07-02T13:18:10.822Z"
   },
   {
    "duration": 37,
    "start_time": "2022-07-02T13:18:11.242Z"
   },
   {
    "duration": 44,
    "start_time": "2022-07-02T13:18:11.442Z"
   },
   {
    "duration": 60,
    "start_time": "2022-07-02T13:18:11.676Z"
   },
   {
    "duration": 37,
    "start_time": "2022-07-02T13:18:11.864Z"
   },
   {
    "duration": 19,
    "start_time": "2022-07-02T13:18:12.584Z"
   },
   {
    "duration": 22,
    "start_time": "2022-07-02T13:18:13.022Z"
   },
   {
    "duration": 166,
    "start_time": "2022-07-02T13:20:02.925Z"
   },
   {
    "duration": 25,
    "start_time": "2022-07-02T13:21:30.376Z"
   },
   {
    "duration": 35,
    "start_time": "2022-07-02T13:22:24.180Z"
   },
   {
    "duration": 39,
    "start_time": "2022-07-02T13:23:04.742Z"
   },
   {
    "duration": 50,
    "start_time": "2022-07-02T13:23:26.295Z"
   },
   {
    "duration": 34,
    "start_time": "2022-07-02T13:24:15.622Z"
   },
   {
    "duration": 25,
    "start_time": "2022-07-02T13:26:03.475Z"
   },
   {
    "duration": 15,
    "start_time": "2022-07-02T13:26:12.042Z"
   },
   {
    "duration": 22,
    "start_time": "2022-07-02T13:26:57.799Z"
   },
   {
    "duration": 52,
    "start_time": "2022-07-02T13:27:16.977Z"
   },
   {
    "duration": 36,
    "start_time": "2022-07-02T13:27:22.773Z"
   },
   {
    "duration": 30,
    "start_time": "2022-07-02T13:27:23.538Z"
   },
   {
    "duration": 26,
    "start_time": "2022-07-02T13:28:55.108Z"
   },
   {
    "duration": 11,
    "start_time": "2022-07-02T13:28:59.082Z"
   },
   {
    "duration": 25,
    "start_time": "2022-07-02T13:29:06.479Z"
   },
   {
    "duration": 14,
    "start_time": "2022-07-02T13:29:06.986Z"
   },
   {
    "duration": 28,
    "start_time": "2022-07-02T13:31:39.626Z"
   },
   {
    "duration": 35,
    "start_time": "2022-07-02T13:36:09.618Z"
   },
   {
    "duration": 48,
    "start_time": "2022-07-02T13:36:14.103Z"
   },
   {
    "duration": 34,
    "start_time": "2022-07-02T13:36:14.284Z"
   },
   {
    "duration": 35,
    "start_time": "2022-07-02T13:36:14.473Z"
   },
   {
    "duration": 33,
    "start_time": "2022-07-02T13:36:14.829Z"
   },
   {
    "duration": 28,
    "start_time": "2022-07-02T13:36:15.030Z"
   },
   {
    "duration": 39,
    "start_time": "2022-07-02T13:36:50.527Z"
   },
   {
    "duration": 31,
    "start_time": "2022-07-02T13:36:50.708Z"
   },
   {
    "duration": 47,
    "start_time": "2022-07-02T13:36:50.921Z"
   },
   {
    "duration": 30,
    "start_time": "2022-07-02T13:36:51.181Z"
   },
   {
    "duration": 27,
    "start_time": "2022-07-02T13:36:51.373Z"
   },
   {
    "duration": 12,
    "start_time": "2022-07-02T13:36:51.907Z"
   },
   {
    "duration": 7,
    "start_time": "2022-07-02T13:37:50.477Z"
   },
   {
    "duration": 14,
    "start_time": "2022-07-02T13:43:27.539Z"
   },
   {
    "duration": 20,
    "start_time": "2022-07-02T13:43:45.858Z"
   },
   {
    "duration": 9,
    "start_time": "2022-07-02T13:43:47.278Z"
   },
   {
    "duration": 41,
    "start_time": "2022-07-02T13:43:50.120Z"
   },
   {
    "duration": 39,
    "start_time": "2022-07-02T13:44:13.086Z"
   },
   {
    "duration": 14,
    "start_time": "2022-07-02T13:45:49.394Z"
   },
   {
    "duration": 53,
    "start_time": "2022-07-02T13:47:31.592Z"
   },
   {
    "duration": 39,
    "start_time": "2022-07-02T13:47:44.712Z"
   },
   {
    "duration": 28,
    "start_time": "2022-07-02T13:47:45.676Z"
   },
   {
    "duration": 14,
    "start_time": "2022-07-02T13:47:46.177Z"
   },
   {
    "duration": 5,
    "start_time": "2022-07-02T13:49:25.678Z"
   },
   {
    "duration": 4,
    "start_time": "2022-07-02T13:49:42.977Z"
   },
   {
    "duration": 41,
    "start_time": "2022-07-02T13:53:55.413Z"
   },
   {
    "duration": 23,
    "start_time": "2022-07-02T14:02:27.484Z"
   },
   {
    "duration": 224,
    "start_time": "2022-07-02T15:34:06.776Z"
   },
   {
    "duration": 254,
    "start_time": "2022-07-02T15:34:53.712Z"
   },
   {
    "duration": 9,
    "start_time": "2022-07-02T15:44:00.327Z"
   },
   {
    "duration": 13,
    "start_time": "2022-07-02T15:46:23.413Z"
   },
   {
    "duration": 45,
    "start_time": "2022-07-02T15:48:54.175Z"
   },
   {
    "duration": 4,
    "start_time": "2022-07-02T15:49:06.809Z"
   },
   {
    "duration": 11,
    "start_time": "2022-07-02T15:49:20.524Z"
   },
   {
    "duration": 25,
    "start_time": "2022-07-02T15:49:37.288Z"
   },
   {
    "duration": 4,
    "start_time": "2022-07-02T15:50:21.850Z"
   },
   {
    "duration": 20,
    "start_time": "2022-07-02T15:50:22.330Z"
   },
   {
    "duration": 32,
    "start_time": "2022-07-02T15:51:55.444Z"
   },
   {
    "duration": 34,
    "start_time": "2022-07-02T15:52:24.478Z"
   },
   {
    "duration": 38,
    "start_time": "2022-07-02T15:52:41.538Z"
   },
   {
    "duration": 24,
    "start_time": "2022-07-02T15:53:20.194Z"
   },
   {
    "duration": 30,
    "start_time": "2022-07-02T15:53:35.495Z"
   },
   {
    "duration": 33,
    "start_time": "2022-07-02T15:53:43.336Z"
   },
   {
    "duration": 23,
    "start_time": "2022-07-02T15:55:25.693Z"
   },
   {
    "duration": 30,
    "start_time": "2022-07-02T15:55:45.032Z"
   },
   {
    "duration": 34,
    "start_time": "2022-07-02T15:55:58.610Z"
   },
   {
    "duration": 40,
    "start_time": "2022-07-02T15:56:34.185Z"
   },
   {
    "duration": 44,
    "start_time": "2022-07-02T15:56:46.270Z"
   },
   {
    "duration": 11,
    "start_time": "2022-07-02T15:58:44.424Z"
   },
   {
    "duration": 29,
    "start_time": "2022-07-02T15:59:23.858Z"
   },
   {
    "duration": 29,
    "start_time": "2022-07-02T16:10:03.240Z"
   },
   {
    "duration": 38,
    "start_time": "2022-07-02T16:10:21.225Z"
   },
   {
    "duration": 26,
    "start_time": "2022-07-02T16:22:20.879Z"
   },
   {
    "duration": 26,
    "start_time": "2022-07-02T16:22:27.685Z"
   },
   {
    "duration": 1097,
    "start_time": "2022-07-02T16:22:47.502Z"
   },
   {
    "duration": 14,
    "start_time": "2022-07-02T16:22:48.600Z"
   },
   {
    "duration": 23,
    "start_time": "2022-07-02T16:22:48.615Z"
   },
   {
    "duration": 34,
    "start_time": "2022-07-02T16:22:48.645Z"
   },
   {
    "duration": 26,
    "start_time": "2022-07-02T16:22:48.681Z"
   },
   {
    "duration": 9,
    "start_time": "2022-07-02T16:22:48.709Z"
   },
   {
    "duration": 45,
    "start_time": "2022-07-02T16:22:48.719Z"
   },
   {
    "duration": 7,
    "start_time": "2022-07-02T16:22:48.766Z"
   },
   {
    "duration": 22,
    "start_time": "2022-07-02T16:22:48.775Z"
   },
   {
    "duration": 8,
    "start_time": "2022-07-02T16:22:48.799Z"
   },
   {
    "duration": 21,
    "start_time": "2022-07-02T16:22:48.809Z"
   },
   {
    "duration": 41,
    "start_time": "2022-07-02T16:22:48.832Z"
   },
   {
    "duration": 8,
    "start_time": "2022-07-02T16:22:48.875Z"
   },
   {
    "duration": 71,
    "start_time": "2022-07-02T16:22:48.885Z"
   },
   {
    "duration": 44,
    "start_time": "2022-07-02T16:22:48.957Z"
   },
   {
    "duration": 51,
    "start_time": "2022-07-02T16:22:49.003Z"
   },
   {
    "duration": 25,
    "start_time": "2022-07-02T16:22:49.056Z"
   },
   {
    "duration": 12,
    "start_time": "2022-07-02T16:22:49.083Z"
   },
   {
    "duration": 9,
    "start_time": "2022-07-02T16:22:49.097Z"
   },
   {
    "duration": 70,
    "start_time": "2022-07-02T16:22:49.107Z"
   },
   {
    "duration": 39,
    "start_time": "2022-07-02T16:22:49.179Z"
   },
   {
    "duration": 65,
    "start_time": "2022-07-02T16:22:49.219Z"
   },
   {
    "duration": 56,
    "start_time": "2022-07-02T16:22:49.286Z"
   },
   {
    "duration": 32,
    "start_time": "2022-07-02T16:22:49.347Z"
   },
   {
    "duration": 13,
    "start_time": "2022-07-02T16:22:49.380Z"
   },
   {
    "duration": 8,
    "start_time": "2022-07-02T16:22:49.395Z"
   },
   {
    "duration": 10,
    "start_time": "2022-07-02T16:22:49.405Z"
   },
   {
    "duration": 38,
    "start_time": "2022-07-02T16:22:49.431Z"
   },
   {
    "duration": 9,
    "start_time": "2022-07-02T16:22:49.471Z"
   },
   {
    "duration": 27,
    "start_time": "2022-07-02T16:22:49.482Z"
   },
   {
    "duration": 29,
    "start_time": "2022-07-02T16:23:01.262Z"
   },
   {
    "duration": 465,
    "start_time": "2022-07-02T16:23:06.610Z"
   },
   {
    "duration": 10,
    "start_time": "2022-07-02T16:23:07.077Z"
   },
   {
    "duration": 18,
    "start_time": "2022-07-02T16:23:07.088Z"
   },
   {
    "duration": 9,
    "start_time": "2022-07-02T16:23:07.315Z"
   },
   {
    "duration": 33,
    "start_time": "2022-07-02T16:23:07.498Z"
   },
   {
    "duration": 10,
    "start_time": "2022-07-02T16:23:07.882Z"
   },
   {
    "duration": 29,
    "start_time": "2022-07-02T16:23:08.078Z"
   },
   {
    "duration": 8,
    "start_time": "2022-07-02T16:23:08.456Z"
   },
   {
    "duration": 20,
    "start_time": "2022-07-02T16:23:08.652Z"
   },
   {
    "duration": 8,
    "start_time": "2022-07-02T16:23:09.255Z"
   },
   {
    "duration": 12,
    "start_time": "2022-07-02T16:23:09.460Z"
   },
   {
    "duration": 18,
    "start_time": "2022-07-02T16:23:10.424Z"
   },
   {
    "duration": 10,
    "start_time": "2022-07-02T16:23:10.648Z"
   },
   {
    "duration": 52,
    "start_time": "2022-07-02T16:23:10.855Z"
   },
   {
    "duration": 43,
    "start_time": "2022-07-02T16:23:11.048Z"
   },
   {
    "duration": 44,
    "start_time": "2022-07-02T16:23:11.251Z"
   },
   {
    "duration": 21,
    "start_time": "2022-07-02T16:23:11.454Z"
   },
   {
    "duration": 9,
    "start_time": "2022-07-02T16:23:11.663Z"
   },
   {
    "duration": 8,
    "start_time": "2022-07-02T16:23:11.896Z"
   },
   {
    "duration": 62,
    "start_time": "2022-07-02T16:23:12.302Z"
   },
   {
    "duration": 51,
    "start_time": "2022-07-02T16:23:12.509Z"
   },
   {
    "duration": 67,
    "start_time": "2022-07-02T16:23:12.733Z"
   },
   {
    "duration": 40,
    "start_time": "2022-07-02T16:23:12.954Z"
   },
   {
    "duration": 27,
    "start_time": "2022-07-02T16:23:13.152Z"
   },
   {
    "duration": 11,
    "start_time": "2022-07-02T16:23:13.357Z"
   },
   {
    "duration": 8,
    "start_time": "2022-07-02T16:23:13.560Z"
   },
   {
    "duration": 4,
    "start_time": "2022-07-02T16:23:13.780Z"
   },
   {
    "duration": 9,
    "start_time": "2022-07-02T16:23:13.980Z"
   },
   {
    "duration": 3,
    "start_time": "2022-07-02T16:23:14.179Z"
   },
   {
    "duration": 29,
    "start_time": "2022-07-02T16:23:14.403Z"
   },
   {
    "duration": 12,
    "start_time": "2022-07-02T16:23:14.955Z"
   },
   {
    "duration": 6,
    "start_time": "2022-07-02T16:23:15.856Z"
   },
   {
    "duration": 9,
    "start_time": "2022-07-02T16:23:16.405Z"
   },
   {
    "duration": 4,
    "start_time": "2022-07-02T16:23:16.776Z"
   },
   {
    "duration": 20,
    "start_time": "2022-07-02T16:23:17.096Z"
   },
   {
    "duration": 1136,
    "start_time": "2022-07-02T16:23:46.958Z"
   },
   {
    "duration": 15,
    "start_time": "2022-07-02T16:23:48.096Z"
   },
   {
    "duration": 18,
    "start_time": "2022-07-02T16:23:48.113Z"
   },
   {
    "duration": 34,
    "start_time": "2022-07-02T16:23:48.134Z"
   },
   {
    "duration": 29,
    "start_time": "2022-07-02T16:23:48.171Z"
   },
   {
    "duration": 10,
    "start_time": "2022-07-02T16:23:48.202Z"
   },
   {
    "duration": 45,
    "start_time": "2022-07-02T16:23:48.214Z"
   },
   {
    "duration": 14,
    "start_time": "2022-07-02T16:23:48.261Z"
   },
   {
    "duration": 24,
    "start_time": "2022-07-02T16:23:48.277Z"
   },
   {
    "duration": 9,
    "start_time": "2022-07-02T16:23:48.302Z"
   },
   {
    "duration": 26,
    "start_time": "2022-07-02T16:23:48.313Z"
   },
   {
    "duration": 30,
    "start_time": "2022-07-02T16:23:48.340Z"
   },
   {
    "duration": 12,
    "start_time": "2022-07-02T16:23:48.372Z"
   },
   {
    "duration": 74,
    "start_time": "2022-07-02T16:23:48.387Z"
   },
   {
    "duration": 45,
    "start_time": "2022-07-02T16:23:48.462Z"
   },
   {
    "duration": 51,
    "start_time": "2022-07-02T16:23:48.509Z"
   },
   {
    "duration": 23,
    "start_time": "2022-07-02T16:23:48.562Z"
   },
   {
    "duration": 11,
    "start_time": "2022-07-02T16:23:48.587Z"
   },
   {
    "duration": 33,
    "start_time": "2022-07-02T16:23:48.600Z"
   },
   {
    "duration": 60,
    "start_time": "2022-07-02T16:23:48.638Z"
   },
   {
    "duration": 47,
    "start_time": "2022-07-02T16:23:48.701Z"
   },
   {
    "duration": 50,
    "start_time": "2022-07-02T16:23:48.750Z"
   },
   {
    "duration": 56,
    "start_time": "2022-07-02T16:23:48.802Z"
   },
   {
    "duration": 26,
    "start_time": "2022-07-02T16:23:48.860Z"
   },
   {
    "duration": 11,
    "start_time": "2022-07-02T16:23:48.888Z"
   },
   {
    "duration": 10,
    "start_time": "2022-07-02T16:23:48.901Z"
   },
   {
    "duration": 10,
    "start_time": "2022-07-02T16:23:48.913Z"
   },
   {
    "duration": 41,
    "start_time": "2022-07-02T16:23:48.926Z"
   },
   {
    "duration": 6,
    "start_time": "2022-07-02T16:23:48.969Z"
   },
   {
    "duration": 21,
    "start_time": "2022-07-02T16:23:48.976Z"
   },
   {
    "duration": 6,
    "start_time": "2022-07-02T16:23:58.757Z"
   },
   {
    "duration": 49,
    "start_time": "2022-07-02T16:23:59.326Z"
   },
   {
    "duration": 39,
    "start_time": "2022-07-02T16:24:14.649Z"
   },
   {
    "duration": 48,
    "start_time": "2022-07-02T16:25:22.383Z"
   },
   {
    "duration": 49,
    "start_time": "2022-07-02T16:25:32.285Z"
   },
   {
    "duration": 40,
    "start_time": "2022-07-02T16:25:44.658Z"
   },
   {
    "duration": 95,
    "start_time": "2022-07-02T16:37:46.096Z"
   },
   {
    "duration": 29,
    "start_time": "2022-07-02T16:38:10.517Z"
   },
   {
    "duration": 35,
    "start_time": "2022-07-02T16:53:00.408Z"
   },
   {
    "duration": 18,
    "start_time": "2022-07-02T16:53:14.789Z"
   },
   {
    "duration": 15,
    "start_time": "2022-07-02T16:53:37.943Z"
   },
   {
    "duration": 64,
    "start_time": "2022-07-02T16:53:40.880Z"
   },
   {
    "duration": 35,
    "start_time": "2022-07-02T16:53:57.826Z"
   },
   {
    "duration": 61,
    "start_time": "2022-07-02T16:54:00.598Z"
   },
   {
    "duration": 50,
    "start_time": "2022-07-02T16:56:40.265Z"
   },
   {
    "duration": 73,
    "start_time": "2022-07-02T16:57:47.224Z"
   },
   {
    "duration": 60,
    "start_time": "2022-07-02T16:58:32.003Z"
   },
   {
    "duration": 47,
    "start_time": "2022-07-02T16:58:54.342Z"
   },
   {
    "duration": 49,
    "start_time": "2022-07-02T16:59:42.140Z"
   },
   {
    "duration": 47,
    "start_time": "2022-07-02T17:02:51.360Z"
   },
   {
    "duration": 56,
    "start_time": "2022-07-02T17:03:18.311Z"
   },
   {
    "duration": 74,
    "start_time": "2022-07-02T17:04:27.803Z"
   },
   {
    "duration": 12,
    "start_time": "2022-07-02T17:28:43.055Z"
   },
   {
    "duration": 969,
    "start_time": "2022-07-02T17:29:55.293Z"
   },
   {
    "duration": 7,
    "start_time": "2022-07-02T17:37:51.702Z"
   },
   {
    "duration": 9,
    "start_time": "2022-07-02T17:38:03.150Z"
   },
   {
    "duration": 8,
    "start_time": "2022-07-02T17:38:03.372Z"
   },
   {
    "duration": 37,
    "start_time": "2022-07-02T17:38:03.949Z"
   },
   {
    "duration": 51,
    "start_time": "2022-07-02T17:38:04.212Z"
   },
   {
    "duration": 71,
    "start_time": "2022-07-02T17:38:04.506Z"
   },
   {
    "duration": 39,
    "start_time": "2022-07-02T17:38:05.109Z"
   },
   {
    "duration": 35,
    "start_time": "2022-07-02T17:38:06.321Z"
   },
   {
    "duration": 11,
    "start_time": "2022-07-02T17:38:07.711Z"
   },
   {
    "duration": 7,
    "start_time": "2022-07-02T17:38:08.367Z"
   },
   {
    "duration": 5,
    "start_time": "2022-07-02T17:38:09.384Z"
   },
   {
    "duration": 10,
    "start_time": "2022-07-02T17:38:16.882Z"
   },
   {
    "duration": 10,
    "start_time": "2022-07-02T17:52:05.043Z"
   },
   {
    "duration": 9,
    "start_time": "2022-07-02T17:52:54.035Z"
   },
   {
    "duration": 8,
    "start_time": "2022-07-02T17:52:55.540Z"
   },
   {
    "duration": 8,
    "start_time": "2022-07-02T17:52:55.749Z"
   },
   {
    "duration": 39,
    "start_time": "2022-07-02T17:52:56.144Z"
   },
   {
    "duration": 39,
    "start_time": "2022-07-02T17:52:56.342Z"
   },
   {
    "duration": 72,
    "start_time": "2022-07-02T17:52:56.519Z"
   },
   {
    "duration": 37,
    "start_time": "2022-07-02T17:52:56.711Z"
   },
   {
    "duration": 24,
    "start_time": "2022-07-02T17:52:56.890Z"
   },
   {
    "duration": 11,
    "start_time": "2022-07-02T17:52:57.097Z"
   },
   {
    "duration": 7,
    "start_time": "2022-07-02T17:52:57.307Z"
   },
   {
    "duration": 8,
    "start_time": "2022-07-02T17:52:57.524Z"
   },
   {
    "duration": 12,
    "start_time": "2022-07-02T17:52:57.726Z"
   },
   {
    "duration": 235,
    "start_time": "2022-07-02T17:52:57.941Z"
   },
   {
    "duration": 0,
    "start_time": "2022-07-02T17:52:58.177Z"
   },
   {
    "duration": 2,
    "start_time": "2022-07-02T17:53:19.918Z"
   },
   {
    "duration": 68,
    "start_time": "2022-07-02T17:55:40.584Z"
   },
   {
    "duration": 65,
    "start_time": "2022-07-02T17:56:01.097Z"
   },
   {
    "duration": 4,
    "start_time": "2022-07-02T17:56:29.214Z"
   },
   {
    "duration": 10,
    "start_time": "2022-07-02T17:58:19.554Z"
   },
   {
    "duration": 4,
    "start_time": "2022-07-02T18:02:55.567Z"
   },
   {
    "duration": 18,
    "start_time": "2022-07-02T18:05:19.689Z"
   },
   {
    "duration": 626,
    "start_time": "2022-07-02T18:06:21.748Z"
   },
   {
    "duration": 716,
    "start_time": "2022-07-02T18:08:10.182Z"
   },
   {
    "duration": 25,
    "start_time": "2022-07-02T18:13:30.418Z"
   },
   {
    "duration": 49,
    "start_time": "2022-07-02T18:13:31.652Z"
   },
   {
    "duration": 12,
    "start_time": "2022-07-02T18:14:19.442Z"
   },
   {
    "duration": 649,
    "start_time": "2022-07-02T18:14:24.143Z"
   },
   {
    "duration": 611,
    "start_time": "2022-07-02T18:14:36.450Z"
   },
   {
    "duration": 738,
    "start_time": "2022-07-02T18:40:23.410Z"
   },
   {
    "duration": 52,
    "start_time": "2022-07-02T18:41:57.451Z"
   },
   {
    "duration": 20,
    "start_time": "2022-07-02T18:42:06.043Z"
   },
   {
    "duration": 16,
    "start_time": "2022-07-02T18:42:30.982Z"
   },
   {
    "duration": 69,
    "start_time": "2022-07-02T18:59:07.522Z"
   },
   {
    "duration": 70,
    "start_time": "2022-07-02T19:30:46.105Z"
   },
   {
    "duration": 1445,
    "start_time": "2022-07-03T06:18:21.609Z"
   },
   {
    "duration": 14,
    "start_time": "2022-07-03T06:18:23.056Z"
   },
   {
    "duration": 12,
    "start_time": "2022-07-03T06:18:23.072Z"
   },
   {
    "duration": 13,
    "start_time": "2022-07-03T06:18:23.086Z"
   },
   {
    "duration": 28,
    "start_time": "2022-07-03T06:18:23.102Z"
   },
   {
    "duration": 9,
    "start_time": "2022-07-03T06:18:23.132Z"
   },
   {
    "duration": 22,
    "start_time": "2022-07-03T06:18:23.143Z"
   },
   {
    "duration": 8,
    "start_time": "2022-07-03T06:18:23.166Z"
   },
   {
    "duration": 21,
    "start_time": "2022-07-03T06:18:23.175Z"
   },
   {
    "duration": 30,
    "start_time": "2022-07-03T06:18:23.197Z"
   },
   {
    "duration": 10,
    "start_time": "2022-07-03T06:18:23.229Z"
   },
   {
    "duration": 12,
    "start_time": "2022-07-03T06:18:23.240Z"
   },
   {
    "duration": 9,
    "start_time": "2022-07-03T06:18:23.254Z"
   },
   {
    "duration": 74,
    "start_time": "2022-07-03T06:18:23.265Z"
   },
   {
    "duration": 40,
    "start_time": "2022-07-03T06:18:23.341Z"
   },
   {
    "duration": 49,
    "start_time": "2022-07-03T06:18:23.382Z"
   },
   {
    "duration": 21,
    "start_time": "2022-07-03T06:18:23.432Z"
   },
   {
    "duration": 7,
    "start_time": "2022-07-03T06:18:23.455Z"
   },
   {
    "duration": 9,
    "start_time": "2022-07-03T06:18:23.463Z"
   },
   {
    "duration": 7,
    "start_time": "2022-07-03T06:18:23.473Z"
   },
   {
    "duration": 64,
    "start_time": "2022-07-03T06:18:23.482Z"
   },
   {
    "duration": 37,
    "start_time": "2022-07-03T06:18:23.547Z"
   },
   {
    "duration": 65,
    "start_time": "2022-07-03T06:18:23.585Z"
   },
   {
    "duration": 29,
    "start_time": "2022-07-03T06:18:23.652Z"
   },
   {
    "duration": 23,
    "start_time": "2022-07-03T06:18:23.683Z"
   },
   {
    "duration": 27,
    "start_time": "2022-07-03T06:18:23.707Z"
   },
   {
    "duration": 6,
    "start_time": "2022-07-03T06:18:23.736Z"
   },
   {
    "duration": 5,
    "start_time": "2022-07-03T06:18:23.743Z"
   },
   {
    "duration": 6,
    "start_time": "2022-07-03T06:18:23.750Z"
   },
   {
    "duration": 12,
    "start_time": "2022-07-03T06:18:23.758Z"
   },
   {
    "duration": 67,
    "start_time": "2022-07-03T06:18:23.772Z"
   },
   {
    "duration": 0,
    "start_time": "2022-07-03T06:18:23.840Z"
   },
   {
    "duration": 0,
    "start_time": "2022-07-03T06:18:23.842Z"
   },
   {
    "duration": 0,
    "start_time": "2022-07-03T06:18:23.842Z"
   },
   {
    "duration": 75,
    "start_time": "2022-07-03T07:07:56.270Z"
   },
   {
    "duration": 56,
    "start_time": "2022-07-03T07:08:53.069Z"
   },
   {
    "duration": 78,
    "start_time": "2022-07-03T07:09:09.748Z"
   },
   {
    "duration": 58,
    "start_time": "2022-07-03T07:09:28.102Z"
   },
   {
    "duration": 105,
    "start_time": "2022-07-03T07:10:03.497Z"
   },
   {
    "duration": 57,
    "start_time": "2022-07-03T07:16:40.138Z"
   },
   {
    "duration": 88,
    "start_time": "2022-07-03T07:17:05.097Z"
   },
   {
    "duration": 54,
    "start_time": "2022-07-03T07:18:15.667Z"
   },
   {
    "duration": 68,
    "start_time": "2022-07-03T07:18:31.833Z"
   },
   {
    "duration": 80,
    "start_time": "2022-07-03T07:19:13.968Z"
   },
   {
    "duration": 71,
    "start_time": "2022-07-03T07:19:26.676Z"
   },
   {
    "duration": 53,
    "start_time": "2022-07-03T07:19:37.032Z"
   },
   {
    "duration": 47,
    "start_time": "2022-07-03T07:22:03.878Z"
   },
   {
    "duration": 57,
    "start_time": "2022-07-03T07:24:18.984Z"
   },
   {
    "duration": 68,
    "start_time": "2022-07-03T07:24:29.388Z"
   },
   {
    "duration": 53,
    "start_time": "2022-07-03T07:46:49.906Z"
   },
   {
    "duration": 80,
    "start_time": "2022-07-03T08:37:22.512Z"
   },
   {
    "duration": 49,
    "start_time": "2022-07-03T08:38:18.909Z"
   },
   {
    "duration": 78,
    "start_time": "2022-07-03T08:38:45.247Z"
   },
   {
    "duration": 52,
    "start_time": "2022-07-03T08:39:10.897Z"
   },
   {
    "duration": 80,
    "start_time": "2022-07-03T08:39:49.594Z"
   },
   {
    "duration": 57,
    "start_time": "2022-07-03T08:40:12.553Z"
   },
   {
    "duration": 58,
    "start_time": "2022-07-03T08:40:31.501Z"
   },
   {
    "duration": 127,
    "start_time": "2022-07-03T08:43:45.189Z"
   },
   {
    "duration": 51,
    "start_time": "2022-07-03T08:44:36.585Z"
   },
   {
    "duration": 87,
    "start_time": "2022-07-03T08:44:44.491Z"
   },
   {
    "duration": 62,
    "start_time": "2022-07-03T08:48:00.894Z"
   },
   {
    "duration": 61,
    "start_time": "2022-07-03T08:48:08.336Z"
   },
   {
    "duration": 140,
    "start_time": "2022-07-03T08:49:05.889Z"
   },
   {
    "duration": 100,
    "start_time": "2022-07-03T08:50:01.740Z"
   },
   {
    "duration": 60,
    "start_time": "2022-07-03T08:50:20.343Z"
   },
   {
    "duration": 61,
    "start_time": "2022-07-03T08:55:14.362Z"
   },
   {
    "duration": 61,
    "start_time": "2022-07-03T08:56:55.165Z"
   },
   {
    "duration": 53,
    "start_time": "2022-07-03T09:02:26.067Z"
   },
   {
    "duration": 60,
    "start_time": "2022-07-03T09:05:45.650Z"
   },
   {
    "duration": 356,
    "start_time": "2022-07-03T09:16:52.403Z"
   },
   {
    "duration": 9,
    "start_time": "2022-07-03T09:16:52.761Z"
   },
   {
    "duration": 25,
    "start_time": "2022-07-03T09:16:52.771Z"
   },
   {
    "duration": 14,
    "start_time": "2022-07-03T09:16:52.797Z"
   },
   {
    "duration": 39,
    "start_time": "2022-07-03T09:16:52.813Z"
   },
   {
    "duration": 9,
    "start_time": "2022-07-03T09:16:52.853Z"
   },
   {
    "duration": 34,
    "start_time": "2022-07-03T09:16:52.863Z"
   },
   {
    "duration": 6,
    "start_time": "2022-07-03T09:16:52.899Z"
   },
   {
    "duration": 23,
    "start_time": "2022-07-03T09:16:52.907Z"
   },
   {
    "duration": 9,
    "start_time": "2022-07-03T09:16:53.171Z"
   },
   {
    "duration": 11,
    "start_time": "2022-07-03T09:16:53.381Z"
   },
   {
    "duration": 9,
    "start_time": "2022-07-03T09:16:54.475Z"
   },
   {
    "duration": 9,
    "start_time": "2022-07-03T09:16:54.681Z"
   },
   {
    "duration": 53,
    "start_time": "2022-07-03T09:16:54.884Z"
   },
   {
    "duration": 40,
    "start_time": "2022-07-03T09:16:55.073Z"
   },
   {
    "duration": 35,
    "start_time": "2022-07-03T09:16:55.299Z"
   },
   {
    "duration": 20,
    "start_time": "2022-07-03T09:16:55.514Z"
   },
   {
    "duration": 8,
    "start_time": "2022-07-03T09:16:55.766Z"
   },
   {
    "duration": 8,
    "start_time": "2022-07-03T09:16:55.970Z"
   },
   {
    "duration": 7,
    "start_time": "2022-07-03T09:16:56.171Z"
   },
   {
    "duration": 33,
    "start_time": "2022-07-03T09:16:56.589Z"
   },
   {
    "duration": 37,
    "start_time": "2022-07-03T09:16:56.812Z"
   },
   {
    "duration": 43,
    "start_time": "2022-07-03T09:16:57.063Z"
   },
   {
    "duration": 30,
    "start_time": "2022-07-03T09:16:57.271Z"
   },
   {
    "duration": 23,
    "start_time": "2022-07-03T09:16:57.478Z"
   },
   {
    "duration": 12,
    "start_time": "2022-07-03T09:16:57.704Z"
   },
   {
    "duration": 7,
    "start_time": "2022-07-03T09:16:57.917Z"
   },
   {
    "duration": 4,
    "start_time": "2022-07-03T09:16:58.166Z"
   },
   {
    "duration": 9,
    "start_time": "2022-07-03T09:16:58.370Z"
   },
   {
    "duration": 80,
    "start_time": "2022-07-03T09:16:58.607Z"
   },
   {
    "duration": 80,
    "start_time": "2022-07-03T09:16:59.001Z"
   },
   {
    "duration": 9,
    "start_time": "2022-07-03T09:17:55.768Z"
   },
   {
    "duration": 393,
    "start_time": "2022-07-03T09:18:03.186Z"
   },
   {
    "duration": 11,
    "start_time": "2022-07-03T09:18:03.666Z"
   },
   {
    "duration": 10,
    "start_time": "2022-07-03T09:18:04.059Z"
   },
   {
    "duration": 9,
    "start_time": "2022-07-03T09:18:04.866Z"
   },
   {
    "duration": 24,
    "start_time": "2022-07-03T09:18:05.191Z"
   },
   {
    "duration": 9,
    "start_time": "2022-07-03T09:18:05.762Z"
   },
   {
    "duration": 23,
    "start_time": "2022-07-03T09:18:06.074Z"
   },
   {
    "duration": 7,
    "start_time": "2022-07-03T09:18:06.602Z"
   },
   {
    "duration": 20,
    "start_time": "2022-07-03T09:18:07.133Z"
   },
   {
    "duration": 9,
    "start_time": "2022-07-03T09:18:07.970Z"
   },
   {
    "duration": 11,
    "start_time": "2022-07-03T09:18:09.308Z"
   },
   {
    "duration": 8,
    "start_time": "2022-07-03T09:18:12.487Z"
   },
   {
    "duration": 7,
    "start_time": "2022-07-03T09:18:13.358Z"
   },
   {
    "duration": 56,
    "start_time": "2022-07-03T09:18:15.575Z"
   },
   {
    "duration": 41,
    "start_time": "2022-07-03T09:18:19.566Z"
   },
   {
    "duration": 34,
    "start_time": "2022-07-03T09:18:20.865Z"
   },
   {
    "duration": 18,
    "start_time": "2022-07-03T09:18:21.579Z"
   },
   {
    "duration": 7,
    "start_time": "2022-07-03T09:18:23.212Z"
   },
   {
    "duration": 9,
    "start_time": "2022-07-03T09:18:24.177Z"
   },
   {
    "duration": 9,
    "start_time": "2022-07-03T09:18:35.274Z"
   },
   {
    "duration": 36,
    "start_time": "2022-07-03T09:18:38.866Z"
   },
   {
    "duration": 39,
    "start_time": "2022-07-03T09:18:39.258Z"
   },
   {
    "duration": 49,
    "start_time": "2022-07-03T09:18:39.860Z"
   },
   {
    "duration": 35,
    "start_time": "2022-07-03T09:18:40.410Z"
   },
   {
    "duration": 27,
    "start_time": "2022-07-03T09:18:40.967Z"
   },
   {
    "duration": 14,
    "start_time": "2022-07-03T09:18:41.577Z"
   },
   {
    "duration": 7,
    "start_time": "2022-07-03T09:18:42.084Z"
   },
   {
    "duration": 5,
    "start_time": "2022-07-03T09:18:43.061Z"
   },
   {
    "duration": 9,
    "start_time": "2022-07-03T09:18:43.741Z"
   },
   {
    "duration": 7,
    "start_time": "2022-07-03T09:20:00.958Z"
   },
   {
    "duration": 8,
    "start_time": "2022-07-03T09:20:14.097Z"
   },
   {
    "duration": 994,
    "start_time": "2022-07-03T09:20:20.169Z"
   },
   {
    "duration": 14,
    "start_time": "2022-07-03T09:20:21.165Z"
   },
   {
    "duration": 20,
    "start_time": "2022-07-03T09:20:21.184Z"
   },
   {
    "duration": 22,
    "start_time": "2022-07-03T09:20:21.206Z"
   },
   {
    "duration": 32,
    "start_time": "2022-07-03T09:20:21.231Z"
   },
   {
    "duration": 12,
    "start_time": "2022-07-03T09:20:21.269Z"
   },
   {
    "duration": 46,
    "start_time": "2022-07-03T09:20:21.283Z"
   },
   {
    "duration": 8,
    "start_time": "2022-07-03T09:20:21.331Z"
   },
   {
    "duration": 22,
    "start_time": "2022-07-03T09:20:21.342Z"
   },
   {
    "duration": 8,
    "start_time": "2022-07-03T09:20:21.365Z"
   },
   {
    "duration": 11,
    "start_time": "2022-07-03T09:20:21.375Z"
   },
   {
    "duration": 44,
    "start_time": "2022-07-03T09:20:21.388Z"
   },
   {
    "duration": 9,
    "start_time": "2022-07-03T09:20:21.434Z"
   },
   {
    "duration": 57,
    "start_time": "2022-07-03T09:20:21.445Z"
   },
   {
    "duration": 65,
    "start_time": "2022-07-03T09:20:21.504Z"
   },
   {
    "duration": 59,
    "start_time": "2022-07-03T09:20:21.571Z"
   },
   {
    "duration": 23,
    "start_time": "2022-07-03T09:20:21.632Z"
   },
   {
    "duration": 9,
    "start_time": "2022-07-03T09:20:21.656Z"
   },
   {
    "duration": 10,
    "start_time": "2022-07-03T09:20:21.667Z"
   },
   {
    "duration": 29,
    "start_time": "2022-07-03T09:20:21.679Z"
   },
   {
    "duration": 37,
    "start_time": "2022-07-03T09:20:21.727Z"
   },
   {
    "duration": 41,
    "start_time": "2022-07-03T09:20:21.766Z"
   },
   {
    "duration": 48,
    "start_time": "2022-07-03T09:20:21.825Z"
   },
   {
    "duration": 62,
    "start_time": "2022-07-03T09:20:21.875Z"
   },
   {
    "duration": 38,
    "start_time": "2022-07-03T09:20:21.940Z"
   },
   {
    "duration": 16,
    "start_time": "2022-07-03T09:20:21.980Z"
   },
   {
    "duration": 28,
    "start_time": "2022-07-03T09:20:21.999Z"
   },
   {
    "duration": 22,
    "start_time": "2022-07-03T09:20:22.029Z"
   },
   {
    "duration": 19,
    "start_time": "2022-07-03T09:20:22.053Z"
   },
   {
    "duration": 135,
    "start_time": "2022-07-03T09:20:22.073Z"
   },
   {
    "duration": 358,
    "start_time": "2022-07-03T09:20:37.002Z"
   },
   {
    "duration": 11,
    "start_time": "2022-07-03T09:20:37.386Z"
   },
   {
    "duration": 11,
    "start_time": "2022-07-03T09:20:37.663Z"
   },
   {
    "duration": 8,
    "start_time": "2022-07-03T09:20:38.501Z"
   },
   {
    "duration": 26,
    "start_time": "2022-07-03T09:20:39.181Z"
   },
   {
    "duration": 9,
    "start_time": "2022-07-03T09:20:40.569Z"
   },
   {
    "duration": 31,
    "start_time": "2022-07-03T09:20:41.270Z"
   },
   {
    "duration": 8,
    "start_time": "2022-07-03T09:20:42.479Z"
   },
   {
    "duration": 24,
    "start_time": "2022-07-03T09:20:43.179Z"
   },
   {
    "duration": 12,
    "start_time": "2022-07-03T09:20:44.630Z"
   },
   {
    "duration": 11,
    "start_time": "2022-07-03T09:20:45.486Z"
   },
   {
    "duration": 8,
    "start_time": "2022-07-03T09:20:50.130Z"
   },
   {
    "duration": 7,
    "start_time": "2022-07-03T09:20:51.370Z"
   },
   {
    "duration": 53,
    "start_time": "2022-07-03T09:20:54.779Z"
   },
   {
    "duration": 42,
    "start_time": "2022-07-03T09:20:57.981Z"
   },
   {
    "duration": 34,
    "start_time": "2022-07-03T09:20:59.528Z"
   },
   {
    "duration": 20,
    "start_time": "2022-07-03T09:21:00.319Z"
   },
   {
    "duration": 8,
    "start_time": "2022-07-03T09:21:01.468Z"
   },
   {
    "duration": 6,
    "start_time": "2022-07-03T09:21:19.268Z"
   },
   {
    "duration": 6,
    "start_time": "2022-07-03T09:21:27.209Z"
   },
   {
    "duration": 9,
    "start_time": "2022-07-03T09:21:27.694Z"
   },
   {
    "duration": 7,
    "start_time": "2022-07-03T09:21:28.201Z"
   },
   {
    "duration": 34,
    "start_time": "2022-07-03T09:21:28.861Z"
   },
   {
    "duration": 35,
    "start_time": "2022-07-03T09:21:29.069Z"
   },
   {
    "duration": 45,
    "start_time": "2022-07-03T09:21:29.269Z"
   },
   {
    "duration": 31,
    "start_time": "2022-07-03T09:21:29.479Z"
   },
   {
    "duration": 25,
    "start_time": "2022-07-03T09:21:29.682Z"
   },
   {
    "duration": 13,
    "start_time": "2022-07-03T09:21:29.875Z"
   },
   {
    "duration": 9,
    "start_time": "2022-07-03T09:21:30.088Z"
   },
   {
    "duration": 5,
    "start_time": "2022-07-03T09:21:30.899Z"
   },
   {
    "duration": 9,
    "start_time": "2022-07-03T09:21:31.570Z"
   },
   {
    "duration": 61,
    "start_time": "2022-07-03T09:21:42.701Z"
   },
   {
    "duration": 61,
    "start_time": "2022-07-03T09:24:26.865Z"
   },
   {
    "duration": 55,
    "start_time": "2022-07-03T09:24:58.176Z"
   },
   {
    "duration": 77,
    "start_time": "2022-07-03T09:25:20.165Z"
   },
   {
    "duration": 61,
    "start_time": "2022-07-03T09:28:42.124Z"
   },
   {
    "duration": 63,
    "start_time": "2022-07-03T09:41:29.279Z"
   },
   {
    "duration": 48,
    "start_time": "2022-07-03T09:41:39.363Z"
   },
   {
    "duration": 20,
    "start_time": "2022-07-03T09:45:18.925Z"
   },
   {
    "duration": 61,
    "start_time": "2022-07-03T09:47:27.822Z"
   },
   {
    "duration": 13,
    "start_time": "2022-07-03T09:48:02.476Z"
   },
   {
    "duration": 15,
    "start_time": "2022-07-03T09:53:17.390Z"
   },
   {
    "duration": 40,
    "start_time": "2022-07-03T09:58:39.860Z"
   },
   {
    "duration": 16,
    "start_time": "2022-07-03T09:58:44.171Z"
   },
   {
    "duration": 20,
    "start_time": "2022-07-03T10:14:54.483Z"
   },
   {
    "duration": 5,
    "start_time": "2022-07-03T10:15:31.321Z"
   },
   {
    "duration": 16,
    "start_time": "2022-07-03T10:15:38.562Z"
   },
   {
    "duration": 26,
    "start_time": "2022-07-03T10:17:01.598Z"
   },
   {
    "duration": 17,
    "start_time": "2022-07-03T10:17:08.879Z"
   },
   {
    "duration": 20,
    "start_time": "2022-07-03T10:17:36.274Z"
   },
   {
    "duration": 262,
    "start_time": "2022-07-03T10:25:52.425Z"
   },
   {
    "duration": 209,
    "start_time": "2022-07-03T10:26:20.417Z"
   },
   {
    "duration": 287,
    "start_time": "2022-07-03T10:42:30.702Z"
   },
   {
    "duration": 208,
    "start_time": "2022-07-03T10:42:45.725Z"
   },
   {
    "duration": 9,
    "start_time": "2022-07-03T10:43:07.605Z"
   },
   {
    "duration": 7,
    "start_time": "2022-07-03T10:45:08.701Z"
   },
   {
    "duration": 11,
    "start_time": "2022-07-03T10:45:28.169Z"
   },
   {
    "duration": 275,
    "start_time": "2022-07-03T10:46:21.421Z"
   },
   {
    "duration": 5,
    "start_time": "2022-07-03T10:46:34.165Z"
   },
   {
    "duration": 790,
    "start_time": "2022-07-03T10:47:52.981Z"
   },
   {
    "duration": 313,
    "start_time": "2022-07-03T10:48:14.329Z"
   },
   {
    "duration": 240,
    "start_time": "2022-07-03T10:48:26.026Z"
   },
   {
    "duration": 300,
    "start_time": "2022-07-03T10:49:00.305Z"
   },
   {
    "duration": 245,
    "start_time": "2022-07-03T10:49:21.335Z"
   },
   {
    "duration": 246,
    "start_time": "2022-07-03T10:49:30.211Z"
   },
   {
    "duration": 249,
    "start_time": "2022-07-03T10:50:42.382Z"
   },
   {
    "duration": 287,
    "start_time": "2022-07-03T10:51:21.203Z"
   },
   {
    "duration": 250,
    "start_time": "2022-07-03T10:51:29.140Z"
   },
   {
    "duration": 426,
    "start_time": "2022-07-03T10:51:42.195Z"
   },
   {
    "duration": 358,
    "start_time": "2022-07-03T10:51:54.482Z"
   },
   {
    "duration": 336,
    "start_time": "2022-07-03T10:52:08.111Z"
   },
   {
    "duration": 241,
    "start_time": "2022-07-03T10:52:23.628Z"
   },
   {
    "duration": 238,
    "start_time": "2022-07-03T10:53:17.301Z"
   },
   {
    "duration": 315,
    "start_time": "2022-07-03T10:53:29.278Z"
   },
   {
    "duration": 3,
    "start_time": "2022-07-03T11:00:54.986Z"
   },
   {
    "duration": 3,
    "start_time": "2022-07-03T11:01:47.625Z"
   },
   {
    "duration": 6,
    "start_time": "2022-07-03T11:04:26.768Z"
   },
   {
    "duration": 6,
    "start_time": "2022-07-03T11:04:35.376Z"
   },
   {
    "duration": 7,
    "start_time": "2022-07-03T11:04:44.386Z"
   },
   {
    "duration": 25,
    "start_time": "2022-07-03T11:09:19.071Z"
   },
   {
    "duration": 13,
    "start_time": "2022-07-03T11:09:20.905Z"
   },
   {
    "duration": 7,
    "start_time": "2022-07-03T11:09:21.295Z"
   },
   {
    "duration": 5,
    "start_time": "2022-07-03T11:09:21.507Z"
   },
   {
    "duration": 9,
    "start_time": "2022-07-03T11:09:21.712Z"
   },
   {
    "duration": 36,
    "start_time": "2022-07-03T11:09:21.934Z"
   },
   {
    "duration": 13,
    "start_time": "2022-07-03T11:09:22.159Z"
   },
   {
    "duration": 18,
    "start_time": "2022-07-03T11:09:22.566Z"
   },
   {
    "duration": 212,
    "start_time": "2022-07-03T11:09:22.739Z"
   },
   {
    "duration": 5,
    "start_time": "2022-07-03T11:09:22.953Z"
   },
   {
    "duration": 235,
    "start_time": "2022-07-03T11:09:23.183Z"
   },
   {
    "duration": 239,
    "start_time": "2022-07-03T11:09:23.420Z"
   },
   {
    "duration": 16,
    "start_time": "2022-07-03T11:09:23.661Z"
   },
   {
    "duration": 218,
    "start_time": "2022-07-03T11:09:23.799Z"
   },
   {
    "duration": 232,
    "start_time": "2022-07-03T11:09:24.019Z"
   },
   {
    "duration": 376,
    "start_time": "2022-07-03T11:09:24.253Z"
   },
   {
    "duration": 5,
    "start_time": "2022-07-03T11:09:24.806Z"
   },
   {
    "duration": 5,
    "start_time": "2022-07-03T11:09:25.007Z"
   },
   {
    "duration": 218,
    "start_time": "2022-07-03T11:09:25.414Z"
   },
   {
    "duration": 5,
    "start_time": "2022-07-03T11:09:29.559Z"
   },
   {
    "duration": 5,
    "start_time": "2022-07-03T11:09:30.314Z"
   },
   {
    "duration": 18,
    "start_time": "2022-07-03T11:09:46.918Z"
   },
   {
    "duration": 7,
    "start_time": "2022-07-03T11:10:27.101Z"
   },
   {
    "duration": 784,
    "start_time": "2022-07-03T11:12:33.224Z"
   },
   {
    "duration": 16,
    "start_time": "2022-07-03T11:14:12.886Z"
   },
   {
    "duration": 6,
    "start_time": "2022-07-03T11:14:35.629Z"
   },
   {
    "duration": 6,
    "start_time": "2022-07-03T11:15:09.528Z"
   },
   {
    "duration": 69,
    "start_time": "2022-07-03T11:49:14.482Z"
   },
   {
    "duration": 450,
    "start_time": "2022-07-03T11:50:01.982Z"
   },
   {
    "duration": 12,
    "start_time": "2022-07-03T11:50:02.701Z"
   },
   {
    "duration": 10,
    "start_time": "2022-07-03T11:54:31.677Z"
   },
   {
    "duration": 11,
    "start_time": "2022-07-03T11:54:36.118Z"
   },
   {
    "duration": 10,
    "start_time": "2022-07-03T11:55:27.779Z"
   },
   {
    "duration": 11,
    "start_time": "2022-07-03T11:55:28.365Z"
   },
   {
    "duration": 9,
    "start_time": "2022-07-03T11:56:48.089Z"
   },
   {
    "duration": 24,
    "start_time": "2022-07-03T11:58:08.393Z"
   },
   {
    "duration": 10,
    "start_time": "2022-07-03T11:59:10.306Z"
   },
   {
    "duration": 26,
    "start_time": "2022-07-03T11:59:12.477Z"
   },
   {
    "duration": 18,
    "start_time": "2022-07-03T12:01:30.805Z"
   },
   {
    "duration": 17,
    "start_time": "2022-07-03T12:02:02.145Z"
   },
   {
    "duration": 8,
    "start_time": "2022-07-03T12:03:39.537Z"
   },
   {
    "duration": 34,
    "start_time": "2022-07-03T12:03:41.193Z"
   },
   {
    "duration": 47,
    "start_time": "2022-07-03T12:09:49.196Z"
   },
   {
    "duration": 36,
    "start_time": "2022-07-03T12:13:40.674Z"
   },
   {
    "duration": 6,
    "start_time": "2022-07-03T12:16:11.373Z"
   },
   {
    "duration": 6,
    "start_time": "2022-07-03T12:17:13.434Z"
   },
   {
    "duration": 6,
    "start_time": "2022-07-03T12:17:51.396Z"
   },
   {
    "duration": 9,
    "start_time": "2022-07-03T12:18:17.378Z"
   },
   {
    "duration": 9,
    "start_time": "2022-07-03T12:18:29.985Z"
   },
   {
    "duration": 49,
    "start_time": "2022-07-03T12:19:04.265Z"
   },
   {
    "duration": 8,
    "start_time": "2022-07-03T12:19:09.397Z"
   },
   {
    "duration": 32,
    "start_time": "2022-07-03T12:20:36.209Z"
   },
   {
    "duration": 33,
    "start_time": "2022-07-03T12:22:35.004Z"
   },
   {
    "duration": 22,
    "start_time": "2022-07-03T12:22:59.920Z"
   },
   {
    "duration": 16,
    "start_time": "2022-07-03T12:23:42.377Z"
   },
   {
    "duration": 14,
    "start_time": "2022-07-03T12:24:07.532Z"
   },
   {
    "duration": 17,
    "start_time": "2022-07-03T12:24:53.325Z"
   },
   {
    "duration": 59,
    "start_time": "2022-07-03T12:25:40.075Z"
   },
   {
    "duration": 45,
    "start_time": "2022-07-03T12:25:41.689Z"
   },
   {
    "duration": 32,
    "start_time": "2022-07-03T12:25:43.209Z"
   },
   {
    "duration": 26,
    "start_time": "2022-07-03T12:25:44.773Z"
   },
   {
    "duration": 6,
    "start_time": "2022-07-03T12:25:48.915Z"
   },
   {
    "duration": 10,
    "start_time": "2022-07-03T12:25:49.902Z"
   },
   {
    "duration": 9,
    "start_time": "2022-07-03T12:25:51.216Z"
   },
   {
    "duration": 16,
    "start_time": "2022-07-03T12:25:55.285Z"
   },
   {
    "duration": 38,
    "start_time": "2022-07-03T12:26:12.665Z"
   },
   {
    "duration": 37,
    "start_time": "2022-07-03T12:26:15.401Z"
   },
   {
    "duration": 30,
    "start_time": "2022-07-03T12:26:16.677Z"
   },
   {
    "duration": 12,
    "start_time": "2022-07-03T12:26:18.534Z"
   },
   {
    "duration": 1078,
    "start_time": "2022-07-03T12:26:33.870Z"
   },
   {
    "duration": 14,
    "start_time": "2022-07-03T12:26:34.951Z"
   },
   {
    "duration": 14,
    "start_time": "2022-07-03T12:26:34.967Z"
   },
   {
    "duration": 15,
    "start_time": "2022-07-03T12:26:34.982Z"
   },
   {
    "duration": 41,
    "start_time": "2022-07-03T12:26:35.000Z"
   },
   {
    "duration": 9,
    "start_time": "2022-07-03T12:26:35.043Z"
   },
   {
    "duration": 35,
    "start_time": "2022-07-03T12:26:35.053Z"
   },
   {
    "duration": 8,
    "start_time": "2022-07-03T12:26:35.090Z"
   },
   {
    "duration": 52,
    "start_time": "2022-07-03T12:26:35.100Z"
   },
   {
    "duration": 8,
    "start_time": "2022-07-03T12:26:35.154Z"
   },
   {
    "duration": 22,
    "start_time": "2022-07-03T12:26:35.164Z"
   },
   {
    "duration": 15,
    "start_time": "2022-07-03T12:26:35.187Z"
   },
   {
    "duration": 21,
    "start_time": "2022-07-03T12:26:35.204Z"
   },
   {
    "duration": 62,
    "start_time": "2022-07-03T12:26:35.228Z"
   },
   {
    "duration": 74,
    "start_time": "2022-07-03T12:26:35.293Z"
   },
   {
    "duration": 40,
    "start_time": "2022-07-03T12:26:35.369Z"
   },
   {
    "duration": 38,
    "start_time": "2022-07-03T12:26:35.411Z"
   },
   {
    "duration": 7,
    "start_time": "2022-07-03T12:26:35.450Z"
   },
   {
    "duration": 21,
    "start_time": "2022-07-03T12:26:35.459Z"
   },
   {
    "duration": 10,
    "start_time": "2022-07-03T12:26:35.481Z"
   },
   {
    "duration": 42,
    "start_time": "2022-07-03T12:26:35.493Z"
   },
   {
    "duration": 50,
    "start_time": "2022-07-03T12:26:35.537Z"
   },
   {
    "duration": 104,
    "start_time": "2022-07-03T12:26:35.589Z"
   },
   {
    "duration": 0,
    "start_time": "2022-07-03T12:26:35.696Z"
   },
   {
    "duration": 0,
    "start_time": "2022-07-03T12:26:35.698Z"
   },
   {
    "duration": 0,
    "start_time": "2022-07-03T12:26:35.699Z"
   },
   {
    "duration": 0,
    "start_time": "2022-07-03T12:26:35.701Z"
   },
   {
    "duration": 0,
    "start_time": "2022-07-03T12:26:35.702Z"
   },
   {
    "duration": 0,
    "start_time": "2022-07-03T12:26:35.704Z"
   },
   {
    "duration": 0,
    "start_time": "2022-07-03T12:26:35.727Z"
   },
   {
    "duration": 0,
    "start_time": "2022-07-03T12:26:35.729Z"
   },
   {
    "duration": 0,
    "start_time": "2022-07-03T12:26:35.730Z"
   },
   {
    "duration": 0,
    "start_time": "2022-07-03T12:26:35.732Z"
   },
   {
    "duration": 0,
    "start_time": "2022-07-03T12:26:35.733Z"
   },
   {
    "duration": 0,
    "start_time": "2022-07-03T12:26:35.734Z"
   },
   {
    "duration": 0,
    "start_time": "2022-07-03T12:26:35.735Z"
   },
   {
    "duration": 1,
    "start_time": "2022-07-03T12:26:35.736Z"
   },
   {
    "duration": 0,
    "start_time": "2022-07-03T12:26:35.738Z"
   },
   {
    "duration": 0,
    "start_time": "2022-07-03T12:26:35.739Z"
   },
   {
    "duration": 0,
    "start_time": "2022-07-03T12:26:35.741Z"
   },
   {
    "duration": 0,
    "start_time": "2022-07-03T12:26:35.742Z"
   },
   {
    "duration": 0,
    "start_time": "2022-07-03T12:26:35.743Z"
   },
   {
    "duration": 0,
    "start_time": "2022-07-03T12:26:35.744Z"
   },
   {
    "duration": 0,
    "start_time": "2022-07-03T12:26:35.745Z"
   },
   {
    "duration": 0,
    "start_time": "2022-07-03T12:26:35.747Z"
   },
   {
    "duration": 450,
    "start_time": "2022-07-03T12:26:41.216Z"
   },
   {
    "duration": 11,
    "start_time": "2022-07-03T12:26:41.989Z"
   },
   {
    "duration": 13,
    "start_time": "2022-07-03T12:26:42.181Z"
   },
   {
    "duration": 10,
    "start_time": "2022-07-03T12:26:42.909Z"
   },
   {
    "duration": 28,
    "start_time": "2022-07-03T12:26:43.138Z"
   },
   {
    "duration": 11,
    "start_time": "2022-07-03T12:26:44.019Z"
   },
   {
    "duration": 33,
    "start_time": "2022-07-03T12:26:44.477Z"
   },
   {
    "duration": 7,
    "start_time": "2022-07-03T12:26:45.770Z"
   },
   {
    "duration": 23,
    "start_time": "2022-07-03T12:26:46.001Z"
   },
   {
    "duration": 10,
    "start_time": "2022-07-03T12:26:47.002Z"
   },
   {
    "duration": 11,
    "start_time": "2022-07-03T12:26:47.333Z"
   },
   {
    "duration": 8,
    "start_time": "2022-07-03T12:26:49.421Z"
   },
   {
    "duration": 8,
    "start_time": "2022-07-03T12:26:50.213Z"
   },
   {
    "duration": 52,
    "start_time": "2022-07-03T12:26:53.397Z"
   },
   {
    "duration": 44,
    "start_time": "2022-07-03T12:27:01.639Z"
   },
   {
    "duration": 37,
    "start_time": "2022-07-03T12:27:05.538Z"
   },
   {
    "duration": 25,
    "start_time": "2022-07-03T12:27:07.139Z"
   },
   {
    "duration": 6,
    "start_time": "2022-07-03T12:27:09.489Z"
   },
   {
    "duration": 9,
    "start_time": "2022-07-03T12:27:12.230Z"
   },
   {
    "duration": 8,
    "start_time": "2022-07-03T12:27:14.805Z"
   },
   {
    "duration": 16,
    "start_time": "2022-07-03T12:27:16.269Z"
   },
   {
    "duration": 36,
    "start_time": "2022-07-03T12:27:23.519Z"
   },
   {
    "duration": 39,
    "start_time": "2022-07-03T12:27:55.070Z"
   },
   {
    "duration": 47,
    "start_time": "2022-07-03T12:28:23.897Z"
   },
   {
    "duration": 37,
    "start_time": "2022-07-03T12:28:46.086Z"
   },
   {
    "duration": 50,
    "start_time": "2022-07-03T12:28:48.117Z"
   },
   {
    "duration": 59,
    "start_time": "2022-07-03T12:31:30.135Z"
   },
   {
    "duration": 34,
    "start_time": "2022-07-03T12:31:53.616Z"
   },
   {
    "duration": 45,
    "start_time": "2022-07-03T12:31:59.800Z"
   },
   {
    "duration": 43,
    "start_time": "2022-07-03T12:32:16.337Z"
   },
   {
    "duration": 33,
    "start_time": "2022-07-03T12:32:31.098Z"
   },
   {
    "duration": 32,
    "start_time": "2022-07-03T12:32:37.103Z"
   },
   {
    "duration": 35,
    "start_time": "2022-07-03T12:32:44.185Z"
   },
   {
    "duration": 28,
    "start_time": "2022-07-03T12:33:39.093Z"
   },
   {
    "duration": 25,
    "start_time": "2022-07-03T12:33:52.417Z"
   },
   {
    "duration": 34,
    "start_time": "2022-07-03T12:37:21.793Z"
   },
   {
    "duration": 37,
    "start_time": "2022-07-03T12:37:24.566Z"
   },
   {
    "duration": 45,
    "start_time": "2022-07-03T12:37:25.077Z"
   },
   {
    "duration": 29,
    "start_time": "2022-07-03T12:37:25.669Z"
   },
   {
    "duration": 22,
    "start_time": "2022-07-03T12:37:26.109Z"
   },
   {
    "duration": 12,
    "start_time": "2022-07-03T12:37:26.333Z"
   },
   {
    "duration": 7,
    "start_time": "2022-07-03T12:37:26.577Z"
   },
   {
    "duration": 5,
    "start_time": "2022-07-03T12:37:26.986Z"
   },
   {
    "duration": 8,
    "start_time": "2022-07-03T12:37:27.376Z"
   },
   {
    "duration": 934,
    "start_time": "2022-07-03T12:37:27.673Z"
   },
   {
    "duration": 0,
    "start_time": "2022-07-03T12:37:28.608Z"
   },
   {
    "duration": 37,
    "start_time": "2022-07-03T12:37:58.706Z"
   },
   {
    "duration": 12,
    "start_time": "2022-07-03T12:39:55.421Z"
   },
   {
    "duration": 9,
    "start_time": "2022-07-03T12:43:41.150Z"
   },
   {
    "duration": 7,
    "start_time": "2022-07-03T12:45:28.118Z"
   },
   {
    "duration": 65,
    "start_time": "2022-07-03T12:45:28.866Z"
   },
   {
    "duration": 2599,
    "start_time": "2022-07-03T13:57:41.246Z"
   },
   {
    "duration": 14,
    "start_time": "2022-07-03T13:57:43.847Z"
   },
   {
    "duration": 12,
    "start_time": "2022-07-03T13:57:43.863Z"
   },
   {
    "duration": 10,
    "start_time": "2022-07-03T13:57:43.877Z"
   },
   {
    "duration": 25,
    "start_time": "2022-07-03T13:57:43.888Z"
   },
   {
    "duration": 11,
    "start_time": "2022-07-03T13:57:43.915Z"
   },
   {
    "duration": 24,
    "start_time": "2022-07-03T13:57:43.928Z"
   },
   {
    "duration": 7,
    "start_time": "2022-07-03T13:57:43.954Z"
   },
   {
    "duration": 20,
    "start_time": "2022-07-03T13:57:43.963Z"
   },
   {
    "duration": 8,
    "start_time": "2022-07-03T13:57:43.986Z"
   },
   {
    "duration": 42,
    "start_time": "2022-07-03T13:57:43.996Z"
   },
   {
    "duration": 13,
    "start_time": "2022-07-03T13:57:44.040Z"
   },
   {
    "duration": 12,
    "start_time": "2022-07-03T13:57:44.054Z"
   },
   {
    "duration": 67,
    "start_time": "2022-07-03T13:57:44.067Z"
   },
   {
    "duration": 42,
    "start_time": "2022-07-03T13:57:44.135Z"
   },
   {
    "duration": 51,
    "start_time": "2022-07-03T13:57:44.179Z"
   },
   {
    "duration": 21,
    "start_time": "2022-07-03T13:57:44.231Z"
   },
   {
    "duration": 6,
    "start_time": "2022-07-03T13:57:44.253Z"
   },
   {
    "duration": 12,
    "start_time": "2022-07-03T13:57:44.260Z"
   },
   {
    "duration": 8,
    "start_time": "2022-07-03T13:57:44.273Z"
   },
   {
    "duration": 61,
    "start_time": "2022-07-03T13:57:44.282Z"
   },
   {
    "duration": 33,
    "start_time": "2022-07-03T13:57:44.344Z"
   },
   {
    "duration": 54,
    "start_time": "2022-07-03T13:57:44.379Z"
   },
   {
    "duration": 26,
    "start_time": "2022-07-03T13:57:44.434Z"
   },
   {
    "duration": 24,
    "start_time": "2022-07-03T13:57:44.462Z"
   },
   {
    "duration": 10,
    "start_time": "2022-07-03T13:57:44.487Z"
   },
   {
    "duration": 36,
    "start_time": "2022-07-03T13:57:44.499Z"
   },
   {
    "duration": 7,
    "start_time": "2022-07-03T13:57:44.538Z"
   },
   {
    "duration": 36,
    "start_time": "2022-07-03T13:57:44.547Z"
   },
   {
    "duration": 103,
    "start_time": "2022-07-03T13:57:44.585Z"
   },
   {
    "duration": 0,
    "start_time": "2022-07-03T13:57:44.690Z"
   },
   {
    "duration": 0,
    "start_time": "2022-07-03T13:57:44.691Z"
   },
   {
    "duration": 1,
    "start_time": "2022-07-03T13:57:44.691Z"
   },
   {
    "duration": 0,
    "start_time": "2022-07-03T13:57:44.693Z"
   },
   {
    "duration": 0,
    "start_time": "2022-07-03T13:57:44.694Z"
   },
   {
    "duration": 0,
    "start_time": "2022-07-03T13:57:44.695Z"
   },
   {
    "duration": 0,
    "start_time": "2022-07-03T13:57:44.696Z"
   },
   {
    "duration": 0,
    "start_time": "2022-07-03T13:57:44.696Z"
   },
   {
    "duration": 0,
    "start_time": "2022-07-03T13:57:44.697Z"
   },
   {
    "duration": 0,
    "start_time": "2022-07-03T13:57:44.699Z"
   },
   {
    "duration": 0,
    "start_time": "2022-07-03T13:57:44.700Z"
   },
   {
    "duration": 0,
    "start_time": "2022-07-03T13:57:44.701Z"
   },
   {
    "duration": 0,
    "start_time": "2022-07-03T13:57:44.701Z"
   },
   {
    "duration": 0,
    "start_time": "2022-07-03T13:57:44.702Z"
   },
   {
    "duration": 401,
    "start_time": "2022-07-03T13:57:48.605Z"
   },
   {
    "duration": 10,
    "start_time": "2022-07-03T13:57:49.901Z"
   },
   {
    "duration": 11,
    "start_time": "2022-07-03T13:57:50.103Z"
   },
   {
    "duration": 10,
    "start_time": "2022-07-03T13:57:50.753Z"
   },
   {
    "duration": 27,
    "start_time": "2022-07-03T13:57:50.935Z"
   },
   {
    "duration": 8,
    "start_time": "2022-07-03T13:57:51.941Z"
   },
   {
    "duration": 21,
    "start_time": "2022-07-03T13:57:52.187Z"
   },
   {
    "duration": 13,
    "start_time": "2022-07-03T13:57:52.970Z"
   },
   {
    "duration": 19,
    "start_time": "2022-07-03T13:57:53.615Z"
   },
   {
    "duration": 9,
    "start_time": "2022-07-03T13:57:54.284Z"
   },
   {
    "duration": 10,
    "start_time": "2022-07-03T13:57:54.682Z"
   },
   {
    "duration": 8,
    "start_time": "2022-07-03T13:57:56.293Z"
   },
   {
    "duration": 8,
    "start_time": "2022-07-03T13:58:13.034Z"
   },
   {
    "duration": 55,
    "start_time": "2022-07-03T13:58:18.610Z"
   },
   {
    "duration": 36,
    "start_time": "2022-07-03T13:58:19.756Z"
   },
   {
    "duration": 33,
    "start_time": "2022-07-03T13:58:20.162Z"
   },
   {
    "duration": 25,
    "start_time": "2022-07-03T13:58:20.579Z"
   },
   {
    "duration": 6,
    "start_time": "2022-07-03T13:58:20.984Z"
   },
   {
    "duration": 8,
    "start_time": "2022-07-03T13:58:21.407Z"
   },
   {
    "duration": 7,
    "start_time": "2022-07-03T13:58:21.845Z"
   },
   {
    "duration": 31,
    "start_time": "2022-07-03T13:58:22.243Z"
   },
   {
    "duration": 33,
    "start_time": "2022-07-03T13:58:22.699Z"
   },
   {
    "duration": 42,
    "start_time": "2022-07-03T13:58:23.156Z"
   },
   {
    "duration": 30,
    "start_time": "2022-07-03T13:58:23.600Z"
   },
   {
    "duration": 30,
    "start_time": "2022-07-03T13:58:24.009Z"
   },
   {
    "duration": 11,
    "start_time": "2022-07-03T13:58:24.435Z"
   },
   {
    "duration": 6,
    "start_time": "2022-07-03T13:58:24.891Z"
   },
   {
    "duration": 5,
    "start_time": "2022-07-03T13:58:25.518Z"
   },
   {
    "duration": 38,
    "start_time": "2022-07-03T13:58:26.232Z"
   },
   {
    "duration": 79,
    "start_time": "2022-07-03T13:58:28.758Z"
   },
   {
    "duration": 14,
    "start_time": "2022-07-03T13:58:39.289Z"
   },
   {
    "duration": 22,
    "start_time": "2022-07-03T13:58:43.706Z"
   },
   {
    "duration": 1550,
    "start_time": "2022-07-03T13:59:29.328Z"
   },
   {
    "duration": 0,
    "start_time": "2022-07-03T13:59:30.880Z"
   },
   {
    "duration": 260,
    "start_time": "2022-07-03T13:59:31.258Z"
   },
   {
    "duration": 23,
    "start_time": "2022-07-03T13:59:43.030Z"
   },
   {
    "duration": 1463,
    "start_time": "2022-07-03T13:59:44.191Z"
   },
   {
    "duration": 0,
    "start_time": "2022-07-03T13:59:45.656Z"
   },
   {
    "duration": 236,
    "start_time": "2022-07-03T13:59:46.057Z"
   },
   {
    "duration": 348,
    "start_time": "2022-07-03T13:59:47.113Z"
   },
   {
    "duration": 19,
    "start_time": "2022-07-03T13:59:47.607Z"
   },
   {
    "duration": 1873,
    "start_time": "2022-07-03T13:59:48.043Z"
   },
   {
    "duration": 0,
    "start_time": "2022-07-03T13:59:49.917Z"
   },
   {
    "duration": 0,
    "start_time": "2022-07-03T13:59:49.919Z"
   },
   {
    "duration": 5,
    "start_time": "2022-07-03T13:59:51.059Z"
   },
   {
    "duration": 5,
    "start_time": "2022-07-03T13:59:51.546Z"
   },
   {
    "duration": 8,
    "start_time": "2022-07-03T13:59:52.043Z"
   },
   {
    "duration": 6,
    "start_time": "2022-07-03T13:59:52.459Z"
   },
   {
    "duration": 1066,
    "start_time": "2022-07-03T14:00:08.499Z"
   },
   {
    "duration": 13,
    "start_time": "2022-07-03T14:00:09.567Z"
   },
   {
    "duration": 15,
    "start_time": "2022-07-03T14:00:09.581Z"
   },
   {
    "duration": 10,
    "start_time": "2022-07-03T14:00:09.598Z"
   },
   {
    "duration": 25,
    "start_time": "2022-07-03T14:00:09.609Z"
   },
   {
    "duration": 7,
    "start_time": "2022-07-03T14:00:09.636Z"
   },
   {
    "duration": 20,
    "start_time": "2022-07-03T14:00:09.645Z"
   },
   {
    "duration": 7,
    "start_time": "2022-07-03T14:00:09.667Z"
   },
   {
    "duration": 17,
    "start_time": "2022-07-03T14:00:09.676Z"
   },
   {
    "duration": 36,
    "start_time": "2022-07-03T14:00:09.696Z"
   },
   {
    "duration": 13,
    "start_time": "2022-07-03T14:00:09.734Z"
   },
   {
    "duration": 22,
    "start_time": "2022-07-03T14:00:09.749Z"
   },
   {
    "duration": 15,
    "start_time": "2022-07-03T14:00:09.772Z"
   },
   {
    "duration": 62,
    "start_time": "2022-07-03T14:00:09.789Z"
   },
   {
    "duration": 43,
    "start_time": "2022-07-03T14:00:09.853Z"
   },
   {
    "duration": 54,
    "start_time": "2022-07-03T14:00:09.898Z"
   },
   {
    "duration": 21,
    "start_time": "2022-07-03T14:00:09.954Z"
   },
   {
    "duration": 6,
    "start_time": "2022-07-03T14:00:09.977Z"
   },
   {
    "duration": 9,
    "start_time": "2022-07-03T14:00:09.985Z"
   },
   {
    "duration": 36,
    "start_time": "2022-07-03T14:00:09.996Z"
   },
   {
    "duration": 35,
    "start_time": "2022-07-03T14:00:10.033Z"
   },
   {
    "duration": 55,
    "start_time": "2022-07-03T14:00:10.070Z"
   },
   {
    "duration": 42,
    "start_time": "2022-07-03T14:00:10.127Z"
   },
   {
    "duration": 28,
    "start_time": "2022-07-03T14:00:10.171Z"
   },
   {
    "duration": 47,
    "start_time": "2022-07-03T14:00:10.201Z"
   },
   {
    "duration": 10,
    "start_time": "2022-07-03T14:00:10.250Z"
   },
   {
    "duration": 10,
    "start_time": "2022-07-03T14:00:10.261Z"
   },
   {
    "duration": 4,
    "start_time": "2022-07-03T14:00:10.274Z"
   },
   {
    "duration": 62,
    "start_time": "2022-07-03T14:00:10.279Z"
   },
   {
    "duration": 12,
    "start_time": "2022-07-03T14:00:10.342Z"
   },
   {
    "duration": 18,
    "start_time": "2022-07-03T14:00:10.356Z"
   },
   {
    "duration": 1954,
    "start_time": "2022-07-03T14:00:10.376Z"
   },
   {
    "duration": 0,
    "start_time": "2022-07-03T14:00:12.331Z"
   },
   {
    "duration": 0,
    "start_time": "2022-07-03T14:00:12.333Z"
   },
   {
    "duration": 0,
    "start_time": "2022-07-03T14:00:12.334Z"
   },
   {
    "duration": 0,
    "start_time": "2022-07-03T14:00:12.335Z"
   },
   {
    "duration": 0,
    "start_time": "2022-07-03T14:00:12.335Z"
   },
   {
    "duration": 0,
    "start_time": "2022-07-03T14:00:12.336Z"
   },
   {
    "duration": 0,
    "start_time": "2022-07-03T14:00:12.338Z"
   },
   {
    "duration": 0,
    "start_time": "2022-07-03T14:00:12.339Z"
   },
   {
    "duration": 0,
    "start_time": "2022-07-03T14:00:12.340Z"
   },
   {
    "duration": 0,
    "start_time": "2022-07-03T14:00:12.342Z"
   },
   {
    "duration": 0,
    "start_time": "2022-07-03T14:00:12.343Z"
   },
   {
    "duration": 433,
    "start_time": "2022-07-03T14:00:16.314Z"
   },
   {
    "duration": 12,
    "start_time": "2022-07-03T14:00:16.761Z"
   },
   {
    "duration": 11,
    "start_time": "2022-07-03T14:00:16.944Z"
   },
   {
    "duration": 8,
    "start_time": "2022-07-03T14:00:17.512Z"
   },
   {
    "duration": 22,
    "start_time": "2022-07-03T14:00:17.700Z"
   },
   {
    "duration": 9,
    "start_time": "2022-07-03T14:00:18.263Z"
   },
   {
    "duration": 19,
    "start_time": "2022-07-03T14:00:18.450Z"
   },
   {
    "duration": 7,
    "start_time": "2022-07-03T14:00:19.034Z"
   },
   {
    "duration": 17,
    "start_time": "2022-07-03T14:00:19.228Z"
   },
   {
    "duration": 8,
    "start_time": "2022-07-03T14:00:19.825Z"
   },
   {
    "duration": 12,
    "start_time": "2022-07-03T14:00:20.017Z"
   },
   {
    "duration": 8,
    "start_time": "2022-07-03T14:00:23.640Z"
   },
   {
    "duration": 7,
    "start_time": "2022-07-03T14:00:24.847Z"
   },
   {
    "duration": 52,
    "start_time": "2022-07-03T14:00:25.932Z"
   },
   {
    "duration": 41,
    "start_time": "2022-07-03T14:00:27.161Z"
   },
   {
    "duration": 40,
    "start_time": "2022-07-03T14:00:28.156Z"
   },
   {
    "duration": 20,
    "start_time": "2022-07-03T14:00:29.231Z"
   },
   {
    "duration": 7,
    "start_time": "2022-07-03T14:00:30.338Z"
   },
   {
    "duration": 9,
    "start_time": "2022-07-03T14:00:32.061Z"
   },
   {
    "duration": 9,
    "start_time": "2022-07-03T14:00:33.076Z"
   },
   {
    "duration": 46,
    "start_time": "2022-07-03T14:00:33.564Z"
   },
   {
    "duration": 42,
    "start_time": "2022-07-03T14:00:34.173Z"
   },
   {
    "duration": 43,
    "start_time": "2022-07-03T14:00:35.309Z"
   },
   {
    "duration": 48,
    "start_time": "2022-07-03T14:00:36.507Z"
   },
   {
    "duration": 28,
    "start_time": "2022-07-03T14:00:38.171Z"
   },
   {
    "duration": 14,
    "start_time": "2022-07-03T14:00:40.017Z"
   },
   {
    "duration": 7,
    "start_time": "2022-07-03T14:00:41.366Z"
   },
   {
    "duration": 4,
    "start_time": "2022-07-03T14:00:42.459Z"
   },
   {
    "duration": 43,
    "start_time": "2022-07-03T14:00:44.336Z"
   },
   {
    "duration": 16,
    "start_time": "2022-07-03T14:00:45.599Z"
   },
   {
    "duration": 17,
    "start_time": "2022-07-03T14:00:48.307Z"
   },
   {
    "duration": 2202,
    "start_time": "2022-07-03T14:00:50.029Z"
   },
   {
    "duration": 1781,
    "start_time": "2022-07-03T14:01:10.922Z"
   },
   {
    "duration": 18,
    "start_time": "2022-07-03T14:01:14.107Z"
   },
   {
    "duration": 1848,
    "start_time": "2022-07-03T14:01:14.530Z"
   },
   {
    "duration": 0,
    "start_time": "2022-07-03T14:01:16.380Z"
   },
   {
    "duration": 5,
    "start_time": "2022-07-03T14:01:25.399Z"
   },
   {
    "duration": 367,
    "start_time": "2022-07-03T14:01:26.637Z"
   },
   {
    "duration": 247,
    "start_time": "2022-07-03T14:01:27.888Z"
   },
   {
    "duration": 16,
    "start_time": "2022-07-03T14:01:28.247Z"
   },
   {
    "duration": 1270,
    "start_time": "2022-07-03T14:01:28.643Z"
   },
   {
    "duration": 0,
    "start_time": "2022-07-03T14:01:29.915Z"
   },
   {
    "duration": 0,
    "start_time": "2022-07-03T14:01:29.916Z"
   },
   {
    "duration": 1567,
    "start_time": "2022-07-03T14:01:35.438Z"
   },
   {
    "duration": 258,
    "start_time": "2022-07-03T14:01:41.127Z"
   },
   {
    "duration": 239,
    "start_time": "2022-07-03T14:01:45.595Z"
   },
   {
    "duration": 334,
    "start_time": "2022-07-03T14:01:46.293Z"
   },
   {
    "duration": 293,
    "start_time": "2022-07-03T14:01:54.669Z"
   },
   {
    "duration": 19,
    "start_time": "2022-07-03T14:03:19.823Z"
   },
   {
    "duration": 256,
    "start_time": "2022-07-03T14:11:04.378Z"
   },
   {
    "duration": 5,
    "start_time": "2022-07-03T14:13:17.105Z"
   },
   {
    "duration": 296,
    "start_time": "2022-07-03T14:15:59.623Z"
   },
   {
    "duration": 220,
    "start_time": "2022-07-03T14:16:36.153Z"
   },
   {
    "duration": 223,
    "start_time": "2022-07-03T14:19:59.192Z"
   },
   {
    "duration": 233,
    "start_time": "2022-07-03T14:22:02.004Z"
   },
   {
    "duration": 5,
    "start_time": "2022-07-03T14:22:04.063Z"
   },
   {
    "duration": 280,
    "start_time": "2022-07-03T14:22:06.752Z"
   },
   {
    "duration": 244,
    "start_time": "2022-07-03T14:22:10.909Z"
   },
   {
    "duration": 264,
    "start_time": "2022-07-03T14:26:11.085Z"
   },
   {
    "duration": 271,
    "start_time": "2022-07-03T14:31:54.142Z"
   },
   {
    "duration": 283,
    "start_time": "2022-07-03T14:32:31.084Z"
   },
   {
    "duration": 3,
    "start_time": "2022-07-03T14:35:06.071Z"
   },
   {
    "duration": 6,
    "start_time": "2022-07-03T14:41:42.165Z"
   },
   {
    "duration": 7,
    "start_time": "2022-07-03T14:41:42.458Z"
   },
   {
    "duration": 10,
    "start_time": "2022-07-03T14:41:42.897Z"
   },
   {
    "duration": 6,
    "start_time": "2022-07-03T14:41:43.192Z"
   },
   {
    "duration": 6,
    "start_time": "2022-07-03T14:44:32.253Z"
   },
   {
    "duration": 5,
    "start_time": "2022-07-03T14:44:33.253Z"
   },
   {
    "duration": 1197,
    "start_time": "2022-07-03T15:02:20.424Z"
   },
   {
    "duration": 20,
    "start_time": "2022-07-03T15:02:21.623Z"
   },
   {
    "duration": 15,
    "start_time": "2022-07-03T15:02:21.645Z"
   },
   {
    "duration": 13,
    "start_time": "2022-07-03T15:02:21.663Z"
   },
   {
    "duration": 59,
    "start_time": "2022-07-03T15:02:21.678Z"
   },
   {
    "duration": 12,
    "start_time": "2022-07-03T15:02:21.739Z"
   },
   {
    "duration": 33,
    "start_time": "2022-07-03T15:02:21.753Z"
   },
   {
    "duration": 11,
    "start_time": "2022-07-03T15:02:21.789Z"
   },
   {
    "duration": 37,
    "start_time": "2022-07-03T15:02:21.802Z"
   },
   {
    "duration": 13,
    "start_time": "2022-07-03T15:02:21.844Z"
   },
   {
    "duration": 21,
    "start_time": "2022-07-03T15:02:21.859Z"
   },
   {
    "duration": 11,
    "start_time": "2022-07-03T15:02:21.882Z"
   },
   {
    "duration": 42,
    "start_time": "2022-07-03T15:02:21.895Z"
   },
   {
    "duration": 61,
    "start_time": "2022-07-03T15:02:21.941Z"
   },
   {
    "duration": 54,
    "start_time": "2022-07-03T15:02:22.004Z"
   },
   {
    "duration": 50,
    "start_time": "2022-07-03T15:02:22.061Z"
   },
   {
    "duration": 28,
    "start_time": "2022-07-03T15:02:22.126Z"
   },
   {
    "duration": 8,
    "start_time": "2022-07-03T15:02:22.156Z"
   },
   {
    "duration": 11,
    "start_time": "2022-07-03T15:02:22.166Z"
   },
   {
    "duration": 17,
    "start_time": "2022-07-03T15:02:22.179Z"
   },
   {
    "duration": 77,
    "start_time": "2022-07-03T15:02:22.198Z"
   },
   {
    "duration": 53,
    "start_time": "2022-07-03T15:02:22.277Z"
   },
   {
    "duration": 69,
    "start_time": "2022-07-03T15:02:22.335Z"
   },
   {
    "duration": 61,
    "start_time": "2022-07-03T15:02:22.407Z"
   },
   {
    "duration": 41,
    "start_time": "2022-07-03T15:02:22.470Z"
   },
   {
    "duration": 19,
    "start_time": "2022-07-03T15:02:22.530Z"
   },
   {
    "duration": 8,
    "start_time": "2022-07-03T15:02:22.551Z"
   },
   {
    "duration": 5,
    "start_time": "2022-07-03T15:02:22.563Z"
   },
   {
    "duration": 72,
    "start_time": "2022-07-03T15:02:22.570Z"
   },
   {
    "duration": 15,
    "start_time": "2022-07-03T15:02:22.644Z"
   },
   {
    "duration": 26,
    "start_time": "2022-07-03T15:02:22.661Z"
   },
   {
    "duration": 295,
    "start_time": "2022-07-03T15:02:22.689Z"
   },
   {
    "duration": 4,
    "start_time": "2022-07-03T15:02:22.986Z"
   },
   {
    "duration": 242,
    "start_time": "2022-07-03T15:02:22.992Z"
   },
   {
    "duration": 329,
    "start_time": "2022-07-03T15:02:23.241Z"
   },
   {
    "duration": 19,
    "start_time": "2022-07-03T15:02:23.573Z"
   },
   {
    "duration": 279,
    "start_time": "2022-07-03T15:02:23.594Z"
   },
   {
    "duration": 295,
    "start_time": "2022-07-03T15:02:23.875Z"
   },
   {
    "duration": 270,
    "start_time": "2022-07-03T15:02:24.171Z"
   },
   {
    "duration": 5,
    "start_time": "2022-07-03T15:02:24.443Z"
   },
   {
    "duration": 6,
    "start_time": "2022-07-03T15:02:24.450Z"
   },
   {
    "duration": 12,
    "start_time": "2022-07-03T15:02:24.458Z"
   },
   {
    "duration": 7,
    "start_time": "2022-07-03T15:02:24.472Z"
   },
   {
    "duration": 2296,
    "start_time": "2022-07-03T21:42:31.444Z"
   },
   {
    "duration": 27,
    "start_time": "2022-07-03T21:42:33.745Z"
   },
   {
    "duration": 47,
    "start_time": "2022-07-03T21:42:33.774Z"
   },
   {
    "duration": 10,
    "start_time": "2022-07-03T21:42:33.823Z"
   },
   {
    "duration": 39,
    "start_time": "2022-07-03T21:42:33.836Z"
   },
   {
    "duration": 14,
    "start_time": "2022-07-03T21:42:33.877Z"
   },
   {
    "duration": 47,
    "start_time": "2022-07-03T21:42:33.895Z"
   },
   {
    "duration": 7,
    "start_time": "2022-07-03T21:42:33.944Z"
   },
   {
    "duration": 67,
    "start_time": "2022-07-03T21:42:33.963Z"
   },
   {
    "duration": 7,
    "start_time": "2022-07-03T21:42:34.032Z"
   },
   {
    "duration": 21,
    "start_time": "2022-07-03T21:42:34.041Z"
   },
   {
    "duration": 57,
    "start_time": "2022-07-03T21:42:34.064Z"
   },
   {
    "duration": 13,
    "start_time": "2022-07-03T21:42:34.123Z"
   },
   {
    "duration": 82,
    "start_time": "2022-07-03T21:42:34.140Z"
   },
   {
    "duration": 49,
    "start_time": "2022-07-03T21:42:34.224Z"
   },
   {
    "duration": 55,
    "start_time": "2022-07-03T21:42:34.274Z"
   },
   {
    "duration": 36,
    "start_time": "2022-07-03T21:42:34.332Z"
   },
   {
    "duration": 64,
    "start_time": "2022-07-03T21:42:34.369Z"
   },
   {
    "duration": 12,
    "start_time": "2022-07-03T21:42:34.435Z"
   },
   {
    "duration": 74,
    "start_time": "2022-07-03T21:42:34.449Z"
   },
   {
    "duration": 47,
    "start_time": "2022-07-03T21:42:34.525Z"
   },
   {
    "duration": 60,
    "start_time": "2022-07-03T21:42:34.574Z"
   },
   {
    "duration": 89,
    "start_time": "2022-07-03T21:42:34.635Z"
   },
   {
    "duration": 35,
    "start_time": "2022-07-03T21:42:34.727Z"
   },
   {
    "duration": 38,
    "start_time": "2022-07-03T21:42:34.764Z"
   },
   {
    "duration": 26,
    "start_time": "2022-07-03T21:42:34.805Z"
   },
   {
    "duration": 6,
    "start_time": "2022-07-03T21:42:34.833Z"
   },
   {
    "duration": 6,
    "start_time": "2022-07-03T21:42:34.840Z"
   },
   {
    "duration": 79,
    "start_time": "2022-07-03T21:42:34.847Z"
   },
   {
    "duration": 12,
    "start_time": "2022-07-03T21:42:34.928Z"
   },
   {
    "duration": 20,
    "start_time": "2022-07-03T21:42:34.942Z"
   },
   {
    "duration": 342,
    "start_time": "2022-07-03T21:42:34.965Z"
   },
   {
    "duration": 12,
    "start_time": "2022-07-03T21:42:35.309Z"
   },
   {
    "duration": 325,
    "start_time": "2022-07-03T21:42:35.326Z"
   },
   {
    "duration": 364,
    "start_time": "2022-07-03T21:42:35.660Z"
   },
   {
    "duration": 18,
    "start_time": "2022-07-03T21:42:36.026Z"
   },
   {
    "duration": 318,
    "start_time": "2022-07-03T21:42:36.045Z"
   },
   {
    "duration": 261,
    "start_time": "2022-07-03T21:42:36.376Z"
   },
   {
    "duration": 311,
    "start_time": "2022-07-03T21:42:36.639Z"
   },
   {
    "duration": 13,
    "start_time": "2022-07-03T21:42:36.952Z"
   },
   {
    "duration": 50,
    "start_time": "2022-07-03T21:42:36.968Z"
   },
   {
    "duration": 8,
    "start_time": "2022-07-03T21:42:37.020Z"
   },
   {
    "duration": 7,
    "start_time": "2022-07-03T21:42:37.030Z"
   },
   {
    "duration": 16,
    "start_time": "2022-07-03T21:51:49.010Z"
   },
   {
    "duration": 19,
    "start_time": "2022-07-03T21:53:17.909Z"
   },
   {
    "duration": 158,
    "start_time": "2022-07-03T21:57:33.871Z"
   },
   {
    "duration": 130,
    "start_time": "2022-07-03T21:57:55.709Z"
   },
   {
    "duration": 134,
    "start_time": "2022-07-03T21:58:05.527Z"
   },
   {
    "duration": 113,
    "start_time": "2022-07-03T21:58:12.305Z"
   },
   {
    "duration": 61,
    "start_time": "2022-07-03T21:58:24.272Z"
   },
   {
    "duration": 24,
    "start_time": "2022-07-03T21:58:28.241Z"
   },
   {
    "duration": 20,
    "start_time": "2022-07-03T21:58:33.655Z"
   },
   {
    "duration": 55,
    "start_time": "2022-07-04T02:34:33.720Z"
   },
   {
    "duration": 1969,
    "start_time": "2022-07-04T02:34:53.494Z"
   },
   {
    "duration": 21,
    "start_time": "2022-07-04T02:34:55.466Z"
   },
   {
    "duration": 41,
    "start_time": "2022-07-04T02:34:55.489Z"
   },
   {
    "duration": 17,
    "start_time": "2022-07-04T02:34:55.532Z"
   },
   {
    "duration": 55,
    "start_time": "2022-07-04T02:34:55.551Z"
   },
   {
    "duration": 9,
    "start_time": "2022-07-04T02:34:55.608Z"
   },
   {
    "duration": 31,
    "start_time": "2022-07-04T02:34:55.619Z"
   },
   {
    "duration": 8,
    "start_time": "2022-07-04T02:34:56.040Z"
   },
   {
    "duration": 18,
    "start_time": "2022-07-04T02:34:56.233Z"
   },
   {
    "duration": 10,
    "start_time": "2022-07-04T02:34:57.126Z"
   },
   {
    "duration": 13,
    "start_time": "2022-07-04T02:34:57.348Z"
   },
   {
    "duration": 8,
    "start_time": "2022-07-04T02:34:58.982Z"
   },
   {
    "duration": 7,
    "start_time": "2022-07-04T02:34:59.620Z"
   },
   {
    "duration": 60,
    "start_time": "2022-07-04T02:35:00.333Z"
   },
   {
    "duration": 55,
    "start_time": "2022-07-04T02:35:04.023Z"
   },
   {
    "duration": 33,
    "start_time": "2022-07-04T02:35:06.501Z"
   },
   {
    "duration": 30,
    "start_time": "2022-07-04T02:35:07.918Z"
   },
   {
    "duration": 8,
    "start_time": "2022-07-04T02:35:10.696Z"
   },
   {
    "duration": 19,
    "start_time": "2022-07-04T02:35:11.472Z"
   },
   {
    "duration": 38,
    "start_time": "2022-07-04T02:35:52.498Z"
   },
   {
    "duration": 46,
    "start_time": "2022-07-04T02:37:00.589Z"
   },
   {
    "duration": 51,
    "start_time": "2022-07-04T02:41:31.337Z"
   },
   {
    "duration": 400,
    "start_time": "2022-07-04T02:41:57.190Z"
   },
   {
    "duration": 675,
    "start_time": "2022-07-04T02:43:22.130Z"
   },
   {
    "duration": 655,
    "start_time": "2022-07-04T02:44:09.887Z"
   },
   {
    "duration": 383,
    "start_time": "2022-07-04T02:44:52.383Z"
   },
   {
    "duration": 330,
    "start_time": "2022-07-04T02:45:55.737Z"
   },
   {
    "duration": 15,
    "start_time": "2022-07-04T02:46:25.905Z"
   },
   {
    "duration": 28,
    "start_time": "2022-07-04T02:47:44.994Z"
   },
   {
    "duration": 16,
    "start_time": "2022-07-04T02:49:53.043Z"
   },
   {
    "duration": 11,
    "start_time": "2022-07-04T02:50:46.296Z"
   },
   {
    "duration": 14,
    "start_time": "2022-07-04T02:51:14.978Z"
   },
   {
    "duration": 18,
    "start_time": "2022-07-04T02:51:21.782Z"
   },
   {
    "duration": 13,
    "start_time": "2022-07-04T02:51:32.527Z"
   },
   {
    "duration": 1146,
    "start_time": "2022-07-04T02:51:50.044Z"
   },
   {
    "duration": 13,
    "start_time": "2022-07-04T02:51:51.192Z"
   },
   {
    "duration": 14,
    "start_time": "2022-07-04T02:51:51.207Z"
   },
   {
    "duration": 11,
    "start_time": "2022-07-04T02:51:51.223Z"
   },
   {
    "duration": 51,
    "start_time": "2022-07-04T02:51:51.235Z"
   },
   {
    "duration": 15,
    "start_time": "2022-07-04T02:51:51.291Z"
   },
   {
    "duration": 24,
    "start_time": "2022-07-04T02:51:51.308Z"
   },
   {
    "duration": 8,
    "start_time": "2022-07-04T02:51:51.334Z"
   },
   {
    "duration": 40,
    "start_time": "2022-07-04T02:51:51.343Z"
   },
   {
    "duration": 13,
    "start_time": "2022-07-04T02:51:51.393Z"
   },
   {
    "duration": 18,
    "start_time": "2022-07-04T02:51:51.408Z"
   },
   {
    "duration": 18,
    "start_time": "2022-07-04T02:51:51.428Z"
   },
   {
    "duration": 63,
    "start_time": "2022-07-04T02:51:51.447Z"
   },
   {
    "duration": 83,
    "start_time": "2022-07-04T02:51:51.512Z"
   },
   {
    "duration": 61,
    "start_time": "2022-07-04T02:51:51.596Z"
   },
   {
    "duration": 46,
    "start_time": "2022-07-04T02:51:51.659Z"
   },
   {
    "duration": 26,
    "start_time": "2022-07-04T02:51:51.708Z"
   },
   {
    "duration": 28,
    "start_time": "2022-07-04T02:51:51.736Z"
   },
   {
    "duration": 55,
    "start_time": "2022-07-04T02:51:51.766Z"
   },
   {
    "duration": 9,
    "start_time": "2022-07-04T02:51:51.823Z"
   },
   {
    "duration": 42,
    "start_time": "2022-07-04T02:51:51.834Z"
   },
   {
    "duration": 47,
    "start_time": "2022-07-04T02:51:51.879Z"
   },
   {
    "duration": 46,
    "start_time": "2022-07-04T02:51:51.928Z"
   },
   {
    "duration": 33,
    "start_time": "2022-07-04T02:51:51.975Z"
   },
   {
    "duration": 49,
    "start_time": "2022-07-04T02:51:52.009Z"
   },
   {
    "duration": 14,
    "start_time": "2022-07-04T02:51:52.065Z"
   },
   {
    "duration": 33,
    "start_time": "2022-07-04T02:51:52.081Z"
   },
   {
    "duration": 9,
    "start_time": "2022-07-04T02:51:52.118Z"
   },
   {
    "duration": 59,
    "start_time": "2022-07-04T02:51:52.129Z"
   },
   {
    "duration": 17,
    "start_time": "2022-07-04T02:51:52.190Z"
   },
   {
    "duration": 31,
    "start_time": "2022-07-04T02:51:52.209Z"
   },
   {
    "duration": 289,
    "start_time": "2022-07-04T02:51:52.242Z"
   },
   {
    "duration": 6,
    "start_time": "2022-07-04T02:51:52.533Z"
   },
   {
    "duration": 259,
    "start_time": "2022-07-04T02:51:52.541Z"
   },
   {
    "duration": 372,
    "start_time": "2022-07-04T02:51:52.802Z"
   },
   {
    "duration": 23,
    "start_time": "2022-07-04T02:51:53.175Z"
   },
   {
    "duration": 280,
    "start_time": "2022-07-04T02:51:53.199Z"
   },
   {
    "duration": 265,
    "start_time": "2022-07-04T02:51:53.481Z"
   },
   {
    "duration": 271,
    "start_time": "2022-07-04T02:51:53.748Z"
   },
   {
    "duration": 5,
    "start_time": "2022-07-04T02:51:54.021Z"
   },
   {
    "duration": 8,
    "start_time": "2022-07-04T02:51:54.028Z"
   },
   {
    "duration": 20,
    "start_time": "2022-07-04T02:51:54.038Z"
   },
   {
    "duration": 36,
    "start_time": "2022-07-04T02:51:54.059Z"
   },
   {
    "duration": 425,
    "start_time": "2022-07-04T02:52:14.584Z"
   },
   {
    "duration": 14,
    "start_time": "2022-07-04T02:52:15.225Z"
   },
   {
    "duration": 15,
    "start_time": "2022-07-04T02:52:15.391Z"
   },
   {
    "duration": 11,
    "start_time": "2022-07-04T02:52:15.943Z"
   },
   {
    "duration": 47,
    "start_time": "2022-07-04T02:52:16.118Z"
   },
   {
    "duration": 12,
    "start_time": "2022-07-04T02:52:16.692Z"
   },
   {
    "duration": 25,
    "start_time": "2022-07-04T02:52:16.890Z"
   },
   {
    "duration": 8,
    "start_time": "2022-07-04T02:52:17.535Z"
   },
   {
    "duration": 17,
    "start_time": "2022-07-04T02:52:17.781Z"
   },
   {
    "duration": 10,
    "start_time": "2022-07-04T02:52:18.449Z"
   },
   {
    "duration": 11,
    "start_time": "2022-07-04T02:52:18.686Z"
   },
   {
    "duration": 458,
    "start_time": "2022-07-04T02:56:16.747Z"
   },
   {
    "duration": 49,
    "start_time": "2022-07-04T02:58:42.663Z"
   },
   {
    "duration": 56,
    "start_time": "2022-07-04T02:58:55.681Z"
   },
   {
    "duration": 63,
    "start_time": "2022-07-04T02:59:44.527Z"
   },
   {
    "duration": 51,
    "start_time": "2022-07-04T03:01:18.607Z"
   },
   {
    "duration": 55,
    "start_time": "2022-07-04T03:01:22.274Z"
   },
   {
    "duration": 6,
    "start_time": "2022-07-04T03:01:39.746Z"
   },
   {
    "duration": 2324,
    "start_time": "2022-07-04T03:01:41.290Z"
   },
   {
    "duration": 20,
    "start_time": "2022-07-04T03:01:46.498Z"
   },
   {
    "duration": 61,
    "start_time": "2022-07-04T03:03:16.612Z"
   },
   {
    "duration": 60,
    "start_time": "2022-07-04T03:03:34.325Z"
   },
   {
    "duration": 33,
    "start_time": "2022-07-04T03:06:06.044Z"
   },
   {
    "duration": 21,
    "start_time": "2022-07-04T03:12:40.780Z"
   },
   {
    "duration": 42,
    "start_time": "2022-07-04T03:12:41.695Z"
   },
   {
    "duration": 312,
    "start_time": "2022-07-04T03:12:42.101Z"
   },
   {
    "duration": 6,
    "start_time": "2022-07-04T03:12:42.514Z"
   },
   {
    "duration": 281,
    "start_time": "2022-07-04T03:12:43.122Z"
   },
   {
    "duration": 382,
    "start_time": "2022-07-04T03:12:43.781Z"
   },
   {
    "duration": 58,
    "start_time": "2022-07-04T03:12:44.373Z"
   },
   {
    "duration": 347,
    "start_time": "2022-07-04T03:12:44.870Z"
   },
   {
    "duration": 373,
    "start_time": "2022-07-04T03:12:45.405Z"
   },
   {
    "duration": 310,
    "start_time": "2022-07-04T03:12:46.036Z"
   },
   {
    "duration": 9,
    "start_time": "2022-07-04T03:12:49.253Z"
   },
   {
    "duration": 5,
    "start_time": "2022-07-04T03:12:49.516Z"
   },
   {
    "duration": 34,
    "start_time": "2022-07-04T03:12:50.351Z"
   },
   {
    "duration": 40,
    "start_time": "2022-07-04T03:12:50.672Z"
   },
   {
    "duration": 1812,
    "start_time": "2022-07-04T03:22:44.572Z"
   },
   {
    "duration": 21,
    "start_time": "2022-07-04T03:22:49.085Z"
   },
   {
    "duration": 2213,
    "start_time": "2022-07-04T03:23:12.792Z"
   },
   {
    "duration": 1864,
    "start_time": "2022-07-04T06:14:39.482Z"
   },
   {
    "duration": 16,
    "start_time": "2022-07-04T06:14:42.025Z"
   },
   {
    "duration": 17,
    "start_time": "2022-07-04T06:14:42.197Z"
   },
   {
    "duration": 10,
    "start_time": "2022-07-04T06:14:42.725Z"
   },
   {
    "duration": 29,
    "start_time": "2022-07-04T06:14:42.908Z"
   },
   {
    "duration": 12,
    "start_time": "2022-07-04T06:14:43.845Z"
   },
   {
    "duration": 28,
    "start_time": "2022-07-04T06:14:44.620Z"
   },
   {
    "duration": 11,
    "start_time": "2022-07-04T06:14:48.022Z"
   },
   {
    "duration": 30,
    "start_time": "2022-07-04T06:14:48.789Z"
   },
   {
    "duration": 14,
    "start_time": "2022-07-04T06:14:55.236Z"
   },
   {
    "duration": 16,
    "start_time": "2022-07-04T06:14:55.885Z"
   },
   {
    "duration": 14,
    "start_time": "2022-07-04T06:15:01.366Z"
   },
   {
    "duration": 8,
    "start_time": "2022-07-04T06:15:01.885Z"
   },
   {
    "duration": 60,
    "start_time": "2022-07-04T06:15:02.620Z"
   },
   {
    "duration": 45,
    "start_time": "2022-07-04T06:15:03.786Z"
   },
   {
    "duration": 43,
    "start_time": "2022-07-04T06:15:04.220Z"
   },
   {
    "duration": 98,
    "start_time": "2022-07-04T06:15:04.652Z"
   },
   {
    "duration": 9,
    "start_time": "2022-07-04T06:15:27.333Z"
   },
   {
    "duration": 9,
    "start_time": "2022-07-04T06:16:50.611Z"
   },
   {
    "duration": 408,
    "start_time": "2022-07-04T06:17:56.907Z"
   },
   {
    "duration": 10,
    "start_time": "2022-07-04T06:17:57.490Z"
   },
   {
    "duration": 11,
    "start_time": "2022-07-04T06:17:57.746Z"
   },
   {
    "duration": 9,
    "start_time": "2022-07-04T06:17:58.473Z"
   },
   {
    "duration": 38,
    "start_time": "2022-07-04T06:17:58.738Z"
   },
   {
    "duration": 11,
    "start_time": "2022-07-04T06:17:59.465Z"
   },
   {
    "duration": 34,
    "start_time": "2022-07-04T06:17:59.722Z"
   },
   {
    "duration": 12,
    "start_time": "2022-07-04T06:18:00.621Z"
   },
   {
    "duration": 25,
    "start_time": "2022-07-04T06:18:00.978Z"
   },
   {
    "duration": 8,
    "start_time": "2022-07-04T06:18:02.041Z"
   },
   {
    "duration": 11,
    "start_time": "2022-07-04T06:18:02.306Z"
   },
   {
    "duration": 8,
    "start_time": "2022-07-04T06:18:05.665Z"
   },
   {
    "duration": 9,
    "start_time": "2022-07-04T06:18:07.424Z"
   },
   {
    "duration": 54,
    "start_time": "2022-07-04T06:18:10.113Z"
   },
   {
    "duration": 45,
    "start_time": "2022-07-04T06:18:29.689Z"
   },
   {
    "duration": 35,
    "start_time": "2022-07-04T06:18:30.648Z"
   },
   {
    "duration": 9,
    "start_time": "2022-07-04T06:18:32.377Z"
   },
   {
    "duration": 2,
    "start_time": "2022-07-04T06:18:34.541Z"
   },
   {
    "duration": 2,
    "start_time": "2022-07-04T06:18:36.313Z"
   },
   {
    "duration": 8,
    "start_time": "2022-07-04T06:21:46.351Z"
   },
   {
    "duration": 50,
    "start_time": "2022-07-04T06:21:53.430Z"
   },
   {
    "duration": 366,
    "start_time": "2022-07-04T06:23:06.453Z"
   },
   {
    "duration": 46,
    "start_time": "2022-07-04T06:23:18.837Z"
   },
   {
    "duration": 13,
    "start_time": "2022-07-04T06:23:48.074Z"
   },
   {
    "duration": 28,
    "start_time": "2022-07-04T06:24:25.939Z"
   },
   {
    "duration": 15,
    "start_time": "2022-07-04T06:24:42.630Z"
   },
   {
    "duration": 27,
    "start_time": "2022-07-04T06:25:24.531Z"
   },
   {
    "duration": 14,
    "start_time": "2022-07-04T06:25:25.820Z"
   },
   {
    "duration": 28,
    "start_time": "2022-07-04T06:25:45.170Z"
   },
   {
    "duration": 14,
    "start_time": "2022-07-04T06:25:46.210Z"
   },
   {
    "duration": 36,
    "start_time": "2022-07-04T06:26:06.058Z"
   },
   {
    "duration": 13,
    "start_time": "2022-07-04T06:26:22.626Z"
   },
   {
    "duration": 37,
    "start_time": "2022-07-04T06:28:02.504Z"
   },
   {
    "duration": 30,
    "start_time": "2022-07-04T06:31:19.437Z"
   },
   {
    "duration": 36,
    "start_time": "2022-07-04T06:31:31.231Z"
   },
   {
    "duration": 24,
    "start_time": "2022-07-04T06:31:47.820Z"
   },
   {
    "duration": 66,
    "start_time": "2022-07-04T06:32:00.789Z"
   },
   {
    "duration": 23,
    "start_time": "2022-07-04T06:32:02.651Z"
   },
   {
    "duration": 32,
    "start_time": "2022-07-04T06:32:08.980Z"
   },
   {
    "duration": 26,
    "start_time": "2022-07-04T06:32:54.187Z"
   },
   {
    "duration": 32,
    "start_time": "2022-07-04T06:56:41.433Z"
   },
   {
    "duration": 37,
    "start_time": "2022-07-04T06:57:00.257Z"
   },
   {
    "duration": 33,
    "start_time": "2022-07-04T06:57:57.344Z"
   },
   {
    "duration": 36,
    "start_time": "2022-07-04T06:59:15.606Z"
   },
   {
    "duration": 10,
    "start_time": "2022-07-04T06:59:32.444Z"
   },
   {
    "duration": 370,
    "start_time": "2022-07-04T06:59:47.510Z"
   },
   {
    "duration": 10,
    "start_time": "2022-07-04T06:59:47.981Z"
   },
   {
    "duration": 11,
    "start_time": "2022-07-04T06:59:48.197Z"
   },
   {
    "duration": 9,
    "start_time": "2022-07-04T06:59:49.285Z"
   },
   {
    "duration": 28,
    "start_time": "2022-07-04T06:59:49.572Z"
   },
   {
    "duration": 9,
    "start_time": "2022-07-04T06:59:50.900Z"
   },
   {
    "duration": 22,
    "start_time": "2022-07-04T06:59:51.540Z"
   },
   {
    "duration": 7,
    "start_time": "2022-07-04T06:59:53.348Z"
   },
   {
    "duration": 17,
    "start_time": "2022-07-04T06:59:54.021Z"
   },
   {
    "duration": 10,
    "start_time": "2022-07-04T06:59:56.012Z"
   },
   {
    "duration": 10,
    "start_time": "2022-07-04T06:59:56.573Z"
   },
   {
    "duration": 8,
    "start_time": "2022-07-04T07:00:11.788Z"
   },
   {
    "duration": 7,
    "start_time": "2022-07-04T07:00:12.708Z"
   },
   {
    "duration": 57,
    "start_time": "2022-07-04T07:00:13.531Z"
   },
   {
    "duration": 38,
    "start_time": "2022-07-04T07:00:15.876Z"
   },
   {
    "duration": 36,
    "start_time": "2022-07-04T07:00:16.276Z"
   },
   {
    "duration": 9,
    "start_time": "2022-07-04T07:00:17.076Z"
   },
   {
    "duration": 2,
    "start_time": "2022-07-04T07:00:17.981Z"
   },
   {
    "duration": 2,
    "start_time": "2022-07-04T07:00:18.564Z"
   },
   {
    "duration": 9,
    "start_time": "2022-07-04T07:00:20.788Z"
   },
   {
    "duration": 36,
    "start_time": "2022-07-04T07:00:30.796Z"
   },
   {
    "duration": 45,
    "start_time": "2022-07-04T07:00:33.964Z"
   },
   {
    "duration": 11,
    "start_time": "2022-07-04T07:00:37.259Z"
   },
   {
    "duration": 33,
    "start_time": "2022-07-04T07:03:09.090Z"
   },
   {
    "duration": 8,
    "start_time": "2022-07-04T07:04:24.728Z"
   },
   {
    "duration": 12,
    "start_time": "2022-07-04T07:05:25.441Z"
   },
   {
    "duration": 10,
    "start_time": "2022-07-04T07:06:22.959Z"
   },
   {
    "duration": 387,
    "start_time": "2022-07-04T07:06:53.469Z"
   },
   {
    "duration": 14,
    "start_time": "2022-07-04T07:06:53.858Z"
   },
   {
    "duration": 11,
    "start_time": "2022-07-04T07:06:54.014Z"
   },
   {
    "duration": 8,
    "start_time": "2022-07-04T07:06:54.573Z"
   },
   {
    "duration": 24,
    "start_time": "2022-07-04T07:06:54.757Z"
   },
   {
    "duration": 9,
    "start_time": "2022-07-04T07:06:55.318Z"
   },
   {
    "duration": 20,
    "start_time": "2022-07-04T07:06:55.509Z"
   },
   {
    "duration": 7,
    "start_time": "2022-07-04T07:06:56.069Z"
   },
   {
    "duration": 18,
    "start_time": "2022-07-04T07:06:56.270Z"
   },
   {
    "duration": 8,
    "start_time": "2022-07-04T07:06:57.086Z"
   },
   {
    "duration": 11,
    "start_time": "2022-07-04T07:06:57.311Z"
   },
   {
    "duration": 9,
    "start_time": "2022-07-04T07:07:07.645Z"
   },
   {
    "duration": 8,
    "start_time": "2022-07-04T07:07:08.092Z"
   },
   {
    "duration": 57,
    "start_time": "2022-07-04T07:07:08.484Z"
   },
   {
    "duration": 43,
    "start_time": "2022-07-04T07:07:09.316Z"
   },
   {
    "duration": 36,
    "start_time": "2022-07-04T07:07:09.765Z"
   },
   {
    "duration": 9,
    "start_time": "2022-07-04T07:07:10.805Z"
   },
   {
    "duration": 7,
    "start_time": "2022-07-04T07:07:13.004Z"
   },
   {
    "duration": 2,
    "start_time": "2022-07-04T07:07:16.828Z"
   },
   {
    "duration": 10,
    "start_time": "2022-07-04T07:07:18.380Z"
   },
   {
    "duration": 33,
    "start_time": "2022-07-04T07:07:20.556Z"
   },
   {
    "duration": 43,
    "start_time": "2022-07-04T07:07:23.300Z"
   },
   {
    "duration": 30,
    "start_time": "2022-07-04T07:08:00.492Z"
   },
   {
    "duration": 13,
    "start_time": "2022-07-04T07:08:02.620Z"
   },
   {
    "duration": 62,
    "start_time": "2022-07-04T07:08:04.028Z"
   },
   {
    "duration": 12,
    "start_time": "2022-07-04T07:08:44.092Z"
   },
   {
    "duration": 66,
    "start_time": "2022-07-04T07:08:59.889Z"
   },
   {
    "duration": 32,
    "start_time": "2022-07-04T07:10:02.308Z"
   },
   {
    "duration": 62,
    "start_time": "2022-07-04T07:10:14.115Z"
   },
   {
    "duration": 40,
    "start_time": "2022-07-04T07:10:41.067Z"
   },
   {
    "duration": 9,
    "start_time": "2022-07-04T07:11:59.396Z"
   },
   {
    "duration": 2029,
    "start_time": "2022-07-04T07:13:48.990Z"
   },
   {
    "duration": 16,
    "start_time": "2022-07-04T07:13:51.455Z"
   },
   {
    "duration": 3033,
    "start_time": "2022-07-04T07:14:36.471Z"
   },
   {
    "duration": 17,
    "start_time": "2022-07-04T07:14:39.506Z"
   },
   {
    "duration": 1844,
    "start_time": "2022-07-04T08:32:21.742Z"
   },
   {
    "duration": 1934,
    "start_time": "2022-07-04T08:32:25.147Z"
   },
   {
    "duration": 1877,
    "start_time": "2022-07-04T08:32:29.629Z"
   },
   {
    "duration": 3003,
    "start_time": "2022-07-04T08:32:42.910Z"
   },
   {
    "duration": 1887,
    "start_time": "2022-07-04T08:33:00.189Z"
   },
   {
    "duration": 1909,
    "start_time": "2022-07-04T08:33:02.597Z"
   },
   {
    "duration": 1874,
    "start_time": "2022-07-04T08:33:40.211Z"
   },
   {
    "duration": 1924,
    "start_time": "2022-07-04T08:33:43.199Z"
   },
   {
    "duration": 4793,
    "start_time": "2022-07-04T08:35:30.949Z"
   },
   {
    "duration": 2922,
    "start_time": "2022-07-04T08:35:38.354Z"
   },
   {
    "duration": 2924,
    "start_time": "2022-07-04T08:35:47.322Z"
   },
   {
    "duration": 21,
    "start_time": "2022-07-04T08:36:21.078Z"
   },
   {
    "duration": 5391,
    "start_time": "2022-07-04T08:36:21.101Z"
   },
   {
    "duration": 19,
    "start_time": "2022-07-04T08:36:26.495Z"
   },
   {
    "duration": 39,
    "start_time": "2022-07-04T08:43:16.012Z"
   },
   {
    "duration": 4882,
    "start_time": "2022-07-04T08:44:00.763Z"
   },
   {
    "duration": 59,
    "start_time": "2022-07-04T08:44:05.647Z"
   },
   {
    "duration": 41,
    "start_time": "2022-07-04T08:44:08.290Z"
   },
   {
    "duration": 325,
    "start_time": "2022-07-04T08:44:09.434Z"
   },
   {
    "duration": 5,
    "start_time": "2022-07-04T08:44:11.122Z"
   },
   {
    "duration": 812,
    "start_time": "2022-07-04T08:44:11.779Z"
   },
   {
    "duration": 0,
    "start_time": "2022-07-04T08:44:12.593Z"
   },
   {
    "duration": 49,
    "start_time": "2022-07-04T08:44:12.595Z"
   },
   {
    "duration": 291,
    "start_time": "2022-07-04T08:44:12.993Z"
   },
   {
    "duration": 825,
    "start_time": "2022-07-04T08:44:13.402Z"
   },
   {
    "duration": 0,
    "start_time": "2022-07-04T08:44:14.229Z"
   },
   {
    "duration": 6,
    "start_time": "2022-07-04T08:44:17.123Z"
   },
   {
    "duration": 6,
    "start_time": "2022-07-04T08:44:17.346Z"
   },
   {
    "duration": 21,
    "start_time": "2022-07-04T08:44:18.033Z"
   },
   {
    "duration": 35,
    "start_time": "2022-07-04T08:44:18.243Z"
   },
   {
    "duration": 21,
    "start_time": "2022-07-04T08:44:19.193Z"
   },
   {
    "duration": 297,
    "start_time": "2022-07-04T08:44:37.007Z"
   },
   {
    "duration": 418,
    "start_time": "2022-07-04T08:45:09.068Z"
   },
   {
    "duration": 31,
    "start_time": "2022-07-04T08:45:44.896Z"
   },
   {
    "duration": 4921,
    "start_time": "2022-07-04T08:50:40.494Z"
   },
   {
    "duration": 21,
    "start_time": "2022-07-04T09:01:43.303Z"
   },
   {
    "duration": 16,
    "start_time": "2022-07-04T09:01:51.854Z"
   },
   {
    "duration": 55,
    "start_time": "2022-07-04T09:03:19.558Z"
   },
   {
    "duration": 19,
    "start_time": "2022-07-04T09:22:39.367Z"
   },
   {
    "duration": 7,
    "start_time": "2022-07-04T09:22:45.457Z"
   },
   {
    "duration": 7,
    "start_time": "2022-07-04T09:22:48.014Z"
   },
   {
    "duration": 43,
    "start_time": "2022-07-04T09:22:55.458Z"
   },
   {
    "duration": 35,
    "start_time": "2022-07-04T09:27:36.213Z"
   },
   {
    "duration": 25,
    "start_time": "2022-07-04T09:27:38.048Z"
   },
   {
    "duration": 10,
    "start_time": "2022-07-04T09:27:40.049Z"
   },
   {
    "duration": 14,
    "start_time": "2022-07-04T09:28:01.620Z"
   },
   {
    "duration": 12,
    "start_time": "2022-07-04T09:29:44.722Z"
   },
   {
    "duration": 35,
    "start_time": "2022-07-04T09:29:55.641Z"
   },
   {
    "duration": 22,
    "start_time": "2022-07-04T09:29:56.378Z"
   },
   {
    "duration": 9,
    "start_time": "2022-07-04T09:29:56.883Z"
   },
   {
    "duration": 11,
    "start_time": "2022-07-04T09:29:58.217Z"
   },
   {
    "duration": 1134,
    "start_time": "2022-07-04T09:31:08.979Z"
   },
   {
    "duration": 15,
    "start_time": "2022-07-04T09:31:10.115Z"
   },
   {
    "duration": 17,
    "start_time": "2022-07-04T09:31:10.131Z"
   },
   {
    "duration": 26,
    "start_time": "2022-07-04T09:31:10.150Z"
   },
   {
    "duration": 33,
    "start_time": "2022-07-04T09:31:10.178Z"
   },
   {
    "duration": 9,
    "start_time": "2022-07-04T09:31:10.212Z"
   },
   {
    "duration": 23,
    "start_time": "2022-07-04T09:31:10.223Z"
   },
   {
    "duration": 33,
    "start_time": "2022-07-04T09:31:10.248Z"
   },
   {
    "duration": 24,
    "start_time": "2022-07-04T09:31:10.283Z"
   },
   {
    "duration": 8,
    "start_time": "2022-07-04T09:31:10.310Z"
   },
   {
    "duration": 14,
    "start_time": "2022-07-04T09:31:10.320Z"
   },
   {
    "duration": 10,
    "start_time": "2022-07-04T09:31:10.336Z"
   },
   {
    "duration": 12,
    "start_time": "2022-07-04T09:31:10.368Z"
   },
   {
    "duration": 67,
    "start_time": "2022-07-04T09:31:10.384Z"
   },
   {
    "duration": 60,
    "start_time": "2022-07-04T09:31:10.453Z"
   },
   {
    "duration": 60,
    "start_time": "2022-07-04T09:31:10.515Z"
   },
   {
    "duration": 11,
    "start_time": "2022-07-04T09:31:10.578Z"
   },
   {
    "duration": 9,
    "start_time": "2022-07-04T09:31:10.591Z"
   },
   {
    "duration": 4,
    "start_time": "2022-07-04T09:31:10.602Z"
   },
   {
    "duration": 13,
    "start_time": "2022-07-04T09:31:10.608Z"
   },
   {
    "duration": 76,
    "start_time": "2022-07-04T09:31:10.623Z"
   },
   {
    "duration": 51,
    "start_time": "2022-07-04T09:31:10.700Z"
   },
   {
    "duration": 51,
    "start_time": "2022-07-04T09:31:10.753Z"
   },
   {
    "duration": 16,
    "start_time": "2022-07-04T09:31:10.806Z"
   },
   {
    "duration": 115,
    "start_time": "2022-07-04T09:31:10.824Z"
   },
   {
    "duration": 0,
    "start_time": "2022-07-04T09:31:10.941Z"
   },
   {
    "duration": 0,
    "start_time": "2022-07-04T09:31:10.943Z"
   },
   {
    "duration": 0,
    "start_time": "2022-07-04T09:31:10.944Z"
   },
   {
    "duration": 0,
    "start_time": "2022-07-04T09:31:10.946Z"
   },
   {
    "duration": 0,
    "start_time": "2022-07-04T09:31:10.947Z"
   },
   {
    "duration": 0,
    "start_time": "2022-07-04T09:31:10.948Z"
   },
   {
    "duration": 0,
    "start_time": "2022-07-04T09:31:10.950Z"
   },
   {
    "duration": 0,
    "start_time": "2022-07-04T09:31:10.951Z"
   },
   {
    "duration": 0,
    "start_time": "2022-07-04T09:31:10.970Z"
   },
   {
    "duration": 0,
    "start_time": "2022-07-04T09:31:10.971Z"
   },
   {
    "duration": 0,
    "start_time": "2022-07-04T09:31:10.973Z"
   },
   {
    "duration": 0,
    "start_time": "2022-07-04T09:31:10.974Z"
   },
   {
    "duration": 0,
    "start_time": "2022-07-04T09:31:10.975Z"
   },
   {
    "duration": 0,
    "start_time": "2022-07-04T09:31:10.976Z"
   },
   {
    "duration": 0,
    "start_time": "2022-07-04T09:31:10.977Z"
   },
   {
    "duration": 0,
    "start_time": "2022-07-04T09:31:10.978Z"
   },
   {
    "duration": 0,
    "start_time": "2022-07-04T09:31:10.978Z"
   },
   {
    "duration": 0,
    "start_time": "2022-07-04T09:31:10.980Z"
   },
   {
    "duration": 0,
    "start_time": "2022-07-04T09:31:10.984Z"
   },
   {
    "duration": 0,
    "start_time": "2022-07-04T09:31:10.984Z"
   },
   {
    "duration": 457,
    "start_time": "2022-07-04T09:31:15.936Z"
   },
   {
    "duration": 12,
    "start_time": "2022-07-04T09:31:16.582Z"
   },
   {
    "duration": 12,
    "start_time": "2022-07-04T09:31:16.793Z"
   },
   {
    "duration": 9,
    "start_time": "2022-07-04T09:31:17.425Z"
   },
   {
    "duration": 26,
    "start_time": "2022-07-04T09:31:17.625Z"
   },
   {
    "duration": 12,
    "start_time": "2022-07-04T09:31:18.305Z"
   },
   {
    "duration": 21,
    "start_time": "2022-07-04T09:31:18.545Z"
   },
   {
    "duration": 14,
    "start_time": "2022-07-04T09:31:19.180Z"
   },
   {
    "duration": 20,
    "start_time": "2022-07-04T09:31:19.400Z"
   },
   {
    "duration": 9,
    "start_time": "2022-07-04T09:31:20.393Z"
   },
   {
    "duration": 15,
    "start_time": "2022-07-04T09:31:20.690Z"
   },
   {
    "duration": 8,
    "start_time": "2022-07-04T09:31:23.208Z"
   },
   {
    "duration": 8,
    "start_time": "2022-07-04T09:31:24.991Z"
   },
   {
    "duration": 64,
    "start_time": "2022-07-04T09:31:28.424Z"
   },
   {
    "duration": 47,
    "start_time": "2022-07-04T09:31:30.640Z"
   },
   {
    "duration": 35,
    "start_time": "2022-07-04T09:31:32.184Z"
   },
   {
    "duration": 10,
    "start_time": "2022-07-04T09:31:33.687Z"
   },
   {
    "duration": 6,
    "start_time": "2022-07-04T09:31:36.224Z"
   },
   {
    "duration": 3,
    "start_time": "2022-07-04T09:31:37.232Z"
   },
   {
    "duration": 10,
    "start_time": "2022-07-04T09:31:42.920Z"
   },
   {
    "duration": 39,
    "start_time": "2022-07-04T09:31:46.304Z"
   },
   {
    "duration": 50,
    "start_time": "2022-07-04T09:32:14.360Z"
   },
   {
    "duration": 32,
    "start_time": "2022-07-04T09:32:17.681Z"
   },
   {
    "duration": 13,
    "start_time": "2022-07-04T09:32:23.679Z"
   },
   {
    "duration": 10,
    "start_time": "2022-07-04T09:32:26.968Z"
   },
   {
    "duration": 69,
    "start_time": "2022-07-04T09:32:28.016Z"
   },
   {
    "duration": 132,
    "start_time": "2022-07-04T09:32:45.882Z"
   },
   {
    "duration": 23,
    "start_time": "2022-07-04T09:32:47.168Z"
   },
   {
    "duration": 83,
    "start_time": "2022-07-04T09:33:20.847Z"
   },
   {
    "duration": 25,
    "start_time": "2022-07-04T09:33:21.464Z"
   },
   {
    "duration": 55,
    "start_time": "2022-07-04T09:33:28.432Z"
   },
   {
    "duration": 92,
    "start_time": "2022-07-04T09:34:22.734Z"
   },
   {
    "duration": 18,
    "start_time": "2022-07-04T09:34:23.825Z"
   },
   {
    "duration": 71,
    "start_time": "2022-07-04T09:34:26.662Z"
   },
   {
    "duration": 36,
    "start_time": "2022-07-04T09:35:33.877Z"
   },
   {
    "duration": 6,
    "start_time": "2022-07-04T09:35:41.093Z"
   },
   {
    "duration": 9,
    "start_time": "2022-07-04T09:35:42.990Z"
   },
   {
    "duration": 5050,
    "start_time": "2022-07-04T09:35:43.647Z"
   },
   {
    "duration": 23,
    "start_time": "2022-07-04T09:35:48.699Z"
   },
   {
    "duration": 45,
    "start_time": "2022-07-04T09:35:59.189Z"
   },
   {
    "duration": 341,
    "start_time": "2022-07-04T09:36:01.806Z"
   },
   {
    "duration": 9,
    "start_time": "2022-07-04T09:36:03.166Z"
   },
   {
    "duration": 241,
    "start_time": "2022-07-04T09:36:05.382Z"
   },
   {
    "duration": 260,
    "start_time": "2022-07-04T09:36:07.005Z"
   },
   {
    "duration": 46,
    "start_time": "2022-07-04T09:36:08.486Z"
   },
   {
    "duration": 281,
    "start_time": "2022-07-04T09:36:26.024Z"
   },
   {
    "duration": 268,
    "start_time": "2022-07-04T09:36:34.615Z"
   },
   {
    "duration": 260,
    "start_time": "2022-07-04T09:37:21.101Z"
   },
   {
    "duration": 6,
    "start_time": "2022-07-04T09:38:08.941Z"
   },
   {
    "duration": 255,
    "start_time": "2022-07-04T09:38:35.780Z"
   },
   {
    "duration": 332,
    "start_time": "2022-07-04T09:38:46.086Z"
   },
   {
    "duration": 200,
    "start_time": "2022-07-04T09:39:10.012Z"
   },
   {
    "duration": 206,
    "start_time": "2022-07-04T09:40:00.397Z"
   },
   {
    "duration": 239,
    "start_time": "2022-07-04T09:40:10.163Z"
   },
   {
    "duration": 234,
    "start_time": "2022-07-04T09:40:37.214Z"
   },
   {
    "duration": 46,
    "start_time": "2022-07-04T09:40:44.496Z"
   },
   {
    "duration": 335,
    "start_time": "2022-07-04T09:40:46.874Z"
   },
   {
    "duration": 374,
    "start_time": "2022-07-04T09:41:15.347Z"
   },
   {
    "duration": 421,
    "start_time": "2022-07-04T09:41:22.626Z"
   },
   {
    "duration": 353,
    "start_time": "2022-07-04T09:41:49.600Z"
   },
   {
    "duration": 334,
    "start_time": "2022-07-04T09:41:57.009Z"
   },
   {
    "duration": 361,
    "start_time": "2022-07-04T09:42:44.329Z"
   },
   {
    "duration": 377,
    "start_time": "2022-07-04T09:43:00.617Z"
   },
   {
    "duration": 448,
    "start_time": "2022-07-04T09:43:09.105Z"
   },
   {
    "duration": 445,
    "start_time": "2022-07-04T09:43:19.308Z"
   },
   {
    "duration": 917,
    "start_time": "2022-07-04T12:26:52.442Z"
   },
   {
    "duration": 87,
    "start_time": "2022-07-04T13:58:27.799Z"
   },
   {
    "duration": 158,
    "start_time": "2022-07-04T13:59:37.339Z"
   },
   {
    "duration": 63,
    "start_time": "2022-07-04T14:06:58.110Z"
   },
   {
    "duration": 60,
    "start_time": "2022-07-04T14:07:54.569Z"
   },
   {
    "duration": 51,
    "start_time": "2022-07-04T14:08:13.505Z"
   },
   {
    "duration": 39,
    "start_time": "2022-07-04T14:08:13.942Z"
   },
   {
    "duration": 7,
    "start_time": "2022-07-04T14:09:36.751Z"
   },
   {
    "duration": 48,
    "start_time": "2022-07-04T14:24:49.738Z"
   },
   {
    "duration": 7,
    "start_time": "2022-07-04T14:25:25.377Z"
   },
   {
    "duration": 50,
    "start_time": "2022-07-04T14:25:48.000Z"
   },
   {
    "duration": 7,
    "start_time": "2022-07-04T14:25:48.452Z"
   },
   {
    "duration": 54,
    "start_time": "2022-07-04T14:28:38.070Z"
   },
   {
    "duration": 6,
    "start_time": "2022-07-04T14:28:38.677Z"
   },
   {
    "duration": 7,
    "start_time": "2022-07-04T14:30:27.364Z"
   },
   {
    "duration": 5,
    "start_time": "2022-07-04T14:30:33.335Z"
   },
   {
    "duration": 7,
    "start_time": "2022-07-04T14:30:38.944Z"
   },
   {
    "duration": 7,
    "start_time": "2022-07-04T14:31:24.992Z"
   },
   {
    "duration": 47,
    "start_time": "2022-07-04T14:31:40.839Z"
   },
   {
    "duration": 7,
    "start_time": "2022-07-04T14:31:42.503Z"
   },
   {
    "duration": 4,
    "start_time": "2022-07-04T14:32:48.055Z"
   },
   {
    "duration": 5,
    "start_time": "2022-07-04T14:32:48.701Z"
   },
   {
    "duration": 9,
    "start_time": "2022-07-04T14:47:33.644Z"
   },
   {
    "duration": 14,
    "start_time": "2022-07-04T14:47:43.976Z"
   },
   {
    "duration": 35,
    "start_time": "2022-07-04T15:02:45.377Z"
   },
   {
    "duration": 5,
    "start_time": "2022-07-04T15:02:46.067Z"
   },
   {
    "duration": 5,
    "start_time": "2022-07-04T15:02:46.818Z"
   },
   {
    "duration": 6,
    "start_time": "2022-07-04T15:04:40.211Z"
   },
   {
    "duration": 435,
    "start_time": "2022-07-04T15:17:44.951Z"
   },
   {
    "duration": 11,
    "start_time": "2022-07-04T15:17:47.698Z"
   },
   {
    "duration": 12,
    "start_time": "2022-07-04T15:17:49.305Z"
   },
   {
    "duration": 9,
    "start_time": "2022-07-04T15:17:51.015Z"
   },
   {
    "duration": 23,
    "start_time": "2022-07-04T15:17:51.513Z"
   },
   {
    "duration": 9,
    "start_time": "2022-07-04T15:17:53.187Z"
   },
   {
    "duration": 19,
    "start_time": "2022-07-04T15:17:53.914Z"
   },
   {
    "duration": 8,
    "start_time": "2022-07-04T15:17:55.632Z"
   },
   {
    "duration": 17,
    "start_time": "2022-07-04T15:17:56.148Z"
   },
   {
    "duration": 8,
    "start_time": "2022-07-04T15:17:57.556Z"
   },
   {
    "duration": 11,
    "start_time": "2022-07-04T15:17:58.091Z"
   },
   {
    "duration": 9,
    "start_time": "2022-07-04T15:18:02.539Z"
   },
   {
    "duration": 8,
    "start_time": "2022-07-04T15:18:03.838Z"
   },
   {
    "duration": 56,
    "start_time": "2022-07-04T15:18:05.181Z"
   },
   {
    "duration": 38,
    "start_time": "2022-07-04T15:18:15.558Z"
   },
   {
    "duration": 32,
    "start_time": "2022-07-04T15:18:17.509Z"
   },
   {
    "duration": 9,
    "start_time": "2022-07-04T15:18:23.899Z"
   },
   {
    "duration": 6,
    "start_time": "2022-07-04T15:18:40.972Z"
   },
   {
    "duration": 2,
    "start_time": "2022-07-04T15:18:45.637Z"
   },
   {
    "duration": 9,
    "start_time": "2022-07-04T15:19:05.992Z"
   },
   {
    "duration": 31,
    "start_time": "2022-07-04T15:19:10.890Z"
   },
   {
    "duration": 35,
    "start_time": "2022-07-04T15:19:14.249Z"
   },
   {
    "duration": 24,
    "start_time": "2022-07-04T15:19:19.211Z"
   },
   {
    "duration": 11,
    "start_time": "2022-07-04T15:19:21.737Z"
   },
   {
    "duration": 74,
    "start_time": "2022-07-04T15:19:27.672Z"
   },
   {
    "duration": 16,
    "start_time": "2022-07-04T15:19:28.730Z"
   },
   {
    "duration": 17,
    "start_time": "2022-07-04T15:19:37.678Z"
   },
   {
    "duration": 50,
    "start_time": "2022-07-04T15:19:43.971Z"
   },
   {
    "duration": 31,
    "start_time": "2022-07-04T15:20:02.316Z"
   },
   {
    "duration": 5,
    "start_time": "2022-07-04T15:20:08.170Z"
   },
   {
    "duration": 8,
    "start_time": "2022-07-04T15:20:15.393Z"
   },
   {
    "duration": 4505,
    "start_time": "2022-07-04T15:20:16.705Z"
   },
   {
    "duration": 56,
    "start_time": "2022-07-04T15:20:41.198Z"
   },
   {
    "duration": 18,
    "start_time": "2022-07-04T15:20:47.889Z"
   },
   {
    "duration": 44,
    "start_time": "2022-07-04T15:22:05.114Z"
   },
   {
    "duration": 31,
    "start_time": "2022-07-04T15:22:23.637Z"
   },
   {
    "duration": 314,
    "start_time": "2022-07-04T15:22:43.552Z"
   },
   {
    "duration": 6,
    "start_time": "2022-07-04T15:23:13.675Z"
   },
   {
    "duration": 43,
    "start_time": "2022-07-04T15:25:32.509Z"
   },
   {
    "duration": 36,
    "start_time": "2022-07-04T15:27:50.086Z"
   },
   {
    "duration": 268,
    "start_time": "2022-07-04T15:28:22.290Z"
   },
   {
    "duration": 286,
    "start_time": "2022-07-04T15:28:24.254Z"
   },
   {
    "duration": 199,
    "start_time": "2022-07-04T15:28:25.698Z"
   },
   {
    "duration": 40,
    "start_time": "2022-07-04T15:29:16.547Z"
   },
   {
    "duration": 7,
    "start_time": "2022-07-04T15:29:17.320Z"
   },
   {
    "duration": 36,
    "start_time": "2022-07-04T15:29:21.004Z"
   },
   {
    "duration": 6,
    "start_time": "2022-07-04T15:29:21.735Z"
   },
   {
    "duration": 35,
    "start_time": "2022-07-04T15:29:27.237Z"
   },
   {
    "duration": 7,
    "start_time": "2022-07-04T15:29:27.854Z"
   },
   {
    "duration": 36,
    "start_time": "2022-07-04T15:29:30.495Z"
   },
   {
    "duration": 6,
    "start_time": "2022-07-04T15:29:31.191Z"
   },
   {
    "duration": 1486,
    "start_time": "2022-07-04T15:36:30.224Z"
   },
   {
    "duration": 15,
    "start_time": "2022-07-04T15:36:31.712Z"
   },
   {
    "duration": 17,
    "start_time": "2022-07-04T15:36:31.729Z"
   },
   {
    "duration": 12,
    "start_time": "2022-07-04T15:36:31.748Z"
   },
   {
    "duration": 40,
    "start_time": "2022-07-04T15:36:31.761Z"
   },
   {
    "duration": 8,
    "start_time": "2022-07-04T15:36:31.803Z"
   },
   {
    "duration": 34,
    "start_time": "2022-07-04T15:36:31.812Z"
   },
   {
    "duration": 8,
    "start_time": "2022-07-04T15:36:31.848Z"
   },
   {
    "duration": 18,
    "start_time": "2022-07-04T15:36:31.857Z"
   },
   {
    "duration": 8,
    "start_time": "2022-07-04T15:36:31.878Z"
   },
   {
    "duration": 11,
    "start_time": "2022-07-04T15:36:31.887Z"
   },
   {
    "duration": 28,
    "start_time": "2022-07-04T15:36:31.899Z"
   },
   {
    "duration": 10,
    "start_time": "2022-07-04T15:36:31.929Z"
   },
   {
    "duration": 56,
    "start_time": "2022-07-04T15:36:31.940Z"
   },
   {
    "duration": 53,
    "start_time": "2022-07-04T15:36:31.998Z"
   },
   {
    "duration": 34,
    "start_time": "2022-07-04T15:36:32.053Z"
   },
   {
    "duration": 9,
    "start_time": "2022-07-04T15:36:32.089Z"
   },
   {
    "duration": 29,
    "start_time": "2022-07-04T15:36:32.099Z"
   },
   {
    "duration": 3,
    "start_time": "2022-07-04T15:36:32.129Z"
   },
   {
    "duration": 12,
    "start_time": "2022-07-04T15:36:32.133Z"
   },
   {
    "duration": 34,
    "start_time": "2022-07-04T15:36:32.146Z"
   },
   {
    "duration": 69,
    "start_time": "2022-07-04T15:36:32.182Z"
   },
   {
    "duration": 30,
    "start_time": "2022-07-04T15:36:32.253Z"
   },
   {
    "duration": 11,
    "start_time": "2022-07-04T15:36:32.285Z"
   },
   {
    "duration": 107,
    "start_time": "2022-07-04T15:36:32.298Z"
   },
   {
    "duration": 0,
    "start_time": "2022-07-04T15:36:32.408Z"
   },
   {
    "duration": 0,
    "start_time": "2022-07-04T15:36:32.409Z"
   },
   {
    "duration": 0,
    "start_time": "2022-07-04T15:36:32.410Z"
   },
   {
    "duration": 0,
    "start_time": "2022-07-04T15:36:32.411Z"
   },
   {
    "duration": 0,
    "start_time": "2022-07-04T15:36:32.412Z"
   },
   {
    "duration": 0,
    "start_time": "2022-07-04T15:36:32.423Z"
   },
   {
    "duration": 0,
    "start_time": "2022-07-04T15:36:32.424Z"
   },
   {
    "duration": 0,
    "start_time": "2022-07-04T15:36:32.425Z"
   },
   {
    "duration": 0,
    "start_time": "2022-07-04T15:36:32.426Z"
   },
   {
    "duration": 0,
    "start_time": "2022-07-04T15:36:32.427Z"
   },
   {
    "duration": 0,
    "start_time": "2022-07-04T15:36:32.429Z"
   },
   {
    "duration": 0,
    "start_time": "2022-07-04T15:36:32.430Z"
   },
   {
    "duration": 0,
    "start_time": "2022-07-04T15:36:32.431Z"
   },
   {
    "duration": 0,
    "start_time": "2022-07-04T15:36:32.432Z"
   },
   {
    "duration": 0,
    "start_time": "2022-07-04T15:36:32.433Z"
   },
   {
    "duration": 0,
    "start_time": "2022-07-04T15:36:32.434Z"
   },
   {
    "duration": 0,
    "start_time": "2022-07-04T15:36:32.435Z"
   },
   {
    "duration": 0,
    "start_time": "2022-07-04T15:36:32.436Z"
   },
   {
    "duration": 0,
    "start_time": "2022-07-04T15:36:32.437Z"
   },
   {
    "duration": 0,
    "start_time": "2022-07-04T15:36:32.438Z"
   },
   {
    "duration": 0,
    "start_time": "2022-07-04T15:36:32.439Z"
   },
   {
    "duration": 2256,
    "start_time": "2022-07-05T05:52:52.639Z"
   },
   {
    "duration": 20,
    "start_time": "2022-07-05T05:52:54.896Z"
   },
   {
    "duration": 42,
    "start_time": "2022-07-05T05:52:54.917Z"
   },
   {
    "duration": 9,
    "start_time": "2022-07-05T05:52:54.963Z"
   },
   {
    "duration": 34,
    "start_time": "2022-07-05T05:52:54.974Z"
   },
   {
    "duration": 11,
    "start_time": "2022-07-05T05:52:55.010Z"
   },
   {
    "duration": 49,
    "start_time": "2022-07-05T05:52:55.023Z"
   },
   {
    "duration": 8,
    "start_time": "2022-07-05T05:52:55.075Z"
   },
   {
    "duration": 29,
    "start_time": "2022-07-05T05:52:55.085Z"
   },
   {
    "duration": 32,
    "start_time": "2022-07-05T05:52:55.118Z"
   },
   {
    "duration": 40,
    "start_time": "2022-07-05T05:52:55.155Z"
   },
   {
    "duration": 22,
    "start_time": "2022-07-05T05:52:55.198Z"
   },
   {
    "duration": 41,
    "start_time": "2022-07-05T05:52:55.225Z"
   },
   {
    "duration": 101,
    "start_time": "2022-07-05T05:52:55.269Z"
   },
   {
    "duration": 70,
    "start_time": "2022-07-05T05:52:55.371Z"
   },
   {
    "duration": 50,
    "start_time": "2022-07-05T05:52:55.443Z"
   },
   {
    "duration": 13,
    "start_time": "2022-07-05T05:52:55.495Z"
   },
   {
    "duration": 48,
    "start_time": "2022-07-05T05:52:55.510Z"
   },
   {
    "duration": 19,
    "start_time": "2022-07-05T05:52:55.561Z"
   },
   {
    "duration": 35,
    "start_time": "2022-07-05T05:52:55.582Z"
   },
   {
    "duration": 107,
    "start_time": "2022-07-05T05:52:55.624Z"
   },
   {
    "duration": 55,
    "start_time": "2022-07-05T05:52:55.733Z"
   },
   {
    "duration": 50,
    "start_time": "2022-07-05T05:52:55.790Z"
   },
   {
    "duration": 20,
    "start_time": "2022-07-05T05:52:55.842Z"
   },
   {
    "duration": 168,
    "start_time": "2022-07-05T05:52:55.864Z"
   },
   {
    "duration": 0,
    "start_time": "2022-07-05T05:52:56.036Z"
   },
   {
    "duration": 0,
    "start_time": "2022-07-05T05:52:56.037Z"
   },
   {
    "duration": 0,
    "start_time": "2022-07-05T05:52:56.039Z"
   },
   {
    "duration": 0,
    "start_time": "2022-07-05T05:52:56.041Z"
   },
   {
    "duration": 0,
    "start_time": "2022-07-05T05:52:56.042Z"
   },
   {
    "duration": 0,
    "start_time": "2022-07-05T05:52:56.043Z"
   },
   {
    "duration": 0,
    "start_time": "2022-07-05T05:52:56.045Z"
   },
   {
    "duration": 0,
    "start_time": "2022-07-05T05:52:56.046Z"
   },
   {
    "duration": 0,
    "start_time": "2022-07-05T05:52:56.047Z"
   },
   {
    "duration": 0,
    "start_time": "2022-07-05T05:52:56.049Z"
   },
   {
    "duration": 0,
    "start_time": "2022-07-05T05:52:56.050Z"
   },
   {
    "duration": 0,
    "start_time": "2022-07-05T05:52:56.052Z"
   },
   {
    "duration": 0,
    "start_time": "2022-07-05T05:52:56.053Z"
   },
   {
    "duration": 0,
    "start_time": "2022-07-05T05:52:56.054Z"
   },
   {
    "duration": 0,
    "start_time": "2022-07-05T05:52:56.056Z"
   },
   {
    "duration": 0,
    "start_time": "2022-07-05T05:52:56.057Z"
   },
   {
    "duration": 0,
    "start_time": "2022-07-05T05:52:56.058Z"
   },
   {
    "duration": 0,
    "start_time": "2022-07-05T05:52:56.059Z"
   },
   {
    "duration": 0,
    "start_time": "2022-07-05T05:52:56.061Z"
   },
   {
    "duration": 0,
    "start_time": "2022-07-05T05:52:56.062Z"
   },
   {
    "duration": 0,
    "start_time": "2022-07-05T05:52:56.063Z"
   },
   {
    "duration": 45,
    "start_time": "2022-07-05T05:54:33.747Z"
   },
   {
    "duration": 1724,
    "start_time": "2022-07-05T05:54:43.036Z"
   },
   {
    "duration": 17,
    "start_time": "2022-07-05T05:54:44.762Z"
   },
   {
    "duration": 24,
    "start_time": "2022-07-05T05:54:44.780Z"
   },
   {
    "duration": 33,
    "start_time": "2022-07-05T05:54:44.814Z"
   },
   {
    "duration": 39,
    "start_time": "2022-07-05T05:54:44.849Z"
   },
   {
    "duration": 18,
    "start_time": "2022-07-05T05:54:44.890Z"
   },
   {
    "duration": 49,
    "start_time": "2022-07-05T05:54:44.913Z"
   },
   {
    "duration": 9,
    "start_time": "2022-07-05T05:54:44.964Z"
   },
   {
    "duration": 49,
    "start_time": "2022-07-05T05:54:44.975Z"
   },
   {
    "duration": 32,
    "start_time": "2022-07-05T05:54:45.029Z"
   },
   {
    "duration": 15,
    "start_time": "2022-07-05T05:54:45.063Z"
   },
   {
    "duration": 12,
    "start_time": "2022-07-05T05:54:45.080Z"
   },
   {
    "duration": 34,
    "start_time": "2022-07-05T05:54:45.094Z"
   },
   {
    "duration": 77,
    "start_time": "2022-07-05T05:54:45.131Z"
   },
   {
    "duration": 63,
    "start_time": "2022-07-05T05:54:45.218Z"
   },
   {
    "duration": 54,
    "start_time": "2022-07-05T05:54:45.283Z"
   },
   {
    "duration": 14,
    "start_time": "2022-07-05T05:54:45.339Z"
   },
   {
    "duration": 28,
    "start_time": "2022-07-05T05:54:45.355Z"
   },
   {
    "duration": 5,
    "start_time": "2022-07-05T05:54:45.387Z"
   },
   {
    "duration": 43,
    "start_time": "2022-07-05T05:54:45.395Z"
   },
   {
    "duration": 59,
    "start_time": "2022-07-05T05:54:45.440Z"
   },
   {
    "duration": 67,
    "start_time": "2022-07-05T05:54:45.508Z"
   },
   {
    "duration": 57,
    "start_time": "2022-07-05T05:54:45.577Z"
   },
   {
    "duration": 21,
    "start_time": "2022-07-05T05:54:45.638Z"
   },
   {
    "duration": 63,
    "start_time": "2022-07-05T05:54:45.660Z"
   },
   {
    "duration": 20,
    "start_time": "2022-07-05T05:54:45.727Z"
   },
   {
    "duration": 27,
    "start_time": "2022-07-05T05:54:45.749Z"
   },
   {
    "duration": 8,
    "start_time": "2022-07-05T05:54:45.779Z"
   },
   {
    "duration": 24,
    "start_time": "2022-07-05T05:54:45.790Z"
   },
   {
    "duration": 34,
    "start_time": "2022-07-05T05:54:45.822Z"
   },
   {
    "duration": 1646,
    "start_time": "2022-07-05T05:54:45.858Z"
   },
   {
    "duration": 0,
    "start_time": "2022-07-05T05:54:47.507Z"
   },
   {
    "duration": 0,
    "start_time": "2022-07-05T05:54:47.508Z"
   },
   {
    "duration": 0,
    "start_time": "2022-07-05T05:54:47.509Z"
   },
   {
    "duration": 0,
    "start_time": "2022-07-05T05:54:47.510Z"
   },
   {
    "duration": 0,
    "start_time": "2022-07-05T05:54:47.512Z"
   },
   {
    "duration": 0,
    "start_time": "2022-07-05T05:54:47.513Z"
   },
   {
    "duration": 0,
    "start_time": "2022-07-05T05:54:47.514Z"
   },
   {
    "duration": 0,
    "start_time": "2022-07-05T05:54:47.515Z"
   },
   {
    "duration": 0,
    "start_time": "2022-07-05T05:54:47.517Z"
   },
   {
    "duration": 0,
    "start_time": "2022-07-05T05:54:47.518Z"
   },
   {
    "duration": 0,
    "start_time": "2022-07-05T05:54:47.519Z"
   },
   {
    "duration": 0,
    "start_time": "2022-07-05T05:54:47.521Z"
   },
   {
    "duration": 0,
    "start_time": "2022-07-05T05:54:47.522Z"
   },
   {
    "duration": 0,
    "start_time": "2022-07-05T05:54:47.524Z"
   },
   {
    "duration": 0,
    "start_time": "2022-07-05T05:54:47.525Z"
   },
   {
    "duration": 45,
    "start_time": "2022-07-05T05:55:34.279Z"
   },
   {
    "duration": 1672,
    "start_time": "2022-07-05T05:55:40.625Z"
   },
   {
    "duration": 23,
    "start_time": "2022-07-05T05:55:42.299Z"
   },
   {
    "duration": 32,
    "start_time": "2022-07-05T05:55:42.327Z"
   },
   {
    "duration": 15,
    "start_time": "2022-07-05T05:55:42.361Z"
   },
   {
    "duration": 43,
    "start_time": "2022-07-05T05:55:42.378Z"
   },
   {
    "duration": 11,
    "start_time": "2022-07-05T05:55:42.424Z"
   },
   {
    "duration": 33,
    "start_time": "2022-07-05T05:55:42.438Z"
   },
   {
    "duration": 8,
    "start_time": "2022-07-05T05:55:42.473Z"
   },
   {
    "duration": 42,
    "start_time": "2022-07-05T05:55:42.483Z"
   },
   {
    "duration": 15,
    "start_time": "2022-07-05T05:55:42.529Z"
   },
   {
    "duration": 20,
    "start_time": "2022-07-05T05:55:42.545Z"
   },
   {
    "duration": 11,
    "start_time": "2022-07-05T05:55:42.567Z"
   },
   {
    "duration": 29,
    "start_time": "2022-07-05T05:55:42.580Z"
   },
   {
    "duration": 81,
    "start_time": "2022-07-05T05:55:42.611Z"
   },
   {
    "duration": 54,
    "start_time": "2022-07-05T05:55:42.693Z"
   },
   {
    "duration": 63,
    "start_time": "2022-07-05T05:55:42.750Z"
   },
   {
    "duration": 14,
    "start_time": "2022-07-05T05:55:42.815Z"
   },
   {
    "duration": 18,
    "start_time": "2022-07-05T05:55:42.831Z"
   },
   {
    "duration": 8,
    "start_time": "2022-07-05T05:55:42.851Z"
   },
   {
    "duration": 17,
    "start_time": "2022-07-05T05:55:42.861Z"
   },
   {
    "duration": 54,
    "start_time": "2022-07-05T05:55:42.880Z"
   },
   {
    "duration": 52,
    "start_time": "2022-07-05T05:55:42.936Z"
   },
   {
    "duration": 53,
    "start_time": "2022-07-05T05:55:42.989Z"
   },
   {
    "duration": 16,
    "start_time": "2022-07-05T05:55:43.045Z"
   },
   {
    "duration": 128,
    "start_time": "2022-07-05T05:55:43.063Z"
   },
   {
    "duration": 0,
    "start_time": "2022-07-05T05:55:43.194Z"
   },
   {
    "duration": 0,
    "start_time": "2022-07-05T05:55:43.195Z"
   },
   {
    "duration": 0,
    "start_time": "2022-07-05T05:55:43.200Z"
   },
   {
    "duration": 0,
    "start_time": "2022-07-05T05:55:43.201Z"
   },
   {
    "duration": 0,
    "start_time": "2022-07-05T05:55:43.202Z"
   },
   {
    "duration": 0,
    "start_time": "2022-07-05T05:55:43.204Z"
   },
   {
    "duration": 0,
    "start_time": "2022-07-05T05:55:43.205Z"
   },
   {
    "duration": 0,
    "start_time": "2022-07-05T05:55:43.206Z"
   },
   {
    "duration": 0,
    "start_time": "2022-07-05T05:55:43.208Z"
   },
   {
    "duration": 0,
    "start_time": "2022-07-05T05:55:43.209Z"
   },
   {
    "duration": 0,
    "start_time": "2022-07-05T05:55:43.210Z"
   },
   {
    "duration": 0,
    "start_time": "2022-07-05T05:55:43.211Z"
   },
   {
    "duration": 0,
    "start_time": "2022-07-05T05:55:43.212Z"
   },
   {
    "duration": 0,
    "start_time": "2022-07-05T05:55:43.212Z"
   },
   {
    "duration": 0,
    "start_time": "2022-07-05T05:55:43.213Z"
   },
   {
    "duration": 0,
    "start_time": "2022-07-05T05:55:43.213Z"
   },
   {
    "duration": 0,
    "start_time": "2022-07-05T05:55:43.214Z"
   },
   {
    "duration": 0,
    "start_time": "2022-07-05T05:55:43.215Z"
   },
   {
    "duration": 0,
    "start_time": "2022-07-05T05:55:43.215Z"
   },
   {
    "duration": 0,
    "start_time": "2022-07-05T05:55:43.216Z"
   },
   {
    "duration": 0,
    "start_time": "2022-07-05T05:55:43.216Z"
   },
   {
    "duration": 47,
    "start_time": "2022-07-05T06:03:21.115Z"
   },
   {
    "duration": 7,
    "start_time": "2022-07-05T06:03:22.327Z"
   },
   {
    "duration": 1964,
    "start_time": "2022-07-05T06:03:28.341Z"
   },
   {
    "duration": 16,
    "start_time": "2022-07-05T06:03:30.308Z"
   },
   {
    "duration": 38,
    "start_time": "2022-07-05T06:03:30.326Z"
   },
   {
    "duration": 24,
    "start_time": "2022-07-05T06:03:30.367Z"
   },
   {
    "duration": 58,
    "start_time": "2022-07-05T06:03:30.393Z"
   },
   {
    "duration": 8,
    "start_time": "2022-07-05T06:03:30.452Z"
   },
   {
    "duration": 46,
    "start_time": "2022-07-05T06:03:30.462Z"
   },
   {
    "duration": 21,
    "start_time": "2022-07-05T06:03:30.510Z"
   },
   {
    "duration": 42,
    "start_time": "2022-07-05T06:03:30.533Z"
   },
   {
    "duration": 20,
    "start_time": "2022-07-05T06:03:30.578Z"
   },
   {
    "duration": 30,
    "start_time": "2022-07-05T06:03:30.600Z"
   },
   {
    "duration": 37,
    "start_time": "2022-07-05T06:03:30.631Z"
   },
   {
    "duration": 30,
    "start_time": "2022-07-05T06:03:30.669Z"
   },
   {
    "duration": 72,
    "start_time": "2022-07-05T06:03:30.701Z"
   },
   {
    "duration": 40,
    "start_time": "2022-07-05T06:03:30.775Z"
   },
   {
    "duration": 43,
    "start_time": "2022-07-05T06:03:30.824Z"
   },
   {
    "duration": 8,
    "start_time": "2022-07-05T06:03:30.870Z"
   },
   {
    "duration": 17,
    "start_time": "2022-07-05T06:03:30.880Z"
   },
   {
    "duration": 3,
    "start_time": "2022-07-05T06:03:30.899Z"
   },
   {
    "duration": 37,
    "start_time": "2022-07-05T06:03:30.903Z"
   },
   {
    "duration": 40,
    "start_time": "2022-07-05T06:03:30.942Z"
   },
   {
    "duration": 46,
    "start_time": "2022-07-05T06:03:30.984Z"
   },
   {
    "duration": 28,
    "start_time": "2022-07-05T06:03:31.032Z"
   },
   {
    "duration": 12,
    "start_time": "2022-07-05T06:03:31.061Z"
   },
   {
    "duration": 110,
    "start_time": "2022-07-05T06:03:31.074Z"
   },
   {
    "duration": 0,
    "start_time": "2022-07-05T06:03:31.186Z"
   },
   {
    "duration": 0,
    "start_time": "2022-07-05T06:03:31.187Z"
   },
   {
    "duration": 0,
    "start_time": "2022-07-05T06:03:31.189Z"
   },
   {
    "duration": 0,
    "start_time": "2022-07-05T06:03:31.190Z"
   },
   {
    "duration": 0,
    "start_time": "2022-07-05T06:03:31.191Z"
   },
   {
    "duration": 0,
    "start_time": "2022-07-05T06:03:31.192Z"
   },
   {
    "duration": 0,
    "start_time": "2022-07-05T06:03:31.193Z"
   },
   {
    "duration": 0,
    "start_time": "2022-07-05T06:03:31.194Z"
   },
   {
    "duration": 0,
    "start_time": "2022-07-05T06:03:31.196Z"
   },
   {
    "duration": 0,
    "start_time": "2022-07-05T06:03:31.197Z"
   },
   {
    "duration": 0,
    "start_time": "2022-07-05T06:03:31.223Z"
   },
   {
    "duration": 0,
    "start_time": "2022-07-05T06:03:31.225Z"
   },
   {
    "duration": 0,
    "start_time": "2022-07-05T06:03:31.226Z"
   },
   {
    "duration": 0,
    "start_time": "2022-07-05T06:03:31.228Z"
   },
   {
    "duration": 0,
    "start_time": "2022-07-05T06:03:31.229Z"
   },
   {
    "duration": 0,
    "start_time": "2022-07-05T06:03:31.230Z"
   },
   {
    "duration": 0,
    "start_time": "2022-07-05T06:03:31.232Z"
   },
   {
    "duration": 0,
    "start_time": "2022-07-05T06:03:31.233Z"
   },
   {
    "duration": 0,
    "start_time": "2022-07-05T06:03:31.234Z"
   },
   {
    "duration": 0,
    "start_time": "2022-07-05T06:03:31.236Z"
   },
   {
    "duration": 0,
    "start_time": "2022-07-05T06:03:31.237Z"
   },
   {
    "duration": 1355,
    "start_time": "2022-07-05T06:17:19.543Z"
   },
   {
    "duration": 12,
    "start_time": "2022-07-05T06:17:20.900Z"
   },
   {
    "duration": 16,
    "start_time": "2022-07-05T06:17:20.914Z"
   },
   {
    "duration": 11,
    "start_time": "2022-07-05T06:17:20.932Z"
   },
   {
    "duration": 27,
    "start_time": "2022-07-05T06:17:20.944Z"
   },
   {
    "duration": 7,
    "start_time": "2022-07-05T06:17:20.973Z"
   },
   {
    "duration": 25,
    "start_time": "2022-07-05T06:17:20.982Z"
   },
   {
    "duration": 7,
    "start_time": "2022-07-05T06:17:21.024Z"
   },
   {
    "duration": 24,
    "start_time": "2022-07-05T06:17:21.032Z"
   },
   {
    "duration": 14,
    "start_time": "2022-07-05T06:17:21.058Z"
   },
   {
    "duration": 22,
    "start_time": "2022-07-05T06:17:21.073Z"
   },
   {
    "duration": 34,
    "start_time": "2022-07-05T06:17:21.097Z"
   },
   {
    "duration": 29,
    "start_time": "2022-07-05T06:17:21.133Z"
   },
   {
    "duration": 70,
    "start_time": "2022-07-05T06:17:21.164Z"
   },
   {
    "duration": 39,
    "start_time": "2022-07-05T06:17:21.236Z"
   },
   {
    "duration": 47,
    "start_time": "2022-07-05T06:17:21.277Z"
   },
   {
    "duration": 9,
    "start_time": "2022-07-05T06:17:21.326Z"
   },
   {
    "duration": 30,
    "start_time": "2022-07-05T06:17:21.337Z"
   },
   {
    "duration": 25,
    "start_time": "2022-07-05T06:17:21.369Z"
   },
   {
    "duration": 38,
    "start_time": "2022-07-05T06:17:21.396Z"
   },
   {
    "duration": 50,
    "start_time": "2022-07-05T06:17:21.436Z"
   },
   {
    "duration": 46,
    "start_time": "2022-07-05T06:17:21.488Z"
   },
   {
    "duration": 29,
    "start_time": "2022-07-05T06:17:21.536Z"
   },
   {
    "duration": 13,
    "start_time": "2022-07-05T06:17:21.566Z"
   },
   {
    "duration": 108,
    "start_time": "2022-07-05T06:17:21.580Z"
   },
   {
    "duration": 0,
    "start_time": "2022-07-05T06:17:21.690Z"
   },
   {
    "duration": 0,
    "start_time": "2022-07-05T06:17:21.692Z"
   },
   {
    "duration": 0,
    "start_time": "2022-07-05T06:17:21.693Z"
   },
   {
    "duration": 0,
    "start_time": "2022-07-05T06:17:21.695Z"
   },
   {
    "duration": 0,
    "start_time": "2022-07-05T06:17:21.696Z"
   },
   {
    "duration": 0,
    "start_time": "2022-07-05T06:17:21.698Z"
   },
   {
    "duration": 0,
    "start_time": "2022-07-05T06:17:21.699Z"
   },
   {
    "duration": 0,
    "start_time": "2022-07-05T06:17:21.700Z"
   },
   {
    "duration": 0,
    "start_time": "2022-07-05T06:17:21.723Z"
   },
   {
    "duration": 0,
    "start_time": "2022-07-05T06:17:21.724Z"
   },
   {
    "duration": 0,
    "start_time": "2022-07-05T06:17:21.725Z"
   },
   {
    "duration": 0,
    "start_time": "2022-07-05T06:17:21.726Z"
   },
   {
    "duration": 0,
    "start_time": "2022-07-05T06:17:21.727Z"
   },
   {
    "duration": 0,
    "start_time": "2022-07-05T06:17:21.728Z"
   },
   {
    "duration": 1,
    "start_time": "2022-07-05T06:17:21.729Z"
   },
   {
    "duration": 0,
    "start_time": "2022-07-05T06:17:21.730Z"
   },
   {
    "duration": 0,
    "start_time": "2022-07-05T06:17:21.732Z"
   },
   {
    "duration": 0,
    "start_time": "2022-07-05T06:17:21.733Z"
   },
   {
    "duration": 0,
    "start_time": "2022-07-05T06:17:21.733Z"
   },
   {
    "duration": 0,
    "start_time": "2022-07-05T06:17:21.734Z"
   },
   {
    "duration": 0,
    "start_time": "2022-07-05T06:17:21.735Z"
   },
   {
    "duration": 10,
    "start_time": "2022-07-05T06:17:59.681Z"
   },
   {
    "duration": 9,
    "start_time": "2022-07-05T06:19:02.761Z"
   },
   {
    "duration": 9,
    "start_time": "2022-07-05T06:19:43.509Z"
   },
   {
    "duration": 11,
    "start_time": "2022-07-05T06:20:18.441Z"
   },
   {
    "duration": 48,
    "start_time": "2022-07-05T06:22:27.489Z"
   },
   {
    "duration": 52,
    "start_time": "2022-07-05T06:22:42.899Z"
   },
   {
    "duration": 45,
    "start_time": "2022-07-05T06:24:36.241Z"
   },
   {
    "duration": 61,
    "start_time": "2022-07-05T06:25:15.368Z"
   },
   {
    "duration": 43,
    "start_time": "2022-07-05T06:25:48.400Z"
   },
   {
    "duration": 54,
    "start_time": "2022-07-05T06:26:06.672Z"
   },
   {
    "duration": 68,
    "start_time": "2022-07-05T06:26:14.943Z"
   },
   {
    "duration": 18,
    "start_time": "2022-07-05T06:26:38.511Z"
   },
   {
    "duration": 11,
    "start_time": "2022-07-05T06:30:08.875Z"
   },
   {
    "duration": 10,
    "start_time": "2022-07-05T06:30:20.617Z"
   },
   {
    "duration": 13,
    "start_time": "2022-07-05T06:30:34.381Z"
   },
   {
    "duration": 65,
    "start_time": "2022-07-05T06:35:22.796Z"
   },
   {
    "duration": 48,
    "start_time": "2022-07-05T06:35:53.887Z"
   },
   {
    "duration": 73,
    "start_time": "2022-07-05T06:36:08.919Z"
   },
   {
    "duration": 16,
    "start_time": "2022-07-05T06:36:36.466Z"
   },
   {
    "duration": 64,
    "start_time": "2022-07-05T06:36:43.236Z"
   },
   {
    "duration": 46,
    "start_time": "2022-07-05T06:39:12.495Z"
   },
   {
    "duration": 32,
    "start_time": "2022-07-05T06:39:22.386Z"
   },
   {
    "duration": 11,
    "start_time": "2022-07-05T06:39:35.215Z"
   },
   {
    "duration": 66,
    "start_time": "2022-07-05T06:39:36.903Z"
   },
   {
    "duration": 19,
    "start_time": "2022-07-05T06:39:49.920Z"
   },
   {
    "duration": 9,
    "start_time": "2022-07-05T06:45:08.230Z"
   },
   {
    "duration": 15,
    "start_time": "2022-07-05T06:46:54.306Z"
   },
   {
    "duration": 403,
    "start_time": "2022-07-05T06:47:27.663Z"
   },
   {
    "duration": 10,
    "start_time": "2022-07-05T06:47:28.068Z"
   },
   {
    "duration": 12,
    "start_time": "2022-07-05T06:47:28.221Z"
   },
   {
    "duration": 12,
    "start_time": "2022-07-05T06:47:28.780Z"
   },
   {
    "duration": 29,
    "start_time": "2022-07-05T06:47:28.983Z"
   },
   {
    "duration": 11,
    "start_time": "2022-07-05T06:47:29.629Z"
   },
   {
    "duration": 23,
    "start_time": "2022-07-05T06:47:29.823Z"
   },
   {
    "duration": 11,
    "start_time": "2022-07-05T06:47:30.429Z"
   },
   {
    "duration": 19,
    "start_time": "2022-07-05T06:47:30.629Z"
   },
   {
    "duration": 9,
    "start_time": "2022-07-05T06:47:31.275Z"
   },
   {
    "duration": 14,
    "start_time": "2022-07-05T06:47:31.496Z"
   },
   {
    "duration": 10,
    "start_time": "2022-07-05T06:47:32.991Z"
   },
   {
    "duration": 9,
    "start_time": "2022-07-05T06:47:33.411Z"
   },
   {
    "duration": 69,
    "start_time": "2022-07-05T06:47:33.828Z"
   },
   {
    "duration": 60,
    "start_time": "2022-07-05T06:47:34.685Z"
   },
   {
    "duration": 47,
    "start_time": "2022-07-05T06:47:35.132Z"
   },
   {
    "duration": 10,
    "start_time": "2022-07-05T06:47:35.548Z"
   },
   {
    "duration": 7,
    "start_time": "2022-07-05T06:47:36.192Z"
   },
   {
    "duration": 2,
    "start_time": "2022-07-05T06:47:36.630Z"
   },
   {
    "duration": 9,
    "start_time": "2022-07-05T06:47:37.584Z"
   },
   {
    "duration": 37,
    "start_time": "2022-07-05T06:47:42.673Z"
   },
   {
    "duration": 44,
    "start_time": "2022-07-05T06:47:43.284Z"
   },
   {
    "duration": 31,
    "start_time": "2022-07-05T06:47:43.908Z"
   },
   {
    "duration": 17,
    "start_time": "2022-07-05T06:47:44.334Z"
   },
   {
    "duration": 13,
    "start_time": "2022-07-05T06:47:44.784Z"
   },
   {
    "duration": 24,
    "start_time": "2022-07-05T06:47:45.005Z"
   },
   {
    "duration": 16,
    "start_time": "2022-07-05T06:48:13.365Z"
   },
   {
    "duration": 48,
    "start_time": "2022-07-05T06:52:59.743Z"
   },
   {
    "duration": 70,
    "start_time": "2022-07-05T06:53:31.321Z"
   },
   {
    "duration": 33,
    "start_time": "2022-07-05T06:53:35.682Z"
   },
   {
    "duration": 29,
    "start_time": "2022-07-05T06:54:39.687Z"
   },
   {
    "duration": 13,
    "start_time": "2022-07-05T06:55:41.766Z"
   },
   {
    "duration": 13,
    "start_time": "2022-07-05T06:59:28.012Z"
   },
   {
    "duration": 12,
    "start_time": "2022-07-05T07:02:50.872Z"
   },
   {
    "duration": 2525,
    "start_time": "2022-07-05T07:10:19.140Z"
   },
   {
    "duration": 22,
    "start_time": "2022-07-05T07:11:26.716Z"
   },
   {
    "duration": 54,
    "start_time": "2022-07-05T07:11:48.597Z"
   },
   {
    "duration": 23,
    "start_time": "2022-07-05T07:12:40.314Z"
   },
   {
    "duration": 81,
    "start_time": "2022-07-05T07:15:27.312Z"
   },
   {
    "duration": 21,
    "start_time": "2022-07-05T07:15:28.542Z"
   },
   {
    "duration": 46,
    "start_time": "2022-07-05T07:15:30.046Z"
   },
   {
    "duration": 16,
    "start_time": "2022-07-05T07:23:43.814Z"
   },
   {
    "duration": 15,
    "start_time": "2022-07-05T07:25:13.990Z"
   },
   {
    "duration": 14,
    "start_time": "2022-07-05T07:25:25.438Z"
   },
   {
    "duration": 16,
    "start_time": "2022-07-05T07:25:50.513Z"
   },
   {
    "duration": 1455,
    "start_time": "2022-07-05T07:26:15.836Z"
   },
   {
    "duration": 16,
    "start_time": "2022-07-05T07:26:17.294Z"
   },
   {
    "duration": 15,
    "start_time": "2022-07-05T07:26:17.312Z"
   },
   {
    "duration": 20,
    "start_time": "2022-07-05T07:26:17.331Z"
   },
   {
    "duration": 44,
    "start_time": "2022-07-05T07:26:17.353Z"
   },
   {
    "duration": 19,
    "start_time": "2022-07-05T07:26:17.399Z"
   },
   {
    "duration": 27,
    "start_time": "2022-07-05T07:26:17.423Z"
   },
   {
    "duration": 16,
    "start_time": "2022-07-05T07:26:17.452Z"
   },
   {
    "duration": 36,
    "start_time": "2022-07-05T07:26:17.470Z"
   },
   {
    "duration": 17,
    "start_time": "2022-07-05T07:26:17.510Z"
   },
   {
    "duration": 16,
    "start_time": "2022-07-05T07:26:17.529Z"
   },
   {
    "duration": 14,
    "start_time": "2022-07-05T07:26:17.547Z"
   },
   {
    "duration": 11,
    "start_time": "2022-07-05T07:26:17.562Z"
   },
   {
    "duration": 69,
    "start_time": "2022-07-05T07:26:17.575Z"
   },
   {
    "duration": 41,
    "start_time": "2022-07-05T07:26:17.645Z"
   },
   {
    "duration": 49,
    "start_time": "2022-07-05T07:26:17.687Z"
   },
   {
    "duration": 10,
    "start_time": "2022-07-05T07:26:17.737Z"
   },
   {
    "duration": 18,
    "start_time": "2022-07-05T07:26:17.749Z"
   },
   {
    "duration": 4,
    "start_time": "2022-07-05T07:26:17.768Z"
   },
   {
    "duration": 14,
    "start_time": "2022-07-05T07:26:17.774Z"
   },
   {
    "duration": 50,
    "start_time": "2022-07-05T07:26:17.789Z"
   },
   {
    "duration": 48,
    "start_time": "2022-07-05T07:26:17.840Z"
   },
   {
    "duration": 47,
    "start_time": "2022-07-05T07:26:17.890Z"
   },
   {
    "duration": 11,
    "start_time": "2022-07-05T07:26:17.939Z"
   },
   {
    "duration": 111,
    "start_time": "2022-07-05T07:26:17.952Z"
   },
   {
    "duration": 0,
    "start_time": "2022-07-05T07:26:18.065Z"
   },
   {
    "duration": 0,
    "start_time": "2022-07-05T07:26:18.066Z"
   },
   {
    "duration": 0,
    "start_time": "2022-07-05T07:26:18.067Z"
   },
   {
    "duration": 0,
    "start_time": "2022-07-05T07:26:18.068Z"
   },
   {
    "duration": 0,
    "start_time": "2022-07-05T07:26:18.069Z"
   },
   {
    "duration": 0,
    "start_time": "2022-07-05T07:26:18.071Z"
   },
   {
    "duration": 0,
    "start_time": "2022-07-05T07:26:18.071Z"
   },
   {
    "duration": 0,
    "start_time": "2022-07-05T07:26:18.072Z"
   },
   {
    "duration": 0,
    "start_time": "2022-07-05T07:26:18.073Z"
   },
   {
    "duration": 0,
    "start_time": "2022-07-05T07:26:18.075Z"
   },
   {
    "duration": 0,
    "start_time": "2022-07-05T07:26:18.076Z"
   },
   {
    "duration": 0,
    "start_time": "2022-07-05T07:26:18.077Z"
   },
   {
    "duration": 0,
    "start_time": "2022-07-05T07:26:18.079Z"
   },
   {
    "duration": 0,
    "start_time": "2022-07-05T07:26:18.080Z"
   },
   {
    "duration": 0,
    "start_time": "2022-07-05T07:26:18.081Z"
   },
   {
    "duration": 0,
    "start_time": "2022-07-05T07:26:18.083Z"
   },
   {
    "duration": 0,
    "start_time": "2022-07-05T07:26:18.084Z"
   },
   {
    "duration": 0,
    "start_time": "2022-07-05T07:26:18.086Z"
   },
   {
    "duration": 0,
    "start_time": "2022-07-05T07:26:18.087Z"
   },
   {
    "duration": 0,
    "start_time": "2022-07-05T07:26:18.124Z"
   },
   {
    "duration": 0,
    "start_time": "2022-07-05T07:26:18.125Z"
   },
   {
    "duration": 434,
    "start_time": "2022-07-05T07:26:23.624Z"
   },
   {
    "duration": 10,
    "start_time": "2022-07-05T07:26:24.060Z"
   },
   {
    "duration": 12,
    "start_time": "2022-07-05T07:26:24.143Z"
   },
   {
    "duration": 10,
    "start_time": "2022-07-05T07:26:24.671Z"
   },
   {
    "duration": 26,
    "start_time": "2022-07-05T07:26:24.847Z"
   },
   {
    "duration": 10,
    "start_time": "2022-07-05T07:26:25.367Z"
   },
   {
    "duration": 32,
    "start_time": "2022-07-05T07:26:25.551Z"
   },
   {
    "duration": 10,
    "start_time": "2022-07-05T07:26:26.120Z"
   },
   {
    "duration": 24,
    "start_time": "2022-07-05T07:26:26.312Z"
   },
   {
    "duration": 8,
    "start_time": "2022-07-05T07:26:27.888Z"
   },
   {
    "duration": 11,
    "start_time": "2022-07-05T07:26:28.255Z"
   },
   {
    "duration": 8,
    "start_time": "2022-07-05T07:26:30.584Z"
   },
   {
    "duration": 9,
    "start_time": "2022-07-05T07:26:30.967Z"
   },
   {
    "duration": 51,
    "start_time": "2022-07-05T07:26:31.367Z"
   },
   {
    "duration": 50,
    "start_time": "2022-07-05T07:26:32.215Z"
   },
   {
    "duration": 33,
    "start_time": "2022-07-05T07:26:32.608Z"
   },
   {
    "duration": 9,
    "start_time": "2022-07-05T07:26:33.007Z"
   },
   {
    "duration": 6,
    "start_time": "2022-07-05T07:26:33.639Z"
   },
   {
    "duration": 2,
    "start_time": "2022-07-05T07:26:34.055Z"
   },
   {
    "duration": 8,
    "start_time": "2022-07-05T07:26:35.367Z"
   },
   {
    "duration": 34,
    "start_time": "2022-07-05T07:26:35.912Z"
   },
   {
    "duration": 44,
    "start_time": "2022-07-05T07:26:36.319Z"
   },
   {
    "duration": 30,
    "start_time": "2022-07-05T07:26:36.927Z"
   },
   {
    "duration": 17,
    "start_time": "2022-07-05T07:26:37.330Z"
   },
   {
    "duration": 14,
    "start_time": "2022-07-05T07:26:37.752Z"
   },
   {
    "duration": 8,
    "start_time": "2022-07-05T07:26:38.415Z"
   },
   {
    "duration": 23,
    "start_time": "2022-07-05T07:26:58.015Z"
   },
   {
    "duration": 9,
    "start_time": "2022-07-05T07:28:14.330Z"
   },
   {
    "duration": 36,
    "start_time": "2022-07-05T07:28:27.206Z"
   },
   {
    "duration": 31,
    "start_time": "2022-07-05T07:29:13.085Z"
   },
   {
    "duration": 16,
    "start_time": "2022-07-05T07:29:32.837Z"
   },
   {
    "duration": 19,
    "start_time": "2022-07-05T07:32:13.019Z"
   },
   {
    "duration": 18,
    "start_time": "2022-07-05T07:33:11.803Z"
   },
   {
    "duration": 15,
    "start_time": "2022-07-05T07:33:58.784Z"
   },
   {
    "duration": 21,
    "start_time": "2022-07-05T07:34:11.176Z"
   },
   {
    "duration": 12,
    "start_time": "2022-07-05T07:34:14.232Z"
   },
   {
    "duration": 18,
    "start_time": "2022-07-05T07:34:25.295Z"
   },
   {
    "duration": 32,
    "start_time": "2022-07-05T07:34:36.279Z"
   },
   {
    "duration": 17,
    "start_time": "2022-07-05T07:35:13.895Z"
   },
   {
    "duration": 16,
    "start_time": "2022-07-05T07:35:48.390Z"
   },
   {
    "duration": 16,
    "start_time": "2022-07-05T07:36:01.871Z"
   },
   {
    "duration": 18,
    "start_time": "2022-07-05T07:36:26.436Z"
   },
   {
    "duration": 22,
    "start_time": "2022-07-05T07:37:00.125Z"
   },
   {
    "duration": 9,
    "start_time": "2022-07-05T07:37:39.698Z"
   },
   {
    "duration": 25,
    "start_time": "2022-07-05T07:38:07.555Z"
   },
   {
    "duration": 24,
    "start_time": "2022-07-05T07:38:33.788Z"
   },
   {
    "duration": 46,
    "start_time": "2022-07-05T07:39:13.580Z"
   },
   {
    "duration": 12,
    "start_time": "2022-07-05T07:41:01.969Z"
   },
   {
    "duration": 15,
    "start_time": "2022-07-05T07:42:41.793Z"
   },
   {
    "duration": 17,
    "start_time": "2022-07-05T07:42:44.531Z"
   },
   {
    "duration": 16,
    "start_time": "2022-07-05T07:43:06.968Z"
   },
   {
    "duration": 13,
    "start_time": "2022-07-05T08:00:35.475Z"
   },
   {
    "duration": 12,
    "start_time": "2022-07-05T08:01:02.055Z"
   },
   {
    "duration": 16,
    "start_time": "2022-07-05T08:01:26.199Z"
   },
   {
    "duration": 10,
    "start_time": "2022-07-05T08:05:51.602Z"
   },
   {
    "duration": 17,
    "start_time": "2022-07-05T08:06:04.032Z"
   },
   {
    "duration": 50,
    "start_time": "2022-07-05T08:06:37.833Z"
   },
   {
    "duration": 8,
    "start_time": "2022-07-05T08:06:42.082Z"
   },
   {
    "duration": 24,
    "start_time": "2022-07-05T08:06:51.737Z"
   },
   {
    "duration": 20,
    "start_time": "2022-07-05T08:09:27.631Z"
   },
   {
    "duration": 45,
    "start_time": "2022-07-05T08:09:35.847Z"
   },
   {
    "duration": 14,
    "start_time": "2022-07-05T08:09:43.878Z"
   },
   {
    "duration": 1583,
    "start_time": "2022-07-05T08:16:53.868Z"
   },
   {
    "duration": 20,
    "start_time": "2022-07-05T08:16:55.454Z"
   },
   {
    "duration": 21,
    "start_time": "2022-07-05T08:16:55.476Z"
   },
   {
    "duration": 30,
    "start_time": "2022-07-05T08:16:55.499Z"
   },
   {
    "duration": 27,
    "start_time": "2022-07-05T08:16:55.531Z"
   },
   {
    "duration": 8,
    "start_time": "2022-07-05T08:16:55.560Z"
   },
   {
    "duration": 24,
    "start_time": "2022-07-05T08:16:55.570Z"
   },
   {
    "duration": 30,
    "start_time": "2022-07-05T08:16:55.596Z"
   },
   {
    "duration": 25,
    "start_time": "2022-07-05T08:16:55.627Z"
   },
   {
    "duration": 11,
    "start_time": "2022-07-05T08:16:55.655Z"
   },
   {
    "duration": 14,
    "start_time": "2022-07-05T08:16:55.668Z"
   },
   {
    "duration": 11,
    "start_time": "2022-07-05T08:16:55.684Z"
   },
   {
    "duration": 29,
    "start_time": "2022-07-05T08:16:55.697Z"
   },
   {
    "duration": 58,
    "start_time": "2022-07-05T08:16:55.728Z"
   },
   {
    "duration": 63,
    "start_time": "2022-07-05T08:16:55.788Z"
   },
   {
    "duration": 36,
    "start_time": "2022-07-05T08:16:55.853Z"
   },
   {
    "duration": 9,
    "start_time": "2022-07-05T08:16:55.890Z"
   },
   {
    "duration": 28,
    "start_time": "2022-07-05T08:16:55.901Z"
   },
   {
    "duration": 3,
    "start_time": "2022-07-05T08:16:55.930Z"
   },
   {
    "duration": 13,
    "start_time": "2022-07-05T08:16:55.934Z"
   },
   {
    "duration": 45,
    "start_time": "2022-07-05T08:16:55.949Z"
   },
   {
    "duration": 73,
    "start_time": "2022-07-05T08:16:55.996Z"
   },
   {
    "duration": 32,
    "start_time": "2022-07-05T08:16:56.071Z"
   },
   {
    "duration": 12,
    "start_time": "2022-07-05T08:16:56.124Z"
   },
   {
    "duration": 39,
    "start_time": "2022-07-05T08:16:56.138Z"
   },
   {
    "duration": 13,
    "start_time": "2022-07-05T08:16:56.178Z"
   },
   {
    "duration": 37,
    "start_time": "2022-07-05T08:16:56.193Z"
   },
   {
    "duration": 5,
    "start_time": "2022-07-05T08:16:56.235Z"
   },
   {
    "duration": 14,
    "start_time": "2022-07-05T08:16:56.241Z"
   },
   {
    "duration": 146,
    "start_time": "2022-07-05T08:16:56.257Z"
   },
   {
    "duration": 20,
    "start_time": "2022-07-05T08:16:56.405Z"
   },
   {
    "duration": 24,
    "start_time": "2022-07-05T08:16:56.427Z"
   },
   {
    "duration": 292,
    "start_time": "2022-07-05T08:16:56.454Z"
   },
   {
    "duration": 5,
    "start_time": "2022-07-05T08:16:56.747Z"
   },
   {
    "duration": 45,
    "start_time": "2022-07-05T08:16:56.754Z"
   },
   {
    "duration": 234,
    "start_time": "2022-07-05T08:16:56.801Z"
   },
   {
    "duration": 237,
    "start_time": "2022-07-05T08:16:57.037Z"
   },
   {
    "duration": 28,
    "start_time": "2022-07-05T08:16:57.276Z"
   },
   {
    "duration": 273,
    "start_time": "2022-07-05T08:16:57.306Z"
   },
   {
    "duration": 245,
    "start_time": "2022-07-05T08:16:57.581Z"
   },
   {
    "duration": 184,
    "start_time": "2022-07-05T08:16:57.827Z"
   },
   {
    "duration": 12,
    "start_time": "2022-07-05T08:16:58.013Z"
   },
   {
    "duration": 10,
    "start_time": "2022-07-05T08:16:58.026Z"
   },
   {
    "duration": 8,
    "start_time": "2022-07-05T08:16:58.037Z"
   },
   {
    "duration": 11,
    "start_time": "2022-07-05T08:16:58.047Z"
   },
   {
    "duration": 424,
    "start_time": "2022-07-05T08:17:03.829Z"
   },
   {
    "duration": 15,
    "start_time": "2022-07-05T08:17:04.256Z"
   },
   {
    "duration": 14,
    "start_time": "2022-07-05T08:17:04.396Z"
   },
   {
    "duration": 10,
    "start_time": "2022-07-05T08:17:04.995Z"
   },
   {
    "duration": 40,
    "start_time": "2022-07-05T08:17:05.197Z"
   },
   {
    "duration": 12,
    "start_time": "2022-07-05T08:17:05.795Z"
   },
   {
    "duration": 39,
    "start_time": "2022-07-05T08:17:06.014Z"
   },
   {
    "duration": 10,
    "start_time": "2022-07-05T08:17:06.884Z"
   },
   {
    "duration": 23,
    "start_time": "2022-07-05T08:17:07.139Z"
   },
   {
    "duration": 12,
    "start_time": "2022-07-05T08:17:07.860Z"
   },
   {
    "duration": 16,
    "start_time": "2022-07-05T08:17:08.156Z"
   },
   {
    "duration": 13,
    "start_time": "2022-07-05T08:17:09.843Z"
   },
   {
    "duration": 10,
    "start_time": "2022-07-05T08:17:10.316Z"
   },
   {
    "duration": 58,
    "start_time": "2022-07-05T08:17:11.017Z"
   },
   {
    "duration": 56,
    "start_time": "2022-07-05T08:17:11.964Z"
   },
   {
    "duration": 49,
    "start_time": "2022-07-05T08:17:12.434Z"
   },
   {
    "duration": 13,
    "start_time": "2022-07-05T08:17:12.932Z"
   },
   {
    "duration": 9,
    "start_time": "2022-07-05T08:17:13.681Z"
   },
   {
    "duration": 2,
    "start_time": "2022-07-05T08:17:14.133Z"
   },
   {
    "duration": 14,
    "start_time": "2022-07-05T08:17:14.819Z"
   },
   {
    "duration": 171,
    "start_time": "2022-07-05T08:17:15.491Z"
   },
   {
    "duration": 48,
    "start_time": "2022-07-05T08:17:15.977Z"
   },
   {
    "duration": 45,
    "start_time": "2022-07-05T08:17:16.706Z"
   },
   {
    "duration": 18,
    "start_time": "2022-07-05T08:17:17.515Z"
   },
   {
    "duration": 50,
    "start_time": "2022-07-05T08:17:18.439Z"
   },
   {
    "duration": 14,
    "start_time": "2022-07-05T08:17:19.243Z"
   },
   {
    "duration": 8,
    "start_time": "2022-07-05T08:23:00.557Z"
   },
   {
    "duration": 5,
    "start_time": "2022-07-05T08:23:02.637Z"
   },
   {
    "duration": 8,
    "start_time": "2022-07-05T08:23:11.814Z"
   },
   {
    "duration": 73,
    "start_time": "2022-07-05T08:23:12.095Z"
   },
   {
    "duration": 17,
    "start_time": "2022-07-05T08:23:12.614Z"
   },
   {
    "duration": 19,
    "start_time": "2022-07-05T08:23:13.574Z"
   },
   {
    "duration": 216,
    "start_time": "2022-07-05T08:23:14.037Z"
   },
   {
    "duration": 6,
    "start_time": "2022-07-05T08:23:14.502Z"
   },
   {
    "duration": 29,
    "start_time": "2022-07-05T08:23:15.437Z"
   },
   {
    "duration": 188,
    "start_time": "2022-07-05T08:23:15.950Z"
   },
   {
    "duration": 171,
    "start_time": "2022-07-05T08:23:16.566Z"
   },
   {
    "duration": 21,
    "start_time": "2022-07-05T08:23:17.118Z"
   },
   {
    "duration": 258,
    "start_time": "2022-07-05T08:23:17.621Z"
   },
   {
    "duration": 236,
    "start_time": "2022-07-05T08:23:18.134Z"
   },
   {
    "duration": 172,
    "start_time": "2022-07-05T08:23:18.582Z"
   },
   {
    "duration": 6,
    "start_time": "2022-07-05T08:23:20.125Z"
   },
   {
    "duration": 8,
    "start_time": "2022-07-05T08:23:20.534Z"
   },
   {
    "duration": 6,
    "start_time": "2022-07-05T08:23:21.629Z"
   },
   {
    "duration": 7,
    "start_time": "2022-07-05T08:23:21.886Z"
   },
   {
    "duration": 7,
    "start_time": "2022-07-05T08:23:22.565Z"
   },
   {
    "duration": 1556,
    "start_time": "2022-07-05T08:29:36.145Z"
   },
   {
    "duration": 15,
    "start_time": "2022-07-05T08:29:37.703Z"
   },
   {
    "duration": 14,
    "start_time": "2022-07-05T08:29:37.723Z"
   },
   {
    "duration": 15,
    "start_time": "2022-07-05T08:29:37.739Z"
   },
   {
    "duration": 27,
    "start_time": "2022-07-05T08:29:37.755Z"
   },
   {
    "duration": 8,
    "start_time": "2022-07-05T08:29:37.784Z"
   },
   {
    "duration": 55,
    "start_time": "2022-07-05T08:29:37.794Z"
   },
   {
    "duration": 10,
    "start_time": "2022-07-05T08:29:37.851Z"
   },
   {
    "duration": 32,
    "start_time": "2022-07-05T08:29:37.863Z"
   },
   {
    "duration": 27,
    "start_time": "2022-07-05T08:29:37.899Z"
   },
   {
    "duration": 16,
    "start_time": "2022-07-05T08:29:37.928Z"
   },
   {
    "duration": 10,
    "start_time": "2022-07-05T08:29:37.945Z"
   },
   {
    "duration": 11,
    "start_time": "2022-07-05T08:29:37.956Z"
   },
   {
    "duration": 69,
    "start_time": "2022-07-05T08:29:37.968Z"
   },
   {
    "duration": 42,
    "start_time": "2022-07-05T08:29:38.039Z"
   },
   {
    "duration": 49,
    "start_time": "2022-07-05T08:29:38.083Z"
   },
   {
    "duration": 12,
    "start_time": "2022-07-05T08:29:38.134Z"
   },
   {
    "duration": 9,
    "start_time": "2022-07-05T08:29:38.148Z"
   },
   {
    "duration": 2,
    "start_time": "2022-07-05T08:29:38.158Z"
   },
   {
    "duration": 11,
    "start_time": "2022-07-05T08:29:38.162Z"
   },
   {
    "duration": 72,
    "start_time": "2022-07-05T08:29:38.174Z"
   },
   {
    "duration": 47,
    "start_time": "2022-07-05T08:29:38.248Z"
   },
   {
    "duration": 55,
    "start_time": "2022-07-05T08:29:38.297Z"
   },
   {
    "duration": 14,
    "start_time": "2022-07-05T08:29:38.354Z"
   },
   {
    "duration": 57,
    "start_time": "2022-07-05T08:29:38.370Z"
   },
   {
    "duration": 19,
    "start_time": "2022-07-05T08:29:38.429Z"
   },
   {
    "duration": 8,
    "start_time": "2022-07-05T08:29:38.449Z"
   },
   {
    "duration": 4,
    "start_time": "2022-07-05T08:29:38.460Z"
   },
   {
    "duration": 14,
    "start_time": "2022-07-05T08:29:38.465Z"
   },
   {
    "duration": 103,
    "start_time": "2022-07-05T08:29:38.482Z"
   },
   {
    "duration": 30,
    "start_time": "2022-07-05T08:29:38.587Z"
   },
   {
    "duration": 32,
    "start_time": "2022-07-05T08:29:38.619Z"
   },
   {
    "duration": 261,
    "start_time": "2022-07-05T08:29:38.653Z"
   },
   {
    "duration": 10,
    "start_time": "2022-07-05T08:29:38.916Z"
   },
   {
    "duration": 39,
    "start_time": "2022-07-05T08:29:38.928Z"
   },
   {
    "duration": 222,
    "start_time": "2022-07-05T08:29:38.969Z"
   },
   {
    "duration": 175,
    "start_time": "2022-07-05T08:29:39.193Z"
   },
   {
    "duration": 22,
    "start_time": "2022-07-05T08:29:39.369Z"
   },
   {
    "duration": 268,
    "start_time": "2022-07-05T08:29:39.393Z"
   },
   {
    "duration": 252,
    "start_time": "2022-07-05T08:29:39.663Z"
   },
   {
    "duration": 187,
    "start_time": "2022-07-05T08:29:39.924Z"
   },
   {
    "duration": 14,
    "start_time": "2022-07-05T08:29:40.113Z"
   },
   {
    "duration": 11,
    "start_time": "2022-07-05T08:29:40.129Z"
   },
   {
    "duration": 6,
    "start_time": "2022-07-05T08:29:40.142Z"
   },
   {
    "duration": 11,
    "start_time": "2022-07-05T08:29:40.149Z"
   },
   {
    "duration": 1947,
    "start_time": "2022-07-05T14:32:49.624Z"
   },
   {
    "duration": 14,
    "start_time": "2022-07-05T14:32:51.573Z"
   },
   {
    "duration": 13,
    "start_time": "2022-07-05T14:32:51.588Z"
   },
   {
    "duration": 13,
    "start_time": "2022-07-05T14:32:51.603Z"
   },
   {
    "duration": 30,
    "start_time": "2022-07-05T14:32:51.618Z"
   },
   {
    "duration": 17,
    "start_time": "2022-07-05T14:32:51.650Z"
   },
   {
    "duration": 28,
    "start_time": "2022-07-05T14:32:51.668Z"
   },
   {
    "duration": 7,
    "start_time": "2022-07-05T14:32:51.698Z"
   },
   {
    "duration": 24,
    "start_time": "2022-07-05T14:32:51.706Z"
   },
   {
    "duration": 7,
    "start_time": "2022-07-05T14:32:51.732Z"
   },
   {
    "duration": 30,
    "start_time": "2022-07-05T14:32:51.740Z"
   },
   {
    "duration": 11,
    "start_time": "2022-07-05T14:32:51.771Z"
   },
   {
    "duration": 8,
    "start_time": "2022-07-05T14:32:51.784Z"
   },
   {
    "duration": 69,
    "start_time": "2022-07-05T14:32:51.795Z"
   },
   {
    "duration": 43,
    "start_time": "2022-07-05T14:32:51.866Z"
   },
   {
    "duration": 34,
    "start_time": "2022-07-05T14:32:51.910Z"
   },
   {
    "duration": 8,
    "start_time": "2022-07-05T14:32:51.963Z"
   },
   {
    "duration": 9,
    "start_time": "2022-07-05T14:32:51.973Z"
   },
   {
    "duration": 8,
    "start_time": "2022-07-05T14:32:51.983Z"
   },
   {
    "duration": 16,
    "start_time": "2022-07-05T14:32:51.992Z"
   },
   {
    "duration": 35,
    "start_time": "2022-07-05T14:32:52.010Z"
   },
   {
    "duration": 59,
    "start_time": "2022-07-05T14:32:52.046Z"
   },
   {
    "duration": 30,
    "start_time": "2022-07-05T14:32:52.107Z"
   },
   {
    "duration": 29,
    "start_time": "2022-07-05T14:32:52.138Z"
   },
   {
    "duration": 44,
    "start_time": "2022-07-05T14:32:52.169Z"
   },
   {
    "duration": 12,
    "start_time": "2022-07-05T14:32:52.215Z"
   },
   {
    "duration": 8,
    "start_time": "2022-07-05T14:32:52.228Z"
   },
   {
    "duration": 5,
    "start_time": "2022-07-05T14:32:52.263Z"
   },
   {
    "duration": 10,
    "start_time": "2022-07-05T14:32:52.269Z"
   },
   {
    "duration": 89,
    "start_time": "2022-07-05T14:32:52.281Z"
   },
   {
    "duration": 17,
    "start_time": "2022-07-05T14:32:52.372Z"
   },
   {
    "duration": 21,
    "start_time": "2022-07-05T14:32:52.391Z"
   },
   {
    "duration": 292,
    "start_time": "2022-07-05T14:32:52.414Z"
   },
   {
    "duration": 5,
    "start_time": "2022-07-05T14:32:52.708Z"
   },
   {
    "duration": 54,
    "start_time": "2022-07-05T14:32:52.715Z"
   },
   {
    "duration": 212,
    "start_time": "2022-07-05T14:32:52.770Z"
   },
   {
    "duration": 191,
    "start_time": "2022-07-05T14:32:52.984Z"
   },
   {
    "duration": 20,
    "start_time": "2022-07-05T14:32:53.176Z"
   },
   {
    "duration": 237,
    "start_time": "2022-07-05T14:32:53.197Z"
   },
   {
    "duration": 250,
    "start_time": "2022-07-05T14:32:53.435Z"
   },
   {
    "duration": 187,
    "start_time": "2022-07-05T14:32:53.689Z"
   },
   {
    "duration": 6,
    "start_time": "2022-07-05T14:32:53.878Z"
   },
   {
    "duration": 9,
    "start_time": "2022-07-05T14:32:53.886Z"
   },
   {
    "duration": 5,
    "start_time": "2022-07-05T14:32:53.896Z"
   },
   {
    "duration": 7,
    "start_time": "2022-07-05T14:32:53.903Z"
   },
   {
    "duration": 24,
    "start_time": "2022-07-05T14:34:02.735Z"
   },
   {
    "duration": 13,
    "start_time": "2022-07-05T14:35:31.235Z"
   },
   {
    "duration": 48,
    "start_time": "2022-08-23T18:35:29.931Z"
   },
   {
    "duration": 8,
    "start_time": "2022-08-23T18:35:30.322Z"
   },
   {
    "duration": 2365,
    "start_time": "2022-08-23T18:35:33.266Z"
   },
   {
    "duration": 15,
    "start_time": "2022-08-23T18:35:35.633Z"
   },
   {
    "duration": 30,
    "start_time": "2022-08-23T18:35:35.650Z"
   },
   {
    "duration": 18,
    "start_time": "2022-08-23T18:35:35.684Z"
   },
   {
    "duration": 84,
    "start_time": "2022-08-23T18:35:35.704Z"
   },
   {
    "duration": 9,
    "start_time": "2022-08-23T18:35:35.790Z"
   },
   {
    "duration": 31,
    "start_time": "2022-08-23T18:35:35.801Z"
   },
   {
    "duration": 7,
    "start_time": "2022-08-23T18:35:36.211Z"
   },
   {
    "duration": 19,
    "start_time": "2022-08-23T18:35:36.432Z"
   },
   {
    "duration": 11,
    "start_time": "2022-08-23T18:35:37.456Z"
   },
   {
    "duration": 12,
    "start_time": "2022-08-23T18:35:37.658Z"
   },
   {
    "duration": 9,
    "start_time": "2022-08-23T18:35:39.189Z"
   },
   {
    "duration": 7,
    "start_time": "2022-08-23T18:35:39.636Z"
   },
   {
    "duration": 56,
    "start_time": "2022-08-23T18:35:40.113Z"
   },
   {
    "duration": 44,
    "start_time": "2022-08-23T18:35:40.974Z"
   },
   {
    "duration": 37,
    "start_time": "2022-08-23T18:35:41.458Z"
   },
   {
    "duration": 9,
    "start_time": "2022-08-23T18:35:41.955Z"
   },
   {
    "duration": 7,
    "start_time": "2022-08-23T18:35:42.757Z"
   },
   {
    "duration": 2,
    "start_time": "2022-08-23T18:35:43.467Z"
   },
   {
    "duration": 9,
    "start_time": "2022-08-23T18:35:44.067Z"
   },
   {
    "duration": 34,
    "start_time": "2022-08-23T18:35:44.746Z"
   },
   {
    "duration": 45,
    "start_time": "2022-08-23T18:35:45.234Z"
   },
   {
    "duration": 32,
    "start_time": "2022-08-23T18:35:46.203Z"
   },
   {
    "duration": 16,
    "start_time": "2022-08-23T18:35:46.792Z"
   },
   {
    "duration": 52,
    "start_time": "2022-08-23T18:35:48.312Z"
   },
   {
    "duration": 14,
    "start_time": "2022-08-23T18:35:49.295Z"
   },
   {
    "duration": 8,
    "start_time": "2022-08-23T18:35:50.047Z"
   },
   {
    "duration": 4,
    "start_time": "2022-08-23T18:35:50.483Z"
   },
   {
    "duration": 9,
    "start_time": "2022-08-23T18:35:50.920Z"
   },
   {
    "duration": 78,
    "start_time": "2022-08-23T18:35:51.144Z"
   },
   {
    "duration": 19,
    "start_time": "2022-08-23T18:35:51.610Z"
   },
   {
    "duration": 21,
    "start_time": "2022-08-23T18:35:53.022Z"
   },
   {
    "duration": 249,
    "start_time": "2022-08-23T18:35:53.611Z"
   },
   {
    "duration": 5,
    "start_time": "2022-08-23T18:35:54.159Z"
   },
   {
    "duration": 31,
    "start_time": "2022-08-23T18:35:55.144Z"
   },
   {
    "duration": 205,
    "start_time": "2022-08-23T18:35:55.620Z"
   },
   {
    "duration": 197,
    "start_time": "2022-08-23T18:35:56.291Z"
   },
   {
    "duration": 22,
    "start_time": "2022-08-23T18:35:56.860Z"
   },
   {
    "duration": 260,
    "start_time": "2022-08-23T18:35:57.410Z"
   },
   {
    "duration": 250,
    "start_time": "2022-08-23T18:35:57.845Z"
   },
   {
    "duration": 193,
    "start_time": "2022-08-23T18:35:58.292Z"
   },
   {
    "duration": 5,
    "start_time": "2022-08-23T18:35:59.774Z"
   },
   {
    "duration": 9,
    "start_time": "2022-08-23T18:36:00.102Z"
   },
   {
    "duration": 6,
    "start_time": "2022-08-23T18:36:10.434Z"
   },
   {
    "duration": 6,
    "start_time": "2022-08-23T18:36:11.187Z"
   }
  ],
  "kernelspec": {
   "display_name": "Python 3 (ipykernel)",
   "language": "python",
   "name": "python3"
  },
  "language_info": {
   "codemirror_mode": {
    "name": "ipython",
    "version": 3
   },
   "file_extension": ".py",
   "mimetype": "text/x-python",
   "name": "python",
   "nbconvert_exporter": "python",
   "pygments_lexer": "ipython3",
   "version": "3.11.4"
  },
  "toc": {
   "base_numbering": 1,
   "nav_menu": {
    "height": "80px",
    "width": "459px"
   },
   "number_sections": true,
   "sideBar": true,
   "skip_h1_title": true,
   "title_cell": "Table of Contents",
   "title_sidebar": "Contents",
   "toc_cell": false,
   "toc_position": {
    "height": "calc(100% - 180px)",
    "left": "10px",
    "top": "150px",
    "width": "165px"
   },
   "toc_section_display": true,
   "toc_window_display": true
  }
 },
 "nbformat": 4,
 "nbformat_minor": 2
}
